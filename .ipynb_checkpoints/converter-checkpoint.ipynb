{
 "cells": [
  {
   "cell_type": "markdown",
   "id": "turned-filing",
   "metadata": {},
   "source": [
    "### Importing libraries "
   ]
  },
  {
   "cell_type": "code",
   "execution_count": 2,
   "id": "relative-checklist",
   "metadata": {},
   "outputs": [],
   "source": [
    "from CSIKit.reader import get_reader\n",
    "from CSIKit.util import csitools\n",
    "import matplotlib.pyplot as plt\n",
    "import pandas as pd\n",
    "import os"
   ]
  },
  {
   "cell_type": "code",
   "execution_count": 3,
   "id": "front-obligation",
   "metadata": {},
   "outputs": [],
   "source": [
    "folders = ['falldown', 'hand_circle', 'hand_move_up', 'nothing', \"smoking\", 'walking_along', 'walking_perpendicular']"
   ]
  },
  {
   "cell_type": "markdown",
   "id": "ceramic-distinction",
   "metadata": {},
   "source": [
    "### Cycle that converts every file to csv and saves to folders"
   ]
  },
  {
   "cell_type": "code",
   "execution_count": 4,
   "id": "atomic-addition",
   "metadata": {},
   "outputs": [
    {
     "name": "stdout",
     "output_type": "stream",
     "text": [
      "csi_tests/falldown/output.pcap\n",
      "62\n",
      "csi_tests/falldown/output1.pcap\n",
      "65\n",
      "csi_tests/falldown/output2.pcap\n",
      "89\n",
      "csi_tests/falldown/output3.pcap\n",
      "115\n",
      "csi_tests/falldown/output4.pcap\n",
      "115\n",
      "csi_tests/falldown/output5.pcap\n",
      "93\n",
      "csi_tests/falldown/output6.pcap\n",
      "91\n",
      "csi_tests/hand_circle/output.pcap\n",
      "111\n",
      "csi_tests/hand_circle/output1.pcap\n",
      "93\n",
      "csi_tests/hand_circle/output2.pcap\n",
      "130\n",
      "csi_tests/hand_circle/output3.pcap\n",
      "149\n",
      "csi_tests/hand_circle/output4.pcap\n",
      "90\n",
      "csi_tests/hand_circle/output5.pcap\n",
      "95\n",
      "csi_tests/hand_circle/output6.pcap\n",
      "61\n",
      "csi_tests/hand_move_up/output.pcap\n",
      "88\n",
      "csi_tests/hand_move_up/output1.pcap\n",
      "99\n",
      "csi_tests/hand_move_up/output2.pcap\n",
      "152\n",
      "csi_tests/hand_move_up/output3.pcap\n",
      "108\n",
      "csi_tests/hand_move_up/output4.pcap\n",
      "125\n",
      "csi_tests/hand_move_up/output5.pcap\n",
      "103\n",
      "csi_tests/hand_move_up/output6.pcap\n",
      "210\n",
      "csi_tests/nothing/output.pcap\n",
      "110\n",
      "csi_tests/nothing/output1.pcap\n",
      "183\n",
      "csi_tests/nothing/output2.pcap\n",
      "145\n",
      "csi_tests/nothing/output3.pcap\n",
      "171\n",
      "csi_tests/nothing/output4.pcap\n",
      "162\n",
      "csi_tests/nothing/output5.pcap\n",
      "141\n",
      "csi_tests/nothing/output6.pcap\n",
      "152\n",
      "csi_tests/smoking/output.pcap\n",
      "63\n",
      "csi_tests/smoking/output1.pcap\n",
      "52\n",
      "csi_tests/smoking/output2.pcap\n",
      "52\n",
      "csi_tests/smoking/output3.pcap\n",
      "66\n",
      "csi_tests/smoking/output4.pcap\n",
      "103\n",
      "csi_tests/smoking/output5.pcap\n",
      "48\n",
      "csi_tests/smoking/output6.pcap\n",
      "74\n",
      "csi_tests/walking_along/output.pcap\n",
      "339\n",
      "csi_tests/walking_along/output1.pcap\n",
      "257\n",
      "csi_tests/walking_along/output2.pcap\n",
      "213\n",
      "csi_tests/walking_along/output3.pcap\n",
      "136\n",
      "csi_tests/walking_along/output4.pcap\n",
      "213\n",
      "csi_tests/walking_along/output5.pcap\n",
      "180\n",
      "csi_tests/walking_along/output6.pcap\n",
      "138\n",
      "csi_tests/walking_perpendicular/output.pcap\n",
      "132\n",
      "csi_tests/walking_perpendicular/output1.pcap\n",
      "71\n",
      "csi_tests/walking_perpendicular/output2.pcap\n",
      "101\n",
      "csi_tests/walking_perpendicular/output3.pcap\n",
      "147\n",
      "csi_tests/walking_perpendicular/output4.pcap\n",
      "127\n",
      "csi_tests/walking_perpendicular/output5.pcap\n",
      "101\n",
      "csi_tests/walking_perpendicular/output6.pcap\n",
      "134\n"
     ]
    }
   ],
   "source": [
    "for folder in folders:\n",
    "    for i in range(7):\n",
    "        num = i\n",
    "        if num == 0: num = ''\n",
    "        with open(f'csv_folders/{folder}/output{num}.csv', 'w') as file:\n",
    "            print(f\"csi_tests/{folder}/output{num}.pcap\")\n",
    "            my_reader = get_reader(f\"csi_tests/{folder}/output{num}.pcap\")\n",
    "            csi_data = my_reader.read_file(f\"csi_tests/{folder}/output{num}.pcap\")\n",
    "            csi_amplitude, no_frames, no_subcarriers = csitools.get_CSI(csi_data, metric=\"amplitude\")\n",
    "            df = pd.DataFrame(csi_amplitude.reshape(no_frames, no_subcarriers))\n",
    "            print(len(df))\n",
    "            df.to_csv(file)"
   ]
  },
  {
   "cell_type": "code",
   "execution_count": 5,
   "id": "ranging-place",
   "metadata": {},
   "outputs": [],
   "source": [
    "csi_matrix = pd.DataFrame(pd.read_csv(\"csv_folders/falldown/output.csv\"))"
   ]
  },
  {
   "cell_type": "code",
   "execution_count": null,
   "id": "developmental-packaging",
   "metadata": {},
   "outputs": [],
   "source": []
  }
 ],
 "metadata": {
  "kernelspec": {
   "display_name": "Python 3",
   "language": "python",
   "name": "python3"
  },
  "language_info": {
   "codemirror_mode": {
    "name": "ipython",
    "version": 3
   },
   "file_extension": ".py",
   "mimetype": "text/x-python",
   "name": "python",
   "nbconvert_exporter": "python",
   "pygments_lexer": "ipython3",
   "version": "3.9.2"
  }
 },
 "nbformat": 4,
 "nbformat_minor": 5
}

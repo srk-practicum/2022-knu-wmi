{
 "cells": [
  {
   "cell_type": "code",
   "execution_count": null,
   "metadata": {
    "id": "Jiqzqe9cAkqv"
   },
   "outputs": [],
   "source": [
    "!pip2 install pandas\n",
    "!pip2 install sklearn"
   ]
  },
  {
   "cell_type": "code",
   "execution_count": null,
   "metadata": {
    "id": "qPuPea70PfzP"
   },
   "outputs": [],
   "source": [
    "import logging\n",
    "import pandas as pd\n",
    "from sklearn.metrics import roc_curve, auc\n",
    "from sklearn.metrics import classification_report, confusion_matrix\n",
    "from sklearn.ensemble import RandomForestClassifier\n",
    "from sklearn.model_selection import KFold\n",
    "from sklearn.model_selection import GridSearchCV\n",
    "from sklearn.model_selection import train_test_split"
   ]
  },
  {
   "cell_type": "code",
   "execution_count": null,
   "metadata": {
    "id": "lI6ldd1JPfzR",
    "scrolled": true
   },
   "outputs": [],
   "source": [
    "dataset = pd.read_csv(\"csi.csv\")\n",
    "dataset"
   ]
  },
  {
   "cell_type": "code",
   "execution_count": null,
   "metadata": {
    "id": "EJkpIv5iPfzS"
   },
   "outputs": [],
   "source": [
    "dataset = dataset.drop(columns=['Unnamed: 0'])\n",
    "dataset"
   ]
  },
  {
   "cell_type": "code",
   "execution_count": null,
   "metadata": {
    "id": "FUjVBXmhCwBy"
   },
   "outputs": [],
   "source": [
    "from sklearn import preprocessing\n",
    "labels = dataset['label']\n",
    "dataset = dataset.drop(columns=['label'])\n",
    "le = preprocessing.LabelEncoder()\n",
    "le.fit(labels)\n",
    "labels = le.transform(labels)"
   ]
  },
  {
   "cell_type": "code",
   "execution_count": null,
   "metadata": {
    "id": "qfk7To-0PfzU",
    "outputId": "27358b98-aa8c-40c8-ccca-d83208aca2c7"
   },
   "outputs": [
    {
     "name": "stdout",
     "output_type": "stream",
     "text": [
      "['brushteeth' 'cook' 'drink' 'getintobed' 'nothing' 'petcat'\n",
      " 'sitdown_chair' 'sitdown_sofa' 'sleeping' 'standup_chair' 'standup_sofa'\n",
      " 'test' 'walk' 'washingdishes']\n",
      "['brushteeth', 'cook', 'drink', 'getintobed', 'nothing', 'petcat', 'sitdown_chair', 'sitdown_sofa', 'sleeping', 'standup_chair', 'standup_sofa', 'test', 'walk', 'washingdishes']\n"
     ]
    }
   ],
   "source": [
    "print(le.classes_)\n",
    "print(list(le.classes_))"
   ]
  },
  {
   "cell_type": "code",
   "execution_count": null,
   "metadata": {
    "id": "91Nq7KfbC0gl",
    "outputId": "3ea4bd79-055b-4dd4-f63e-1d2ba148a114"
   },
   "outputs": [
    {
     "data": {
      "text/plain": [
       "(968, 252001)"
      ]
     },
     "execution_count": 15,
     "metadata": {},
     "output_type": "execute_result"
    }
   ],
   "source": [
    "dataset['label'] = labels\n",
    "dataset.shape"
   ]
  },
  {
   "cell_type": "code",
   "execution_count": null,
   "metadata": {
    "id": "AplEoXYDC3sz"
   },
   "outputs": [],
   "source": [
    "# # Split train, test data with different dataset\n",
    "# train_feature = df.drop(columns=['label'])\n",
    "# train_target = df['label']\n",
    "#\n",
    "# test_feature = test_df.drop(columns=['label'])\n",
    "# test_target = test_df['label']\n",
    "\n",
    "# Split dataset\n",
    "train_data, test_data = train_test_split(dataset, test_size=0.3)\n",
    "train_feature = train_data.drop(columns=['label'])\n",
    "train_target = train_data['label']\n",
    "\n",
    "test_feature = test_data.drop(columns=['label'])\n",
    "test_target = test_data['label']"
   ]
  },
  {
   "cell_type": "code",
   "execution_count": null,
   "metadata": {
    "id": "EgJEN0s0C6Y9",
    "outputId": "7d5a7d74-72fe-4d41-c160-175ebf20ccd8"
   },
   "outputs": [
    {
     "name": "stdout",
     "output_type": "stream",
     "text": [
      "{'warm_start': False, 'oob_score': True, 'n_jobs': -1, 'min_impurity_decrease': 0.0, 'verbose': 0, 'max_leaf_nodes': None, 'bootstrap': True, 'min_samples_leaf': 1, 'n_estimators': 'warn', 'min_samples_split': 2, 'min_weight_fraction_leaf': 0.0, 'criterion': 'gini', 'random_state': 1, 'min_impurity_split': None, 'max_features': 'auto', 'max_depth': None, 'class_weight': None}\n"
     ]
    }
   ],
   "source": [
    "model = RandomForestClassifier(max_features='auto', oob_score=True, random_state=1, n_jobs=-1)\n",
    "print(model.get_params())"
   ]
  },
  {
   "cell_type": "code",
   "execution_count": null,
   "metadata": {
    "id": "9H_NvFad9bWv"
   },
   "outputs": [],
   "source": [
    "param_grid = { \"criterion\" : [\"gini\", \"entropy\"], \n",
    "               \"min_samples_leaf\" : [1, 5, 10], \n",
    "               \"min_samples_split\" : [2, 4, 10, 12, 16], \n",
    "               \"n_estimators\": [50, 100, 400, 700, 1000]}\n",
    "gs = GridSearchCV(estimator=model, param_grid=param_grid, scoring='accuracy', cv=3, verbose=10)\n",
    "gs = gs.fit(train_feature, train_target)"
   ]
  },
  {
   "cell_type": "code",
   "execution_count": null,
   "metadata": {
    "id": "DIyNMHEC9Oby"
   },
   "outputs": [],
   "source": [
    "print(gs.best_score_)\n",
    "print(gs.best_params_)\n",
    "print(gs.cv_results_)"
   ]
  },
  {
   "cell_type": "code",
   "execution_count": null,
   "metadata": {
    "id": "SenWzD6f9Pnt",
    "outputId": "c6e01de0-771e-4935-fe9c-9ffa4ad07bc3"
   },
   "outputs": [
    {
     "data": {
      "text/plain": [
       "0.24054982817869416"
      ]
     },
     "execution_count": 22,
     "metadata": {},
     "output_type": "execute_result"
    }
   ],
   "source": [
    "best_model = gs.best_estimator_\n",
    "best_model.score(test_feature, test_target)"
   ]
  },
  {
   "cell_type": "code",
   "execution_count": null,
   "metadata": {
    "id": "k35q4HH_AZz4"
   },
   "outputs": [],
   "source": [
    "def roc_curve_plot(model_name, fpr, tpr, roc_auc):\n",
    "    plt.plot(fpr, tpr, linewidth=2, label='Area(AUC) = %0.2f' % roc_auc)\n",
    "    plt.plot([0, 1], [0, 1], 'k--')\n",
    "    plt.axis([0, 1, 0, 1])\n",
    "    plt.title(model_name + ' ROC Curve')\n",
    "    plt.xlabel('False Positive Rate')\n",
    "    plt.ylabel('True Positive Rate')\n",
    "    plt.legend(loc=\"lower right\")\n",
    "    plt.show()"
   ]
  },
  {
   "cell_type": "code",
   "execution_count": null,
   "metadata": {
    "id": "bE_zThefAaY3",
    "outputId": "57aab4f1-7328-4b18-c5ef-e77c4db4916f"
   },
   "outputs": [
    {
     "data": {
      "text/plain": [
       "\"probs = best_model.predict_proba(test_feature)\\nprint('#prob')\\nprint(probs)\\npreds = probs[:, 1]\\nfpr, tpr, threshold = roc_curve(test_target, preds)\\nroc_auc = auc(fpr, tpr)\\n\\n# Show ROC curve plot\\nroc_curve_plot('RandomForest', fpr, tpr, roc_auc)\""
      ]
     },
     "execution_count": 24,
     "metadata": {},
     "output_type": "execute_result"
    }
   ],
   "source": [
    "pred = best_model.predict(test_feature)\n",
    "#pred = le.inverse_transform(pred)\n",
    "#print(pred)\n",
    "# Get ROC accuracy score\n",
    "\"\"\"probs = best_model.predict_proba(test_feature)\n",
    "print('#prob')\n",
    "print(probs)\n",
    "preds = probs[:, 1]\n",
    "fpr, tpr, threshold = roc_curve(test_target, preds)\n",
    "roc_auc = auc(fpr, tpr)\n",
    "\n",
    "# Show ROC curve plot\n",
    "roc_curve_plot('RandomForest', fpr, tpr, roc_auc)\"\"\""
   ]
  },
  {
   "cell_type": "code",
   "execution_count": null,
   "metadata": {
    "id": "MP0iIZlhBe-K"
   },
   "outputs": [],
   "source": [
    "print(classification_report(test_target, pred))"
   ]
  },
  {
   "cell_type": "code",
   "execution_count": null,
   "metadata": {
    "id": "r7Ie9vj3Pfzf",
    "outputId": "93fdafd5-8a59-4d78-9e71-493670c63b45"
   },
   "outputs": [
    {
     "data": {
      "image/png": "[encoded data removed]",
      "text/plain": [
       "<Figure size 1584x1584 with 2 Axes>"
      ]
     },
     "metadata": {
      "needs_background": "light"
     },
     "output_type": "display_data"
    }
   ],
   "source": [
    "import seaborn as sns\n",
    "import matplotlib.pyplot as plt\n",
    "\n",
    "plt.figure(figsize = (22, 22))\n",
    "cf_matrix = confusion_matrix(test_target, pred)\n",
    "ax = sns.heatmap(cf_matrix, annot=True, cmap='Blues')\n",
    "\n",
    "ax.set_title('Confusion Matrix\\n');\n",
    "ax.set_xlabel('\\nPredicted Values')\n",
    "ax.set_ylabel('Actual Values ');\n",
    "\n",
    "## Ticket labels - List must be in alphabetical order\n",
    "ax.xaxis.set_ticklabels(le.classes_)\n",
    "ax.yaxis.set_ticklabels(le.classes_, rotation=90, va=\"center\")\n",
    "## Display the visualization of the Confusion Matrix.\n",
    "plt.show()"
   ]
  },
  {
   "cell_type": "code",
   "execution_count": null,
   "metadata": {
    "id": "T7jJbv7tPfzg"
   },
   "outputs": [],
   "source": [
    "import cPickle\n",
    "\n",
    "with open('randomForest.pickle', 'wb') as f:\n",
    "    cPickle.dump(best_model, f)\n",
    "#with open('randomForest.pickle', 'rb') as f:\n",
    "#    rf = cPickle.load(f)\n"
   ]
  },
  {
   "cell_type": "code",
   "execution_count": null,
   "metadata": {
    "id": "MyP6O9yePfzi"
   },
   "outputs": [],
   "source": [
    ""
   ]
  }
 ],
 "metadata": {
  "accelerator": "GPU",
  "colab": {
   "collapsed_sections": [],
   "name": "randomForest.ipynb",
   "provenance": []
  },
  "kernelspec": {
   "display_name": "Python 2",
   "language": "python",
   "name": "python2"
  },
  "language_info": {
   "codemirror_mode": {
    "name": "ipython",
    "version": 2
   },
   "file_extension": ".py",
   "mimetype": "text/x-python",
   "name": "python",
   "nbconvert_exporter": "python",
   "pygments_lexer": "ipython2",
   "version": "2.7.12"
  }
 },
 "nbformat": 4,
 "nbformat_minor": 0
}

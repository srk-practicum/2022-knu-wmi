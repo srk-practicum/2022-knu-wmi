{
 "cells": [
  {
   "cell_type": "code",
   "execution_count": 1,
   "id": "1b873aaa",
   "metadata": {},
   "outputs": [],
   "source": [
    "import os\n",
    "import pandas\n",
    "import matplotlib.pyplot as plt"
   ]
  },
  {
   "cell_type": "markdown",
   "source": [
    "## DOT_PLOT"
   ],
   "metadata": {
    "collapsed": false,
    "pycharm": {
     "name": "#%% md\n"
    }
   }
  },
  {
   "cell_type": "code",
   "execution_count": 23,
   "outputs": [
    {
     "data": {
      "text/plain": "<matplotlib.legend.Legend at 0x1c14ad45af0>"
     },
     "execution_count": 23,
     "metadata": {},
     "output_type": "execute_result"
    },
    {
     "data": {
      "text/plain": "<Figure size 432x288 with 1 Axes>",
      "image/png": "[encoded data removed]"
     },
     "metadata": {
      "needs_background": "light"
     },
     "output_type": "display_data"
    }
   ],
   "source": [
    "dir_csv = os.listdir(\"csv_files\")\n",
    "colors = ['yellow', 'blue', 'orange', 'black', 'purple', 'brown', 'green']\n",
    "list_of_lens = []\n",
    "def len_of_same (listtt,num):\n",
    "    counterr = 0\n",
    "    for i in listtt :\n",
    "        if i == num :\n",
    "            counterr +=1\n",
    "    return counterr\n",
    "dictionary_of_dirs = {1:0,\n",
    "                      2:0,\n",
    "                      3:0,\n",
    "                      4:0,\n",
    "                      5:0,\n",
    "                      6:0,\n",
    "                      7:0,\n",
    "                      8:0,\n",
    "                      9:0,\n",
    "                      10:0,}\n",
    "for ind, i in enumerate(dir_csv):\n",
    "    files_list = os.listdir(f\"csv_files/{i}\")\n",
    "    for j in files_list:\n",
    "        len_of_package = len(pandas.DataFrame(pandas.read_csv(f\"csv_files/{i}/{j}\")))\n",
    "        if len_of_package<=100 :\n",
    "            len_of_packagee = 1\n",
    "            dictionary_of_dirs[len_of_packagee] = dictionary_of_dirs.get(len_of_packagee)+1\n",
    "            plt.scatter(len_of_packagee,dictionary_of_dirs.get(len_of_packagee), color=colors[ind])\n",
    "        elif 100<len_of_package<=200 :\n",
    "            len_of_packagee = 2\n",
    "            dictionary_of_dirs[len_of_packagee] = dictionary_of_dirs.get(len_of_packagee)+1\n",
    "            plt.scatter(len_of_packagee,dictionary_of_dirs.get(len_of_packagee), color=colors[ind])\n",
    "        elif 200<len_of_package<=300:\n",
    "            len_of_packagee = 3\n",
    "            dictionary_of_dirs[len_of_packagee] = dictionary_of_dirs.get(len_of_packagee)+1\n",
    "            plt.scatter(len_of_packagee,dictionary_of_dirs.get(len_of_packagee), color=colors[ind])\n",
    "        elif 300<len_of_package<=400:\n",
    "            len_of_packagee = 4\n",
    "            dictionary_of_dirs[len_of_packagee] = dictionary_of_dirs.get(len_of_packagee)+1\n",
    "            plt.scatter(len_of_packagee,dictionary_of_dirs.get(len_of_packagee), color=colors[ind])\n",
    "        elif 400<len_of_package<=500:\n",
    "            len_of_packagee = 5\n",
    "            dictionary_of_dirs[len_of_packagee] = dictionary_of_dirs.get(len_of_packagee)+1\n",
    "            plt.scatter(len_of_packagee,dictionary_of_dirs.get(len_of_packagee), color=colors[ind])\n",
    "        elif 500<len_of_package<=600:\n",
    "            len_of_packagee = 6\n",
    "            dictionary_of_dirs[len_of_packagee] = dictionary_of_dirs.get(len_of_packagee)+1\n",
    "            plt.scatter(len_of_packagee,dictionary_of_dirs.get(len_of_packagee), color=colors[ind])\n",
    "        elif 600<len_of_package<=700:\n",
    "            len_of_packagee = 7\n",
    "            dictionary_of_dirs[len_of_packagee] = dictionary_of_dirs.get(len_of_packagee)+1\n",
    "            plt.scatter(len_of_packagee,dictionary_of_dirs.get(len_of_packagee), color=colors[ind])\n",
    "        elif 700<len_of_package<=800:\n",
    "            len_of_packagee = 8\n",
    "            dictionary_of_dirs[len_of_packagee] = dictionary_of_dirs.get(len_of_packagee)+1\n",
    "            plt.scatter(len_of_packagee,dictionary_of_dirs.get(len_of_packagee), color=colors[ind])\n",
    "        elif 800<len_of_package<=900:\n",
    "            len_of_packagee = 9\n",
    "            dictionary_of_dirs[len_of_packagee] = dictionary_of_dirs.get(len_of_packagee)+1\n",
    "            plt.scatter(len_of_packagee,dictionary_of_dirs.get(len_of_packagee), color=colors[ind])\n",
    "        elif 900<len_of_package<=1000:\n",
    "            len_of_packagee = 10\n",
    "            dictionary_of_dirs[len_of_packagee] = dictionary_of_dirs.get(len_of_packagee)+1\n",
    "            plt.scatter(len_of_packagee,dictionary_of_dirs.get(len_of_packagee), color=colors[ind])\n",
    "    plt.scatter(len_of_packagee,dictionary_of_dirs.get(len_of_packagee), color=colors[ind], label=i)\n",
    "# print(list_of_lens)\n",
    "# print(sum(list_of_lens)/len(list_of_lens))\n",
    "plt.gca().set(xlabel='Packets', ylabel='Count')\n",
    "plt.xticks(fontsize=12)\n",
    "plt.yticks(fontsize=12)\n",
    "plt.legend(fontsize=7)"
   ],
   "metadata": {
    "collapsed": false,
    "pycharm": {
     "name": "#%%\n"
    }
   }
  },
  {
   "cell_type": "code",
   "execution_count": null,
   "outputs": [],
   "source": [],
   "metadata": {
    "collapsed": false,
    "pycharm": {
     "name": "#%%\n"
    }
   }
  }
 ],
 "metadata": {
  "kernelspec": {
   "display_name": "Python 3 (ipykernel)",
   "language": "python",
   "name": "python3"
  },
  "language_info": {
   "codemirror_mode": {
    "name": "ipython",
    "version": 3
   },
   "file_extension": ".py",
   "mimetype": "text/x-python",
   "name": "python",
   "nbconvert_exporter": "python",
   "pygments_lexer": "ipython3",
   "version": "3.9.0"
  }
 },
 "nbformat": 4,
 "nbformat_minor": 5
}
{
 "cells": [
  {
   "cell_type": "code",
   "execution_count": 1,
   "metadata": {
    "collapsed": true
   },
   "outputs": [],
   "source": [
    "import pywt\n",
    "import pywt.data\n",
    "from scipy import stats\n",
    "\n",
    "import seaborn as sns\n",
    "import numpy as np\n",
    "import matplotlib.pyplot as plt\n",
    "import os\n",
    "import pandas as pd\n",
    "import logging\n",
    "from sklearn.metrics import roc_curve, auc\n",
    "from sklearn.metrics import classification_report, confusion_matrix\n",
    "from sklearn.ensemble import RandomForestClassifier\n",
    "from sklearn.model_selection import KFold\n",
    "from sklearn.model_selection import GridSearchCV\n",
    "from sklearn.model_selection import train_test_split\n",
    "from sklearn import preprocessing"
   ]
  },
  {
   "cell_type": "code",
   "execution_count": 2,
   "outputs": [
    {
     "data": {
      "text/plain": "            0         1         2         3         4         5         6  \\\n0   -0.067809 -0.762047 -0.416549  1.948780 -0.204773 -1.173839  0.891810   \n1    1.948881  0.089588 -1.481125  1.246552 -0.710476 -0.501820  5.934144   \n2    0.608966  0.111772 -0.421240  1.382751  3.767596 -5.178909 -3.908713   \n3    0.393348  5.717174 -6.658844 -4.901330  5.990080  0.902252  0.318163   \n4    4.882826 -2.975979 -5.192090  4.430301 -0.966184 -1.624804  2.188635   \n..        ...       ...       ...       ...       ...       ...       ...   \n624  0.354850  5.182399 -5.283611 -5.884059  5.669845  0.900192 -1.430650   \n625 -0.102379 -0.501262  0.989186  0.733201 -2.129133 -0.595606  2.682647   \n626  0.438779  0.291876 -0.399282 -0.438077 -0.283263  1.786172 -0.855093   \n627 -0.274897  0.614944  0.964166 -0.100663  0.799849 -0.915927 -1.652198   \n628  0.805041 -0.640080  0.581509  1.370308 -2.407358  0.074257  1.184659   \n\n            7         8         9  ...      71631      71632      71633  \\\n0    6.308520 -5.814393 -6.315438  ...  24.663651 -16.041805   3.792237   \n1   -3.905442 -5.526724  3.676435  ...  16.002344   8.534853 -13.493778   \n2    4.963886 -0.009010 -0.895327  ...  -0.438185  -7.412204   6.885995   \n3   -2.076030  0.654516  0.299967  ...   1.033757  30.331619 -22.185490   \n4    1.718568 -1.537346 -0.924258  ... -22.185490   6.437911  24.663651   \n..        ...       ...       ...  ...        ...        ...        ...   \n624 -0.033996  2.168475 -0.272175  ...  10.775161 -14.457247  -0.300201   \n625  6.106321 -7.347481 -5.927908  ...  30.331619 -22.185490   6.437911   \n626 -1.535304  1.708284  6.457285  ...   1.033757  30.331619 -22.185490   \n627  7.660341 -4.281876 -7.224406  ...   6.437911  24.663651 -16.041805   \n628  0.077424 -0.565572  0.128973  ... -16.041805   3.792237  26.276817   \n\n         71634      71635      71636      71637      71638      71639  \\\n0    26.276817 -11.069938  -3.624025  25.414349 -22.712777  10.467984   \n1    14.220339  10.775161 -14.457247  -0.300201  36.714152 -21.434704   \n2     1.840333  -1.365980   1.303971  -4.925619  -6.564344  16.002344   \n3     6.437911  24.663651 -16.041805   3.792237  26.276817 -11.069938   \n4   -16.041805   3.792237  26.276817 -11.069938  -3.624025  25.414349   \n..         ...        ...        ...        ...        ...        ...   \n624  36.714152 -21.434704   1.033757  30.331619 -22.185490   6.437911   \n625  24.663651 -16.041805   3.792237  26.276817 -11.069938  -3.624025   \n626   6.437911  24.663651 -16.041805   3.792237  26.276817 -11.069938   \n627   3.792237  26.276817 -11.069938  -3.624025  25.414349 -22.712777   \n628 -11.069938  -3.624025  25.414349 -22.712777  10.467984  19.301298   \n\n             label  \n0       brushteeth  \n1       brushteeth  \n2       brushteeth  \n3       brushteeth  \n4       brushteeth  \n..             ...  \n624  washingdishes  \n625  washingdishes  \n626  washingdishes  \n627  washingdishes  \n628  washingdishes  \n\n[629 rows x 71641 columns]",
      "text/html": "<div>\n<style scoped>\n    .dataframe tbody tr th:only-of-type {\n        vertical-align: middle;\n    }\n\n    .dataframe tbody tr th {\n        vertical-align: top;\n    }\n\n    .dataframe thead th {\n        text-align: right;\n    }\n</style>\n<table border=\"1\" class=\"dataframe\">\n  <thead>\n    <tr style=\"text-align: right;\">\n      <th></th>\n      <th>0</th>\n      <th>1</th>\n      <th>2</th>\n      <th>3</th>\n      <th>4</th>\n      <th>5</th>\n      <th>6</th>\n      <th>7</th>\n      <th>8</th>\n      <th>9</th>\n      <th>...</th>\n      <th>71631</th>\n      <th>71632</th>\n      <th>71633</th>\n      <th>71634</th>\n      <th>71635</th>\n      <th>71636</th>\n      <th>71637</th>\n      <th>71638</th>\n      <th>71639</th>\n      <th>label</th>\n    </tr>\n  </thead>\n  <tbody>\n    <tr>\n      <th>0</th>\n      <td>-0.067809</td>\n      <td>-0.762047</td>\n      <td>-0.416549</td>\n      <td>1.948780</td>\n      <td>-0.204773</td>\n      <td>-1.173839</td>\n      <td>0.891810</td>\n      <td>6.308520</td>\n      <td>-5.814393</td>\n      <td>-6.315438</td>\n      <td>...</td>\n      <td>24.663651</td>\n      <td>-16.041805</td>\n      <td>3.792237</td>\n      <td>26.276817</td>\n      <td>-11.069938</td>\n      <td>-3.624025</td>\n      <td>25.414349</td>\n      <td>-22.712777</td>\n      <td>10.467984</td>\n      <td>brushteeth</td>\n    </tr>\n    <tr>\n      <th>1</th>\n      <td>1.948881</td>\n      <td>0.089588</td>\n      <td>-1.481125</td>\n      <td>1.246552</td>\n      <td>-0.710476</td>\n      <td>-0.501820</td>\n      <td>5.934144</td>\n      <td>-3.905442</td>\n      <td>-5.526724</td>\n      <td>3.676435</td>\n      <td>...</td>\n      <td>16.002344</td>\n      <td>8.534853</td>\n      <td>-13.493778</td>\n      <td>14.220339</td>\n      <td>10.775161</td>\n      <td>-14.457247</td>\n      <td>-0.300201</td>\n      <td>36.714152</td>\n      <td>-21.434704</td>\n      <td>brushteeth</td>\n    </tr>\n    <tr>\n      <th>2</th>\n      <td>0.608966</td>\n      <td>0.111772</td>\n      <td>-0.421240</td>\n      <td>1.382751</td>\n      <td>3.767596</td>\n      <td>-5.178909</td>\n      <td>-3.908713</td>\n      <td>4.963886</td>\n      <td>-0.009010</td>\n      <td>-0.895327</td>\n      <td>...</td>\n      <td>-0.438185</td>\n      <td>-7.412204</td>\n      <td>6.885995</td>\n      <td>1.840333</td>\n      <td>-1.365980</td>\n      <td>1.303971</td>\n      <td>-4.925619</td>\n      <td>-6.564344</td>\n      <td>16.002344</td>\n      <td>brushteeth</td>\n    </tr>\n    <tr>\n      <th>3</th>\n      <td>0.393348</td>\n      <td>5.717174</td>\n      <td>-6.658844</td>\n      <td>-4.901330</td>\n      <td>5.990080</td>\n      <td>0.902252</td>\n      <td>0.318163</td>\n      <td>-2.076030</td>\n      <td>0.654516</td>\n      <td>0.299967</td>\n      <td>...</td>\n      <td>1.033757</td>\n      <td>30.331619</td>\n      <td>-22.185490</td>\n      <td>6.437911</td>\n      <td>24.663651</td>\n      <td>-16.041805</td>\n      <td>3.792237</td>\n      <td>26.276817</td>\n      <td>-11.069938</td>\n      <td>brushteeth</td>\n    </tr>\n    <tr>\n      <th>4</th>\n      <td>4.882826</td>\n      <td>-2.975979</td>\n      <td>-5.192090</td>\n      <td>4.430301</td>\n      <td>-0.966184</td>\n      <td>-1.624804</td>\n      <td>2.188635</td>\n      <td>1.718568</td>\n      <td>-1.537346</td>\n      <td>-0.924258</td>\n      <td>...</td>\n      <td>-22.185490</td>\n      <td>6.437911</td>\n      <td>24.663651</td>\n      <td>-16.041805</td>\n      <td>3.792237</td>\n      <td>26.276817</td>\n      <td>-11.069938</td>\n      <td>-3.624025</td>\n      <td>25.414349</td>\n      <td>brushteeth</td>\n    </tr>\n    <tr>\n      <th>...</th>\n      <td>...</td>\n      <td>...</td>\n      <td>...</td>\n      <td>...</td>\n      <td>...</td>\n      <td>...</td>\n      <td>...</td>\n      <td>...</td>\n      <td>...</td>\n      <td>...</td>\n      <td>...</td>\n      <td>...</td>\n      <td>...</td>\n      <td>...</td>\n      <td>...</td>\n      <td>...</td>\n      <td>...</td>\n      <td>...</td>\n      <td>...</td>\n      <td>...</td>\n      <td>...</td>\n    </tr>\n    <tr>\n      <th>624</th>\n      <td>0.354850</td>\n      <td>5.182399</td>\n      <td>-5.283611</td>\n      <td>-5.884059</td>\n      <td>5.669845</td>\n      <td>0.900192</td>\n      <td>-1.430650</td>\n      <td>-0.033996</td>\n      <td>2.168475</td>\n      <td>-0.272175</td>\n      <td>...</td>\n      <td>10.775161</td>\n      <td>-14.457247</td>\n      <td>-0.300201</td>\n      <td>36.714152</td>\n      <td>-21.434704</td>\n      <td>1.033757</td>\n      <td>30.331619</td>\n      <td>-22.185490</td>\n      <td>6.437911</td>\n      <td>washingdishes</td>\n    </tr>\n    <tr>\n      <th>625</th>\n      <td>-0.102379</td>\n      <td>-0.501262</td>\n      <td>0.989186</td>\n      <td>0.733201</td>\n      <td>-2.129133</td>\n      <td>-0.595606</td>\n      <td>2.682647</td>\n      <td>6.106321</td>\n      <td>-7.347481</td>\n      <td>-5.927908</td>\n      <td>...</td>\n      <td>30.331619</td>\n      <td>-22.185490</td>\n      <td>6.437911</td>\n      <td>24.663651</td>\n      <td>-16.041805</td>\n      <td>3.792237</td>\n      <td>26.276817</td>\n      <td>-11.069938</td>\n      <td>-3.624025</td>\n      <td>washingdishes</td>\n    </tr>\n    <tr>\n      <th>626</th>\n      <td>0.438779</td>\n      <td>0.291876</td>\n      <td>-0.399282</td>\n      <td>-0.438077</td>\n      <td>-0.283263</td>\n      <td>1.786172</td>\n      <td>-0.855093</td>\n      <td>-1.535304</td>\n      <td>1.708284</td>\n      <td>6.457285</td>\n      <td>...</td>\n      <td>1.033757</td>\n      <td>30.331619</td>\n      <td>-22.185490</td>\n      <td>6.437911</td>\n      <td>24.663651</td>\n      <td>-16.041805</td>\n      <td>3.792237</td>\n      <td>26.276817</td>\n      <td>-11.069938</td>\n      <td>washingdishes</td>\n    </tr>\n    <tr>\n      <th>627</th>\n      <td>-0.274897</td>\n      <td>0.614944</td>\n      <td>0.964166</td>\n      <td>-0.100663</td>\n      <td>0.799849</td>\n      <td>-0.915927</td>\n      <td>-1.652198</td>\n      <td>7.660341</td>\n      <td>-4.281876</td>\n      <td>-7.224406</td>\n      <td>...</td>\n      <td>6.437911</td>\n      <td>24.663651</td>\n      <td>-16.041805</td>\n      <td>3.792237</td>\n      <td>26.276817</td>\n      <td>-11.069938</td>\n      <td>-3.624025</td>\n      <td>25.414349</td>\n      <td>-22.712777</td>\n      <td>washingdishes</td>\n    </tr>\n    <tr>\n      <th>628</th>\n      <td>0.805041</td>\n      <td>-0.640080</td>\n      <td>0.581509</td>\n      <td>1.370308</td>\n      <td>-2.407358</td>\n      <td>0.074257</td>\n      <td>1.184659</td>\n      <td>0.077424</td>\n      <td>-0.565572</td>\n      <td>0.128973</td>\n      <td>...</td>\n      <td>-16.041805</td>\n      <td>3.792237</td>\n      <td>26.276817</td>\n      <td>-11.069938</td>\n      <td>-3.624025</td>\n      <td>25.414349</td>\n      <td>-22.712777</td>\n      <td>10.467984</td>\n      <td>19.301298</td>\n      <td>washingdishes</td>\n    </tr>\n  </tbody>\n</table>\n<p>629 rows × 71641 columns</p>\n</div>"
     },
     "execution_count": 2,
     "metadata": {},
     "output_type": "execute_result"
    }
   ],
   "source": [
    "df = pd.read_csv('Vectors/train_vectors.csv')\n",
    "df"
   ],
   "metadata": {
    "collapsed": false,
    "pycharm": {
     "name": "#%%\n"
    }
   }
  },
  {
   "cell_type": "code",
   "execution_count": 36,
   "outputs": [
    {
     "data": {
      "text/plain": "            0         1         2         3         4         5         6  \\\n0    0.500560  2.042234 -0.683245 -1.861128 -0.276811  5.894530 -4.573988   \n1    0.643649 -0.295176 -0.336119  1.561823 -0.239892 -0.624344  5.763033   \n2   -0.657838  1.429356 -0.097346 -1.709545  2.169270 -0.802036 -1.598768   \n3    0.618285  1.256593  0.015521  1.256918  4.557412 -8.134831 -5.118843   \n4    1.529639  1.309762 -2.402831  0.921179  0.288996  5.644719 -5.679211   \n..        ...       ...       ...       ...       ...       ...       ...   \n148  0.088790  0.550510  5.826408 -5.255708 -5.747785  3.242717  2.016320   \n149  0.135863  1.527756 -0.464990  1.015993  6.663202 -7.632777 -6.619300   \n150  0.891223  0.635882  0.549134 -0.447213 -1.946594  1.290435 -0.423329   \n151  5.006921 -4.160723 -5.478958  4.439456  0.608932  0.560813 -0.735392   \n152  0.027216 -0.567381 -0.460047  1.871426  0.209219  4.443523 -5.457743   \n\n            7         8         9  ...      71631      71632      71633  \\\n0   -5.499111  5.062628  1.005403  ...  -8.330282  22.371421  -8.633193   \n1   -4.356357 -6.128288  4.691753  ... -19.147186   4.396462   5.857947   \n2    1.379972  6.317248 -6.194265  ... -14.457247  -0.300201  36.714152   \n3    6.982020  0.348970 -0.263611  ...   1.033757  30.331619 -22.185490   \n4   -6.757829  6.137587  0.212079  ...   6.437911  24.663651 -16.041805   \n..        ...       ...       ...  ...        ...        ...        ...   \n148  8.415044 -7.655692 -6.365683  ...  -0.300201  36.714152 -21.434704   \n149  7.239605 -1.498852 -0.926963  ...  15.875364  -3.366091  -3.125773   \n150  2.939634 -1.077305 -3.632372  ...   4.307329 -36.688645  18.899124   \n151 -0.853024  1.868195 -0.422389  ...  -8.330282  22.371421  -8.633193   \n152 -6.270620  5.820783  1.490566  ...  -2.471531  -5.449967  -5.026449   \n\n         71634      71635      71636      71637      71638      71639  \\\n0     2.614822   5.448048  -3.144809   8.171989   2.278302  -8.991496   \n1   -16.061605   2.324723   6.834325  -4.829285 -19.891230  14.635877   \n2   -21.434704   1.033757  30.331619 -22.185490   6.437911  24.663651   \n3     6.437911  24.663651 -16.041805   3.792237  26.276817 -11.069938   \n4     3.792237  26.276817 -11.069938  -3.624025  25.414349 -22.712777   \n..         ...        ...        ...        ...        ...        ...   \n148   1.033757  30.331619 -22.185490   6.437911  24.663651 -16.041805   \n149   9.086895   8.112893  -4.813356  -3.566037  16.244801  -1.792880   \n150   5.048667 -33.470864  23.242556   2.588803 -35.752156  21.183962   \n151   2.614822   5.448048  -3.144809   8.171989   2.278302  -8.991496   \n152   6.842390 -14.324546  -7.193325  11.426143 -26.064192  -3.538865   \n\n             label  \n0       brushteeth  \n1       brushteeth  \n2       brushteeth  \n3       brushteeth  \n4       brushteeth  \n..             ...  \n148  washingdishes  \n149  washingdishes  \n150  washingdishes  \n151  washingdishes  \n152  washingdishes  \n\n[153 rows x 71641 columns]",
      "text/html": "<div>\n<style scoped>\n    .dataframe tbody tr th:only-of-type {\n        vertical-align: middle;\n    }\n\n    .dataframe tbody tr th {\n        vertical-align: top;\n    }\n\n    .dataframe thead th {\n        text-align: right;\n    }\n</style>\n<table border=\"1\" class=\"dataframe\">\n  <thead>\n    <tr style=\"text-align: right;\">\n      <th></th>\n      <th>0</th>\n      <th>1</th>\n      <th>2</th>\n      <th>3</th>\n      <th>4</th>\n      <th>5</th>\n      <th>6</th>\n      <th>7</th>\n      <th>8</th>\n      <th>9</th>\n      <th>...</th>\n      <th>71631</th>\n      <th>71632</th>\n      <th>71633</th>\n      <th>71634</th>\n      <th>71635</th>\n      <th>71636</th>\n      <th>71637</th>\n      <th>71638</th>\n      <th>71639</th>\n      <th>label</th>\n    </tr>\n  </thead>\n  <tbody>\n    <tr>\n      <th>0</th>\n      <td>0.500560</td>\n      <td>2.042234</td>\n      <td>-0.683245</td>\n      <td>-1.861128</td>\n      <td>-0.276811</td>\n      <td>5.894530</td>\n      <td>-4.573988</td>\n      <td>-5.499111</td>\n      <td>5.062628</td>\n      <td>1.005403</td>\n      <td>...</td>\n      <td>-8.330282</td>\n      <td>22.371421</td>\n      <td>-8.633193</td>\n      <td>2.614822</td>\n      <td>5.448048</td>\n      <td>-3.144809</td>\n      <td>8.171989</td>\n      <td>2.278302</td>\n      <td>-8.991496</td>\n      <td>brushteeth</td>\n    </tr>\n    <tr>\n      <th>1</th>\n      <td>0.643649</td>\n      <td>-0.295176</td>\n      <td>-0.336119</td>\n      <td>1.561823</td>\n      <td>-0.239892</td>\n      <td>-0.624344</td>\n      <td>5.763033</td>\n      <td>-4.356357</td>\n      <td>-6.128288</td>\n      <td>4.691753</td>\n      <td>...</td>\n      <td>-19.147186</td>\n      <td>4.396462</td>\n      <td>5.857947</td>\n      <td>-16.061605</td>\n      <td>2.324723</td>\n      <td>6.834325</td>\n      <td>-4.829285</td>\n      <td>-19.891230</td>\n      <td>14.635877</td>\n      <td>brushteeth</td>\n    </tr>\n    <tr>\n      <th>2</th>\n      <td>-0.657838</td>\n      <td>1.429356</td>\n      <td>-0.097346</td>\n      <td>-1.709545</td>\n      <td>2.169270</td>\n      <td>-0.802036</td>\n      <td>-1.598768</td>\n      <td>1.379972</td>\n      <td>6.317248</td>\n      <td>-6.194265</td>\n      <td>...</td>\n      <td>-14.457247</td>\n      <td>-0.300201</td>\n      <td>36.714152</td>\n      <td>-21.434704</td>\n      <td>1.033757</td>\n      <td>30.331619</td>\n      <td>-22.185490</td>\n      <td>6.437911</td>\n      <td>24.663651</td>\n      <td>brushteeth</td>\n    </tr>\n    <tr>\n      <th>3</th>\n      <td>0.618285</td>\n      <td>1.256593</td>\n      <td>0.015521</td>\n      <td>1.256918</td>\n      <td>4.557412</td>\n      <td>-8.134831</td>\n      <td>-5.118843</td>\n      <td>6.982020</td>\n      <td>0.348970</td>\n      <td>-0.263611</td>\n      <td>...</td>\n      <td>1.033757</td>\n      <td>30.331619</td>\n      <td>-22.185490</td>\n      <td>6.437911</td>\n      <td>24.663651</td>\n      <td>-16.041805</td>\n      <td>3.792237</td>\n      <td>26.276817</td>\n      <td>-11.069938</td>\n      <td>brushteeth</td>\n    </tr>\n    <tr>\n      <th>4</th>\n      <td>1.529639</td>\n      <td>1.309762</td>\n      <td>-2.402831</td>\n      <td>0.921179</td>\n      <td>0.288996</td>\n      <td>5.644719</td>\n      <td>-5.679211</td>\n      <td>-6.757829</td>\n      <td>6.137587</td>\n      <td>0.212079</td>\n      <td>...</td>\n      <td>6.437911</td>\n      <td>24.663651</td>\n      <td>-16.041805</td>\n      <td>3.792237</td>\n      <td>26.276817</td>\n      <td>-11.069938</td>\n      <td>-3.624025</td>\n      <td>25.414349</td>\n      <td>-22.712777</td>\n      <td>brushteeth</td>\n    </tr>\n    <tr>\n      <th>...</th>\n      <td>...</td>\n      <td>...</td>\n      <td>...</td>\n      <td>...</td>\n      <td>...</td>\n      <td>...</td>\n      <td>...</td>\n      <td>...</td>\n      <td>...</td>\n      <td>...</td>\n      <td>...</td>\n      <td>...</td>\n      <td>...</td>\n      <td>...</td>\n      <td>...</td>\n      <td>...</td>\n      <td>...</td>\n      <td>...</td>\n      <td>...</td>\n      <td>...</td>\n      <td>...</td>\n    </tr>\n    <tr>\n      <th>148</th>\n      <td>0.088790</td>\n      <td>0.550510</td>\n      <td>5.826408</td>\n      <td>-5.255708</td>\n      <td>-5.747785</td>\n      <td>3.242717</td>\n      <td>2.016320</td>\n      <td>8.415044</td>\n      <td>-7.655692</td>\n      <td>-6.365683</td>\n      <td>...</td>\n      <td>-0.300201</td>\n      <td>36.714152</td>\n      <td>-21.434704</td>\n      <td>1.033757</td>\n      <td>30.331619</td>\n      <td>-22.185490</td>\n      <td>6.437911</td>\n      <td>24.663651</td>\n      <td>-16.041805</td>\n      <td>washingdishes</td>\n    </tr>\n    <tr>\n      <th>149</th>\n      <td>0.135863</td>\n      <td>1.527756</td>\n      <td>-0.464990</td>\n      <td>1.015993</td>\n      <td>6.663202</td>\n      <td>-7.632777</td>\n      <td>-6.619300</td>\n      <td>7.239605</td>\n      <td>-1.498852</td>\n      <td>-0.926963</td>\n      <td>...</td>\n      <td>15.875364</td>\n      <td>-3.366091</td>\n      <td>-3.125773</td>\n      <td>9.086895</td>\n      <td>8.112893</td>\n      <td>-4.813356</td>\n      <td>-3.566037</td>\n      <td>16.244801</td>\n      <td>-1.792880</td>\n      <td>washingdishes</td>\n    </tr>\n    <tr>\n      <th>150</th>\n      <td>0.891223</td>\n      <td>0.635882</td>\n      <td>0.549134</td>\n      <td>-0.447213</td>\n      <td>-1.946594</td>\n      <td>1.290435</td>\n      <td>-0.423329</td>\n      <td>2.939634</td>\n      <td>-1.077305</td>\n      <td>-3.632372</td>\n      <td>...</td>\n      <td>4.307329</td>\n      <td>-36.688645</td>\n      <td>18.899124</td>\n      <td>5.048667</td>\n      <td>-33.470864</td>\n      <td>23.242556</td>\n      <td>2.588803</td>\n      <td>-35.752156</td>\n      <td>21.183962</td>\n      <td>washingdishes</td>\n    </tr>\n    <tr>\n      <th>151</th>\n      <td>5.006921</td>\n      <td>-4.160723</td>\n      <td>-5.478958</td>\n      <td>4.439456</td>\n      <td>0.608932</td>\n      <td>0.560813</td>\n      <td>-0.735392</td>\n      <td>-0.853024</td>\n      <td>1.868195</td>\n      <td>-0.422389</td>\n      <td>...</td>\n      <td>-8.330282</td>\n      <td>22.371421</td>\n      <td>-8.633193</td>\n      <td>2.614822</td>\n      <td>5.448048</td>\n      <td>-3.144809</td>\n      <td>8.171989</td>\n      <td>2.278302</td>\n      <td>-8.991496</td>\n      <td>washingdishes</td>\n    </tr>\n    <tr>\n      <th>152</th>\n      <td>0.027216</td>\n      <td>-0.567381</td>\n      <td>-0.460047</td>\n      <td>1.871426</td>\n      <td>0.209219</td>\n      <td>4.443523</td>\n      <td>-5.457743</td>\n      <td>-6.270620</td>\n      <td>5.820783</td>\n      <td>1.490566</td>\n      <td>...</td>\n      <td>-2.471531</td>\n      <td>-5.449967</td>\n      <td>-5.026449</td>\n      <td>6.842390</td>\n      <td>-14.324546</td>\n      <td>-7.193325</td>\n      <td>11.426143</td>\n      <td>-26.064192</td>\n      <td>-3.538865</td>\n      <td>washingdishes</td>\n    </tr>\n  </tbody>\n</table>\n<p>153 rows × 71641 columns</p>\n</div>"
     },
     "execution_count": 36,
     "metadata": {},
     "output_type": "execute_result"
    }
   ],
   "source": [
    "df_test = pd.read_csv('Vectors/test_vectors.csv')\n",
    "df_test"
   ],
   "metadata": {
    "collapsed": false,
    "pycharm": {
     "name": "#%%\n"
    }
   }
  },
  {
   "cell_type": "code",
   "execution_count": 4,
   "outputs": [
    {
     "data": {
      "text/plain": "array([ 0,  0,  0,  0,  0,  0,  0,  0,  0,  0,  0,  0,  0,  0,  0,  0,  0,\n        0,  0,  0,  0,  0,  0,  0,  0,  0,  0,  0,  0,  0,  0,  0,  0,  0,\n        0,  0,  0,  0,  0,  0,  0,  0,  0,  0,  0,  0,  0,  0,  0,  0,  0,\n        0,  0,  0,  0,  0,  0,  0,  0,  0,  0,  0,  0,  0,  0,  0,  0,  0,\n        0,  1,  1,  1,  1,  1,  1,  1,  1,  1,  1,  1,  1,  1,  1,  1,  1,\n        1,  1,  1,  1,  1,  1,  1,  1,  1,  1,  1,  1,  1,  1,  1,  1,  1,\n        1,  1,  1,  1,  1,  1,  1,  1,  1,  1,  1,  1,  1,  1,  1,  1,  1,\n        1,  1,  1,  1,  1,  1,  1,  1,  1,  1,  1,  1,  1,  1,  1,  1,  1,\n        1,  1,  2,  2,  2,  2,  2,  2,  2,  2,  2,  2,  2,  2,  2,  2,  2,\n        2,  2,  2,  2,  2,  2,  2,  2,  2,  2,  2,  2,  2,  2,  2,  2,  2,\n        2,  2,  2,  2,  2,  2,  2,  2,  2,  2,  2,  2,  3,  3,  3,  3,  3,\n        3,  3,  3,  3,  3,  3,  3,  3,  3,  3,  3,  3,  3,  3,  3,  3,  3,\n        3,  3,  3,  3,  3,  3,  3,  3,  3,  3,  3,  3,  3,  3,  3,  3,  3,\n        3,  3,  3,  3,  3,  3,  3,  3,  3,  3,  3,  3,  3,  3,  3,  3,  3,\n        3,  3,  3,  3,  3,  3,  3,  3,  3,  4,  4,  4,  4,  4,  4,  4,  4,\n        4,  4,  4,  4,  4,  4,  4,  4,  4,  4,  4,  4,  4,  4,  4,  4,  4,\n        4,  4,  4,  4,  4,  4,  4,  4,  4,  4,  4,  4,  4,  4,  4,  4,  4,\n        4,  4,  4,  4,  4,  4,  4,  4,  4,  4,  4,  4,  4,  4,  4,  4,  4,\n        4,  4,  4,  4,  4,  4,  4,  4,  4,  4,  4,  4,  5,  5,  5,  5,  5,\n        5,  5,  5,  5,  5,  5,  5,  5,  5,  5,  5,  5,  5,  5,  5,  5,  5,\n        5,  5,  5,  5,  5,  5,  5,  5,  5,  6,  6,  6,  6,  6,  6,  6,  6,\n        6,  6,  6,  6,  6,  6,  6,  6,  6,  6,  6,  6,  6,  6,  6,  6,  6,\n        6,  6,  6,  6,  6,  6,  6,  6,  6,  6,  6,  6,  6,  7,  7,  7,  7,\n        7,  7,  7,  7,  7,  7,  7,  7,  7,  7,  7,  7,  7,  7,  7,  7,  7,\n        7,  7,  7,  7,  7,  7,  7,  7,  7,  7,  7,  7,  7,  7,  7,  7,  7,\n        7,  7,  7,  7,  7,  7,  7,  7,  7,  7,  7,  7,  7,  7,  7,  7,  7,\n        7,  7,  7,  7,  7,  7,  7,  7,  7,  7,  7,  7,  7,  7,  8,  8,  8,\n        8,  8,  8,  8,  8,  8,  8,  8,  8,  8,  8,  8,  8,  8,  8,  8,  8,\n        8,  8,  8,  8,  8,  8,  8,  8,  8,  8,  9,  9,  9,  9,  9,  9,  9,\n        9,  9,  9,  9,  9,  9,  9,  9,  9,  9,  9,  9,  9,  9,  9,  9,  9,\n        9,  9,  9,  9,  9,  9,  9,  9,  9,  9,  9,  9,  9,  9,  9,  9,  9,\n        9,  9,  9,  9,  9,  9,  9,  9,  9,  9,  9,  9,  9,  9,  9,  9,  9,\n        9,  9,  9,  9,  9,  9,  9,  9,  9,  9,  9,  9,  9,  9,  9,  9,  9,\n       10, 10, 10, 10, 10, 10, 10, 10, 10, 10, 10, 10, 10, 10, 10, 10, 10,\n       10, 10, 10, 10, 10, 10, 10, 10, 10, 10, 10, 10, 10, 10, 10, 10, 10,\n       10, 10, 10, 10, 10, 10, 10, 10, 10, 10, 10, 10, 10, 10, 10, 10, 10,\n       10, 10, 10, 10, 10, 10, 10, 10, 10, 10, 10, 10, 10, 10, 10, 10, 10])"
     },
     "execution_count": 4,
     "metadata": {},
     "output_type": "execute_result"
    }
   ],
   "source": [
    "labels = df['label']\n",
    "le = preprocessing.LabelEncoder()\n",
    "le.fit(labels)\n",
    "labels = le.transform(labels)\n",
    "labels"
   ],
   "metadata": {
    "collapsed": false,
    "pycharm": {
     "name": "#%%\n"
    }
   }
  },
  {
   "cell_type": "code",
   "execution_count": 5,
   "outputs": [
    {
     "data": {
      "text/plain": "            0         1         2         3         4         5         6  \\\n0   -0.067809 -0.762047 -0.416549  1.948780 -0.204773 -1.173839  0.891810   \n1    1.948881  0.089588 -1.481125  1.246552 -0.710476 -0.501820  5.934144   \n2    0.608966  0.111772 -0.421240  1.382751  3.767596 -5.178909 -3.908713   \n3    0.393348  5.717174 -6.658844 -4.901330  5.990080  0.902252  0.318163   \n4    4.882826 -2.975979 -5.192090  4.430301 -0.966184 -1.624804  2.188635   \n..        ...       ...       ...       ...       ...       ...       ...   \n624  0.354850  5.182399 -5.283611 -5.884059  5.669845  0.900192 -1.430650   \n625 -0.102379 -0.501262  0.989186  0.733201 -2.129133 -0.595606  2.682647   \n626  0.438779  0.291876 -0.399282 -0.438077 -0.283263  1.786172 -0.855093   \n627 -0.274897  0.614944  0.964166 -0.100663  0.799849 -0.915927 -1.652198   \n628  0.805041 -0.640080  0.581509  1.370308 -2.407358  0.074257  1.184659   \n\n            7         8         9  ...      71631      71632      71633  \\\n0    6.308520 -5.814393 -6.315438  ...  24.663651 -16.041805   3.792237   \n1   -3.905442 -5.526724  3.676435  ...  16.002344   8.534853 -13.493778   \n2    4.963886 -0.009010 -0.895327  ...  -0.438185  -7.412204   6.885995   \n3   -2.076030  0.654516  0.299967  ...   1.033757  30.331619 -22.185490   \n4    1.718568 -1.537346 -0.924258  ... -22.185490   6.437911  24.663651   \n..        ...       ...       ...  ...        ...        ...        ...   \n624 -0.033996  2.168475 -0.272175  ...  10.775161 -14.457247  -0.300201   \n625  6.106321 -7.347481 -5.927908  ...  30.331619 -22.185490   6.437911   \n626 -1.535304  1.708284  6.457285  ...   1.033757  30.331619 -22.185490   \n627  7.660341 -4.281876 -7.224406  ...   6.437911  24.663651 -16.041805   \n628  0.077424 -0.565572  0.128973  ... -16.041805   3.792237  26.276817   \n\n         71634      71635      71636      71637      71638      71639  label  \n0    26.276817 -11.069938  -3.624025  25.414349 -22.712777  10.467984      0  \n1    14.220339  10.775161 -14.457247  -0.300201  36.714152 -21.434704      0  \n2     1.840333  -1.365980   1.303971  -4.925619  -6.564344  16.002344      0  \n3     6.437911  24.663651 -16.041805   3.792237  26.276817 -11.069938      0  \n4   -16.041805   3.792237  26.276817 -11.069938  -3.624025  25.414349      0  \n..         ...        ...        ...        ...        ...        ...    ...  \n624  36.714152 -21.434704   1.033757  30.331619 -22.185490   6.437911     10  \n625  24.663651 -16.041805   3.792237  26.276817 -11.069938  -3.624025     10  \n626   6.437911  24.663651 -16.041805   3.792237  26.276817 -11.069938     10  \n627   3.792237  26.276817 -11.069938  -3.624025  25.414349 -22.712777     10  \n628 -11.069938  -3.624025  25.414349 -22.712777  10.467984  19.301298     10  \n\n[629 rows x 71641 columns]",
      "text/html": "<div>\n<style scoped>\n    .dataframe tbody tr th:only-of-type {\n        vertical-align: middle;\n    }\n\n    .dataframe tbody tr th {\n        vertical-align: top;\n    }\n\n    .dataframe thead th {\n        text-align: right;\n    }\n</style>\n<table border=\"1\" class=\"dataframe\">\n  <thead>\n    <tr style=\"text-align: right;\">\n      <th></th>\n      <th>0</th>\n      <th>1</th>\n      <th>2</th>\n      <th>3</th>\n      <th>4</th>\n      <th>5</th>\n      <th>6</th>\n      <th>7</th>\n      <th>8</th>\n      <th>9</th>\n      <th>...</th>\n      <th>71631</th>\n      <th>71632</th>\n      <th>71633</th>\n      <th>71634</th>\n      <th>71635</th>\n      <th>71636</th>\n      <th>71637</th>\n      <th>71638</th>\n      <th>71639</th>\n      <th>label</th>\n    </tr>\n  </thead>\n  <tbody>\n    <tr>\n      <th>0</th>\n      <td>-0.067809</td>\n      <td>-0.762047</td>\n      <td>-0.416549</td>\n      <td>1.948780</td>\n      <td>-0.204773</td>\n      <td>-1.173839</td>\n      <td>0.891810</td>\n      <td>6.308520</td>\n      <td>-5.814393</td>\n      <td>-6.315438</td>\n      <td>...</td>\n      <td>24.663651</td>\n      <td>-16.041805</td>\n      <td>3.792237</td>\n      <td>26.276817</td>\n      <td>-11.069938</td>\n      <td>-3.624025</td>\n      <td>25.414349</td>\n      <td>-22.712777</td>\n      <td>10.467984</td>\n      <td>0</td>\n    </tr>\n    <tr>\n      <th>1</th>\n      <td>1.948881</td>\n      <td>0.089588</td>\n      <td>-1.481125</td>\n      <td>1.246552</td>\n      <td>-0.710476</td>\n      <td>-0.501820</td>\n      <td>5.934144</td>\n      <td>-3.905442</td>\n      <td>-5.526724</td>\n      <td>3.676435</td>\n      <td>...</td>\n      <td>16.002344</td>\n      <td>8.534853</td>\n      <td>-13.493778</td>\n      <td>14.220339</td>\n      <td>10.775161</td>\n      <td>-14.457247</td>\n      <td>-0.300201</td>\n      <td>36.714152</td>\n      <td>-21.434704</td>\n      <td>0</td>\n    </tr>\n    <tr>\n      <th>2</th>\n      <td>0.608966</td>\n      <td>0.111772</td>\n      <td>-0.421240</td>\n      <td>1.382751</td>\n      <td>3.767596</td>\n      <td>-5.178909</td>\n      <td>-3.908713</td>\n      <td>4.963886</td>\n      <td>-0.009010</td>\n      <td>-0.895327</td>\n      <td>...</td>\n      <td>-0.438185</td>\n      <td>-7.412204</td>\n      <td>6.885995</td>\n      <td>1.840333</td>\n      <td>-1.365980</td>\n      <td>1.303971</td>\n      <td>-4.925619</td>\n      <td>-6.564344</td>\n      <td>16.002344</td>\n      <td>0</td>\n    </tr>\n    <tr>\n      <th>3</th>\n      <td>0.393348</td>\n      <td>5.717174</td>\n      <td>-6.658844</td>\n      <td>-4.901330</td>\n      <td>5.990080</td>\n      <td>0.902252</td>\n      <td>0.318163</td>\n      <td>-2.076030</td>\n      <td>0.654516</td>\n      <td>0.299967</td>\n      <td>...</td>\n      <td>1.033757</td>\n      <td>30.331619</td>\n      <td>-22.185490</td>\n      <td>6.437911</td>\n      <td>24.663651</td>\n      <td>-16.041805</td>\n      <td>3.792237</td>\n      <td>26.276817</td>\n      <td>-11.069938</td>\n      <td>0</td>\n    </tr>\n    <tr>\n      <th>4</th>\n      <td>4.882826</td>\n      <td>-2.975979</td>\n      <td>-5.192090</td>\n      <td>4.430301</td>\n      <td>-0.966184</td>\n      <td>-1.624804</td>\n      <td>2.188635</td>\n      <td>1.718568</td>\n      <td>-1.537346</td>\n      <td>-0.924258</td>\n      <td>...</td>\n      <td>-22.185490</td>\n      <td>6.437911</td>\n      <td>24.663651</td>\n      <td>-16.041805</td>\n      <td>3.792237</td>\n      <td>26.276817</td>\n      <td>-11.069938</td>\n      <td>-3.624025</td>\n      <td>25.414349</td>\n      <td>0</td>\n    </tr>\n    <tr>\n      <th>...</th>\n      <td>...</td>\n      <td>...</td>\n      <td>...</td>\n      <td>...</td>\n      <td>...</td>\n      <td>...</td>\n      <td>...</td>\n      <td>...</td>\n      <td>...</td>\n      <td>...</td>\n      <td>...</td>\n      <td>...</td>\n      <td>...</td>\n      <td>...</td>\n      <td>...</td>\n      <td>...</td>\n      <td>...</td>\n      <td>...</td>\n      <td>...</td>\n      <td>...</td>\n      <td>...</td>\n    </tr>\n    <tr>\n      <th>624</th>\n      <td>0.354850</td>\n      <td>5.182399</td>\n      <td>-5.283611</td>\n      <td>-5.884059</td>\n      <td>5.669845</td>\n      <td>0.900192</td>\n      <td>-1.430650</td>\n      <td>-0.033996</td>\n      <td>2.168475</td>\n      <td>-0.272175</td>\n      <td>...</td>\n      <td>10.775161</td>\n      <td>-14.457247</td>\n      <td>-0.300201</td>\n      <td>36.714152</td>\n      <td>-21.434704</td>\n      <td>1.033757</td>\n      <td>30.331619</td>\n      <td>-22.185490</td>\n      <td>6.437911</td>\n      <td>10</td>\n    </tr>\n    <tr>\n      <th>625</th>\n      <td>-0.102379</td>\n      <td>-0.501262</td>\n      <td>0.989186</td>\n      <td>0.733201</td>\n      <td>-2.129133</td>\n      <td>-0.595606</td>\n      <td>2.682647</td>\n      <td>6.106321</td>\n      <td>-7.347481</td>\n      <td>-5.927908</td>\n      <td>...</td>\n      <td>30.331619</td>\n      <td>-22.185490</td>\n      <td>6.437911</td>\n      <td>24.663651</td>\n      <td>-16.041805</td>\n      <td>3.792237</td>\n      <td>26.276817</td>\n      <td>-11.069938</td>\n      <td>-3.624025</td>\n      <td>10</td>\n    </tr>\n    <tr>\n      <th>626</th>\n      <td>0.438779</td>\n      <td>0.291876</td>\n      <td>-0.399282</td>\n      <td>-0.438077</td>\n      <td>-0.283263</td>\n      <td>1.786172</td>\n      <td>-0.855093</td>\n      <td>-1.535304</td>\n      <td>1.708284</td>\n      <td>6.457285</td>\n      <td>...</td>\n      <td>1.033757</td>\n      <td>30.331619</td>\n      <td>-22.185490</td>\n      <td>6.437911</td>\n      <td>24.663651</td>\n      <td>-16.041805</td>\n      <td>3.792237</td>\n      <td>26.276817</td>\n      <td>-11.069938</td>\n      <td>10</td>\n    </tr>\n    <tr>\n      <th>627</th>\n      <td>-0.274897</td>\n      <td>0.614944</td>\n      <td>0.964166</td>\n      <td>-0.100663</td>\n      <td>0.799849</td>\n      <td>-0.915927</td>\n      <td>-1.652198</td>\n      <td>7.660341</td>\n      <td>-4.281876</td>\n      <td>-7.224406</td>\n      <td>...</td>\n      <td>6.437911</td>\n      <td>24.663651</td>\n      <td>-16.041805</td>\n      <td>3.792237</td>\n      <td>26.276817</td>\n      <td>-11.069938</td>\n      <td>-3.624025</td>\n      <td>25.414349</td>\n      <td>-22.712777</td>\n      <td>10</td>\n    </tr>\n    <tr>\n      <th>628</th>\n      <td>0.805041</td>\n      <td>-0.640080</td>\n      <td>0.581509</td>\n      <td>1.370308</td>\n      <td>-2.407358</td>\n      <td>0.074257</td>\n      <td>1.184659</td>\n      <td>0.077424</td>\n      <td>-0.565572</td>\n      <td>0.128973</td>\n      <td>...</td>\n      <td>-16.041805</td>\n      <td>3.792237</td>\n      <td>26.276817</td>\n      <td>-11.069938</td>\n      <td>-3.624025</td>\n      <td>25.414349</td>\n      <td>-22.712777</td>\n      <td>10.467984</td>\n      <td>19.301298</td>\n      <td>10</td>\n    </tr>\n  </tbody>\n</table>\n<p>629 rows × 71641 columns</p>\n</div>"
     },
     "execution_count": 5,
     "metadata": {},
     "output_type": "execute_result"
    }
   ],
   "source": [
    "df['label'] = labels\n",
    "df"
   ],
   "metadata": {
    "collapsed": false,
    "pycharm": {
     "name": "#%%\n"
    }
   }
  },
  {
   "cell_type": "code",
   "execution_count": 61,
   "outputs": [
    {
     "data": {
      "text/plain": "[0,\n 0,\n 0,\n 0,\n 0,\n 0,\n 0,\n 0,\n 0,\n 0,\n 0,\n 0,\n 0,\n 0,\n 0,\n 0,\n 0,\n 0,\n 0,\n 0,\n 0,\n 0,\n 1,\n 1,\n 1,\n 1,\n 1,\n 1,\n 1,\n 1,\n 1,\n 1,\n 1,\n 1,\n 1,\n 1,\n 1,\n 1,\n 1,\n 1,\n 1,\n 1,\n 1,\n 2,\n 2,\n 2,\n 2,\n 2,\n 2,\n 2,\n 2,\n 2,\n 2,\n 2,\n 2,\n 2,\n 2,\n 2,\n 3,\n 3,\n 3,\n 3,\n 3,\n 3,\n 3,\n 3,\n 3,\n 3,\n 3,\n 3,\n 3,\n 3,\n 3,\n 3,\n 3,\n 3,\n 3,\n 4,\n 4,\n 4,\n 4,\n 4,\n 4,\n 4,\n 4,\n 4,\n 4,\n 4,\n 4,\n 4,\n 4,\n 4,\n 4,\n 4,\n 4,\n 5,\n 5,\n 5,\n 5,\n 5,\n 5,\n 5,\n 5,\n 5,\n 5,\n 6,\n 6,\n 6,\n 6,\n 6,\n 6,\n 6,\n 6,\n 7,\n 7,\n 7,\n 7,\n 7,\n 7,\n 7,\n 7,\n 7,\n 7,\n 7,\n 7,\n 7,\n 7,\n 7,\n 7,\n 7,\n 7,\n 7,\n 8,\n 8,\n 8,\n 8,\n 8,\n 8,\n 8,\n 8,\n 8,\n 8,\n 8,\n 8,\n 8,\n 8,\n 8,\n 9,\n 9,\n 9,\n 9,\n 9,\n 9,\n 9,\n 9,\n 9,\n 9,\n 9,\n 9,\n 9,\n 9,\n 9,\n 9,\n 9,\n 9,\n 10,\n 10,\n 10,\n 10,\n 10,\n 10,\n 10,\n 10,\n 10,\n 10,\n 10,\n 10,\n 10,\n 10,\n 10,\n 10,\n 10,\n 10,\n 10,\n 10,\n 10,\n 10,\n 10,\n 10]"
     },
     "execution_count": 61,
     "metadata": {},
     "output_type": "execute_result"
    }
   ],
   "source": [
    "# # Split train, test data with different dataset\n",
    "train_data, test_data = train_test_split(df, test_size=0.3)\n",
    "train_feature = train_data.drop(columns=['label'])\n",
    "train_target = sorted(train_data['label'])\n",
    "\n",
    "test_feature = test_data.drop(columns=['label'])\n",
    "test_target = sorted(test_data['label'])\n",
    "test_target"
   ],
   "metadata": {
    "collapsed": false,
    "pycharm": {
     "name": "#%%\n"
    }
   }
  },
  {
   "cell_type": "code",
   "execution_count": 7,
   "outputs": [
    {
     "name": "stdout",
     "output_type": "stream",
     "text": [
      "{'bootstrap': True, 'ccp_alpha': 0.0, 'class_weight': None, 'criterion': 'gini', 'max_depth': None, 'max_features': 'auto', 'max_leaf_nodes': None, 'max_samples': None, 'min_impurity_decrease': 0.0, 'min_samples_leaf': 1, 'min_samples_split': 2, 'min_weight_fraction_leaf': 0.0, 'n_estimators': 100, 'n_jobs': -1, 'oob_score': True, 'random_state': 1, 'verbose': 0, 'warm_start': False}\n"
     ]
    }
   ],
   "source": [
    "model = RandomForestClassifier(max_features='auto', oob_score=True, random_state=1, n_jobs=-1)\n",
    "print(model.get_params())"
   ],
   "metadata": {
    "collapsed": false,
    "pycharm": {
     "name": "#%%\n"
    }
   }
  },
  {
   "cell_type": "code",
   "execution_count": 9,
   "outputs": [
    {
     "name": "stdout",
     "output_type": "stream",
     "text": [
      "Fitting 3 folds for each of 72 candidates, totalling 216 fits\n",
      "[CV 1/3; 1/72] START criterion=gini, min_samples_leaf=1, min_samples_split=2, n_estimators=50\n",
      "[CV 1/3; 1/72] END criterion=gini, min_samples_leaf=1, min_samples_split=2, n_estimators=50;, score=0.143 total time=  11.4s\n",
      "[CV 2/3; 1/72] START criterion=gini, min_samples_leaf=1, min_samples_split=2, n_estimators=50\n",
      "[CV 2/3; 1/72] END criterion=gini, min_samples_leaf=1, min_samples_split=2, n_estimators=50;, score=0.109 total time=  10.9s\n",
      "[CV 3/3; 1/72] START criterion=gini, min_samples_leaf=1, min_samples_split=2, n_estimators=50\n",
      "[CV 3/3; 1/72] END criterion=gini, min_samples_leaf=1, min_samples_split=2, n_estimators=50;, score=0.082 total time=   9.9s\n",
      "[CV 1/3; 2/72] START criterion=gini, min_samples_leaf=1, min_samples_split=2, n_estimators=100\n",
      "[CV 1/3; 2/72] END criterion=gini, min_samples_leaf=1, min_samples_split=2, n_estimators=100;, score=0.136 total time=  17.9s\n",
      "[CV 2/3; 2/72] START criterion=gini, min_samples_leaf=1, min_samples_split=2, n_estimators=100\n",
      "[CV 2/3; 2/72] END criterion=gini, min_samples_leaf=1, min_samples_split=2, n_estimators=100;, score=0.116 total time=  18.0s\n",
      "[CV 3/3; 2/72] START criterion=gini, min_samples_leaf=1, min_samples_split=2, n_estimators=100\n",
      "[CV 3/3; 2/72] END criterion=gini, min_samples_leaf=1, min_samples_split=2, n_estimators=100;, score=0.089 total time=  18.4s\n",
      "[CV 1/3; 3/72] START criterion=gini, min_samples_leaf=1, min_samples_split=2, n_estimators=400\n",
      "[CV 1/3; 3/72] END criterion=gini, min_samples_leaf=1, min_samples_split=2, n_estimators=400;, score=0.136 total time= 1.2min\n",
      "[CV 2/3; 3/72] START criterion=gini, min_samples_leaf=1, min_samples_split=2, n_estimators=400\n",
      "[CV 2/3; 3/72] END criterion=gini, min_samples_leaf=1, min_samples_split=2, n_estimators=400;, score=0.095 total time= 1.2min\n",
      "[CV 3/3; 3/72] START criterion=gini, min_samples_leaf=1, min_samples_split=2, n_estimators=400\n",
      "[CV 3/3; 3/72] END criterion=gini, min_samples_leaf=1, min_samples_split=2, n_estimators=400;, score=0.096 total time= 1.3min\n",
      "[CV 1/3; 4/72] START criterion=gini, min_samples_leaf=1, min_samples_split=4, n_estimators=50\n",
      "[CV 1/3; 4/72] END criterion=gini, min_samples_leaf=1, min_samples_split=4, n_estimators=50;, score=0.143 total time=   6.5s\n",
      "[CV 2/3; 4/72] START criterion=gini, min_samples_leaf=1, min_samples_split=4, n_estimators=50\n",
      "[CV 2/3; 4/72] END criterion=gini, min_samples_leaf=1, min_samples_split=4, n_estimators=50;, score=0.095 total time=   6.5s\n",
      "[CV 3/3; 4/72] START criterion=gini, min_samples_leaf=1, min_samples_split=4, n_estimators=50\n",
      "[CV 3/3; 4/72] END criterion=gini, min_samples_leaf=1, min_samples_split=4, n_estimators=50;, score=0.082 total time=   7.0s\n",
      "[CV 1/3; 5/72] START criterion=gini, min_samples_leaf=1, min_samples_split=4, n_estimators=100\n",
      "[CV 1/3; 5/72] END criterion=gini, min_samples_leaf=1, min_samples_split=4, n_estimators=100;, score=0.136 total time=  12.5s\n",
      "[CV 2/3; 5/72] START criterion=gini, min_samples_leaf=1, min_samples_split=4, n_estimators=100\n",
      "[CV 2/3; 5/72] END criterion=gini, min_samples_leaf=1, min_samples_split=4, n_estimators=100;, score=0.109 total time=  12.1s\n",
      "[CV 3/3; 5/72] START criterion=gini, min_samples_leaf=1, min_samples_split=4, n_estimators=100\n",
      "[CV 3/3; 5/72] END criterion=gini, min_samples_leaf=1, min_samples_split=4, n_estimators=100;, score=0.089 total time=  15.8s\n",
      "[CV 1/3; 6/72] START criterion=gini, min_samples_leaf=1, min_samples_split=4, n_estimators=400\n",
      "[CV 1/3; 6/72] END criterion=gini, min_samples_leaf=1, min_samples_split=4, n_estimators=400;, score=0.122 total time=  45.5s\n",
      "[CV 2/3; 6/72] START criterion=gini, min_samples_leaf=1, min_samples_split=4, n_estimators=400\n",
      "[CV 2/3; 6/72] END criterion=gini, min_samples_leaf=1, min_samples_split=4, n_estimators=400;, score=0.082 total time=  49.0s\n",
      "[CV 3/3; 6/72] START criterion=gini, min_samples_leaf=1, min_samples_split=4, n_estimators=400\n",
      "[CV 3/3; 6/72] END criterion=gini, min_samples_leaf=1, min_samples_split=4, n_estimators=400;, score=0.096 total time=  46.6s\n",
      "[CV 1/3; 7/72] START criterion=gini, min_samples_leaf=1, min_samples_split=10, n_estimators=50\n",
      "[CV 1/3; 7/72] END criterion=gini, min_samples_leaf=1, min_samples_split=10, n_estimators=50;, score=0.136 total time=   4.3s\n",
      "[CV 2/3; 7/72] START criterion=gini, min_samples_leaf=1, min_samples_split=10, n_estimators=50\n",
      "[CV 2/3; 7/72] END criterion=gini, min_samples_leaf=1, min_samples_split=10, n_estimators=50;, score=0.095 total time=   4.3s\n",
      "[CV 3/3; 7/72] START criterion=gini, min_samples_leaf=1, min_samples_split=10, n_estimators=50\n",
      "[CV 3/3; 7/72] END criterion=gini, min_samples_leaf=1, min_samples_split=10, n_estimators=50;, score=0.089 total time=   4.1s\n",
      "[CV 1/3; 8/72] START criterion=gini, min_samples_leaf=1, min_samples_split=10, n_estimators=100\n",
      "[CV 1/3; 8/72] END criterion=gini, min_samples_leaf=1, min_samples_split=10, n_estimators=100;, score=0.136 total time=   7.1s\n",
      "[CV 2/3; 8/72] START criterion=gini, min_samples_leaf=1, min_samples_split=10, n_estimators=100\n",
      "[CV 2/3; 8/72] END criterion=gini, min_samples_leaf=1, min_samples_split=10, n_estimators=100;, score=0.095 total time=   7.3s\n",
      "[CV 3/3; 8/72] START criterion=gini, min_samples_leaf=1, min_samples_split=10, n_estimators=100\n",
      "[CV 3/3; 8/72] END criterion=gini, min_samples_leaf=1, min_samples_split=10, n_estimators=100;, score=0.082 total time=   7.1s\n",
      "[CV 1/3; 9/72] START criterion=gini, min_samples_leaf=1, min_samples_split=10, n_estimators=400\n",
      "[CV 1/3; 9/72] END criterion=gini, min_samples_leaf=1, min_samples_split=10, n_estimators=400;, score=0.136 total time=  27.5s\n",
      "[CV 2/3; 9/72] START criterion=gini, min_samples_leaf=1, min_samples_split=10, n_estimators=400\n",
      "[CV 2/3; 9/72] END criterion=gini, min_samples_leaf=1, min_samples_split=10, n_estimators=400;, score=0.075 total time=  24.5s\n",
      "[CV 3/3; 9/72] START criterion=gini, min_samples_leaf=1, min_samples_split=10, n_estimators=400\n",
      "[CV 3/3; 9/72] END criterion=gini, min_samples_leaf=1, min_samples_split=10, n_estimators=400;, score=0.089 total time=  24.4s\n",
      "[CV 1/3; 10/72] START criterion=gini, min_samples_leaf=1, min_samples_split=12, n_estimators=50\n",
      "[CV 1/3; 10/72] END criterion=gini, min_samples_leaf=1, min_samples_split=12, n_estimators=50;, score=0.136 total time=   3.8s\n",
      "[CV 2/3; 10/72] START criterion=gini, min_samples_leaf=1, min_samples_split=12, n_estimators=50\n",
      "[CV 2/3; 10/72] END criterion=gini, min_samples_leaf=1, min_samples_split=12, n_estimators=50;, score=0.102 total time=   3.8s\n",
      "[CV 3/3; 10/72] START criterion=gini, min_samples_leaf=1, min_samples_split=12, n_estimators=50\n",
      "[CV 3/3; 10/72] END criterion=gini, min_samples_leaf=1, min_samples_split=12, n_estimators=50;, score=0.116 total time=   3.8s\n",
      "[CV 1/3; 11/72] START criterion=gini, min_samples_leaf=1, min_samples_split=12, n_estimators=100\n",
      "[CV 1/3; 11/72] END criterion=gini, min_samples_leaf=1, min_samples_split=12, n_estimators=100;, score=0.143 total time=   6.8s\n",
      "[CV 2/3; 11/72] START criterion=gini, min_samples_leaf=1, min_samples_split=12, n_estimators=100\n",
      "[CV 2/3; 11/72] END criterion=gini, min_samples_leaf=1, min_samples_split=12, n_estimators=100;, score=0.102 total time=   6.8s\n",
      "[CV 3/3; 11/72] START criterion=gini, min_samples_leaf=1, min_samples_split=12, n_estimators=100\n",
      "[CV 3/3; 11/72] END criterion=gini, min_samples_leaf=1, min_samples_split=12, n_estimators=100;, score=0.089 total time=   7.1s\n",
      "[CV 1/3; 12/72] START criterion=gini, min_samples_leaf=1, min_samples_split=12, n_estimators=400\n",
      "[CV 1/3; 12/72] END criterion=gini, min_samples_leaf=1, min_samples_split=12, n_estimators=400;, score=0.129 total time=  24.9s\n",
      "[CV 2/3; 12/72] START criterion=gini, min_samples_leaf=1, min_samples_split=12, n_estimators=400\n",
      "[CV 2/3; 12/72] END criterion=gini, min_samples_leaf=1, min_samples_split=12, n_estimators=400;, score=0.082 total time=  25.0s\n",
      "[CV 3/3; 12/72] START criterion=gini, min_samples_leaf=1, min_samples_split=12, n_estimators=400\n",
      "[CV 3/3; 12/72] END criterion=gini, min_samples_leaf=1, min_samples_split=12, n_estimators=400;, score=0.089 total time=  24.5s\n",
      "[CV 1/3; 13/72] START criterion=gini, min_samples_leaf=5, min_samples_split=2, n_estimators=50\n",
      "[CV 1/3; 13/72] END criterion=gini, min_samples_leaf=5, min_samples_split=2, n_estimators=50;, score=0.150 total time=   3.9s\n",
      "[CV 2/3; 13/72] START criterion=gini, min_samples_leaf=5, min_samples_split=2, n_estimators=50\n",
      "[CV 2/3; 13/72] END criterion=gini, min_samples_leaf=5, min_samples_split=2, n_estimators=50;, score=0.095 total time=   5.3s\n",
      "[CV 3/3; 13/72] START criterion=gini, min_samples_leaf=5, min_samples_split=2, n_estimators=50\n",
      "[CV 3/3; 13/72] END criterion=gini, min_samples_leaf=5, min_samples_split=2, n_estimators=50;, score=0.096 total time=   4.1s\n",
      "[CV 1/3; 14/72] START criterion=gini, min_samples_leaf=5, min_samples_split=2, n_estimators=100\n",
      "[CV 1/3; 14/72] END criterion=gini, min_samples_leaf=5, min_samples_split=2, n_estimators=100;, score=0.136 total time=   6.8s\n",
      "[CV 2/3; 14/72] START criterion=gini, min_samples_leaf=5, min_samples_split=2, n_estimators=100\n",
      "[CV 2/3; 14/72] END criterion=gini, min_samples_leaf=5, min_samples_split=2, n_estimators=100;, score=0.088 total time=   6.8s\n",
      "[CV 3/3; 14/72] START criterion=gini, min_samples_leaf=5, min_samples_split=2, n_estimators=100\n",
      "[CV 3/3; 14/72] END criterion=gini, min_samples_leaf=5, min_samples_split=2, n_estimators=100;, score=0.116 total time=   7.4s\n",
      "[CV 1/3; 15/72] START criterion=gini, min_samples_leaf=5, min_samples_split=2, n_estimators=400\n",
      "[CV 1/3; 15/72] END criterion=gini, min_samples_leaf=5, min_samples_split=2, n_estimators=400;, score=0.116 total time=  29.1s\n",
      "[CV 2/3; 15/72] START criterion=gini, min_samples_leaf=5, min_samples_split=2, n_estimators=400\n",
      "[CV 2/3; 15/72] END criterion=gini, min_samples_leaf=5, min_samples_split=2, n_estimators=400;, score=0.088 total time=  25.5s\n",
      "[CV 3/3; 15/72] START criterion=gini, min_samples_leaf=5, min_samples_split=2, n_estimators=400\n",
      "[CV 3/3; 15/72] END criterion=gini, min_samples_leaf=5, min_samples_split=2, n_estimators=400;, score=0.096 total time=  27.1s\n",
      "[CV 1/3; 16/72] START criterion=gini, min_samples_leaf=5, min_samples_split=4, n_estimators=50\n",
      "[CV 1/3; 16/72] END criterion=gini, min_samples_leaf=5, min_samples_split=4, n_estimators=50;, score=0.150 total time=   4.0s\n",
      "[CV 2/3; 16/72] START criterion=gini, min_samples_leaf=5, min_samples_split=4, n_estimators=50\n",
      "[CV 2/3; 16/72] END criterion=gini, min_samples_leaf=5, min_samples_split=4, n_estimators=50;, score=0.095 total time=   4.1s\n",
      "[CV 3/3; 16/72] START criterion=gini, min_samples_leaf=5, min_samples_split=4, n_estimators=50\n",
      "[CV 3/3; 16/72] END criterion=gini, min_samples_leaf=5, min_samples_split=4, n_estimators=50;, score=0.096 total time=   4.1s\n",
      "[CV 1/3; 17/72] START criterion=gini, min_samples_leaf=5, min_samples_split=4, n_estimators=100\n",
      "[CV 1/3; 17/72] END criterion=gini, min_samples_leaf=5, min_samples_split=4, n_estimators=100;, score=0.136 total time=   7.1s\n",
      "[CV 2/3; 17/72] START criterion=gini, min_samples_leaf=5, min_samples_split=4, n_estimators=100\n",
      "[CV 2/3; 17/72] END criterion=gini, min_samples_leaf=5, min_samples_split=4, n_estimators=100;, score=0.088 total time=   9.0s\n",
      "[CV 3/3; 17/72] START criterion=gini, min_samples_leaf=5, min_samples_split=4, n_estimators=100\n",
      "[CV 3/3; 17/72] END criterion=gini, min_samples_leaf=5, min_samples_split=4, n_estimators=100;, score=0.116 total time=   7.7s\n",
      "[CV 1/3; 18/72] START criterion=gini, min_samples_leaf=5, min_samples_split=4, n_estimators=400\n",
      "[CV 1/3; 18/72] END criterion=gini, min_samples_leaf=5, min_samples_split=4, n_estimators=400;, score=0.116 total time=  26.0s\n",
      "[CV 2/3; 18/72] START criterion=gini, min_samples_leaf=5, min_samples_split=4, n_estimators=400\n",
      "[CV 2/3; 18/72] END criterion=gini, min_samples_leaf=5, min_samples_split=4, n_estimators=400;, score=0.088 total time=  27.4s\n",
      "[CV 3/3; 18/72] START criterion=gini, min_samples_leaf=5, min_samples_split=4, n_estimators=400\n",
      "[CV 3/3; 18/72] END criterion=gini, min_samples_leaf=5, min_samples_split=4, n_estimators=400;, score=0.096 total time=  29.3s\n",
      "[CV 1/3; 19/72] START criterion=gini, min_samples_leaf=5, min_samples_split=10, n_estimators=50\n",
      "[CV 1/3; 19/72] END criterion=gini, min_samples_leaf=5, min_samples_split=10, n_estimators=50;, score=0.150 total time=   4.2s\n",
      "[CV 2/3; 19/72] START criterion=gini, min_samples_leaf=5, min_samples_split=10, n_estimators=50\n",
      "[CV 2/3; 19/72] END criterion=gini, min_samples_leaf=5, min_samples_split=10, n_estimators=50;, score=0.095 total time=   4.4s\n",
      "[CV 3/3; 19/72] START criterion=gini, min_samples_leaf=5, min_samples_split=10, n_estimators=50\n",
      "[CV 3/3; 19/72] END criterion=gini, min_samples_leaf=5, min_samples_split=10, n_estimators=50;, score=0.096 total time=   4.0s\n",
      "[CV 1/3; 20/72] START criterion=gini, min_samples_leaf=5, min_samples_split=10, n_estimators=100\n",
      "[CV 1/3; 20/72] END criterion=gini, min_samples_leaf=5, min_samples_split=10, n_estimators=100;, score=0.136 total time=   7.2s\n",
      "[CV 2/3; 20/72] START criterion=gini, min_samples_leaf=5, min_samples_split=10, n_estimators=100\n",
      "[CV 2/3; 20/72] END criterion=gini, min_samples_leaf=5, min_samples_split=10, n_estimators=100;, score=0.088 total time=   7.8s\n",
      "[CV 3/3; 20/72] START criterion=gini, min_samples_leaf=5, min_samples_split=10, n_estimators=100\n",
      "[CV 3/3; 20/72] END criterion=gini, min_samples_leaf=5, min_samples_split=10, n_estimators=100;, score=0.116 total time=   7.5s\n",
      "[CV 1/3; 21/72] START criterion=gini, min_samples_leaf=5, min_samples_split=10, n_estimators=400\n",
      "[CV 1/3; 21/72] END criterion=gini, min_samples_leaf=5, min_samples_split=10, n_estimators=400;, score=0.116 total time=  28.2s\n",
      "[CV 2/3; 21/72] START criterion=gini, min_samples_leaf=5, min_samples_split=10, n_estimators=400\n",
      "[CV 2/3; 21/72] END criterion=gini, min_samples_leaf=5, min_samples_split=10, n_estimators=400;, score=0.088 total time=  25.7s\n",
      "[CV 3/3; 21/72] START criterion=gini, min_samples_leaf=5, min_samples_split=10, n_estimators=400\n",
      "[CV 3/3; 21/72] END criterion=gini, min_samples_leaf=5, min_samples_split=10, n_estimators=400;, score=0.096 total time=  28.1s\n",
      "[CV 1/3; 22/72] START criterion=gini, min_samples_leaf=5, min_samples_split=12, n_estimators=50\n",
      "[CV 1/3; 22/72] END criterion=gini, min_samples_leaf=5, min_samples_split=12, n_estimators=50;, score=0.129 total time=   4.4s\n",
      "[CV 2/3; 22/72] START criterion=gini, min_samples_leaf=5, min_samples_split=12, n_estimators=50\n",
      "[CV 2/3; 22/72] END criterion=gini, min_samples_leaf=5, min_samples_split=12, n_estimators=50;, score=0.102 total time=   5.0s\n",
      "[CV 3/3; 22/72] START criterion=gini, min_samples_leaf=5, min_samples_split=12, n_estimators=50\n",
      "[CV 3/3; 22/72] END criterion=gini, min_samples_leaf=5, min_samples_split=12, n_estimators=50;, score=0.110 total time=   4.4s\n",
      "[CV 1/3; 23/72] START criterion=gini, min_samples_leaf=5, min_samples_split=12, n_estimators=100\n",
      "[CV 1/3; 23/72] END criterion=gini, min_samples_leaf=5, min_samples_split=12, n_estimators=100;, score=0.143 total time=   8.2s\n",
      "[CV 2/3; 23/72] START criterion=gini, min_samples_leaf=5, min_samples_split=12, n_estimators=100\n",
      "[CV 2/3; 23/72] END criterion=gini, min_samples_leaf=5, min_samples_split=12, n_estimators=100;, score=0.088 total time=   8.8s\n",
      "[CV 3/3; 23/72] START criterion=gini, min_samples_leaf=5, min_samples_split=12, n_estimators=100\n",
      "[CV 3/3; 23/72] END criterion=gini, min_samples_leaf=5, min_samples_split=12, n_estimators=100;, score=0.096 total time=   7.3s\n",
      "[CV 1/3; 24/72] START criterion=gini, min_samples_leaf=5, min_samples_split=12, n_estimators=400\n",
      "[CV 1/3; 24/72] END criterion=gini, min_samples_leaf=5, min_samples_split=12, n_estimators=400;, score=0.116 total time=  28.2s\n",
      "[CV 2/3; 24/72] START criterion=gini, min_samples_leaf=5, min_samples_split=12, n_estimators=400\n",
      "[CV 2/3; 24/72] END criterion=gini, min_samples_leaf=5, min_samples_split=12, n_estimators=400;, score=0.088 total time=  27.0s\n",
      "[CV 3/3; 24/72] START criterion=gini, min_samples_leaf=5, min_samples_split=12, n_estimators=400\n",
      "[CV 3/3; 24/72] END criterion=gini, min_samples_leaf=5, min_samples_split=12, n_estimators=400;, score=0.096 total time=  27.2s\n",
      "[CV 1/3; 25/72] START criterion=gini, min_samples_leaf=10, min_samples_split=2, n_estimators=50\n",
      "[CV 1/3; 25/72] END criterion=gini, min_samples_leaf=10, min_samples_split=2, n_estimators=50;, score=0.143 total time=   4.2s\n",
      "[CV 2/3; 25/72] START criterion=gini, min_samples_leaf=10, min_samples_split=2, n_estimators=50\n",
      "[CV 2/3; 25/72] END criterion=gini, min_samples_leaf=10, min_samples_split=2, n_estimators=50;, score=0.095 total time=   4.1s\n",
      "[CV 3/3; 25/72] START criterion=gini, min_samples_leaf=10, min_samples_split=2, n_estimators=50\n",
      "[CV 3/3; 25/72] END criterion=gini, min_samples_leaf=10, min_samples_split=2, n_estimators=50;, score=0.089 total time=   4.6s\n",
      "[CV 1/3; 26/72] START criterion=gini, min_samples_leaf=10, min_samples_split=2, n_estimators=100\n",
      "[CV 1/3; 26/72] END criterion=gini, min_samples_leaf=10, min_samples_split=2, n_estimators=100;, score=0.122 total time=   7.8s\n",
      "[CV 2/3; 26/72] START criterion=gini, min_samples_leaf=10, min_samples_split=2, n_estimators=100\n",
      "[CV 2/3; 26/72] END criterion=gini, min_samples_leaf=10, min_samples_split=2, n_estimators=100;, score=0.068 total time=   7.7s\n",
      "[CV 3/3; 26/72] START criterion=gini, min_samples_leaf=10, min_samples_split=2, n_estimators=100\n",
      "[CV 3/3; 26/72] END criterion=gini, min_samples_leaf=10, min_samples_split=2, n_estimators=100;, score=0.089 total time=   9.5s\n",
      "[CV 1/3; 27/72] START criterion=gini, min_samples_leaf=10, min_samples_split=2, n_estimators=400\n",
      "[CV 1/3; 27/72] END criterion=gini, min_samples_leaf=10, min_samples_split=2, n_estimators=400;, score=0.122 total time=  27.3s\n",
      "[CV 2/3; 27/72] START criterion=gini, min_samples_leaf=10, min_samples_split=2, n_estimators=400\n",
      "[CV 2/3; 27/72] END criterion=gini, min_samples_leaf=10, min_samples_split=2, n_estimators=400;, score=0.082 total time=  30.0s\n",
      "[CV 3/3; 27/72] START criterion=gini, min_samples_leaf=10, min_samples_split=2, n_estimators=400\n",
      "[CV 3/3; 27/72] END criterion=gini, min_samples_leaf=10, min_samples_split=2, n_estimators=400;, score=0.103 total time=  25.9s\n",
      "[CV 1/3; 28/72] START criterion=gini, min_samples_leaf=10, min_samples_split=4, n_estimators=50\n",
      "[CV 1/3; 28/72] END criterion=gini, min_samples_leaf=10, min_samples_split=4, n_estimators=50;, score=0.143 total time=   4.3s\n",
      "[CV 2/3; 28/72] START criterion=gini, min_samples_leaf=10, min_samples_split=4, n_estimators=50\n",
      "[CV 2/3; 28/72] END criterion=gini, min_samples_leaf=10, min_samples_split=4, n_estimators=50;, score=0.095 total time=   6.8s\n",
      "[CV 3/3; 28/72] START criterion=gini, min_samples_leaf=10, min_samples_split=4, n_estimators=50\n",
      "[CV 3/3; 28/72] END criterion=gini, min_samples_leaf=10, min_samples_split=4, n_estimators=50;, score=0.089 total time=   4.5s\n",
      "[CV 1/3; 29/72] START criterion=gini, min_samples_leaf=10, min_samples_split=4, n_estimators=100\n",
      "[CV 1/3; 29/72] END criterion=gini, min_samples_leaf=10, min_samples_split=4, n_estimators=100;, score=0.122 total time=   7.4s\n",
      "[CV 2/3; 29/72] START criterion=gini, min_samples_leaf=10, min_samples_split=4, n_estimators=100\n",
      "[CV 2/3; 29/72] END criterion=gini, min_samples_leaf=10, min_samples_split=4, n_estimators=100;, score=0.068 total time=   7.3s\n",
      "[CV 3/3; 29/72] START criterion=gini, min_samples_leaf=10, min_samples_split=4, n_estimators=100\n",
      "[CV 3/3; 29/72] END criterion=gini, min_samples_leaf=10, min_samples_split=4, n_estimators=100;, score=0.089 total time=   7.0s\n",
      "[CV 1/3; 30/72] START criterion=gini, min_samples_leaf=10, min_samples_split=4, n_estimators=400\n",
      "[CV 1/3; 30/72] END criterion=gini, min_samples_leaf=10, min_samples_split=4, n_estimators=400;, score=0.122 total time=  25.7s\n",
      "[CV 2/3; 30/72] START criterion=gini, min_samples_leaf=10, min_samples_split=4, n_estimators=400\n",
      "[CV 2/3; 30/72] END criterion=gini, min_samples_leaf=10, min_samples_split=4, n_estimators=400;, score=0.082 total time=  29.0s\n",
      "[CV 3/3; 30/72] START criterion=gini, min_samples_leaf=10, min_samples_split=4, n_estimators=400\n",
      "[CV 3/3; 30/72] END criterion=gini, min_samples_leaf=10, min_samples_split=4, n_estimators=400;, score=0.103 total time=  26.8s\n",
      "[CV 1/3; 31/72] START criterion=gini, min_samples_leaf=10, min_samples_split=10, n_estimators=50\n",
      "[CV 1/3; 31/72] END criterion=gini, min_samples_leaf=10, min_samples_split=10, n_estimators=50;, score=0.143 total time=   4.5s\n",
      "[CV 2/3; 31/72] START criterion=gini, min_samples_leaf=10, min_samples_split=10, n_estimators=50\n",
      "[CV 2/3; 31/72] END criterion=gini, min_samples_leaf=10, min_samples_split=10, n_estimators=50;, score=0.095 total time=   4.1s\n",
      "[CV 3/3; 31/72] START criterion=gini, min_samples_leaf=10, min_samples_split=10, n_estimators=50\n",
      "[CV 3/3; 31/72] END criterion=gini, min_samples_leaf=10, min_samples_split=10, n_estimators=50;, score=0.089 total time=   4.3s\n",
      "[CV 1/3; 32/72] START criterion=gini, min_samples_leaf=10, min_samples_split=10, n_estimators=100\n",
      "[CV 1/3; 32/72] END criterion=gini, min_samples_leaf=10, min_samples_split=10, n_estimators=100;, score=0.122 total time=   9.1s\n",
      "[CV 2/3; 32/72] START criterion=gini, min_samples_leaf=10, min_samples_split=10, n_estimators=100\n",
      "[CV 2/3; 32/72] END criterion=gini, min_samples_leaf=10, min_samples_split=10, n_estimators=100;, score=0.068 total time=   7.5s\n",
      "[CV 3/3; 32/72] START criterion=gini, min_samples_leaf=10, min_samples_split=10, n_estimators=100\n",
      "[CV 3/3; 32/72] END criterion=gini, min_samples_leaf=10, min_samples_split=10, n_estimators=100;, score=0.089 total time=   7.0s\n",
      "[CV 1/3; 33/72] START criterion=gini, min_samples_leaf=10, min_samples_split=10, n_estimators=400\n",
      "[CV 1/3; 33/72] END criterion=gini, min_samples_leaf=10, min_samples_split=10, n_estimators=400;, score=0.122 total time=  25.9s\n",
      "[CV 2/3; 33/72] START criterion=gini, min_samples_leaf=10, min_samples_split=10, n_estimators=400\n",
      "[CV 2/3; 33/72] END criterion=gini, min_samples_leaf=10, min_samples_split=10, n_estimators=400;, score=0.082 total time=  26.1s\n",
      "[CV 3/3; 33/72] START criterion=gini, min_samples_leaf=10, min_samples_split=10, n_estimators=400\n",
      "[CV 3/3; 33/72] END criterion=gini, min_samples_leaf=10, min_samples_split=10, n_estimators=400;, score=0.103 total time=  27.5s\n",
      "[CV 1/3; 34/72] START criterion=gini, min_samples_leaf=10, min_samples_split=12, n_estimators=50\n",
      "[CV 1/3; 34/72] END criterion=gini, min_samples_leaf=10, min_samples_split=12, n_estimators=50;, score=0.143 total time=   5.2s\n",
      "[CV 2/3; 34/72] START criterion=gini, min_samples_leaf=10, min_samples_split=12, n_estimators=50\n",
      "[CV 2/3; 34/72] END criterion=gini, min_samples_leaf=10, min_samples_split=12, n_estimators=50;, score=0.095 total time=   3.9s\n",
      "[CV 3/3; 34/72] START criterion=gini, min_samples_leaf=10, min_samples_split=12, n_estimators=50\n",
      "[CV 3/3; 34/72] END criterion=gini, min_samples_leaf=10, min_samples_split=12, n_estimators=50;, score=0.089 total time=   4.0s\n",
      "[CV 1/3; 35/72] START criterion=gini, min_samples_leaf=10, min_samples_split=12, n_estimators=100\n",
      "[CV 1/3; 35/72] END criterion=gini, min_samples_leaf=10, min_samples_split=12, n_estimators=100;, score=0.122 total time=   7.1s\n",
      "[CV 2/3; 35/72] START criterion=gini, min_samples_leaf=10, min_samples_split=12, n_estimators=100\n",
      "[CV 2/3; 35/72] END criterion=gini, min_samples_leaf=10, min_samples_split=12, n_estimators=100;, score=0.068 total time=   7.4s\n",
      "[CV 3/3; 35/72] START criterion=gini, min_samples_leaf=10, min_samples_split=12, n_estimators=100\n",
      "[CV 3/3; 35/72] END criterion=gini, min_samples_leaf=10, min_samples_split=12, n_estimators=100;, score=0.089 total time=   7.8s\n",
      "[CV 1/3; 36/72] START criterion=gini, min_samples_leaf=10, min_samples_split=12, n_estimators=400\n",
      "[CV 1/3; 36/72] END criterion=gini, min_samples_leaf=10, min_samples_split=12, n_estimators=400;, score=0.122 total time=  27.3s\n",
      "[CV 2/3; 36/72] START criterion=gini, min_samples_leaf=10, min_samples_split=12, n_estimators=400\n",
      "[CV 2/3; 36/72] END criterion=gini, min_samples_leaf=10, min_samples_split=12, n_estimators=400;, score=0.082 total time=  27.3s\n",
      "[CV 3/3; 36/72] START criterion=gini, min_samples_leaf=10, min_samples_split=12, n_estimators=400\n",
      "[CV 3/3; 36/72] END criterion=gini, min_samples_leaf=10, min_samples_split=12, n_estimators=400;, score=0.103 total time=  26.0s\n",
      "[CV 1/3; 37/72] START criterion=entropy, min_samples_leaf=1, min_samples_split=2, n_estimators=50\n",
      "[CV 1/3; 37/72] END criterion=entropy, min_samples_leaf=1, min_samples_split=2, n_estimators=50;, score=0.143 total time=   9.8s\n",
      "[CV 2/3; 37/72] START criterion=entropy, min_samples_leaf=1, min_samples_split=2, n_estimators=50\n",
      "[CV 2/3; 37/72] END criterion=entropy, min_samples_leaf=1, min_samples_split=2, n_estimators=50;, score=0.109 total time=  12.0s\n",
      "[CV 3/3; 37/72] START criterion=entropy, min_samples_leaf=1, min_samples_split=2, n_estimators=50\n",
      "[CV 3/3; 37/72] END criterion=entropy, min_samples_leaf=1, min_samples_split=2, n_estimators=50;, score=0.082 total time=  10.0s\n",
      "[CV 1/3; 38/72] START criterion=entropy, min_samples_leaf=1, min_samples_split=2, n_estimators=100\n",
      "[CV 1/3; 38/72] END criterion=entropy, min_samples_leaf=1, min_samples_split=2, n_estimators=100;, score=0.129 total time=  19.9s\n",
      "[CV 2/3; 38/72] START criterion=entropy, min_samples_leaf=1, min_samples_split=2, n_estimators=100\n",
      "[CV 2/3; 38/72] END criterion=entropy, min_samples_leaf=1, min_samples_split=2, n_estimators=100;, score=0.102 total time=  19.6s\n",
      "[CV 3/3; 38/72] START criterion=entropy, min_samples_leaf=1, min_samples_split=2, n_estimators=100\n",
      "[CV 3/3; 38/72] END criterion=entropy, min_samples_leaf=1, min_samples_split=2, n_estimators=100;, score=0.089 total time=  21.4s\n",
      "[CV 1/3; 39/72] START criterion=entropy, min_samples_leaf=1, min_samples_split=2, n_estimators=400\n",
      "[CV 1/3; 39/72] END criterion=entropy, min_samples_leaf=1, min_samples_split=2, n_estimators=400;, score=0.136 total time= 1.3min\n",
      "[CV 2/3; 39/72] START criterion=entropy, min_samples_leaf=1, min_samples_split=2, n_estimators=400\n",
      "[CV 2/3; 39/72] END criterion=entropy, min_samples_leaf=1, min_samples_split=2, n_estimators=400;, score=0.088 total time= 1.3min\n",
      "[CV 3/3; 39/72] START criterion=entropy, min_samples_leaf=1, min_samples_split=2, n_estimators=400\n",
      "[CV 3/3; 39/72] END criterion=entropy, min_samples_leaf=1, min_samples_split=2, n_estimators=400;, score=0.096 total time= 1.3min\n",
      "[CV 1/3; 40/72] START criterion=entropy, min_samples_leaf=1, min_samples_split=4, n_estimators=50\n",
      "[CV 1/3; 40/72] END criterion=entropy, min_samples_leaf=1, min_samples_split=4, n_estimators=50;, score=0.143 total time=   7.2s\n",
      "[CV 2/3; 40/72] START criterion=entropy, min_samples_leaf=1, min_samples_split=4, n_estimators=50\n",
      "[CV 2/3; 40/72] END criterion=entropy, min_samples_leaf=1, min_samples_split=4, n_estimators=50;, score=0.109 total time=   7.6s\n",
      "[CV 3/3; 40/72] START criterion=entropy, min_samples_leaf=1, min_samples_split=4, n_estimators=50\n",
      "[CV 3/3; 40/72] END criterion=entropy, min_samples_leaf=1, min_samples_split=4, n_estimators=50;, score=0.096 total time=  10.2s\n",
      "[CV 1/3; 41/72] START criterion=entropy, min_samples_leaf=1, min_samples_split=4, n_estimators=100\n",
      "[CV 1/3; 41/72] END criterion=entropy, min_samples_leaf=1, min_samples_split=4, n_estimators=100;, score=0.122 total time=  13.5s\n",
      "[CV 2/3; 41/72] START criterion=entropy, min_samples_leaf=1, min_samples_split=4, n_estimators=100\n",
      "[CV 2/3; 41/72] END criterion=entropy, min_samples_leaf=1, min_samples_split=4, n_estimators=100;, score=0.102 total time=  13.5s\n",
      "[CV 3/3; 41/72] START criterion=entropy, min_samples_leaf=1, min_samples_split=4, n_estimators=100\n",
      "[CV 3/3; 41/72] END criterion=entropy, min_samples_leaf=1, min_samples_split=4, n_estimators=100;, score=0.082 total time=  12.9s\n",
      "[CV 1/3; 42/72] START criterion=entropy, min_samples_leaf=1, min_samples_split=4, n_estimators=400\n",
      "[CV 1/3; 42/72] END criterion=entropy, min_samples_leaf=1, min_samples_split=4, n_estimators=400;, score=0.129 total time=  49.1s\n",
      "[CV 2/3; 42/72] START criterion=entropy, min_samples_leaf=1, min_samples_split=4, n_estimators=400\n",
      "[CV 2/3; 42/72] END criterion=entropy, min_samples_leaf=1, min_samples_split=4, n_estimators=400;, score=0.095 total time=  52.7s\n",
      "[CV 3/3; 42/72] START criterion=entropy, min_samples_leaf=1, min_samples_split=4, n_estimators=400\n",
      "[CV 3/3; 42/72] END criterion=entropy, min_samples_leaf=1, min_samples_split=4, n_estimators=400;, score=0.096 total time=  45.8s\n",
      "[CV 1/3; 43/72] START criterion=entropy, min_samples_leaf=1, min_samples_split=10, n_estimators=50\n",
      "[CV 1/3; 43/72] END criterion=entropy, min_samples_leaf=1, min_samples_split=10, n_estimators=50;, score=0.129 total time=   4.5s\n",
      "[CV 2/3; 43/72] START criterion=entropy, min_samples_leaf=1, min_samples_split=10, n_estimators=50\n",
      "[CV 2/3; 43/72] END criterion=entropy, min_samples_leaf=1, min_samples_split=10, n_estimators=50;, score=0.095 total time=   5.6s\n",
      "[CV 3/3; 43/72] START criterion=entropy, min_samples_leaf=1, min_samples_split=10, n_estimators=50\n",
      "[CV 3/3; 43/72] END criterion=entropy, min_samples_leaf=1, min_samples_split=10, n_estimators=50;, score=0.082 total time=   4.8s\n",
      "[CV 1/3; 44/72] START criterion=entropy, min_samples_leaf=1, min_samples_split=10, n_estimators=100\n",
      "[CV 1/3; 44/72] END criterion=entropy, min_samples_leaf=1, min_samples_split=10, n_estimators=100;, score=0.136 total time=   7.5s\n",
      "[CV 2/3; 44/72] START criterion=entropy, min_samples_leaf=1, min_samples_split=10, n_estimators=100\n",
      "[CV 2/3; 44/72] END criterion=entropy, min_samples_leaf=1, min_samples_split=10, n_estimators=100;, score=0.082 total time=   8.0s\n",
      "[CV 3/3; 44/72] START criterion=entropy, min_samples_leaf=1, min_samples_split=10, n_estimators=100\n",
      "[CV 3/3; 44/72] END criterion=entropy, min_samples_leaf=1, min_samples_split=10, n_estimators=100;, score=0.089 total time=   9.2s\n",
      "[CV 1/3; 45/72] START criterion=entropy, min_samples_leaf=1, min_samples_split=10, n_estimators=400\n",
      "[CV 1/3; 45/72] END criterion=entropy, min_samples_leaf=1, min_samples_split=10, n_estimators=400;, score=0.116 total time=  29.7s\n",
      "[CV 2/3; 45/72] START criterion=entropy, min_samples_leaf=1, min_samples_split=10, n_estimators=400\n",
      "[CV 2/3; 45/72] END criterion=entropy, min_samples_leaf=1, min_samples_split=10, n_estimators=400;, score=0.082 total time=  28.6s\n",
      "[CV 3/3; 45/72] START criterion=entropy, min_samples_leaf=1, min_samples_split=10, n_estimators=400\n",
      "[CV 3/3; 45/72] END criterion=entropy, min_samples_leaf=1, min_samples_split=10, n_estimators=400;, score=0.089 total time=  27.2s\n",
      "[CV 1/3; 46/72] START criterion=entropy, min_samples_leaf=1, min_samples_split=12, n_estimators=50\n",
      "[CV 1/3; 46/72] END criterion=entropy, min_samples_leaf=1, min_samples_split=12, n_estimators=50;, score=0.136 total time=   4.4s\n",
      "[CV 2/3; 46/72] START criterion=entropy, min_samples_leaf=1, min_samples_split=12, n_estimators=50\n",
      "[CV 2/3; 46/72] END criterion=entropy, min_samples_leaf=1, min_samples_split=12, n_estimators=50;, score=0.102 total time=   4.3s\n",
      "[CV 3/3; 46/72] START criterion=entropy, min_samples_leaf=1, min_samples_split=12, n_estimators=50\n",
      "[CV 3/3; 46/72] END criterion=entropy, min_samples_leaf=1, min_samples_split=12, n_estimators=50;, score=0.103 total time=   5.4s\n",
      "[CV 1/3; 47/72] START criterion=entropy, min_samples_leaf=1, min_samples_split=12, n_estimators=100\n",
      "[CV 1/3; 47/72] END criterion=entropy, min_samples_leaf=1, min_samples_split=12, n_estimators=100;, score=0.143 total time=   7.2s\n",
      "[CV 2/3; 47/72] START criterion=entropy, min_samples_leaf=1, min_samples_split=12, n_estimators=100\n",
      "[CV 2/3; 47/72] END criterion=entropy, min_samples_leaf=1, min_samples_split=12, n_estimators=100;, score=0.102 total time=   7.4s\n",
      "[CV 3/3; 47/72] START criterion=entropy, min_samples_leaf=1, min_samples_split=12, n_estimators=100\n",
      "[CV 3/3; 47/72] END criterion=entropy, min_samples_leaf=1, min_samples_split=12, n_estimators=100;, score=0.116 total time=   7.6s\n",
      "[CV 1/3; 48/72] START criterion=entropy, min_samples_leaf=1, min_samples_split=12, n_estimators=400\n",
      "[CV 1/3; 48/72] END criterion=entropy, min_samples_leaf=1, min_samples_split=12, n_estimators=400;, score=0.102 total time=  29.0s\n",
      "[CV 2/3; 48/72] START criterion=entropy, min_samples_leaf=1, min_samples_split=12, n_estimators=400\n",
      "[CV 2/3; 48/72] END criterion=entropy, min_samples_leaf=1, min_samples_split=12, n_estimators=400;, score=0.088 total time=  26.3s\n",
      "[CV 3/3; 48/72] START criterion=entropy, min_samples_leaf=1, min_samples_split=12, n_estimators=400\n",
      "[CV 3/3; 48/72] END criterion=entropy, min_samples_leaf=1, min_samples_split=12, n_estimators=400;, score=0.110 total time=  26.0s\n",
      "[CV 1/3; 49/72] START criterion=entropy, min_samples_leaf=5, min_samples_split=2, n_estimators=50\n",
      "[CV 1/3; 49/72] END criterion=entropy, min_samples_leaf=5, min_samples_split=2, n_estimators=50;, score=0.136 total time=   5.4s\n",
      "[CV 2/3; 49/72] START criterion=entropy, min_samples_leaf=5, min_samples_split=2, n_estimators=50\n",
      "[CV 2/3; 49/72] END criterion=entropy, min_samples_leaf=5, min_samples_split=2, n_estimators=50;, score=0.088 total time=   5.8s\n",
      "[CV 3/3; 49/72] START criterion=entropy, min_samples_leaf=5, min_samples_split=2, n_estimators=50\n",
      "[CV 3/3; 49/72] END criterion=entropy, min_samples_leaf=5, min_samples_split=2, n_estimators=50;, score=0.082 total time=   4.1s\n",
      "[CV 1/3; 50/72] START criterion=entropy, min_samples_leaf=5, min_samples_split=2, n_estimators=100\n",
      "[CV 1/3; 50/72] END criterion=entropy, min_samples_leaf=5, min_samples_split=2, n_estimators=100;, score=0.129 total time=   7.2s\n",
      "[CV 2/3; 50/72] START criterion=entropy, min_samples_leaf=5, min_samples_split=2, n_estimators=100\n",
      "[CV 2/3; 50/72] END criterion=entropy, min_samples_leaf=5, min_samples_split=2, n_estimators=100;, score=0.095 total time=   7.4s\n",
      "[CV 3/3; 50/72] START criterion=entropy, min_samples_leaf=5, min_samples_split=2, n_estimators=100\n",
      "[CV 3/3; 50/72] END criterion=entropy, min_samples_leaf=5, min_samples_split=2, n_estimators=100;, score=0.110 total time=   7.4s\n",
      "[CV 1/3; 51/72] START criterion=entropy, min_samples_leaf=5, min_samples_split=2, n_estimators=400\n",
      "[CV 1/3; 51/72] END criterion=entropy, min_samples_leaf=5, min_samples_split=2, n_estimators=400;, score=0.116 total time=  26.4s\n",
      "[CV 2/3; 51/72] START criterion=entropy, min_samples_leaf=5, min_samples_split=2, n_estimators=400\n",
      "[CV 2/3; 51/72] END criterion=entropy, min_samples_leaf=5, min_samples_split=2, n_estimators=400;, score=0.088 total time=  28.0s\n",
      "[CV 3/3; 51/72] START criterion=entropy, min_samples_leaf=5, min_samples_split=2, n_estimators=400\n",
      "[CV 3/3; 51/72] END criterion=entropy, min_samples_leaf=5, min_samples_split=2, n_estimators=400;, score=0.089 total time=  25.7s\n",
      "[CV 1/3; 52/72] START criterion=entropy, min_samples_leaf=5, min_samples_split=4, n_estimators=50\n",
      "[CV 1/3; 52/72] END criterion=entropy, min_samples_leaf=5, min_samples_split=4, n_estimators=50;, score=0.136 total time=   4.1s\n",
      "[CV 2/3; 52/72] START criterion=entropy, min_samples_leaf=5, min_samples_split=4, n_estimators=50\n",
      "[CV 2/3; 52/72] END criterion=entropy, min_samples_leaf=5, min_samples_split=4, n_estimators=50;, score=0.088 total time=   4.2s\n",
      "[CV 3/3; 52/72] START criterion=entropy, min_samples_leaf=5, min_samples_split=4, n_estimators=50\n",
      "[CV 3/3; 52/72] END criterion=entropy, min_samples_leaf=5, min_samples_split=4, n_estimators=50;, score=0.082 total time=   4.0s\n",
      "[CV 1/3; 53/72] START criterion=entropy, min_samples_leaf=5, min_samples_split=4, n_estimators=100\n",
      "[CV 1/3; 53/72] END criterion=entropy, min_samples_leaf=5, min_samples_split=4, n_estimators=100;, score=0.129 total time=   7.8s\n",
      "[CV 2/3; 53/72] START criterion=entropy, min_samples_leaf=5, min_samples_split=4, n_estimators=100\n",
      "[CV 2/3; 53/72] END criterion=entropy, min_samples_leaf=5, min_samples_split=4, n_estimators=100;, score=0.095 total time=   7.6s\n",
      "[CV 3/3; 53/72] START criterion=entropy, min_samples_leaf=5, min_samples_split=4, n_estimators=100\n",
      "[CV 3/3; 53/72] END criterion=entropy, min_samples_leaf=5, min_samples_split=4, n_estimators=100;, score=0.110 total time=   7.4s\n",
      "[CV 1/3; 54/72] START criterion=entropy, min_samples_leaf=5, min_samples_split=4, n_estimators=400\n",
      "[CV 1/3; 54/72] END criterion=entropy, min_samples_leaf=5, min_samples_split=4, n_estimators=400;, score=0.116 total time=  26.6s\n",
      "[CV 2/3; 54/72] START criterion=entropy, min_samples_leaf=5, min_samples_split=4, n_estimators=400\n",
      "[CV 2/3; 54/72] END criterion=entropy, min_samples_leaf=5, min_samples_split=4, n_estimators=400;, score=0.088 total time=  26.0s\n",
      "[CV 3/3; 54/72] START criterion=entropy, min_samples_leaf=5, min_samples_split=4, n_estimators=400\n",
      "[CV 3/3; 54/72] END criterion=entropy, min_samples_leaf=5, min_samples_split=4, n_estimators=400;, score=0.089 total time=  27.2s\n",
      "[CV 1/3; 55/72] START criterion=entropy, min_samples_leaf=5, min_samples_split=10, n_estimators=50\n",
      "[CV 1/3; 55/72] END criterion=entropy, min_samples_leaf=5, min_samples_split=10, n_estimators=50;, score=0.136 total time=   4.1s\n",
      "[CV 2/3; 55/72] START criterion=entropy, min_samples_leaf=5, min_samples_split=10, n_estimators=50\n",
      "[CV 2/3; 55/72] END criterion=entropy, min_samples_leaf=5, min_samples_split=10, n_estimators=50;, score=0.088 total time=   4.0s\n",
      "[CV 3/3; 55/72] START criterion=entropy, min_samples_leaf=5, min_samples_split=10, n_estimators=50\n",
      "[CV 3/3; 55/72] END criterion=entropy, min_samples_leaf=5, min_samples_split=10, n_estimators=50;, score=0.082 total time=   4.0s\n",
      "[CV 1/3; 56/72] START criterion=entropy, min_samples_leaf=5, min_samples_split=10, n_estimators=100\n",
      "[CV 1/3; 56/72] END criterion=entropy, min_samples_leaf=5, min_samples_split=10, n_estimators=100;, score=0.129 total time=   9.1s\n",
      "[CV 2/3; 56/72] START criterion=entropy, min_samples_leaf=5, min_samples_split=10, n_estimators=100\n",
      "[CV 2/3; 56/72] END criterion=entropy, min_samples_leaf=5, min_samples_split=10, n_estimators=100;, score=0.095 total time=   7.8s\n",
      "[CV 3/3; 56/72] START criterion=entropy, min_samples_leaf=5, min_samples_split=10, n_estimators=100\n",
      "[CV 3/3; 56/72] END criterion=entropy, min_samples_leaf=5, min_samples_split=10, n_estimators=100;, score=0.110 total time=   8.2s\n",
      "[CV 1/3; 57/72] START criterion=entropy, min_samples_leaf=5, min_samples_split=10, n_estimators=400\n",
      "[CV 1/3; 57/72] END criterion=entropy, min_samples_leaf=5, min_samples_split=10, n_estimators=400;, score=0.116 total time=  28.9s\n",
      "[CV 2/3; 57/72] START criterion=entropy, min_samples_leaf=5, min_samples_split=10, n_estimators=400\n",
      "[CV 2/3; 57/72] END criterion=entropy, min_samples_leaf=5, min_samples_split=10, n_estimators=400;, score=0.088 total time=  29.1s\n",
      "[CV 3/3; 57/72] START criterion=entropy, min_samples_leaf=5, min_samples_split=10, n_estimators=400\n",
      "[CV 3/3; 57/72] END criterion=entropy, min_samples_leaf=5, min_samples_split=10, n_estimators=400;, score=0.089 total time=  27.6s\n",
      "[CV 1/3; 58/72] START criterion=entropy, min_samples_leaf=5, min_samples_split=12, n_estimators=50\n",
      "[CV 1/3; 58/72] END criterion=entropy, min_samples_leaf=5, min_samples_split=12, n_estimators=50;, score=0.122 total time=   4.2s\n",
      "[CV 2/3; 58/72] START criterion=entropy, min_samples_leaf=5, min_samples_split=12, n_estimators=50\n",
      "[CV 2/3; 58/72] END criterion=entropy, min_samples_leaf=5, min_samples_split=12, n_estimators=50;, score=0.102 total time=   4.2s\n",
      "[CV 3/3; 58/72] START criterion=entropy, min_samples_leaf=5, min_samples_split=12, n_estimators=50\n",
      "[CV 3/3; 58/72] END criterion=entropy, min_samples_leaf=5, min_samples_split=12, n_estimators=50;, score=0.110 total time=   4.0s\n",
      "[CV 1/3; 59/72] START criterion=entropy, min_samples_leaf=5, min_samples_split=12, n_estimators=100\n",
      "[CV 1/3; 59/72] END criterion=entropy, min_samples_leaf=5, min_samples_split=12, n_estimators=100;, score=0.143 total time=   7.5s\n",
      "[CV 2/3; 59/72] START criterion=entropy, min_samples_leaf=5, min_samples_split=12, n_estimators=100\n",
      "[CV 2/3; 59/72] END criterion=entropy, min_samples_leaf=5, min_samples_split=12, n_estimators=100;, score=0.095 total time=   7.1s\n",
      "[CV 3/3; 59/72] START criterion=entropy, min_samples_leaf=5, min_samples_split=12, n_estimators=100\n",
      "[CV 3/3; 59/72] END criterion=entropy, min_samples_leaf=5, min_samples_split=12, n_estimators=100;, score=0.123 total time=   7.6s\n",
      "[CV 1/3; 60/72] START criterion=entropy, min_samples_leaf=5, min_samples_split=12, n_estimators=400\n",
      "[CV 1/3; 60/72] END criterion=entropy, min_samples_leaf=5, min_samples_split=12, n_estimators=400;, score=0.122 total time=  27.3s\n",
      "[CV 2/3; 60/72] START criterion=entropy, min_samples_leaf=5, min_samples_split=12, n_estimators=400\n",
      "[CV 2/3; 60/72] END criterion=entropy, min_samples_leaf=5, min_samples_split=12, n_estimators=400;, score=0.082 total time=  28.2s\n",
      "[CV 3/3; 60/72] START criterion=entropy, min_samples_leaf=5, min_samples_split=12, n_estimators=400\n",
      "[CV 3/3; 60/72] END criterion=entropy, min_samples_leaf=5, min_samples_split=12, n_estimators=400;, score=0.110 total time=  27.9s\n",
      "[CV 1/3; 61/72] START criterion=entropy, min_samples_leaf=10, min_samples_split=2, n_estimators=50\n",
      "[CV 1/3; 61/72] END criterion=entropy, min_samples_leaf=10, min_samples_split=2, n_estimators=50;, score=0.150 total time=   3.8s\n",
      "[CV 2/3; 61/72] START criterion=entropy, min_samples_leaf=10, min_samples_split=2, n_estimators=50\n",
      "[CV 2/3; 61/72] END criterion=entropy, min_samples_leaf=10, min_samples_split=2, n_estimators=50;, score=0.095 total time=   3.8s\n",
      "[CV 3/3; 61/72] START criterion=entropy, min_samples_leaf=10, min_samples_split=2, n_estimators=50\n",
      "[CV 3/3; 61/72] END criterion=entropy, min_samples_leaf=10, min_samples_split=2, n_estimators=50;, score=0.096 total time=   4.2s\n",
      "[CV 1/3; 62/72] START criterion=entropy, min_samples_leaf=10, min_samples_split=2, n_estimators=100\n",
      "[CV 1/3; 62/72] END criterion=entropy, min_samples_leaf=10, min_samples_split=2, n_estimators=100;, score=0.136 total time=   7.2s\n",
      "[CV 2/3; 62/72] START criterion=entropy, min_samples_leaf=10, min_samples_split=2, n_estimators=100\n",
      "[CV 2/3; 62/72] END criterion=entropy, min_samples_leaf=10, min_samples_split=2, n_estimators=100;, score=0.075 total time=   7.1s\n",
      "[CV 3/3; 62/72] START criterion=entropy, min_samples_leaf=10, min_samples_split=2, n_estimators=100\n",
      "[CV 3/3; 62/72] END criterion=entropy, min_samples_leaf=10, min_samples_split=2, n_estimators=100;, score=0.110 total time=   6.8s\n",
      "[CV 1/3; 63/72] START criterion=entropy, min_samples_leaf=10, min_samples_split=2, n_estimators=400\n",
      "[CV 1/3; 63/72] END criterion=entropy, min_samples_leaf=10, min_samples_split=2, n_estimators=400;, score=0.109 total time=  29.1s\n",
      "[CV 2/3; 63/72] START criterion=entropy, min_samples_leaf=10, min_samples_split=2, n_estimators=400\n",
      "[CV 2/3; 63/72] END criterion=entropy, min_samples_leaf=10, min_samples_split=2, n_estimators=400;, score=0.082 total time=  25.1s\n",
      "[CV 3/3; 63/72] START criterion=entropy, min_samples_leaf=10, min_samples_split=2, n_estimators=400\n",
      "[CV 3/3; 63/72] END criterion=entropy, min_samples_leaf=10, min_samples_split=2, n_estimators=400;, score=0.103 total time=  25.3s\n",
      "[CV 1/3; 64/72] START criterion=entropy, min_samples_leaf=10, min_samples_split=4, n_estimators=50\n",
      "[CV 1/3; 64/72] END criterion=entropy, min_samples_leaf=10, min_samples_split=4, n_estimators=50;, score=0.150 total time=   4.3s\n",
      "[CV 2/3; 64/72] START criterion=entropy, min_samples_leaf=10, min_samples_split=4, n_estimators=50\n",
      "[CV 2/3; 64/72] END criterion=entropy, min_samples_leaf=10, min_samples_split=4, n_estimators=50;, score=0.095 total time=   4.8s\n",
      "[CV 3/3; 64/72] START criterion=entropy, min_samples_leaf=10, min_samples_split=4, n_estimators=50\n",
      "[CV 3/3; 64/72] END criterion=entropy, min_samples_leaf=10, min_samples_split=4, n_estimators=50;, score=0.096 total time=   4.1s\n",
      "[CV 1/3; 65/72] START criterion=entropy, min_samples_leaf=10, min_samples_split=4, n_estimators=100\n",
      "[CV 1/3; 65/72] END criterion=entropy, min_samples_leaf=10, min_samples_split=4, n_estimators=100;, score=0.136 total time=   7.2s\n",
      "[CV 2/3; 65/72] START criterion=entropy, min_samples_leaf=10, min_samples_split=4, n_estimators=100\n",
      "[CV 2/3; 65/72] END criterion=entropy, min_samples_leaf=10, min_samples_split=4, n_estimators=100;, score=0.075 total time=   7.4s\n",
      "[CV 3/3; 65/72] START criterion=entropy, min_samples_leaf=10, min_samples_split=4, n_estimators=100\n",
      "[CV 3/3; 65/72] END criterion=entropy, min_samples_leaf=10, min_samples_split=4, n_estimators=100;, score=0.110 total time=   8.9s\n",
      "[CV 1/3; 66/72] START criterion=entropy, min_samples_leaf=10, min_samples_split=4, n_estimators=400\n",
      "[CV 1/3; 66/72] END criterion=entropy, min_samples_leaf=10, min_samples_split=4, n_estimators=400;, score=0.109 total time=  25.7s\n",
      "[CV 2/3; 66/72] START criterion=entropy, min_samples_leaf=10, min_samples_split=4, n_estimators=400\n",
      "[CV 2/3; 66/72] END criterion=entropy, min_samples_leaf=10, min_samples_split=4, n_estimators=400;, score=0.082 total time=  26.3s\n",
      "[CV 3/3; 66/72] START criterion=entropy, min_samples_leaf=10, min_samples_split=4, n_estimators=400\n",
      "[CV 3/3; 66/72] END criterion=entropy, min_samples_leaf=10, min_samples_split=4, n_estimators=400;, score=0.103 total time=  27.3s\n",
      "[CV 1/3; 67/72] START criterion=entropy, min_samples_leaf=10, min_samples_split=10, n_estimators=50\n",
      "[CV 1/3; 67/72] END criterion=entropy, min_samples_leaf=10, min_samples_split=10, n_estimators=50;, score=0.150 total time=   4.1s\n",
      "[CV 2/3; 67/72] START criterion=entropy, min_samples_leaf=10, min_samples_split=10, n_estimators=50\n",
      "[CV 2/3; 67/72] END criterion=entropy, min_samples_leaf=10, min_samples_split=10, n_estimators=50;, score=0.095 total time=   4.6s\n",
      "[CV 3/3; 67/72] START criterion=entropy, min_samples_leaf=10, min_samples_split=10, n_estimators=50\n",
      "[CV 3/3; 67/72] END criterion=entropy, min_samples_leaf=10, min_samples_split=10, n_estimators=50;, score=0.096 total time=   4.5s\n",
      "[CV 1/3; 68/72] START criterion=entropy, min_samples_leaf=10, min_samples_split=10, n_estimators=100\n",
      "[CV 1/3; 68/72] END criterion=entropy, min_samples_leaf=10, min_samples_split=10, n_estimators=100;, score=0.136 total time=   7.6s\n",
      "[CV 2/3; 68/72] START criterion=entropy, min_samples_leaf=10, min_samples_split=10, n_estimators=100\n",
      "[CV 2/3; 68/72] END criterion=entropy, min_samples_leaf=10, min_samples_split=10, n_estimators=100;, score=0.075 total time=   7.4s\n",
      "[CV 3/3; 68/72] START criterion=entropy, min_samples_leaf=10, min_samples_split=10, n_estimators=100\n",
      "[CV 3/3; 68/72] END criterion=entropy, min_samples_leaf=10, min_samples_split=10, n_estimators=100;, score=0.110 total time=   7.0s\n",
      "[CV 1/3; 69/72] START criterion=entropy, min_samples_leaf=10, min_samples_split=10, n_estimators=400\n",
      "[CV 1/3; 69/72] END criterion=entropy, min_samples_leaf=10, min_samples_split=10, n_estimators=400;, score=0.109 total time=  30.3s\n",
      "[CV 2/3; 69/72] START criterion=entropy, min_samples_leaf=10, min_samples_split=10, n_estimators=400\n",
      "[CV 2/3; 69/72] END criterion=entropy, min_samples_leaf=10, min_samples_split=10, n_estimators=400;, score=0.082 total time=  29.6s\n",
      "[CV 3/3; 69/72] START criterion=entropy, min_samples_leaf=10, min_samples_split=10, n_estimators=400\n",
      "[CV 3/3; 69/72] END criterion=entropy, min_samples_leaf=10, min_samples_split=10, n_estimators=400;, score=0.103 total time=  25.8s\n",
      "[CV 1/3; 70/72] START criterion=entropy, min_samples_leaf=10, min_samples_split=12, n_estimators=50\n",
      "[CV 1/3; 70/72] END criterion=entropy, min_samples_leaf=10, min_samples_split=12, n_estimators=50;, score=0.150 total time=   4.1s\n",
      "[CV 2/3; 70/72] START criterion=entropy, min_samples_leaf=10, min_samples_split=12, n_estimators=50\n",
      "[CV 2/3; 70/72] END criterion=entropy, min_samples_leaf=10, min_samples_split=12, n_estimators=50;, score=0.095 total time=   4.5s\n",
      "[CV 3/3; 70/72] START criterion=entropy, min_samples_leaf=10, min_samples_split=12, n_estimators=50\n",
      "[CV 3/3; 70/72] END criterion=entropy, min_samples_leaf=10, min_samples_split=12, n_estimators=50;, score=0.096 total time=   4.0s\n",
      "[CV 1/3; 71/72] START criterion=entropy, min_samples_leaf=10, min_samples_split=12, n_estimators=100\n",
      "[CV 1/3; 71/72] END criterion=entropy, min_samples_leaf=10, min_samples_split=12, n_estimators=100;, score=0.136 total time=   9.6s\n",
      "[CV 2/3; 71/72] START criterion=entropy, min_samples_leaf=10, min_samples_split=12, n_estimators=100\n",
      "[CV 2/3; 71/72] END criterion=entropy, min_samples_leaf=10, min_samples_split=12, n_estimators=100;, score=0.075 total time=   7.0s\n",
      "[CV 3/3; 71/72] START criterion=entropy, min_samples_leaf=10, min_samples_split=12, n_estimators=100\n",
      "[CV 3/3; 71/72] END criterion=entropy, min_samples_leaf=10, min_samples_split=12, n_estimators=100;, score=0.110 total time=   7.1s\n",
      "[CV 1/3; 72/72] START criterion=entropy, min_samples_leaf=10, min_samples_split=12, n_estimators=400\n",
      "[CV 1/3; 72/72] END criterion=entropy, min_samples_leaf=10, min_samples_split=12, n_estimators=400;, score=0.109 total time=  25.0s\n",
      "[CV 2/3; 72/72] START criterion=entropy, min_samples_leaf=10, min_samples_split=12, n_estimators=400\n",
      "[CV 2/3; 72/72] END criterion=entropy, min_samples_leaf=10, min_samples_split=12, n_estimators=400;, score=0.082 total time=  29.8s\n",
      "[CV 3/3; 72/72] START criterion=entropy, min_samples_leaf=10, min_samples_split=12, n_estimators=400\n",
      "[CV 3/3; 72/72] END criterion=entropy, min_samples_leaf=10, min_samples_split=12, n_estimators=400;, score=0.103 total time=  25.4s\n"
     ]
    }
   ],
   "source": [
    "param_grid = { \"criterion\" : [\"gini\", \"entropy\"],\n",
    "               \"min_samples_leaf\" : [1, 5, 10],\n",
    "               \"min_samples_split\" : [2, 4, 10, 12],\n",
    "               \"n_estimators\": [50,100, 400 ]}\n",
    "gs = GridSearchCV(estimator=model, param_grid=param_grid, scoring='accuracy', cv=3, verbose=10)\n",
    "gs = gs.fit(train_feature, train_target)"
   ],
   "metadata": {
    "collapsed": false,
    "pycharm": {
     "name": "#%%\n"
    }
   }
  },
  {
   "cell_type": "code",
   "execution_count": 69,
   "outputs": [
    {
     "data": {
      "text/plain": "0.08465608465608465"
     },
     "execution_count": 69,
     "metadata": {},
     "output_type": "execute_result"
    }
   ],
   "source": [
    "best_model = gs.best_estimator_\n",
    "best_model.score(test_feature, test_target)\n"
   ],
   "metadata": {
    "collapsed": false,
    "pycharm": {
     "name": "#%%\n"
    }
   }
  },
  {
   "cell_type": "code",
   "execution_count": 39,
   "outputs": [],
   "source": [
    "def roc_curve_plot(model_name, fpr, tpr, roc_auc):\n",
    "    plt.plot(fpr, tpr, linewidth=2, label='Area(AUC) = %0.2f' % roc_auc)\n",
    "    plt.plot([0, 1], [0, 1], 'k--')\n",
    "    plt.axis([0, 1, 0, 1])\n",
    "    plt.title(model_name + ' ROC Curve')\n",
    "    plt.xlabel('False Positive Rate')\n",
    "    plt.ylabel('True Positive Rate')\n",
    "    plt.legend(loc=\"lower right\")\n",
    "    plt.show()\n"
   ],
   "metadata": {
    "collapsed": false,
    "pycharm": {
     "name": "#%%\n"
    }
   }
  },
  {
   "cell_type": "code",
   "execution_count": 43,
   "outputs": [],
   "source": [
    "test_target_main = []\n",
    "filenames = []\n",
    "for dir in os.listdir(\"testing_PCA\"):\n",
    "    for file in os.listdir(f\"testing_PCA/{dir}\"):\n",
    "        filename = file.split('__')[0]\n",
    "\n"
   ],
   "metadata": {
    "collapsed": false,
    "pycharm": {
     "name": "#%%\n"
    }
   }
  },
  {
   "cell_type": "code",
   "execution_count": 50,
   "outputs": [
    {
     "data": {
      "text/plain": "array([ 6,  7,  1,  6,  6,  2,  7,  4, 10,  6, 10,  7,  1,  9,  9,  7,  2,\n        7,  1,  0,  0,  7,  4,  2,  9,  7,  4,  7,  2,  2,  8, 10, 10, 10,\n        7,  7, 10,  0,  4,  4,  7,  7,  7,  2,  7,  0, 10,  0,  9, 10,  7,\n        0,  0,  1,  7,  7,  3,  2, 10,  8,  7,  7, 10,  7,  8,  7,  7,  9,\n       10,  1,  1, 10,  7,  9,  9,  1, 10,  4,  7, 10,  9,  3,  3,  9,  9,\n        7,  7,  8,  2,  3,  7,  1,  3,  0,  9,  3,  3,  4,  7,  9,  9,  2,\n        4,  4,  7,  7,  3,  0,  7,  3,  1,  1,  0,  0, 10,  1,  6,  7,  0,\n       10,  9,  9, 10,  4,  1,  4,  3,  9,  9,  9,  7,  1,  7,  0,  1, 10,\n        7,  1,  3, 10,  2,  9,  7,  4,  4,  4,  9,  3,  7, 10,  9,  6,  0,\n        2,  0, 10,  1,  1,  7,  4, 10,  7, 10,  7,  4,  7, 10,  7,  4, 10,\n       10,  1,  9, 10,  1,  7,  7, 10,  1,  8,  3,  1,  0, 10,  7,  7,  3,\n        7,  4])"
     },
     "execution_count": 50,
     "metadata": {},
     "output_type": "execute_result"
    }
   ],
   "source": [
    "pred = best_model.predict(test_feature)\n",
    "pred"
   ],
   "metadata": {
    "collapsed": false,
    "pycharm": {
     "name": "#%%\n"
    }
   }
  },
  {
   "cell_type": "code",
   "execution_count": 67,
   "outputs": [
    {
     "name": "stdout",
     "output_type": "stream",
     "text": [
      "              precision    recall  f1-score   support\n",
      "\n",
      "           0       0.12      0.09      0.11        22\n",
      "           1       0.00      0.00      0.00        21\n",
      "           2       0.18      0.13      0.15        15\n",
      "           3       0.00      0.00      0.00        19\n",
      "           4       0.06      0.06      0.06        18\n",
      "           5       0.00      0.00      0.00        10\n",
      "           6       0.00      0.00      0.00         8\n",
      "           7       0.04      0.11      0.06        19\n",
      "           8       0.00      0.00      0.00        15\n",
      "           9       0.05      0.06      0.05        18\n",
      "          10       0.21      0.25      0.23        24\n",
      "\n",
      "    accuracy                           0.07       189\n",
      "   macro avg       0.06      0.06      0.06       189\n",
      "weighted avg       0.07      0.07      0.07       189\n",
      "\n"
     ]
    },
    {
     "name": "stderr",
     "output_type": "stream",
     "text": [
      "c:\\users\\harys\\appdata\\local\\programs\\python\\python39\\lib\\site-packages\\sklearn\\metrics\\_classification.py:1318: UndefinedMetricWarning: Precision and F-score are ill-defined and being set to 0.0 in labels with no predicted samples. Use `zero_division` parameter to control this behavior.\n",
      "  _warn_prf(average, modifier, msg_start, len(result))\n",
      "c:\\users\\harys\\appdata\\local\\programs\\python\\python39\\lib\\site-packages\\sklearn\\metrics\\_classification.py:1318: UndefinedMetricWarning: Precision and F-score are ill-defined and being set to 0.0 in labels with no predicted samples. Use `zero_division` parameter to control this behavior.\n",
      "  _warn_prf(average, modifier, msg_start, len(result))\n",
      "c:\\users\\harys\\appdata\\local\\programs\\python\\python39\\lib\\site-packages\\sklearn\\metrics\\_classification.py:1318: UndefinedMetricWarning: Precision and F-score are ill-defined and being set to 0.0 in labels with no predicted samples. Use `zero_division` parameter to control this behavior.\n",
      "  _warn_prf(average, modifier, msg_start, len(result))\n"
     ]
    }
   ],
   "source": [
    "print(classification_report(test_target, pred))"
   ],
   "metadata": {
    "collapsed": false,
    "pycharm": {
     "name": "#%%\n"
    }
   }
  },
  {
   "cell_type": "code",
   "execution_count": 68,
   "outputs": [
    {
     "data": {
      "text/plain": "<Figure size 1584x1584 with 2 Axes>",
      "image/png": "[encoded data removed]"
     },
     "metadata": {
      "needs_background": "light"
     },
     "output_type": "display_data"
    }
   ],
   "source": [
    "import seaborn as sns\n",
    "import matplotlib.pyplot as plt\n",
    "\n",
    "plt.figure(figsize = (22, 22))\n",
    "cf_matrix = confusion_matrix(test_target, pred)\n",
    "ax = sns.heatmap(cf_matrix, annot=True, cmap='Blues')\n",
    "\n",
    "ax.set_title('Confusion Matrix\\n')\n",
    "ax.set_xlabel('\\nPredicted Values')\n",
    "ax.set_ylabel('Actual Values ')\n",
    "\n",
    "## Ticket labels - List must be in alphabetical order\n",
    "ax.xaxis.set_ticklabels(le.classes_)\n",
    "ax.yaxis.set_ticklabels(le.classes_, rotation=90, va=\"center\")\n",
    "## Display the visualization of the Confusion Matrix.\n",
    "plt.show()"
   ],
   "metadata": {
    "collapsed": false,
    "pycharm": {
     "name": "#%%\n"
    }
   }
  }
 ],
 "metadata": {
  "kernelspec": {
   "display_name": "Python 3",
   "language": "python",
   "name": "python3"
  },
  "language_info": {
   "codemirror_mode": {
    "name": "ipython",
    "version": 2
   },
   "file_extension": ".py",
   "mimetype": "text/x-python",
   "name": "python",
   "nbconvert_exporter": "python",
   "pygments_lexer": "ipython2",
   "version": "2.7.6"
  }
 },
 "nbformat": 4,
 "nbformat_minor": 0
}
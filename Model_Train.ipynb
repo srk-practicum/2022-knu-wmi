{
 "cells": [
  {
   "cell_type": "code",
   "execution_count": 1,
   "outputs": [],
   "source": [
    "import math\n",
    "import os\n",
    "import shutil\n",
    "from os import listdir, mkdir\n",
    "from os.path import isfile, join\n",
    "import re\n",
    "\n",
    "import numpy as np\n",
    "import pandas as pd\n",
    "import matplotlib.pyplot as plt\n",
    "import pywt\n",
    "import seaborn as sns\n",
    "from sklearn import preprocessing\n",
    "from sklearn.decomposition import PCA\n",
    "from sklearn.ensemble import RandomForestClassifier\n",
    "from sklearn.model_selection import GridSearchCV, cross_val_score\n",
    "from sklearn.naive_bayes import GaussianNB\n",
    "from sklearn.neighbors import KNeighborsClassifier\n",
    "from sklearn.preprocessing import StandardScaler"
   ],
   "metadata": {
    "collapsed": false,
    "pycharm": {
     "name": "#%%\n"
    }
   }
  },
  {
   "cell_type": "code",
   "execution_count": 2,
   "outputs": [],
   "source": [
    "def getCsiMatrFromCsv(fileName: str, CsiFilesFolder: str) -> pd.DataFrame:\n",
    "    csvFilePath = join(CsiFilesFolder, fileName)\n",
    "    return pd.read_csv(csvFilePath)"
   ],
   "metadata": {
    "collapsed": false,
    "pycharm": {
     "name": "#%%\n"
    }
   }
  },
  {
   "cell_type": "markdown",
   "metadata": {
    "collapsed": true,
    "pycharm": {
     "name": "#%% md\n"
    }
   },
   "source": [
    "### read train, test datasets"
   ]
  },
  {
   "cell_type": "code",
   "execution_count": 3,
   "outputs": [],
   "source": [
    "dataset_path = \"dataset1/dataset\"\n",
    "train_dataset = getCsiMatrFromCsv(\"train.csv\", dataset_path)\n",
    "train_dataset = train_dataset.rename(columns={train_dataset.columns[-1]: \"target\"})\n",
    "test_dataset = getCsiMatrFromCsv(\"test.csv\", dataset_path)\n",
    "test_dataset = test_dataset.rename(columns={test_dataset.columns[-1]: \"target\"})\n"
   ],
   "metadata": {
    "collapsed": false,
    "pycharm": {
     "name": "#%%\n"
    }
   }
  },
  {
   "cell_type": "code",
   "execution_count": 4,
   "outputs": [],
   "source": [
    "train_target = train_dataset.target\n",
    "test_target = test_dataset.target\n",
    "\n",
    "le = preprocessing.LabelEncoder()\n",
    "le.fit(train_target)\n",
    "train_target = pd.DataFrame(le.transform(train_target))\n",
    "\n",
    "le = preprocessing.LabelEncoder()\n",
    "le.fit(test_target)\n",
    "test_target = pd.DataFrame(le.transform(test_target))\n",
    "\n",
    "train_features = train_dataset.drop(columns=[\"target\", ])\n",
    "test_features = test_dataset.drop(columns=[\"target\", ])"
   ],
   "metadata": {
    "collapsed": false,
    "pycharm": {
     "name": "#%%\n"
    }
   }
  },
  {
   "cell_type": "code",
   "execution_count": 5,
   "outputs": [
    {
     "data": {
      "text/plain": "    0\n0   0\n1   0\n2   0\n3   0\n4   0\n.. ..\n43  1\n44  1\n45  1\n46  1\n47  1\n\n[166 rows x 1 columns]",
      "text/html": "<div>\n<style scoped>\n    .dataframe tbody tr th:only-of-type {\n        vertical-align: middle;\n    }\n\n    .dataframe tbody tr th {\n        vertical-align: top;\n    }\n\n    .dataframe thead th {\n        text-align: right;\n    }\n</style>\n<table border=\"1\" class=\"dataframe\">\n  <thead>\n    <tr style=\"text-align: right;\">\n      <th></th>\n      <th>0</th>\n    </tr>\n  </thead>\n  <tbody>\n    <tr>\n      <th>0</th>\n      <td>0</td>\n    </tr>\n    <tr>\n      <th>1</th>\n      <td>0</td>\n    </tr>\n    <tr>\n      <th>2</th>\n      <td>0</td>\n    </tr>\n    <tr>\n      <th>3</th>\n      <td>0</td>\n    </tr>\n    <tr>\n      <th>4</th>\n      <td>0</td>\n    </tr>\n    <tr>\n      <th>...</th>\n      <td>...</td>\n    </tr>\n    <tr>\n      <th>43</th>\n      <td>1</td>\n    </tr>\n    <tr>\n      <th>44</th>\n      <td>1</td>\n    </tr>\n    <tr>\n      <th>45</th>\n      <td>1</td>\n    </tr>\n    <tr>\n      <th>46</th>\n      <td>1</td>\n    </tr>\n    <tr>\n      <th>47</th>\n      <td>1</td>\n    </tr>\n  </tbody>\n</table>\n<p>166 rows × 1 columns</p>\n</div>"
     },
     "execution_count": 5,
     "metadata": {},
     "output_type": "execute_result"
    }
   ],
   "source": [
    "dataset = pd.concat([train_features, test_features])\n",
    "dataset\n",
    "target = pd.concat([train_target, test_target])\n",
    "target"
   ],
   "metadata": {
    "collapsed": false,
    "pycharm": {
     "name": "#%%\n"
    }
   }
  },
  {
   "cell_type": "markdown",
   "source": [
    "### 1) Random Forest\n"
   ],
   "metadata": {
    "collapsed": false,
    "pycharm": {
     "name": "#%% md\n"
    }
   }
  },
  {
   "cell_type": "code",
   "execution_count": 63,
   "outputs": [],
   "source": [
    "model = RandomForestClassifier(oob_score=True, random_state=1, n_jobs=-1)\n",
    "# print(model.get_params())"
   ],
   "metadata": {
    "collapsed": false,
    "pycharm": {
     "name": "#%%\n"
    }
   }
  },
  {
   "cell_type": "code",
   "execution_count": 64,
   "outputs": [
    {
     "name": "stdout",
     "output_type": "stream",
     "text": [
      "Fitting 3 folds for each of 180 candidates, totalling 540 fits\n",
      "[CV 1/3; 1/180] START bootstrap=True, criterion=entropy, max_depth=6, max_features=auto, min_samples_leaf=1, min_samples_split=2, n_estimators=50\n"
     ]
    },
    {
     "name": "stderr",
     "output_type": "stream",
     "text": [
      "d:\\googledrive\\wirelessmotionintelligence\\2022-knu-wmi\\venv\\lib\\site-packages\\sklearn\\model_selection\\_validation.py:680: DataConversionWarning: A column-vector y was passed when a 1d array was expected. Please change the shape of y to (n_samples,), for example using ravel().\n",
      "  estimator.fit(X_train, y_train, **fit_params)\n"
     ]
    },
    {
     "name": "stdout",
     "output_type": "stream",
     "text": [
      "[CV 1/3; 1/180] END bootstrap=True, criterion=entropy, max_depth=6, max_features=auto, min_samples_leaf=1, min_samples_split=2, n_estimators=50;, score=0.625 total time=   1.2s\n",
      "[CV 2/3; 1/180] START bootstrap=True, criterion=entropy, max_depth=6, max_features=auto, min_samples_leaf=1, min_samples_split=2, n_estimators=50\n"
     ]
    },
    {
     "name": "stderr",
     "output_type": "stream",
     "text": [
      "d:\\googledrive\\wirelessmotionintelligence\\2022-knu-wmi\\venv\\lib\\site-packages\\sklearn\\model_selection\\_validation.py:680: DataConversionWarning: A column-vector y was passed when a 1d array was expected. Please change the shape of y to (n_samples,), for example using ravel().\n",
      "  estimator.fit(X_train, y_train, **fit_params)\n"
     ]
    },
    {
     "name": "stdout",
     "output_type": "stream",
     "text": [
      "[CV 2/3; 1/180] END bootstrap=True, criterion=entropy, max_depth=6, max_features=auto, min_samples_leaf=1, min_samples_split=2, n_estimators=50;, score=0.538 total time=   1.3s\n",
      "[CV 3/3; 1/180] START bootstrap=True, criterion=entropy, max_depth=6, max_features=auto, min_samples_leaf=1, min_samples_split=2, n_estimators=50\n"
     ]
    },
    {
     "name": "stderr",
     "output_type": "stream",
     "text": [
      "d:\\googledrive\\wirelessmotionintelligence\\2022-knu-wmi\\venv\\lib\\site-packages\\sklearn\\model_selection\\_validation.py:680: DataConversionWarning: A column-vector y was passed when a 1d array was expected. Please change the shape of y to (n_samples,), for example using ravel().\n",
      "  estimator.fit(X_train, y_train, **fit_params)\n"
     ]
    },
    {
     "name": "stdout",
     "output_type": "stream",
     "text": [
      "[CV 3/3; 1/180] END bootstrap=True, criterion=entropy, max_depth=6, max_features=auto, min_samples_leaf=1, min_samples_split=2, n_estimators=50;, score=0.538 total time=   1.3s\n",
      "[CV 1/3; 2/180] START bootstrap=True, criterion=entropy, max_depth=6, max_features=auto, min_samples_leaf=1, min_samples_split=2, n_estimators=100\n"
     ]
    },
    {
     "name": "stderr",
     "output_type": "stream",
     "text": [
      "d:\\googledrive\\wirelessmotionintelligence\\2022-knu-wmi\\venv\\lib\\site-packages\\sklearn\\model_selection\\_validation.py:680: DataConversionWarning: A column-vector y was passed when a 1d array was expected. Please change the shape of y to (n_samples,), for example using ravel().\n",
      "  estimator.fit(X_train, y_train, **fit_params)\n"
     ]
    },
    {
     "name": "stdout",
     "output_type": "stream",
     "text": [
      "[CV 1/3; 2/180] END bootstrap=True, criterion=entropy, max_depth=6, max_features=auto, min_samples_leaf=1, min_samples_split=2, n_estimators=100;, score=0.600 total time=   1.5s\n",
      "[CV 2/3; 2/180] START bootstrap=True, criterion=entropy, max_depth=6, max_features=auto, min_samples_leaf=1, min_samples_split=2, n_estimators=100\n"
     ]
    },
    {
     "name": "stderr",
     "output_type": "stream",
     "text": [
      "d:\\googledrive\\wirelessmotionintelligence\\2022-knu-wmi\\venv\\lib\\site-packages\\sklearn\\model_selection\\_validation.py:680: DataConversionWarning: A column-vector y was passed when a 1d array was expected. Please change the shape of y to (n_samples,), for example using ravel().\n",
      "  estimator.fit(X_train, y_train, **fit_params)\n"
     ]
    },
    {
     "name": "stdout",
     "output_type": "stream",
     "text": [
      "[CV 2/3; 2/180] END bootstrap=True, criterion=entropy, max_depth=6, max_features=auto, min_samples_leaf=1, min_samples_split=2, n_estimators=100;, score=0.641 total time=   1.7s\n",
      "[CV 3/3; 2/180] START bootstrap=True, criterion=entropy, max_depth=6, max_features=auto, min_samples_leaf=1, min_samples_split=2, n_estimators=100\n"
     ]
    },
    {
     "name": "stderr",
     "output_type": "stream",
     "text": [
      "d:\\googledrive\\wirelessmotionintelligence\\2022-knu-wmi\\venv\\lib\\site-packages\\sklearn\\model_selection\\_validation.py:680: DataConversionWarning: A column-vector y was passed when a 1d array was expected. Please change the shape of y to (n_samples,), for example using ravel().\n",
      "  estimator.fit(X_train, y_train, **fit_params)\n"
     ]
    },
    {
     "name": "stdout",
     "output_type": "stream",
     "text": [
      "[CV 3/3; 2/180] END bootstrap=True, criterion=entropy, max_depth=6, max_features=auto, min_samples_leaf=1, min_samples_split=2, n_estimators=100;, score=0.487 total time=   1.7s\n",
      "[CV 1/3; 3/180] START bootstrap=True, criterion=entropy, max_depth=6, max_features=auto, min_samples_leaf=1, min_samples_split=2, n_estimators=200\n"
     ]
    },
    {
     "name": "stderr",
     "output_type": "stream",
     "text": [
      "d:\\googledrive\\wirelessmotionintelligence\\2022-knu-wmi\\venv\\lib\\site-packages\\sklearn\\model_selection\\_validation.py:680: DataConversionWarning: A column-vector y was passed when a 1d array was expected. Please change the shape of y to (n_samples,), for example using ravel().\n",
      "  estimator.fit(X_train, y_train, **fit_params)\n"
     ]
    },
    {
     "name": "stdout",
     "output_type": "stream",
     "text": [
      "[CV 1/3; 3/180] END bootstrap=True, criterion=entropy, max_depth=6, max_features=auto, min_samples_leaf=1, min_samples_split=2, n_estimators=200;, score=0.500 total time=   2.4s\n",
      "[CV 2/3; 3/180] START bootstrap=True, criterion=entropy, max_depth=6, max_features=auto, min_samples_leaf=1, min_samples_split=2, n_estimators=200\n"
     ]
    },
    {
     "name": "stderr",
     "output_type": "stream",
     "text": [
      "d:\\googledrive\\wirelessmotionintelligence\\2022-knu-wmi\\venv\\lib\\site-packages\\sklearn\\model_selection\\_validation.py:680: DataConversionWarning: A column-vector y was passed when a 1d array was expected. Please change the shape of y to (n_samples,), for example using ravel().\n",
      "  estimator.fit(X_train, y_train, **fit_params)\n"
     ]
    },
    {
     "name": "stdout",
     "output_type": "stream",
     "text": [
      "[CV 2/3; 3/180] END bootstrap=True, criterion=entropy, max_depth=6, max_features=auto, min_samples_leaf=1, min_samples_split=2, n_estimators=200;, score=0.538 total time=   2.4s\n",
      "[CV 3/3; 3/180] START bootstrap=True, criterion=entropy, max_depth=6, max_features=auto, min_samples_leaf=1, min_samples_split=2, n_estimators=200\n"
     ]
    },
    {
     "name": "stderr",
     "output_type": "stream",
     "text": [
      "d:\\googledrive\\wirelessmotionintelligence\\2022-knu-wmi\\venv\\lib\\site-packages\\sklearn\\model_selection\\_validation.py:680: DataConversionWarning: A column-vector y was passed when a 1d array was expected. Please change the shape of y to (n_samples,), for example using ravel().\n",
      "  estimator.fit(X_train, y_train, **fit_params)\n"
     ]
    },
    {
     "name": "stdout",
     "output_type": "stream",
     "text": [
      "[CV 3/3; 3/180] END bootstrap=True, criterion=entropy, max_depth=6, max_features=auto, min_samples_leaf=1, min_samples_split=2, n_estimators=200;, score=0.513 total time=   2.4s\n",
      "[CV 1/3; 4/180] START bootstrap=True, criterion=entropy, max_depth=6, max_features=auto, min_samples_leaf=1, min_samples_split=2, n_estimators=300\n"
     ]
    },
    {
     "name": "stderr",
     "output_type": "stream",
     "text": [
      "d:\\googledrive\\wirelessmotionintelligence\\2022-knu-wmi\\venv\\lib\\site-packages\\sklearn\\model_selection\\_validation.py:680: DataConversionWarning: A column-vector y was passed when a 1d array was expected. Please change the shape of y to (n_samples,), for example using ravel().\n",
      "  estimator.fit(X_train, y_train, **fit_params)\n"
     ]
    },
    {
     "name": "stdout",
     "output_type": "stream",
     "text": [
      "[CV 1/3; 4/180] END bootstrap=True, criterion=entropy, max_depth=6, max_features=auto, min_samples_leaf=1, min_samples_split=2, n_estimators=300;, score=0.525 total time=   3.4s\n",
      "[CV 2/3; 4/180] START bootstrap=True, criterion=entropy, max_depth=6, max_features=auto, min_samples_leaf=1, min_samples_split=2, n_estimators=300\n"
     ]
    },
    {
     "name": "stderr",
     "output_type": "stream",
     "text": [
      "d:\\googledrive\\wirelessmotionintelligence\\2022-knu-wmi\\venv\\lib\\site-packages\\sklearn\\model_selection\\_validation.py:680: DataConversionWarning: A column-vector y was passed when a 1d array was expected. Please change the shape of y to (n_samples,), for example using ravel().\n",
      "  estimator.fit(X_train, y_train, **fit_params)\n"
     ]
    },
    {
     "name": "stdout",
     "output_type": "stream",
     "text": [
      "[CV 2/3; 4/180] END bootstrap=True, criterion=entropy, max_depth=6, max_features=auto, min_samples_leaf=1, min_samples_split=2, n_estimators=300;, score=0.538 total time=   3.6s\n",
      "[CV 3/3; 4/180] START bootstrap=True, criterion=entropy, max_depth=6, max_features=auto, min_samples_leaf=1, min_samples_split=2, n_estimators=300\n"
     ]
    },
    {
     "name": "stderr",
     "output_type": "stream",
     "text": [
      "d:\\googledrive\\wirelessmotionintelligence\\2022-knu-wmi\\venv\\lib\\site-packages\\sklearn\\model_selection\\_validation.py:680: DataConversionWarning: A column-vector y was passed when a 1d array was expected. Please change the shape of y to (n_samples,), for example using ravel().\n",
      "  estimator.fit(X_train, y_train, **fit_params)\n"
     ]
    },
    {
     "name": "stdout",
     "output_type": "stream",
     "text": [
      "[CV 3/3; 4/180] END bootstrap=True, criterion=entropy, max_depth=6, max_features=auto, min_samples_leaf=1, min_samples_split=2, n_estimators=300;, score=0.538 total time=   3.4s\n",
      "[CV 1/3; 5/180] START bootstrap=True, criterion=entropy, max_depth=6, max_features=auto, min_samples_leaf=1, min_samples_split=4, n_estimators=50\n"
     ]
    },
    {
     "name": "stderr",
     "output_type": "stream",
     "text": [
      "d:\\googledrive\\wirelessmotionintelligence\\2022-knu-wmi\\venv\\lib\\site-packages\\sklearn\\model_selection\\_validation.py:680: DataConversionWarning: A column-vector y was passed when a 1d array was expected. Please change the shape of y to (n_samples,), for example using ravel().\n",
      "  estimator.fit(X_train, y_train, **fit_params)\n"
     ]
    },
    {
     "name": "stdout",
     "output_type": "stream",
     "text": [
      "[CV 1/3; 5/180] END bootstrap=True, criterion=entropy, max_depth=6, max_features=auto, min_samples_leaf=1, min_samples_split=4, n_estimators=50;, score=0.600 total time=   1.0s\n",
      "[CV 2/3; 5/180] START bootstrap=True, criterion=entropy, max_depth=6, max_features=auto, min_samples_leaf=1, min_samples_split=4, n_estimators=50\n"
     ]
    },
    {
     "name": "stderr",
     "output_type": "stream",
     "text": [
      "d:\\googledrive\\wirelessmotionintelligence\\2022-knu-wmi\\venv\\lib\\site-packages\\sklearn\\model_selection\\_validation.py:680: DataConversionWarning: A column-vector y was passed when a 1d array was expected. Please change the shape of y to (n_samples,), for example using ravel().\n",
      "  estimator.fit(X_train, y_train, **fit_params)\n"
     ]
    },
    {
     "name": "stdout",
     "output_type": "stream",
     "text": [
      "[CV 2/3; 5/180] END bootstrap=True, criterion=entropy, max_depth=6, max_features=auto, min_samples_leaf=1, min_samples_split=4, n_estimators=50;, score=0.564 total time=   1.1s\n",
      "[CV 3/3; 5/180] START bootstrap=True, criterion=entropy, max_depth=6, max_features=auto, min_samples_leaf=1, min_samples_split=4, n_estimators=50\n"
     ]
    },
    {
     "name": "stderr",
     "output_type": "stream",
     "text": [
      "d:\\googledrive\\wirelessmotionintelligence\\2022-knu-wmi\\venv\\lib\\site-packages\\sklearn\\model_selection\\_validation.py:680: DataConversionWarning: A column-vector y was passed when a 1d array was expected. Please change the shape of y to (n_samples,), for example using ravel().\n",
      "  estimator.fit(X_train, y_train, **fit_params)\n"
     ]
    },
    {
     "name": "stdout",
     "output_type": "stream",
     "text": [
      "[CV 3/3; 5/180] END bootstrap=True, criterion=entropy, max_depth=6, max_features=auto, min_samples_leaf=1, min_samples_split=4, n_estimators=50;, score=0.513 total time=   1.1s\n",
      "[CV 1/3; 6/180] START bootstrap=True, criterion=entropy, max_depth=6, max_features=auto, min_samples_leaf=1, min_samples_split=4, n_estimators=100\n"
     ]
    },
    {
     "name": "stderr",
     "output_type": "stream",
     "text": [
      "d:\\googledrive\\wirelessmotionintelligence\\2022-knu-wmi\\venv\\lib\\site-packages\\sklearn\\model_selection\\_validation.py:680: DataConversionWarning: A column-vector y was passed when a 1d array was expected. Please change the shape of y to (n_samples,), for example using ravel().\n",
      "  estimator.fit(X_train, y_train, **fit_params)\n"
     ]
    },
    {
     "name": "stdout",
     "output_type": "stream",
     "text": [
      "[CV 1/3; 6/180] END bootstrap=True, criterion=entropy, max_depth=6, max_features=auto, min_samples_leaf=1, min_samples_split=4, n_estimators=100;, score=0.550 total time=   1.6s\n",
      "[CV 2/3; 6/180] START bootstrap=True, criterion=entropy, max_depth=6, max_features=auto, min_samples_leaf=1, min_samples_split=4, n_estimators=100\n"
     ]
    },
    {
     "name": "stderr",
     "output_type": "stream",
     "text": [
      "d:\\googledrive\\wirelessmotionintelligence\\2022-knu-wmi\\venv\\lib\\site-packages\\sklearn\\model_selection\\_validation.py:680: DataConversionWarning: A column-vector y was passed when a 1d array was expected. Please change the shape of y to (n_samples,), for example using ravel().\n",
      "  estimator.fit(X_train, y_train, **fit_params)\n"
     ]
    },
    {
     "name": "stdout",
     "output_type": "stream",
     "text": [
      "[CV 2/3; 6/180] END bootstrap=True, criterion=entropy, max_depth=6, max_features=auto, min_samples_leaf=1, min_samples_split=4, n_estimators=100;, score=0.641 total time=   1.6s\n",
      "[CV 3/3; 6/180] START bootstrap=True, criterion=entropy, max_depth=6, max_features=auto, min_samples_leaf=1, min_samples_split=4, n_estimators=100\n"
     ]
    },
    {
     "name": "stderr",
     "output_type": "stream",
     "text": [
      "d:\\googledrive\\wirelessmotionintelligence\\2022-knu-wmi\\venv\\lib\\site-packages\\sklearn\\model_selection\\_validation.py:680: DataConversionWarning: A column-vector y was passed when a 1d array was expected. Please change the shape of y to (n_samples,), for example using ravel().\n",
      "  estimator.fit(X_train, y_train, **fit_params)\n"
     ]
    },
    {
     "name": "stdout",
     "output_type": "stream",
     "text": [
      "[CV 3/3; 6/180] END bootstrap=True, criterion=entropy, max_depth=6, max_features=auto, min_samples_leaf=1, min_samples_split=4, n_estimators=100;, score=0.487 total time=   1.6s\n",
      "[CV 1/3; 7/180] START bootstrap=True, criterion=entropy, max_depth=6, max_features=auto, min_samples_leaf=1, min_samples_split=4, n_estimators=200\n"
     ]
    },
    {
     "name": "stderr",
     "output_type": "stream",
     "text": [
      "d:\\googledrive\\wirelessmotionintelligence\\2022-knu-wmi\\venv\\lib\\site-packages\\sklearn\\model_selection\\_validation.py:680: DataConversionWarning: A column-vector y was passed when a 1d array was expected. Please change the shape of y to (n_samples,), for example using ravel().\n",
      "  estimator.fit(X_train, y_train, **fit_params)\n"
     ]
    },
    {
     "name": "stdout",
     "output_type": "stream",
     "text": [
      "[CV 1/3; 7/180] END bootstrap=True, criterion=entropy, max_depth=6, max_features=auto, min_samples_leaf=1, min_samples_split=4, n_estimators=200;, score=0.500 total time=   2.4s\n",
      "[CV 2/3; 7/180] START bootstrap=True, criterion=entropy, max_depth=6, max_features=auto, min_samples_leaf=1, min_samples_split=4, n_estimators=200\n"
     ]
    },
    {
     "name": "stderr",
     "output_type": "stream",
     "text": [
      "d:\\googledrive\\wirelessmotionintelligence\\2022-knu-wmi\\venv\\lib\\site-packages\\sklearn\\model_selection\\_validation.py:680: DataConversionWarning: A column-vector y was passed when a 1d array was expected. Please change the shape of y to (n_samples,), for example using ravel().\n",
      "  estimator.fit(X_train, y_train, **fit_params)\n"
     ]
    },
    {
     "name": "stdout",
     "output_type": "stream",
     "text": [
      "[CV 2/3; 7/180] END bootstrap=True, criterion=entropy, max_depth=6, max_features=auto, min_samples_leaf=1, min_samples_split=4, n_estimators=200;, score=0.564 total time=   2.4s\n",
      "[CV 3/3; 7/180] START bootstrap=True, criterion=entropy, max_depth=6, max_features=auto, min_samples_leaf=1, min_samples_split=4, n_estimators=200\n"
     ]
    },
    {
     "name": "stderr",
     "output_type": "stream",
     "text": [
      "d:\\googledrive\\wirelessmotionintelligence\\2022-knu-wmi\\venv\\lib\\site-packages\\sklearn\\model_selection\\_validation.py:680: DataConversionWarning: A column-vector y was passed when a 1d array was expected. Please change the shape of y to (n_samples,), for example using ravel().\n",
      "  estimator.fit(X_train, y_train, **fit_params)\n"
     ]
    },
    {
     "name": "stdout",
     "output_type": "stream",
     "text": [
      "[CV 3/3; 7/180] END bootstrap=True, criterion=entropy, max_depth=6, max_features=auto, min_samples_leaf=1, min_samples_split=4, n_estimators=200;, score=0.538 total time=   2.4s\n",
      "[CV 1/3; 8/180] START bootstrap=True, criterion=entropy, max_depth=6, max_features=auto, min_samples_leaf=1, min_samples_split=4, n_estimators=300\n"
     ]
    },
    {
     "name": "stderr",
     "output_type": "stream",
     "text": [
      "d:\\googledrive\\wirelessmotionintelligence\\2022-knu-wmi\\venv\\lib\\site-packages\\sklearn\\model_selection\\_validation.py:680: DataConversionWarning: A column-vector y was passed when a 1d array was expected. Please change the shape of y to (n_samples,), for example using ravel().\n",
      "  estimator.fit(X_train, y_train, **fit_params)\n"
     ]
    },
    {
     "name": "stdout",
     "output_type": "stream",
     "text": [
      "[CV 1/3; 8/180] END bootstrap=True, criterion=entropy, max_depth=6, max_features=auto, min_samples_leaf=1, min_samples_split=4, n_estimators=300;, score=0.500 total time=   3.5s\n",
      "[CV 2/3; 8/180] START bootstrap=True, criterion=entropy, max_depth=6, max_features=auto, min_samples_leaf=1, min_samples_split=4, n_estimators=300\n"
     ]
    },
    {
     "name": "stderr",
     "output_type": "stream",
     "text": [
      "d:\\googledrive\\wirelessmotionintelligence\\2022-knu-wmi\\venv\\lib\\site-packages\\sklearn\\model_selection\\_validation.py:680: DataConversionWarning: A column-vector y was passed when a 1d array was expected. Please change the shape of y to (n_samples,), for example using ravel().\n",
      "  estimator.fit(X_train, y_train, **fit_params)\n"
     ]
    },
    {
     "name": "stdout",
     "output_type": "stream",
     "text": [
      "[CV 2/3; 8/180] END bootstrap=True, criterion=entropy, max_depth=6, max_features=auto, min_samples_leaf=1, min_samples_split=4, n_estimators=300;, score=0.590 total time=   3.5s\n",
      "[CV 3/3; 8/180] START bootstrap=True, criterion=entropy, max_depth=6, max_features=auto, min_samples_leaf=1, min_samples_split=4, n_estimators=300\n"
     ]
    },
    {
     "name": "stderr",
     "output_type": "stream",
     "text": [
      "d:\\googledrive\\wirelessmotionintelligence\\2022-knu-wmi\\venv\\lib\\site-packages\\sklearn\\model_selection\\_validation.py:680: DataConversionWarning: A column-vector y was passed when a 1d array was expected. Please change the shape of y to (n_samples,), for example using ravel().\n",
      "  estimator.fit(X_train, y_train, **fit_params)\n"
     ]
    },
    {
     "name": "stdout",
     "output_type": "stream",
     "text": [
      "[CV 3/3; 8/180] END bootstrap=True, criterion=entropy, max_depth=6, max_features=auto, min_samples_leaf=1, min_samples_split=4, n_estimators=300;, score=0.538 total time=   3.8s\n",
      "[CV 1/3; 9/180] START bootstrap=True, criterion=entropy, max_depth=6, max_features=auto, min_samples_leaf=1, min_samples_split=10, n_estimators=50\n"
     ]
    },
    {
     "name": "stderr",
     "output_type": "stream",
     "text": [
      "d:\\googledrive\\wirelessmotionintelligence\\2022-knu-wmi\\venv\\lib\\site-packages\\sklearn\\model_selection\\_validation.py:680: DataConversionWarning: A column-vector y was passed when a 1d array was expected. Please change the shape of y to (n_samples,), for example using ravel().\n",
      "  estimator.fit(X_train, y_train, **fit_params)\n"
     ]
    },
    {
     "name": "stdout",
     "output_type": "stream",
     "text": [
      "[CV 1/3; 9/180] END bootstrap=True, criterion=entropy, max_depth=6, max_features=auto, min_samples_leaf=1, min_samples_split=10, n_estimators=50;, score=0.550 total time=   1.0s\n",
      "[CV 2/3; 9/180] START bootstrap=True, criterion=entropy, max_depth=6, max_features=auto, min_samples_leaf=1, min_samples_split=10, n_estimators=50\n"
     ]
    },
    {
     "name": "stderr",
     "output_type": "stream",
     "text": [
      "d:\\googledrive\\wirelessmotionintelligence\\2022-knu-wmi\\venv\\lib\\site-packages\\sklearn\\model_selection\\_validation.py:680: DataConversionWarning: A column-vector y was passed when a 1d array was expected. Please change the shape of y to (n_samples,), for example using ravel().\n",
      "  estimator.fit(X_train, y_train, **fit_params)\n"
     ]
    },
    {
     "name": "stdout",
     "output_type": "stream",
     "text": [
      "[CV 2/3; 9/180] END bootstrap=True, criterion=entropy, max_depth=6, max_features=auto, min_samples_leaf=1, min_samples_split=10, n_estimators=50;, score=0.590 total time=   1.0s\n",
      "[CV 3/3; 9/180] START bootstrap=True, criterion=entropy, max_depth=6, max_features=auto, min_samples_leaf=1, min_samples_split=10, n_estimators=50\n"
     ]
    },
    {
     "name": "stderr",
     "output_type": "stream",
     "text": [
      "d:\\googledrive\\wirelessmotionintelligence\\2022-knu-wmi\\venv\\lib\\site-packages\\sklearn\\model_selection\\_validation.py:680: DataConversionWarning: A column-vector y was passed when a 1d array was expected. Please change the shape of y to (n_samples,), for example using ravel().\n",
      "  estimator.fit(X_train, y_train, **fit_params)\n"
     ]
    },
    {
     "name": "stdout",
     "output_type": "stream",
     "text": [
      "[CV 3/3; 9/180] END bootstrap=True, criterion=entropy, max_depth=6, max_features=auto, min_samples_leaf=1, min_samples_split=10, n_estimators=50;, score=0.333 total time=   1.0s\n",
      "[CV 1/3; 10/180] START bootstrap=True, criterion=entropy, max_depth=6, max_features=auto, min_samples_leaf=1, min_samples_split=10, n_estimators=100\n"
     ]
    },
    {
     "name": "stderr",
     "output_type": "stream",
     "text": [
      "d:\\googledrive\\wirelessmotionintelligence\\2022-knu-wmi\\venv\\lib\\site-packages\\sklearn\\model_selection\\_validation.py:680: DataConversionWarning: A column-vector y was passed when a 1d array was expected. Please change the shape of y to (n_samples,), for example using ravel().\n",
      "  estimator.fit(X_train, y_train, **fit_params)\n"
     ]
    },
    {
     "name": "stdout",
     "output_type": "stream",
     "text": [
      "[CV 1/3; 10/180] END bootstrap=True, criterion=entropy, max_depth=6, max_features=auto, min_samples_leaf=1, min_samples_split=10, n_estimators=100;, score=0.550 total time=   1.6s\n",
      "[CV 2/3; 10/180] START bootstrap=True, criterion=entropy, max_depth=6, max_features=auto, min_samples_leaf=1, min_samples_split=10, n_estimators=100\n"
     ]
    },
    {
     "name": "stderr",
     "output_type": "stream",
     "text": [
      "d:\\googledrive\\wirelessmotionintelligence\\2022-knu-wmi\\venv\\lib\\site-packages\\sklearn\\model_selection\\_validation.py:680: DataConversionWarning: A column-vector y was passed when a 1d array was expected. Please change the shape of y to (n_samples,), for example using ravel().\n",
      "  estimator.fit(X_train, y_train, **fit_params)\n"
     ]
    },
    {
     "name": "stdout",
     "output_type": "stream",
     "text": [
      "[CV 2/3; 10/180] END bootstrap=True, criterion=entropy, max_depth=6, max_features=auto, min_samples_leaf=1, min_samples_split=10, n_estimators=100;, score=0.641 total time=   1.6s\n",
      "[CV 3/3; 10/180] START bootstrap=True, criterion=entropy, max_depth=6, max_features=auto, min_samples_leaf=1, min_samples_split=10, n_estimators=100\n"
     ]
    },
    {
     "name": "stderr",
     "output_type": "stream",
     "text": [
      "d:\\googledrive\\wirelessmotionintelligence\\2022-knu-wmi\\venv\\lib\\site-packages\\sklearn\\model_selection\\_validation.py:680: DataConversionWarning: A column-vector y was passed when a 1d array was expected. Please change the shape of y to (n_samples,), for example using ravel().\n",
      "  estimator.fit(X_train, y_train, **fit_params)\n"
     ]
    },
    {
     "name": "stdout",
     "output_type": "stream",
     "text": [
      "[CV 3/3; 10/180] END bootstrap=True, criterion=entropy, max_depth=6, max_features=auto, min_samples_leaf=1, min_samples_split=10, n_estimators=100;, score=0.462 total time=   1.6s\n",
      "[CV 1/3; 11/180] START bootstrap=True, criterion=entropy, max_depth=6, max_features=auto, min_samples_leaf=1, min_samples_split=10, n_estimators=200\n"
     ]
    },
    {
     "name": "stderr",
     "output_type": "stream",
     "text": [
      "d:\\googledrive\\wirelessmotionintelligence\\2022-knu-wmi\\venv\\lib\\site-packages\\sklearn\\model_selection\\_validation.py:680: DataConversionWarning: A column-vector y was passed when a 1d array was expected. Please change the shape of y to (n_samples,), for example using ravel().\n",
      "  estimator.fit(X_train, y_train, **fit_params)\n"
     ]
    },
    {
     "name": "stdout",
     "output_type": "stream",
     "text": [
      "[CV 1/3; 11/180] END bootstrap=True, criterion=entropy, max_depth=6, max_features=auto, min_samples_leaf=1, min_samples_split=10, n_estimators=200;, score=0.475 total time=   2.4s\n",
      "[CV 2/3; 11/180] START bootstrap=True, criterion=entropy, max_depth=6, max_features=auto, min_samples_leaf=1, min_samples_split=10, n_estimators=200\n"
     ]
    },
    {
     "name": "stderr",
     "output_type": "stream",
     "text": [
      "d:\\googledrive\\wirelessmotionintelligence\\2022-knu-wmi\\venv\\lib\\site-packages\\sklearn\\model_selection\\_validation.py:680: DataConversionWarning: A column-vector y was passed when a 1d array was expected. Please change the shape of y to (n_samples,), for example using ravel().\n",
      "  estimator.fit(X_train, y_train, **fit_params)\n"
     ]
    },
    {
     "name": "stdout",
     "output_type": "stream",
     "text": [
      "[CV 2/3; 11/180] END bootstrap=True, criterion=entropy, max_depth=6, max_features=auto, min_samples_leaf=1, min_samples_split=10, n_estimators=200;, score=0.615 total time=   2.4s\n",
      "[CV 3/3; 11/180] START bootstrap=True, criterion=entropy, max_depth=6, max_features=auto, min_samples_leaf=1, min_samples_split=10, n_estimators=200\n"
     ]
    },
    {
     "name": "stderr",
     "output_type": "stream",
     "text": [
      "d:\\googledrive\\wirelessmotionintelligence\\2022-knu-wmi\\venv\\lib\\site-packages\\sklearn\\model_selection\\_validation.py:680: DataConversionWarning: A column-vector y was passed when a 1d array was expected. Please change the shape of y to (n_samples,), for example using ravel().\n",
      "  estimator.fit(X_train, y_train, **fit_params)\n"
     ]
    },
    {
     "name": "stdout",
     "output_type": "stream",
     "text": [
      "[CV 3/3; 11/180] END bootstrap=True, criterion=entropy, max_depth=6, max_features=auto, min_samples_leaf=1, min_samples_split=10, n_estimators=200;, score=0.538 total time=   2.5s\n",
      "[CV 1/3; 12/180] START bootstrap=True, criterion=entropy, max_depth=6, max_features=auto, min_samples_leaf=1, min_samples_split=10, n_estimators=300\n"
     ]
    },
    {
     "name": "stderr",
     "output_type": "stream",
     "text": [
      "d:\\googledrive\\wirelessmotionintelligence\\2022-knu-wmi\\venv\\lib\\site-packages\\sklearn\\model_selection\\_validation.py:680: DataConversionWarning: A column-vector y was passed when a 1d array was expected. Please change the shape of y to (n_samples,), for example using ravel().\n",
      "  estimator.fit(X_train, y_train, **fit_params)\n"
     ]
    },
    {
     "name": "stdout",
     "output_type": "stream",
     "text": [
      "[CV 1/3; 12/180] END bootstrap=True, criterion=entropy, max_depth=6, max_features=auto, min_samples_leaf=1, min_samples_split=10, n_estimators=300;, score=0.500 total time=   3.4s\n",
      "[CV 2/3; 12/180] START bootstrap=True, criterion=entropy, max_depth=6, max_features=auto, min_samples_leaf=1, min_samples_split=10, n_estimators=300\n"
     ]
    },
    {
     "name": "stderr",
     "output_type": "stream",
     "text": [
      "d:\\googledrive\\wirelessmotionintelligence\\2022-knu-wmi\\venv\\lib\\site-packages\\sklearn\\model_selection\\_validation.py:680: DataConversionWarning: A column-vector y was passed when a 1d array was expected. Please change the shape of y to (n_samples,), for example using ravel().\n",
      "  estimator.fit(X_train, y_train, **fit_params)\n"
     ]
    },
    {
     "name": "stdout",
     "output_type": "stream",
     "text": [
      "[CV 2/3; 12/180] END bootstrap=True, criterion=entropy, max_depth=6, max_features=auto, min_samples_leaf=1, min_samples_split=10, n_estimators=300;, score=0.615 total time=   3.5s\n",
      "[CV 3/3; 12/180] START bootstrap=True, criterion=entropy, max_depth=6, max_features=auto, min_samples_leaf=1, min_samples_split=10, n_estimators=300\n"
     ]
    },
    {
     "name": "stderr",
     "output_type": "stream",
     "text": [
      "d:\\googledrive\\wirelessmotionintelligence\\2022-knu-wmi\\venv\\lib\\site-packages\\sklearn\\model_selection\\_validation.py:680: DataConversionWarning: A column-vector y was passed when a 1d array was expected. Please change the shape of y to (n_samples,), for example using ravel().\n",
      "  estimator.fit(X_train, y_train, **fit_params)\n"
     ]
    },
    {
     "name": "stdout",
     "output_type": "stream",
     "text": [
      "[CV 3/3; 12/180] END bootstrap=True, criterion=entropy, max_depth=6, max_features=auto, min_samples_leaf=1, min_samples_split=10, n_estimators=300;, score=0.590 total time=   3.5s\n",
      "[CV 1/3; 13/180] START bootstrap=True, criterion=entropy, max_depth=6, max_features=auto, min_samples_leaf=1, min_samples_split=12, n_estimators=50\n"
     ]
    },
    {
     "name": "stderr",
     "output_type": "stream",
     "text": [
      "d:\\googledrive\\wirelessmotionintelligence\\2022-knu-wmi\\venv\\lib\\site-packages\\sklearn\\model_selection\\_validation.py:680: DataConversionWarning: A column-vector y was passed when a 1d array was expected. Please change the shape of y to (n_samples,), for example using ravel().\n",
      "  estimator.fit(X_train, y_train, **fit_params)\n"
     ]
    },
    {
     "name": "stdout",
     "output_type": "stream",
     "text": [
      "[CV 1/3; 13/180] END bootstrap=True, criterion=entropy, max_depth=6, max_features=auto, min_samples_leaf=1, min_samples_split=12, n_estimators=50;, score=0.575 total time=   1.1s\n",
      "[CV 2/3; 13/180] START bootstrap=True, criterion=entropy, max_depth=6, max_features=auto, min_samples_leaf=1, min_samples_split=12, n_estimators=50\n"
     ]
    },
    {
     "name": "stderr",
     "output_type": "stream",
     "text": [
      "d:\\googledrive\\wirelessmotionintelligence\\2022-knu-wmi\\venv\\lib\\site-packages\\sklearn\\model_selection\\_validation.py:680: DataConversionWarning: A column-vector y was passed when a 1d array was expected. Please change the shape of y to (n_samples,), for example using ravel().\n",
      "  estimator.fit(X_train, y_train, **fit_params)\n"
     ]
    },
    {
     "name": "stdout",
     "output_type": "stream",
     "text": [
      "[CV 2/3; 13/180] END bootstrap=True, criterion=entropy, max_depth=6, max_features=auto, min_samples_leaf=1, min_samples_split=12, n_estimators=50;, score=0.564 total time=   1.0s\n",
      "[CV 3/3; 13/180] START bootstrap=True, criterion=entropy, max_depth=6, max_features=auto, min_samples_leaf=1, min_samples_split=12, n_estimators=50\n"
     ]
    },
    {
     "name": "stderr",
     "output_type": "stream",
     "text": [
      "d:\\googledrive\\wirelessmotionintelligence\\2022-knu-wmi\\venv\\lib\\site-packages\\sklearn\\model_selection\\_validation.py:680: DataConversionWarning: A column-vector y was passed when a 1d array was expected. Please change the shape of y to (n_samples,), for example using ravel().\n",
      "  estimator.fit(X_train, y_train, **fit_params)\n"
     ]
    },
    {
     "name": "stdout",
     "output_type": "stream",
     "text": [
      "[CV 3/3; 13/180] END bootstrap=True, criterion=entropy, max_depth=6, max_features=auto, min_samples_leaf=1, min_samples_split=12, n_estimators=50;, score=0.410 total time=   1.0s\n",
      "[CV 1/3; 14/180] START bootstrap=True, criterion=entropy, max_depth=6, max_features=auto, min_samples_leaf=1, min_samples_split=12, n_estimators=100\n"
     ]
    },
    {
     "name": "stderr",
     "output_type": "stream",
     "text": [
      "d:\\googledrive\\wirelessmotionintelligence\\2022-knu-wmi\\venv\\lib\\site-packages\\sklearn\\model_selection\\_validation.py:680: DataConversionWarning: A column-vector y was passed when a 1d array was expected. Please change the shape of y to (n_samples,), for example using ravel().\n",
      "  estimator.fit(X_train, y_train, **fit_params)\n"
     ]
    },
    {
     "name": "stdout",
     "output_type": "stream",
     "text": [
      "[CV 1/3; 14/180] END bootstrap=True, criterion=entropy, max_depth=6, max_features=auto, min_samples_leaf=1, min_samples_split=12, n_estimators=100;, score=0.550 total time=   1.6s\n",
      "[CV 2/3; 14/180] START bootstrap=True, criterion=entropy, max_depth=6, max_features=auto, min_samples_leaf=1, min_samples_split=12, n_estimators=100\n"
     ]
    },
    {
     "name": "stderr",
     "output_type": "stream",
     "text": [
      "d:\\googledrive\\wirelessmotionintelligence\\2022-knu-wmi\\venv\\lib\\site-packages\\sklearn\\model_selection\\_validation.py:680: DataConversionWarning: A column-vector y was passed when a 1d array was expected. Please change the shape of y to (n_samples,), for example using ravel().\n",
      "  estimator.fit(X_train, y_train, **fit_params)\n"
     ]
    },
    {
     "name": "stdout",
     "output_type": "stream",
     "text": [
      "[CV 2/3; 14/180] END bootstrap=True, criterion=entropy, max_depth=6, max_features=auto, min_samples_leaf=1, min_samples_split=12, n_estimators=100;, score=0.615 total time=   1.6s\n",
      "[CV 3/3; 14/180] START bootstrap=True, criterion=entropy, max_depth=6, max_features=auto, min_samples_leaf=1, min_samples_split=12, n_estimators=100\n"
     ]
    },
    {
     "name": "stderr",
     "output_type": "stream",
     "text": [
      "d:\\googledrive\\wirelessmotionintelligence\\2022-knu-wmi\\venv\\lib\\site-packages\\sklearn\\model_selection\\_validation.py:680: DataConversionWarning: A column-vector y was passed when a 1d array was expected. Please change the shape of y to (n_samples,), for example using ravel().\n",
      "  estimator.fit(X_train, y_train, **fit_params)\n"
     ]
    },
    {
     "name": "stdout",
     "output_type": "stream",
     "text": [
      "[CV 3/3; 14/180] END bootstrap=True, criterion=entropy, max_depth=6, max_features=auto, min_samples_leaf=1, min_samples_split=12, n_estimators=100;, score=0.487 total time=   1.6s\n",
      "[CV 1/3; 15/180] START bootstrap=True, criterion=entropy, max_depth=6, max_features=auto, min_samples_leaf=1, min_samples_split=12, n_estimators=200\n"
     ]
    },
    {
     "name": "stderr",
     "output_type": "stream",
     "text": [
      "d:\\googledrive\\wirelessmotionintelligence\\2022-knu-wmi\\venv\\lib\\site-packages\\sklearn\\model_selection\\_validation.py:680: DataConversionWarning: A column-vector y was passed when a 1d array was expected. Please change the shape of y to (n_samples,), for example using ravel().\n",
      "  estimator.fit(X_train, y_train, **fit_params)\n"
     ]
    },
    {
     "name": "stdout",
     "output_type": "stream",
     "text": [
      "[CV 1/3; 15/180] END bootstrap=True, criterion=entropy, max_depth=6, max_features=auto, min_samples_leaf=1, min_samples_split=12, n_estimators=200;, score=0.475 total time=   2.4s\n",
      "[CV 2/3; 15/180] START bootstrap=True, criterion=entropy, max_depth=6, max_features=auto, min_samples_leaf=1, min_samples_split=12, n_estimators=200\n"
     ]
    },
    {
     "name": "stderr",
     "output_type": "stream",
     "text": [
      "d:\\googledrive\\wirelessmotionintelligence\\2022-knu-wmi\\venv\\lib\\site-packages\\sklearn\\model_selection\\_validation.py:680: DataConversionWarning: A column-vector y was passed when a 1d array was expected. Please change the shape of y to (n_samples,), for example using ravel().\n",
      "  estimator.fit(X_train, y_train, **fit_params)\n"
     ]
    },
    {
     "name": "stdout",
     "output_type": "stream",
     "text": [
      "[CV 2/3; 15/180] END bootstrap=True, criterion=entropy, max_depth=6, max_features=auto, min_samples_leaf=1, min_samples_split=12, n_estimators=200;, score=0.641 total time=   2.5s\n",
      "[CV 3/3; 15/180] START bootstrap=True, criterion=entropy, max_depth=6, max_features=auto, min_samples_leaf=1, min_samples_split=12, n_estimators=200\n"
     ]
    },
    {
     "name": "stderr",
     "output_type": "stream",
     "text": [
      "d:\\googledrive\\wirelessmotionintelligence\\2022-knu-wmi\\venv\\lib\\site-packages\\sklearn\\model_selection\\_validation.py:680: DataConversionWarning: A column-vector y was passed when a 1d array was expected. Please change the shape of y to (n_samples,), for example using ravel().\n",
      "  estimator.fit(X_train, y_train, **fit_params)\n"
     ]
    },
    {
     "name": "stdout",
     "output_type": "stream",
     "text": [
      "[CV 3/3; 15/180] END bootstrap=True, criterion=entropy, max_depth=6, max_features=auto, min_samples_leaf=1, min_samples_split=12, n_estimators=200;, score=0.538 total time=   2.5s\n",
      "[CV 1/3; 16/180] START bootstrap=True, criterion=entropy, max_depth=6, max_features=auto, min_samples_leaf=1, min_samples_split=12, n_estimators=300\n"
     ]
    },
    {
     "name": "stderr",
     "output_type": "stream",
     "text": [
      "d:\\googledrive\\wirelessmotionintelligence\\2022-knu-wmi\\venv\\lib\\site-packages\\sklearn\\model_selection\\_validation.py:680: DataConversionWarning: A column-vector y was passed when a 1d array was expected. Please change the shape of y to (n_samples,), for example using ravel().\n",
      "  estimator.fit(X_train, y_train, **fit_params)\n"
     ]
    },
    {
     "name": "stdout",
     "output_type": "stream",
     "text": [
      "[CV 1/3; 16/180] END bootstrap=True, criterion=entropy, max_depth=6, max_features=auto, min_samples_leaf=1, min_samples_split=12, n_estimators=300;, score=0.500 total time=   3.4s\n",
      "[CV 2/3; 16/180] START bootstrap=True, criterion=entropy, max_depth=6, max_features=auto, min_samples_leaf=1, min_samples_split=12, n_estimators=300\n"
     ]
    },
    {
     "name": "stderr",
     "output_type": "stream",
     "text": [
      "d:\\googledrive\\wirelessmotionintelligence\\2022-knu-wmi\\venv\\lib\\site-packages\\sklearn\\model_selection\\_validation.py:680: DataConversionWarning: A column-vector y was passed when a 1d array was expected. Please change the shape of y to (n_samples,), for example using ravel().\n",
      "  estimator.fit(X_train, y_train, **fit_params)\n"
     ]
    },
    {
     "name": "stdout",
     "output_type": "stream",
     "text": [
      "[CV 2/3; 16/180] END bootstrap=True, criterion=entropy, max_depth=6, max_features=auto, min_samples_leaf=1, min_samples_split=12, n_estimators=300;, score=0.615 total time=   3.5s\n",
      "[CV 3/3; 16/180] START bootstrap=True, criterion=entropy, max_depth=6, max_features=auto, min_samples_leaf=1, min_samples_split=12, n_estimators=300\n"
     ]
    },
    {
     "name": "stderr",
     "output_type": "stream",
     "text": [
      "d:\\googledrive\\wirelessmotionintelligence\\2022-knu-wmi\\venv\\lib\\site-packages\\sklearn\\model_selection\\_validation.py:680: DataConversionWarning: A column-vector y was passed when a 1d array was expected. Please change the shape of y to (n_samples,), for example using ravel().\n",
      "  estimator.fit(X_train, y_train, **fit_params)\n"
     ]
    },
    {
     "name": "stdout",
     "output_type": "stream",
     "text": [
      "[CV 3/3; 16/180] END bootstrap=True, criterion=entropy, max_depth=6, max_features=auto, min_samples_leaf=1, min_samples_split=12, n_estimators=300;, score=0.462 total time=   3.6s\n",
      "[CV 1/3; 17/180] START bootstrap=True, criterion=entropy, max_depth=6, max_features=auto, min_samples_leaf=1, min_samples_split=16, n_estimators=50\n"
     ]
    },
    {
     "name": "stderr",
     "output_type": "stream",
     "text": [
      "d:\\googledrive\\wirelessmotionintelligence\\2022-knu-wmi\\venv\\lib\\site-packages\\sklearn\\model_selection\\_validation.py:680: DataConversionWarning: A column-vector y was passed when a 1d array was expected. Please change the shape of y to (n_samples,), for example using ravel().\n",
      "  estimator.fit(X_train, y_train, **fit_params)\n"
     ]
    },
    {
     "name": "stdout",
     "output_type": "stream",
     "text": [
      "[CV 1/3; 17/180] END bootstrap=True, criterion=entropy, max_depth=6, max_features=auto, min_samples_leaf=1, min_samples_split=16, n_estimators=50;, score=0.625 total time=   1.1s\n",
      "[CV 2/3; 17/180] START bootstrap=True, criterion=entropy, max_depth=6, max_features=auto, min_samples_leaf=1, min_samples_split=16, n_estimators=50\n"
     ]
    },
    {
     "name": "stderr",
     "output_type": "stream",
     "text": [
      "d:\\googledrive\\wirelessmotionintelligence\\2022-knu-wmi\\venv\\lib\\site-packages\\sklearn\\model_selection\\_validation.py:680: DataConversionWarning: A column-vector y was passed when a 1d array was expected. Please change the shape of y to (n_samples,), for example using ravel().\n",
      "  estimator.fit(X_train, y_train, **fit_params)\n"
     ]
    },
    {
     "name": "stdout",
     "output_type": "stream",
     "text": [
      "[CV 2/3; 17/180] END bootstrap=True, criterion=entropy, max_depth=6, max_features=auto, min_samples_leaf=1, min_samples_split=16, n_estimators=50;, score=0.564 total time=   1.0s\n",
      "[CV 3/3; 17/180] START bootstrap=True, criterion=entropy, max_depth=6, max_features=auto, min_samples_leaf=1, min_samples_split=16, n_estimators=50\n"
     ]
    },
    {
     "name": "stderr",
     "output_type": "stream",
     "text": [
      "d:\\googledrive\\wirelessmotionintelligence\\2022-knu-wmi\\venv\\lib\\site-packages\\sklearn\\model_selection\\_validation.py:680: DataConversionWarning: A column-vector y was passed when a 1d array was expected. Please change the shape of y to (n_samples,), for example using ravel().\n",
      "  estimator.fit(X_train, y_train, **fit_params)\n"
     ]
    },
    {
     "name": "stdout",
     "output_type": "stream",
     "text": [
      "[CV 3/3; 17/180] END bootstrap=True, criterion=entropy, max_depth=6, max_features=auto, min_samples_leaf=1, min_samples_split=16, n_estimators=50;, score=0.564 total time=   1.0s\n",
      "[CV 1/3; 18/180] START bootstrap=True, criterion=entropy, max_depth=6, max_features=auto, min_samples_leaf=1, min_samples_split=16, n_estimators=100\n"
     ]
    },
    {
     "name": "stderr",
     "output_type": "stream",
     "text": [
      "d:\\googledrive\\wirelessmotionintelligence\\2022-knu-wmi\\venv\\lib\\site-packages\\sklearn\\model_selection\\_validation.py:680: DataConversionWarning: A column-vector y was passed when a 1d array was expected. Please change the shape of y to (n_samples,), for example using ravel().\n",
      "  estimator.fit(X_train, y_train, **fit_params)\n"
     ]
    },
    {
     "name": "stdout",
     "output_type": "stream",
     "text": [
      "[CV 1/3; 18/180] END bootstrap=True, criterion=entropy, max_depth=6, max_features=auto, min_samples_leaf=1, min_samples_split=16, n_estimators=100;, score=0.550 total time=   1.5s\n",
      "[CV 2/3; 18/180] START bootstrap=True, criterion=entropy, max_depth=6, max_features=auto, min_samples_leaf=1, min_samples_split=16, n_estimators=100\n"
     ]
    },
    {
     "name": "stderr",
     "output_type": "stream",
     "text": [
      "d:\\googledrive\\wirelessmotionintelligence\\2022-knu-wmi\\venv\\lib\\site-packages\\sklearn\\model_selection\\_validation.py:680: DataConversionWarning: A column-vector y was passed when a 1d array was expected. Please change the shape of y to (n_samples,), for example using ravel().\n",
      "  estimator.fit(X_train, y_train, **fit_params)\n"
     ]
    },
    {
     "name": "stdout",
     "output_type": "stream",
     "text": [
      "[CV 2/3; 18/180] END bootstrap=True, criterion=entropy, max_depth=6, max_features=auto, min_samples_leaf=1, min_samples_split=16, n_estimators=100;, score=0.590 total time=   1.6s\n",
      "[CV 3/3; 18/180] START bootstrap=True, criterion=entropy, max_depth=6, max_features=auto, min_samples_leaf=1, min_samples_split=16, n_estimators=100\n"
     ]
    },
    {
     "name": "stderr",
     "output_type": "stream",
     "text": [
      "d:\\googledrive\\wirelessmotionintelligence\\2022-knu-wmi\\venv\\lib\\site-packages\\sklearn\\model_selection\\_validation.py:680: DataConversionWarning: A column-vector y was passed when a 1d array was expected. Please change the shape of y to (n_samples,), for example using ravel().\n",
      "  estimator.fit(X_train, y_train, **fit_params)\n"
     ]
    },
    {
     "name": "stdout",
     "output_type": "stream",
     "text": [
      "[CV 3/3; 18/180] END bootstrap=True, criterion=entropy, max_depth=6, max_features=auto, min_samples_leaf=1, min_samples_split=16, n_estimators=100;, score=0.513 total time=   1.6s\n",
      "[CV 1/3; 19/180] START bootstrap=True, criterion=entropy, max_depth=6, max_features=auto, min_samples_leaf=1, min_samples_split=16, n_estimators=200\n"
     ]
    },
    {
     "name": "stderr",
     "output_type": "stream",
     "text": [
      "d:\\googledrive\\wirelessmotionintelligence\\2022-knu-wmi\\venv\\lib\\site-packages\\sklearn\\model_selection\\_validation.py:680: DataConversionWarning: A column-vector y was passed when a 1d array was expected. Please change the shape of y to (n_samples,), for example using ravel().\n",
      "  estimator.fit(X_train, y_train, **fit_params)\n"
     ]
    },
    {
     "name": "stdout",
     "output_type": "stream",
     "text": [
      "[CV 1/3; 19/180] END bootstrap=True, criterion=entropy, max_depth=6, max_features=auto, min_samples_leaf=1, min_samples_split=16, n_estimators=200;, score=0.525 total time=   2.4s\n",
      "[CV 2/3; 19/180] START bootstrap=True, criterion=entropy, max_depth=6, max_features=auto, min_samples_leaf=1, min_samples_split=16, n_estimators=200\n"
     ]
    },
    {
     "name": "stderr",
     "output_type": "stream",
     "text": [
      "d:\\googledrive\\wirelessmotionintelligence\\2022-knu-wmi\\venv\\lib\\site-packages\\sklearn\\model_selection\\_validation.py:680: DataConversionWarning: A column-vector y was passed when a 1d array was expected. Please change the shape of y to (n_samples,), for example using ravel().\n",
      "  estimator.fit(X_train, y_train, **fit_params)\n"
     ]
    },
    {
     "name": "stdout",
     "output_type": "stream",
     "text": [
      "[CV 2/3; 19/180] END bootstrap=True, criterion=entropy, max_depth=6, max_features=auto, min_samples_leaf=1, min_samples_split=16, n_estimators=200;, score=0.590 total time=   2.4s\n",
      "[CV 3/3; 19/180] START bootstrap=True, criterion=entropy, max_depth=6, max_features=auto, min_samples_leaf=1, min_samples_split=16, n_estimators=200\n"
     ]
    },
    {
     "name": "stderr",
     "output_type": "stream",
     "text": [
      "d:\\googledrive\\wirelessmotionintelligence\\2022-knu-wmi\\venv\\lib\\site-packages\\sklearn\\model_selection\\_validation.py:680: DataConversionWarning: A column-vector y was passed when a 1d array was expected. Please change the shape of y to (n_samples,), for example using ravel().\n",
      "  estimator.fit(X_train, y_train, **fit_params)\n"
     ]
    },
    {
     "name": "stdout",
     "output_type": "stream",
     "text": [
      "[CV 3/3; 19/180] END bootstrap=True, criterion=entropy, max_depth=6, max_features=auto, min_samples_leaf=1, min_samples_split=16, n_estimators=200;, score=0.564 total time=   2.4s\n",
      "[CV 1/3; 20/180] START bootstrap=True, criterion=entropy, max_depth=6, max_features=auto, min_samples_leaf=1, min_samples_split=16, n_estimators=300\n"
     ]
    },
    {
     "name": "stderr",
     "output_type": "stream",
     "text": [
      "d:\\googledrive\\wirelessmotionintelligence\\2022-knu-wmi\\venv\\lib\\site-packages\\sklearn\\model_selection\\_validation.py:680: DataConversionWarning: A column-vector y was passed when a 1d array was expected. Please change the shape of y to (n_samples,), for example using ravel().\n",
      "  estimator.fit(X_train, y_train, **fit_params)\n"
     ]
    },
    {
     "name": "stdout",
     "output_type": "stream",
     "text": [
      "[CV 1/3; 20/180] END bootstrap=True, criterion=entropy, max_depth=6, max_features=auto, min_samples_leaf=1, min_samples_split=16, n_estimators=300;, score=0.525 total time=   3.5s\n",
      "[CV 2/3; 20/180] START bootstrap=True, criterion=entropy, max_depth=6, max_features=auto, min_samples_leaf=1, min_samples_split=16, n_estimators=300\n"
     ]
    },
    {
     "name": "stderr",
     "output_type": "stream",
     "text": [
      "d:\\googledrive\\wirelessmotionintelligence\\2022-knu-wmi\\venv\\lib\\site-packages\\sklearn\\model_selection\\_validation.py:680: DataConversionWarning: A column-vector y was passed when a 1d array was expected. Please change the shape of y to (n_samples,), for example using ravel().\n",
      "  estimator.fit(X_train, y_train, **fit_params)\n"
     ]
    },
    {
     "name": "stdout",
     "output_type": "stream",
     "text": [
      "[CV 2/3; 20/180] END bootstrap=True, criterion=entropy, max_depth=6, max_features=auto, min_samples_leaf=1, min_samples_split=16, n_estimators=300;, score=0.615 total time=   3.4s\n",
      "[CV 3/3; 20/180] START bootstrap=True, criterion=entropy, max_depth=6, max_features=auto, min_samples_leaf=1, min_samples_split=16, n_estimators=300\n"
     ]
    },
    {
     "name": "stderr",
     "output_type": "stream",
     "text": [
      "d:\\googledrive\\wirelessmotionintelligence\\2022-knu-wmi\\venv\\lib\\site-packages\\sklearn\\model_selection\\_validation.py:680: DataConversionWarning: A column-vector y was passed when a 1d array was expected. Please change the shape of y to (n_samples,), for example using ravel().\n",
      "  estimator.fit(X_train, y_train, **fit_params)\n"
     ]
    },
    {
     "name": "stdout",
     "output_type": "stream",
     "text": [
      "[CV 3/3; 20/180] END bootstrap=True, criterion=entropy, max_depth=6, max_features=auto, min_samples_leaf=1, min_samples_split=16, n_estimators=300;, score=0.513 total time=   3.5s\n",
      "[CV 1/3; 21/180] START bootstrap=True, criterion=entropy, max_depth=6, max_features=auto, min_samples_leaf=5, min_samples_split=2, n_estimators=50\n"
     ]
    },
    {
     "name": "stderr",
     "output_type": "stream",
     "text": [
      "d:\\googledrive\\wirelessmotionintelligence\\2022-knu-wmi\\venv\\lib\\site-packages\\sklearn\\model_selection\\_validation.py:680: DataConversionWarning: A column-vector y was passed when a 1d array was expected. Please change the shape of y to (n_samples,), for example using ravel().\n",
      "  estimator.fit(X_train, y_train, **fit_params)\n"
     ]
    },
    {
     "name": "stdout",
     "output_type": "stream",
     "text": [
      "[CV 1/3; 21/180] END bootstrap=True, criterion=entropy, max_depth=6, max_features=auto, min_samples_leaf=5, min_samples_split=2, n_estimators=50;, score=0.600 total time=   1.0s\n",
      "[CV 2/3; 21/180] START bootstrap=True, criterion=entropy, max_depth=6, max_features=auto, min_samples_leaf=5, min_samples_split=2, n_estimators=50\n"
     ]
    },
    {
     "name": "stderr",
     "output_type": "stream",
     "text": [
      "d:\\googledrive\\wirelessmotionintelligence\\2022-knu-wmi\\venv\\lib\\site-packages\\sklearn\\model_selection\\_validation.py:680: DataConversionWarning: A column-vector y was passed when a 1d array was expected. Please change the shape of y to (n_samples,), for example using ravel().\n",
      "  estimator.fit(X_train, y_train, **fit_params)\n"
     ]
    },
    {
     "name": "stdout",
     "output_type": "stream",
     "text": [
      "[CV 2/3; 21/180] END bootstrap=True, criterion=entropy, max_depth=6, max_features=auto, min_samples_leaf=5, min_samples_split=2, n_estimators=50;, score=0.513 total time=   1.0s\n",
      "[CV 3/3; 21/180] START bootstrap=True, criterion=entropy, max_depth=6, max_features=auto, min_samples_leaf=5, min_samples_split=2, n_estimators=50\n"
     ]
    },
    {
     "name": "stderr",
     "output_type": "stream",
     "text": [
      "d:\\googledrive\\wirelessmotionintelligence\\2022-knu-wmi\\venv\\lib\\site-packages\\sklearn\\model_selection\\_validation.py:680: DataConversionWarning: A column-vector y was passed when a 1d array was expected. Please change the shape of y to (n_samples,), for example using ravel().\n",
      "  estimator.fit(X_train, y_train, **fit_params)\n"
     ]
    },
    {
     "name": "stdout",
     "output_type": "stream",
     "text": [
      "[CV 3/3; 21/180] END bootstrap=True, criterion=entropy, max_depth=6, max_features=auto, min_samples_leaf=5, min_samples_split=2, n_estimators=50;, score=0.436 total time=   1.1s\n",
      "[CV 1/3; 22/180] START bootstrap=True, criterion=entropy, max_depth=6, max_features=auto, min_samples_leaf=5, min_samples_split=2, n_estimators=100\n"
     ]
    },
    {
     "name": "stderr",
     "output_type": "stream",
     "text": [
      "d:\\googledrive\\wirelessmotionintelligence\\2022-knu-wmi\\venv\\lib\\site-packages\\sklearn\\model_selection\\_validation.py:680: DataConversionWarning: A column-vector y was passed when a 1d array was expected. Please change the shape of y to (n_samples,), for example using ravel().\n",
      "  estimator.fit(X_train, y_train, **fit_params)\n"
     ]
    },
    {
     "name": "stdout",
     "output_type": "stream",
     "text": [
      "[CV 1/3; 22/180] END bootstrap=True, criterion=entropy, max_depth=6, max_features=auto, min_samples_leaf=5, min_samples_split=2, n_estimators=100;, score=0.525 total time=   1.6s\n",
      "[CV 2/3; 22/180] START bootstrap=True, criterion=entropy, max_depth=6, max_features=auto, min_samples_leaf=5, min_samples_split=2, n_estimators=100\n"
     ]
    },
    {
     "name": "stderr",
     "output_type": "stream",
     "text": [
      "d:\\googledrive\\wirelessmotionintelligence\\2022-knu-wmi\\venv\\lib\\site-packages\\sklearn\\model_selection\\_validation.py:680: DataConversionWarning: A column-vector y was passed when a 1d array was expected. Please change the shape of y to (n_samples,), for example using ravel().\n",
      "  estimator.fit(X_train, y_train, **fit_params)\n"
     ]
    },
    {
     "name": "stdout",
     "output_type": "stream",
     "text": [
      "[CV 2/3; 22/180] END bootstrap=True, criterion=entropy, max_depth=6, max_features=auto, min_samples_leaf=5, min_samples_split=2, n_estimators=100;, score=0.615 total time=   1.6s\n",
      "[CV 3/3; 22/180] START bootstrap=True, criterion=entropy, max_depth=6, max_features=auto, min_samples_leaf=5, min_samples_split=2, n_estimators=100\n"
     ]
    },
    {
     "name": "stderr",
     "output_type": "stream",
     "text": [
      "d:\\googledrive\\wirelessmotionintelligence\\2022-knu-wmi\\venv\\lib\\site-packages\\sklearn\\model_selection\\_validation.py:680: DataConversionWarning: A column-vector y was passed when a 1d array was expected. Please change the shape of y to (n_samples,), for example using ravel().\n",
      "  estimator.fit(X_train, y_train, **fit_params)\n"
     ]
    },
    {
     "name": "stdout",
     "output_type": "stream",
     "text": [
      "[CV 3/3; 22/180] END bootstrap=True, criterion=entropy, max_depth=6, max_features=auto, min_samples_leaf=5, min_samples_split=2, n_estimators=100;, score=0.487 total time=   1.6s\n",
      "[CV 1/3; 23/180] START bootstrap=True, criterion=entropy, max_depth=6, max_features=auto, min_samples_leaf=5, min_samples_split=2, n_estimators=200\n"
     ]
    },
    {
     "name": "stderr",
     "output_type": "stream",
     "text": [
      "d:\\googledrive\\wirelessmotionintelligence\\2022-knu-wmi\\venv\\lib\\site-packages\\sklearn\\model_selection\\_validation.py:680: DataConversionWarning: A column-vector y was passed when a 1d array was expected. Please change the shape of y to (n_samples,), for example using ravel().\n",
      "  estimator.fit(X_train, y_train, **fit_params)\n"
     ]
    },
    {
     "name": "stdout",
     "output_type": "stream",
     "text": [
      "[CV 1/3; 23/180] END bootstrap=True, criterion=entropy, max_depth=6, max_features=auto, min_samples_leaf=5, min_samples_split=2, n_estimators=200;, score=0.500 total time=   2.5s\n",
      "[CV 2/3; 23/180] START bootstrap=True, criterion=entropy, max_depth=6, max_features=auto, min_samples_leaf=5, min_samples_split=2, n_estimators=200\n"
     ]
    },
    {
     "name": "stderr",
     "output_type": "stream",
     "text": [
      "d:\\googledrive\\wirelessmotionintelligence\\2022-knu-wmi\\venv\\lib\\site-packages\\sklearn\\model_selection\\_validation.py:680: DataConversionWarning: A column-vector y was passed when a 1d array was expected. Please change the shape of y to (n_samples,), for example using ravel().\n",
      "  estimator.fit(X_train, y_train, **fit_params)\n"
     ]
    },
    {
     "name": "stdout",
     "output_type": "stream",
     "text": [
      "[CV 2/3; 23/180] END bootstrap=True, criterion=entropy, max_depth=6, max_features=auto, min_samples_leaf=5, min_samples_split=2, n_estimators=200;, score=0.615 total time=   2.4s\n",
      "[CV 3/3; 23/180] START bootstrap=True, criterion=entropy, max_depth=6, max_features=auto, min_samples_leaf=5, min_samples_split=2, n_estimators=200\n"
     ]
    },
    {
     "name": "stderr",
     "output_type": "stream",
     "text": [
      "d:\\googledrive\\wirelessmotionintelligence\\2022-knu-wmi\\venv\\lib\\site-packages\\sklearn\\model_selection\\_validation.py:680: DataConversionWarning: A column-vector y was passed when a 1d array was expected. Please change the shape of y to (n_samples,), for example using ravel().\n",
      "  estimator.fit(X_train, y_train, **fit_params)\n"
     ]
    },
    {
     "name": "stdout",
     "output_type": "stream",
     "text": [
      "[CV 3/3; 23/180] END bootstrap=True, criterion=entropy, max_depth=6, max_features=auto, min_samples_leaf=5, min_samples_split=2, n_estimators=200;, score=0.513 total time=   2.5s\n",
      "[CV 1/3; 24/180] START bootstrap=True, criterion=entropy, max_depth=6, max_features=auto, min_samples_leaf=5, min_samples_split=2, n_estimators=300\n"
     ]
    },
    {
     "name": "stderr",
     "output_type": "stream",
     "text": [
      "d:\\googledrive\\wirelessmotionintelligence\\2022-knu-wmi\\venv\\lib\\site-packages\\sklearn\\model_selection\\_validation.py:680: DataConversionWarning: A column-vector y was passed when a 1d array was expected. Please change the shape of y to (n_samples,), for example using ravel().\n",
      "  estimator.fit(X_train, y_train, **fit_params)\n"
     ]
    },
    {
     "name": "stdout",
     "output_type": "stream",
     "text": [
      "[CV 1/3; 24/180] END bootstrap=True, criterion=entropy, max_depth=6, max_features=auto, min_samples_leaf=5, min_samples_split=2, n_estimators=300;, score=0.550 total time=   3.4s\n",
      "[CV 2/3; 24/180] START bootstrap=True, criterion=entropy, max_depth=6, max_features=auto, min_samples_leaf=5, min_samples_split=2, n_estimators=300\n"
     ]
    },
    {
     "name": "stderr",
     "output_type": "stream",
     "text": [
      "d:\\googledrive\\wirelessmotionintelligence\\2022-knu-wmi\\venv\\lib\\site-packages\\sklearn\\model_selection\\_validation.py:680: DataConversionWarning: A column-vector y was passed when a 1d array was expected. Please change the shape of y to (n_samples,), for example using ravel().\n",
      "  estimator.fit(X_train, y_train, **fit_params)\n"
     ]
    },
    {
     "name": "stdout",
     "output_type": "stream",
     "text": [
      "[CV 2/3; 24/180] END bootstrap=True, criterion=entropy, max_depth=6, max_features=auto, min_samples_leaf=5, min_samples_split=2, n_estimators=300;, score=0.641 total time=   3.4s\n",
      "[CV 3/3; 24/180] START bootstrap=True, criterion=entropy, max_depth=6, max_features=auto, min_samples_leaf=5, min_samples_split=2, n_estimators=300\n"
     ]
    },
    {
     "name": "stderr",
     "output_type": "stream",
     "text": [
      "d:\\googledrive\\wirelessmotionintelligence\\2022-knu-wmi\\venv\\lib\\site-packages\\sklearn\\model_selection\\_validation.py:680: DataConversionWarning: A column-vector y was passed when a 1d array was expected. Please change the shape of y to (n_samples,), for example using ravel().\n",
      "  estimator.fit(X_train, y_train, **fit_params)\n"
     ]
    },
    {
     "name": "stdout",
     "output_type": "stream",
     "text": [
      "[CV 3/3; 24/180] END bootstrap=True, criterion=entropy, max_depth=6, max_features=auto, min_samples_leaf=5, min_samples_split=2, n_estimators=300;, score=0.462 total time=   3.6s\n",
      "[CV 1/3; 25/180] START bootstrap=True, criterion=entropy, max_depth=6, max_features=auto, min_samples_leaf=5, min_samples_split=4, n_estimators=50\n"
     ]
    },
    {
     "name": "stderr",
     "output_type": "stream",
     "text": [
      "d:\\googledrive\\wirelessmotionintelligence\\2022-knu-wmi\\venv\\lib\\site-packages\\sklearn\\model_selection\\_validation.py:680: DataConversionWarning: A column-vector y was passed when a 1d array was expected. Please change the shape of y to (n_samples,), for example using ravel().\n",
      "  estimator.fit(X_train, y_train, **fit_params)\n"
     ]
    },
    {
     "name": "stdout",
     "output_type": "stream",
     "text": [
      "[CV 1/3; 25/180] END bootstrap=True, criterion=entropy, max_depth=6, max_features=auto, min_samples_leaf=5, min_samples_split=4, n_estimators=50;, score=0.600 total time=   1.0s\n",
      "[CV 2/3; 25/180] START bootstrap=True, criterion=entropy, max_depth=6, max_features=auto, min_samples_leaf=5, min_samples_split=4, n_estimators=50\n"
     ]
    },
    {
     "name": "stderr",
     "output_type": "stream",
     "text": [
      "d:\\googledrive\\wirelessmotionintelligence\\2022-knu-wmi\\venv\\lib\\site-packages\\sklearn\\model_selection\\_validation.py:680: DataConversionWarning: A column-vector y was passed when a 1d array was expected. Please change the shape of y to (n_samples,), for example using ravel().\n",
      "  estimator.fit(X_train, y_train, **fit_params)\n"
     ]
    },
    {
     "name": "stdout",
     "output_type": "stream",
     "text": [
      "[CV 2/3; 25/180] END bootstrap=True, criterion=entropy, max_depth=6, max_features=auto, min_samples_leaf=5, min_samples_split=4, n_estimators=50;, score=0.513 total time=   1.0s\n",
      "[CV 3/3; 25/180] START bootstrap=True, criterion=entropy, max_depth=6, max_features=auto, min_samples_leaf=5, min_samples_split=4, n_estimators=50\n"
     ]
    },
    {
     "name": "stderr",
     "output_type": "stream",
     "text": [
      "d:\\googledrive\\wirelessmotionintelligence\\2022-knu-wmi\\venv\\lib\\site-packages\\sklearn\\model_selection\\_validation.py:680: DataConversionWarning: A column-vector y was passed when a 1d array was expected. Please change the shape of y to (n_samples,), for example using ravel().\n",
      "  estimator.fit(X_train, y_train, **fit_params)\n"
     ]
    },
    {
     "name": "stdout",
     "output_type": "stream",
     "text": [
      "[CV 3/3; 25/180] END bootstrap=True, criterion=entropy, max_depth=6, max_features=auto, min_samples_leaf=5, min_samples_split=4, n_estimators=50;, score=0.436 total time=   1.0s\n",
      "[CV 1/3; 26/180] START bootstrap=True, criterion=entropy, max_depth=6, max_features=auto, min_samples_leaf=5, min_samples_split=4, n_estimators=100\n"
     ]
    },
    {
     "name": "stderr",
     "output_type": "stream",
     "text": [
      "d:\\googledrive\\wirelessmotionintelligence\\2022-knu-wmi\\venv\\lib\\site-packages\\sklearn\\model_selection\\_validation.py:680: DataConversionWarning: A column-vector y was passed when a 1d array was expected. Please change the shape of y to (n_samples,), for example using ravel().\n",
      "  estimator.fit(X_train, y_train, **fit_params)\n"
     ]
    },
    {
     "name": "stdout",
     "output_type": "stream",
     "text": [
      "[CV 1/3; 26/180] END bootstrap=True, criterion=entropy, max_depth=6, max_features=auto, min_samples_leaf=5, min_samples_split=4, n_estimators=100;, score=0.525 total time=   1.6s\n",
      "[CV 2/3; 26/180] START bootstrap=True, criterion=entropy, max_depth=6, max_features=auto, min_samples_leaf=5, min_samples_split=4, n_estimators=100\n"
     ]
    },
    {
     "name": "stderr",
     "output_type": "stream",
     "text": [
      "d:\\googledrive\\wirelessmotionintelligence\\2022-knu-wmi\\venv\\lib\\site-packages\\sklearn\\model_selection\\_validation.py:680: DataConversionWarning: A column-vector y was passed when a 1d array was expected. Please change the shape of y to (n_samples,), for example using ravel().\n",
      "  estimator.fit(X_train, y_train, **fit_params)\n"
     ]
    },
    {
     "name": "stdout",
     "output_type": "stream",
     "text": [
      "[CV 2/3; 26/180] END bootstrap=True, criterion=entropy, max_depth=6, max_features=auto, min_samples_leaf=5, min_samples_split=4, n_estimators=100;, score=0.615 total time=   1.6s\n",
      "[CV 3/3; 26/180] START bootstrap=True, criterion=entropy, max_depth=6, max_features=auto, min_samples_leaf=5, min_samples_split=4, n_estimators=100\n"
     ]
    },
    {
     "name": "stderr",
     "output_type": "stream",
     "text": [
      "d:\\googledrive\\wirelessmotionintelligence\\2022-knu-wmi\\venv\\lib\\site-packages\\sklearn\\model_selection\\_validation.py:680: DataConversionWarning: A column-vector y was passed when a 1d array was expected. Please change the shape of y to (n_samples,), for example using ravel().\n",
      "  estimator.fit(X_train, y_train, **fit_params)\n"
     ]
    },
    {
     "name": "stdout",
     "output_type": "stream",
     "text": [
      "[CV 3/3; 26/180] END bootstrap=True, criterion=entropy, max_depth=6, max_features=auto, min_samples_leaf=5, min_samples_split=4, n_estimators=100;, score=0.487 total time=   1.6s\n",
      "[CV 1/3; 27/180] START bootstrap=True, criterion=entropy, max_depth=6, max_features=auto, min_samples_leaf=5, min_samples_split=4, n_estimators=200\n"
     ]
    },
    {
     "name": "stderr",
     "output_type": "stream",
     "text": [
      "d:\\googledrive\\wirelessmotionintelligence\\2022-knu-wmi\\venv\\lib\\site-packages\\sklearn\\model_selection\\_validation.py:680: DataConversionWarning: A column-vector y was passed when a 1d array was expected. Please change the shape of y to (n_samples,), for example using ravel().\n",
      "  estimator.fit(X_train, y_train, **fit_params)\n"
     ]
    },
    {
     "name": "stdout",
     "output_type": "stream",
     "text": [
      "[CV 1/3; 27/180] END bootstrap=True, criterion=entropy, max_depth=6, max_features=auto, min_samples_leaf=5, min_samples_split=4, n_estimators=200;, score=0.500 total time=   2.4s\n",
      "[CV 2/3; 27/180] START bootstrap=True, criterion=entropy, max_depth=6, max_features=auto, min_samples_leaf=5, min_samples_split=4, n_estimators=200\n"
     ]
    },
    {
     "name": "stderr",
     "output_type": "stream",
     "text": [
      "d:\\googledrive\\wirelessmotionintelligence\\2022-knu-wmi\\venv\\lib\\site-packages\\sklearn\\model_selection\\_validation.py:680: DataConversionWarning: A column-vector y was passed when a 1d array was expected. Please change the shape of y to (n_samples,), for example using ravel().\n",
      "  estimator.fit(X_train, y_train, **fit_params)\n"
     ]
    },
    {
     "name": "stdout",
     "output_type": "stream",
     "text": [
      "[CV 2/3; 27/180] END bootstrap=True, criterion=entropy, max_depth=6, max_features=auto, min_samples_leaf=5, min_samples_split=4, n_estimators=200;, score=0.615 total time=   2.5s\n",
      "[CV 3/3; 27/180] START bootstrap=True, criterion=entropy, max_depth=6, max_features=auto, min_samples_leaf=5, min_samples_split=4, n_estimators=200\n"
     ]
    },
    {
     "name": "stderr",
     "output_type": "stream",
     "text": [
      "d:\\googledrive\\wirelessmotionintelligence\\2022-knu-wmi\\venv\\lib\\site-packages\\sklearn\\model_selection\\_validation.py:680: DataConversionWarning: A column-vector y was passed when a 1d array was expected. Please change the shape of y to (n_samples,), for example using ravel().\n",
      "  estimator.fit(X_train, y_train, **fit_params)\n"
     ]
    },
    {
     "name": "stdout",
     "output_type": "stream",
     "text": [
      "[CV 3/3; 27/180] END bootstrap=True, criterion=entropy, max_depth=6, max_features=auto, min_samples_leaf=5, min_samples_split=4, n_estimators=200;, score=0.513 total time=   2.6s\n",
      "[CV 1/3; 28/180] START bootstrap=True, criterion=entropy, max_depth=6, max_features=auto, min_samples_leaf=5, min_samples_split=4, n_estimators=300\n"
     ]
    },
    {
     "name": "stderr",
     "output_type": "stream",
     "text": [
      "d:\\googledrive\\wirelessmotionintelligence\\2022-knu-wmi\\venv\\lib\\site-packages\\sklearn\\model_selection\\_validation.py:680: DataConversionWarning: A column-vector y was passed when a 1d array was expected. Please change the shape of y to (n_samples,), for example using ravel().\n",
      "  estimator.fit(X_train, y_train, **fit_params)\n"
     ]
    },
    {
     "name": "stdout",
     "output_type": "stream",
     "text": [
      "[CV 1/3; 28/180] END bootstrap=True, criterion=entropy, max_depth=6, max_features=auto, min_samples_leaf=5, min_samples_split=4, n_estimators=300;, score=0.550 total time=   3.4s\n",
      "[CV 2/3; 28/180] START bootstrap=True, criterion=entropy, max_depth=6, max_features=auto, min_samples_leaf=5, min_samples_split=4, n_estimators=300\n"
     ]
    },
    {
     "name": "stderr",
     "output_type": "stream",
     "text": [
      "d:\\googledrive\\wirelessmotionintelligence\\2022-knu-wmi\\venv\\lib\\site-packages\\sklearn\\model_selection\\_validation.py:680: DataConversionWarning: A column-vector y was passed when a 1d array was expected. Please change the shape of y to (n_samples,), for example using ravel().\n",
      "  estimator.fit(X_train, y_train, **fit_params)\n"
     ]
    },
    {
     "name": "stdout",
     "output_type": "stream",
     "text": [
      "[CV 2/3; 28/180] END bootstrap=True, criterion=entropy, max_depth=6, max_features=auto, min_samples_leaf=5, min_samples_split=4, n_estimators=300;, score=0.641 total time=   3.4s\n",
      "[CV 3/3; 28/180] START bootstrap=True, criterion=entropy, max_depth=6, max_features=auto, min_samples_leaf=5, min_samples_split=4, n_estimators=300\n"
     ]
    },
    {
     "name": "stderr",
     "output_type": "stream",
     "text": [
      "d:\\googledrive\\wirelessmotionintelligence\\2022-knu-wmi\\venv\\lib\\site-packages\\sklearn\\model_selection\\_validation.py:680: DataConversionWarning: A column-vector y was passed when a 1d array was expected. Please change the shape of y to (n_samples,), for example using ravel().\n",
      "  estimator.fit(X_train, y_train, **fit_params)\n"
     ]
    },
    {
     "name": "stdout",
     "output_type": "stream",
     "text": [
      "[CV 3/3; 28/180] END bootstrap=True, criterion=entropy, max_depth=6, max_features=auto, min_samples_leaf=5, min_samples_split=4, n_estimators=300;, score=0.462 total time=   3.5s\n",
      "[CV 1/3; 29/180] START bootstrap=True, criterion=entropy, max_depth=6, max_features=auto, min_samples_leaf=5, min_samples_split=10, n_estimators=50\n"
     ]
    },
    {
     "name": "stderr",
     "output_type": "stream",
     "text": [
      "d:\\googledrive\\wirelessmotionintelligence\\2022-knu-wmi\\venv\\lib\\site-packages\\sklearn\\model_selection\\_validation.py:680: DataConversionWarning: A column-vector y was passed when a 1d array was expected. Please change the shape of y to (n_samples,), for example using ravel().\n",
      "  estimator.fit(X_train, y_train, **fit_params)\n"
     ]
    },
    {
     "name": "stdout",
     "output_type": "stream",
     "text": [
      "[CV 1/3; 29/180] END bootstrap=True, criterion=entropy, max_depth=6, max_features=auto, min_samples_leaf=5, min_samples_split=10, n_estimators=50;, score=0.600 total time=   1.1s\n",
      "[CV 2/3; 29/180] START bootstrap=True, criterion=entropy, max_depth=6, max_features=auto, min_samples_leaf=5, min_samples_split=10, n_estimators=50\n"
     ]
    },
    {
     "name": "stderr",
     "output_type": "stream",
     "text": [
      "d:\\googledrive\\wirelessmotionintelligence\\2022-knu-wmi\\venv\\lib\\site-packages\\sklearn\\model_selection\\_validation.py:680: DataConversionWarning: A column-vector y was passed when a 1d array was expected. Please change the shape of y to (n_samples,), for example using ravel().\n",
      "  estimator.fit(X_train, y_train, **fit_params)\n"
     ]
    },
    {
     "name": "stdout",
     "output_type": "stream",
     "text": [
      "[CV 2/3; 29/180] END bootstrap=True, criterion=entropy, max_depth=6, max_features=auto, min_samples_leaf=5, min_samples_split=10, n_estimators=50;, score=0.513 total time=   1.0s\n",
      "[CV 3/3; 29/180] START bootstrap=True, criterion=entropy, max_depth=6, max_features=auto, min_samples_leaf=5, min_samples_split=10, n_estimators=50\n"
     ]
    },
    {
     "name": "stderr",
     "output_type": "stream",
     "text": [
      "d:\\googledrive\\wirelessmotionintelligence\\2022-knu-wmi\\venv\\lib\\site-packages\\sklearn\\model_selection\\_validation.py:680: DataConversionWarning: A column-vector y was passed when a 1d array was expected. Please change the shape of y to (n_samples,), for example using ravel().\n",
      "  estimator.fit(X_train, y_train, **fit_params)\n"
     ]
    },
    {
     "name": "stdout",
     "output_type": "stream",
     "text": [
      "[CV 3/3; 29/180] END bootstrap=True, criterion=entropy, max_depth=6, max_features=auto, min_samples_leaf=5, min_samples_split=10, n_estimators=50;, score=0.436 total time=   1.0s\n",
      "[CV 1/3; 30/180] START bootstrap=True, criterion=entropy, max_depth=6, max_features=auto, min_samples_leaf=5, min_samples_split=10, n_estimators=100\n"
     ]
    },
    {
     "name": "stderr",
     "output_type": "stream",
     "text": [
      "d:\\googledrive\\wirelessmotionintelligence\\2022-knu-wmi\\venv\\lib\\site-packages\\sklearn\\model_selection\\_validation.py:680: DataConversionWarning: A column-vector y was passed when a 1d array was expected. Please change the shape of y to (n_samples,), for example using ravel().\n",
      "  estimator.fit(X_train, y_train, **fit_params)\n"
     ]
    },
    {
     "name": "stdout",
     "output_type": "stream",
     "text": [
      "[CV 1/3; 30/180] END bootstrap=True, criterion=entropy, max_depth=6, max_features=auto, min_samples_leaf=5, min_samples_split=10, n_estimators=100;, score=0.525 total time=   1.5s\n",
      "[CV 2/3; 30/180] START bootstrap=True, criterion=entropy, max_depth=6, max_features=auto, min_samples_leaf=5, min_samples_split=10, n_estimators=100\n"
     ]
    },
    {
     "name": "stderr",
     "output_type": "stream",
     "text": [
      "d:\\googledrive\\wirelessmotionintelligence\\2022-knu-wmi\\venv\\lib\\site-packages\\sklearn\\model_selection\\_validation.py:680: DataConversionWarning: A column-vector y was passed when a 1d array was expected. Please change the shape of y to (n_samples,), for example using ravel().\n",
      "  estimator.fit(X_train, y_train, **fit_params)\n"
     ]
    },
    {
     "name": "stdout",
     "output_type": "stream",
     "text": [
      "[CV 2/3; 30/180] END bootstrap=True, criterion=entropy, max_depth=6, max_features=auto, min_samples_leaf=5, min_samples_split=10, n_estimators=100;, score=0.615 total time=   1.5s\n",
      "[CV 3/3; 30/180] START bootstrap=True, criterion=entropy, max_depth=6, max_features=auto, min_samples_leaf=5, min_samples_split=10, n_estimators=100\n"
     ]
    },
    {
     "name": "stderr",
     "output_type": "stream",
     "text": [
      "d:\\googledrive\\wirelessmotionintelligence\\2022-knu-wmi\\venv\\lib\\site-packages\\sklearn\\model_selection\\_validation.py:680: DataConversionWarning: A column-vector y was passed when a 1d array was expected. Please change the shape of y to (n_samples,), for example using ravel().\n",
      "  estimator.fit(X_train, y_train, **fit_params)\n"
     ]
    },
    {
     "name": "stdout",
     "output_type": "stream",
     "text": [
      "[CV 3/3; 30/180] END bootstrap=True, criterion=entropy, max_depth=6, max_features=auto, min_samples_leaf=5, min_samples_split=10, n_estimators=100;, score=0.487 total time=   1.5s\n",
      "[CV 1/3; 31/180] START bootstrap=True, criterion=entropy, max_depth=6, max_features=auto, min_samples_leaf=5, min_samples_split=10, n_estimators=200\n"
     ]
    },
    {
     "name": "stderr",
     "output_type": "stream",
     "text": [
      "d:\\googledrive\\wirelessmotionintelligence\\2022-knu-wmi\\venv\\lib\\site-packages\\sklearn\\model_selection\\_validation.py:680: DataConversionWarning: A column-vector y was passed when a 1d array was expected. Please change the shape of y to (n_samples,), for example using ravel().\n",
      "  estimator.fit(X_train, y_train, **fit_params)\n"
     ]
    },
    {
     "name": "stdout",
     "output_type": "stream",
     "text": [
      "[CV 1/3; 31/180] END bootstrap=True, criterion=entropy, max_depth=6, max_features=auto, min_samples_leaf=5, min_samples_split=10, n_estimators=200;, score=0.500 total time=   2.4s\n",
      "[CV 2/3; 31/180] START bootstrap=True, criterion=entropy, max_depth=6, max_features=auto, min_samples_leaf=5, min_samples_split=10, n_estimators=200\n"
     ]
    },
    {
     "name": "stderr",
     "output_type": "stream",
     "text": [
      "d:\\googledrive\\wirelessmotionintelligence\\2022-knu-wmi\\venv\\lib\\site-packages\\sklearn\\model_selection\\_validation.py:680: DataConversionWarning: A column-vector y was passed when a 1d array was expected. Please change the shape of y to (n_samples,), for example using ravel().\n",
      "  estimator.fit(X_train, y_train, **fit_params)\n"
     ]
    },
    {
     "name": "stdout",
     "output_type": "stream",
     "text": [
      "[CV 2/3; 31/180] END bootstrap=True, criterion=entropy, max_depth=6, max_features=auto, min_samples_leaf=5, min_samples_split=10, n_estimators=200;, score=0.615 total time=   2.3s\n",
      "[CV 3/3; 31/180] START bootstrap=True, criterion=entropy, max_depth=6, max_features=auto, min_samples_leaf=5, min_samples_split=10, n_estimators=200\n"
     ]
    },
    {
     "name": "stderr",
     "output_type": "stream",
     "text": [
      "d:\\googledrive\\wirelessmotionintelligence\\2022-knu-wmi\\venv\\lib\\site-packages\\sklearn\\model_selection\\_validation.py:680: DataConversionWarning: A column-vector y was passed when a 1d array was expected. Please change the shape of y to (n_samples,), for example using ravel().\n",
      "  estimator.fit(X_train, y_train, **fit_params)\n"
     ]
    },
    {
     "name": "stdout",
     "output_type": "stream",
     "text": [
      "[CV 3/3; 31/180] END bootstrap=True, criterion=entropy, max_depth=6, max_features=auto, min_samples_leaf=5, min_samples_split=10, n_estimators=200;, score=0.513 total time=   2.3s\n",
      "[CV 1/3; 32/180] START bootstrap=True, criterion=entropy, max_depth=6, max_features=auto, min_samples_leaf=5, min_samples_split=10, n_estimators=300\n"
     ]
    },
    {
     "name": "stderr",
     "output_type": "stream",
     "text": [
      "d:\\googledrive\\wirelessmotionintelligence\\2022-knu-wmi\\venv\\lib\\site-packages\\sklearn\\model_selection\\_validation.py:680: DataConversionWarning: A column-vector y was passed when a 1d array was expected. Please change the shape of y to (n_samples,), for example using ravel().\n",
      "  estimator.fit(X_train, y_train, **fit_params)\n"
     ]
    },
    {
     "name": "stdout",
     "output_type": "stream",
     "text": [
      "[CV 1/3; 32/180] END bootstrap=True, criterion=entropy, max_depth=6, max_features=auto, min_samples_leaf=5, min_samples_split=10, n_estimators=300;, score=0.550 total time=   3.2s\n",
      "[CV 2/3; 32/180] START bootstrap=True, criterion=entropy, max_depth=6, max_features=auto, min_samples_leaf=5, min_samples_split=10, n_estimators=300\n"
     ]
    },
    {
     "name": "stderr",
     "output_type": "stream",
     "text": [
      "d:\\googledrive\\wirelessmotionintelligence\\2022-knu-wmi\\venv\\lib\\site-packages\\sklearn\\model_selection\\_validation.py:680: DataConversionWarning: A column-vector y was passed when a 1d array was expected. Please change the shape of y to (n_samples,), for example using ravel().\n",
      "  estimator.fit(X_train, y_train, **fit_params)\n"
     ]
    },
    {
     "name": "stdout",
     "output_type": "stream",
     "text": [
      "[CV 2/3; 32/180] END bootstrap=True, criterion=entropy, max_depth=6, max_features=auto, min_samples_leaf=5, min_samples_split=10, n_estimators=300;, score=0.641 total time=   3.3s\n",
      "[CV 3/3; 32/180] START bootstrap=True, criterion=entropy, max_depth=6, max_features=auto, min_samples_leaf=5, min_samples_split=10, n_estimators=300\n"
     ]
    },
    {
     "name": "stderr",
     "output_type": "stream",
     "text": [
      "d:\\googledrive\\wirelessmotionintelligence\\2022-knu-wmi\\venv\\lib\\site-packages\\sklearn\\model_selection\\_validation.py:680: DataConversionWarning: A column-vector y was passed when a 1d array was expected. Please change the shape of y to (n_samples,), for example using ravel().\n",
      "  estimator.fit(X_train, y_train, **fit_params)\n"
     ]
    },
    {
     "name": "stdout",
     "output_type": "stream",
     "text": [
      "[CV 3/3; 32/180] END bootstrap=True, criterion=entropy, max_depth=6, max_features=auto, min_samples_leaf=5, min_samples_split=10, n_estimators=300;, score=0.462 total time=   3.2s\n",
      "[CV 1/3; 33/180] START bootstrap=True, criterion=entropy, max_depth=6, max_features=auto, min_samples_leaf=5, min_samples_split=12, n_estimators=50\n"
     ]
    },
    {
     "name": "stderr",
     "output_type": "stream",
     "text": [
      "d:\\googledrive\\wirelessmotionintelligence\\2022-knu-wmi\\venv\\lib\\site-packages\\sklearn\\model_selection\\_validation.py:680: DataConversionWarning: A column-vector y was passed when a 1d array was expected. Please change the shape of y to (n_samples,), for example using ravel().\n",
      "  estimator.fit(X_train, y_train, **fit_params)\n"
     ]
    },
    {
     "name": "stdout",
     "output_type": "stream",
     "text": [
      "[CV 1/3; 33/180] END bootstrap=True, criterion=entropy, max_depth=6, max_features=auto, min_samples_leaf=5, min_samples_split=12, n_estimators=50;, score=0.600 total time=   1.0s\n",
      "[CV 2/3; 33/180] START bootstrap=True, criterion=entropy, max_depth=6, max_features=auto, min_samples_leaf=5, min_samples_split=12, n_estimators=50\n"
     ]
    },
    {
     "name": "stderr",
     "output_type": "stream",
     "text": [
      "d:\\googledrive\\wirelessmotionintelligence\\2022-knu-wmi\\venv\\lib\\site-packages\\sklearn\\model_selection\\_validation.py:680: DataConversionWarning: A column-vector y was passed when a 1d array was expected. Please change the shape of y to (n_samples,), for example using ravel().\n",
      "  estimator.fit(X_train, y_train, **fit_params)\n"
     ]
    },
    {
     "name": "stdout",
     "output_type": "stream",
     "text": [
      "[CV 2/3; 33/180] END bootstrap=True, criterion=entropy, max_depth=6, max_features=auto, min_samples_leaf=5, min_samples_split=12, n_estimators=50;, score=0.564 total time=   1.0s\n",
      "[CV 3/3; 33/180] START bootstrap=True, criterion=entropy, max_depth=6, max_features=auto, min_samples_leaf=5, min_samples_split=12, n_estimators=50\n"
     ]
    },
    {
     "name": "stderr",
     "output_type": "stream",
     "text": [
      "d:\\googledrive\\wirelessmotionintelligence\\2022-knu-wmi\\venv\\lib\\site-packages\\sklearn\\model_selection\\_validation.py:680: DataConversionWarning: A column-vector y was passed when a 1d array was expected. Please change the shape of y to (n_samples,), for example using ravel().\n",
      "  estimator.fit(X_train, y_train, **fit_params)\n"
     ]
    },
    {
     "name": "stdout",
     "output_type": "stream",
     "text": [
      "[CV 3/3; 33/180] END bootstrap=True, criterion=entropy, max_depth=6, max_features=auto, min_samples_leaf=5, min_samples_split=12, n_estimators=50;, score=0.410 total time=   1.0s\n",
      "[CV 1/3; 34/180] START bootstrap=True, criterion=entropy, max_depth=6, max_features=auto, min_samples_leaf=5, min_samples_split=12, n_estimators=100\n"
     ]
    },
    {
     "name": "stderr",
     "output_type": "stream",
     "text": [
      "d:\\googledrive\\wirelessmotionintelligence\\2022-knu-wmi\\venv\\lib\\site-packages\\sklearn\\model_selection\\_validation.py:680: DataConversionWarning: A column-vector y was passed when a 1d array was expected. Please change the shape of y to (n_samples,), for example using ravel().\n",
      "  estimator.fit(X_train, y_train, **fit_params)\n"
     ]
    },
    {
     "name": "stdout",
     "output_type": "stream",
     "text": [
      "[CV 1/3; 34/180] END bootstrap=True, criterion=entropy, max_depth=6, max_features=auto, min_samples_leaf=5, min_samples_split=12, n_estimators=100;, score=0.550 total time=   1.5s\n",
      "[CV 2/3; 34/180] START bootstrap=True, criterion=entropy, max_depth=6, max_features=auto, min_samples_leaf=5, min_samples_split=12, n_estimators=100\n"
     ]
    },
    {
     "name": "stderr",
     "output_type": "stream",
     "text": [
      "d:\\googledrive\\wirelessmotionintelligence\\2022-knu-wmi\\venv\\lib\\site-packages\\sklearn\\model_selection\\_validation.py:680: DataConversionWarning: A column-vector y was passed when a 1d array was expected. Please change the shape of y to (n_samples,), for example using ravel().\n",
      "  estimator.fit(X_train, y_train, **fit_params)\n"
     ]
    },
    {
     "name": "stdout",
     "output_type": "stream",
     "text": [
      "[CV 2/3; 34/180] END bootstrap=True, criterion=entropy, max_depth=6, max_features=auto, min_samples_leaf=5, min_samples_split=12, n_estimators=100;, score=0.641 total time=   1.5s\n",
      "[CV 3/3; 34/180] START bootstrap=True, criterion=entropy, max_depth=6, max_features=auto, min_samples_leaf=5, min_samples_split=12, n_estimators=100\n"
     ]
    },
    {
     "name": "stderr",
     "output_type": "stream",
     "text": [
      "d:\\googledrive\\wirelessmotionintelligence\\2022-knu-wmi\\venv\\lib\\site-packages\\sklearn\\model_selection\\_validation.py:680: DataConversionWarning: A column-vector y was passed when a 1d array was expected. Please change the shape of y to (n_samples,), for example using ravel().\n",
      "  estimator.fit(X_train, y_train, **fit_params)\n"
     ]
    },
    {
     "name": "stdout",
     "output_type": "stream",
     "text": [
      "[CV 3/3; 34/180] END bootstrap=True, criterion=entropy, max_depth=6, max_features=auto, min_samples_leaf=5, min_samples_split=12, n_estimators=100;, score=0.487 total time=   1.5s\n",
      "[CV 1/3; 35/180] START bootstrap=True, criterion=entropy, max_depth=6, max_features=auto, min_samples_leaf=5, min_samples_split=12, n_estimators=200\n"
     ]
    },
    {
     "name": "stderr",
     "output_type": "stream",
     "text": [
      "d:\\googledrive\\wirelessmotionintelligence\\2022-knu-wmi\\venv\\lib\\site-packages\\sklearn\\model_selection\\_validation.py:680: DataConversionWarning: A column-vector y was passed when a 1d array was expected. Please change the shape of y to (n_samples,), for example using ravel().\n",
      "  estimator.fit(X_train, y_train, **fit_params)\n"
     ]
    },
    {
     "name": "stdout",
     "output_type": "stream",
     "text": [
      "[CV 1/3; 35/180] END bootstrap=True, criterion=entropy, max_depth=6, max_features=auto, min_samples_leaf=5, min_samples_split=12, n_estimators=200;, score=0.500 total time=   2.3s\n",
      "[CV 2/3; 35/180] START bootstrap=True, criterion=entropy, max_depth=6, max_features=auto, min_samples_leaf=5, min_samples_split=12, n_estimators=200\n"
     ]
    },
    {
     "name": "stderr",
     "output_type": "stream",
     "text": [
      "d:\\googledrive\\wirelessmotionintelligence\\2022-knu-wmi\\venv\\lib\\site-packages\\sklearn\\model_selection\\_validation.py:680: DataConversionWarning: A column-vector y was passed when a 1d array was expected. Please change the shape of y to (n_samples,), for example using ravel().\n",
      "  estimator.fit(X_train, y_train, **fit_params)\n"
     ]
    },
    {
     "name": "stdout",
     "output_type": "stream",
     "text": [
      "[CV 2/3; 35/180] END bootstrap=True, criterion=entropy, max_depth=6, max_features=auto, min_samples_leaf=5, min_samples_split=12, n_estimators=200;, score=0.615 total time=   2.3s\n",
      "[CV 3/3; 35/180] START bootstrap=True, criterion=entropy, max_depth=6, max_features=auto, min_samples_leaf=5, min_samples_split=12, n_estimators=200\n"
     ]
    },
    {
     "name": "stderr",
     "output_type": "stream",
     "text": [
      "d:\\googledrive\\wirelessmotionintelligence\\2022-knu-wmi\\venv\\lib\\site-packages\\sklearn\\model_selection\\_validation.py:680: DataConversionWarning: A column-vector y was passed when a 1d array was expected. Please change the shape of y to (n_samples,), for example using ravel().\n",
      "  estimator.fit(X_train, y_train, **fit_params)\n"
     ]
    },
    {
     "name": "stdout",
     "output_type": "stream",
     "text": [
      "[CV 3/3; 35/180] END bootstrap=True, criterion=entropy, max_depth=6, max_features=auto, min_samples_leaf=5, min_samples_split=12, n_estimators=200;, score=0.513 total time=   2.3s\n",
      "[CV 1/3; 36/180] START bootstrap=True, criterion=entropy, max_depth=6, max_features=auto, min_samples_leaf=5, min_samples_split=12, n_estimators=300\n"
     ]
    },
    {
     "name": "stderr",
     "output_type": "stream",
     "text": [
      "d:\\googledrive\\wirelessmotionintelligence\\2022-knu-wmi\\venv\\lib\\site-packages\\sklearn\\model_selection\\_validation.py:680: DataConversionWarning: A column-vector y was passed when a 1d array was expected. Please change the shape of y to (n_samples,), for example using ravel().\n",
      "  estimator.fit(X_train, y_train, **fit_params)\n"
     ]
    },
    {
     "name": "stdout",
     "output_type": "stream",
     "text": [
      "[CV 1/3; 36/180] END bootstrap=True, criterion=entropy, max_depth=6, max_features=auto, min_samples_leaf=5, min_samples_split=12, n_estimators=300;, score=0.575 total time=   3.2s\n",
      "[CV 2/3; 36/180] START bootstrap=True, criterion=entropy, max_depth=6, max_features=auto, min_samples_leaf=5, min_samples_split=12, n_estimators=300\n"
     ]
    },
    {
     "name": "stderr",
     "output_type": "stream",
     "text": [
      "d:\\googledrive\\wirelessmotionintelligence\\2022-knu-wmi\\venv\\lib\\site-packages\\sklearn\\model_selection\\_validation.py:680: DataConversionWarning: A column-vector y was passed when a 1d array was expected. Please change the shape of y to (n_samples,), for example using ravel().\n",
      "  estimator.fit(X_train, y_train, **fit_params)\n"
     ]
    },
    {
     "name": "stdout",
     "output_type": "stream",
     "text": [
      "[CV 2/3; 36/180] END bootstrap=True, criterion=entropy, max_depth=6, max_features=auto, min_samples_leaf=5, min_samples_split=12, n_estimators=300;, score=0.615 total time=   3.2s\n",
      "[CV 3/3; 36/180] START bootstrap=True, criterion=entropy, max_depth=6, max_features=auto, min_samples_leaf=5, min_samples_split=12, n_estimators=300\n"
     ]
    },
    {
     "name": "stderr",
     "output_type": "stream",
     "text": [
      "d:\\googledrive\\wirelessmotionintelligence\\2022-knu-wmi\\venv\\lib\\site-packages\\sklearn\\model_selection\\_validation.py:680: DataConversionWarning: A column-vector y was passed when a 1d array was expected. Please change the shape of y to (n_samples,), for example using ravel().\n",
      "  estimator.fit(X_train, y_train, **fit_params)\n"
     ]
    },
    {
     "name": "stdout",
     "output_type": "stream",
     "text": [
      "[CV 3/3; 36/180] END bootstrap=True, criterion=entropy, max_depth=6, max_features=auto, min_samples_leaf=5, min_samples_split=12, n_estimators=300;, score=0.462 total time=   3.3s\n",
      "[CV 1/3; 37/180] START bootstrap=True, criterion=entropy, max_depth=6, max_features=auto, min_samples_leaf=5, min_samples_split=16, n_estimators=50\n"
     ]
    },
    {
     "name": "stderr",
     "output_type": "stream",
     "text": [
      "d:\\googledrive\\wirelessmotionintelligence\\2022-knu-wmi\\venv\\lib\\site-packages\\sklearn\\model_selection\\_validation.py:680: DataConversionWarning: A column-vector y was passed when a 1d array was expected. Please change the shape of y to (n_samples,), for example using ravel().\n",
      "  estimator.fit(X_train, y_train, **fit_params)\n"
     ]
    },
    {
     "name": "stdout",
     "output_type": "stream",
     "text": [
      "[CV 1/3; 37/180] END bootstrap=True, criterion=entropy, max_depth=6, max_features=auto, min_samples_leaf=5, min_samples_split=16, n_estimators=50;, score=0.525 total time=   1.0s\n",
      "[CV 2/3; 37/180] START bootstrap=True, criterion=entropy, max_depth=6, max_features=auto, min_samples_leaf=5, min_samples_split=16, n_estimators=50\n"
     ]
    },
    {
     "name": "stderr",
     "output_type": "stream",
     "text": [
      "d:\\googledrive\\wirelessmotionintelligence\\2022-knu-wmi\\venv\\lib\\site-packages\\sklearn\\model_selection\\_validation.py:680: DataConversionWarning: A column-vector y was passed when a 1d array was expected. Please change the shape of y to (n_samples,), for example using ravel().\n",
      "  estimator.fit(X_train, y_train, **fit_params)\n"
     ]
    },
    {
     "name": "stdout",
     "output_type": "stream",
     "text": [
      "[CV 2/3; 37/180] END bootstrap=True, criterion=entropy, max_depth=6, max_features=auto, min_samples_leaf=5, min_samples_split=16, n_estimators=50;, score=0.513 total time=   1.0s\n",
      "[CV 3/3; 37/180] START bootstrap=True, criterion=entropy, max_depth=6, max_features=auto, min_samples_leaf=5, min_samples_split=16, n_estimators=50\n"
     ]
    },
    {
     "name": "stderr",
     "output_type": "stream",
     "text": [
      "d:\\googledrive\\wirelessmotionintelligence\\2022-knu-wmi\\venv\\lib\\site-packages\\sklearn\\model_selection\\_validation.py:680: DataConversionWarning: A column-vector y was passed when a 1d array was expected. Please change the shape of y to (n_samples,), for example using ravel().\n",
      "  estimator.fit(X_train, y_train, **fit_params)\n"
     ]
    },
    {
     "name": "stdout",
     "output_type": "stream",
     "text": [
      "[CV 3/3; 37/180] END bootstrap=True, criterion=entropy, max_depth=6, max_features=auto, min_samples_leaf=5, min_samples_split=16, n_estimators=50;, score=0.462 total time=   1.0s\n",
      "[CV 1/3; 38/180] START bootstrap=True, criterion=entropy, max_depth=6, max_features=auto, min_samples_leaf=5, min_samples_split=16, n_estimators=100\n"
     ]
    },
    {
     "name": "stderr",
     "output_type": "stream",
     "text": [
      "d:\\googledrive\\wirelessmotionintelligence\\2022-knu-wmi\\venv\\lib\\site-packages\\sklearn\\model_selection\\_validation.py:680: DataConversionWarning: A column-vector y was passed when a 1d array was expected. Please change the shape of y to (n_samples,), for example using ravel().\n",
      "  estimator.fit(X_train, y_train, **fit_params)\n"
     ]
    },
    {
     "name": "stdout",
     "output_type": "stream",
     "text": [
      "[CV 1/3; 38/180] END bootstrap=True, criterion=entropy, max_depth=6, max_features=auto, min_samples_leaf=5, min_samples_split=16, n_estimators=100;, score=0.525 total time=   1.5s\n",
      "[CV 2/3; 38/180] START bootstrap=True, criterion=entropy, max_depth=6, max_features=auto, min_samples_leaf=5, min_samples_split=16, n_estimators=100\n"
     ]
    },
    {
     "name": "stderr",
     "output_type": "stream",
     "text": [
      "d:\\googledrive\\wirelessmotionintelligence\\2022-knu-wmi\\venv\\lib\\site-packages\\sklearn\\model_selection\\_validation.py:680: DataConversionWarning: A column-vector y was passed when a 1d array was expected. Please change the shape of y to (n_samples,), for example using ravel().\n",
      "  estimator.fit(X_train, y_train, **fit_params)\n"
     ]
    },
    {
     "name": "stdout",
     "output_type": "stream",
     "text": [
      "[CV 2/3; 38/180] END bootstrap=True, criterion=entropy, max_depth=6, max_features=auto, min_samples_leaf=5, min_samples_split=16, n_estimators=100;, score=0.641 total time=   1.5s\n",
      "[CV 3/3; 38/180] START bootstrap=True, criterion=entropy, max_depth=6, max_features=auto, min_samples_leaf=5, min_samples_split=16, n_estimators=100\n"
     ]
    },
    {
     "name": "stderr",
     "output_type": "stream",
     "text": [
      "d:\\googledrive\\wirelessmotionintelligence\\2022-knu-wmi\\venv\\lib\\site-packages\\sklearn\\model_selection\\_validation.py:680: DataConversionWarning: A column-vector y was passed when a 1d array was expected. Please change the shape of y to (n_samples,), for example using ravel().\n",
      "  estimator.fit(X_train, y_train, **fit_params)\n"
     ]
    },
    {
     "name": "stdout",
     "output_type": "stream",
     "text": [
      "[CV 3/3; 38/180] END bootstrap=True, criterion=entropy, max_depth=6, max_features=auto, min_samples_leaf=5, min_samples_split=16, n_estimators=100;, score=0.462 total time=   1.5s\n",
      "[CV 1/3; 39/180] START bootstrap=True, criterion=entropy, max_depth=6, max_features=auto, min_samples_leaf=5, min_samples_split=16, n_estimators=200\n"
     ]
    },
    {
     "name": "stderr",
     "output_type": "stream",
     "text": [
      "d:\\googledrive\\wirelessmotionintelligence\\2022-knu-wmi\\venv\\lib\\site-packages\\sklearn\\model_selection\\_validation.py:680: DataConversionWarning: A column-vector y was passed when a 1d array was expected. Please change the shape of y to (n_samples,), for example using ravel().\n",
      "  estimator.fit(X_train, y_train, **fit_params)\n"
     ]
    },
    {
     "name": "stdout",
     "output_type": "stream",
     "text": [
      "[CV 1/3; 39/180] END bootstrap=True, criterion=entropy, max_depth=6, max_features=auto, min_samples_leaf=5, min_samples_split=16, n_estimators=200;, score=0.500 total time=   2.2s\n",
      "[CV 2/3; 39/180] START bootstrap=True, criterion=entropy, max_depth=6, max_features=auto, min_samples_leaf=5, min_samples_split=16, n_estimators=200\n"
     ]
    },
    {
     "name": "stderr",
     "output_type": "stream",
     "text": [
      "d:\\googledrive\\wirelessmotionintelligence\\2022-knu-wmi\\venv\\lib\\site-packages\\sklearn\\model_selection\\_validation.py:680: DataConversionWarning: A column-vector y was passed when a 1d array was expected. Please change the shape of y to (n_samples,), for example using ravel().\n",
      "  estimator.fit(X_train, y_train, **fit_params)\n"
     ]
    },
    {
     "name": "stdout",
     "output_type": "stream",
     "text": [
      "[CV 2/3; 39/180] END bootstrap=True, criterion=entropy, max_depth=6, max_features=auto, min_samples_leaf=5, min_samples_split=16, n_estimators=200;, score=0.590 total time=   2.3s\n",
      "[CV 3/3; 39/180] START bootstrap=True, criterion=entropy, max_depth=6, max_features=auto, min_samples_leaf=5, min_samples_split=16, n_estimators=200\n"
     ]
    },
    {
     "name": "stderr",
     "output_type": "stream",
     "text": [
      "d:\\googledrive\\wirelessmotionintelligence\\2022-knu-wmi\\venv\\lib\\site-packages\\sklearn\\model_selection\\_validation.py:680: DataConversionWarning: A column-vector y was passed when a 1d array was expected. Please change the shape of y to (n_samples,), for example using ravel().\n",
      "  estimator.fit(X_train, y_train, **fit_params)\n"
     ]
    },
    {
     "name": "stdout",
     "output_type": "stream",
     "text": [
      "[CV 3/3; 39/180] END bootstrap=True, criterion=entropy, max_depth=6, max_features=auto, min_samples_leaf=5, min_samples_split=16, n_estimators=200;, score=0.538 total time=   2.3s\n",
      "[CV 1/3; 40/180] START bootstrap=True, criterion=entropy, max_depth=6, max_features=auto, min_samples_leaf=5, min_samples_split=16, n_estimators=300\n"
     ]
    },
    {
     "name": "stderr",
     "output_type": "stream",
     "text": [
      "d:\\googledrive\\wirelessmotionintelligence\\2022-knu-wmi\\venv\\lib\\site-packages\\sklearn\\model_selection\\_validation.py:680: DataConversionWarning: A column-vector y was passed when a 1d array was expected. Please change the shape of y to (n_samples,), for example using ravel().\n",
      "  estimator.fit(X_train, y_train, **fit_params)\n"
     ]
    },
    {
     "name": "stdout",
     "output_type": "stream",
     "text": [
      "[CV 1/3; 40/180] END bootstrap=True, criterion=entropy, max_depth=6, max_features=auto, min_samples_leaf=5, min_samples_split=16, n_estimators=300;, score=0.525 total time=   3.2s\n",
      "[CV 2/3; 40/180] START bootstrap=True, criterion=entropy, max_depth=6, max_features=auto, min_samples_leaf=5, min_samples_split=16, n_estimators=300\n"
     ]
    },
    {
     "name": "stderr",
     "output_type": "stream",
     "text": [
      "d:\\googledrive\\wirelessmotionintelligence\\2022-knu-wmi\\venv\\lib\\site-packages\\sklearn\\model_selection\\_validation.py:680: DataConversionWarning: A column-vector y was passed when a 1d array was expected. Please change the shape of y to (n_samples,), for example using ravel().\n",
      "  estimator.fit(X_train, y_train, **fit_params)\n"
     ]
    },
    {
     "name": "stdout",
     "output_type": "stream",
     "text": [
      "[CV 2/3; 40/180] END bootstrap=True, criterion=entropy, max_depth=6, max_features=auto, min_samples_leaf=5, min_samples_split=16, n_estimators=300;, score=0.615 total time=   3.2s\n",
      "[CV 3/3; 40/180] START bootstrap=True, criterion=entropy, max_depth=6, max_features=auto, min_samples_leaf=5, min_samples_split=16, n_estimators=300\n"
     ]
    },
    {
     "name": "stderr",
     "output_type": "stream",
     "text": [
      "d:\\googledrive\\wirelessmotionintelligence\\2022-knu-wmi\\venv\\lib\\site-packages\\sklearn\\model_selection\\_validation.py:680: DataConversionWarning: A column-vector y was passed when a 1d array was expected. Please change the shape of y to (n_samples,), for example using ravel().\n",
      "  estimator.fit(X_train, y_train, **fit_params)\n"
     ]
    },
    {
     "name": "stdout",
     "output_type": "stream",
     "text": [
      "[CV 3/3; 40/180] END bootstrap=True, criterion=entropy, max_depth=6, max_features=auto, min_samples_leaf=5, min_samples_split=16, n_estimators=300;, score=0.462 total time=   3.3s\n",
      "[CV 1/3; 41/180] START bootstrap=True, criterion=entropy, max_depth=6, max_features=auto, min_samples_leaf=10, min_samples_split=2, n_estimators=50\n"
     ]
    },
    {
     "name": "stderr",
     "output_type": "stream",
     "text": [
      "d:\\googledrive\\wirelessmotionintelligence\\2022-knu-wmi\\venv\\lib\\site-packages\\sklearn\\model_selection\\_validation.py:680: DataConversionWarning: A column-vector y was passed when a 1d array was expected. Please change the shape of y to (n_samples,), for example using ravel().\n",
      "  estimator.fit(X_train, y_train, **fit_params)\n"
     ]
    },
    {
     "name": "stdout",
     "output_type": "stream",
     "text": [
      "[CV 1/3; 41/180] END bootstrap=True, criterion=entropy, max_depth=6, max_features=auto, min_samples_leaf=10, min_samples_split=2, n_estimators=50;, score=0.600 total time=   1.0s\n",
      "[CV 2/3; 41/180] START bootstrap=True, criterion=entropy, max_depth=6, max_features=auto, min_samples_leaf=10, min_samples_split=2, n_estimators=50\n"
     ]
    },
    {
     "name": "stderr",
     "output_type": "stream",
     "text": [
      "d:\\googledrive\\wirelessmotionintelligence\\2022-knu-wmi\\venv\\lib\\site-packages\\sklearn\\model_selection\\_validation.py:680: DataConversionWarning: A column-vector y was passed when a 1d array was expected. Please change the shape of y to (n_samples,), for example using ravel().\n",
      "  estimator.fit(X_train, y_train, **fit_params)\n"
     ]
    },
    {
     "name": "stdout",
     "output_type": "stream",
     "text": [
      "[CV 2/3; 41/180] END bootstrap=True, criterion=entropy, max_depth=6, max_features=auto, min_samples_leaf=10, min_samples_split=2, n_estimators=50;, score=0.564 total time=   1.0s\n",
      "[CV 3/3; 41/180] START bootstrap=True, criterion=entropy, max_depth=6, max_features=auto, min_samples_leaf=10, min_samples_split=2, n_estimators=50\n"
     ]
    },
    {
     "name": "stderr",
     "output_type": "stream",
     "text": [
      "d:\\googledrive\\wirelessmotionintelligence\\2022-knu-wmi\\venv\\lib\\site-packages\\sklearn\\model_selection\\_validation.py:680: DataConversionWarning: A column-vector y was passed when a 1d array was expected. Please change the shape of y to (n_samples,), for example using ravel().\n",
      "  estimator.fit(X_train, y_train, **fit_params)\n"
     ]
    },
    {
     "name": "stdout",
     "output_type": "stream",
     "text": [
      "[CV 3/3; 41/180] END bootstrap=True, criterion=entropy, max_depth=6, max_features=auto, min_samples_leaf=10, min_samples_split=2, n_estimators=50;, score=0.590 total time=   1.0s\n",
      "[CV 1/3; 42/180] START bootstrap=True, criterion=entropy, max_depth=6, max_features=auto, min_samples_leaf=10, min_samples_split=2, n_estimators=100\n"
     ]
    },
    {
     "name": "stderr",
     "output_type": "stream",
     "text": [
      "d:\\googledrive\\wirelessmotionintelligence\\2022-knu-wmi\\venv\\lib\\site-packages\\sklearn\\model_selection\\_validation.py:680: DataConversionWarning: A column-vector y was passed when a 1d array was expected. Please change the shape of y to (n_samples,), for example using ravel().\n",
      "  estimator.fit(X_train, y_train, **fit_params)\n"
     ]
    },
    {
     "name": "stdout",
     "output_type": "stream",
     "text": [
      "[CV 1/3; 42/180] END bootstrap=True, criterion=entropy, max_depth=6, max_features=auto, min_samples_leaf=10, min_samples_split=2, n_estimators=100;, score=0.550 total time=   1.5s\n",
      "[CV 2/3; 42/180] START bootstrap=True, criterion=entropy, max_depth=6, max_features=auto, min_samples_leaf=10, min_samples_split=2, n_estimators=100\n"
     ]
    },
    {
     "name": "stderr",
     "output_type": "stream",
     "text": [
      "d:\\googledrive\\wirelessmotionintelligence\\2022-knu-wmi\\venv\\lib\\site-packages\\sklearn\\model_selection\\_validation.py:680: DataConversionWarning: A column-vector y was passed when a 1d array was expected. Please change the shape of y to (n_samples,), for example using ravel().\n",
      "  estimator.fit(X_train, y_train, **fit_params)\n"
     ]
    },
    {
     "name": "stdout",
     "output_type": "stream",
     "text": [
      "[CV 2/3; 42/180] END bootstrap=True, criterion=entropy, max_depth=6, max_features=auto, min_samples_leaf=10, min_samples_split=2, n_estimators=100;, score=0.667 total time=   1.5s\n",
      "[CV 3/3; 42/180] START bootstrap=True, criterion=entropy, max_depth=6, max_features=auto, min_samples_leaf=10, min_samples_split=2, n_estimators=100\n"
     ]
    },
    {
     "name": "stderr",
     "output_type": "stream",
     "text": [
      "d:\\googledrive\\wirelessmotionintelligence\\2022-knu-wmi\\venv\\lib\\site-packages\\sklearn\\model_selection\\_validation.py:680: DataConversionWarning: A column-vector y was passed when a 1d array was expected. Please change the shape of y to (n_samples,), for example using ravel().\n",
      "  estimator.fit(X_train, y_train, **fit_params)\n"
     ]
    },
    {
     "name": "stdout",
     "output_type": "stream",
     "text": [
      "[CV 3/3; 42/180] END bootstrap=True, criterion=entropy, max_depth=6, max_features=auto, min_samples_leaf=10, min_samples_split=2, n_estimators=100;, score=0.590 total time=   1.5s\n",
      "[CV 1/3; 43/180] START bootstrap=True, criterion=entropy, max_depth=6, max_features=auto, min_samples_leaf=10, min_samples_split=2, n_estimators=200\n"
     ]
    },
    {
     "name": "stderr",
     "output_type": "stream",
     "text": [
      "d:\\googledrive\\wirelessmotionintelligence\\2022-knu-wmi\\venv\\lib\\site-packages\\sklearn\\model_selection\\_validation.py:680: DataConversionWarning: A column-vector y was passed when a 1d array was expected. Please change the shape of y to (n_samples,), for example using ravel().\n",
      "  estimator.fit(X_train, y_train, **fit_params)\n"
     ]
    },
    {
     "name": "stdout",
     "output_type": "stream",
     "text": [
      "[CV 1/3; 43/180] END bootstrap=True, criterion=entropy, max_depth=6, max_features=auto, min_samples_leaf=10, min_samples_split=2, n_estimators=200;, score=0.500 total time=   2.3s\n",
      "[CV 2/3; 43/180] START bootstrap=True, criterion=entropy, max_depth=6, max_features=auto, min_samples_leaf=10, min_samples_split=2, n_estimators=200\n"
     ]
    },
    {
     "name": "stderr",
     "output_type": "stream",
     "text": [
      "d:\\googledrive\\wirelessmotionintelligence\\2022-knu-wmi\\venv\\lib\\site-packages\\sklearn\\model_selection\\_validation.py:680: DataConversionWarning: A column-vector y was passed when a 1d array was expected. Please change the shape of y to (n_samples,), for example using ravel().\n",
      "  estimator.fit(X_train, y_train, **fit_params)\n"
     ]
    },
    {
     "name": "stdout",
     "output_type": "stream",
     "text": [
      "[CV 2/3; 43/180] END bootstrap=True, criterion=entropy, max_depth=6, max_features=auto, min_samples_leaf=10, min_samples_split=2, n_estimators=200;, score=0.513 total time=   2.3s\n",
      "[CV 3/3; 43/180] START bootstrap=True, criterion=entropy, max_depth=6, max_features=auto, min_samples_leaf=10, min_samples_split=2, n_estimators=200\n"
     ]
    },
    {
     "name": "stderr",
     "output_type": "stream",
     "text": [
      "d:\\googledrive\\wirelessmotionintelligence\\2022-knu-wmi\\venv\\lib\\site-packages\\sklearn\\model_selection\\_validation.py:680: DataConversionWarning: A column-vector y was passed when a 1d array was expected. Please change the shape of y to (n_samples,), for example using ravel().\n",
      "  estimator.fit(X_train, y_train, **fit_params)\n"
     ]
    },
    {
     "name": "stdout",
     "output_type": "stream",
     "text": [
      "[CV 3/3; 43/180] END bootstrap=True, criterion=entropy, max_depth=6, max_features=auto, min_samples_leaf=10, min_samples_split=2, n_estimators=200;, score=0.564 total time=   2.3s\n",
      "[CV 1/3; 44/180] START bootstrap=True, criterion=entropy, max_depth=6, max_features=auto, min_samples_leaf=10, min_samples_split=2, n_estimators=300\n"
     ]
    },
    {
     "name": "stderr",
     "output_type": "stream",
     "text": [
      "d:\\googledrive\\wirelessmotionintelligence\\2022-knu-wmi\\venv\\lib\\site-packages\\sklearn\\model_selection\\_validation.py:680: DataConversionWarning: A column-vector y was passed when a 1d array was expected. Please change the shape of y to (n_samples,), for example using ravel().\n",
      "  estimator.fit(X_train, y_train, **fit_params)\n"
     ]
    },
    {
     "name": "stdout",
     "output_type": "stream",
     "text": [
      "[CV 1/3; 44/180] END bootstrap=True, criterion=entropy, max_depth=6, max_features=auto, min_samples_leaf=10, min_samples_split=2, n_estimators=300;, score=0.500 total time=   3.4s\n",
      "[CV 2/3; 44/180] START bootstrap=True, criterion=entropy, max_depth=6, max_features=auto, min_samples_leaf=10, min_samples_split=2, n_estimators=300\n"
     ]
    },
    {
     "name": "stderr",
     "output_type": "stream",
     "text": [
      "d:\\googledrive\\wirelessmotionintelligence\\2022-knu-wmi\\venv\\lib\\site-packages\\sklearn\\model_selection\\_validation.py:680: DataConversionWarning: A column-vector y was passed when a 1d array was expected. Please change the shape of y to (n_samples,), for example using ravel().\n",
      "  estimator.fit(X_train, y_train, **fit_params)\n"
     ]
    },
    {
     "name": "stdout",
     "output_type": "stream",
     "text": [
      "[CV 2/3; 44/180] END bootstrap=True, criterion=entropy, max_depth=6, max_features=auto, min_samples_leaf=10, min_samples_split=2, n_estimators=300;, score=0.513 total time=   3.7s\n",
      "[CV 3/3; 44/180] START bootstrap=True, criterion=entropy, max_depth=6, max_features=auto, min_samples_leaf=10, min_samples_split=2, n_estimators=300\n"
     ]
    },
    {
     "name": "stderr",
     "output_type": "stream",
     "text": [
      "d:\\googledrive\\wirelessmotionintelligence\\2022-knu-wmi\\venv\\lib\\site-packages\\sklearn\\model_selection\\_validation.py:680: DataConversionWarning: A column-vector y was passed when a 1d array was expected. Please change the shape of y to (n_samples,), for example using ravel().\n",
      "  estimator.fit(X_train, y_train, **fit_params)\n"
     ]
    },
    {
     "name": "stdout",
     "output_type": "stream",
     "text": [
      "[CV 3/3; 44/180] END bootstrap=True, criterion=entropy, max_depth=6, max_features=auto, min_samples_leaf=10, min_samples_split=2, n_estimators=300;, score=0.462 total time=   3.6s\n",
      "[CV 1/3; 45/180] START bootstrap=True, criterion=entropy, max_depth=6, max_features=auto, min_samples_leaf=10, min_samples_split=4, n_estimators=50\n"
     ]
    },
    {
     "name": "stderr",
     "output_type": "stream",
     "text": [
      "d:\\googledrive\\wirelessmotionintelligence\\2022-knu-wmi\\venv\\lib\\site-packages\\sklearn\\model_selection\\_validation.py:680: DataConversionWarning: A column-vector y was passed when a 1d array was expected. Please change the shape of y to (n_samples,), for example using ravel().\n",
      "  estimator.fit(X_train, y_train, **fit_params)\n"
     ]
    },
    {
     "name": "stdout",
     "output_type": "stream",
     "text": [
      "[CV 1/3; 45/180] END bootstrap=True, criterion=entropy, max_depth=6, max_features=auto, min_samples_leaf=10, min_samples_split=4, n_estimators=50;, score=0.600 total time=   1.0s\n",
      "[CV 2/3; 45/180] START bootstrap=True, criterion=entropy, max_depth=6, max_features=auto, min_samples_leaf=10, min_samples_split=4, n_estimators=50\n"
     ]
    },
    {
     "name": "stderr",
     "output_type": "stream",
     "text": [
      "d:\\googledrive\\wirelessmotionintelligence\\2022-knu-wmi\\venv\\lib\\site-packages\\sklearn\\model_selection\\_validation.py:680: DataConversionWarning: A column-vector y was passed when a 1d array was expected. Please change the shape of y to (n_samples,), for example using ravel().\n",
      "  estimator.fit(X_train, y_train, **fit_params)\n"
     ]
    },
    {
     "name": "stdout",
     "output_type": "stream",
     "text": [
      "[CV 2/3; 45/180] END bootstrap=True, criterion=entropy, max_depth=6, max_features=auto, min_samples_leaf=10, min_samples_split=4, n_estimators=50;, score=0.564 total time=   1.0s\n",
      "[CV 3/3; 45/180] START bootstrap=True, criterion=entropy, max_depth=6, max_features=auto, min_samples_leaf=10, min_samples_split=4, n_estimators=50\n"
     ]
    },
    {
     "name": "stderr",
     "output_type": "stream",
     "text": [
      "d:\\googledrive\\wirelessmotionintelligence\\2022-knu-wmi\\venv\\lib\\site-packages\\sklearn\\model_selection\\_validation.py:680: DataConversionWarning: A column-vector y was passed when a 1d array was expected. Please change the shape of y to (n_samples,), for example using ravel().\n",
      "  estimator.fit(X_train, y_train, **fit_params)\n"
     ]
    },
    {
     "name": "stdout",
     "output_type": "stream",
     "text": [
      "[CV 3/3; 45/180] END bootstrap=True, criterion=entropy, max_depth=6, max_features=auto, min_samples_leaf=10, min_samples_split=4, n_estimators=50;, score=0.590 total time=   1.0s\n",
      "[CV 1/3; 46/180] START bootstrap=True, criterion=entropy, max_depth=6, max_features=auto, min_samples_leaf=10, min_samples_split=4, n_estimators=100\n"
     ]
    },
    {
     "name": "stderr",
     "output_type": "stream",
     "text": [
      "d:\\googledrive\\wirelessmotionintelligence\\2022-knu-wmi\\venv\\lib\\site-packages\\sklearn\\model_selection\\_validation.py:680: DataConversionWarning: A column-vector y was passed when a 1d array was expected. Please change the shape of y to (n_samples,), for example using ravel().\n",
      "  estimator.fit(X_train, y_train, **fit_params)\n"
     ]
    },
    {
     "name": "stdout",
     "output_type": "stream",
     "text": [
      "[CV 1/3; 46/180] END bootstrap=True, criterion=entropy, max_depth=6, max_features=auto, min_samples_leaf=10, min_samples_split=4, n_estimators=100;, score=0.550 total time=   1.5s\n",
      "[CV 2/3; 46/180] START bootstrap=True, criterion=entropy, max_depth=6, max_features=auto, min_samples_leaf=10, min_samples_split=4, n_estimators=100\n"
     ]
    },
    {
     "name": "stderr",
     "output_type": "stream",
     "text": [
      "d:\\googledrive\\wirelessmotionintelligence\\2022-knu-wmi\\venv\\lib\\site-packages\\sklearn\\model_selection\\_validation.py:680: DataConversionWarning: A column-vector y was passed when a 1d array was expected. Please change the shape of y to (n_samples,), for example using ravel().\n",
      "  estimator.fit(X_train, y_train, **fit_params)\n"
     ]
    },
    {
     "name": "stdout",
     "output_type": "stream",
     "text": [
      "[CV 2/3; 46/180] END bootstrap=True, criterion=entropy, max_depth=6, max_features=auto, min_samples_leaf=10, min_samples_split=4, n_estimators=100;, score=0.667 total time=   1.5s\n",
      "[CV 3/3; 46/180] START bootstrap=True, criterion=entropy, max_depth=6, max_features=auto, min_samples_leaf=10, min_samples_split=4, n_estimators=100\n"
     ]
    },
    {
     "name": "stderr",
     "output_type": "stream",
     "text": [
      "d:\\googledrive\\wirelessmotionintelligence\\2022-knu-wmi\\venv\\lib\\site-packages\\sklearn\\model_selection\\_validation.py:680: DataConversionWarning: A column-vector y was passed when a 1d array was expected. Please change the shape of y to (n_samples,), for example using ravel().\n",
      "  estimator.fit(X_train, y_train, **fit_params)\n"
     ]
    },
    {
     "name": "stdout",
     "output_type": "stream",
     "text": [
      "[CV 3/3; 46/180] END bootstrap=True, criterion=entropy, max_depth=6, max_features=auto, min_samples_leaf=10, min_samples_split=4, n_estimators=100;, score=0.590 total time=   1.6s\n",
      "[CV 1/3; 47/180] START bootstrap=True, criterion=entropy, max_depth=6, max_features=auto, min_samples_leaf=10, min_samples_split=4, n_estimators=200\n"
     ]
    },
    {
     "name": "stderr",
     "output_type": "stream",
     "text": [
      "d:\\googledrive\\wirelessmotionintelligence\\2022-knu-wmi\\venv\\lib\\site-packages\\sklearn\\model_selection\\_validation.py:680: DataConversionWarning: A column-vector y was passed when a 1d array was expected. Please change the shape of y to (n_samples,), for example using ravel().\n",
      "  estimator.fit(X_train, y_train, **fit_params)\n"
     ]
    },
    {
     "name": "stdout",
     "output_type": "stream",
     "text": [
      "[CV 1/3; 47/180] END bootstrap=True, criterion=entropy, max_depth=6, max_features=auto, min_samples_leaf=10, min_samples_split=4, n_estimators=200;, score=0.500 total time=   2.3s\n",
      "[CV 2/3; 47/180] START bootstrap=True, criterion=entropy, max_depth=6, max_features=auto, min_samples_leaf=10, min_samples_split=4, n_estimators=200\n"
     ]
    },
    {
     "name": "stderr",
     "output_type": "stream",
     "text": [
      "d:\\googledrive\\wirelessmotionintelligence\\2022-knu-wmi\\venv\\lib\\site-packages\\sklearn\\model_selection\\_validation.py:680: DataConversionWarning: A column-vector y was passed when a 1d array was expected. Please change the shape of y to (n_samples,), for example using ravel().\n",
      "  estimator.fit(X_train, y_train, **fit_params)\n"
     ]
    },
    {
     "name": "stdout",
     "output_type": "stream",
     "text": [
      "[CV 2/3; 47/180] END bootstrap=True, criterion=entropy, max_depth=6, max_features=auto, min_samples_leaf=10, min_samples_split=4, n_estimators=200;, score=0.513 total time=   2.4s\n",
      "[CV 3/3; 47/180] START bootstrap=True, criterion=entropy, max_depth=6, max_features=auto, min_samples_leaf=10, min_samples_split=4, n_estimators=200\n"
     ]
    },
    {
     "name": "stderr",
     "output_type": "stream",
     "text": [
      "d:\\googledrive\\wirelessmotionintelligence\\2022-knu-wmi\\venv\\lib\\site-packages\\sklearn\\model_selection\\_validation.py:680: DataConversionWarning: A column-vector y was passed when a 1d array was expected. Please change the shape of y to (n_samples,), for example using ravel().\n",
      "  estimator.fit(X_train, y_train, **fit_params)\n"
     ]
    },
    {
     "name": "stdout",
     "output_type": "stream",
     "text": [
      "[CV 3/3; 47/180] END bootstrap=True, criterion=entropy, max_depth=6, max_features=auto, min_samples_leaf=10, min_samples_split=4, n_estimators=200;, score=0.564 total time=   2.4s\n",
      "[CV 1/3; 48/180] START bootstrap=True, criterion=entropy, max_depth=6, max_features=auto, min_samples_leaf=10, min_samples_split=4, n_estimators=300\n"
     ]
    },
    {
     "name": "stderr",
     "output_type": "stream",
     "text": [
      "d:\\googledrive\\wirelessmotionintelligence\\2022-knu-wmi\\venv\\lib\\site-packages\\sklearn\\model_selection\\_validation.py:680: DataConversionWarning: A column-vector y was passed when a 1d array was expected. Please change the shape of y to (n_samples,), for example using ravel().\n",
      "  estimator.fit(X_train, y_train, **fit_params)\n"
     ]
    },
    {
     "name": "stdout",
     "output_type": "stream",
     "text": [
      "[CV 1/3; 48/180] END bootstrap=True, criterion=entropy, max_depth=6, max_features=auto, min_samples_leaf=10, min_samples_split=4, n_estimators=300;, score=0.500 total time=   3.3s\n",
      "[CV 2/3; 48/180] START bootstrap=True, criterion=entropy, max_depth=6, max_features=auto, min_samples_leaf=10, min_samples_split=4, n_estimators=300\n"
     ]
    },
    {
     "name": "stderr",
     "output_type": "stream",
     "text": [
      "d:\\googledrive\\wirelessmotionintelligence\\2022-knu-wmi\\venv\\lib\\site-packages\\sklearn\\model_selection\\_validation.py:680: DataConversionWarning: A column-vector y was passed when a 1d array was expected. Please change the shape of y to (n_samples,), for example using ravel().\n",
      "  estimator.fit(X_train, y_train, **fit_params)\n"
     ]
    },
    {
     "name": "stdout",
     "output_type": "stream",
     "text": [
      "[CV 2/3; 48/180] END bootstrap=True, criterion=entropy, max_depth=6, max_features=auto, min_samples_leaf=10, min_samples_split=4, n_estimators=300;, score=0.513 total time=   3.3s\n",
      "[CV 3/3; 48/180] START bootstrap=True, criterion=entropy, max_depth=6, max_features=auto, min_samples_leaf=10, min_samples_split=4, n_estimators=300\n"
     ]
    },
    {
     "name": "stderr",
     "output_type": "stream",
     "text": [
      "d:\\googledrive\\wirelessmotionintelligence\\2022-knu-wmi\\venv\\lib\\site-packages\\sklearn\\model_selection\\_validation.py:680: DataConversionWarning: A column-vector y was passed when a 1d array was expected. Please change the shape of y to (n_samples,), for example using ravel().\n",
      "  estimator.fit(X_train, y_train, **fit_params)\n"
     ]
    },
    {
     "name": "stdout",
     "output_type": "stream",
     "text": [
      "[CV 3/3; 48/180] END bootstrap=True, criterion=entropy, max_depth=6, max_features=auto, min_samples_leaf=10, min_samples_split=4, n_estimators=300;, score=0.462 total time=   3.4s\n",
      "[CV 1/3; 49/180] START bootstrap=True, criterion=entropy, max_depth=6, max_features=auto, min_samples_leaf=10, min_samples_split=10, n_estimators=50\n"
     ]
    },
    {
     "name": "stderr",
     "output_type": "stream",
     "text": [
      "d:\\googledrive\\wirelessmotionintelligence\\2022-knu-wmi\\venv\\lib\\site-packages\\sklearn\\model_selection\\_validation.py:680: DataConversionWarning: A column-vector y was passed when a 1d array was expected. Please change the shape of y to (n_samples,), for example using ravel().\n",
      "  estimator.fit(X_train, y_train, **fit_params)\n"
     ]
    },
    {
     "name": "stdout",
     "output_type": "stream",
     "text": [
      "[CV 1/3; 49/180] END bootstrap=True, criterion=entropy, max_depth=6, max_features=auto, min_samples_leaf=10, min_samples_split=10, n_estimators=50;, score=0.600 total time=   1.1s\n",
      "[CV 2/3; 49/180] START bootstrap=True, criterion=entropy, max_depth=6, max_features=auto, min_samples_leaf=10, min_samples_split=10, n_estimators=50\n"
     ]
    },
    {
     "name": "stderr",
     "output_type": "stream",
     "text": [
      "d:\\googledrive\\wirelessmotionintelligence\\2022-knu-wmi\\venv\\lib\\site-packages\\sklearn\\model_selection\\_validation.py:680: DataConversionWarning: A column-vector y was passed when a 1d array was expected. Please change the shape of y to (n_samples,), for example using ravel().\n",
      "  estimator.fit(X_train, y_train, **fit_params)\n"
     ]
    },
    {
     "name": "stdout",
     "output_type": "stream",
     "text": [
      "[CV 2/3; 49/180] END bootstrap=True, criterion=entropy, max_depth=6, max_features=auto, min_samples_leaf=10, min_samples_split=10, n_estimators=50;, score=0.564 total time=   1.3s\n",
      "[CV 3/3; 49/180] START bootstrap=True, criterion=entropy, max_depth=6, max_features=auto, min_samples_leaf=10, min_samples_split=10, n_estimators=50\n"
     ]
    },
    {
     "name": "stderr",
     "output_type": "stream",
     "text": [
      "d:\\googledrive\\wirelessmotionintelligence\\2022-knu-wmi\\venv\\lib\\site-packages\\sklearn\\model_selection\\_validation.py:680: DataConversionWarning: A column-vector y was passed when a 1d array was expected. Please change the shape of y to (n_samples,), for example using ravel().\n",
      "  estimator.fit(X_train, y_train, **fit_params)\n"
     ]
    },
    {
     "name": "stdout",
     "output_type": "stream",
     "text": [
      "[CV 3/3; 49/180] END bootstrap=True, criterion=entropy, max_depth=6, max_features=auto, min_samples_leaf=10, min_samples_split=10, n_estimators=50;, score=0.590 total time=   1.3s\n",
      "[CV 1/3; 50/180] START bootstrap=True, criterion=entropy, max_depth=6, max_features=auto, min_samples_leaf=10, min_samples_split=10, n_estimators=100\n"
     ]
    },
    {
     "name": "stderr",
     "output_type": "stream",
     "text": [
      "d:\\googledrive\\wirelessmotionintelligence\\2022-knu-wmi\\venv\\lib\\site-packages\\sklearn\\model_selection\\_validation.py:680: DataConversionWarning: A column-vector y was passed when a 1d array was expected. Please change the shape of y to (n_samples,), for example using ravel().\n",
      "  estimator.fit(X_train, y_train, **fit_params)\n"
     ]
    },
    {
     "name": "stdout",
     "output_type": "stream",
     "text": [
      "[CV 1/3; 50/180] END bootstrap=True, criterion=entropy, max_depth=6, max_features=auto, min_samples_leaf=10, min_samples_split=10, n_estimators=100;, score=0.550 total time=   1.8s\n",
      "[CV 2/3; 50/180] START bootstrap=True, criterion=entropy, max_depth=6, max_features=auto, min_samples_leaf=10, min_samples_split=10, n_estimators=100\n"
     ]
    },
    {
     "name": "stderr",
     "output_type": "stream",
     "text": [
      "d:\\googledrive\\wirelessmotionintelligence\\2022-knu-wmi\\venv\\lib\\site-packages\\sklearn\\model_selection\\_validation.py:680: DataConversionWarning: A column-vector y was passed when a 1d array was expected. Please change the shape of y to (n_samples,), for example using ravel().\n",
      "  estimator.fit(X_train, y_train, **fit_params)\n"
     ]
    },
    {
     "name": "stdout",
     "output_type": "stream",
     "text": [
      "[CV 2/3; 50/180] END bootstrap=True, criterion=entropy, max_depth=6, max_features=auto, min_samples_leaf=10, min_samples_split=10, n_estimators=100;, score=0.667 total time=   1.7s\n",
      "[CV 3/3; 50/180] START bootstrap=True, criterion=entropy, max_depth=6, max_features=auto, min_samples_leaf=10, min_samples_split=10, n_estimators=100\n"
     ]
    },
    {
     "name": "stderr",
     "output_type": "stream",
     "text": [
      "d:\\googledrive\\wirelessmotionintelligence\\2022-knu-wmi\\venv\\lib\\site-packages\\sklearn\\model_selection\\_validation.py:680: DataConversionWarning: A column-vector y was passed when a 1d array was expected. Please change the shape of y to (n_samples,), for example using ravel().\n",
      "  estimator.fit(X_train, y_train, **fit_params)\n"
     ]
    },
    {
     "name": "stdout",
     "output_type": "stream",
     "text": [
      "[CV 3/3; 50/180] END bootstrap=True, criterion=entropy, max_depth=6, max_features=auto, min_samples_leaf=10, min_samples_split=10, n_estimators=100;, score=0.590 total time=   1.7s\n",
      "[CV 1/3; 51/180] START bootstrap=True, criterion=entropy, max_depth=6, max_features=auto, min_samples_leaf=10, min_samples_split=10, n_estimators=200\n"
     ]
    },
    {
     "name": "stderr",
     "output_type": "stream",
     "text": [
      "d:\\googledrive\\wirelessmotionintelligence\\2022-knu-wmi\\venv\\lib\\site-packages\\sklearn\\model_selection\\_validation.py:680: DataConversionWarning: A column-vector y was passed when a 1d array was expected. Please change the shape of y to (n_samples,), for example using ravel().\n",
      "  estimator.fit(X_train, y_train, **fit_params)\n"
     ]
    },
    {
     "name": "stdout",
     "output_type": "stream",
     "text": [
      "[CV 1/3; 51/180] END bootstrap=True, criterion=entropy, max_depth=6, max_features=auto, min_samples_leaf=10, min_samples_split=10, n_estimators=200;, score=0.500 total time=   2.8s\n",
      "[CV 2/3; 51/180] START bootstrap=True, criterion=entropy, max_depth=6, max_features=auto, min_samples_leaf=10, min_samples_split=10, n_estimators=200\n"
     ]
    },
    {
     "name": "stderr",
     "output_type": "stream",
     "text": [
      "d:\\googledrive\\wirelessmotionintelligence\\2022-knu-wmi\\venv\\lib\\site-packages\\sklearn\\model_selection\\_validation.py:680: DataConversionWarning: A column-vector y was passed when a 1d array was expected. Please change the shape of y to (n_samples,), for example using ravel().\n",
      "  estimator.fit(X_train, y_train, **fit_params)\n"
     ]
    },
    {
     "name": "stdout",
     "output_type": "stream",
     "text": [
      "[CV 2/3; 51/180] END bootstrap=True, criterion=entropy, max_depth=6, max_features=auto, min_samples_leaf=10, min_samples_split=10, n_estimators=200;, score=0.513 total time=   2.7s\n",
      "[CV 3/3; 51/180] START bootstrap=True, criterion=entropy, max_depth=6, max_features=auto, min_samples_leaf=10, min_samples_split=10, n_estimators=200\n"
     ]
    },
    {
     "name": "stderr",
     "output_type": "stream",
     "text": [
      "d:\\googledrive\\wirelessmotionintelligence\\2022-knu-wmi\\venv\\lib\\site-packages\\sklearn\\model_selection\\_validation.py:680: DataConversionWarning: A column-vector y was passed when a 1d array was expected. Please change the shape of y to (n_samples,), for example using ravel().\n",
      "  estimator.fit(X_train, y_train, **fit_params)\n"
     ]
    },
    {
     "name": "stdout",
     "output_type": "stream",
     "text": [
      "[CV 3/3; 51/180] END bootstrap=True, criterion=entropy, max_depth=6, max_features=auto, min_samples_leaf=10, min_samples_split=10, n_estimators=200;, score=0.564 total time=   2.5s\n",
      "[CV 1/3; 52/180] START bootstrap=True, criterion=entropy, max_depth=6, max_features=auto, min_samples_leaf=10, min_samples_split=10, n_estimators=300\n"
     ]
    },
    {
     "name": "stderr",
     "output_type": "stream",
     "text": [
      "d:\\googledrive\\wirelessmotionintelligence\\2022-knu-wmi\\venv\\lib\\site-packages\\sklearn\\model_selection\\_validation.py:680: DataConversionWarning: A column-vector y was passed when a 1d array was expected. Please change the shape of y to (n_samples,), for example using ravel().\n",
      "  estimator.fit(X_train, y_train, **fit_params)\n"
     ]
    },
    {
     "name": "stdout",
     "output_type": "stream",
     "text": [
      "[CV 1/3; 52/180] END bootstrap=True, criterion=entropy, max_depth=6, max_features=auto, min_samples_leaf=10, min_samples_split=10, n_estimators=300;, score=0.500 total time=   3.4s\n",
      "[CV 2/3; 52/180] START bootstrap=True, criterion=entropy, max_depth=6, max_features=auto, min_samples_leaf=10, min_samples_split=10, n_estimators=300\n"
     ]
    },
    {
     "name": "stderr",
     "output_type": "stream",
     "text": [
      "d:\\googledrive\\wirelessmotionintelligence\\2022-knu-wmi\\venv\\lib\\site-packages\\sklearn\\model_selection\\_validation.py:680: DataConversionWarning: A column-vector y was passed when a 1d array was expected. Please change the shape of y to (n_samples,), for example using ravel().\n",
      "  estimator.fit(X_train, y_train, **fit_params)\n"
     ]
    },
    {
     "name": "stdout",
     "output_type": "stream",
     "text": [
      "[CV 2/3; 52/180] END bootstrap=True, criterion=entropy, max_depth=6, max_features=auto, min_samples_leaf=10, min_samples_split=10, n_estimators=300;, score=0.513 total time=   3.4s\n",
      "[CV 3/3; 52/180] START bootstrap=True, criterion=entropy, max_depth=6, max_features=auto, min_samples_leaf=10, min_samples_split=10, n_estimators=300\n"
     ]
    },
    {
     "name": "stderr",
     "output_type": "stream",
     "text": [
      "d:\\googledrive\\wirelessmotionintelligence\\2022-knu-wmi\\venv\\lib\\site-packages\\sklearn\\model_selection\\_validation.py:680: DataConversionWarning: A column-vector y was passed when a 1d array was expected. Please change the shape of y to (n_samples,), for example using ravel().\n",
      "  estimator.fit(X_train, y_train, **fit_params)\n"
     ]
    },
    {
     "name": "stdout",
     "output_type": "stream",
     "text": [
      "[CV 3/3; 52/180] END bootstrap=True, criterion=entropy, max_depth=6, max_features=auto, min_samples_leaf=10, min_samples_split=10, n_estimators=300;, score=0.462 total time=   3.5s\n",
      "[CV 1/3; 53/180] START bootstrap=True, criterion=entropy, max_depth=6, max_features=auto, min_samples_leaf=10, min_samples_split=12, n_estimators=50\n"
     ]
    },
    {
     "name": "stderr",
     "output_type": "stream",
     "text": [
      "d:\\googledrive\\wirelessmotionintelligence\\2022-knu-wmi\\venv\\lib\\site-packages\\sklearn\\model_selection\\_validation.py:680: DataConversionWarning: A column-vector y was passed when a 1d array was expected. Please change the shape of y to (n_samples,), for example using ravel().\n",
      "  estimator.fit(X_train, y_train, **fit_params)\n"
     ]
    },
    {
     "name": "stdout",
     "output_type": "stream",
     "text": [
      "[CV 1/3; 53/180] END bootstrap=True, criterion=entropy, max_depth=6, max_features=auto, min_samples_leaf=10, min_samples_split=12, n_estimators=50;, score=0.600 total time=   1.0s\n",
      "[CV 2/3; 53/180] START bootstrap=True, criterion=entropy, max_depth=6, max_features=auto, min_samples_leaf=10, min_samples_split=12, n_estimators=50\n"
     ]
    },
    {
     "name": "stderr",
     "output_type": "stream",
     "text": [
      "d:\\googledrive\\wirelessmotionintelligence\\2022-knu-wmi\\venv\\lib\\site-packages\\sklearn\\model_selection\\_validation.py:680: DataConversionWarning: A column-vector y was passed when a 1d array was expected. Please change the shape of y to (n_samples,), for example using ravel().\n",
      "  estimator.fit(X_train, y_train, **fit_params)\n"
     ]
    },
    {
     "name": "stdout",
     "output_type": "stream",
     "text": [
      "[CV 2/3; 53/180] END bootstrap=True, criterion=entropy, max_depth=6, max_features=auto, min_samples_leaf=10, min_samples_split=12, n_estimators=50;, score=0.564 total time=   1.0s\n",
      "[CV 3/3; 53/180] START bootstrap=True, criterion=entropy, max_depth=6, max_features=auto, min_samples_leaf=10, min_samples_split=12, n_estimators=50\n"
     ]
    },
    {
     "name": "stderr",
     "output_type": "stream",
     "text": [
      "d:\\googledrive\\wirelessmotionintelligence\\2022-knu-wmi\\venv\\lib\\site-packages\\sklearn\\model_selection\\_validation.py:680: DataConversionWarning: A column-vector y was passed when a 1d array was expected. Please change the shape of y to (n_samples,), for example using ravel().\n",
      "  estimator.fit(X_train, y_train, **fit_params)\n"
     ]
    },
    {
     "name": "stdout",
     "output_type": "stream",
     "text": [
      "[CV 3/3; 53/180] END bootstrap=True, criterion=entropy, max_depth=6, max_features=auto, min_samples_leaf=10, min_samples_split=12, n_estimators=50;, score=0.590 total time=   1.0s\n",
      "[CV 1/3; 54/180] START bootstrap=True, criterion=entropy, max_depth=6, max_features=auto, min_samples_leaf=10, min_samples_split=12, n_estimators=100\n"
     ]
    },
    {
     "name": "stderr",
     "output_type": "stream",
     "text": [
      "d:\\googledrive\\wirelessmotionintelligence\\2022-knu-wmi\\venv\\lib\\site-packages\\sklearn\\model_selection\\_validation.py:680: DataConversionWarning: A column-vector y was passed when a 1d array was expected. Please change the shape of y to (n_samples,), for example using ravel().\n",
      "  estimator.fit(X_train, y_train, **fit_params)\n"
     ]
    },
    {
     "name": "stdout",
     "output_type": "stream",
     "text": [
      "[CV 1/3; 54/180] END bootstrap=True, criterion=entropy, max_depth=6, max_features=auto, min_samples_leaf=10, min_samples_split=12, n_estimators=100;, score=0.550 total time=   1.6s\n",
      "[CV 2/3; 54/180] START bootstrap=True, criterion=entropy, max_depth=6, max_features=auto, min_samples_leaf=10, min_samples_split=12, n_estimators=100\n"
     ]
    },
    {
     "name": "stderr",
     "output_type": "stream",
     "text": [
      "d:\\googledrive\\wirelessmotionintelligence\\2022-knu-wmi\\venv\\lib\\site-packages\\sklearn\\model_selection\\_validation.py:680: DataConversionWarning: A column-vector y was passed when a 1d array was expected. Please change the shape of y to (n_samples,), for example using ravel().\n",
      "  estimator.fit(X_train, y_train, **fit_params)\n"
     ]
    },
    {
     "name": "stdout",
     "output_type": "stream",
     "text": [
      "[CV 2/3; 54/180] END bootstrap=True, criterion=entropy, max_depth=6, max_features=auto, min_samples_leaf=10, min_samples_split=12, n_estimators=100;, score=0.667 total time=   1.6s\n",
      "[CV 3/3; 54/180] START bootstrap=True, criterion=entropy, max_depth=6, max_features=auto, min_samples_leaf=10, min_samples_split=12, n_estimators=100\n"
     ]
    },
    {
     "name": "stderr",
     "output_type": "stream",
     "text": [
      "d:\\googledrive\\wirelessmotionintelligence\\2022-knu-wmi\\venv\\lib\\site-packages\\sklearn\\model_selection\\_validation.py:680: DataConversionWarning: A column-vector y was passed when a 1d array was expected. Please change the shape of y to (n_samples,), for example using ravel().\n",
      "  estimator.fit(X_train, y_train, **fit_params)\n"
     ]
    },
    {
     "name": "stdout",
     "output_type": "stream",
     "text": [
      "[CV 3/3; 54/180] END bootstrap=True, criterion=entropy, max_depth=6, max_features=auto, min_samples_leaf=10, min_samples_split=12, n_estimators=100;, score=0.590 total time=   1.6s\n",
      "[CV 1/3; 55/180] START bootstrap=True, criterion=entropy, max_depth=6, max_features=auto, min_samples_leaf=10, min_samples_split=12, n_estimators=200\n"
     ]
    },
    {
     "name": "stderr",
     "output_type": "stream",
     "text": [
      "d:\\googledrive\\wirelessmotionintelligence\\2022-knu-wmi\\venv\\lib\\site-packages\\sklearn\\model_selection\\_validation.py:680: DataConversionWarning: A column-vector y was passed when a 1d array was expected. Please change the shape of y to (n_samples,), for example using ravel().\n",
      "  estimator.fit(X_train, y_train, **fit_params)\n"
     ]
    },
    {
     "name": "stdout",
     "output_type": "stream",
     "text": [
      "[CV 1/3; 55/180] END bootstrap=True, criterion=entropy, max_depth=6, max_features=auto, min_samples_leaf=10, min_samples_split=12, n_estimators=200;, score=0.500 total time=   2.4s\n",
      "[CV 2/3; 55/180] START bootstrap=True, criterion=entropy, max_depth=6, max_features=auto, min_samples_leaf=10, min_samples_split=12, n_estimators=200\n"
     ]
    },
    {
     "name": "stderr",
     "output_type": "stream",
     "text": [
      "d:\\googledrive\\wirelessmotionintelligence\\2022-knu-wmi\\venv\\lib\\site-packages\\sklearn\\model_selection\\_validation.py:680: DataConversionWarning: A column-vector y was passed when a 1d array was expected. Please change the shape of y to (n_samples,), for example using ravel().\n",
      "  estimator.fit(X_train, y_train, **fit_params)\n"
     ]
    },
    {
     "name": "stdout",
     "output_type": "stream",
     "text": [
      "[CV 2/3; 55/180] END bootstrap=True, criterion=entropy, max_depth=6, max_features=auto, min_samples_leaf=10, min_samples_split=12, n_estimators=200;, score=0.513 total time=   2.5s\n",
      "[CV 3/3; 55/180] START bootstrap=True, criterion=entropy, max_depth=6, max_features=auto, min_samples_leaf=10, min_samples_split=12, n_estimators=200\n"
     ]
    },
    {
     "name": "stderr",
     "output_type": "stream",
     "text": [
      "d:\\googledrive\\wirelessmotionintelligence\\2022-knu-wmi\\venv\\lib\\site-packages\\sklearn\\model_selection\\_validation.py:680: DataConversionWarning: A column-vector y was passed when a 1d array was expected. Please change the shape of y to (n_samples,), for example using ravel().\n",
      "  estimator.fit(X_train, y_train, **fit_params)\n"
     ]
    },
    {
     "name": "stdout",
     "output_type": "stream",
     "text": [
      "[CV 3/3; 55/180] END bootstrap=True, criterion=entropy, max_depth=6, max_features=auto, min_samples_leaf=10, min_samples_split=12, n_estimators=200;, score=0.564 total time=   2.4s\n",
      "[CV 1/3; 56/180] START bootstrap=True, criterion=entropy, max_depth=6, max_features=auto, min_samples_leaf=10, min_samples_split=12, n_estimators=300\n"
     ]
    },
    {
     "name": "stderr",
     "output_type": "stream",
     "text": [
      "d:\\googledrive\\wirelessmotionintelligence\\2022-knu-wmi\\venv\\lib\\site-packages\\sklearn\\model_selection\\_validation.py:680: DataConversionWarning: A column-vector y was passed when a 1d array was expected. Please change the shape of y to (n_samples,), for example using ravel().\n",
      "  estimator.fit(X_train, y_train, **fit_params)\n"
     ]
    },
    {
     "name": "stdout",
     "output_type": "stream",
     "text": [
      "[CV 1/3; 56/180] END bootstrap=True, criterion=entropy, max_depth=6, max_features=auto, min_samples_leaf=10, min_samples_split=12, n_estimators=300;, score=0.500 total time=   3.4s\n",
      "[CV 2/3; 56/180] START bootstrap=True, criterion=entropy, max_depth=6, max_features=auto, min_samples_leaf=10, min_samples_split=12, n_estimators=300\n"
     ]
    },
    {
     "name": "stderr",
     "output_type": "stream",
     "text": [
      "d:\\googledrive\\wirelessmotionintelligence\\2022-knu-wmi\\venv\\lib\\site-packages\\sklearn\\model_selection\\_validation.py:680: DataConversionWarning: A column-vector y was passed when a 1d array was expected. Please change the shape of y to (n_samples,), for example using ravel().\n",
      "  estimator.fit(X_train, y_train, **fit_params)\n"
     ]
    },
    {
     "name": "stdout",
     "output_type": "stream",
     "text": [
      "[CV 2/3; 56/180] END bootstrap=True, criterion=entropy, max_depth=6, max_features=auto, min_samples_leaf=10, min_samples_split=12, n_estimators=300;, score=0.513 total time=   3.4s\n",
      "[CV 3/3; 56/180] START bootstrap=True, criterion=entropy, max_depth=6, max_features=auto, min_samples_leaf=10, min_samples_split=12, n_estimators=300\n"
     ]
    },
    {
     "name": "stderr",
     "output_type": "stream",
     "text": [
      "d:\\googledrive\\wirelessmotionintelligence\\2022-knu-wmi\\venv\\lib\\site-packages\\sklearn\\model_selection\\_validation.py:680: DataConversionWarning: A column-vector y was passed when a 1d array was expected. Please change the shape of y to (n_samples,), for example using ravel().\n",
      "  estimator.fit(X_train, y_train, **fit_params)\n"
     ]
    },
    {
     "name": "stdout",
     "output_type": "stream",
     "text": [
      "[CV 3/3; 56/180] END bootstrap=True, criterion=entropy, max_depth=6, max_features=auto, min_samples_leaf=10, min_samples_split=12, n_estimators=300;, score=0.462 total time=   3.4s\n",
      "[CV 1/3; 57/180] START bootstrap=True, criterion=entropy, max_depth=6, max_features=auto, min_samples_leaf=10, min_samples_split=16, n_estimators=50\n"
     ]
    },
    {
     "name": "stderr",
     "output_type": "stream",
     "text": [
      "d:\\googledrive\\wirelessmotionintelligence\\2022-knu-wmi\\venv\\lib\\site-packages\\sklearn\\model_selection\\_validation.py:680: DataConversionWarning: A column-vector y was passed when a 1d array was expected. Please change the shape of y to (n_samples,), for example using ravel().\n",
      "  estimator.fit(X_train, y_train, **fit_params)\n"
     ]
    },
    {
     "name": "stdout",
     "output_type": "stream",
     "text": [
      "[CV 1/3; 57/180] END bootstrap=True, criterion=entropy, max_depth=6, max_features=auto, min_samples_leaf=10, min_samples_split=16, n_estimators=50;, score=0.600 total time=   1.0s\n",
      "[CV 2/3; 57/180] START bootstrap=True, criterion=entropy, max_depth=6, max_features=auto, min_samples_leaf=10, min_samples_split=16, n_estimators=50\n"
     ]
    },
    {
     "name": "stderr",
     "output_type": "stream",
     "text": [
      "d:\\googledrive\\wirelessmotionintelligence\\2022-knu-wmi\\venv\\lib\\site-packages\\sklearn\\model_selection\\_validation.py:680: DataConversionWarning: A column-vector y was passed when a 1d array was expected. Please change the shape of y to (n_samples,), for example using ravel().\n",
      "  estimator.fit(X_train, y_train, **fit_params)\n"
     ]
    },
    {
     "name": "stdout",
     "output_type": "stream",
     "text": [
      "[CV 2/3; 57/180] END bootstrap=True, criterion=entropy, max_depth=6, max_features=auto, min_samples_leaf=10, min_samples_split=16, n_estimators=50;, score=0.564 total time=   1.0s\n",
      "[CV 3/3; 57/180] START bootstrap=True, criterion=entropy, max_depth=6, max_features=auto, min_samples_leaf=10, min_samples_split=16, n_estimators=50\n"
     ]
    },
    {
     "name": "stderr",
     "output_type": "stream",
     "text": [
      "d:\\googledrive\\wirelessmotionintelligence\\2022-knu-wmi\\venv\\lib\\site-packages\\sklearn\\model_selection\\_validation.py:680: DataConversionWarning: A column-vector y was passed when a 1d array was expected. Please change the shape of y to (n_samples,), for example using ravel().\n",
      "  estimator.fit(X_train, y_train, **fit_params)\n"
     ]
    },
    {
     "name": "stdout",
     "output_type": "stream",
     "text": [
      "[CV 3/3; 57/180] END bootstrap=True, criterion=entropy, max_depth=6, max_features=auto, min_samples_leaf=10, min_samples_split=16, n_estimators=50;, score=0.590 total time=   1.1s\n",
      "[CV 1/3; 58/180] START bootstrap=True, criterion=entropy, max_depth=6, max_features=auto, min_samples_leaf=10, min_samples_split=16, n_estimators=100\n"
     ]
    },
    {
     "name": "stderr",
     "output_type": "stream",
     "text": [
      "d:\\googledrive\\wirelessmotionintelligence\\2022-knu-wmi\\venv\\lib\\site-packages\\sklearn\\model_selection\\_validation.py:680: DataConversionWarning: A column-vector y was passed when a 1d array was expected. Please change the shape of y to (n_samples,), for example using ravel().\n",
      "  estimator.fit(X_train, y_train, **fit_params)\n"
     ]
    },
    {
     "name": "stdout",
     "output_type": "stream",
     "text": [
      "[CV 1/3; 58/180] END bootstrap=True, criterion=entropy, max_depth=6, max_features=auto, min_samples_leaf=10, min_samples_split=16, n_estimators=100;, score=0.550 total time=   1.6s\n",
      "[CV 2/3; 58/180] START bootstrap=True, criterion=entropy, max_depth=6, max_features=auto, min_samples_leaf=10, min_samples_split=16, n_estimators=100\n"
     ]
    },
    {
     "name": "stderr",
     "output_type": "stream",
     "text": [
      "d:\\googledrive\\wirelessmotionintelligence\\2022-knu-wmi\\venv\\lib\\site-packages\\sklearn\\model_selection\\_validation.py:680: DataConversionWarning: A column-vector y was passed when a 1d array was expected. Please change the shape of y to (n_samples,), for example using ravel().\n",
      "  estimator.fit(X_train, y_train, **fit_params)\n"
     ]
    },
    {
     "name": "stdout",
     "output_type": "stream",
     "text": [
      "[CV 2/3; 58/180] END bootstrap=True, criterion=entropy, max_depth=6, max_features=auto, min_samples_leaf=10, min_samples_split=16, n_estimators=100;, score=0.667 total time=   1.6s\n",
      "[CV 3/3; 58/180] START bootstrap=True, criterion=entropy, max_depth=6, max_features=auto, min_samples_leaf=10, min_samples_split=16, n_estimators=100\n"
     ]
    },
    {
     "name": "stderr",
     "output_type": "stream",
     "text": [
      "d:\\googledrive\\wirelessmotionintelligence\\2022-knu-wmi\\venv\\lib\\site-packages\\sklearn\\model_selection\\_validation.py:680: DataConversionWarning: A column-vector y was passed when a 1d array was expected. Please change the shape of y to (n_samples,), for example using ravel().\n",
      "  estimator.fit(X_train, y_train, **fit_params)\n"
     ]
    },
    {
     "name": "stdout",
     "output_type": "stream",
     "text": [
      "[CV 3/3; 58/180] END bootstrap=True, criterion=entropy, max_depth=6, max_features=auto, min_samples_leaf=10, min_samples_split=16, n_estimators=100;, score=0.590 total time=   1.6s\n",
      "[CV 1/3; 59/180] START bootstrap=True, criterion=entropy, max_depth=6, max_features=auto, min_samples_leaf=10, min_samples_split=16, n_estimators=200\n"
     ]
    },
    {
     "name": "stderr",
     "output_type": "stream",
     "text": [
      "d:\\googledrive\\wirelessmotionintelligence\\2022-knu-wmi\\venv\\lib\\site-packages\\sklearn\\model_selection\\_validation.py:680: DataConversionWarning: A column-vector y was passed when a 1d array was expected. Please change the shape of y to (n_samples,), for example using ravel().\n",
      "  estimator.fit(X_train, y_train, **fit_params)\n"
     ]
    },
    {
     "name": "stdout",
     "output_type": "stream",
     "text": [
      "[CV 1/3; 59/180] END bootstrap=True, criterion=entropy, max_depth=6, max_features=auto, min_samples_leaf=10, min_samples_split=16, n_estimators=200;, score=0.500 total time=   2.4s\n",
      "[CV 2/3; 59/180] START bootstrap=True, criterion=entropy, max_depth=6, max_features=auto, min_samples_leaf=10, min_samples_split=16, n_estimators=200\n"
     ]
    },
    {
     "name": "stderr",
     "output_type": "stream",
     "text": [
      "d:\\googledrive\\wirelessmotionintelligence\\2022-knu-wmi\\venv\\lib\\site-packages\\sklearn\\model_selection\\_validation.py:680: DataConversionWarning: A column-vector y was passed when a 1d array was expected. Please change the shape of y to (n_samples,), for example using ravel().\n",
      "  estimator.fit(X_train, y_train, **fit_params)\n"
     ]
    },
    {
     "name": "stdout",
     "output_type": "stream",
     "text": [
      "[CV 2/3; 59/180] END bootstrap=True, criterion=entropy, max_depth=6, max_features=auto, min_samples_leaf=10, min_samples_split=16, n_estimators=200;, score=0.513 total time=   2.4s\n",
      "[CV 3/3; 59/180] START bootstrap=True, criterion=entropy, max_depth=6, max_features=auto, min_samples_leaf=10, min_samples_split=16, n_estimators=200\n"
     ]
    },
    {
     "name": "stderr",
     "output_type": "stream",
     "text": [
      "d:\\googledrive\\wirelessmotionintelligence\\2022-knu-wmi\\venv\\lib\\site-packages\\sklearn\\model_selection\\_validation.py:680: DataConversionWarning: A column-vector y was passed when a 1d array was expected. Please change the shape of y to (n_samples,), for example using ravel().\n",
      "  estimator.fit(X_train, y_train, **fit_params)\n"
     ]
    },
    {
     "name": "stdout",
     "output_type": "stream",
     "text": [
      "[CV 3/3; 59/180] END bootstrap=True, criterion=entropy, max_depth=6, max_features=auto, min_samples_leaf=10, min_samples_split=16, n_estimators=200;, score=0.564 total time=   2.4s\n",
      "[CV 1/3; 60/180] START bootstrap=True, criterion=entropy, max_depth=6, max_features=auto, min_samples_leaf=10, min_samples_split=16, n_estimators=300\n"
     ]
    },
    {
     "name": "stderr",
     "output_type": "stream",
     "text": [
      "d:\\googledrive\\wirelessmotionintelligence\\2022-knu-wmi\\venv\\lib\\site-packages\\sklearn\\model_selection\\_validation.py:680: DataConversionWarning: A column-vector y was passed when a 1d array was expected. Please change the shape of y to (n_samples,), for example using ravel().\n",
      "  estimator.fit(X_train, y_train, **fit_params)\n"
     ]
    },
    {
     "name": "stdout",
     "output_type": "stream",
     "text": [
      "[CV 1/3; 60/180] END bootstrap=True, criterion=entropy, max_depth=6, max_features=auto, min_samples_leaf=10, min_samples_split=16, n_estimators=300;, score=0.500 total time=   3.4s\n",
      "[CV 2/3; 60/180] START bootstrap=True, criterion=entropy, max_depth=6, max_features=auto, min_samples_leaf=10, min_samples_split=16, n_estimators=300\n"
     ]
    },
    {
     "name": "stderr",
     "output_type": "stream",
     "text": [
      "d:\\googledrive\\wirelessmotionintelligence\\2022-knu-wmi\\venv\\lib\\site-packages\\sklearn\\model_selection\\_validation.py:680: DataConversionWarning: A column-vector y was passed when a 1d array was expected. Please change the shape of y to (n_samples,), for example using ravel().\n",
      "  estimator.fit(X_train, y_train, **fit_params)\n"
     ]
    },
    {
     "name": "stdout",
     "output_type": "stream",
     "text": [
      "[CV 2/3; 60/180] END bootstrap=True, criterion=entropy, max_depth=6, max_features=auto, min_samples_leaf=10, min_samples_split=16, n_estimators=300;, score=0.513 total time=   3.4s\n",
      "[CV 3/3; 60/180] START bootstrap=True, criterion=entropy, max_depth=6, max_features=auto, min_samples_leaf=10, min_samples_split=16, n_estimators=300\n"
     ]
    },
    {
     "name": "stderr",
     "output_type": "stream",
     "text": [
      "d:\\googledrive\\wirelessmotionintelligence\\2022-knu-wmi\\venv\\lib\\site-packages\\sklearn\\model_selection\\_validation.py:680: DataConversionWarning: A column-vector y was passed when a 1d array was expected. Please change the shape of y to (n_samples,), for example using ravel().\n",
      "  estimator.fit(X_train, y_train, **fit_params)\n"
     ]
    },
    {
     "name": "stdout",
     "output_type": "stream",
     "text": [
      "[CV 3/3; 60/180] END bootstrap=True, criterion=entropy, max_depth=6, max_features=auto, min_samples_leaf=10, min_samples_split=16, n_estimators=300;, score=0.462 total time=   3.5s\n",
      "[CV 1/3; 61/180] START bootstrap=True, criterion=entropy, max_depth=8, max_features=auto, min_samples_leaf=1, min_samples_split=2, n_estimators=50\n"
     ]
    },
    {
     "name": "stderr",
     "output_type": "stream",
     "text": [
      "d:\\googledrive\\wirelessmotionintelligence\\2022-knu-wmi\\venv\\lib\\site-packages\\sklearn\\model_selection\\_validation.py:680: DataConversionWarning: A column-vector y was passed when a 1d array was expected. Please change the shape of y to (n_samples,), for example using ravel().\n",
      "  estimator.fit(X_train, y_train, **fit_params)\n"
     ]
    },
    {
     "name": "stdout",
     "output_type": "stream",
     "text": [
      "[CV 1/3; 61/180] END bootstrap=True, criterion=entropy, max_depth=8, max_features=auto, min_samples_leaf=1, min_samples_split=2, n_estimators=50;, score=0.625 total time=   1.0s\n",
      "[CV 2/3; 61/180] START bootstrap=True, criterion=entropy, max_depth=8, max_features=auto, min_samples_leaf=1, min_samples_split=2, n_estimators=50\n"
     ]
    },
    {
     "name": "stderr",
     "output_type": "stream",
     "text": [
      "d:\\googledrive\\wirelessmotionintelligence\\2022-knu-wmi\\venv\\lib\\site-packages\\sklearn\\model_selection\\_validation.py:680: DataConversionWarning: A column-vector y was passed when a 1d array was expected. Please change the shape of y to (n_samples,), for example using ravel().\n",
      "  estimator.fit(X_train, y_train, **fit_params)\n"
     ]
    },
    {
     "name": "stdout",
     "output_type": "stream",
     "text": [
      "[CV 2/3; 61/180] END bootstrap=True, criterion=entropy, max_depth=8, max_features=auto, min_samples_leaf=1, min_samples_split=2, n_estimators=50;, score=0.538 total time=   1.0s\n",
      "[CV 3/3; 61/180] START bootstrap=True, criterion=entropy, max_depth=8, max_features=auto, min_samples_leaf=1, min_samples_split=2, n_estimators=50\n"
     ]
    },
    {
     "name": "stderr",
     "output_type": "stream",
     "text": [
      "d:\\googledrive\\wirelessmotionintelligence\\2022-knu-wmi\\venv\\lib\\site-packages\\sklearn\\model_selection\\_validation.py:680: DataConversionWarning: A column-vector y was passed when a 1d array was expected. Please change the shape of y to (n_samples,), for example using ravel().\n",
      "  estimator.fit(X_train, y_train, **fit_params)\n"
     ]
    },
    {
     "name": "stdout",
     "output_type": "stream",
     "text": [
      "[CV 3/3; 61/180] END bootstrap=True, criterion=entropy, max_depth=8, max_features=auto, min_samples_leaf=1, min_samples_split=2, n_estimators=50;, score=0.538 total time=   1.1s\n",
      "[CV 1/3; 62/180] START bootstrap=True, criterion=entropy, max_depth=8, max_features=auto, min_samples_leaf=1, min_samples_split=2, n_estimators=100\n"
     ]
    },
    {
     "name": "stderr",
     "output_type": "stream",
     "text": [
      "d:\\googledrive\\wirelessmotionintelligence\\2022-knu-wmi\\venv\\lib\\site-packages\\sklearn\\model_selection\\_validation.py:680: DataConversionWarning: A column-vector y was passed when a 1d array was expected. Please change the shape of y to (n_samples,), for example using ravel().\n",
      "  estimator.fit(X_train, y_train, **fit_params)\n"
     ]
    },
    {
     "name": "stdout",
     "output_type": "stream",
     "text": [
      "[CV 1/3; 62/180] END bootstrap=True, criterion=entropy, max_depth=8, max_features=auto, min_samples_leaf=1, min_samples_split=2, n_estimators=100;, score=0.600 total time=   1.6s\n",
      "[CV 2/3; 62/180] START bootstrap=True, criterion=entropy, max_depth=8, max_features=auto, min_samples_leaf=1, min_samples_split=2, n_estimators=100\n"
     ]
    },
    {
     "name": "stderr",
     "output_type": "stream",
     "text": [
      "d:\\googledrive\\wirelessmotionintelligence\\2022-knu-wmi\\venv\\lib\\site-packages\\sklearn\\model_selection\\_validation.py:680: DataConversionWarning: A column-vector y was passed when a 1d array was expected. Please change the shape of y to (n_samples,), for example using ravel().\n",
      "  estimator.fit(X_train, y_train, **fit_params)\n"
     ]
    },
    {
     "name": "stdout",
     "output_type": "stream",
     "text": [
      "[CV 2/3; 62/180] END bootstrap=True, criterion=entropy, max_depth=8, max_features=auto, min_samples_leaf=1, min_samples_split=2, n_estimators=100;, score=0.641 total time=   1.6s\n",
      "[CV 3/3; 62/180] START bootstrap=True, criterion=entropy, max_depth=8, max_features=auto, min_samples_leaf=1, min_samples_split=2, n_estimators=100\n"
     ]
    },
    {
     "name": "stderr",
     "output_type": "stream",
     "text": [
      "d:\\googledrive\\wirelessmotionintelligence\\2022-knu-wmi\\venv\\lib\\site-packages\\sklearn\\model_selection\\_validation.py:680: DataConversionWarning: A column-vector y was passed when a 1d array was expected. Please change the shape of y to (n_samples,), for example using ravel().\n",
      "  estimator.fit(X_train, y_train, **fit_params)\n"
     ]
    },
    {
     "name": "stdout",
     "output_type": "stream",
     "text": [
      "[CV 3/3; 62/180] END bootstrap=True, criterion=entropy, max_depth=8, max_features=auto, min_samples_leaf=1, min_samples_split=2, n_estimators=100;, score=0.487 total time=   1.6s\n",
      "[CV 1/3; 63/180] START bootstrap=True, criterion=entropy, max_depth=8, max_features=auto, min_samples_leaf=1, min_samples_split=2, n_estimators=200\n"
     ]
    },
    {
     "name": "stderr",
     "output_type": "stream",
     "text": [
      "d:\\googledrive\\wirelessmotionintelligence\\2022-knu-wmi\\venv\\lib\\site-packages\\sklearn\\model_selection\\_validation.py:680: DataConversionWarning: A column-vector y was passed when a 1d array was expected. Please change the shape of y to (n_samples,), for example using ravel().\n",
      "  estimator.fit(X_train, y_train, **fit_params)\n"
     ]
    },
    {
     "name": "stdout",
     "output_type": "stream",
     "text": [
      "[CV 1/3; 63/180] END bootstrap=True, criterion=entropy, max_depth=8, max_features=auto, min_samples_leaf=1, min_samples_split=2, n_estimators=200;, score=0.500 total time=   2.4s\n",
      "[CV 2/3; 63/180] START bootstrap=True, criterion=entropy, max_depth=8, max_features=auto, min_samples_leaf=1, min_samples_split=2, n_estimators=200\n"
     ]
    },
    {
     "name": "stderr",
     "output_type": "stream",
     "text": [
      "d:\\googledrive\\wirelessmotionintelligence\\2022-knu-wmi\\venv\\lib\\site-packages\\sklearn\\model_selection\\_validation.py:680: DataConversionWarning: A column-vector y was passed when a 1d array was expected. Please change the shape of y to (n_samples,), for example using ravel().\n",
      "  estimator.fit(X_train, y_train, **fit_params)\n"
     ]
    },
    {
     "name": "stdout",
     "output_type": "stream",
     "text": [
      "[CV 2/3; 63/180] END bootstrap=True, criterion=entropy, max_depth=8, max_features=auto, min_samples_leaf=1, min_samples_split=2, n_estimators=200;, score=0.538 total time=   2.5s\n",
      "[CV 3/3; 63/180] START bootstrap=True, criterion=entropy, max_depth=8, max_features=auto, min_samples_leaf=1, min_samples_split=2, n_estimators=200\n"
     ]
    },
    {
     "name": "stderr",
     "output_type": "stream",
     "text": [
      "d:\\googledrive\\wirelessmotionintelligence\\2022-knu-wmi\\venv\\lib\\site-packages\\sklearn\\model_selection\\_validation.py:680: DataConversionWarning: A column-vector y was passed when a 1d array was expected. Please change the shape of y to (n_samples,), for example using ravel().\n",
      "  estimator.fit(X_train, y_train, **fit_params)\n"
     ]
    },
    {
     "name": "stdout",
     "output_type": "stream",
     "text": [
      "[CV 3/3; 63/180] END bootstrap=True, criterion=entropy, max_depth=8, max_features=auto, min_samples_leaf=1, min_samples_split=2, n_estimators=200;, score=0.513 total time=   2.5s\n",
      "[CV 1/3; 64/180] START bootstrap=True, criterion=entropy, max_depth=8, max_features=auto, min_samples_leaf=1, min_samples_split=2, n_estimators=300\n"
     ]
    },
    {
     "name": "stderr",
     "output_type": "stream",
     "text": [
      "d:\\googledrive\\wirelessmotionintelligence\\2022-knu-wmi\\venv\\lib\\site-packages\\sklearn\\model_selection\\_validation.py:680: DataConversionWarning: A column-vector y was passed when a 1d array was expected. Please change the shape of y to (n_samples,), for example using ravel().\n",
      "  estimator.fit(X_train, y_train, **fit_params)\n"
     ]
    },
    {
     "name": "stdout",
     "output_type": "stream",
     "text": [
      "[CV 1/3; 64/180] END bootstrap=True, criterion=entropy, max_depth=8, max_features=auto, min_samples_leaf=1, min_samples_split=2, n_estimators=300;, score=0.525 total time=   3.5s\n",
      "[CV 2/3; 64/180] START bootstrap=True, criterion=entropy, max_depth=8, max_features=auto, min_samples_leaf=1, min_samples_split=2, n_estimators=300\n"
     ]
    },
    {
     "name": "stderr",
     "output_type": "stream",
     "text": [
      "d:\\googledrive\\wirelessmotionintelligence\\2022-knu-wmi\\venv\\lib\\site-packages\\sklearn\\model_selection\\_validation.py:680: DataConversionWarning: A column-vector y was passed when a 1d array was expected. Please change the shape of y to (n_samples,), for example using ravel().\n",
      "  estimator.fit(X_train, y_train, **fit_params)\n"
     ]
    },
    {
     "name": "stdout",
     "output_type": "stream",
     "text": [
      "[CV 2/3; 64/180] END bootstrap=True, criterion=entropy, max_depth=8, max_features=auto, min_samples_leaf=1, min_samples_split=2, n_estimators=300;, score=0.538 total time=   3.5s\n",
      "[CV 3/3; 64/180] START bootstrap=True, criterion=entropy, max_depth=8, max_features=auto, min_samples_leaf=1, min_samples_split=2, n_estimators=300\n"
     ]
    },
    {
     "name": "stderr",
     "output_type": "stream",
     "text": [
      "d:\\googledrive\\wirelessmotionintelligence\\2022-knu-wmi\\venv\\lib\\site-packages\\sklearn\\model_selection\\_validation.py:680: DataConversionWarning: A column-vector y was passed when a 1d array was expected. Please change the shape of y to (n_samples,), for example using ravel().\n",
      "  estimator.fit(X_train, y_train, **fit_params)\n"
     ]
    },
    {
     "name": "stdout",
     "output_type": "stream",
     "text": [
      "[CV 3/3; 64/180] END bootstrap=True, criterion=entropy, max_depth=8, max_features=auto, min_samples_leaf=1, min_samples_split=2, n_estimators=300;, score=0.538 total time=   3.5s\n",
      "[CV 1/3; 65/180] START bootstrap=True, criterion=entropy, max_depth=8, max_features=auto, min_samples_leaf=1, min_samples_split=4, n_estimators=50\n"
     ]
    },
    {
     "name": "stderr",
     "output_type": "stream",
     "text": [
      "d:\\googledrive\\wirelessmotionintelligence\\2022-knu-wmi\\venv\\lib\\site-packages\\sklearn\\model_selection\\_validation.py:680: DataConversionWarning: A column-vector y was passed when a 1d array was expected. Please change the shape of y to (n_samples,), for example using ravel().\n",
      "  estimator.fit(X_train, y_train, **fit_params)\n"
     ]
    },
    {
     "name": "stdout",
     "output_type": "stream",
     "text": [
      "[CV 1/3; 65/180] END bootstrap=True, criterion=entropy, max_depth=8, max_features=auto, min_samples_leaf=1, min_samples_split=4, n_estimators=50;, score=0.600 total time=   1.0s\n",
      "[CV 2/3; 65/180] START bootstrap=True, criterion=entropy, max_depth=8, max_features=auto, min_samples_leaf=1, min_samples_split=4, n_estimators=50\n"
     ]
    },
    {
     "name": "stderr",
     "output_type": "stream",
     "text": [
      "d:\\googledrive\\wirelessmotionintelligence\\2022-knu-wmi\\venv\\lib\\site-packages\\sklearn\\model_selection\\_validation.py:680: DataConversionWarning: A column-vector y was passed when a 1d array was expected. Please change the shape of y to (n_samples,), for example using ravel().\n",
      "  estimator.fit(X_train, y_train, **fit_params)\n"
     ]
    },
    {
     "name": "stdout",
     "output_type": "stream",
     "text": [
      "[CV 2/3; 65/180] END bootstrap=True, criterion=entropy, max_depth=8, max_features=auto, min_samples_leaf=1, min_samples_split=4, n_estimators=50;, score=0.564 total time=   1.1s\n",
      "[CV 3/3; 65/180] START bootstrap=True, criterion=entropy, max_depth=8, max_features=auto, min_samples_leaf=1, min_samples_split=4, n_estimators=50\n"
     ]
    },
    {
     "name": "stderr",
     "output_type": "stream",
     "text": [
      "d:\\googledrive\\wirelessmotionintelligence\\2022-knu-wmi\\venv\\lib\\site-packages\\sklearn\\model_selection\\_validation.py:680: DataConversionWarning: A column-vector y was passed when a 1d array was expected. Please change the shape of y to (n_samples,), for example using ravel().\n",
      "  estimator.fit(X_train, y_train, **fit_params)\n"
     ]
    },
    {
     "name": "stdout",
     "output_type": "stream",
     "text": [
      "[CV 3/3; 65/180] END bootstrap=True, criterion=entropy, max_depth=8, max_features=auto, min_samples_leaf=1, min_samples_split=4, n_estimators=50;, score=0.513 total time=   1.1s\n",
      "[CV 1/3; 66/180] START bootstrap=True, criterion=entropy, max_depth=8, max_features=auto, min_samples_leaf=1, min_samples_split=4, n_estimators=100\n"
     ]
    },
    {
     "name": "stderr",
     "output_type": "stream",
     "text": [
      "d:\\googledrive\\wirelessmotionintelligence\\2022-knu-wmi\\venv\\lib\\site-packages\\sklearn\\model_selection\\_validation.py:680: DataConversionWarning: A column-vector y was passed when a 1d array was expected. Please change the shape of y to (n_samples,), for example using ravel().\n",
      "  estimator.fit(X_train, y_train, **fit_params)\n"
     ]
    },
    {
     "name": "stdout",
     "output_type": "stream",
     "text": [
      "[CV 1/3; 66/180] END bootstrap=True, criterion=entropy, max_depth=8, max_features=auto, min_samples_leaf=1, min_samples_split=4, n_estimators=100;, score=0.550 total time=   1.6s\n",
      "[CV 2/3; 66/180] START bootstrap=True, criterion=entropy, max_depth=8, max_features=auto, min_samples_leaf=1, min_samples_split=4, n_estimators=100\n"
     ]
    },
    {
     "name": "stderr",
     "output_type": "stream",
     "text": [
      "d:\\googledrive\\wirelessmotionintelligence\\2022-knu-wmi\\venv\\lib\\site-packages\\sklearn\\model_selection\\_validation.py:680: DataConversionWarning: A column-vector y was passed when a 1d array was expected. Please change the shape of y to (n_samples,), for example using ravel().\n",
      "  estimator.fit(X_train, y_train, **fit_params)\n"
     ]
    },
    {
     "name": "stdout",
     "output_type": "stream",
     "text": [
      "[CV 2/3; 66/180] END bootstrap=True, criterion=entropy, max_depth=8, max_features=auto, min_samples_leaf=1, min_samples_split=4, n_estimators=100;, score=0.641 total time=   1.7s\n",
      "[CV 3/3; 66/180] START bootstrap=True, criterion=entropy, max_depth=8, max_features=auto, min_samples_leaf=1, min_samples_split=4, n_estimators=100\n"
     ]
    },
    {
     "name": "stderr",
     "output_type": "stream",
     "text": [
      "d:\\googledrive\\wirelessmotionintelligence\\2022-knu-wmi\\venv\\lib\\site-packages\\sklearn\\model_selection\\_validation.py:680: DataConversionWarning: A column-vector y was passed when a 1d array was expected. Please change the shape of y to (n_samples,), for example using ravel().\n",
      "  estimator.fit(X_train, y_train, **fit_params)\n"
     ]
    },
    {
     "name": "stdout",
     "output_type": "stream",
     "text": [
      "[CV 3/3; 66/180] END bootstrap=True, criterion=entropy, max_depth=8, max_features=auto, min_samples_leaf=1, min_samples_split=4, n_estimators=100;, score=0.487 total time=   2.0s\n",
      "[CV 1/3; 67/180] START bootstrap=True, criterion=entropy, max_depth=8, max_features=auto, min_samples_leaf=1, min_samples_split=4, n_estimators=200\n"
     ]
    },
    {
     "name": "stderr",
     "output_type": "stream",
     "text": [
      "d:\\googledrive\\wirelessmotionintelligence\\2022-knu-wmi\\venv\\lib\\site-packages\\sklearn\\model_selection\\_validation.py:680: DataConversionWarning: A column-vector y was passed when a 1d array was expected. Please change the shape of y to (n_samples,), for example using ravel().\n",
      "  estimator.fit(X_train, y_train, **fit_params)\n"
     ]
    },
    {
     "name": "stdout",
     "output_type": "stream",
     "text": [
      "[CV 1/3; 67/180] END bootstrap=True, criterion=entropy, max_depth=8, max_features=auto, min_samples_leaf=1, min_samples_split=4, n_estimators=200;, score=0.500 total time=   3.3s\n",
      "[CV 2/3; 67/180] START bootstrap=True, criterion=entropy, max_depth=8, max_features=auto, min_samples_leaf=1, min_samples_split=4, n_estimators=200\n"
     ]
    },
    {
     "name": "stderr",
     "output_type": "stream",
     "text": [
      "d:\\googledrive\\wirelessmotionintelligence\\2022-knu-wmi\\venv\\lib\\site-packages\\sklearn\\model_selection\\_validation.py:680: DataConversionWarning: A column-vector y was passed when a 1d array was expected. Please change the shape of y to (n_samples,), for example using ravel().\n",
      "  estimator.fit(X_train, y_train, **fit_params)\n"
     ]
    },
    {
     "name": "stdout",
     "output_type": "stream",
     "text": [
      "[CV 2/3; 67/180] END bootstrap=True, criterion=entropy, max_depth=8, max_features=auto, min_samples_leaf=1, min_samples_split=4, n_estimators=200;, score=0.564 total time=   2.2s\n",
      "[CV 3/3; 67/180] START bootstrap=True, criterion=entropy, max_depth=8, max_features=auto, min_samples_leaf=1, min_samples_split=4, n_estimators=200\n"
     ]
    },
    {
     "name": "stderr",
     "output_type": "stream",
     "text": [
      "d:\\googledrive\\wirelessmotionintelligence\\2022-knu-wmi\\venv\\lib\\site-packages\\sklearn\\model_selection\\_validation.py:680: DataConversionWarning: A column-vector y was passed when a 1d array was expected. Please change the shape of y to (n_samples,), for example using ravel().\n",
      "  estimator.fit(X_train, y_train, **fit_params)\n"
     ]
    },
    {
     "name": "stdout",
     "output_type": "stream",
     "text": [
      "[CV 3/3; 67/180] END bootstrap=True, criterion=entropy, max_depth=8, max_features=auto, min_samples_leaf=1, min_samples_split=4, n_estimators=200;, score=0.538 total time=   2.3s\n",
      "[CV 1/3; 68/180] START bootstrap=True, criterion=entropy, max_depth=8, max_features=auto, min_samples_leaf=1, min_samples_split=4, n_estimators=300\n"
     ]
    },
    {
     "name": "stderr",
     "output_type": "stream",
     "text": [
      "d:\\googledrive\\wirelessmotionintelligence\\2022-knu-wmi\\venv\\lib\\site-packages\\sklearn\\model_selection\\_validation.py:680: DataConversionWarning: A column-vector y was passed when a 1d array was expected. Please change the shape of y to (n_samples,), for example using ravel().\n",
      "  estimator.fit(X_train, y_train, **fit_params)\n"
     ]
    },
    {
     "name": "stdout",
     "output_type": "stream",
     "text": [
      "[CV 1/3; 68/180] END bootstrap=True, criterion=entropy, max_depth=8, max_features=auto, min_samples_leaf=1, min_samples_split=4, n_estimators=300;, score=0.500 total time=   3.5s\n",
      "[CV 2/3; 68/180] START bootstrap=True, criterion=entropy, max_depth=8, max_features=auto, min_samples_leaf=1, min_samples_split=4, n_estimators=300\n"
     ]
    },
    {
     "name": "stderr",
     "output_type": "stream",
     "text": [
      "d:\\googledrive\\wirelessmotionintelligence\\2022-knu-wmi\\venv\\lib\\site-packages\\sklearn\\model_selection\\_validation.py:680: DataConversionWarning: A column-vector y was passed when a 1d array was expected. Please change the shape of y to (n_samples,), for example using ravel().\n",
      "  estimator.fit(X_train, y_train, **fit_params)\n"
     ]
    },
    {
     "name": "stdout",
     "output_type": "stream",
     "text": [
      "[CV 2/3; 68/180] END bootstrap=True, criterion=entropy, max_depth=8, max_features=auto, min_samples_leaf=1, min_samples_split=4, n_estimators=300;, score=0.590 total time=   3.1s\n",
      "[CV 3/3; 68/180] START bootstrap=True, criterion=entropy, max_depth=8, max_features=auto, min_samples_leaf=1, min_samples_split=4, n_estimators=300\n"
     ]
    },
    {
     "name": "stderr",
     "output_type": "stream",
     "text": [
      "d:\\googledrive\\wirelessmotionintelligence\\2022-knu-wmi\\venv\\lib\\site-packages\\sklearn\\model_selection\\_validation.py:680: DataConversionWarning: A column-vector y was passed when a 1d array was expected. Please change the shape of y to (n_samples,), for example using ravel().\n",
      "  estimator.fit(X_train, y_train, **fit_params)\n"
     ]
    },
    {
     "name": "stdout",
     "output_type": "stream",
     "text": [
      "[CV 3/3; 68/180] END bootstrap=True, criterion=entropy, max_depth=8, max_features=auto, min_samples_leaf=1, min_samples_split=4, n_estimators=300;, score=0.538 total time=   3.1s\n",
      "[CV 1/3; 69/180] START bootstrap=True, criterion=entropy, max_depth=8, max_features=auto, min_samples_leaf=1, min_samples_split=10, n_estimators=50\n"
     ]
    },
    {
     "name": "stderr",
     "output_type": "stream",
     "text": [
      "d:\\googledrive\\wirelessmotionintelligence\\2022-knu-wmi\\venv\\lib\\site-packages\\sklearn\\model_selection\\_validation.py:680: DataConversionWarning: A column-vector y was passed when a 1d array was expected. Please change the shape of y to (n_samples,), for example using ravel().\n",
      "  estimator.fit(X_train, y_train, **fit_params)\n"
     ]
    },
    {
     "name": "stdout",
     "output_type": "stream",
     "text": [
      "[CV 1/3; 69/180] END bootstrap=True, criterion=entropy, max_depth=8, max_features=auto, min_samples_leaf=1, min_samples_split=10, n_estimators=50;, score=0.550 total time=   0.9s\n",
      "[CV 2/3; 69/180] START bootstrap=True, criterion=entropy, max_depth=8, max_features=auto, min_samples_leaf=1, min_samples_split=10, n_estimators=50\n"
     ]
    },
    {
     "name": "stderr",
     "output_type": "stream",
     "text": [
      "d:\\googledrive\\wirelessmotionintelligence\\2022-knu-wmi\\venv\\lib\\site-packages\\sklearn\\model_selection\\_validation.py:680: DataConversionWarning: A column-vector y was passed when a 1d array was expected. Please change the shape of y to (n_samples,), for example using ravel().\n",
      "  estimator.fit(X_train, y_train, **fit_params)\n"
     ]
    },
    {
     "name": "stdout",
     "output_type": "stream",
     "text": [
      "[CV 2/3; 69/180] END bootstrap=True, criterion=entropy, max_depth=8, max_features=auto, min_samples_leaf=1, min_samples_split=10, n_estimators=50;, score=0.590 total time=   1.0s\n",
      "[CV 3/3; 69/180] START bootstrap=True, criterion=entropy, max_depth=8, max_features=auto, min_samples_leaf=1, min_samples_split=10, n_estimators=50\n"
     ]
    },
    {
     "name": "stderr",
     "output_type": "stream",
     "text": [
      "d:\\googledrive\\wirelessmotionintelligence\\2022-knu-wmi\\venv\\lib\\site-packages\\sklearn\\model_selection\\_validation.py:680: DataConversionWarning: A column-vector y was passed when a 1d array was expected. Please change the shape of y to (n_samples,), for example using ravel().\n",
      "  estimator.fit(X_train, y_train, **fit_params)\n"
     ]
    },
    {
     "name": "stdout",
     "output_type": "stream",
     "text": [
      "[CV 3/3; 69/180] END bootstrap=True, criterion=entropy, max_depth=8, max_features=auto, min_samples_leaf=1, min_samples_split=10, n_estimators=50;, score=0.333 total time=   0.9s\n",
      "[CV 1/3; 70/180] START bootstrap=True, criterion=entropy, max_depth=8, max_features=auto, min_samples_leaf=1, min_samples_split=10, n_estimators=100\n"
     ]
    },
    {
     "name": "stderr",
     "output_type": "stream",
     "text": [
      "d:\\googledrive\\wirelessmotionintelligence\\2022-knu-wmi\\venv\\lib\\site-packages\\sklearn\\model_selection\\_validation.py:680: DataConversionWarning: A column-vector y was passed when a 1d array was expected. Please change the shape of y to (n_samples,), for example using ravel().\n",
      "  estimator.fit(X_train, y_train, **fit_params)\n"
     ]
    },
    {
     "name": "stdout",
     "output_type": "stream",
     "text": [
      "[CV 1/3; 70/180] END bootstrap=True, criterion=entropy, max_depth=8, max_features=auto, min_samples_leaf=1, min_samples_split=10, n_estimators=100;, score=0.550 total time=   1.4s\n",
      "[CV 2/3; 70/180] START bootstrap=True, criterion=entropy, max_depth=8, max_features=auto, min_samples_leaf=1, min_samples_split=10, n_estimators=100\n"
     ]
    },
    {
     "name": "stderr",
     "output_type": "stream",
     "text": [
      "d:\\googledrive\\wirelessmotionintelligence\\2022-knu-wmi\\venv\\lib\\site-packages\\sklearn\\model_selection\\_validation.py:680: DataConversionWarning: A column-vector y was passed when a 1d array was expected. Please change the shape of y to (n_samples,), for example using ravel().\n",
      "  estimator.fit(X_train, y_train, **fit_params)\n"
     ]
    },
    {
     "name": "stdout",
     "output_type": "stream",
     "text": [
      "[CV 2/3; 70/180] END bootstrap=True, criterion=entropy, max_depth=8, max_features=auto, min_samples_leaf=1, min_samples_split=10, n_estimators=100;, score=0.641 total time=   1.4s\n",
      "[CV 3/3; 70/180] START bootstrap=True, criterion=entropy, max_depth=8, max_features=auto, min_samples_leaf=1, min_samples_split=10, n_estimators=100\n"
     ]
    },
    {
     "name": "stderr",
     "output_type": "stream",
     "text": [
      "d:\\googledrive\\wirelessmotionintelligence\\2022-knu-wmi\\venv\\lib\\site-packages\\sklearn\\model_selection\\_validation.py:680: DataConversionWarning: A column-vector y was passed when a 1d array was expected. Please change the shape of y to (n_samples,), for example using ravel().\n",
      "  estimator.fit(X_train, y_train, **fit_params)\n"
     ]
    },
    {
     "name": "stdout",
     "output_type": "stream",
     "text": [
      "[CV 3/3; 70/180] END bootstrap=True, criterion=entropy, max_depth=8, max_features=auto, min_samples_leaf=1, min_samples_split=10, n_estimators=100;, score=0.462 total time=   1.4s\n",
      "[CV 1/3; 71/180] START bootstrap=True, criterion=entropy, max_depth=8, max_features=auto, min_samples_leaf=1, min_samples_split=10, n_estimators=200\n"
     ]
    },
    {
     "name": "stderr",
     "output_type": "stream",
     "text": [
      "d:\\googledrive\\wirelessmotionintelligence\\2022-knu-wmi\\venv\\lib\\site-packages\\sklearn\\model_selection\\_validation.py:680: DataConversionWarning: A column-vector y was passed when a 1d array was expected. Please change the shape of y to (n_samples,), for example using ravel().\n",
      "  estimator.fit(X_train, y_train, **fit_params)\n"
     ]
    },
    {
     "name": "stdout",
     "output_type": "stream",
     "text": [
      "[CV 1/3; 71/180] END bootstrap=True, criterion=entropy, max_depth=8, max_features=auto, min_samples_leaf=1, min_samples_split=10, n_estimators=200;, score=0.475 total time=   2.4s\n",
      "[CV 2/3; 71/180] START bootstrap=True, criterion=entropy, max_depth=8, max_features=auto, min_samples_leaf=1, min_samples_split=10, n_estimators=200\n"
     ]
    },
    {
     "name": "stderr",
     "output_type": "stream",
     "text": [
      "d:\\googledrive\\wirelessmotionintelligence\\2022-knu-wmi\\venv\\lib\\site-packages\\sklearn\\model_selection\\_validation.py:680: DataConversionWarning: A column-vector y was passed when a 1d array was expected. Please change the shape of y to (n_samples,), for example using ravel().\n",
      "  estimator.fit(X_train, y_train, **fit_params)\n"
     ]
    },
    {
     "name": "stdout",
     "output_type": "stream",
     "text": [
      "[CV 2/3; 71/180] END bootstrap=True, criterion=entropy, max_depth=8, max_features=auto, min_samples_leaf=1, min_samples_split=10, n_estimators=200;, score=0.615 total time=   2.3s\n",
      "[CV 3/3; 71/180] START bootstrap=True, criterion=entropy, max_depth=8, max_features=auto, min_samples_leaf=1, min_samples_split=10, n_estimators=200\n"
     ]
    },
    {
     "name": "stderr",
     "output_type": "stream",
     "text": [
      "d:\\googledrive\\wirelessmotionintelligence\\2022-knu-wmi\\venv\\lib\\site-packages\\sklearn\\model_selection\\_validation.py:680: DataConversionWarning: A column-vector y was passed when a 1d array was expected. Please change the shape of y to (n_samples,), for example using ravel().\n",
      "  estimator.fit(X_train, y_train, **fit_params)\n"
     ]
    },
    {
     "name": "stdout",
     "output_type": "stream",
     "text": [
      "[CV 3/3; 71/180] END bootstrap=True, criterion=entropy, max_depth=8, max_features=auto, min_samples_leaf=1, min_samples_split=10, n_estimators=200;, score=0.538 total time=   2.1s\n",
      "[CV 1/3; 72/180] START bootstrap=True, criterion=entropy, max_depth=8, max_features=auto, min_samples_leaf=1, min_samples_split=10, n_estimators=300\n"
     ]
    },
    {
     "name": "stderr",
     "output_type": "stream",
     "text": [
      "d:\\googledrive\\wirelessmotionintelligence\\2022-knu-wmi\\venv\\lib\\site-packages\\sklearn\\model_selection\\_validation.py:680: DataConversionWarning: A column-vector y was passed when a 1d array was expected. Please change the shape of y to (n_samples,), for example using ravel().\n",
      "  estimator.fit(X_train, y_train, **fit_params)\n"
     ]
    },
    {
     "name": "stdout",
     "output_type": "stream",
     "text": [
      "[CV 1/3; 72/180] END bootstrap=True, criterion=entropy, max_depth=8, max_features=auto, min_samples_leaf=1, min_samples_split=10, n_estimators=300;, score=0.500 total time=   3.1s\n",
      "[CV 2/3; 72/180] START bootstrap=True, criterion=entropy, max_depth=8, max_features=auto, min_samples_leaf=1, min_samples_split=10, n_estimators=300\n"
     ]
    },
    {
     "name": "stderr",
     "output_type": "stream",
     "text": [
      "d:\\googledrive\\wirelessmotionintelligence\\2022-knu-wmi\\venv\\lib\\site-packages\\sklearn\\model_selection\\_validation.py:680: DataConversionWarning: A column-vector y was passed when a 1d array was expected. Please change the shape of y to (n_samples,), for example using ravel().\n",
      "  estimator.fit(X_train, y_train, **fit_params)\n"
     ]
    },
    {
     "name": "stdout",
     "output_type": "stream",
     "text": [
      "[CV 2/3; 72/180] END bootstrap=True, criterion=entropy, max_depth=8, max_features=auto, min_samples_leaf=1, min_samples_split=10, n_estimators=300;, score=0.615 total time=   3.0s\n",
      "[CV 3/3; 72/180] START bootstrap=True, criterion=entropy, max_depth=8, max_features=auto, min_samples_leaf=1, min_samples_split=10, n_estimators=300\n"
     ]
    },
    {
     "name": "stderr",
     "output_type": "stream",
     "text": [
      "d:\\googledrive\\wirelessmotionintelligence\\2022-knu-wmi\\venv\\lib\\site-packages\\sklearn\\model_selection\\_validation.py:680: DataConversionWarning: A column-vector y was passed when a 1d array was expected. Please change the shape of y to (n_samples,), for example using ravel().\n",
      "  estimator.fit(X_train, y_train, **fit_params)\n"
     ]
    },
    {
     "name": "stdout",
     "output_type": "stream",
     "text": [
      "[CV 3/3; 72/180] END bootstrap=True, criterion=entropy, max_depth=8, max_features=auto, min_samples_leaf=1, min_samples_split=10, n_estimators=300;, score=0.590 total time=   3.1s\n",
      "[CV 1/3; 73/180] START bootstrap=True, criterion=entropy, max_depth=8, max_features=auto, min_samples_leaf=1, min_samples_split=12, n_estimators=50\n"
     ]
    },
    {
     "name": "stderr",
     "output_type": "stream",
     "text": [
      "d:\\googledrive\\wirelessmotionintelligence\\2022-knu-wmi\\venv\\lib\\site-packages\\sklearn\\model_selection\\_validation.py:680: DataConversionWarning: A column-vector y was passed when a 1d array was expected. Please change the shape of y to (n_samples,), for example using ravel().\n",
      "  estimator.fit(X_train, y_train, **fit_params)\n"
     ]
    },
    {
     "name": "stdout",
     "output_type": "stream",
     "text": [
      "[CV 1/3; 73/180] END bootstrap=True, criterion=entropy, max_depth=8, max_features=auto, min_samples_leaf=1, min_samples_split=12, n_estimators=50;, score=0.575 total time=   0.9s\n",
      "[CV 2/3; 73/180] START bootstrap=True, criterion=entropy, max_depth=8, max_features=auto, min_samples_leaf=1, min_samples_split=12, n_estimators=50\n"
     ]
    },
    {
     "name": "stderr",
     "output_type": "stream",
     "text": [
      "d:\\googledrive\\wirelessmotionintelligence\\2022-knu-wmi\\venv\\lib\\site-packages\\sklearn\\model_selection\\_validation.py:680: DataConversionWarning: A column-vector y was passed when a 1d array was expected. Please change the shape of y to (n_samples,), for example using ravel().\n",
      "  estimator.fit(X_train, y_train, **fit_params)\n"
     ]
    },
    {
     "name": "stdout",
     "output_type": "stream",
     "text": [
      "[CV 2/3; 73/180] END bootstrap=True, criterion=entropy, max_depth=8, max_features=auto, min_samples_leaf=1, min_samples_split=12, n_estimators=50;, score=0.564 total time=   0.9s\n",
      "[CV 3/3; 73/180] START bootstrap=True, criterion=entropy, max_depth=8, max_features=auto, min_samples_leaf=1, min_samples_split=12, n_estimators=50\n"
     ]
    },
    {
     "name": "stderr",
     "output_type": "stream",
     "text": [
      "d:\\googledrive\\wirelessmotionintelligence\\2022-knu-wmi\\venv\\lib\\site-packages\\sklearn\\model_selection\\_validation.py:680: DataConversionWarning: A column-vector y was passed when a 1d array was expected. Please change the shape of y to (n_samples,), for example using ravel().\n",
      "  estimator.fit(X_train, y_train, **fit_params)\n"
     ]
    },
    {
     "name": "stdout",
     "output_type": "stream",
     "text": [
      "[CV 3/3; 73/180] END bootstrap=True, criterion=entropy, max_depth=8, max_features=auto, min_samples_leaf=1, min_samples_split=12, n_estimators=50;, score=0.410 total time=   0.9s\n",
      "[CV 1/3; 74/180] START bootstrap=True, criterion=entropy, max_depth=8, max_features=auto, min_samples_leaf=1, min_samples_split=12, n_estimators=100\n"
     ]
    },
    {
     "name": "stderr",
     "output_type": "stream",
     "text": [
      "d:\\googledrive\\wirelessmotionintelligence\\2022-knu-wmi\\venv\\lib\\site-packages\\sklearn\\model_selection\\_validation.py:680: DataConversionWarning: A column-vector y was passed when a 1d array was expected. Please change the shape of y to (n_samples,), for example using ravel().\n",
      "  estimator.fit(X_train, y_train, **fit_params)\n"
     ]
    },
    {
     "name": "stdout",
     "output_type": "stream",
     "text": [
      "[CV 1/3; 74/180] END bootstrap=True, criterion=entropy, max_depth=8, max_features=auto, min_samples_leaf=1, min_samples_split=12, n_estimators=100;, score=0.550 total time=   1.4s\n",
      "[CV 2/3; 74/180] START bootstrap=True, criterion=entropy, max_depth=8, max_features=auto, min_samples_leaf=1, min_samples_split=12, n_estimators=100\n"
     ]
    },
    {
     "name": "stderr",
     "output_type": "stream",
     "text": [
      "d:\\googledrive\\wirelessmotionintelligence\\2022-knu-wmi\\venv\\lib\\site-packages\\sklearn\\model_selection\\_validation.py:680: DataConversionWarning: A column-vector y was passed when a 1d array was expected. Please change the shape of y to (n_samples,), for example using ravel().\n",
      "  estimator.fit(X_train, y_train, **fit_params)\n"
     ]
    },
    {
     "name": "stdout",
     "output_type": "stream",
     "text": [
      "[CV 2/3; 74/180] END bootstrap=True, criterion=entropy, max_depth=8, max_features=auto, min_samples_leaf=1, min_samples_split=12, n_estimators=100;, score=0.615 total time=   1.4s\n",
      "[CV 3/3; 74/180] START bootstrap=True, criterion=entropy, max_depth=8, max_features=auto, min_samples_leaf=1, min_samples_split=12, n_estimators=100\n"
     ]
    },
    {
     "name": "stderr",
     "output_type": "stream",
     "text": [
      "d:\\googledrive\\wirelessmotionintelligence\\2022-knu-wmi\\venv\\lib\\site-packages\\sklearn\\model_selection\\_validation.py:680: DataConversionWarning: A column-vector y was passed when a 1d array was expected. Please change the shape of y to (n_samples,), for example using ravel().\n",
      "  estimator.fit(X_train, y_train, **fit_params)\n"
     ]
    },
    {
     "name": "stdout",
     "output_type": "stream",
     "text": [
      "[CV 3/3; 74/180] END bootstrap=True, criterion=entropy, max_depth=8, max_features=auto, min_samples_leaf=1, min_samples_split=12, n_estimators=100;, score=0.487 total time=   1.4s\n",
      "[CV 1/3; 75/180] START bootstrap=True, criterion=entropy, max_depth=8, max_features=auto, min_samples_leaf=1, min_samples_split=12, n_estimators=200\n"
     ]
    },
    {
     "name": "stderr",
     "output_type": "stream",
     "text": [
      "d:\\googledrive\\wirelessmotionintelligence\\2022-knu-wmi\\venv\\lib\\site-packages\\sklearn\\model_selection\\_validation.py:680: DataConversionWarning: A column-vector y was passed when a 1d array was expected. Please change the shape of y to (n_samples,), for example using ravel().\n",
      "  estimator.fit(X_train, y_train, **fit_params)\n"
     ]
    },
    {
     "name": "stdout",
     "output_type": "stream",
     "text": [
      "[CV 1/3; 75/180] END bootstrap=True, criterion=entropy, max_depth=8, max_features=auto, min_samples_leaf=1, min_samples_split=12, n_estimators=200;, score=0.475 total time=   2.1s\n",
      "[CV 2/3; 75/180] START bootstrap=True, criterion=entropy, max_depth=8, max_features=auto, min_samples_leaf=1, min_samples_split=12, n_estimators=200\n"
     ]
    },
    {
     "name": "stderr",
     "output_type": "stream",
     "text": [
      "d:\\googledrive\\wirelessmotionintelligence\\2022-knu-wmi\\venv\\lib\\site-packages\\sklearn\\model_selection\\_validation.py:680: DataConversionWarning: A column-vector y was passed when a 1d array was expected. Please change the shape of y to (n_samples,), for example using ravel().\n",
      "  estimator.fit(X_train, y_train, **fit_params)\n"
     ]
    },
    {
     "name": "stdout",
     "output_type": "stream",
     "text": [
      "[CV 2/3; 75/180] END bootstrap=True, criterion=entropy, max_depth=8, max_features=auto, min_samples_leaf=1, min_samples_split=12, n_estimators=200;, score=0.641 total time=   2.1s\n",
      "[CV 3/3; 75/180] START bootstrap=True, criterion=entropy, max_depth=8, max_features=auto, min_samples_leaf=1, min_samples_split=12, n_estimators=200\n"
     ]
    },
    {
     "name": "stderr",
     "output_type": "stream",
     "text": [
      "d:\\googledrive\\wirelessmotionintelligence\\2022-knu-wmi\\venv\\lib\\site-packages\\sklearn\\model_selection\\_validation.py:680: DataConversionWarning: A column-vector y was passed when a 1d array was expected. Please change the shape of y to (n_samples,), for example using ravel().\n",
      "  estimator.fit(X_train, y_train, **fit_params)\n"
     ]
    },
    {
     "name": "stdout",
     "output_type": "stream",
     "text": [
      "[CV 3/3; 75/180] END bootstrap=True, criterion=entropy, max_depth=8, max_features=auto, min_samples_leaf=1, min_samples_split=12, n_estimators=200;, score=0.538 total time=   2.1s\n",
      "[CV 1/3; 76/180] START bootstrap=True, criterion=entropy, max_depth=8, max_features=auto, min_samples_leaf=1, min_samples_split=12, n_estimators=300\n"
     ]
    },
    {
     "name": "stderr",
     "output_type": "stream",
     "text": [
      "d:\\googledrive\\wirelessmotionintelligence\\2022-knu-wmi\\venv\\lib\\site-packages\\sklearn\\model_selection\\_validation.py:680: DataConversionWarning: A column-vector y was passed when a 1d array was expected. Please change the shape of y to (n_samples,), for example using ravel().\n",
      "  estimator.fit(X_train, y_train, **fit_params)\n"
     ]
    },
    {
     "name": "stdout",
     "output_type": "stream",
     "text": [
      "[CV 1/3; 76/180] END bootstrap=True, criterion=entropy, max_depth=8, max_features=auto, min_samples_leaf=1, min_samples_split=12, n_estimators=300;, score=0.500 total time=   3.0s\n",
      "[CV 2/3; 76/180] START bootstrap=True, criterion=entropy, max_depth=8, max_features=auto, min_samples_leaf=1, min_samples_split=12, n_estimators=300\n"
     ]
    },
    {
     "name": "stderr",
     "output_type": "stream",
     "text": [
      "d:\\googledrive\\wirelessmotionintelligence\\2022-knu-wmi\\venv\\lib\\site-packages\\sklearn\\model_selection\\_validation.py:680: DataConversionWarning: A column-vector y was passed when a 1d array was expected. Please change the shape of y to (n_samples,), for example using ravel().\n",
      "  estimator.fit(X_train, y_train, **fit_params)\n"
     ]
    },
    {
     "name": "stdout",
     "output_type": "stream",
     "text": [
      "[CV 2/3; 76/180] END bootstrap=True, criterion=entropy, max_depth=8, max_features=auto, min_samples_leaf=1, min_samples_split=12, n_estimators=300;, score=0.615 total time=   3.0s\n",
      "[CV 3/3; 76/180] START bootstrap=True, criterion=entropy, max_depth=8, max_features=auto, min_samples_leaf=1, min_samples_split=12, n_estimators=300\n"
     ]
    },
    {
     "name": "stderr",
     "output_type": "stream",
     "text": [
      "d:\\googledrive\\wirelessmotionintelligence\\2022-knu-wmi\\venv\\lib\\site-packages\\sklearn\\model_selection\\_validation.py:680: DataConversionWarning: A column-vector y was passed when a 1d array was expected. Please change the shape of y to (n_samples,), for example using ravel().\n",
      "  estimator.fit(X_train, y_train, **fit_params)\n"
     ]
    },
    {
     "name": "stdout",
     "output_type": "stream",
     "text": [
      "[CV 3/3; 76/180] END bootstrap=True, criterion=entropy, max_depth=8, max_features=auto, min_samples_leaf=1, min_samples_split=12, n_estimators=300;, score=0.462 total time=   3.0s\n",
      "[CV 1/3; 77/180] START bootstrap=True, criterion=entropy, max_depth=8, max_features=auto, min_samples_leaf=1, min_samples_split=16, n_estimators=50\n"
     ]
    },
    {
     "name": "stderr",
     "output_type": "stream",
     "text": [
      "d:\\googledrive\\wirelessmotionintelligence\\2022-knu-wmi\\venv\\lib\\site-packages\\sklearn\\model_selection\\_validation.py:680: DataConversionWarning: A column-vector y was passed when a 1d array was expected. Please change the shape of y to (n_samples,), for example using ravel().\n",
      "  estimator.fit(X_train, y_train, **fit_params)\n"
     ]
    },
    {
     "name": "stdout",
     "output_type": "stream",
     "text": [
      "[CV 1/3; 77/180] END bootstrap=True, criterion=entropy, max_depth=8, max_features=auto, min_samples_leaf=1, min_samples_split=16, n_estimators=50;, score=0.625 total time=   0.9s\n",
      "[CV 2/3; 77/180] START bootstrap=True, criterion=entropy, max_depth=8, max_features=auto, min_samples_leaf=1, min_samples_split=16, n_estimators=50\n"
     ]
    },
    {
     "name": "stderr",
     "output_type": "stream",
     "text": [
      "d:\\googledrive\\wirelessmotionintelligence\\2022-knu-wmi\\venv\\lib\\site-packages\\sklearn\\model_selection\\_validation.py:680: DataConversionWarning: A column-vector y was passed when a 1d array was expected. Please change the shape of y to (n_samples,), for example using ravel().\n",
      "  estimator.fit(X_train, y_train, **fit_params)\n"
     ]
    },
    {
     "name": "stdout",
     "output_type": "stream",
     "text": [
      "[CV 2/3; 77/180] END bootstrap=True, criterion=entropy, max_depth=8, max_features=auto, min_samples_leaf=1, min_samples_split=16, n_estimators=50;, score=0.564 total time=   0.9s\n",
      "[CV 3/3; 77/180] START bootstrap=True, criterion=entropy, max_depth=8, max_features=auto, min_samples_leaf=1, min_samples_split=16, n_estimators=50\n"
     ]
    },
    {
     "name": "stderr",
     "output_type": "stream",
     "text": [
      "d:\\googledrive\\wirelessmotionintelligence\\2022-knu-wmi\\venv\\lib\\site-packages\\sklearn\\model_selection\\_validation.py:680: DataConversionWarning: A column-vector y was passed when a 1d array was expected. Please change the shape of y to (n_samples,), for example using ravel().\n",
      "  estimator.fit(X_train, y_train, **fit_params)\n"
     ]
    },
    {
     "name": "stdout",
     "output_type": "stream",
     "text": [
      "[CV 3/3; 77/180] END bootstrap=True, criterion=entropy, max_depth=8, max_features=auto, min_samples_leaf=1, min_samples_split=16, n_estimators=50;, score=0.564 total time=   0.9s\n",
      "[CV 1/3; 78/180] START bootstrap=True, criterion=entropy, max_depth=8, max_features=auto, min_samples_leaf=1, min_samples_split=16, n_estimators=100\n"
     ]
    },
    {
     "name": "stderr",
     "output_type": "stream",
     "text": [
      "d:\\googledrive\\wirelessmotionintelligence\\2022-knu-wmi\\venv\\lib\\site-packages\\sklearn\\model_selection\\_validation.py:680: DataConversionWarning: A column-vector y was passed when a 1d array was expected. Please change the shape of y to (n_samples,), for example using ravel().\n",
      "  estimator.fit(X_train, y_train, **fit_params)\n"
     ]
    },
    {
     "name": "stdout",
     "output_type": "stream",
     "text": [
      "[CV 1/3; 78/180] END bootstrap=True, criterion=entropy, max_depth=8, max_features=auto, min_samples_leaf=1, min_samples_split=16, n_estimators=100;, score=0.550 total time=   1.4s\n",
      "[CV 2/3; 78/180] START bootstrap=True, criterion=entropy, max_depth=8, max_features=auto, min_samples_leaf=1, min_samples_split=16, n_estimators=100\n"
     ]
    },
    {
     "name": "stderr",
     "output_type": "stream",
     "text": [
      "d:\\googledrive\\wirelessmotionintelligence\\2022-knu-wmi\\venv\\lib\\site-packages\\sklearn\\model_selection\\_validation.py:680: DataConversionWarning: A column-vector y was passed when a 1d array was expected. Please change the shape of y to (n_samples,), for example using ravel().\n",
      "  estimator.fit(X_train, y_train, **fit_params)\n"
     ]
    },
    {
     "name": "stdout",
     "output_type": "stream",
     "text": [
      "[CV 2/3; 78/180] END bootstrap=True, criterion=entropy, max_depth=8, max_features=auto, min_samples_leaf=1, min_samples_split=16, n_estimators=100;, score=0.590 total time=   1.4s\n",
      "[CV 3/3; 78/180] START bootstrap=True, criterion=entropy, max_depth=8, max_features=auto, min_samples_leaf=1, min_samples_split=16, n_estimators=100\n"
     ]
    },
    {
     "name": "stderr",
     "output_type": "stream",
     "text": [
      "d:\\googledrive\\wirelessmotionintelligence\\2022-knu-wmi\\venv\\lib\\site-packages\\sklearn\\model_selection\\_validation.py:680: DataConversionWarning: A column-vector y was passed when a 1d array was expected. Please change the shape of y to (n_samples,), for example using ravel().\n",
      "  estimator.fit(X_train, y_train, **fit_params)\n"
     ]
    },
    {
     "name": "stdout",
     "output_type": "stream",
     "text": [
      "[CV 3/3; 78/180] END bootstrap=True, criterion=entropy, max_depth=8, max_features=auto, min_samples_leaf=1, min_samples_split=16, n_estimators=100;, score=0.513 total time=   1.4s\n",
      "[CV 1/3; 79/180] START bootstrap=True, criterion=entropy, max_depth=8, max_features=auto, min_samples_leaf=1, min_samples_split=16, n_estimators=200\n"
     ]
    },
    {
     "name": "stderr",
     "output_type": "stream",
     "text": [
      "d:\\googledrive\\wirelessmotionintelligence\\2022-knu-wmi\\venv\\lib\\site-packages\\sklearn\\model_selection\\_validation.py:680: DataConversionWarning: A column-vector y was passed when a 1d array was expected. Please change the shape of y to (n_samples,), for example using ravel().\n",
      "  estimator.fit(X_train, y_train, **fit_params)\n"
     ]
    },
    {
     "name": "stdout",
     "output_type": "stream",
     "text": [
      "[CV 1/3; 79/180] END bootstrap=True, criterion=entropy, max_depth=8, max_features=auto, min_samples_leaf=1, min_samples_split=16, n_estimators=200;, score=0.525 total time=   2.1s\n",
      "[CV 2/3; 79/180] START bootstrap=True, criterion=entropy, max_depth=8, max_features=auto, min_samples_leaf=1, min_samples_split=16, n_estimators=200\n"
     ]
    },
    {
     "name": "stderr",
     "output_type": "stream",
     "text": [
      "d:\\googledrive\\wirelessmotionintelligence\\2022-knu-wmi\\venv\\lib\\site-packages\\sklearn\\model_selection\\_validation.py:680: DataConversionWarning: A column-vector y was passed when a 1d array was expected. Please change the shape of y to (n_samples,), for example using ravel().\n",
      "  estimator.fit(X_train, y_train, **fit_params)\n"
     ]
    },
    {
     "name": "stdout",
     "output_type": "stream",
     "text": [
      "[CV 2/3; 79/180] END bootstrap=True, criterion=entropy, max_depth=8, max_features=auto, min_samples_leaf=1, min_samples_split=16, n_estimators=200;, score=0.590 total time=   2.2s\n",
      "[CV 3/3; 79/180] START bootstrap=True, criterion=entropy, max_depth=8, max_features=auto, min_samples_leaf=1, min_samples_split=16, n_estimators=200\n"
     ]
    },
    {
     "name": "stderr",
     "output_type": "stream",
     "text": [
      "d:\\googledrive\\wirelessmotionintelligence\\2022-knu-wmi\\venv\\lib\\site-packages\\sklearn\\model_selection\\_validation.py:680: DataConversionWarning: A column-vector y was passed when a 1d array was expected. Please change the shape of y to (n_samples,), for example using ravel().\n",
      "  estimator.fit(X_train, y_train, **fit_params)\n"
     ]
    },
    {
     "name": "stdout",
     "output_type": "stream",
     "text": [
      "[CV 3/3; 79/180] END bootstrap=True, criterion=entropy, max_depth=8, max_features=auto, min_samples_leaf=1, min_samples_split=16, n_estimators=200;, score=0.564 total time=   2.1s\n",
      "[CV 1/3; 80/180] START bootstrap=True, criterion=entropy, max_depth=8, max_features=auto, min_samples_leaf=1, min_samples_split=16, n_estimators=300\n"
     ]
    },
    {
     "name": "stderr",
     "output_type": "stream",
     "text": [
      "d:\\googledrive\\wirelessmotionintelligence\\2022-knu-wmi\\venv\\lib\\site-packages\\sklearn\\model_selection\\_validation.py:680: DataConversionWarning: A column-vector y was passed when a 1d array was expected. Please change the shape of y to (n_samples,), for example using ravel().\n",
      "  estimator.fit(X_train, y_train, **fit_params)\n"
     ]
    },
    {
     "name": "stdout",
     "output_type": "stream",
     "text": [
      "[CV 1/3; 80/180] END bootstrap=True, criterion=entropy, max_depth=8, max_features=auto, min_samples_leaf=1, min_samples_split=16, n_estimators=300;, score=0.525 total time=   3.0s\n",
      "[CV 2/3; 80/180] START bootstrap=True, criterion=entropy, max_depth=8, max_features=auto, min_samples_leaf=1, min_samples_split=16, n_estimators=300\n"
     ]
    },
    {
     "name": "stderr",
     "output_type": "stream",
     "text": [
      "d:\\googledrive\\wirelessmotionintelligence\\2022-knu-wmi\\venv\\lib\\site-packages\\sklearn\\model_selection\\_validation.py:680: DataConversionWarning: A column-vector y was passed when a 1d array was expected. Please change the shape of y to (n_samples,), for example using ravel().\n",
      "  estimator.fit(X_train, y_train, **fit_params)\n"
     ]
    },
    {
     "name": "stdout",
     "output_type": "stream",
     "text": [
      "[CV 2/3; 80/180] END bootstrap=True, criterion=entropy, max_depth=8, max_features=auto, min_samples_leaf=1, min_samples_split=16, n_estimators=300;, score=0.615 total time=   3.0s\n",
      "[CV 3/3; 80/180] START bootstrap=True, criterion=entropy, max_depth=8, max_features=auto, min_samples_leaf=1, min_samples_split=16, n_estimators=300\n"
     ]
    },
    {
     "name": "stderr",
     "output_type": "stream",
     "text": [
      "d:\\googledrive\\wirelessmotionintelligence\\2022-knu-wmi\\venv\\lib\\site-packages\\sklearn\\model_selection\\_validation.py:680: DataConversionWarning: A column-vector y was passed when a 1d array was expected. Please change the shape of y to (n_samples,), for example using ravel().\n",
      "  estimator.fit(X_train, y_train, **fit_params)\n"
     ]
    },
    {
     "name": "stdout",
     "output_type": "stream",
     "text": [
      "[CV 3/3; 80/180] END bootstrap=True, criterion=entropy, max_depth=8, max_features=auto, min_samples_leaf=1, min_samples_split=16, n_estimators=300;, score=0.513 total time=   3.0s\n",
      "[CV 1/3; 81/180] START bootstrap=True, criterion=entropy, max_depth=8, max_features=auto, min_samples_leaf=5, min_samples_split=2, n_estimators=50\n"
     ]
    },
    {
     "name": "stderr",
     "output_type": "stream",
     "text": [
      "d:\\googledrive\\wirelessmotionintelligence\\2022-knu-wmi\\venv\\lib\\site-packages\\sklearn\\model_selection\\_validation.py:680: DataConversionWarning: A column-vector y was passed when a 1d array was expected. Please change the shape of y to (n_samples,), for example using ravel().\n",
      "  estimator.fit(X_train, y_train, **fit_params)\n"
     ]
    },
    {
     "name": "stdout",
     "output_type": "stream",
     "text": [
      "[CV 1/3; 81/180] END bootstrap=True, criterion=entropy, max_depth=8, max_features=auto, min_samples_leaf=5, min_samples_split=2, n_estimators=50;, score=0.600 total time=   0.9s\n",
      "[CV 2/3; 81/180] START bootstrap=True, criterion=entropy, max_depth=8, max_features=auto, min_samples_leaf=5, min_samples_split=2, n_estimators=50\n"
     ]
    },
    {
     "name": "stderr",
     "output_type": "stream",
     "text": [
      "d:\\googledrive\\wirelessmotionintelligence\\2022-knu-wmi\\venv\\lib\\site-packages\\sklearn\\model_selection\\_validation.py:680: DataConversionWarning: A column-vector y was passed when a 1d array was expected. Please change the shape of y to (n_samples,), for example using ravel().\n",
      "  estimator.fit(X_train, y_train, **fit_params)\n"
     ]
    },
    {
     "name": "stdout",
     "output_type": "stream",
     "text": [
      "[CV 2/3; 81/180] END bootstrap=True, criterion=entropy, max_depth=8, max_features=auto, min_samples_leaf=5, min_samples_split=2, n_estimators=50;, score=0.513 total time=   0.9s\n",
      "[CV 3/3; 81/180] START bootstrap=True, criterion=entropy, max_depth=8, max_features=auto, min_samples_leaf=5, min_samples_split=2, n_estimators=50\n"
     ]
    },
    {
     "name": "stderr",
     "output_type": "stream",
     "text": [
      "d:\\googledrive\\wirelessmotionintelligence\\2022-knu-wmi\\venv\\lib\\site-packages\\sklearn\\model_selection\\_validation.py:680: DataConversionWarning: A column-vector y was passed when a 1d array was expected. Please change the shape of y to (n_samples,), for example using ravel().\n",
      "  estimator.fit(X_train, y_train, **fit_params)\n"
     ]
    },
    {
     "name": "stdout",
     "output_type": "stream",
     "text": [
      "[CV 3/3; 81/180] END bootstrap=True, criterion=entropy, max_depth=8, max_features=auto, min_samples_leaf=5, min_samples_split=2, n_estimators=50;, score=0.436 total time=   0.9s\n",
      "[CV 1/3; 82/180] START bootstrap=True, criterion=entropy, max_depth=8, max_features=auto, min_samples_leaf=5, min_samples_split=2, n_estimators=100\n"
     ]
    },
    {
     "name": "stderr",
     "output_type": "stream",
     "text": [
      "d:\\googledrive\\wirelessmotionintelligence\\2022-knu-wmi\\venv\\lib\\site-packages\\sklearn\\model_selection\\_validation.py:680: DataConversionWarning: A column-vector y was passed when a 1d array was expected. Please change the shape of y to (n_samples,), for example using ravel().\n",
      "  estimator.fit(X_train, y_train, **fit_params)\n"
     ]
    },
    {
     "name": "stdout",
     "output_type": "stream",
     "text": [
      "[CV 1/3; 82/180] END bootstrap=True, criterion=entropy, max_depth=8, max_features=auto, min_samples_leaf=5, min_samples_split=2, n_estimators=100;, score=0.525 total time=   1.4s\n",
      "[CV 2/3; 82/180] START bootstrap=True, criterion=entropy, max_depth=8, max_features=auto, min_samples_leaf=5, min_samples_split=2, n_estimators=100\n"
     ]
    },
    {
     "name": "stderr",
     "output_type": "stream",
     "text": [
      "d:\\googledrive\\wirelessmotionintelligence\\2022-knu-wmi\\venv\\lib\\site-packages\\sklearn\\model_selection\\_validation.py:680: DataConversionWarning: A column-vector y was passed when a 1d array was expected. Please change the shape of y to (n_samples,), for example using ravel().\n",
      "  estimator.fit(X_train, y_train, **fit_params)\n"
     ]
    },
    {
     "name": "stdout",
     "output_type": "stream",
     "text": [
      "[CV 2/3; 82/180] END bootstrap=True, criterion=entropy, max_depth=8, max_features=auto, min_samples_leaf=5, min_samples_split=2, n_estimators=100;, score=0.615 total time=   1.4s\n",
      "[CV 3/3; 82/180] START bootstrap=True, criterion=entropy, max_depth=8, max_features=auto, min_samples_leaf=5, min_samples_split=2, n_estimators=100\n"
     ]
    },
    {
     "name": "stderr",
     "output_type": "stream",
     "text": [
      "d:\\googledrive\\wirelessmotionintelligence\\2022-knu-wmi\\venv\\lib\\site-packages\\sklearn\\model_selection\\_validation.py:680: DataConversionWarning: A column-vector y was passed when a 1d array was expected. Please change the shape of y to (n_samples,), for example using ravel().\n",
      "  estimator.fit(X_train, y_train, **fit_params)\n"
     ]
    },
    {
     "name": "stdout",
     "output_type": "stream",
     "text": [
      "[CV 3/3; 82/180] END bootstrap=True, criterion=entropy, max_depth=8, max_features=auto, min_samples_leaf=5, min_samples_split=2, n_estimators=100;, score=0.487 total time=   1.4s\n",
      "[CV 1/3; 83/180] START bootstrap=True, criterion=entropy, max_depth=8, max_features=auto, min_samples_leaf=5, min_samples_split=2, n_estimators=200\n"
     ]
    },
    {
     "name": "stderr",
     "output_type": "stream",
     "text": [
      "d:\\googledrive\\wirelessmotionintelligence\\2022-knu-wmi\\venv\\lib\\site-packages\\sklearn\\model_selection\\_validation.py:680: DataConversionWarning: A column-vector y was passed when a 1d array was expected. Please change the shape of y to (n_samples,), for example using ravel().\n",
      "  estimator.fit(X_train, y_train, **fit_params)\n"
     ]
    },
    {
     "name": "stdout",
     "output_type": "stream",
     "text": [
      "[CV 1/3; 83/180] END bootstrap=True, criterion=entropy, max_depth=8, max_features=auto, min_samples_leaf=5, min_samples_split=2, n_estimators=200;, score=0.500 total time=   2.1s\n",
      "[CV 2/3; 83/180] START bootstrap=True, criterion=entropy, max_depth=8, max_features=auto, min_samples_leaf=5, min_samples_split=2, n_estimators=200\n"
     ]
    },
    {
     "name": "stderr",
     "output_type": "stream",
     "text": [
      "d:\\googledrive\\wirelessmotionintelligence\\2022-knu-wmi\\venv\\lib\\site-packages\\sklearn\\model_selection\\_validation.py:680: DataConversionWarning: A column-vector y was passed when a 1d array was expected. Please change the shape of y to (n_samples,), for example using ravel().\n",
      "  estimator.fit(X_train, y_train, **fit_params)\n"
     ]
    },
    {
     "name": "stdout",
     "output_type": "stream",
     "text": [
      "[CV 2/3; 83/180] END bootstrap=True, criterion=entropy, max_depth=8, max_features=auto, min_samples_leaf=5, min_samples_split=2, n_estimators=200;, score=0.615 total time=   2.2s\n",
      "[CV 3/3; 83/180] START bootstrap=True, criterion=entropy, max_depth=8, max_features=auto, min_samples_leaf=5, min_samples_split=2, n_estimators=200\n"
     ]
    },
    {
     "name": "stderr",
     "output_type": "stream",
     "text": [
      "d:\\googledrive\\wirelessmotionintelligence\\2022-knu-wmi\\venv\\lib\\site-packages\\sklearn\\model_selection\\_validation.py:680: DataConversionWarning: A column-vector y was passed when a 1d array was expected. Please change the shape of y to (n_samples,), for example using ravel().\n",
      "  estimator.fit(X_train, y_train, **fit_params)\n"
     ]
    },
    {
     "name": "stdout",
     "output_type": "stream",
     "text": [
      "[CV 3/3; 83/180] END bootstrap=True, criterion=entropy, max_depth=8, max_features=auto, min_samples_leaf=5, min_samples_split=2, n_estimators=200;, score=0.513 total time=   2.4s\n",
      "[CV 1/3; 84/180] START bootstrap=True, criterion=entropy, max_depth=8, max_features=auto, min_samples_leaf=5, min_samples_split=2, n_estimators=300\n"
     ]
    },
    {
     "name": "stderr",
     "output_type": "stream",
     "text": [
      "d:\\googledrive\\wirelessmotionintelligence\\2022-knu-wmi\\venv\\lib\\site-packages\\sklearn\\model_selection\\_validation.py:680: DataConversionWarning: A column-vector y was passed when a 1d array was expected. Please change the shape of y to (n_samples,), for example using ravel().\n",
      "  estimator.fit(X_train, y_train, **fit_params)\n"
     ]
    },
    {
     "name": "stdout",
     "output_type": "stream",
     "text": [
      "[CV 1/3; 84/180] END bootstrap=True, criterion=entropy, max_depth=8, max_features=auto, min_samples_leaf=5, min_samples_split=2, n_estimators=300;, score=0.550 total time=   3.4s\n",
      "[CV 2/3; 84/180] START bootstrap=True, criterion=entropy, max_depth=8, max_features=auto, min_samples_leaf=5, min_samples_split=2, n_estimators=300\n"
     ]
    },
    {
     "name": "stderr",
     "output_type": "stream",
     "text": [
      "d:\\googledrive\\wirelessmotionintelligence\\2022-knu-wmi\\venv\\lib\\site-packages\\sklearn\\model_selection\\_validation.py:680: DataConversionWarning: A column-vector y was passed when a 1d array was expected. Please change the shape of y to (n_samples,), for example using ravel().\n",
      "  estimator.fit(X_train, y_train, **fit_params)\n"
     ]
    },
    {
     "name": "stdout",
     "output_type": "stream",
     "text": [
      "[CV 2/3; 84/180] END bootstrap=True, criterion=entropy, max_depth=8, max_features=auto, min_samples_leaf=5, min_samples_split=2, n_estimators=300;, score=0.641 total time=   3.4s\n",
      "[CV 3/3; 84/180] START bootstrap=True, criterion=entropy, max_depth=8, max_features=auto, min_samples_leaf=5, min_samples_split=2, n_estimators=300\n"
     ]
    },
    {
     "name": "stderr",
     "output_type": "stream",
     "text": [
      "d:\\googledrive\\wirelessmotionintelligence\\2022-knu-wmi\\venv\\lib\\site-packages\\sklearn\\model_selection\\_validation.py:680: DataConversionWarning: A column-vector y was passed when a 1d array was expected. Please change the shape of y to (n_samples,), for example using ravel().\n",
      "  estimator.fit(X_train, y_train, **fit_params)\n"
     ]
    },
    {
     "name": "stdout",
     "output_type": "stream",
     "text": [
      "[CV 3/3; 84/180] END bootstrap=True, criterion=entropy, max_depth=8, max_features=auto, min_samples_leaf=5, min_samples_split=2, n_estimators=300;, score=0.462 total time=   3.3s\n",
      "[CV 1/3; 85/180] START bootstrap=True, criterion=entropy, max_depth=8, max_features=auto, min_samples_leaf=5, min_samples_split=4, n_estimators=50\n"
     ]
    },
    {
     "name": "stderr",
     "output_type": "stream",
     "text": [
      "d:\\googledrive\\wirelessmotionintelligence\\2022-knu-wmi\\venv\\lib\\site-packages\\sklearn\\model_selection\\_validation.py:680: DataConversionWarning: A column-vector y was passed when a 1d array was expected. Please change the shape of y to (n_samples,), for example using ravel().\n",
      "  estimator.fit(X_train, y_train, **fit_params)\n"
     ]
    },
    {
     "name": "stdout",
     "output_type": "stream",
     "text": [
      "[CV 1/3; 85/180] END bootstrap=True, criterion=entropy, max_depth=8, max_features=auto, min_samples_leaf=5, min_samples_split=4, n_estimators=50;, score=0.600 total time=   1.0s\n",
      "[CV 2/3; 85/180] START bootstrap=True, criterion=entropy, max_depth=8, max_features=auto, min_samples_leaf=5, min_samples_split=4, n_estimators=50\n"
     ]
    },
    {
     "name": "stderr",
     "output_type": "stream",
     "text": [
      "d:\\googledrive\\wirelessmotionintelligence\\2022-knu-wmi\\venv\\lib\\site-packages\\sklearn\\model_selection\\_validation.py:680: DataConversionWarning: A column-vector y was passed when a 1d array was expected. Please change the shape of y to (n_samples,), for example using ravel().\n",
      "  estimator.fit(X_train, y_train, **fit_params)\n"
     ]
    },
    {
     "name": "stdout",
     "output_type": "stream",
     "text": [
      "[CV 2/3; 85/180] END bootstrap=True, criterion=entropy, max_depth=8, max_features=auto, min_samples_leaf=5, min_samples_split=4, n_estimators=50;, score=0.513 total time=   1.2s\n",
      "[CV 3/3; 85/180] START bootstrap=True, criterion=entropy, max_depth=8, max_features=auto, min_samples_leaf=5, min_samples_split=4, n_estimators=50\n"
     ]
    },
    {
     "name": "stderr",
     "output_type": "stream",
     "text": [
      "d:\\googledrive\\wirelessmotionintelligence\\2022-knu-wmi\\venv\\lib\\site-packages\\sklearn\\model_selection\\_validation.py:680: DataConversionWarning: A column-vector y was passed when a 1d array was expected. Please change the shape of y to (n_samples,), for example using ravel().\n",
      "  estimator.fit(X_train, y_train, **fit_params)\n"
     ]
    },
    {
     "name": "stdout",
     "output_type": "stream",
     "text": [
      "[CV 3/3; 85/180] END bootstrap=True, criterion=entropy, max_depth=8, max_features=auto, min_samples_leaf=5, min_samples_split=4, n_estimators=50;, score=0.436 total time=   1.5s\n",
      "[CV 1/3; 86/180] START bootstrap=True, criterion=entropy, max_depth=8, max_features=auto, min_samples_leaf=5, min_samples_split=4, n_estimators=100\n"
     ]
    },
    {
     "name": "stderr",
     "output_type": "stream",
     "text": [
      "d:\\googledrive\\wirelessmotionintelligence\\2022-knu-wmi\\venv\\lib\\site-packages\\sklearn\\model_selection\\_validation.py:680: DataConversionWarning: A column-vector y was passed when a 1d array was expected. Please change the shape of y to (n_samples,), for example using ravel().\n",
      "  estimator.fit(X_train, y_train, **fit_params)\n"
     ]
    },
    {
     "name": "stdout",
     "output_type": "stream",
     "text": [
      "[CV 1/3; 86/180] END bootstrap=True, criterion=entropy, max_depth=8, max_features=auto, min_samples_leaf=5, min_samples_split=4, n_estimators=100;, score=0.525 total time=   1.8s\n",
      "[CV 2/3; 86/180] START bootstrap=True, criterion=entropy, max_depth=8, max_features=auto, min_samples_leaf=5, min_samples_split=4, n_estimators=100\n"
     ]
    },
    {
     "name": "stderr",
     "output_type": "stream",
     "text": [
      "d:\\googledrive\\wirelessmotionintelligence\\2022-knu-wmi\\venv\\lib\\site-packages\\sklearn\\model_selection\\_validation.py:680: DataConversionWarning: A column-vector y was passed when a 1d array was expected. Please change the shape of y to (n_samples,), for example using ravel().\n",
      "  estimator.fit(X_train, y_train, **fit_params)\n"
     ]
    },
    {
     "name": "stdout",
     "output_type": "stream",
     "text": [
      "[CV 2/3; 86/180] END bootstrap=True, criterion=entropy, max_depth=8, max_features=auto, min_samples_leaf=5, min_samples_split=4, n_estimators=100;, score=0.615 total time=   2.5s\n",
      "[CV 3/3; 86/180] START bootstrap=True, criterion=entropy, max_depth=8, max_features=auto, min_samples_leaf=5, min_samples_split=4, n_estimators=100\n"
     ]
    },
    {
     "name": "stderr",
     "output_type": "stream",
     "text": [
      "d:\\googledrive\\wirelessmotionintelligence\\2022-knu-wmi\\venv\\lib\\site-packages\\sklearn\\model_selection\\_validation.py:680: DataConversionWarning: A column-vector y was passed when a 1d array was expected. Please change the shape of y to (n_samples,), for example using ravel().\n",
      "  estimator.fit(X_train, y_train, **fit_params)\n"
     ]
    },
    {
     "name": "stdout",
     "output_type": "stream",
     "text": [
      "[CV 3/3; 86/180] END bootstrap=True, criterion=entropy, max_depth=8, max_features=auto, min_samples_leaf=5, min_samples_split=4, n_estimators=100;, score=0.487 total time=   2.9s\n",
      "[CV 1/3; 87/180] START bootstrap=True, criterion=entropy, max_depth=8, max_features=auto, min_samples_leaf=5, min_samples_split=4, n_estimators=200\n"
     ]
    },
    {
     "name": "stderr",
     "output_type": "stream",
     "text": [
      "d:\\googledrive\\wirelessmotionintelligence\\2022-knu-wmi\\venv\\lib\\site-packages\\sklearn\\model_selection\\_validation.py:680: DataConversionWarning: A column-vector y was passed when a 1d array was expected. Please change the shape of y to (n_samples,), for example using ravel().\n",
      "  estimator.fit(X_train, y_train, **fit_params)\n"
     ]
    },
    {
     "name": "stdout",
     "output_type": "stream",
     "text": [
      "[CV 1/3; 87/180] END bootstrap=True, criterion=entropy, max_depth=8, max_features=auto, min_samples_leaf=5, min_samples_split=4, n_estimators=200;, score=0.500 total time=   3.3s\n",
      "[CV 2/3; 87/180] START bootstrap=True, criterion=entropy, max_depth=8, max_features=auto, min_samples_leaf=5, min_samples_split=4, n_estimators=200\n"
     ]
    },
    {
     "name": "stderr",
     "output_type": "stream",
     "text": [
      "d:\\googledrive\\wirelessmotionintelligence\\2022-knu-wmi\\venv\\lib\\site-packages\\sklearn\\model_selection\\_validation.py:680: DataConversionWarning: A column-vector y was passed when a 1d array was expected. Please change the shape of y to (n_samples,), for example using ravel().\n",
      "  estimator.fit(X_train, y_train, **fit_params)\n"
     ]
    },
    {
     "name": "stdout",
     "output_type": "stream",
     "text": [
      "[CV 2/3; 87/180] END bootstrap=True, criterion=entropy, max_depth=8, max_features=auto, min_samples_leaf=5, min_samples_split=4, n_estimators=200;, score=0.615 total time=   2.9s\n",
      "[CV 3/3; 87/180] START bootstrap=True, criterion=entropy, max_depth=8, max_features=auto, min_samples_leaf=5, min_samples_split=4, n_estimators=200\n"
     ]
    },
    {
     "name": "stderr",
     "output_type": "stream",
     "text": [
      "d:\\googledrive\\wirelessmotionintelligence\\2022-knu-wmi\\venv\\lib\\site-packages\\sklearn\\model_selection\\_validation.py:680: DataConversionWarning: A column-vector y was passed when a 1d array was expected. Please change the shape of y to (n_samples,), for example using ravel().\n",
      "  estimator.fit(X_train, y_train, **fit_params)\n"
     ]
    },
    {
     "name": "stdout",
     "output_type": "stream",
     "text": [
      "[CV 3/3; 87/180] END bootstrap=True, criterion=entropy, max_depth=8, max_features=auto, min_samples_leaf=5, min_samples_split=4, n_estimators=200;, score=0.513 total time=   2.8s\n",
      "[CV 1/3; 88/180] START bootstrap=True, criterion=entropy, max_depth=8, max_features=auto, min_samples_leaf=5, min_samples_split=4, n_estimators=300\n"
     ]
    },
    {
     "name": "stderr",
     "output_type": "stream",
     "text": [
      "d:\\googledrive\\wirelessmotionintelligence\\2022-knu-wmi\\venv\\lib\\site-packages\\sklearn\\model_selection\\_validation.py:680: DataConversionWarning: A column-vector y was passed when a 1d array was expected. Please change the shape of y to (n_samples,), for example using ravel().\n",
      "  estimator.fit(X_train, y_train, **fit_params)\n"
     ]
    },
    {
     "name": "stdout",
     "output_type": "stream",
     "text": [
      "[CV 1/3; 88/180] END bootstrap=True, criterion=entropy, max_depth=8, max_features=auto, min_samples_leaf=5, min_samples_split=4, n_estimators=300;, score=0.550 total time=   3.8s\n",
      "[CV 2/3; 88/180] START bootstrap=True, criterion=entropy, max_depth=8, max_features=auto, min_samples_leaf=5, min_samples_split=4, n_estimators=300\n"
     ]
    },
    {
     "name": "stderr",
     "output_type": "stream",
     "text": [
      "d:\\googledrive\\wirelessmotionintelligence\\2022-knu-wmi\\venv\\lib\\site-packages\\sklearn\\model_selection\\_validation.py:680: DataConversionWarning: A column-vector y was passed when a 1d array was expected. Please change the shape of y to (n_samples,), for example using ravel().\n",
      "  estimator.fit(X_train, y_train, **fit_params)\n"
     ]
    },
    {
     "name": "stdout",
     "output_type": "stream",
     "text": [
      "[CV 2/3; 88/180] END bootstrap=True, criterion=entropy, max_depth=8, max_features=auto, min_samples_leaf=5, min_samples_split=4, n_estimators=300;, score=0.641 total time=   3.7s\n",
      "[CV 3/3; 88/180] START bootstrap=True, criterion=entropy, max_depth=8, max_features=auto, min_samples_leaf=5, min_samples_split=4, n_estimators=300\n"
     ]
    },
    {
     "name": "stderr",
     "output_type": "stream",
     "text": [
      "d:\\googledrive\\wirelessmotionintelligence\\2022-knu-wmi\\venv\\lib\\site-packages\\sklearn\\model_selection\\_validation.py:680: DataConversionWarning: A column-vector y was passed when a 1d array was expected. Please change the shape of y to (n_samples,), for example using ravel().\n",
      "  estimator.fit(X_train, y_train, **fit_params)\n"
     ]
    },
    {
     "name": "stdout",
     "output_type": "stream",
     "text": [
      "[CV 3/3; 88/180] END bootstrap=True, criterion=entropy, max_depth=8, max_features=auto, min_samples_leaf=5, min_samples_split=4, n_estimators=300;, score=0.462 total time=   3.8s\n",
      "[CV 1/3; 89/180] START bootstrap=True, criterion=entropy, max_depth=8, max_features=auto, min_samples_leaf=5, min_samples_split=10, n_estimators=50\n"
     ]
    },
    {
     "name": "stderr",
     "output_type": "stream",
     "text": [
      "d:\\googledrive\\wirelessmotionintelligence\\2022-knu-wmi\\venv\\lib\\site-packages\\sklearn\\model_selection\\_validation.py:680: DataConversionWarning: A column-vector y was passed when a 1d array was expected. Please change the shape of y to (n_samples,), for example using ravel().\n",
      "  estimator.fit(X_train, y_train, **fit_params)\n"
     ]
    },
    {
     "name": "stdout",
     "output_type": "stream",
     "text": [
      "[CV 1/3; 89/180] END bootstrap=True, criterion=entropy, max_depth=8, max_features=auto, min_samples_leaf=5, min_samples_split=10, n_estimators=50;, score=0.600 total time=   1.1s\n",
      "[CV 2/3; 89/180] START bootstrap=True, criterion=entropy, max_depth=8, max_features=auto, min_samples_leaf=5, min_samples_split=10, n_estimators=50\n"
     ]
    },
    {
     "name": "stderr",
     "output_type": "stream",
     "text": [
      "d:\\googledrive\\wirelessmotionintelligence\\2022-knu-wmi\\venv\\lib\\site-packages\\sklearn\\model_selection\\_validation.py:680: DataConversionWarning: A column-vector y was passed when a 1d array was expected. Please change the shape of y to (n_samples,), for example using ravel().\n",
      "  estimator.fit(X_train, y_train, **fit_params)\n"
     ]
    },
    {
     "name": "stdout",
     "output_type": "stream",
     "text": [
      "[CV 2/3; 89/180] END bootstrap=True, criterion=entropy, max_depth=8, max_features=auto, min_samples_leaf=5, min_samples_split=10, n_estimators=50;, score=0.513 total time=   1.2s\n",
      "[CV 3/3; 89/180] START bootstrap=True, criterion=entropy, max_depth=8, max_features=auto, min_samples_leaf=5, min_samples_split=10, n_estimators=50\n"
     ]
    },
    {
     "name": "stderr",
     "output_type": "stream",
     "text": [
      "d:\\googledrive\\wirelessmotionintelligence\\2022-knu-wmi\\venv\\lib\\site-packages\\sklearn\\model_selection\\_validation.py:680: DataConversionWarning: A column-vector y was passed when a 1d array was expected. Please change the shape of y to (n_samples,), for example using ravel().\n",
      "  estimator.fit(X_train, y_train, **fit_params)\n"
     ]
    },
    {
     "name": "stdout",
     "output_type": "stream",
     "text": [
      "[CV 3/3; 89/180] END bootstrap=True, criterion=entropy, max_depth=8, max_features=auto, min_samples_leaf=5, min_samples_split=10, n_estimators=50;, score=0.436 total time=   1.2s\n",
      "[CV 1/3; 90/180] START bootstrap=True, criterion=entropy, max_depth=8, max_features=auto, min_samples_leaf=5, min_samples_split=10, n_estimators=100\n"
     ]
    },
    {
     "name": "stderr",
     "output_type": "stream",
     "text": [
      "d:\\googledrive\\wirelessmotionintelligence\\2022-knu-wmi\\venv\\lib\\site-packages\\sklearn\\model_selection\\_validation.py:680: DataConversionWarning: A column-vector y was passed when a 1d array was expected. Please change the shape of y to (n_samples,), for example using ravel().\n",
      "  estimator.fit(X_train, y_train, **fit_params)\n"
     ]
    },
    {
     "name": "stdout",
     "output_type": "stream",
     "text": [
      "[CV 1/3; 90/180] END bootstrap=True, criterion=entropy, max_depth=8, max_features=auto, min_samples_leaf=5, min_samples_split=10, n_estimators=100;, score=0.525 total time=   1.9s\n",
      "[CV 2/3; 90/180] START bootstrap=True, criterion=entropy, max_depth=8, max_features=auto, min_samples_leaf=5, min_samples_split=10, n_estimators=100\n"
     ]
    },
    {
     "name": "stderr",
     "output_type": "stream",
     "text": [
      "d:\\googledrive\\wirelessmotionintelligence\\2022-knu-wmi\\venv\\lib\\site-packages\\sklearn\\model_selection\\_validation.py:680: DataConversionWarning: A column-vector y was passed when a 1d array was expected. Please change the shape of y to (n_samples,), for example using ravel().\n",
      "  estimator.fit(X_train, y_train, **fit_params)\n"
     ]
    },
    {
     "name": "stdout",
     "output_type": "stream",
     "text": [
      "[CV 2/3; 90/180] END bootstrap=True, criterion=entropy, max_depth=8, max_features=auto, min_samples_leaf=5, min_samples_split=10, n_estimators=100;, score=0.615 total time=   1.5s\n",
      "[CV 3/3; 90/180] START bootstrap=True, criterion=entropy, max_depth=8, max_features=auto, min_samples_leaf=5, min_samples_split=10, n_estimators=100\n"
     ]
    },
    {
     "name": "stderr",
     "output_type": "stream",
     "text": [
      "d:\\googledrive\\wirelessmotionintelligence\\2022-knu-wmi\\venv\\lib\\site-packages\\sklearn\\model_selection\\_validation.py:680: DataConversionWarning: A column-vector y was passed when a 1d array was expected. Please change the shape of y to (n_samples,), for example using ravel().\n",
      "  estimator.fit(X_train, y_train, **fit_params)\n"
     ]
    },
    {
     "name": "stdout",
     "output_type": "stream",
     "text": [
      "[CV 3/3; 90/180] END bootstrap=True, criterion=entropy, max_depth=8, max_features=auto, min_samples_leaf=5, min_samples_split=10, n_estimators=100;, score=0.487 total time=   1.4s\n",
      "[CV 1/3; 91/180] START bootstrap=True, criterion=entropy, max_depth=8, max_features=auto, min_samples_leaf=5, min_samples_split=10, n_estimators=200\n"
     ]
    },
    {
     "name": "stderr",
     "output_type": "stream",
     "text": [
      "d:\\googledrive\\wirelessmotionintelligence\\2022-knu-wmi\\venv\\lib\\site-packages\\sklearn\\model_selection\\_validation.py:680: DataConversionWarning: A column-vector y was passed when a 1d array was expected. Please change the shape of y to (n_samples,), for example using ravel().\n",
      "  estimator.fit(X_train, y_train, **fit_params)\n"
     ]
    },
    {
     "name": "stdout",
     "output_type": "stream",
     "text": [
      "[CV 1/3; 91/180] END bootstrap=True, criterion=entropy, max_depth=8, max_features=auto, min_samples_leaf=5, min_samples_split=10, n_estimators=200;, score=0.500 total time=   2.2s\n",
      "[CV 2/3; 91/180] START bootstrap=True, criterion=entropy, max_depth=8, max_features=auto, min_samples_leaf=5, min_samples_split=10, n_estimators=200\n"
     ]
    },
    {
     "name": "stderr",
     "output_type": "stream",
     "text": [
      "d:\\googledrive\\wirelessmotionintelligence\\2022-knu-wmi\\venv\\lib\\site-packages\\sklearn\\model_selection\\_validation.py:680: DataConversionWarning: A column-vector y was passed when a 1d array was expected. Please change the shape of y to (n_samples,), for example using ravel().\n",
      "  estimator.fit(X_train, y_train, **fit_params)\n"
     ]
    },
    {
     "name": "stdout",
     "output_type": "stream",
     "text": [
      "[CV 2/3; 91/180] END bootstrap=True, criterion=entropy, max_depth=8, max_features=auto, min_samples_leaf=5, min_samples_split=10, n_estimators=200;, score=0.615 total time=   2.6s\n",
      "[CV 3/3; 91/180] START bootstrap=True, criterion=entropy, max_depth=8, max_features=auto, min_samples_leaf=5, min_samples_split=10, n_estimators=200\n"
     ]
    },
    {
     "name": "stderr",
     "output_type": "stream",
     "text": [
      "d:\\googledrive\\wirelessmotionintelligence\\2022-knu-wmi\\venv\\lib\\site-packages\\sklearn\\model_selection\\_validation.py:680: DataConversionWarning: A column-vector y was passed when a 1d array was expected. Please change the shape of y to (n_samples,), for example using ravel().\n",
      "  estimator.fit(X_train, y_train, **fit_params)\n"
     ]
    },
    {
     "name": "stdout",
     "output_type": "stream",
     "text": [
      "[CV 3/3; 91/180] END bootstrap=True, criterion=entropy, max_depth=8, max_features=auto, min_samples_leaf=5, min_samples_split=10, n_estimators=200;, score=0.513 total time=   2.7s\n",
      "[CV 1/3; 92/180] START bootstrap=True, criterion=entropy, max_depth=8, max_features=auto, min_samples_leaf=5, min_samples_split=10, n_estimators=300\n"
     ]
    },
    {
     "name": "stderr",
     "output_type": "stream",
     "text": [
      "d:\\googledrive\\wirelessmotionintelligence\\2022-knu-wmi\\venv\\lib\\site-packages\\sklearn\\model_selection\\_validation.py:680: DataConversionWarning: A column-vector y was passed when a 1d array was expected. Please change the shape of y to (n_samples,), for example using ravel().\n",
      "  estimator.fit(X_train, y_train, **fit_params)\n"
     ]
    },
    {
     "name": "stdout",
     "output_type": "stream",
     "text": [
      "[CV 1/3; 92/180] END bootstrap=True, criterion=entropy, max_depth=8, max_features=auto, min_samples_leaf=5, min_samples_split=10, n_estimators=300;, score=0.550 total time=   4.3s\n",
      "[CV 2/3; 92/180] START bootstrap=True, criterion=entropy, max_depth=8, max_features=auto, min_samples_leaf=5, min_samples_split=10, n_estimators=300\n"
     ]
    },
    {
     "name": "stderr",
     "output_type": "stream",
     "text": [
      "d:\\googledrive\\wirelessmotionintelligence\\2022-knu-wmi\\venv\\lib\\site-packages\\sklearn\\model_selection\\_validation.py:680: DataConversionWarning: A column-vector y was passed when a 1d array was expected. Please change the shape of y to (n_samples,), for example using ravel().\n",
      "  estimator.fit(X_train, y_train, **fit_params)\n"
     ]
    },
    {
     "name": "stdout",
     "output_type": "stream",
     "text": [
      "[CV 2/3; 92/180] END bootstrap=True, criterion=entropy, max_depth=8, max_features=auto, min_samples_leaf=5, min_samples_split=10, n_estimators=300;, score=0.641 total time=   3.7s\n",
      "[CV 3/3; 92/180] START bootstrap=True, criterion=entropy, max_depth=8, max_features=auto, min_samples_leaf=5, min_samples_split=10, n_estimators=300\n"
     ]
    },
    {
     "name": "stderr",
     "output_type": "stream",
     "text": [
      "d:\\googledrive\\wirelessmotionintelligence\\2022-knu-wmi\\venv\\lib\\site-packages\\sklearn\\model_selection\\_validation.py:680: DataConversionWarning: A column-vector y was passed when a 1d array was expected. Please change the shape of y to (n_samples,), for example using ravel().\n",
      "  estimator.fit(X_train, y_train, **fit_params)\n"
     ]
    },
    {
     "name": "stdout",
     "output_type": "stream",
     "text": [
      "[CV 3/3; 92/180] END bootstrap=True, criterion=entropy, max_depth=8, max_features=auto, min_samples_leaf=5, min_samples_split=10, n_estimators=300;, score=0.462 total time=   3.5s\n",
      "[CV 1/3; 93/180] START bootstrap=True, criterion=entropy, max_depth=8, max_features=auto, min_samples_leaf=5, min_samples_split=12, n_estimators=50\n"
     ]
    },
    {
     "name": "stderr",
     "output_type": "stream",
     "text": [
      "d:\\googledrive\\wirelessmotionintelligence\\2022-knu-wmi\\venv\\lib\\site-packages\\sklearn\\model_selection\\_validation.py:680: DataConversionWarning: A column-vector y was passed when a 1d array was expected. Please change the shape of y to (n_samples,), for example using ravel().\n",
      "  estimator.fit(X_train, y_train, **fit_params)\n"
     ]
    },
    {
     "name": "stdout",
     "output_type": "stream",
     "text": [
      "[CV 1/3; 93/180] END bootstrap=True, criterion=entropy, max_depth=8, max_features=auto, min_samples_leaf=5, min_samples_split=12, n_estimators=50;, score=0.600 total time=   1.0s\n",
      "[CV 2/3; 93/180] START bootstrap=True, criterion=entropy, max_depth=8, max_features=auto, min_samples_leaf=5, min_samples_split=12, n_estimators=50\n"
     ]
    },
    {
     "name": "stderr",
     "output_type": "stream",
     "text": [
      "d:\\googledrive\\wirelessmotionintelligence\\2022-knu-wmi\\venv\\lib\\site-packages\\sklearn\\model_selection\\_validation.py:680: DataConversionWarning: A column-vector y was passed when a 1d array was expected. Please change the shape of y to (n_samples,), for example using ravel().\n",
      "  estimator.fit(X_train, y_train, **fit_params)\n"
     ]
    },
    {
     "name": "stdout",
     "output_type": "stream",
     "text": [
      "[CV 2/3; 93/180] END bootstrap=True, criterion=entropy, max_depth=8, max_features=auto, min_samples_leaf=5, min_samples_split=12, n_estimators=50;, score=0.564 total time=   1.0s\n",
      "[CV 3/3; 93/180] START bootstrap=True, criterion=entropy, max_depth=8, max_features=auto, min_samples_leaf=5, min_samples_split=12, n_estimators=50\n"
     ]
    },
    {
     "name": "stderr",
     "output_type": "stream",
     "text": [
      "d:\\googledrive\\wirelessmotionintelligence\\2022-knu-wmi\\venv\\lib\\site-packages\\sklearn\\model_selection\\_validation.py:680: DataConversionWarning: A column-vector y was passed when a 1d array was expected. Please change the shape of y to (n_samples,), for example using ravel().\n",
      "  estimator.fit(X_train, y_train, **fit_params)\n"
     ]
    },
    {
     "name": "stdout",
     "output_type": "stream",
     "text": [
      "[CV 3/3; 93/180] END bootstrap=True, criterion=entropy, max_depth=8, max_features=auto, min_samples_leaf=5, min_samples_split=12, n_estimators=50;, score=0.410 total time=   1.0s\n",
      "[CV 1/3; 94/180] START bootstrap=True, criterion=entropy, max_depth=8, max_features=auto, min_samples_leaf=5, min_samples_split=12, n_estimators=100\n"
     ]
    },
    {
     "name": "stderr",
     "output_type": "stream",
     "text": [
      "d:\\googledrive\\wirelessmotionintelligence\\2022-knu-wmi\\venv\\lib\\site-packages\\sklearn\\model_selection\\_validation.py:680: DataConversionWarning: A column-vector y was passed when a 1d array was expected. Please change the shape of y to (n_samples,), for example using ravel().\n",
      "  estimator.fit(X_train, y_train, **fit_params)\n"
     ]
    },
    {
     "name": "stdout",
     "output_type": "stream",
     "text": [
      "[CV 1/3; 94/180] END bootstrap=True, criterion=entropy, max_depth=8, max_features=auto, min_samples_leaf=5, min_samples_split=12, n_estimators=100;, score=0.550 total time=   1.4s\n",
      "[CV 2/3; 94/180] START bootstrap=True, criterion=entropy, max_depth=8, max_features=auto, min_samples_leaf=5, min_samples_split=12, n_estimators=100\n"
     ]
    },
    {
     "name": "stderr",
     "output_type": "stream",
     "text": [
      "d:\\googledrive\\wirelessmotionintelligence\\2022-knu-wmi\\venv\\lib\\site-packages\\sklearn\\model_selection\\_validation.py:680: DataConversionWarning: A column-vector y was passed when a 1d array was expected. Please change the shape of y to (n_samples,), for example using ravel().\n",
      "  estimator.fit(X_train, y_train, **fit_params)\n"
     ]
    },
    {
     "name": "stdout",
     "output_type": "stream",
     "text": [
      "[CV 2/3; 94/180] END bootstrap=True, criterion=entropy, max_depth=8, max_features=auto, min_samples_leaf=5, min_samples_split=12, n_estimators=100;, score=0.641 total time=   1.4s\n",
      "[CV 3/3; 94/180] START bootstrap=True, criterion=entropy, max_depth=8, max_features=auto, min_samples_leaf=5, min_samples_split=12, n_estimators=100\n"
     ]
    },
    {
     "name": "stderr",
     "output_type": "stream",
     "text": [
      "d:\\googledrive\\wirelessmotionintelligence\\2022-knu-wmi\\venv\\lib\\site-packages\\sklearn\\model_selection\\_validation.py:680: DataConversionWarning: A column-vector y was passed when a 1d array was expected. Please change the shape of y to (n_samples,), for example using ravel().\n",
      "  estimator.fit(X_train, y_train, **fit_params)\n"
     ]
    },
    {
     "name": "stdout",
     "output_type": "stream",
     "text": [
      "[CV 3/3; 94/180] END bootstrap=True, criterion=entropy, max_depth=8, max_features=auto, min_samples_leaf=5, min_samples_split=12, n_estimators=100;, score=0.487 total time=   1.5s\n",
      "[CV 1/3; 95/180] START bootstrap=True, criterion=entropy, max_depth=8, max_features=auto, min_samples_leaf=5, min_samples_split=12, n_estimators=200\n"
     ]
    },
    {
     "name": "stderr",
     "output_type": "stream",
     "text": [
      "d:\\googledrive\\wirelessmotionintelligence\\2022-knu-wmi\\venv\\lib\\site-packages\\sklearn\\model_selection\\_validation.py:680: DataConversionWarning: A column-vector y was passed when a 1d array was expected. Please change the shape of y to (n_samples,), for example using ravel().\n",
      "  estimator.fit(X_train, y_train, **fit_params)\n"
     ]
    },
    {
     "name": "stdout",
     "output_type": "stream",
     "text": [
      "[CV 1/3; 95/180] END bootstrap=True, criterion=entropy, max_depth=8, max_features=auto, min_samples_leaf=5, min_samples_split=12, n_estimators=200;, score=0.500 total time=   2.2s\n",
      "[CV 2/3; 95/180] START bootstrap=True, criterion=entropy, max_depth=8, max_features=auto, min_samples_leaf=5, min_samples_split=12, n_estimators=200\n"
     ]
    },
    {
     "name": "stderr",
     "output_type": "stream",
     "text": [
      "d:\\googledrive\\wirelessmotionintelligence\\2022-knu-wmi\\venv\\lib\\site-packages\\sklearn\\model_selection\\_validation.py:680: DataConversionWarning: A column-vector y was passed when a 1d array was expected. Please change the shape of y to (n_samples,), for example using ravel().\n",
      "  estimator.fit(X_train, y_train, **fit_params)\n"
     ]
    },
    {
     "name": "stdout",
     "output_type": "stream",
     "text": [
      "[CV 2/3; 95/180] END bootstrap=True, criterion=entropy, max_depth=8, max_features=auto, min_samples_leaf=5, min_samples_split=12, n_estimators=200;, score=0.615 total time=   2.2s\n",
      "[CV 3/3; 95/180] START bootstrap=True, criterion=entropy, max_depth=8, max_features=auto, min_samples_leaf=5, min_samples_split=12, n_estimators=200\n"
     ]
    },
    {
     "name": "stderr",
     "output_type": "stream",
     "text": [
      "d:\\googledrive\\wirelessmotionintelligence\\2022-knu-wmi\\venv\\lib\\site-packages\\sklearn\\model_selection\\_validation.py:680: DataConversionWarning: A column-vector y was passed when a 1d array was expected. Please change the shape of y to (n_samples,), for example using ravel().\n",
      "  estimator.fit(X_train, y_train, **fit_params)\n"
     ]
    },
    {
     "name": "stdout",
     "output_type": "stream",
     "text": [
      "[CV 3/3; 95/180] END bootstrap=True, criterion=entropy, max_depth=8, max_features=auto, min_samples_leaf=5, min_samples_split=12, n_estimators=200;, score=0.513 total time=   2.2s\n",
      "[CV 1/3; 96/180] START bootstrap=True, criterion=entropy, max_depth=8, max_features=auto, min_samples_leaf=5, min_samples_split=12, n_estimators=300\n"
     ]
    },
    {
     "name": "stderr",
     "output_type": "stream",
     "text": [
      "d:\\googledrive\\wirelessmotionintelligence\\2022-knu-wmi\\venv\\lib\\site-packages\\sklearn\\model_selection\\_validation.py:680: DataConversionWarning: A column-vector y was passed when a 1d array was expected. Please change the shape of y to (n_samples,), for example using ravel().\n",
      "  estimator.fit(X_train, y_train, **fit_params)\n"
     ]
    },
    {
     "name": "stdout",
     "output_type": "stream",
     "text": [
      "[CV 1/3; 96/180] END bootstrap=True, criterion=entropy, max_depth=8, max_features=auto, min_samples_leaf=5, min_samples_split=12, n_estimators=300;, score=0.575 total time=   3.0s\n",
      "[CV 2/3; 96/180] START bootstrap=True, criterion=entropy, max_depth=8, max_features=auto, min_samples_leaf=5, min_samples_split=12, n_estimators=300\n"
     ]
    },
    {
     "name": "stderr",
     "output_type": "stream",
     "text": [
      "d:\\googledrive\\wirelessmotionintelligence\\2022-knu-wmi\\venv\\lib\\site-packages\\sklearn\\model_selection\\_validation.py:680: DataConversionWarning: A column-vector y was passed when a 1d array was expected. Please change the shape of y to (n_samples,), for example using ravel().\n",
      "  estimator.fit(X_train, y_train, **fit_params)\n"
     ]
    },
    {
     "name": "stdout",
     "output_type": "stream",
     "text": [
      "[CV 2/3; 96/180] END bootstrap=True, criterion=entropy, max_depth=8, max_features=auto, min_samples_leaf=5, min_samples_split=12, n_estimators=300;, score=0.615 total time=   3.1s\n",
      "[CV 3/3; 96/180] START bootstrap=True, criterion=entropy, max_depth=8, max_features=auto, min_samples_leaf=5, min_samples_split=12, n_estimators=300\n"
     ]
    },
    {
     "name": "stderr",
     "output_type": "stream",
     "text": [
      "d:\\googledrive\\wirelessmotionintelligence\\2022-knu-wmi\\venv\\lib\\site-packages\\sklearn\\model_selection\\_validation.py:680: DataConversionWarning: A column-vector y was passed when a 1d array was expected. Please change the shape of y to (n_samples,), for example using ravel().\n",
      "  estimator.fit(X_train, y_train, **fit_params)\n"
     ]
    },
    {
     "name": "stdout",
     "output_type": "stream",
     "text": [
      "[CV 3/3; 96/180] END bootstrap=True, criterion=entropy, max_depth=8, max_features=auto, min_samples_leaf=5, min_samples_split=12, n_estimators=300;, score=0.462 total time=   3.1s\n",
      "[CV 1/3; 97/180] START bootstrap=True, criterion=entropy, max_depth=8, max_features=auto, min_samples_leaf=5, min_samples_split=16, n_estimators=50\n"
     ]
    },
    {
     "name": "stderr",
     "output_type": "stream",
     "text": [
      "d:\\googledrive\\wirelessmotionintelligence\\2022-knu-wmi\\venv\\lib\\site-packages\\sklearn\\model_selection\\_validation.py:680: DataConversionWarning: A column-vector y was passed when a 1d array was expected. Please change the shape of y to (n_samples,), for example using ravel().\n",
      "  estimator.fit(X_train, y_train, **fit_params)\n"
     ]
    },
    {
     "name": "stdout",
     "output_type": "stream",
     "text": [
      "[CV 1/3; 97/180] END bootstrap=True, criterion=entropy, max_depth=8, max_features=auto, min_samples_leaf=5, min_samples_split=16, n_estimators=50;, score=0.525 total time=   1.0s\n",
      "[CV 2/3; 97/180] START bootstrap=True, criterion=entropy, max_depth=8, max_features=auto, min_samples_leaf=5, min_samples_split=16, n_estimators=50\n"
     ]
    },
    {
     "name": "stderr",
     "output_type": "stream",
     "text": [
      "d:\\googledrive\\wirelessmotionintelligence\\2022-knu-wmi\\venv\\lib\\site-packages\\sklearn\\model_selection\\_validation.py:680: DataConversionWarning: A column-vector y was passed when a 1d array was expected. Please change the shape of y to (n_samples,), for example using ravel().\n",
      "  estimator.fit(X_train, y_train, **fit_params)\n"
     ]
    },
    {
     "name": "stdout",
     "output_type": "stream",
     "text": [
      "[CV 2/3; 97/180] END bootstrap=True, criterion=entropy, max_depth=8, max_features=auto, min_samples_leaf=5, min_samples_split=16, n_estimators=50;, score=0.513 total time=   0.9s\n",
      "[CV 3/3; 97/180] START bootstrap=True, criterion=entropy, max_depth=8, max_features=auto, min_samples_leaf=5, min_samples_split=16, n_estimators=50\n"
     ]
    },
    {
     "name": "stderr",
     "output_type": "stream",
     "text": [
      "d:\\googledrive\\wirelessmotionintelligence\\2022-knu-wmi\\venv\\lib\\site-packages\\sklearn\\model_selection\\_validation.py:680: DataConversionWarning: A column-vector y was passed when a 1d array was expected. Please change the shape of y to (n_samples,), for example using ravel().\n",
      "  estimator.fit(X_train, y_train, **fit_params)\n"
     ]
    },
    {
     "name": "stdout",
     "output_type": "stream",
     "text": [
      "[CV 3/3; 97/180] END bootstrap=True, criterion=entropy, max_depth=8, max_features=auto, min_samples_leaf=5, min_samples_split=16, n_estimators=50;, score=0.462 total time=   0.9s\n",
      "[CV 1/3; 98/180] START bootstrap=True, criterion=entropy, max_depth=8, max_features=auto, min_samples_leaf=5, min_samples_split=16, n_estimators=100\n"
     ]
    },
    {
     "name": "stderr",
     "output_type": "stream",
     "text": [
      "d:\\googledrive\\wirelessmotionintelligence\\2022-knu-wmi\\venv\\lib\\site-packages\\sklearn\\model_selection\\_validation.py:680: DataConversionWarning: A column-vector y was passed when a 1d array was expected. Please change the shape of y to (n_samples,), for example using ravel().\n",
      "  estimator.fit(X_train, y_train, **fit_params)\n"
     ]
    },
    {
     "name": "stdout",
     "output_type": "stream",
     "text": [
      "[CV 1/3; 98/180] END bootstrap=True, criterion=entropy, max_depth=8, max_features=auto, min_samples_leaf=5, min_samples_split=16, n_estimators=100;, score=0.525 total time=   1.4s\n",
      "[CV 2/3; 98/180] START bootstrap=True, criterion=entropy, max_depth=8, max_features=auto, min_samples_leaf=5, min_samples_split=16, n_estimators=100\n"
     ]
    },
    {
     "name": "stderr",
     "output_type": "stream",
     "text": [
      "d:\\googledrive\\wirelessmotionintelligence\\2022-knu-wmi\\venv\\lib\\site-packages\\sklearn\\model_selection\\_validation.py:680: DataConversionWarning: A column-vector y was passed when a 1d array was expected. Please change the shape of y to (n_samples,), for example using ravel().\n",
      "  estimator.fit(X_train, y_train, **fit_params)\n"
     ]
    },
    {
     "name": "stdout",
     "output_type": "stream",
     "text": [
      "[CV 2/3; 98/180] END bootstrap=True, criterion=entropy, max_depth=8, max_features=auto, min_samples_leaf=5, min_samples_split=16, n_estimators=100;, score=0.641 total time=   1.4s\n",
      "[CV 3/3; 98/180] START bootstrap=True, criterion=entropy, max_depth=8, max_features=auto, min_samples_leaf=5, min_samples_split=16, n_estimators=100\n"
     ]
    },
    {
     "name": "stderr",
     "output_type": "stream",
     "text": [
      "d:\\googledrive\\wirelessmotionintelligence\\2022-knu-wmi\\venv\\lib\\site-packages\\sklearn\\model_selection\\_validation.py:680: DataConversionWarning: A column-vector y was passed when a 1d array was expected. Please change the shape of y to (n_samples,), for example using ravel().\n",
      "  estimator.fit(X_train, y_train, **fit_params)\n"
     ]
    },
    {
     "name": "stdout",
     "output_type": "stream",
     "text": [
      "[CV 3/3; 98/180] END bootstrap=True, criterion=entropy, max_depth=8, max_features=auto, min_samples_leaf=5, min_samples_split=16, n_estimators=100;, score=0.462 total time=   1.4s\n",
      "[CV 1/3; 99/180] START bootstrap=True, criterion=entropy, max_depth=8, max_features=auto, min_samples_leaf=5, min_samples_split=16, n_estimators=200\n"
     ]
    },
    {
     "name": "stderr",
     "output_type": "stream",
     "text": [
      "d:\\googledrive\\wirelessmotionintelligence\\2022-knu-wmi\\venv\\lib\\site-packages\\sklearn\\model_selection\\_validation.py:680: DataConversionWarning: A column-vector y was passed when a 1d array was expected. Please change the shape of y to (n_samples,), for example using ravel().\n",
      "  estimator.fit(X_train, y_train, **fit_params)\n"
     ]
    },
    {
     "name": "stdout",
     "output_type": "stream",
     "text": [
      "[CV 1/3; 99/180] END bootstrap=True, criterion=entropy, max_depth=8, max_features=auto, min_samples_leaf=5, min_samples_split=16, n_estimators=200;, score=0.500 total time=   2.2s\n",
      "[CV 2/3; 99/180] START bootstrap=True, criterion=entropy, max_depth=8, max_features=auto, min_samples_leaf=5, min_samples_split=16, n_estimators=200\n"
     ]
    },
    {
     "name": "stderr",
     "output_type": "stream",
     "text": [
      "d:\\googledrive\\wirelessmotionintelligence\\2022-knu-wmi\\venv\\lib\\site-packages\\sklearn\\model_selection\\_validation.py:680: DataConversionWarning: A column-vector y was passed when a 1d array was expected. Please change the shape of y to (n_samples,), for example using ravel().\n",
      "  estimator.fit(X_train, y_train, **fit_params)\n"
     ]
    },
    {
     "name": "stdout",
     "output_type": "stream",
     "text": [
      "[CV 2/3; 99/180] END bootstrap=True, criterion=entropy, max_depth=8, max_features=auto, min_samples_leaf=5, min_samples_split=16, n_estimators=200;, score=0.590 total time=   2.2s\n",
      "[CV 3/3; 99/180] START bootstrap=True, criterion=entropy, max_depth=8, max_features=auto, min_samples_leaf=5, min_samples_split=16, n_estimators=200\n"
     ]
    },
    {
     "name": "stderr",
     "output_type": "stream",
     "text": [
      "d:\\googledrive\\wirelessmotionintelligence\\2022-knu-wmi\\venv\\lib\\site-packages\\sklearn\\model_selection\\_validation.py:680: DataConversionWarning: A column-vector y was passed when a 1d array was expected. Please change the shape of y to (n_samples,), for example using ravel().\n",
      "  estimator.fit(X_train, y_train, **fit_params)\n"
     ]
    },
    {
     "name": "stdout",
     "output_type": "stream",
     "text": [
      "[CV 3/3; 99/180] END bootstrap=True, criterion=entropy, max_depth=8, max_features=auto, min_samples_leaf=5, min_samples_split=16, n_estimators=200;, score=0.538 total time=   2.2s\n",
      "[CV 1/3; 100/180] START bootstrap=True, criterion=entropy, max_depth=8, max_features=auto, min_samples_leaf=5, min_samples_split=16, n_estimators=300\n"
     ]
    },
    {
     "name": "stderr",
     "output_type": "stream",
     "text": [
      "d:\\googledrive\\wirelessmotionintelligence\\2022-knu-wmi\\venv\\lib\\site-packages\\sklearn\\model_selection\\_validation.py:680: DataConversionWarning: A column-vector y was passed when a 1d array was expected. Please change the shape of y to (n_samples,), for example using ravel().\n",
      "  estimator.fit(X_train, y_train, **fit_params)\n"
     ]
    },
    {
     "name": "stdout",
     "output_type": "stream",
     "text": [
      "[CV 1/3; 100/180] END bootstrap=True, criterion=entropy, max_depth=8, max_features=auto, min_samples_leaf=5, min_samples_split=16, n_estimators=300;, score=0.525 total time=   3.0s\n",
      "[CV 2/3; 100/180] START bootstrap=True, criterion=entropy, max_depth=8, max_features=auto, min_samples_leaf=5, min_samples_split=16, n_estimators=300\n"
     ]
    },
    {
     "name": "stderr",
     "output_type": "stream",
     "text": [
      "d:\\googledrive\\wirelessmotionintelligence\\2022-knu-wmi\\venv\\lib\\site-packages\\sklearn\\model_selection\\_validation.py:680: DataConversionWarning: A column-vector y was passed when a 1d array was expected. Please change the shape of y to (n_samples,), for example using ravel().\n",
      "  estimator.fit(X_train, y_train, **fit_params)\n"
     ]
    },
    {
     "name": "stdout",
     "output_type": "stream",
     "text": [
      "[CV 2/3; 100/180] END bootstrap=True, criterion=entropy, max_depth=8, max_features=auto, min_samples_leaf=5, min_samples_split=16, n_estimators=300;, score=0.615 total time=   3.1s\n",
      "[CV 3/3; 100/180] START bootstrap=True, criterion=entropy, max_depth=8, max_features=auto, min_samples_leaf=5, min_samples_split=16, n_estimators=300\n"
     ]
    },
    {
     "name": "stderr",
     "output_type": "stream",
     "text": [
      "d:\\googledrive\\wirelessmotionintelligence\\2022-knu-wmi\\venv\\lib\\site-packages\\sklearn\\model_selection\\_validation.py:680: DataConversionWarning: A column-vector y was passed when a 1d array was expected. Please change the shape of y to (n_samples,), for example using ravel().\n",
      "  estimator.fit(X_train, y_train, **fit_params)\n"
     ]
    },
    {
     "name": "stdout",
     "output_type": "stream",
     "text": [
      "[CV 3/3; 100/180] END bootstrap=True, criterion=entropy, max_depth=8, max_features=auto, min_samples_leaf=5, min_samples_split=16, n_estimators=300;, score=0.462 total time=   3.1s\n",
      "[CV 1/3; 101/180] START bootstrap=True, criterion=entropy, max_depth=8, max_features=auto, min_samples_leaf=10, min_samples_split=2, n_estimators=50\n"
     ]
    },
    {
     "name": "stderr",
     "output_type": "stream",
     "text": [
      "d:\\googledrive\\wirelessmotionintelligence\\2022-knu-wmi\\venv\\lib\\site-packages\\sklearn\\model_selection\\_validation.py:680: DataConversionWarning: A column-vector y was passed when a 1d array was expected. Please change the shape of y to (n_samples,), for example using ravel().\n",
      "  estimator.fit(X_train, y_train, **fit_params)\n"
     ]
    },
    {
     "name": "stdout",
     "output_type": "stream",
     "text": [
      "[CV 1/3; 101/180] END bootstrap=True, criterion=entropy, max_depth=8, max_features=auto, min_samples_leaf=10, min_samples_split=2, n_estimators=50;, score=0.600 total time=   0.9s\n",
      "[CV 2/3; 101/180] START bootstrap=True, criterion=entropy, max_depth=8, max_features=auto, min_samples_leaf=10, min_samples_split=2, n_estimators=50\n"
     ]
    },
    {
     "name": "stderr",
     "output_type": "stream",
     "text": [
      "d:\\googledrive\\wirelessmotionintelligence\\2022-knu-wmi\\venv\\lib\\site-packages\\sklearn\\model_selection\\_validation.py:680: DataConversionWarning: A column-vector y was passed when a 1d array was expected. Please change the shape of y to (n_samples,), for example using ravel().\n",
      "  estimator.fit(X_train, y_train, **fit_params)\n"
     ]
    },
    {
     "name": "stdout",
     "output_type": "stream",
     "text": [
      "[CV 2/3; 101/180] END bootstrap=True, criterion=entropy, max_depth=8, max_features=auto, min_samples_leaf=10, min_samples_split=2, n_estimators=50;, score=0.564 total time=   0.9s\n",
      "[CV 3/3; 101/180] START bootstrap=True, criterion=entropy, max_depth=8, max_features=auto, min_samples_leaf=10, min_samples_split=2, n_estimators=50\n"
     ]
    },
    {
     "name": "stderr",
     "output_type": "stream",
     "text": [
      "d:\\googledrive\\wirelessmotionintelligence\\2022-knu-wmi\\venv\\lib\\site-packages\\sklearn\\model_selection\\_validation.py:680: DataConversionWarning: A column-vector y was passed when a 1d array was expected. Please change the shape of y to (n_samples,), for example using ravel().\n",
      "  estimator.fit(X_train, y_train, **fit_params)\n"
     ]
    },
    {
     "name": "stdout",
     "output_type": "stream",
     "text": [
      "[CV 3/3; 101/180] END bootstrap=True, criterion=entropy, max_depth=8, max_features=auto, min_samples_leaf=10, min_samples_split=2, n_estimators=50;, score=0.590 total time=   0.9s\n",
      "[CV 1/3; 102/180] START bootstrap=True, criterion=entropy, max_depth=8, max_features=auto, min_samples_leaf=10, min_samples_split=2, n_estimators=100\n"
     ]
    },
    {
     "name": "stderr",
     "output_type": "stream",
     "text": [
      "d:\\googledrive\\wirelessmotionintelligence\\2022-knu-wmi\\venv\\lib\\site-packages\\sklearn\\model_selection\\_validation.py:680: DataConversionWarning: A column-vector y was passed when a 1d array was expected. Please change the shape of y to (n_samples,), for example using ravel().\n",
      "  estimator.fit(X_train, y_train, **fit_params)\n"
     ]
    },
    {
     "name": "stdout",
     "output_type": "stream",
     "text": [
      "[CV 1/3; 102/180] END bootstrap=True, criterion=entropy, max_depth=8, max_features=auto, min_samples_leaf=10, min_samples_split=2, n_estimators=100;, score=0.550 total time=   1.4s\n",
      "[CV 2/3; 102/180] START bootstrap=True, criterion=entropy, max_depth=8, max_features=auto, min_samples_leaf=10, min_samples_split=2, n_estimators=100\n"
     ]
    },
    {
     "name": "stderr",
     "output_type": "stream",
     "text": [
      "d:\\googledrive\\wirelessmotionintelligence\\2022-knu-wmi\\venv\\lib\\site-packages\\sklearn\\model_selection\\_validation.py:680: DataConversionWarning: A column-vector y was passed when a 1d array was expected. Please change the shape of y to (n_samples,), for example using ravel().\n",
      "  estimator.fit(X_train, y_train, **fit_params)\n"
     ]
    },
    {
     "name": "stdout",
     "output_type": "stream",
     "text": [
      "[CV 2/3; 102/180] END bootstrap=True, criterion=entropy, max_depth=8, max_features=auto, min_samples_leaf=10, min_samples_split=2, n_estimators=100;, score=0.667 total time=   1.4s\n",
      "[CV 3/3; 102/180] START bootstrap=True, criterion=entropy, max_depth=8, max_features=auto, min_samples_leaf=10, min_samples_split=2, n_estimators=100\n"
     ]
    },
    {
     "name": "stderr",
     "output_type": "stream",
     "text": [
      "d:\\googledrive\\wirelessmotionintelligence\\2022-knu-wmi\\venv\\lib\\site-packages\\sklearn\\model_selection\\_validation.py:680: DataConversionWarning: A column-vector y was passed when a 1d array was expected. Please change the shape of y to (n_samples,), for example using ravel().\n",
      "  estimator.fit(X_train, y_train, **fit_params)\n"
     ]
    },
    {
     "name": "stdout",
     "output_type": "stream",
     "text": [
      "[CV 3/3; 102/180] END bootstrap=True, criterion=entropy, max_depth=8, max_features=auto, min_samples_leaf=10, min_samples_split=2, n_estimators=100;, score=0.590 total time=   1.4s\n",
      "[CV 1/3; 103/180] START bootstrap=True, criterion=entropy, max_depth=8, max_features=auto, min_samples_leaf=10, min_samples_split=2, n_estimators=200\n"
     ]
    },
    {
     "name": "stderr",
     "output_type": "stream",
     "text": [
      "d:\\googledrive\\wirelessmotionintelligence\\2022-knu-wmi\\venv\\lib\\site-packages\\sklearn\\model_selection\\_validation.py:680: DataConversionWarning: A column-vector y was passed when a 1d array was expected. Please change the shape of y to (n_samples,), for example using ravel().\n",
      "  estimator.fit(X_train, y_train, **fit_params)\n"
     ]
    },
    {
     "name": "stdout",
     "output_type": "stream",
     "text": [
      "[CV 1/3; 103/180] END bootstrap=True, criterion=entropy, max_depth=8, max_features=auto, min_samples_leaf=10, min_samples_split=2, n_estimators=200;, score=0.500 total time=   2.2s\n",
      "[CV 2/3; 103/180] START bootstrap=True, criterion=entropy, max_depth=8, max_features=auto, min_samples_leaf=10, min_samples_split=2, n_estimators=200\n"
     ]
    },
    {
     "name": "stderr",
     "output_type": "stream",
     "text": [
      "d:\\googledrive\\wirelessmotionintelligence\\2022-knu-wmi\\venv\\lib\\site-packages\\sklearn\\model_selection\\_validation.py:680: DataConversionWarning: A column-vector y was passed when a 1d array was expected. Please change the shape of y to (n_samples,), for example using ravel().\n",
      "  estimator.fit(X_train, y_train, **fit_params)\n"
     ]
    },
    {
     "name": "stdout",
     "output_type": "stream",
     "text": [
      "[CV 2/3; 103/180] END bootstrap=True, criterion=entropy, max_depth=8, max_features=auto, min_samples_leaf=10, min_samples_split=2, n_estimators=200;, score=0.513 total time=   2.2s\n",
      "[CV 3/3; 103/180] START bootstrap=True, criterion=entropy, max_depth=8, max_features=auto, min_samples_leaf=10, min_samples_split=2, n_estimators=200\n"
     ]
    },
    {
     "name": "stderr",
     "output_type": "stream",
     "text": [
      "d:\\googledrive\\wirelessmotionintelligence\\2022-knu-wmi\\venv\\lib\\site-packages\\sklearn\\model_selection\\_validation.py:680: DataConversionWarning: A column-vector y was passed when a 1d array was expected. Please change the shape of y to (n_samples,), for example using ravel().\n",
      "  estimator.fit(X_train, y_train, **fit_params)\n"
     ]
    },
    {
     "name": "stdout",
     "output_type": "stream",
     "text": [
      "[CV 3/3; 103/180] END bootstrap=True, criterion=entropy, max_depth=8, max_features=auto, min_samples_leaf=10, min_samples_split=2, n_estimators=200;, score=0.564 total time=   2.2s\n",
      "[CV 1/3; 104/180] START bootstrap=True, criterion=entropy, max_depth=8, max_features=auto, min_samples_leaf=10, min_samples_split=2, n_estimators=300\n"
     ]
    },
    {
     "name": "stderr",
     "output_type": "stream",
     "text": [
      "d:\\googledrive\\wirelessmotionintelligence\\2022-knu-wmi\\venv\\lib\\site-packages\\sklearn\\model_selection\\_validation.py:680: DataConversionWarning: A column-vector y was passed when a 1d array was expected. Please change the shape of y to (n_samples,), for example using ravel().\n",
      "  estimator.fit(X_train, y_train, **fit_params)\n"
     ]
    },
    {
     "name": "stdout",
     "output_type": "stream",
     "text": [
      "[CV 1/3; 104/180] END bootstrap=True, criterion=entropy, max_depth=8, max_features=auto, min_samples_leaf=10, min_samples_split=2, n_estimators=300;, score=0.500 total time=   3.0s\n",
      "[CV 2/3; 104/180] START bootstrap=True, criterion=entropy, max_depth=8, max_features=auto, min_samples_leaf=10, min_samples_split=2, n_estimators=300\n"
     ]
    },
    {
     "name": "stderr",
     "output_type": "stream",
     "text": [
      "d:\\googledrive\\wirelessmotionintelligence\\2022-knu-wmi\\venv\\lib\\site-packages\\sklearn\\model_selection\\_validation.py:680: DataConversionWarning: A column-vector y was passed when a 1d array was expected. Please change the shape of y to (n_samples,), for example using ravel().\n",
      "  estimator.fit(X_train, y_train, **fit_params)\n"
     ]
    },
    {
     "name": "stdout",
     "output_type": "stream",
     "text": [
      "[CV 2/3; 104/180] END bootstrap=True, criterion=entropy, max_depth=8, max_features=auto, min_samples_leaf=10, min_samples_split=2, n_estimators=300;, score=0.513 total time=   3.0s\n",
      "[CV 3/3; 104/180] START bootstrap=True, criterion=entropy, max_depth=8, max_features=auto, min_samples_leaf=10, min_samples_split=2, n_estimators=300\n"
     ]
    },
    {
     "name": "stderr",
     "output_type": "stream",
     "text": [
      "d:\\googledrive\\wirelessmotionintelligence\\2022-knu-wmi\\venv\\lib\\site-packages\\sklearn\\model_selection\\_validation.py:680: DataConversionWarning: A column-vector y was passed when a 1d array was expected. Please change the shape of y to (n_samples,), for example using ravel().\n",
      "  estimator.fit(X_train, y_train, **fit_params)\n"
     ]
    },
    {
     "name": "stdout",
     "output_type": "stream",
     "text": [
      "[CV 3/3; 104/180] END bootstrap=True, criterion=entropy, max_depth=8, max_features=auto, min_samples_leaf=10, min_samples_split=2, n_estimators=300;, score=0.462 total time=   3.0s\n",
      "[CV 1/3; 105/180] START bootstrap=True, criterion=entropy, max_depth=8, max_features=auto, min_samples_leaf=10, min_samples_split=4, n_estimators=50\n"
     ]
    },
    {
     "name": "stderr",
     "output_type": "stream",
     "text": [
      "d:\\googledrive\\wirelessmotionintelligence\\2022-knu-wmi\\venv\\lib\\site-packages\\sklearn\\model_selection\\_validation.py:680: DataConversionWarning: A column-vector y was passed when a 1d array was expected. Please change the shape of y to (n_samples,), for example using ravel().\n",
      "  estimator.fit(X_train, y_train, **fit_params)\n"
     ]
    },
    {
     "name": "stdout",
     "output_type": "stream",
     "text": [
      "[CV 1/3; 105/180] END bootstrap=True, criterion=entropy, max_depth=8, max_features=auto, min_samples_leaf=10, min_samples_split=4, n_estimators=50;, score=0.600 total time=   0.9s\n",
      "[CV 2/3; 105/180] START bootstrap=True, criterion=entropy, max_depth=8, max_features=auto, min_samples_leaf=10, min_samples_split=4, n_estimators=50\n"
     ]
    },
    {
     "name": "stderr",
     "output_type": "stream",
     "text": [
      "d:\\googledrive\\wirelessmotionintelligence\\2022-knu-wmi\\venv\\lib\\site-packages\\sklearn\\model_selection\\_validation.py:680: DataConversionWarning: A column-vector y was passed when a 1d array was expected. Please change the shape of y to (n_samples,), for example using ravel().\n",
      "  estimator.fit(X_train, y_train, **fit_params)\n"
     ]
    },
    {
     "name": "stdout",
     "output_type": "stream",
     "text": [
      "[CV 2/3; 105/180] END bootstrap=True, criterion=entropy, max_depth=8, max_features=auto, min_samples_leaf=10, min_samples_split=4, n_estimators=50;, score=0.564 total time=   1.0s\n",
      "[CV 3/3; 105/180] START bootstrap=True, criterion=entropy, max_depth=8, max_features=auto, min_samples_leaf=10, min_samples_split=4, n_estimators=50\n"
     ]
    },
    {
     "name": "stderr",
     "output_type": "stream",
     "text": [
      "d:\\googledrive\\wirelessmotionintelligence\\2022-knu-wmi\\venv\\lib\\site-packages\\sklearn\\model_selection\\_validation.py:680: DataConversionWarning: A column-vector y was passed when a 1d array was expected. Please change the shape of y to (n_samples,), for example using ravel().\n",
      "  estimator.fit(X_train, y_train, **fit_params)\n"
     ]
    },
    {
     "name": "stdout",
     "output_type": "stream",
     "text": [
      "[CV 3/3; 105/180] END bootstrap=True, criterion=entropy, max_depth=8, max_features=auto, min_samples_leaf=10, min_samples_split=4, n_estimators=50;, score=0.590 total time=   0.9s\n",
      "[CV 1/3; 106/180] START bootstrap=True, criterion=entropy, max_depth=8, max_features=auto, min_samples_leaf=10, min_samples_split=4, n_estimators=100\n"
     ]
    },
    {
     "name": "stderr",
     "output_type": "stream",
     "text": [
      "d:\\googledrive\\wirelessmotionintelligence\\2022-knu-wmi\\venv\\lib\\site-packages\\sklearn\\model_selection\\_validation.py:680: DataConversionWarning: A column-vector y was passed when a 1d array was expected. Please change the shape of y to (n_samples,), for example using ravel().\n",
      "  estimator.fit(X_train, y_train, **fit_params)\n"
     ]
    },
    {
     "name": "stdout",
     "output_type": "stream",
     "text": [
      "[CV 1/3; 106/180] END bootstrap=True, criterion=entropy, max_depth=8, max_features=auto, min_samples_leaf=10, min_samples_split=4, n_estimators=100;, score=0.550 total time=   1.4s\n",
      "[CV 2/3; 106/180] START bootstrap=True, criterion=entropy, max_depth=8, max_features=auto, min_samples_leaf=10, min_samples_split=4, n_estimators=100\n"
     ]
    },
    {
     "name": "stderr",
     "output_type": "stream",
     "text": [
      "d:\\googledrive\\wirelessmotionintelligence\\2022-knu-wmi\\venv\\lib\\site-packages\\sklearn\\model_selection\\_validation.py:680: DataConversionWarning: A column-vector y was passed when a 1d array was expected. Please change the shape of y to (n_samples,), for example using ravel().\n",
      "  estimator.fit(X_train, y_train, **fit_params)\n"
     ]
    },
    {
     "name": "stdout",
     "output_type": "stream",
     "text": [
      "[CV 2/3; 106/180] END bootstrap=True, criterion=entropy, max_depth=8, max_features=auto, min_samples_leaf=10, min_samples_split=4, n_estimators=100;, score=0.667 total time=   1.6s\n",
      "[CV 3/3; 106/180] START bootstrap=True, criterion=entropy, max_depth=8, max_features=auto, min_samples_leaf=10, min_samples_split=4, n_estimators=100\n"
     ]
    },
    {
     "name": "stderr",
     "output_type": "stream",
     "text": [
      "d:\\googledrive\\wirelessmotionintelligence\\2022-knu-wmi\\venv\\lib\\site-packages\\sklearn\\model_selection\\_validation.py:680: DataConversionWarning: A column-vector y was passed when a 1d array was expected. Please change the shape of y to (n_samples,), for example using ravel().\n",
      "  estimator.fit(X_train, y_train, **fit_params)\n"
     ]
    },
    {
     "name": "stdout",
     "output_type": "stream",
     "text": [
      "[CV 3/3; 106/180] END bootstrap=True, criterion=entropy, max_depth=8, max_features=auto, min_samples_leaf=10, min_samples_split=4, n_estimators=100;, score=0.590 total time=   1.7s\n",
      "[CV 1/3; 107/180] START bootstrap=True, criterion=entropy, max_depth=8, max_features=auto, min_samples_leaf=10, min_samples_split=4, n_estimators=200\n"
     ]
    },
    {
     "name": "stderr",
     "output_type": "stream",
     "text": [
      "d:\\googledrive\\wirelessmotionintelligence\\2022-knu-wmi\\venv\\lib\\site-packages\\sklearn\\model_selection\\_validation.py:680: DataConversionWarning: A column-vector y was passed when a 1d array was expected. Please change the shape of y to (n_samples,), for example using ravel().\n",
      "  estimator.fit(X_train, y_train, **fit_params)\n"
     ]
    },
    {
     "name": "stdout",
     "output_type": "stream",
     "text": [
      "[CV 1/3; 107/180] END bootstrap=True, criterion=entropy, max_depth=8, max_features=auto, min_samples_leaf=10, min_samples_split=4, n_estimators=200;, score=0.500 total time=   2.8s\n",
      "[CV 2/3; 107/180] START bootstrap=True, criterion=entropy, max_depth=8, max_features=auto, min_samples_leaf=10, min_samples_split=4, n_estimators=200\n"
     ]
    },
    {
     "name": "stderr",
     "output_type": "stream",
     "text": [
      "d:\\googledrive\\wirelessmotionintelligence\\2022-knu-wmi\\venv\\lib\\site-packages\\sklearn\\model_selection\\_validation.py:680: DataConversionWarning: A column-vector y was passed when a 1d array was expected. Please change the shape of y to (n_samples,), for example using ravel().\n",
      "  estimator.fit(X_train, y_train, **fit_params)\n"
     ]
    },
    {
     "name": "stdout",
     "output_type": "stream",
     "text": [
      "[CV 2/3; 107/180] END bootstrap=True, criterion=entropy, max_depth=8, max_features=auto, min_samples_leaf=10, min_samples_split=4, n_estimators=200;, score=0.513 total time=   2.7s\n",
      "[CV 3/3; 107/180] START bootstrap=True, criterion=entropy, max_depth=8, max_features=auto, min_samples_leaf=10, min_samples_split=4, n_estimators=200\n"
     ]
    },
    {
     "name": "stderr",
     "output_type": "stream",
     "text": [
      "d:\\googledrive\\wirelessmotionintelligence\\2022-knu-wmi\\venv\\lib\\site-packages\\sklearn\\model_selection\\_validation.py:680: DataConversionWarning: A column-vector y was passed when a 1d array was expected. Please change the shape of y to (n_samples,), for example using ravel().\n",
      "  estimator.fit(X_train, y_train, **fit_params)\n"
     ]
    },
    {
     "name": "stdout",
     "output_type": "stream",
     "text": [
      "[CV 3/3; 107/180] END bootstrap=True, criterion=entropy, max_depth=8, max_features=auto, min_samples_leaf=10, min_samples_split=4, n_estimators=200;, score=0.564 total time=   2.8s\n",
      "[CV 1/3; 108/180] START bootstrap=True, criterion=entropy, max_depth=8, max_features=auto, min_samples_leaf=10, min_samples_split=4, n_estimators=300\n"
     ]
    },
    {
     "name": "stderr",
     "output_type": "stream",
     "text": [
      "d:\\googledrive\\wirelessmotionintelligence\\2022-knu-wmi\\venv\\lib\\site-packages\\sklearn\\model_selection\\_validation.py:680: DataConversionWarning: A column-vector y was passed when a 1d array was expected. Please change the shape of y to (n_samples,), for example using ravel().\n",
      "  estimator.fit(X_train, y_train, **fit_params)\n"
     ]
    },
    {
     "name": "stdout",
     "output_type": "stream",
     "text": [
      "[CV 1/3; 108/180] END bootstrap=True, criterion=entropy, max_depth=8, max_features=auto, min_samples_leaf=10, min_samples_split=4, n_estimators=300;, score=0.500 total time=   4.0s\n",
      "[CV 2/3; 108/180] START bootstrap=True, criterion=entropy, max_depth=8, max_features=auto, min_samples_leaf=10, min_samples_split=4, n_estimators=300\n"
     ]
    },
    {
     "name": "stderr",
     "output_type": "stream",
     "text": [
      "d:\\googledrive\\wirelessmotionintelligence\\2022-knu-wmi\\venv\\lib\\site-packages\\sklearn\\model_selection\\_validation.py:680: DataConversionWarning: A column-vector y was passed when a 1d array was expected. Please change the shape of y to (n_samples,), for example using ravel().\n",
      "  estimator.fit(X_train, y_train, **fit_params)\n"
     ]
    },
    {
     "name": "stdout",
     "output_type": "stream",
     "text": [
      "[CV 2/3; 108/180] END bootstrap=True, criterion=entropy, max_depth=8, max_features=auto, min_samples_leaf=10, min_samples_split=4, n_estimators=300;, score=0.513 total time=   3.8s\n",
      "[CV 3/3; 108/180] START bootstrap=True, criterion=entropy, max_depth=8, max_features=auto, min_samples_leaf=10, min_samples_split=4, n_estimators=300\n"
     ]
    },
    {
     "name": "stderr",
     "output_type": "stream",
     "text": [
      "d:\\googledrive\\wirelessmotionintelligence\\2022-knu-wmi\\venv\\lib\\site-packages\\sklearn\\model_selection\\_validation.py:680: DataConversionWarning: A column-vector y was passed when a 1d array was expected. Please change the shape of y to (n_samples,), for example using ravel().\n",
      "  estimator.fit(X_train, y_train, **fit_params)\n"
     ]
    },
    {
     "name": "stdout",
     "output_type": "stream",
     "text": [
      "[CV 3/3; 108/180] END bootstrap=True, criterion=entropy, max_depth=8, max_features=auto, min_samples_leaf=10, min_samples_split=4, n_estimators=300;, score=0.462 total time=   4.2s\n",
      "[CV 1/3; 109/180] START bootstrap=True, criterion=entropy, max_depth=8, max_features=auto, min_samples_leaf=10, min_samples_split=10, n_estimators=50\n"
     ]
    },
    {
     "name": "stderr",
     "output_type": "stream",
     "text": [
      "d:\\googledrive\\wirelessmotionintelligence\\2022-knu-wmi\\venv\\lib\\site-packages\\sklearn\\model_selection\\_validation.py:680: DataConversionWarning: A column-vector y was passed when a 1d array was expected. Please change the shape of y to (n_samples,), for example using ravel().\n",
      "  estimator.fit(X_train, y_train, **fit_params)\n"
     ]
    },
    {
     "name": "stdout",
     "output_type": "stream",
     "text": [
      "[CV 1/3; 109/180] END bootstrap=True, criterion=entropy, max_depth=8, max_features=auto, min_samples_leaf=10, min_samples_split=10, n_estimators=50;, score=0.600 total time=   1.1s\n",
      "[CV 2/3; 109/180] START bootstrap=True, criterion=entropy, max_depth=8, max_features=auto, min_samples_leaf=10, min_samples_split=10, n_estimators=50\n"
     ]
    },
    {
     "name": "stderr",
     "output_type": "stream",
     "text": [
      "d:\\googledrive\\wirelessmotionintelligence\\2022-knu-wmi\\venv\\lib\\site-packages\\sklearn\\model_selection\\_validation.py:680: DataConversionWarning: A column-vector y was passed when a 1d array was expected. Please change the shape of y to (n_samples,), for example using ravel().\n",
      "  estimator.fit(X_train, y_train, **fit_params)\n"
     ]
    },
    {
     "name": "stdout",
     "output_type": "stream",
     "text": [
      "[CV 2/3; 109/180] END bootstrap=True, criterion=entropy, max_depth=8, max_features=auto, min_samples_leaf=10, min_samples_split=10, n_estimators=50;, score=0.564 total time=   1.1s\n",
      "[CV 3/3; 109/180] START bootstrap=True, criterion=entropy, max_depth=8, max_features=auto, min_samples_leaf=10, min_samples_split=10, n_estimators=50\n"
     ]
    },
    {
     "name": "stderr",
     "output_type": "stream",
     "text": [
      "d:\\googledrive\\wirelessmotionintelligence\\2022-knu-wmi\\venv\\lib\\site-packages\\sklearn\\model_selection\\_validation.py:680: DataConversionWarning: A column-vector y was passed when a 1d array was expected. Please change the shape of y to (n_samples,), for example using ravel().\n",
      "  estimator.fit(X_train, y_train, **fit_params)\n"
     ]
    },
    {
     "name": "stdout",
     "output_type": "stream",
     "text": [
      "[CV 3/3; 109/180] END bootstrap=True, criterion=entropy, max_depth=8, max_features=auto, min_samples_leaf=10, min_samples_split=10, n_estimators=50;, score=0.590 total time=   1.1s\n",
      "[CV 1/3; 110/180] START bootstrap=True, criterion=entropy, max_depth=8, max_features=auto, min_samples_leaf=10, min_samples_split=10, n_estimators=100\n"
     ]
    },
    {
     "name": "stderr",
     "output_type": "stream",
     "text": [
      "d:\\googledrive\\wirelessmotionintelligence\\2022-knu-wmi\\venv\\lib\\site-packages\\sklearn\\model_selection\\_validation.py:680: DataConversionWarning: A column-vector y was passed when a 1d array was expected. Please change the shape of y to (n_samples,), for example using ravel().\n",
      "  estimator.fit(X_train, y_train, **fit_params)\n"
     ]
    },
    {
     "name": "stdout",
     "output_type": "stream",
     "text": [
      "[CV 1/3; 110/180] END bootstrap=True, criterion=entropy, max_depth=8, max_features=auto, min_samples_leaf=10, min_samples_split=10, n_estimators=100;, score=0.550 total time=   1.6s\n",
      "[CV 2/3; 110/180] START bootstrap=True, criterion=entropy, max_depth=8, max_features=auto, min_samples_leaf=10, min_samples_split=10, n_estimators=100\n"
     ]
    },
    {
     "name": "stderr",
     "output_type": "stream",
     "text": [
      "d:\\googledrive\\wirelessmotionintelligence\\2022-knu-wmi\\venv\\lib\\site-packages\\sklearn\\model_selection\\_validation.py:680: DataConversionWarning: A column-vector y was passed when a 1d array was expected. Please change the shape of y to (n_samples,), for example using ravel().\n",
      "  estimator.fit(X_train, y_train, **fit_params)\n"
     ]
    },
    {
     "name": "stdout",
     "output_type": "stream",
     "text": [
      "[CV 2/3; 110/180] END bootstrap=True, criterion=entropy, max_depth=8, max_features=auto, min_samples_leaf=10, min_samples_split=10, n_estimators=100;, score=0.667 total time=   1.6s\n",
      "[CV 3/3; 110/180] START bootstrap=True, criterion=entropy, max_depth=8, max_features=auto, min_samples_leaf=10, min_samples_split=10, n_estimators=100\n"
     ]
    },
    {
     "name": "stderr",
     "output_type": "stream",
     "text": [
      "d:\\googledrive\\wirelessmotionintelligence\\2022-knu-wmi\\venv\\lib\\site-packages\\sklearn\\model_selection\\_validation.py:680: DataConversionWarning: A column-vector y was passed when a 1d array was expected. Please change the shape of y to (n_samples,), for example using ravel().\n",
      "  estimator.fit(X_train, y_train, **fit_params)\n"
     ]
    },
    {
     "name": "stdout",
     "output_type": "stream",
     "text": [
      "[CV 3/3; 110/180] END bootstrap=True, criterion=entropy, max_depth=8, max_features=auto, min_samples_leaf=10, min_samples_split=10, n_estimators=100;, score=0.590 total time=   1.7s\n",
      "[CV 1/3; 111/180] START bootstrap=True, criterion=entropy, max_depth=8, max_features=auto, min_samples_leaf=10, min_samples_split=10, n_estimators=200\n"
     ]
    },
    {
     "name": "stderr",
     "output_type": "stream",
     "text": [
      "d:\\googledrive\\wirelessmotionintelligence\\2022-knu-wmi\\venv\\lib\\site-packages\\sklearn\\model_selection\\_validation.py:680: DataConversionWarning: A column-vector y was passed when a 1d array was expected. Please change the shape of y to (n_samples,), for example using ravel().\n",
      "  estimator.fit(X_train, y_train, **fit_params)\n"
     ]
    },
    {
     "name": "stdout",
     "output_type": "stream",
     "text": [
      "[CV 1/3; 111/180] END bootstrap=True, criterion=entropy, max_depth=8, max_features=auto, min_samples_leaf=10, min_samples_split=10, n_estimators=200;, score=0.500 total time=   2.6s\n",
      "[CV 2/3; 111/180] START bootstrap=True, criterion=entropy, max_depth=8, max_features=auto, min_samples_leaf=10, min_samples_split=10, n_estimators=200\n"
     ]
    },
    {
     "name": "stderr",
     "output_type": "stream",
     "text": [
      "d:\\googledrive\\wirelessmotionintelligence\\2022-knu-wmi\\venv\\lib\\site-packages\\sklearn\\model_selection\\_validation.py:680: DataConversionWarning: A column-vector y was passed when a 1d array was expected. Please change the shape of y to (n_samples,), for example using ravel().\n",
      "  estimator.fit(X_train, y_train, **fit_params)\n"
     ]
    },
    {
     "name": "stdout",
     "output_type": "stream",
     "text": [
      "[CV 2/3; 111/180] END bootstrap=True, criterion=entropy, max_depth=8, max_features=auto, min_samples_leaf=10, min_samples_split=10, n_estimators=200;, score=0.513 total time=   2.5s\n",
      "[CV 3/3; 111/180] START bootstrap=True, criterion=entropy, max_depth=8, max_features=auto, min_samples_leaf=10, min_samples_split=10, n_estimators=200\n"
     ]
    },
    {
     "name": "stderr",
     "output_type": "stream",
     "text": [
      "d:\\googledrive\\wirelessmotionintelligence\\2022-knu-wmi\\venv\\lib\\site-packages\\sklearn\\model_selection\\_validation.py:680: DataConversionWarning: A column-vector y was passed when a 1d array was expected. Please change the shape of y to (n_samples,), for example using ravel().\n",
      "  estimator.fit(X_train, y_train, **fit_params)\n"
     ]
    },
    {
     "name": "stdout",
     "output_type": "stream",
     "text": [
      "[CV 3/3; 111/180] END bootstrap=True, criterion=entropy, max_depth=8, max_features=auto, min_samples_leaf=10, min_samples_split=10, n_estimators=200;, score=0.564 total time=   2.5s\n",
      "[CV 1/3; 112/180] START bootstrap=True, criterion=entropy, max_depth=8, max_features=auto, min_samples_leaf=10, min_samples_split=10, n_estimators=300\n"
     ]
    },
    {
     "name": "stderr",
     "output_type": "stream",
     "text": [
      "d:\\googledrive\\wirelessmotionintelligence\\2022-knu-wmi\\venv\\lib\\site-packages\\sklearn\\model_selection\\_validation.py:680: DataConversionWarning: A column-vector y was passed when a 1d array was expected. Please change the shape of y to (n_samples,), for example using ravel().\n",
      "  estimator.fit(X_train, y_train, **fit_params)\n"
     ]
    },
    {
     "name": "stdout",
     "output_type": "stream",
     "text": [
      "[CV 1/3; 112/180] END bootstrap=True, criterion=entropy, max_depth=8, max_features=auto, min_samples_leaf=10, min_samples_split=10, n_estimators=300;, score=0.500 total time=   3.5s\n",
      "[CV 2/3; 112/180] START bootstrap=True, criterion=entropy, max_depth=8, max_features=auto, min_samples_leaf=10, min_samples_split=10, n_estimators=300\n"
     ]
    },
    {
     "name": "stderr",
     "output_type": "stream",
     "text": [
      "d:\\googledrive\\wirelessmotionintelligence\\2022-knu-wmi\\venv\\lib\\site-packages\\sklearn\\model_selection\\_validation.py:680: DataConversionWarning: A column-vector y was passed when a 1d array was expected. Please change the shape of y to (n_samples,), for example using ravel().\n",
      "  estimator.fit(X_train, y_train, **fit_params)\n"
     ]
    },
    {
     "name": "stdout",
     "output_type": "stream",
     "text": [
      "[CV 2/3; 112/180] END bootstrap=True, criterion=entropy, max_depth=8, max_features=auto, min_samples_leaf=10, min_samples_split=10, n_estimators=300;, score=0.513 total time=   3.6s\n",
      "[CV 3/3; 112/180] START bootstrap=True, criterion=entropy, max_depth=8, max_features=auto, min_samples_leaf=10, min_samples_split=10, n_estimators=300\n"
     ]
    },
    {
     "name": "stderr",
     "output_type": "stream",
     "text": [
      "d:\\googledrive\\wirelessmotionintelligence\\2022-knu-wmi\\venv\\lib\\site-packages\\sklearn\\model_selection\\_validation.py:680: DataConversionWarning: A column-vector y was passed when a 1d array was expected. Please change the shape of y to (n_samples,), for example using ravel().\n",
      "  estimator.fit(X_train, y_train, **fit_params)\n"
     ]
    },
    {
     "name": "stdout",
     "output_type": "stream",
     "text": [
      "[CV 3/3; 112/180] END bootstrap=True, criterion=entropy, max_depth=8, max_features=auto, min_samples_leaf=10, min_samples_split=10, n_estimators=300;, score=0.462 total time=   3.6s\n",
      "[CV 1/3; 113/180] START bootstrap=True, criterion=entropy, max_depth=8, max_features=auto, min_samples_leaf=10, min_samples_split=12, n_estimators=50\n"
     ]
    },
    {
     "name": "stderr",
     "output_type": "stream",
     "text": [
      "d:\\googledrive\\wirelessmotionintelligence\\2022-knu-wmi\\venv\\lib\\site-packages\\sklearn\\model_selection\\_validation.py:680: DataConversionWarning: A column-vector y was passed when a 1d array was expected. Please change the shape of y to (n_samples,), for example using ravel().\n",
      "  estimator.fit(X_train, y_train, **fit_params)\n"
     ]
    },
    {
     "name": "stdout",
     "output_type": "stream",
     "text": [
      "[CV 1/3; 113/180] END bootstrap=True, criterion=entropy, max_depth=8, max_features=auto, min_samples_leaf=10, min_samples_split=12, n_estimators=50;, score=0.600 total time=   1.1s\n",
      "[CV 2/3; 113/180] START bootstrap=True, criterion=entropy, max_depth=8, max_features=auto, min_samples_leaf=10, min_samples_split=12, n_estimators=50\n"
     ]
    },
    {
     "name": "stderr",
     "output_type": "stream",
     "text": [
      "d:\\googledrive\\wirelessmotionintelligence\\2022-knu-wmi\\venv\\lib\\site-packages\\sklearn\\model_selection\\_validation.py:680: DataConversionWarning: A column-vector y was passed when a 1d array was expected. Please change the shape of y to (n_samples,), for example using ravel().\n",
      "  estimator.fit(X_train, y_train, **fit_params)\n"
     ]
    },
    {
     "name": "stdout",
     "output_type": "stream",
     "text": [
      "[CV 2/3; 113/180] END bootstrap=True, criterion=entropy, max_depth=8, max_features=auto, min_samples_leaf=10, min_samples_split=12, n_estimators=50;, score=0.564 total time=   1.1s\n",
      "[CV 3/3; 113/180] START bootstrap=True, criterion=entropy, max_depth=8, max_features=auto, min_samples_leaf=10, min_samples_split=12, n_estimators=50\n"
     ]
    },
    {
     "name": "stderr",
     "output_type": "stream",
     "text": [
      "d:\\googledrive\\wirelessmotionintelligence\\2022-knu-wmi\\venv\\lib\\site-packages\\sklearn\\model_selection\\_validation.py:680: DataConversionWarning: A column-vector y was passed when a 1d array was expected. Please change the shape of y to (n_samples,), for example using ravel().\n",
      "  estimator.fit(X_train, y_train, **fit_params)\n"
     ]
    },
    {
     "name": "stdout",
     "output_type": "stream",
     "text": [
      "[CV 3/3; 113/180] END bootstrap=True, criterion=entropy, max_depth=8, max_features=auto, min_samples_leaf=10, min_samples_split=12, n_estimators=50;, score=0.590 total time=   1.1s\n",
      "[CV 1/3; 114/180] START bootstrap=True, criterion=entropy, max_depth=8, max_features=auto, min_samples_leaf=10, min_samples_split=12, n_estimators=100\n"
     ]
    },
    {
     "name": "stderr",
     "output_type": "stream",
     "text": [
      "d:\\googledrive\\wirelessmotionintelligence\\2022-knu-wmi\\venv\\lib\\site-packages\\sklearn\\model_selection\\_validation.py:680: DataConversionWarning: A column-vector y was passed when a 1d array was expected. Please change the shape of y to (n_samples,), for example using ravel().\n",
      "  estimator.fit(X_train, y_train, **fit_params)\n"
     ]
    },
    {
     "name": "stdout",
     "output_type": "stream",
     "text": [
      "[CV 1/3; 114/180] END bootstrap=True, criterion=entropy, max_depth=8, max_features=auto, min_samples_leaf=10, min_samples_split=12, n_estimators=100;, score=0.550 total time=   1.6s\n",
      "[CV 2/3; 114/180] START bootstrap=True, criterion=entropy, max_depth=8, max_features=auto, min_samples_leaf=10, min_samples_split=12, n_estimators=100\n"
     ]
    },
    {
     "name": "stderr",
     "output_type": "stream",
     "text": [
      "d:\\googledrive\\wirelessmotionintelligence\\2022-knu-wmi\\venv\\lib\\site-packages\\sklearn\\model_selection\\_validation.py:680: DataConversionWarning: A column-vector y was passed when a 1d array was expected. Please change the shape of y to (n_samples,), for example using ravel().\n",
      "  estimator.fit(X_train, y_train, **fit_params)\n"
     ]
    },
    {
     "name": "stdout",
     "output_type": "stream",
     "text": [
      "[CV 2/3; 114/180] END bootstrap=True, criterion=entropy, max_depth=8, max_features=auto, min_samples_leaf=10, min_samples_split=12, n_estimators=100;, score=0.667 total time=   1.7s\n",
      "[CV 3/3; 114/180] START bootstrap=True, criterion=entropy, max_depth=8, max_features=auto, min_samples_leaf=10, min_samples_split=12, n_estimators=100\n"
     ]
    },
    {
     "name": "stderr",
     "output_type": "stream",
     "text": [
      "d:\\googledrive\\wirelessmotionintelligence\\2022-knu-wmi\\venv\\lib\\site-packages\\sklearn\\model_selection\\_validation.py:680: DataConversionWarning: A column-vector y was passed when a 1d array was expected. Please change the shape of y to (n_samples,), for example using ravel().\n",
      "  estimator.fit(X_train, y_train, **fit_params)\n"
     ]
    },
    {
     "name": "stdout",
     "output_type": "stream",
     "text": [
      "[CV 3/3; 114/180] END bootstrap=True, criterion=entropy, max_depth=8, max_features=auto, min_samples_leaf=10, min_samples_split=12, n_estimators=100;, score=0.590 total time=   1.9s\n",
      "[CV 1/3; 115/180] START bootstrap=True, criterion=entropy, max_depth=8, max_features=auto, min_samples_leaf=10, min_samples_split=12, n_estimators=200\n"
     ]
    },
    {
     "name": "stderr",
     "output_type": "stream",
     "text": [
      "d:\\googledrive\\wirelessmotionintelligence\\2022-knu-wmi\\venv\\lib\\site-packages\\sklearn\\model_selection\\_validation.py:680: DataConversionWarning: A column-vector y was passed when a 1d array was expected. Please change the shape of y to (n_samples,), for example using ravel().\n",
      "  estimator.fit(X_train, y_train, **fit_params)\n"
     ]
    },
    {
     "name": "stdout",
     "output_type": "stream",
     "text": [
      "[CV 1/3; 115/180] END bootstrap=True, criterion=entropy, max_depth=8, max_features=auto, min_samples_leaf=10, min_samples_split=12, n_estimators=200;, score=0.500 total time=   2.8s\n",
      "[CV 2/3; 115/180] START bootstrap=True, criterion=entropy, max_depth=8, max_features=auto, min_samples_leaf=10, min_samples_split=12, n_estimators=200\n"
     ]
    },
    {
     "name": "stderr",
     "output_type": "stream",
     "text": [
      "d:\\googledrive\\wirelessmotionintelligence\\2022-knu-wmi\\venv\\lib\\site-packages\\sklearn\\model_selection\\_validation.py:680: DataConversionWarning: A column-vector y was passed when a 1d array was expected. Please change the shape of y to (n_samples,), for example using ravel().\n",
      "  estimator.fit(X_train, y_train, **fit_params)\n"
     ]
    },
    {
     "name": "stdout",
     "output_type": "stream",
     "text": [
      "[CV 2/3; 115/180] END bootstrap=True, criterion=entropy, max_depth=8, max_features=auto, min_samples_leaf=10, min_samples_split=12, n_estimators=200;, score=0.513 total time=   2.8s\n",
      "[CV 3/3; 115/180] START bootstrap=True, criterion=entropy, max_depth=8, max_features=auto, min_samples_leaf=10, min_samples_split=12, n_estimators=200\n"
     ]
    },
    {
     "name": "stderr",
     "output_type": "stream",
     "text": [
      "d:\\googledrive\\wirelessmotionintelligence\\2022-knu-wmi\\venv\\lib\\site-packages\\sklearn\\model_selection\\_validation.py:680: DataConversionWarning: A column-vector y was passed when a 1d array was expected. Please change the shape of y to (n_samples,), for example using ravel().\n",
      "  estimator.fit(X_train, y_train, **fit_params)\n"
     ]
    },
    {
     "name": "stdout",
     "output_type": "stream",
     "text": [
      "[CV 3/3; 115/180] END bootstrap=True, criterion=entropy, max_depth=8, max_features=auto, min_samples_leaf=10, min_samples_split=12, n_estimators=200;, score=0.564 total time=   2.5s\n",
      "[CV 1/3; 116/180] START bootstrap=True, criterion=entropy, max_depth=8, max_features=auto, min_samples_leaf=10, min_samples_split=12, n_estimators=300\n"
     ]
    },
    {
     "name": "stderr",
     "output_type": "stream",
     "text": [
      "d:\\googledrive\\wirelessmotionintelligence\\2022-knu-wmi\\venv\\lib\\site-packages\\sklearn\\model_selection\\_validation.py:680: DataConversionWarning: A column-vector y was passed when a 1d array was expected. Please change the shape of y to (n_samples,), for example using ravel().\n",
      "  estimator.fit(X_train, y_train, **fit_params)\n"
     ]
    },
    {
     "name": "stdout",
     "output_type": "stream",
     "text": [
      "[CV 1/3; 116/180] END bootstrap=True, criterion=entropy, max_depth=8, max_features=auto, min_samples_leaf=10, min_samples_split=12, n_estimators=300;, score=0.500 total time=   3.5s\n",
      "[CV 2/3; 116/180] START bootstrap=True, criterion=entropy, max_depth=8, max_features=auto, min_samples_leaf=10, min_samples_split=12, n_estimators=300\n"
     ]
    },
    {
     "name": "stderr",
     "output_type": "stream",
     "text": [
      "d:\\googledrive\\wirelessmotionintelligence\\2022-knu-wmi\\venv\\lib\\site-packages\\sklearn\\model_selection\\_validation.py:680: DataConversionWarning: A column-vector y was passed when a 1d array was expected. Please change the shape of y to (n_samples,), for example using ravel().\n",
      "  estimator.fit(X_train, y_train, **fit_params)\n"
     ]
    },
    {
     "name": "stdout",
     "output_type": "stream",
     "text": [
      "[CV 2/3; 116/180] END bootstrap=True, criterion=entropy, max_depth=8, max_features=auto, min_samples_leaf=10, min_samples_split=12, n_estimators=300;, score=0.513 total time=   3.6s\n",
      "[CV 3/3; 116/180] START bootstrap=True, criterion=entropy, max_depth=8, max_features=auto, min_samples_leaf=10, min_samples_split=12, n_estimators=300\n"
     ]
    },
    {
     "name": "stderr",
     "output_type": "stream",
     "text": [
      "d:\\googledrive\\wirelessmotionintelligence\\2022-knu-wmi\\venv\\lib\\site-packages\\sklearn\\model_selection\\_validation.py:680: DataConversionWarning: A column-vector y was passed when a 1d array was expected. Please change the shape of y to (n_samples,), for example using ravel().\n",
      "  estimator.fit(X_train, y_train, **fit_params)\n"
     ]
    },
    {
     "name": "stdout",
     "output_type": "stream",
     "text": [
      "[CV 3/3; 116/180] END bootstrap=True, criterion=entropy, max_depth=8, max_features=auto, min_samples_leaf=10, min_samples_split=12, n_estimators=300;, score=0.462 total time=   3.6s\n",
      "[CV 1/3; 117/180] START bootstrap=True, criterion=entropy, max_depth=8, max_features=auto, min_samples_leaf=10, min_samples_split=16, n_estimators=50\n"
     ]
    },
    {
     "name": "stderr",
     "output_type": "stream",
     "text": [
      "d:\\googledrive\\wirelessmotionintelligence\\2022-knu-wmi\\venv\\lib\\site-packages\\sklearn\\model_selection\\_validation.py:680: DataConversionWarning: A column-vector y was passed when a 1d array was expected. Please change the shape of y to (n_samples,), for example using ravel().\n",
      "  estimator.fit(X_train, y_train, **fit_params)\n"
     ]
    },
    {
     "name": "stdout",
     "output_type": "stream",
     "text": [
      "[CV 1/3; 117/180] END bootstrap=True, criterion=entropy, max_depth=8, max_features=auto, min_samples_leaf=10, min_samples_split=16, n_estimators=50;, score=0.600 total time=   1.1s\n",
      "[CV 2/3; 117/180] START bootstrap=True, criterion=entropy, max_depth=8, max_features=auto, min_samples_leaf=10, min_samples_split=16, n_estimators=50\n"
     ]
    },
    {
     "name": "stderr",
     "output_type": "stream",
     "text": [
      "d:\\googledrive\\wirelessmotionintelligence\\2022-knu-wmi\\venv\\lib\\site-packages\\sklearn\\model_selection\\_validation.py:680: DataConversionWarning: A column-vector y was passed when a 1d array was expected. Please change the shape of y to (n_samples,), for example using ravel().\n",
      "  estimator.fit(X_train, y_train, **fit_params)\n"
     ]
    },
    {
     "name": "stdout",
     "output_type": "stream",
     "text": [
      "[CV 2/3; 117/180] END bootstrap=True, criterion=entropy, max_depth=8, max_features=auto, min_samples_leaf=10, min_samples_split=16, n_estimators=50;, score=0.564 total time=   1.1s\n",
      "[CV 3/3; 117/180] START bootstrap=True, criterion=entropy, max_depth=8, max_features=auto, min_samples_leaf=10, min_samples_split=16, n_estimators=50\n"
     ]
    },
    {
     "name": "stderr",
     "output_type": "stream",
     "text": [
      "d:\\googledrive\\wirelessmotionintelligence\\2022-knu-wmi\\venv\\lib\\site-packages\\sklearn\\model_selection\\_validation.py:680: DataConversionWarning: A column-vector y was passed when a 1d array was expected. Please change the shape of y to (n_samples,), for example using ravel().\n",
      "  estimator.fit(X_train, y_train, **fit_params)\n"
     ]
    },
    {
     "name": "stdout",
     "output_type": "stream",
     "text": [
      "[CV 3/3; 117/180] END bootstrap=True, criterion=entropy, max_depth=8, max_features=auto, min_samples_leaf=10, min_samples_split=16, n_estimators=50;, score=0.590 total time=   1.1s\n",
      "[CV 1/3; 118/180] START bootstrap=True, criterion=entropy, max_depth=8, max_features=auto, min_samples_leaf=10, min_samples_split=16, n_estimators=100\n"
     ]
    },
    {
     "name": "stderr",
     "output_type": "stream",
     "text": [
      "d:\\googledrive\\wirelessmotionintelligence\\2022-knu-wmi\\venv\\lib\\site-packages\\sklearn\\model_selection\\_validation.py:680: DataConversionWarning: A column-vector y was passed when a 1d array was expected. Please change the shape of y to (n_samples,), for example using ravel().\n",
      "  estimator.fit(X_train, y_train, **fit_params)\n"
     ]
    },
    {
     "name": "stdout",
     "output_type": "stream",
     "text": [
      "[CV 1/3; 118/180] END bootstrap=True, criterion=entropy, max_depth=8, max_features=auto, min_samples_leaf=10, min_samples_split=16, n_estimators=100;, score=0.550 total time=   1.6s\n",
      "[CV 2/3; 118/180] START bootstrap=True, criterion=entropy, max_depth=8, max_features=auto, min_samples_leaf=10, min_samples_split=16, n_estimators=100\n"
     ]
    },
    {
     "name": "stderr",
     "output_type": "stream",
     "text": [
      "d:\\googledrive\\wirelessmotionintelligence\\2022-knu-wmi\\venv\\lib\\site-packages\\sklearn\\model_selection\\_validation.py:680: DataConversionWarning: A column-vector y was passed when a 1d array was expected. Please change the shape of y to (n_samples,), for example using ravel().\n",
      "  estimator.fit(X_train, y_train, **fit_params)\n"
     ]
    },
    {
     "name": "stdout",
     "output_type": "stream",
     "text": [
      "[CV 2/3; 118/180] END bootstrap=True, criterion=entropy, max_depth=8, max_features=auto, min_samples_leaf=10, min_samples_split=16, n_estimators=100;, score=0.667 total time=   1.6s\n",
      "[CV 3/3; 118/180] START bootstrap=True, criterion=entropy, max_depth=8, max_features=auto, min_samples_leaf=10, min_samples_split=16, n_estimators=100\n"
     ]
    },
    {
     "name": "stderr",
     "output_type": "stream",
     "text": [
      "d:\\googledrive\\wirelessmotionintelligence\\2022-knu-wmi\\venv\\lib\\site-packages\\sklearn\\model_selection\\_validation.py:680: DataConversionWarning: A column-vector y was passed when a 1d array was expected. Please change the shape of y to (n_samples,), for example using ravel().\n",
      "  estimator.fit(X_train, y_train, **fit_params)\n"
     ]
    },
    {
     "name": "stdout",
     "output_type": "stream",
     "text": [
      "[CV 3/3; 118/180] END bootstrap=True, criterion=entropy, max_depth=8, max_features=auto, min_samples_leaf=10, min_samples_split=16, n_estimators=100;, score=0.590 total time=   1.6s\n",
      "[CV 1/3; 119/180] START bootstrap=True, criterion=entropy, max_depth=8, max_features=auto, min_samples_leaf=10, min_samples_split=16, n_estimators=200\n"
     ]
    },
    {
     "name": "stderr",
     "output_type": "stream",
     "text": [
      "d:\\googledrive\\wirelessmotionintelligence\\2022-knu-wmi\\venv\\lib\\site-packages\\sklearn\\model_selection\\_validation.py:680: DataConversionWarning: A column-vector y was passed when a 1d array was expected. Please change the shape of y to (n_samples,), for example using ravel().\n",
      "  estimator.fit(X_train, y_train, **fit_params)\n"
     ]
    },
    {
     "name": "stdout",
     "output_type": "stream",
     "text": [
      "[CV 1/3; 119/180] END bootstrap=True, criterion=entropy, max_depth=8, max_features=auto, min_samples_leaf=10, min_samples_split=16, n_estimators=200;, score=0.500 total time=   2.5s\n",
      "[CV 2/3; 119/180] START bootstrap=True, criterion=entropy, max_depth=8, max_features=auto, min_samples_leaf=10, min_samples_split=16, n_estimators=200\n"
     ]
    },
    {
     "name": "stderr",
     "output_type": "stream",
     "text": [
      "d:\\googledrive\\wirelessmotionintelligence\\2022-knu-wmi\\venv\\lib\\site-packages\\sklearn\\model_selection\\_validation.py:680: DataConversionWarning: A column-vector y was passed when a 1d array was expected. Please change the shape of y to (n_samples,), for example using ravel().\n",
      "  estimator.fit(X_train, y_train, **fit_params)\n"
     ]
    },
    {
     "name": "stdout",
     "output_type": "stream",
     "text": [
      "[CV 2/3; 119/180] END bootstrap=True, criterion=entropy, max_depth=8, max_features=auto, min_samples_leaf=10, min_samples_split=16, n_estimators=200;, score=0.513 total time=   2.5s\n",
      "[CV 3/3; 119/180] START bootstrap=True, criterion=entropy, max_depth=8, max_features=auto, min_samples_leaf=10, min_samples_split=16, n_estimators=200\n"
     ]
    },
    {
     "name": "stderr",
     "output_type": "stream",
     "text": [
      "d:\\googledrive\\wirelessmotionintelligence\\2022-knu-wmi\\venv\\lib\\site-packages\\sklearn\\model_selection\\_validation.py:680: DataConversionWarning: A column-vector y was passed when a 1d array was expected. Please change the shape of y to (n_samples,), for example using ravel().\n",
      "  estimator.fit(X_train, y_train, **fit_params)\n"
     ]
    },
    {
     "name": "stdout",
     "output_type": "stream",
     "text": [
      "[CV 3/3; 119/180] END bootstrap=True, criterion=entropy, max_depth=8, max_features=auto, min_samples_leaf=10, min_samples_split=16, n_estimators=200;, score=0.564 total time=   2.5s\n",
      "[CV 1/3; 120/180] START bootstrap=True, criterion=entropy, max_depth=8, max_features=auto, min_samples_leaf=10, min_samples_split=16, n_estimators=300\n"
     ]
    },
    {
     "name": "stderr",
     "output_type": "stream",
     "text": [
      "d:\\googledrive\\wirelessmotionintelligence\\2022-knu-wmi\\venv\\lib\\site-packages\\sklearn\\model_selection\\_validation.py:680: DataConversionWarning: A column-vector y was passed when a 1d array was expected. Please change the shape of y to (n_samples,), for example using ravel().\n",
      "  estimator.fit(X_train, y_train, **fit_params)\n"
     ]
    },
    {
     "name": "stdout",
     "output_type": "stream",
     "text": [
      "[CV 1/3; 120/180] END bootstrap=True, criterion=entropy, max_depth=8, max_features=auto, min_samples_leaf=10, min_samples_split=16, n_estimators=300;, score=0.500 total time=   3.6s\n",
      "[CV 2/3; 120/180] START bootstrap=True, criterion=entropy, max_depth=8, max_features=auto, min_samples_leaf=10, min_samples_split=16, n_estimators=300\n"
     ]
    },
    {
     "name": "stderr",
     "output_type": "stream",
     "text": [
      "d:\\googledrive\\wirelessmotionintelligence\\2022-knu-wmi\\venv\\lib\\site-packages\\sklearn\\model_selection\\_validation.py:680: DataConversionWarning: A column-vector y was passed when a 1d array was expected. Please change the shape of y to (n_samples,), for example using ravel().\n",
      "  estimator.fit(X_train, y_train, **fit_params)\n"
     ]
    },
    {
     "name": "stdout",
     "output_type": "stream",
     "text": [
      "[CV 2/3; 120/180] END bootstrap=True, criterion=entropy, max_depth=8, max_features=auto, min_samples_leaf=10, min_samples_split=16, n_estimators=300;, score=0.513 total time=   3.6s\n",
      "[CV 3/3; 120/180] START bootstrap=True, criterion=entropy, max_depth=8, max_features=auto, min_samples_leaf=10, min_samples_split=16, n_estimators=300\n"
     ]
    },
    {
     "name": "stderr",
     "output_type": "stream",
     "text": [
      "d:\\googledrive\\wirelessmotionintelligence\\2022-knu-wmi\\venv\\lib\\site-packages\\sklearn\\model_selection\\_validation.py:680: DataConversionWarning: A column-vector y was passed when a 1d array was expected. Please change the shape of y to (n_samples,), for example using ravel().\n",
      "  estimator.fit(X_train, y_train, **fit_params)\n"
     ]
    },
    {
     "name": "stdout",
     "output_type": "stream",
     "text": [
      "[CV 3/3; 120/180] END bootstrap=True, criterion=entropy, max_depth=8, max_features=auto, min_samples_leaf=10, min_samples_split=16, n_estimators=300;, score=0.462 total time=   3.6s\n",
      "[CV 1/3; 121/180] START bootstrap=True, criterion=entropy, max_depth=10, max_features=auto, min_samples_leaf=1, min_samples_split=2, n_estimators=50\n"
     ]
    },
    {
     "name": "stderr",
     "output_type": "stream",
     "text": [
      "d:\\googledrive\\wirelessmotionintelligence\\2022-knu-wmi\\venv\\lib\\site-packages\\sklearn\\model_selection\\_validation.py:680: DataConversionWarning: A column-vector y was passed when a 1d array was expected. Please change the shape of y to (n_samples,), for example using ravel().\n",
      "  estimator.fit(X_train, y_train, **fit_params)\n"
     ]
    },
    {
     "name": "stdout",
     "output_type": "stream",
     "text": [
      "[CV 1/3; 121/180] END bootstrap=True, criterion=entropy, max_depth=10, max_features=auto, min_samples_leaf=1, min_samples_split=2, n_estimators=50;, score=0.625 total time=   1.1s\n",
      "[CV 2/3; 121/180] START bootstrap=True, criterion=entropy, max_depth=10, max_features=auto, min_samples_leaf=1, min_samples_split=2, n_estimators=50\n"
     ]
    },
    {
     "name": "stderr",
     "output_type": "stream",
     "text": [
      "d:\\googledrive\\wirelessmotionintelligence\\2022-knu-wmi\\venv\\lib\\site-packages\\sklearn\\model_selection\\_validation.py:680: DataConversionWarning: A column-vector y was passed when a 1d array was expected. Please change the shape of y to (n_samples,), for example using ravel().\n",
      "  estimator.fit(X_train, y_train, **fit_params)\n"
     ]
    },
    {
     "name": "stdout",
     "output_type": "stream",
     "text": [
      "[CV 2/3; 121/180] END bootstrap=True, criterion=entropy, max_depth=10, max_features=auto, min_samples_leaf=1, min_samples_split=2, n_estimators=50;, score=0.538 total time=   1.1s\n",
      "[CV 3/3; 121/180] START bootstrap=True, criterion=entropy, max_depth=10, max_features=auto, min_samples_leaf=1, min_samples_split=2, n_estimators=50\n"
     ]
    },
    {
     "name": "stderr",
     "output_type": "stream",
     "text": [
      "d:\\googledrive\\wirelessmotionintelligence\\2022-knu-wmi\\venv\\lib\\site-packages\\sklearn\\model_selection\\_validation.py:680: DataConversionWarning: A column-vector y was passed when a 1d array was expected. Please change the shape of y to (n_samples,), for example using ravel().\n",
      "  estimator.fit(X_train, y_train, **fit_params)\n"
     ]
    },
    {
     "name": "stdout",
     "output_type": "stream",
     "text": [
      "[CV 3/3; 121/180] END bootstrap=True, criterion=entropy, max_depth=10, max_features=auto, min_samples_leaf=1, min_samples_split=2, n_estimators=50;, score=0.538 total time=   1.1s\n",
      "[CV 1/3; 122/180] START bootstrap=True, criterion=entropy, max_depth=10, max_features=auto, min_samples_leaf=1, min_samples_split=2, n_estimators=100\n"
     ]
    },
    {
     "name": "stderr",
     "output_type": "stream",
     "text": [
      "d:\\googledrive\\wirelessmotionintelligence\\2022-knu-wmi\\venv\\lib\\site-packages\\sklearn\\model_selection\\_validation.py:680: DataConversionWarning: A column-vector y was passed when a 1d array was expected. Please change the shape of y to (n_samples,), for example using ravel().\n",
      "  estimator.fit(X_train, y_train, **fit_params)\n"
     ]
    },
    {
     "name": "stdout",
     "output_type": "stream",
     "text": [
      "[CV 1/3; 122/180] END bootstrap=True, criterion=entropy, max_depth=10, max_features=auto, min_samples_leaf=1, min_samples_split=2, n_estimators=100;, score=0.600 total time=   1.6s\n",
      "[CV 2/3; 122/180] START bootstrap=True, criterion=entropy, max_depth=10, max_features=auto, min_samples_leaf=1, min_samples_split=2, n_estimators=100\n"
     ]
    },
    {
     "name": "stderr",
     "output_type": "stream",
     "text": [
      "d:\\googledrive\\wirelessmotionintelligence\\2022-knu-wmi\\venv\\lib\\site-packages\\sklearn\\model_selection\\_validation.py:680: DataConversionWarning: A column-vector y was passed when a 1d array was expected. Please change the shape of y to (n_samples,), for example using ravel().\n",
      "  estimator.fit(X_train, y_train, **fit_params)\n"
     ]
    },
    {
     "name": "stdout",
     "output_type": "stream",
     "text": [
      "[CV 2/3; 122/180] END bootstrap=True, criterion=entropy, max_depth=10, max_features=auto, min_samples_leaf=1, min_samples_split=2, n_estimators=100;, score=0.641 total time=   1.7s\n",
      "[CV 3/3; 122/180] START bootstrap=True, criterion=entropy, max_depth=10, max_features=auto, min_samples_leaf=1, min_samples_split=2, n_estimators=100\n"
     ]
    },
    {
     "name": "stderr",
     "output_type": "stream",
     "text": [
      "d:\\googledrive\\wirelessmotionintelligence\\2022-knu-wmi\\venv\\lib\\site-packages\\sklearn\\model_selection\\_validation.py:680: DataConversionWarning: A column-vector y was passed when a 1d array was expected. Please change the shape of y to (n_samples,), for example using ravel().\n",
      "  estimator.fit(X_train, y_train, **fit_params)\n"
     ]
    },
    {
     "name": "stdout",
     "output_type": "stream",
     "text": [
      "[CV 3/3; 122/180] END bootstrap=True, criterion=entropy, max_depth=10, max_features=auto, min_samples_leaf=1, min_samples_split=2, n_estimators=100;, score=0.487 total time=   1.6s\n",
      "[CV 1/3; 123/180] START bootstrap=True, criterion=entropy, max_depth=10, max_features=auto, min_samples_leaf=1, min_samples_split=2, n_estimators=200\n"
     ]
    },
    {
     "name": "stderr",
     "output_type": "stream",
     "text": [
      "d:\\googledrive\\wirelessmotionintelligence\\2022-knu-wmi\\venv\\lib\\site-packages\\sklearn\\model_selection\\_validation.py:680: DataConversionWarning: A column-vector y was passed when a 1d array was expected. Please change the shape of y to (n_samples,), for example using ravel().\n",
      "  estimator.fit(X_train, y_train, **fit_params)\n"
     ]
    },
    {
     "name": "stdout",
     "output_type": "stream",
     "text": [
      "[CV 1/3; 123/180] END bootstrap=True, criterion=entropy, max_depth=10, max_features=auto, min_samples_leaf=1, min_samples_split=2, n_estimators=200;, score=0.500 total time=   2.5s\n",
      "[CV 2/3; 123/180] START bootstrap=True, criterion=entropy, max_depth=10, max_features=auto, min_samples_leaf=1, min_samples_split=2, n_estimators=200\n"
     ]
    },
    {
     "name": "stderr",
     "output_type": "stream",
     "text": [
      "d:\\googledrive\\wirelessmotionintelligence\\2022-knu-wmi\\venv\\lib\\site-packages\\sklearn\\model_selection\\_validation.py:680: DataConversionWarning: A column-vector y was passed when a 1d array was expected. Please change the shape of y to (n_samples,), for example using ravel().\n",
      "  estimator.fit(X_train, y_train, **fit_params)\n"
     ]
    },
    {
     "name": "stdout",
     "output_type": "stream",
     "text": [
      "[CV 2/3; 123/180] END bootstrap=True, criterion=entropy, max_depth=10, max_features=auto, min_samples_leaf=1, min_samples_split=2, n_estimators=200;, score=0.538 total time=   2.7s\n",
      "[CV 3/3; 123/180] START bootstrap=True, criterion=entropy, max_depth=10, max_features=auto, min_samples_leaf=1, min_samples_split=2, n_estimators=200\n"
     ]
    },
    {
     "name": "stderr",
     "output_type": "stream",
     "text": [
      "d:\\googledrive\\wirelessmotionintelligence\\2022-knu-wmi\\venv\\lib\\site-packages\\sklearn\\model_selection\\_validation.py:680: DataConversionWarning: A column-vector y was passed when a 1d array was expected. Please change the shape of y to (n_samples,), for example using ravel().\n",
      "  estimator.fit(X_train, y_train, **fit_params)\n"
     ]
    },
    {
     "name": "stdout",
     "output_type": "stream",
     "text": [
      "[CV 3/3; 123/180] END bootstrap=True, criterion=entropy, max_depth=10, max_features=auto, min_samples_leaf=1, min_samples_split=2, n_estimators=200;, score=0.513 total time=   2.6s\n",
      "[CV 1/3; 124/180] START bootstrap=True, criterion=entropy, max_depth=10, max_features=auto, min_samples_leaf=1, min_samples_split=2, n_estimators=300\n"
     ]
    },
    {
     "name": "stderr",
     "output_type": "stream",
     "text": [
      "d:\\googledrive\\wirelessmotionintelligence\\2022-knu-wmi\\venv\\lib\\site-packages\\sklearn\\model_selection\\_validation.py:680: DataConversionWarning: A column-vector y was passed when a 1d array was expected. Please change the shape of y to (n_samples,), for example using ravel().\n",
      "  estimator.fit(X_train, y_train, **fit_params)\n"
     ]
    },
    {
     "name": "stdout",
     "output_type": "stream",
     "text": [
      "[CV 1/3; 124/180] END bootstrap=True, criterion=entropy, max_depth=10, max_features=auto, min_samples_leaf=1, min_samples_split=2, n_estimators=300;, score=0.525 total time=   3.6s\n",
      "[CV 2/3; 124/180] START bootstrap=True, criterion=entropy, max_depth=10, max_features=auto, min_samples_leaf=1, min_samples_split=2, n_estimators=300\n"
     ]
    },
    {
     "name": "stderr",
     "output_type": "stream",
     "text": [
      "d:\\googledrive\\wirelessmotionintelligence\\2022-knu-wmi\\venv\\lib\\site-packages\\sklearn\\model_selection\\_validation.py:680: DataConversionWarning: A column-vector y was passed when a 1d array was expected. Please change the shape of y to (n_samples,), for example using ravel().\n",
      "  estimator.fit(X_train, y_train, **fit_params)\n"
     ]
    },
    {
     "name": "stdout",
     "output_type": "stream",
     "text": [
      "[CV 2/3; 124/180] END bootstrap=True, criterion=entropy, max_depth=10, max_features=auto, min_samples_leaf=1, min_samples_split=2, n_estimators=300;, score=0.538 total time=   3.7s\n",
      "[CV 3/3; 124/180] START bootstrap=True, criterion=entropy, max_depth=10, max_features=auto, min_samples_leaf=1, min_samples_split=2, n_estimators=300\n"
     ]
    },
    {
     "name": "stderr",
     "output_type": "stream",
     "text": [
      "d:\\googledrive\\wirelessmotionintelligence\\2022-knu-wmi\\venv\\lib\\site-packages\\sklearn\\model_selection\\_validation.py:680: DataConversionWarning: A column-vector y was passed when a 1d array was expected. Please change the shape of y to (n_samples,), for example using ravel().\n",
      "  estimator.fit(X_train, y_train, **fit_params)\n"
     ]
    },
    {
     "name": "stdout",
     "output_type": "stream",
     "text": [
      "[CV 3/3; 124/180] END bootstrap=True, criterion=entropy, max_depth=10, max_features=auto, min_samples_leaf=1, min_samples_split=2, n_estimators=300;, score=0.538 total time=   3.6s\n",
      "[CV 1/3; 125/180] START bootstrap=True, criterion=entropy, max_depth=10, max_features=auto, min_samples_leaf=1, min_samples_split=4, n_estimators=50\n"
     ]
    },
    {
     "name": "stderr",
     "output_type": "stream",
     "text": [
      "d:\\googledrive\\wirelessmotionintelligence\\2022-knu-wmi\\venv\\lib\\site-packages\\sklearn\\model_selection\\_validation.py:680: DataConversionWarning: A column-vector y was passed when a 1d array was expected. Please change the shape of y to (n_samples,), for example using ravel().\n",
      "  estimator.fit(X_train, y_train, **fit_params)\n"
     ]
    },
    {
     "name": "stdout",
     "output_type": "stream",
     "text": [
      "[CV 1/3; 125/180] END bootstrap=True, criterion=entropy, max_depth=10, max_features=auto, min_samples_leaf=1, min_samples_split=4, n_estimators=50;, score=0.600 total time=   1.1s\n",
      "[CV 2/3; 125/180] START bootstrap=True, criterion=entropy, max_depth=10, max_features=auto, min_samples_leaf=1, min_samples_split=4, n_estimators=50\n"
     ]
    },
    {
     "name": "stderr",
     "output_type": "stream",
     "text": [
      "d:\\googledrive\\wirelessmotionintelligence\\2022-knu-wmi\\venv\\lib\\site-packages\\sklearn\\model_selection\\_validation.py:680: DataConversionWarning: A column-vector y was passed when a 1d array was expected. Please change the shape of y to (n_samples,), for example using ravel().\n",
      "  estimator.fit(X_train, y_train, **fit_params)\n"
     ]
    },
    {
     "name": "stdout",
     "output_type": "stream",
     "text": [
      "[CV 2/3; 125/180] END bootstrap=True, criterion=entropy, max_depth=10, max_features=auto, min_samples_leaf=1, min_samples_split=4, n_estimators=50;, score=0.564 total time=   1.1s\n",
      "[CV 3/3; 125/180] START bootstrap=True, criterion=entropy, max_depth=10, max_features=auto, min_samples_leaf=1, min_samples_split=4, n_estimators=50\n"
     ]
    },
    {
     "name": "stderr",
     "output_type": "stream",
     "text": [
      "d:\\googledrive\\wirelessmotionintelligence\\2022-knu-wmi\\venv\\lib\\site-packages\\sklearn\\model_selection\\_validation.py:680: DataConversionWarning: A column-vector y was passed when a 1d array was expected. Please change the shape of y to (n_samples,), for example using ravel().\n",
      "  estimator.fit(X_train, y_train, **fit_params)\n"
     ]
    },
    {
     "name": "stdout",
     "output_type": "stream",
     "text": [
      "[CV 3/3; 125/180] END bootstrap=True, criterion=entropy, max_depth=10, max_features=auto, min_samples_leaf=1, min_samples_split=4, n_estimators=50;, score=0.513 total time=   1.1s\n",
      "[CV 1/3; 126/180] START bootstrap=True, criterion=entropy, max_depth=10, max_features=auto, min_samples_leaf=1, min_samples_split=4, n_estimators=100\n"
     ]
    },
    {
     "name": "stderr",
     "output_type": "stream",
     "text": [
      "d:\\googledrive\\wirelessmotionintelligence\\2022-knu-wmi\\venv\\lib\\site-packages\\sklearn\\model_selection\\_validation.py:680: DataConversionWarning: A column-vector y was passed when a 1d array was expected. Please change the shape of y to (n_samples,), for example using ravel().\n",
      "  estimator.fit(X_train, y_train, **fit_params)\n"
     ]
    },
    {
     "name": "stdout",
     "output_type": "stream",
     "text": [
      "[CV 1/3; 126/180] END bootstrap=True, criterion=entropy, max_depth=10, max_features=auto, min_samples_leaf=1, min_samples_split=4, n_estimators=100;, score=0.550 total time=   1.6s\n",
      "[CV 2/3; 126/180] START bootstrap=True, criterion=entropy, max_depth=10, max_features=auto, min_samples_leaf=1, min_samples_split=4, n_estimators=100\n"
     ]
    },
    {
     "name": "stderr",
     "output_type": "stream",
     "text": [
      "d:\\googledrive\\wirelessmotionintelligence\\2022-knu-wmi\\venv\\lib\\site-packages\\sklearn\\model_selection\\_validation.py:680: DataConversionWarning: A column-vector y was passed when a 1d array was expected. Please change the shape of y to (n_samples,), for example using ravel().\n",
      "  estimator.fit(X_train, y_train, **fit_params)\n"
     ]
    },
    {
     "name": "stdout",
     "output_type": "stream",
     "text": [
      "[CV 2/3; 126/180] END bootstrap=True, criterion=entropy, max_depth=10, max_features=auto, min_samples_leaf=1, min_samples_split=4, n_estimators=100;, score=0.641 total time=   1.6s\n",
      "[CV 3/3; 126/180] START bootstrap=True, criterion=entropy, max_depth=10, max_features=auto, min_samples_leaf=1, min_samples_split=4, n_estimators=100\n"
     ]
    },
    {
     "name": "stderr",
     "output_type": "stream",
     "text": [
      "d:\\googledrive\\wirelessmotionintelligence\\2022-knu-wmi\\venv\\lib\\site-packages\\sklearn\\model_selection\\_validation.py:680: DataConversionWarning: A column-vector y was passed when a 1d array was expected. Please change the shape of y to (n_samples,), for example using ravel().\n",
      "  estimator.fit(X_train, y_train, **fit_params)\n"
     ]
    },
    {
     "name": "stdout",
     "output_type": "stream",
     "text": [
      "[CV 3/3; 126/180] END bootstrap=True, criterion=entropy, max_depth=10, max_features=auto, min_samples_leaf=1, min_samples_split=4, n_estimators=100;, score=0.487 total time=   1.7s\n",
      "[CV 1/3; 127/180] START bootstrap=True, criterion=entropy, max_depth=10, max_features=auto, min_samples_leaf=1, min_samples_split=4, n_estimators=200\n"
     ]
    },
    {
     "name": "stderr",
     "output_type": "stream",
     "text": [
      "d:\\googledrive\\wirelessmotionintelligence\\2022-knu-wmi\\venv\\lib\\site-packages\\sklearn\\model_selection\\_validation.py:680: DataConversionWarning: A column-vector y was passed when a 1d array was expected. Please change the shape of y to (n_samples,), for example using ravel().\n",
      "  estimator.fit(X_train, y_train, **fit_params)\n"
     ]
    },
    {
     "name": "stdout",
     "output_type": "stream",
     "text": [
      "[CV 1/3; 127/180] END bootstrap=True, criterion=entropy, max_depth=10, max_features=auto, min_samples_leaf=1, min_samples_split=4, n_estimators=200;, score=0.500 total time=   2.5s\n",
      "[CV 2/3; 127/180] START bootstrap=True, criterion=entropy, max_depth=10, max_features=auto, min_samples_leaf=1, min_samples_split=4, n_estimators=200\n"
     ]
    },
    {
     "name": "stderr",
     "output_type": "stream",
     "text": [
      "d:\\googledrive\\wirelessmotionintelligence\\2022-knu-wmi\\venv\\lib\\site-packages\\sklearn\\model_selection\\_validation.py:680: DataConversionWarning: A column-vector y was passed when a 1d array was expected. Please change the shape of y to (n_samples,), for example using ravel().\n",
      "  estimator.fit(X_train, y_train, **fit_params)\n"
     ]
    },
    {
     "name": "stdout",
     "output_type": "stream",
     "text": [
      "[CV 2/3; 127/180] END bootstrap=True, criterion=entropy, max_depth=10, max_features=auto, min_samples_leaf=1, min_samples_split=4, n_estimators=200;, score=0.564 total time=   2.6s\n",
      "[CV 3/3; 127/180] START bootstrap=True, criterion=entropy, max_depth=10, max_features=auto, min_samples_leaf=1, min_samples_split=4, n_estimators=200\n"
     ]
    },
    {
     "name": "stderr",
     "output_type": "stream",
     "text": [
      "d:\\googledrive\\wirelessmotionintelligence\\2022-knu-wmi\\venv\\lib\\site-packages\\sklearn\\model_selection\\_validation.py:680: DataConversionWarning: A column-vector y was passed when a 1d array was expected. Please change the shape of y to (n_samples,), for example using ravel().\n",
      "  estimator.fit(X_train, y_train, **fit_params)\n"
     ]
    },
    {
     "name": "stdout",
     "output_type": "stream",
     "text": [
      "[CV 3/3; 127/180] END bootstrap=True, criterion=entropy, max_depth=10, max_features=auto, min_samples_leaf=1, min_samples_split=4, n_estimators=200;, score=0.538 total time=   2.5s\n",
      "[CV 1/3; 128/180] START bootstrap=True, criterion=entropy, max_depth=10, max_features=auto, min_samples_leaf=1, min_samples_split=4, n_estimators=300\n"
     ]
    },
    {
     "name": "stderr",
     "output_type": "stream",
     "text": [
      "d:\\googledrive\\wirelessmotionintelligence\\2022-knu-wmi\\venv\\lib\\site-packages\\sklearn\\model_selection\\_validation.py:680: DataConversionWarning: A column-vector y was passed when a 1d array was expected. Please change the shape of y to (n_samples,), for example using ravel().\n",
      "  estimator.fit(X_train, y_train, **fit_params)\n"
     ]
    },
    {
     "name": "stdout",
     "output_type": "stream",
     "text": [
      "[CV 1/3; 128/180] END bootstrap=True, criterion=entropy, max_depth=10, max_features=auto, min_samples_leaf=1, min_samples_split=4, n_estimators=300;, score=0.500 total time=   3.6s\n",
      "[CV 2/3; 128/180] START bootstrap=True, criterion=entropy, max_depth=10, max_features=auto, min_samples_leaf=1, min_samples_split=4, n_estimators=300\n"
     ]
    },
    {
     "name": "stderr",
     "output_type": "stream",
     "text": [
      "d:\\googledrive\\wirelessmotionintelligence\\2022-knu-wmi\\venv\\lib\\site-packages\\sklearn\\model_selection\\_validation.py:680: DataConversionWarning: A column-vector y was passed when a 1d array was expected. Please change the shape of y to (n_samples,), for example using ravel().\n",
      "  estimator.fit(X_train, y_train, **fit_params)\n"
     ]
    },
    {
     "name": "stdout",
     "output_type": "stream",
     "text": [
      "[CV 2/3; 128/180] END bootstrap=True, criterion=entropy, max_depth=10, max_features=auto, min_samples_leaf=1, min_samples_split=4, n_estimators=300;, score=0.590 total time=   3.6s\n",
      "[CV 3/3; 128/180] START bootstrap=True, criterion=entropy, max_depth=10, max_features=auto, min_samples_leaf=1, min_samples_split=4, n_estimators=300\n"
     ]
    },
    {
     "name": "stderr",
     "output_type": "stream",
     "text": [
      "d:\\googledrive\\wirelessmotionintelligence\\2022-knu-wmi\\venv\\lib\\site-packages\\sklearn\\model_selection\\_validation.py:680: DataConversionWarning: A column-vector y was passed when a 1d array was expected. Please change the shape of y to (n_samples,), for example using ravel().\n",
      "  estimator.fit(X_train, y_train, **fit_params)\n"
     ]
    },
    {
     "name": "stdout",
     "output_type": "stream",
     "text": [
      "[CV 3/3; 128/180] END bootstrap=True, criterion=entropy, max_depth=10, max_features=auto, min_samples_leaf=1, min_samples_split=4, n_estimators=300;, score=0.538 total time=   3.7s\n",
      "[CV 1/3; 129/180] START bootstrap=True, criterion=entropy, max_depth=10, max_features=auto, min_samples_leaf=1, min_samples_split=10, n_estimators=50\n"
     ]
    },
    {
     "name": "stderr",
     "output_type": "stream",
     "text": [
      "d:\\googledrive\\wirelessmotionintelligence\\2022-knu-wmi\\venv\\lib\\site-packages\\sklearn\\model_selection\\_validation.py:680: DataConversionWarning: A column-vector y was passed when a 1d array was expected. Please change the shape of y to (n_samples,), for example using ravel().\n",
      "  estimator.fit(X_train, y_train, **fit_params)\n"
     ]
    },
    {
     "name": "stdout",
     "output_type": "stream",
     "text": [
      "[CV 1/3; 129/180] END bootstrap=True, criterion=entropy, max_depth=10, max_features=auto, min_samples_leaf=1, min_samples_split=10, n_estimators=50;, score=0.550 total time=   1.1s\n",
      "[CV 2/3; 129/180] START bootstrap=True, criterion=entropy, max_depth=10, max_features=auto, min_samples_leaf=1, min_samples_split=10, n_estimators=50\n"
     ]
    },
    {
     "name": "stderr",
     "output_type": "stream",
     "text": [
      "d:\\googledrive\\wirelessmotionintelligence\\2022-knu-wmi\\venv\\lib\\site-packages\\sklearn\\model_selection\\_validation.py:680: DataConversionWarning: A column-vector y was passed when a 1d array was expected. Please change the shape of y to (n_samples,), for example using ravel().\n",
      "  estimator.fit(X_train, y_train, **fit_params)\n"
     ]
    },
    {
     "name": "stdout",
     "output_type": "stream",
     "text": [
      "[CV 2/3; 129/180] END bootstrap=True, criterion=entropy, max_depth=10, max_features=auto, min_samples_leaf=1, min_samples_split=10, n_estimators=50;, score=0.590 total time=   1.1s\n",
      "[CV 3/3; 129/180] START bootstrap=True, criterion=entropy, max_depth=10, max_features=auto, min_samples_leaf=1, min_samples_split=10, n_estimators=50\n"
     ]
    },
    {
     "name": "stderr",
     "output_type": "stream",
     "text": [
      "d:\\googledrive\\wirelessmotionintelligence\\2022-knu-wmi\\venv\\lib\\site-packages\\sklearn\\model_selection\\_validation.py:680: DataConversionWarning: A column-vector y was passed when a 1d array was expected. Please change the shape of y to (n_samples,), for example using ravel().\n",
      "  estimator.fit(X_train, y_train, **fit_params)\n"
     ]
    },
    {
     "name": "stdout",
     "output_type": "stream",
     "text": [
      "[CV 3/3; 129/180] END bootstrap=True, criterion=entropy, max_depth=10, max_features=auto, min_samples_leaf=1, min_samples_split=10, n_estimators=50;, score=0.333 total time=   1.1s\n",
      "[CV 1/3; 130/180] START bootstrap=True, criterion=entropy, max_depth=10, max_features=auto, min_samples_leaf=1, min_samples_split=10, n_estimators=100\n"
     ]
    },
    {
     "name": "stderr",
     "output_type": "stream",
     "text": [
      "d:\\googledrive\\wirelessmotionintelligence\\2022-knu-wmi\\venv\\lib\\site-packages\\sklearn\\model_selection\\_validation.py:680: DataConversionWarning: A column-vector y was passed when a 1d array was expected. Please change the shape of y to (n_samples,), for example using ravel().\n",
      "  estimator.fit(X_train, y_train, **fit_params)\n"
     ]
    },
    {
     "name": "stdout",
     "output_type": "stream",
     "text": [
      "[CV 1/3; 130/180] END bootstrap=True, criterion=entropy, max_depth=10, max_features=auto, min_samples_leaf=1, min_samples_split=10, n_estimators=100;, score=0.550 total time=   1.7s\n",
      "[CV 2/3; 130/180] START bootstrap=True, criterion=entropy, max_depth=10, max_features=auto, min_samples_leaf=1, min_samples_split=10, n_estimators=100\n"
     ]
    },
    {
     "name": "stderr",
     "output_type": "stream",
     "text": [
      "d:\\googledrive\\wirelessmotionintelligence\\2022-knu-wmi\\venv\\lib\\site-packages\\sklearn\\model_selection\\_validation.py:680: DataConversionWarning: A column-vector y was passed when a 1d array was expected. Please change the shape of y to (n_samples,), for example using ravel().\n",
      "  estimator.fit(X_train, y_train, **fit_params)\n"
     ]
    },
    {
     "name": "stdout",
     "output_type": "stream",
     "text": [
      "[CV 2/3; 130/180] END bootstrap=True, criterion=entropy, max_depth=10, max_features=auto, min_samples_leaf=1, min_samples_split=10, n_estimators=100;, score=0.641 total time=   1.6s\n",
      "[CV 3/3; 130/180] START bootstrap=True, criterion=entropy, max_depth=10, max_features=auto, min_samples_leaf=1, min_samples_split=10, n_estimators=100\n"
     ]
    },
    {
     "name": "stderr",
     "output_type": "stream",
     "text": [
      "d:\\googledrive\\wirelessmotionintelligence\\2022-knu-wmi\\venv\\lib\\site-packages\\sklearn\\model_selection\\_validation.py:680: DataConversionWarning: A column-vector y was passed when a 1d array was expected. Please change the shape of y to (n_samples,), for example using ravel().\n",
      "  estimator.fit(X_train, y_train, **fit_params)\n"
     ]
    },
    {
     "name": "stdout",
     "output_type": "stream",
     "text": [
      "[CV 3/3; 130/180] END bootstrap=True, criterion=entropy, max_depth=10, max_features=auto, min_samples_leaf=1, min_samples_split=10, n_estimators=100;, score=0.462 total time=   1.6s\n",
      "[CV 1/3; 131/180] START bootstrap=True, criterion=entropy, max_depth=10, max_features=auto, min_samples_leaf=1, min_samples_split=10, n_estimators=200\n"
     ]
    },
    {
     "name": "stderr",
     "output_type": "stream",
     "text": [
      "d:\\googledrive\\wirelessmotionintelligence\\2022-knu-wmi\\venv\\lib\\site-packages\\sklearn\\model_selection\\_validation.py:680: DataConversionWarning: A column-vector y was passed when a 1d array was expected. Please change the shape of y to (n_samples,), for example using ravel().\n",
      "  estimator.fit(X_train, y_train, **fit_params)\n"
     ]
    },
    {
     "name": "stdout",
     "output_type": "stream",
     "text": [
      "[CV 1/3; 131/180] END bootstrap=True, criterion=entropy, max_depth=10, max_features=auto, min_samples_leaf=1, min_samples_split=10, n_estimators=200;, score=0.475 total time=   2.5s\n",
      "[CV 2/3; 131/180] START bootstrap=True, criterion=entropy, max_depth=10, max_features=auto, min_samples_leaf=1, min_samples_split=10, n_estimators=200\n"
     ]
    },
    {
     "name": "stderr",
     "output_type": "stream",
     "text": [
      "d:\\googledrive\\wirelessmotionintelligence\\2022-knu-wmi\\venv\\lib\\site-packages\\sklearn\\model_selection\\_validation.py:680: DataConversionWarning: A column-vector y was passed when a 1d array was expected. Please change the shape of y to (n_samples,), for example using ravel().\n",
      "  estimator.fit(X_train, y_train, **fit_params)\n"
     ]
    },
    {
     "name": "stdout",
     "output_type": "stream",
     "text": [
      "[CV 2/3; 131/180] END bootstrap=True, criterion=entropy, max_depth=10, max_features=auto, min_samples_leaf=1, min_samples_split=10, n_estimators=200;, score=0.615 total time=   2.6s\n",
      "[CV 3/3; 131/180] START bootstrap=True, criterion=entropy, max_depth=10, max_features=auto, min_samples_leaf=1, min_samples_split=10, n_estimators=200\n"
     ]
    },
    {
     "name": "stderr",
     "output_type": "stream",
     "text": [
      "d:\\googledrive\\wirelessmotionintelligence\\2022-knu-wmi\\venv\\lib\\site-packages\\sklearn\\model_selection\\_validation.py:680: DataConversionWarning: A column-vector y was passed when a 1d array was expected. Please change the shape of y to (n_samples,), for example using ravel().\n",
      "  estimator.fit(X_train, y_train, **fit_params)\n"
     ]
    },
    {
     "name": "stdout",
     "output_type": "stream",
     "text": [
      "[CV 3/3; 131/180] END bootstrap=True, criterion=entropy, max_depth=10, max_features=auto, min_samples_leaf=1, min_samples_split=10, n_estimators=200;, score=0.538 total time=   2.5s\n",
      "[CV 1/3; 132/180] START bootstrap=True, criterion=entropy, max_depth=10, max_features=auto, min_samples_leaf=1, min_samples_split=10, n_estimators=300\n"
     ]
    },
    {
     "name": "stderr",
     "output_type": "stream",
     "text": [
      "d:\\googledrive\\wirelessmotionintelligence\\2022-knu-wmi\\venv\\lib\\site-packages\\sklearn\\model_selection\\_validation.py:680: DataConversionWarning: A column-vector y was passed when a 1d array was expected. Please change the shape of y to (n_samples,), for example using ravel().\n",
      "  estimator.fit(X_train, y_train, **fit_params)\n"
     ]
    },
    {
     "name": "stdout",
     "output_type": "stream",
     "text": [
      "[CV 1/3; 132/180] END bootstrap=True, criterion=entropy, max_depth=10, max_features=auto, min_samples_leaf=1, min_samples_split=10, n_estimators=300;, score=0.500 total time=   3.6s\n",
      "[CV 2/3; 132/180] START bootstrap=True, criterion=entropy, max_depth=10, max_features=auto, min_samples_leaf=1, min_samples_split=10, n_estimators=300\n"
     ]
    },
    {
     "name": "stderr",
     "output_type": "stream",
     "text": [
      "d:\\googledrive\\wirelessmotionintelligence\\2022-knu-wmi\\venv\\lib\\site-packages\\sklearn\\model_selection\\_validation.py:680: DataConversionWarning: A column-vector y was passed when a 1d array was expected. Please change the shape of y to (n_samples,), for example using ravel().\n",
      "  estimator.fit(X_train, y_train, **fit_params)\n"
     ]
    },
    {
     "name": "stdout",
     "output_type": "stream",
     "text": [
      "[CV 2/3; 132/180] END bootstrap=True, criterion=entropy, max_depth=10, max_features=auto, min_samples_leaf=1, min_samples_split=10, n_estimators=300;, score=0.615 total time=   3.6s\n",
      "[CV 3/3; 132/180] START bootstrap=True, criterion=entropy, max_depth=10, max_features=auto, min_samples_leaf=1, min_samples_split=10, n_estimators=300\n"
     ]
    },
    {
     "name": "stderr",
     "output_type": "stream",
     "text": [
      "d:\\googledrive\\wirelessmotionintelligence\\2022-knu-wmi\\venv\\lib\\site-packages\\sklearn\\model_selection\\_validation.py:680: DataConversionWarning: A column-vector y was passed when a 1d array was expected. Please change the shape of y to (n_samples,), for example using ravel().\n",
      "  estimator.fit(X_train, y_train, **fit_params)\n"
     ]
    },
    {
     "name": "stdout",
     "output_type": "stream",
     "text": [
      "[CV 3/3; 132/180] END bootstrap=True, criterion=entropy, max_depth=10, max_features=auto, min_samples_leaf=1, min_samples_split=10, n_estimators=300;, score=0.590 total time=   3.6s\n",
      "[CV 1/3; 133/180] START bootstrap=True, criterion=entropy, max_depth=10, max_features=auto, min_samples_leaf=1, min_samples_split=12, n_estimators=50\n"
     ]
    },
    {
     "name": "stderr",
     "output_type": "stream",
     "text": [
      "d:\\googledrive\\wirelessmotionintelligence\\2022-knu-wmi\\venv\\lib\\site-packages\\sklearn\\model_selection\\_validation.py:680: DataConversionWarning: A column-vector y was passed when a 1d array was expected. Please change the shape of y to (n_samples,), for example using ravel().\n",
      "  estimator.fit(X_train, y_train, **fit_params)\n"
     ]
    },
    {
     "name": "stdout",
     "output_type": "stream",
     "text": [
      "[CV 1/3; 133/180] END bootstrap=True, criterion=entropy, max_depth=10, max_features=auto, min_samples_leaf=1, min_samples_split=12, n_estimators=50;, score=0.575 total time=   1.1s\n",
      "[CV 2/3; 133/180] START bootstrap=True, criterion=entropy, max_depth=10, max_features=auto, min_samples_leaf=1, min_samples_split=12, n_estimators=50\n"
     ]
    },
    {
     "name": "stderr",
     "output_type": "stream",
     "text": [
      "d:\\googledrive\\wirelessmotionintelligence\\2022-knu-wmi\\venv\\lib\\site-packages\\sklearn\\model_selection\\_validation.py:680: DataConversionWarning: A column-vector y was passed when a 1d array was expected. Please change the shape of y to (n_samples,), for example using ravel().\n",
      "  estimator.fit(X_train, y_train, **fit_params)\n"
     ]
    },
    {
     "name": "stdout",
     "output_type": "stream",
     "text": [
      "[CV 2/3; 133/180] END bootstrap=True, criterion=entropy, max_depth=10, max_features=auto, min_samples_leaf=1, min_samples_split=12, n_estimators=50;, score=0.564 total time=   1.1s\n",
      "[CV 3/3; 133/180] START bootstrap=True, criterion=entropy, max_depth=10, max_features=auto, min_samples_leaf=1, min_samples_split=12, n_estimators=50\n"
     ]
    },
    {
     "name": "stderr",
     "output_type": "stream",
     "text": [
      "d:\\googledrive\\wirelessmotionintelligence\\2022-knu-wmi\\venv\\lib\\site-packages\\sklearn\\model_selection\\_validation.py:680: DataConversionWarning: A column-vector y was passed when a 1d array was expected. Please change the shape of y to (n_samples,), for example using ravel().\n",
      "  estimator.fit(X_train, y_train, **fit_params)\n"
     ]
    },
    {
     "name": "stdout",
     "output_type": "stream",
     "text": [
      "[CV 3/3; 133/180] END bootstrap=True, criterion=entropy, max_depth=10, max_features=auto, min_samples_leaf=1, min_samples_split=12, n_estimators=50;, score=0.410 total time=   1.1s\n",
      "[CV 1/3; 134/180] START bootstrap=True, criterion=entropy, max_depth=10, max_features=auto, min_samples_leaf=1, min_samples_split=12, n_estimators=100\n"
     ]
    },
    {
     "name": "stderr",
     "output_type": "stream",
     "text": [
      "d:\\googledrive\\wirelessmotionintelligence\\2022-knu-wmi\\venv\\lib\\site-packages\\sklearn\\model_selection\\_validation.py:680: DataConversionWarning: A column-vector y was passed when a 1d array was expected. Please change the shape of y to (n_samples,), for example using ravel().\n",
      "  estimator.fit(X_train, y_train, **fit_params)\n"
     ]
    },
    {
     "name": "stdout",
     "output_type": "stream",
     "text": [
      "[CV 1/3; 134/180] END bootstrap=True, criterion=entropy, max_depth=10, max_features=auto, min_samples_leaf=1, min_samples_split=12, n_estimators=100;, score=0.550 total time=   1.6s\n",
      "[CV 2/3; 134/180] START bootstrap=True, criterion=entropy, max_depth=10, max_features=auto, min_samples_leaf=1, min_samples_split=12, n_estimators=100\n"
     ]
    },
    {
     "name": "stderr",
     "output_type": "stream",
     "text": [
      "d:\\googledrive\\wirelessmotionintelligence\\2022-knu-wmi\\venv\\lib\\site-packages\\sklearn\\model_selection\\_validation.py:680: DataConversionWarning: A column-vector y was passed when a 1d array was expected. Please change the shape of y to (n_samples,), for example using ravel().\n",
      "  estimator.fit(X_train, y_train, **fit_params)\n"
     ]
    },
    {
     "name": "stdout",
     "output_type": "stream",
     "text": [
      "[CV 2/3; 134/180] END bootstrap=True, criterion=entropy, max_depth=10, max_features=auto, min_samples_leaf=1, min_samples_split=12, n_estimators=100;, score=0.615 total time=   1.6s\n",
      "[CV 3/3; 134/180] START bootstrap=True, criterion=entropy, max_depth=10, max_features=auto, min_samples_leaf=1, min_samples_split=12, n_estimators=100\n"
     ]
    },
    {
     "name": "stderr",
     "output_type": "stream",
     "text": [
      "d:\\googledrive\\wirelessmotionintelligence\\2022-knu-wmi\\venv\\lib\\site-packages\\sklearn\\model_selection\\_validation.py:680: DataConversionWarning: A column-vector y was passed when a 1d array was expected. Please change the shape of y to (n_samples,), for example using ravel().\n",
      "  estimator.fit(X_train, y_train, **fit_params)\n"
     ]
    },
    {
     "name": "stdout",
     "output_type": "stream",
     "text": [
      "[CV 3/3; 134/180] END bootstrap=True, criterion=entropy, max_depth=10, max_features=auto, min_samples_leaf=1, min_samples_split=12, n_estimators=100;, score=0.487 total time=   1.6s\n",
      "[CV 1/3; 135/180] START bootstrap=True, criterion=entropy, max_depth=10, max_features=auto, min_samples_leaf=1, min_samples_split=12, n_estimators=200\n"
     ]
    },
    {
     "name": "stderr",
     "output_type": "stream",
     "text": [
      "d:\\googledrive\\wirelessmotionintelligence\\2022-knu-wmi\\venv\\lib\\site-packages\\sklearn\\model_selection\\_validation.py:680: DataConversionWarning: A column-vector y was passed when a 1d array was expected. Please change the shape of y to (n_samples,), for example using ravel().\n",
      "  estimator.fit(X_train, y_train, **fit_params)\n"
     ]
    },
    {
     "name": "stdout",
     "output_type": "stream",
     "text": [
      "[CV 1/3; 135/180] END bootstrap=True, criterion=entropy, max_depth=10, max_features=auto, min_samples_leaf=1, min_samples_split=12, n_estimators=200;, score=0.475 total time=   2.5s\n",
      "[CV 2/3; 135/180] START bootstrap=True, criterion=entropy, max_depth=10, max_features=auto, min_samples_leaf=1, min_samples_split=12, n_estimators=200\n"
     ]
    },
    {
     "name": "stderr",
     "output_type": "stream",
     "text": [
      "d:\\googledrive\\wirelessmotionintelligence\\2022-knu-wmi\\venv\\lib\\site-packages\\sklearn\\model_selection\\_validation.py:680: DataConversionWarning: A column-vector y was passed when a 1d array was expected. Please change the shape of y to (n_samples,), for example using ravel().\n",
      "  estimator.fit(X_train, y_train, **fit_params)\n"
     ]
    },
    {
     "name": "stdout",
     "output_type": "stream",
     "text": [
      "[CV 2/3; 135/180] END bootstrap=True, criterion=entropy, max_depth=10, max_features=auto, min_samples_leaf=1, min_samples_split=12, n_estimators=200;, score=0.641 total time=   2.5s\n",
      "[CV 3/3; 135/180] START bootstrap=True, criterion=entropy, max_depth=10, max_features=auto, min_samples_leaf=1, min_samples_split=12, n_estimators=200\n"
     ]
    },
    {
     "name": "stderr",
     "output_type": "stream",
     "text": [
      "d:\\googledrive\\wirelessmotionintelligence\\2022-knu-wmi\\venv\\lib\\site-packages\\sklearn\\model_selection\\_validation.py:680: DataConversionWarning: A column-vector y was passed when a 1d array was expected. Please change the shape of y to (n_samples,), for example using ravel().\n",
      "  estimator.fit(X_train, y_train, **fit_params)\n"
     ]
    },
    {
     "name": "stdout",
     "output_type": "stream",
     "text": [
      "[CV 3/3; 135/180] END bootstrap=True, criterion=entropy, max_depth=10, max_features=auto, min_samples_leaf=1, min_samples_split=12, n_estimators=200;, score=0.538 total time=   2.5s\n",
      "[CV 1/3; 136/180] START bootstrap=True, criterion=entropy, max_depth=10, max_features=auto, min_samples_leaf=1, min_samples_split=12, n_estimators=300\n"
     ]
    },
    {
     "name": "stderr",
     "output_type": "stream",
     "text": [
      "d:\\googledrive\\wirelessmotionintelligence\\2022-knu-wmi\\venv\\lib\\site-packages\\sklearn\\model_selection\\_validation.py:680: DataConversionWarning: A column-vector y was passed when a 1d array was expected. Please change the shape of y to (n_samples,), for example using ravel().\n",
      "  estimator.fit(X_train, y_train, **fit_params)\n"
     ]
    },
    {
     "name": "stdout",
     "output_type": "stream",
     "text": [
      "[CV 1/3; 136/180] END bootstrap=True, criterion=entropy, max_depth=10, max_features=auto, min_samples_leaf=1, min_samples_split=12, n_estimators=300;, score=0.500 total time=   3.5s\n",
      "[CV 2/3; 136/180] START bootstrap=True, criterion=entropy, max_depth=10, max_features=auto, min_samples_leaf=1, min_samples_split=12, n_estimators=300\n"
     ]
    },
    {
     "name": "stderr",
     "output_type": "stream",
     "text": [
      "d:\\googledrive\\wirelessmotionintelligence\\2022-knu-wmi\\venv\\lib\\site-packages\\sklearn\\model_selection\\_validation.py:680: DataConversionWarning: A column-vector y was passed when a 1d array was expected. Please change the shape of y to (n_samples,), for example using ravel().\n",
      "  estimator.fit(X_train, y_train, **fit_params)\n"
     ]
    },
    {
     "name": "stdout",
     "output_type": "stream",
     "text": [
      "[CV 2/3; 136/180] END bootstrap=True, criterion=entropy, max_depth=10, max_features=auto, min_samples_leaf=1, min_samples_split=12, n_estimators=300;, score=0.615 total time=   3.8s\n",
      "[CV 3/3; 136/180] START bootstrap=True, criterion=entropy, max_depth=10, max_features=auto, min_samples_leaf=1, min_samples_split=12, n_estimators=300\n"
     ]
    },
    {
     "name": "stderr",
     "output_type": "stream",
     "text": [
      "d:\\googledrive\\wirelessmotionintelligence\\2022-knu-wmi\\venv\\lib\\site-packages\\sklearn\\model_selection\\_validation.py:680: DataConversionWarning: A column-vector y was passed when a 1d array was expected. Please change the shape of y to (n_samples,), for example using ravel().\n",
      "  estimator.fit(X_train, y_train, **fit_params)\n"
     ]
    },
    {
     "name": "stdout",
     "output_type": "stream",
     "text": [
      "[CV 3/3; 136/180] END bootstrap=True, criterion=entropy, max_depth=10, max_features=auto, min_samples_leaf=1, min_samples_split=12, n_estimators=300;, score=0.462 total time=   3.7s\n",
      "[CV 1/3; 137/180] START bootstrap=True, criterion=entropy, max_depth=10, max_features=auto, min_samples_leaf=1, min_samples_split=16, n_estimators=50\n"
     ]
    },
    {
     "name": "stderr",
     "output_type": "stream",
     "text": [
      "d:\\googledrive\\wirelessmotionintelligence\\2022-knu-wmi\\venv\\lib\\site-packages\\sklearn\\model_selection\\_validation.py:680: DataConversionWarning: A column-vector y was passed when a 1d array was expected. Please change the shape of y to (n_samples,), for example using ravel().\n",
      "  estimator.fit(X_train, y_train, **fit_params)\n"
     ]
    },
    {
     "name": "stdout",
     "output_type": "stream",
     "text": [
      "[CV 1/3; 137/180] END bootstrap=True, criterion=entropy, max_depth=10, max_features=auto, min_samples_leaf=1, min_samples_split=16, n_estimators=50;, score=0.625 total time=   1.1s\n",
      "[CV 2/3; 137/180] START bootstrap=True, criterion=entropy, max_depth=10, max_features=auto, min_samples_leaf=1, min_samples_split=16, n_estimators=50\n"
     ]
    },
    {
     "name": "stderr",
     "output_type": "stream",
     "text": [
      "d:\\googledrive\\wirelessmotionintelligence\\2022-knu-wmi\\venv\\lib\\site-packages\\sklearn\\model_selection\\_validation.py:680: DataConversionWarning: A column-vector y was passed when a 1d array was expected. Please change the shape of y to (n_samples,), for example using ravel().\n",
      "  estimator.fit(X_train, y_train, **fit_params)\n"
     ]
    },
    {
     "name": "stdout",
     "output_type": "stream",
     "text": [
      "[CV 2/3; 137/180] END bootstrap=True, criterion=entropy, max_depth=10, max_features=auto, min_samples_leaf=1, min_samples_split=16, n_estimators=50;, score=0.564 total time=   1.1s\n",
      "[CV 3/3; 137/180] START bootstrap=True, criterion=entropy, max_depth=10, max_features=auto, min_samples_leaf=1, min_samples_split=16, n_estimators=50\n"
     ]
    },
    {
     "name": "stderr",
     "output_type": "stream",
     "text": [
      "d:\\googledrive\\wirelessmotionintelligence\\2022-knu-wmi\\venv\\lib\\site-packages\\sklearn\\model_selection\\_validation.py:680: DataConversionWarning: A column-vector y was passed when a 1d array was expected. Please change the shape of y to (n_samples,), for example using ravel().\n",
      "  estimator.fit(X_train, y_train, **fit_params)\n"
     ]
    },
    {
     "name": "stdout",
     "output_type": "stream",
     "text": [
      "[CV 3/3; 137/180] END bootstrap=True, criterion=entropy, max_depth=10, max_features=auto, min_samples_leaf=1, min_samples_split=16, n_estimators=50;, score=0.564 total time=   1.1s\n",
      "[CV 1/3; 138/180] START bootstrap=True, criterion=entropy, max_depth=10, max_features=auto, min_samples_leaf=1, min_samples_split=16, n_estimators=100\n"
     ]
    },
    {
     "name": "stderr",
     "output_type": "stream",
     "text": [
      "d:\\googledrive\\wirelessmotionintelligence\\2022-knu-wmi\\venv\\lib\\site-packages\\sklearn\\model_selection\\_validation.py:680: DataConversionWarning: A column-vector y was passed when a 1d array was expected. Please change the shape of y to (n_samples,), for example using ravel().\n",
      "  estimator.fit(X_train, y_train, **fit_params)\n"
     ]
    },
    {
     "name": "stdout",
     "output_type": "stream",
     "text": [
      "[CV 1/3; 138/180] END bootstrap=True, criterion=entropy, max_depth=10, max_features=auto, min_samples_leaf=1, min_samples_split=16, n_estimators=100;, score=0.550 total time=   1.6s\n",
      "[CV 2/3; 138/180] START bootstrap=True, criterion=entropy, max_depth=10, max_features=auto, min_samples_leaf=1, min_samples_split=16, n_estimators=100\n"
     ]
    },
    {
     "name": "stderr",
     "output_type": "stream",
     "text": [
      "d:\\googledrive\\wirelessmotionintelligence\\2022-knu-wmi\\venv\\lib\\site-packages\\sklearn\\model_selection\\_validation.py:680: DataConversionWarning: A column-vector y was passed when a 1d array was expected. Please change the shape of y to (n_samples,), for example using ravel().\n",
      "  estimator.fit(X_train, y_train, **fit_params)\n"
     ]
    },
    {
     "name": "stdout",
     "output_type": "stream",
     "text": [
      "[CV 2/3; 138/180] END bootstrap=True, criterion=entropy, max_depth=10, max_features=auto, min_samples_leaf=1, min_samples_split=16, n_estimators=100;, score=0.590 total time=   1.6s\n",
      "[CV 3/3; 138/180] START bootstrap=True, criterion=entropy, max_depth=10, max_features=auto, min_samples_leaf=1, min_samples_split=16, n_estimators=100\n"
     ]
    },
    {
     "name": "stderr",
     "output_type": "stream",
     "text": [
      "d:\\googledrive\\wirelessmotionintelligence\\2022-knu-wmi\\venv\\lib\\site-packages\\sklearn\\model_selection\\_validation.py:680: DataConversionWarning: A column-vector y was passed when a 1d array was expected. Please change the shape of y to (n_samples,), for example using ravel().\n",
      "  estimator.fit(X_train, y_train, **fit_params)\n"
     ]
    },
    {
     "name": "stdout",
     "output_type": "stream",
     "text": [
      "[CV 3/3; 138/180] END bootstrap=True, criterion=entropy, max_depth=10, max_features=auto, min_samples_leaf=1, min_samples_split=16, n_estimators=100;, score=0.513 total time=   1.7s\n",
      "[CV 1/3; 139/180] START bootstrap=True, criterion=entropy, max_depth=10, max_features=auto, min_samples_leaf=1, min_samples_split=16, n_estimators=200\n"
     ]
    },
    {
     "name": "stderr",
     "output_type": "stream",
     "text": [
      "d:\\googledrive\\wirelessmotionintelligence\\2022-knu-wmi\\venv\\lib\\site-packages\\sklearn\\model_selection\\_validation.py:680: DataConversionWarning: A column-vector y was passed when a 1d array was expected. Please change the shape of y to (n_samples,), for example using ravel().\n",
      "  estimator.fit(X_train, y_train, **fit_params)\n"
     ]
    },
    {
     "name": "stdout",
     "output_type": "stream",
     "text": [
      "[CV 1/3; 139/180] END bootstrap=True, criterion=entropy, max_depth=10, max_features=auto, min_samples_leaf=1, min_samples_split=16, n_estimators=200;, score=0.525 total time=   2.5s\n",
      "[CV 2/3; 139/180] START bootstrap=True, criterion=entropy, max_depth=10, max_features=auto, min_samples_leaf=1, min_samples_split=16, n_estimators=200\n"
     ]
    },
    {
     "name": "stderr",
     "output_type": "stream",
     "text": [
      "d:\\googledrive\\wirelessmotionintelligence\\2022-knu-wmi\\venv\\lib\\site-packages\\sklearn\\model_selection\\_validation.py:680: DataConversionWarning: A column-vector y was passed when a 1d array was expected. Please change the shape of y to (n_samples,), for example using ravel().\n",
      "  estimator.fit(X_train, y_train, **fit_params)\n"
     ]
    },
    {
     "name": "stdout",
     "output_type": "stream",
     "text": [
      "[CV 2/3; 139/180] END bootstrap=True, criterion=entropy, max_depth=10, max_features=auto, min_samples_leaf=1, min_samples_split=16, n_estimators=200;, score=0.590 total time=   2.5s\n",
      "[CV 3/3; 139/180] START bootstrap=True, criterion=entropy, max_depth=10, max_features=auto, min_samples_leaf=1, min_samples_split=16, n_estimators=200\n"
     ]
    },
    {
     "name": "stderr",
     "output_type": "stream",
     "text": [
      "d:\\googledrive\\wirelessmotionintelligence\\2022-knu-wmi\\venv\\lib\\site-packages\\sklearn\\model_selection\\_validation.py:680: DataConversionWarning: A column-vector y was passed when a 1d array was expected. Please change the shape of y to (n_samples,), for example using ravel().\n",
      "  estimator.fit(X_train, y_train, **fit_params)\n"
     ]
    },
    {
     "name": "stdout",
     "output_type": "stream",
     "text": [
      "[CV 3/3; 139/180] END bootstrap=True, criterion=entropy, max_depth=10, max_features=auto, min_samples_leaf=1, min_samples_split=16, n_estimators=200;, score=0.564 total time=   2.5s\n",
      "[CV 1/3; 140/180] START bootstrap=True, criterion=entropy, max_depth=10, max_features=auto, min_samples_leaf=1, min_samples_split=16, n_estimators=300\n"
     ]
    },
    {
     "name": "stderr",
     "output_type": "stream",
     "text": [
      "d:\\googledrive\\wirelessmotionintelligence\\2022-knu-wmi\\venv\\lib\\site-packages\\sklearn\\model_selection\\_validation.py:680: DataConversionWarning: A column-vector y was passed when a 1d array was expected. Please change the shape of y to (n_samples,), for example using ravel().\n",
      "  estimator.fit(X_train, y_train, **fit_params)\n"
     ]
    },
    {
     "name": "stdout",
     "output_type": "stream",
     "text": [
      "[CV 1/3; 140/180] END bootstrap=True, criterion=entropy, max_depth=10, max_features=auto, min_samples_leaf=1, min_samples_split=16, n_estimators=300;, score=0.525 total time=   3.6s\n",
      "[CV 2/3; 140/180] START bootstrap=True, criterion=entropy, max_depth=10, max_features=auto, min_samples_leaf=1, min_samples_split=16, n_estimators=300\n"
     ]
    },
    {
     "name": "stderr",
     "output_type": "stream",
     "text": [
      "d:\\googledrive\\wirelessmotionintelligence\\2022-knu-wmi\\venv\\lib\\site-packages\\sklearn\\model_selection\\_validation.py:680: DataConversionWarning: A column-vector y was passed when a 1d array was expected. Please change the shape of y to (n_samples,), for example using ravel().\n",
      "  estimator.fit(X_train, y_train, **fit_params)\n"
     ]
    },
    {
     "name": "stdout",
     "output_type": "stream",
     "text": [
      "[CV 2/3; 140/180] END bootstrap=True, criterion=entropy, max_depth=10, max_features=auto, min_samples_leaf=1, min_samples_split=16, n_estimators=300;, score=0.615 total time=   3.6s\n",
      "[CV 3/3; 140/180] START bootstrap=True, criterion=entropy, max_depth=10, max_features=auto, min_samples_leaf=1, min_samples_split=16, n_estimators=300\n"
     ]
    },
    {
     "name": "stderr",
     "output_type": "stream",
     "text": [
      "d:\\googledrive\\wirelessmotionintelligence\\2022-knu-wmi\\venv\\lib\\site-packages\\sklearn\\model_selection\\_validation.py:680: DataConversionWarning: A column-vector y was passed when a 1d array was expected. Please change the shape of y to (n_samples,), for example using ravel().\n",
      "  estimator.fit(X_train, y_train, **fit_params)\n"
     ]
    },
    {
     "name": "stdout",
     "output_type": "stream",
     "text": [
      "[CV 3/3; 140/180] END bootstrap=True, criterion=entropy, max_depth=10, max_features=auto, min_samples_leaf=1, min_samples_split=16, n_estimators=300;, score=0.513 total time=   3.7s\n",
      "[CV 1/3; 141/180] START bootstrap=True, criterion=entropy, max_depth=10, max_features=auto, min_samples_leaf=5, min_samples_split=2, n_estimators=50\n"
     ]
    },
    {
     "name": "stderr",
     "output_type": "stream",
     "text": [
      "d:\\googledrive\\wirelessmotionintelligence\\2022-knu-wmi\\venv\\lib\\site-packages\\sklearn\\model_selection\\_validation.py:680: DataConversionWarning: A column-vector y was passed when a 1d array was expected. Please change the shape of y to (n_samples,), for example using ravel().\n",
      "  estimator.fit(X_train, y_train, **fit_params)\n"
     ]
    },
    {
     "name": "stdout",
     "output_type": "stream",
     "text": [
      "[CV 1/3; 141/180] END bootstrap=True, criterion=entropy, max_depth=10, max_features=auto, min_samples_leaf=5, min_samples_split=2, n_estimators=50;, score=0.600 total time=   1.1s\n",
      "[CV 2/3; 141/180] START bootstrap=True, criterion=entropy, max_depth=10, max_features=auto, min_samples_leaf=5, min_samples_split=2, n_estimators=50\n"
     ]
    },
    {
     "name": "stderr",
     "output_type": "stream",
     "text": [
      "d:\\googledrive\\wirelessmotionintelligence\\2022-knu-wmi\\venv\\lib\\site-packages\\sklearn\\model_selection\\_validation.py:680: DataConversionWarning: A column-vector y was passed when a 1d array was expected. Please change the shape of y to (n_samples,), for example using ravel().\n",
      "  estimator.fit(X_train, y_train, **fit_params)\n"
     ]
    },
    {
     "name": "stdout",
     "output_type": "stream",
     "text": [
      "[CV 2/3; 141/180] END bootstrap=True, criterion=entropy, max_depth=10, max_features=auto, min_samples_leaf=5, min_samples_split=2, n_estimators=50;, score=0.513 total time=   1.1s\n",
      "[CV 3/3; 141/180] START bootstrap=True, criterion=entropy, max_depth=10, max_features=auto, min_samples_leaf=5, min_samples_split=2, n_estimators=50\n"
     ]
    },
    {
     "name": "stderr",
     "output_type": "stream",
     "text": [
      "d:\\googledrive\\wirelessmotionintelligence\\2022-knu-wmi\\venv\\lib\\site-packages\\sklearn\\model_selection\\_validation.py:680: DataConversionWarning: A column-vector y was passed when a 1d array was expected. Please change the shape of y to (n_samples,), for example using ravel().\n",
      "  estimator.fit(X_train, y_train, **fit_params)\n"
     ]
    },
    {
     "name": "stdout",
     "output_type": "stream",
     "text": [
      "[CV 3/3; 141/180] END bootstrap=True, criterion=entropy, max_depth=10, max_features=auto, min_samples_leaf=5, min_samples_split=2, n_estimators=50;, score=0.436 total time=   1.1s\n",
      "[CV 1/3; 142/180] START bootstrap=True, criterion=entropy, max_depth=10, max_features=auto, min_samples_leaf=5, min_samples_split=2, n_estimators=100\n"
     ]
    },
    {
     "name": "stderr",
     "output_type": "stream",
     "text": [
      "d:\\googledrive\\wirelessmotionintelligence\\2022-knu-wmi\\venv\\lib\\site-packages\\sklearn\\model_selection\\_validation.py:680: DataConversionWarning: A column-vector y was passed when a 1d array was expected. Please change the shape of y to (n_samples,), for example using ravel().\n",
      "  estimator.fit(X_train, y_train, **fit_params)\n"
     ]
    },
    {
     "name": "stdout",
     "output_type": "stream",
     "text": [
      "[CV 1/3; 142/180] END bootstrap=True, criterion=entropy, max_depth=10, max_features=auto, min_samples_leaf=5, min_samples_split=2, n_estimators=100;, score=0.525 total time=   1.6s\n",
      "[CV 2/3; 142/180] START bootstrap=True, criterion=entropy, max_depth=10, max_features=auto, min_samples_leaf=5, min_samples_split=2, n_estimators=100\n"
     ]
    },
    {
     "name": "stderr",
     "output_type": "stream",
     "text": [
      "d:\\googledrive\\wirelessmotionintelligence\\2022-knu-wmi\\venv\\lib\\site-packages\\sklearn\\model_selection\\_validation.py:680: DataConversionWarning: A column-vector y was passed when a 1d array was expected. Please change the shape of y to (n_samples,), for example using ravel().\n",
      "  estimator.fit(X_train, y_train, **fit_params)\n"
     ]
    },
    {
     "name": "stdout",
     "output_type": "stream",
     "text": [
      "[CV 2/3; 142/180] END bootstrap=True, criterion=entropy, max_depth=10, max_features=auto, min_samples_leaf=5, min_samples_split=2, n_estimators=100;, score=0.615 total time=   1.7s\n",
      "[CV 3/3; 142/180] START bootstrap=True, criterion=entropy, max_depth=10, max_features=auto, min_samples_leaf=5, min_samples_split=2, n_estimators=100\n"
     ]
    },
    {
     "name": "stderr",
     "output_type": "stream",
     "text": [
      "d:\\googledrive\\wirelessmotionintelligence\\2022-knu-wmi\\venv\\lib\\site-packages\\sklearn\\model_selection\\_validation.py:680: DataConversionWarning: A column-vector y was passed when a 1d array was expected. Please change the shape of y to (n_samples,), for example using ravel().\n",
      "  estimator.fit(X_train, y_train, **fit_params)\n"
     ]
    },
    {
     "name": "stdout",
     "output_type": "stream",
     "text": [
      "[CV 3/3; 142/180] END bootstrap=True, criterion=entropy, max_depth=10, max_features=auto, min_samples_leaf=5, min_samples_split=2, n_estimators=100;, score=0.487 total time=   1.6s\n",
      "[CV 1/3; 143/180] START bootstrap=True, criterion=entropy, max_depth=10, max_features=auto, min_samples_leaf=5, min_samples_split=2, n_estimators=200\n"
     ]
    },
    {
     "name": "stderr",
     "output_type": "stream",
     "text": [
      "d:\\googledrive\\wirelessmotionintelligence\\2022-knu-wmi\\venv\\lib\\site-packages\\sklearn\\model_selection\\_validation.py:680: DataConversionWarning: A column-vector y was passed when a 1d array was expected. Please change the shape of y to (n_samples,), for example using ravel().\n",
      "  estimator.fit(X_train, y_train, **fit_params)\n"
     ]
    },
    {
     "name": "stdout",
     "output_type": "stream",
     "text": [
      "[CV 1/3; 143/180] END bootstrap=True, criterion=entropy, max_depth=10, max_features=auto, min_samples_leaf=5, min_samples_split=2, n_estimators=200;, score=0.500 total time=   2.5s\n",
      "[CV 2/3; 143/180] START bootstrap=True, criterion=entropy, max_depth=10, max_features=auto, min_samples_leaf=5, min_samples_split=2, n_estimators=200\n"
     ]
    },
    {
     "name": "stderr",
     "output_type": "stream",
     "text": [
      "d:\\googledrive\\wirelessmotionintelligence\\2022-knu-wmi\\venv\\lib\\site-packages\\sklearn\\model_selection\\_validation.py:680: DataConversionWarning: A column-vector y was passed when a 1d array was expected. Please change the shape of y to (n_samples,), for example using ravel().\n",
      "  estimator.fit(X_train, y_train, **fit_params)\n"
     ]
    },
    {
     "name": "stdout",
     "output_type": "stream",
     "text": [
      "[CV 2/3; 143/180] END bootstrap=True, criterion=entropy, max_depth=10, max_features=auto, min_samples_leaf=5, min_samples_split=2, n_estimators=200;, score=0.615 total time=   2.7s\n",
      "[CV 3/3; 143/180] START bootstrap=True, criterion=entropy, max_depth=10, max_features=auto, min_samples_leaf=5, min_samples_split=2, n_estimators=200\n"
     ]
    },
    {
     "name": "stderr",
     "output_type": "stream",
     "text": [
      "d:\\googledrive\\wirelessmotionintelligence\\2022-knu-wmi\\venv\\lib\\site-packages\\sklearn\\model_selection\\_validation.py:680: DataConversionWarning: A column-vector y was passed when a 1d array was expected. Please change the shape of y to (n_samples,), for example using ravel().\n",
      "  estimator.fit(X_train, y_train, **fit_params)\n"
     ]
    },
    {
     "name": "stdout",
     "output_type": "stream",
     "text": [
      "[CV 3/3; 143/180] END bootstrap=True, criterion=entropy, max_depth=10, max_features=auto, min_samples_leaf=5, min_samples_split=2, n_estimators=200;, score=0.513 total time=   2.5s\n",
      "[CV 1/3; 144/180] START bootstrap=True, criterion=entropy, max_depth=10, max_features=auto, min_samples_leaf=5, min_samples_split=2, n_estimators=300\n"
     ]
    },
    {
     "name": "stderr",
     "output_type": "stream",
     "text": [
      "d:\\googledrive\\wirelessmotionintelligence\\2022-knu-wmi\\venv\\lib\\site-packages\\sklearn\\model_selection\\_validation.py:680: DataConversionWarning: A column-vector y was passed when a 1d array was expected. Please change the shape of y to (n_samples,), for example using ravel().\n",
      "  estimator.fit(X_train, y_train, **fit_params)\n"
     ]
    },
    {
     "name": "stdout",
     "output_type": "stream",
     "text": [
      "[CV 1/3; 144/180] END bootstrap=True, criterion=entropy, max_depth=10, max_features=auto, min_samples_leaf=5, min_samples_split=2, n_estimators=300;, score=0.550 total time=   3.5s\n",
      "[CV 2/3; 144/180] START bootstrap=True, criterion=entropy, max_depth=10, max_features=auto, min_samples_leaf=5, min_samples_split=2, n_estimators=300\n"
     ]
    },
    {
     "name": "stderr",
     "output_type": "stream",
     "text": [
      "d:\\googledrive\\wirelessmotionintelligence\\2022-knu-wmi\\venv\\lib\\site-packages\\sklearn\\model_selection\\_validation.py:680: DataConversionWarning: A column-vector y was passed when a 1d array was expected. Please change the shape of y to (n_samples,), for example using ravel().\n",
      "  estimator.fit(X_train, y_train, **fit_params)\n"
     ]
    },
    {
     "name": "stdout",
     "output_type": "stream",
     "text": [
      "[CV 2/3; 144/180] END bootstrap=True, criterion=entropy, max_depth=10, max_features=auto, min_samples_leaf=5, min_samples_split=2, n_estimators=300;, score=0.641 total time=   3.6s\n",
      "[CV 3/3; 144/180] START bootstrap=True, criterion=entropy, max_depth=10, max_features=auto, min_samples_leaf=5, min_samples_split=2, n_estimators=300\n"
     ]
    },
    {
     "name": "stderr",
     "output_type": "stream",
     "text": [
      "d:\\googledrive\\wirelessmotionintelligence\\2022-knu-wmi\\venv\\lib\\site-packages\\sklearn\\model_selection\\_validation.py:680: DataConversionWarning: A column-vector y was passed when a 1d array was expected. Please change the shape of y to (n_samples,), for example using ravel().\n",
      "  estimator.fit(X_train, y_train, **fit_params)\n"
     ]
    },
    {
     "name": "stdout",
     "output_type": "stream",
     "text": [
      "[CV 3/3; 144/180] END bootstrap=True, criterion=entropy, max_depth=10, max_features=auto, min_samples_leaf=5, min_samples_split=2, n_estimators=300;, score=0.462 total time=   3.6s\n",
      "[CV 1/3; 145/180] START bootstrap=True, criterion=entropy, max_depth=10, max_features=auto, min_samples_leaf=5, min_samples_split=4, n_estimators=50\n"
     ]
    },
    {
     "name": "stderr",
     "output_type": "stream",
     "text": [
      "d:\\googledrive\\wirelessmotionintelligence\\2022-knu-wmi\\venv\\lib\\site-packages\\sklearn\\model_selection\\_validation.py:680: DataConversionWarning: A column-vector y was passed when a 1d array was expected. Please change the shape of y to (n_samples,), for example using ravel().\n",
      "  estimator.fit(X_train, y_train, **fit_params)\n"
     ]
    },
    {
     "name": "stdout",
     "output_type": "stream",
     "text": [
      "[CV 1/3; 145/180] END bootstrap=True, criterion=entropy, max_depth=10, max_features=auto, min_samples_leaf=5, min_samples_split=4, n_estimators=50;, score=0.600 total time=   1.1s\n",
      "[CV 2/3; 145/180] START bootstrap=True, criterion=entropy, max_depth=10, max_features=auto, min_samples_leaf=5, min_samples_split=4, n_estimators=50\n"
     ]
    },
    {
     "name": "stderr",
     "output_type": "stream",
     "text": [
      "d:\\googledrive\\wirelessmotionintelligence\\2022-knu-wmi\\venv\\lib\\site-packages\\sklearn\\model_selection\\_validation.py:680: DataConversionWarning: A column-vector y was passed when a 1d array was expected. Please change the shape of y to (n_samples,), for example using ravel().\n",
      "  estimator.fit(X_train, y_train, **fit_params)\n"
     ]
    },
    {
     "name": "stdout",
     "output_type": "stream",
     "text": [
      "[CV 2/3; 145/180] END bootstrap=True, criterion=entropy, max_depth=10, max_features=auto, min_samples_leaf=5, min_samples_split=4, n_estimators=50;, score=0.513 total time=   1.1s\n",
      "[CV 3/3; 145/180] START bootstrap=True, criterion=entropy, max_depth=10, max_features=auto, min_samples_leaf=5, min_samples_split=4, n_estimators=50\n"
     ]
    },
    {
     "name": "stderr",
     "output_type": "stream",
     "text": [
      "d:\\googledrive\\wirelessmotionintelligence\\2022-knu-wmi\\venv\\lib\\site-packages\\sklearn\\model_selection\\_validation.py:680: DataConversionWarning: A column-vector y was passed when a 1d array was expected. Please change the shape of y to (n_samples,), for example using ravel().\n",
      "  estimator.fit(X_train, y_train, **fit_params)\n"
     ]
    },
    {
     "name": "stdout",
     "output_type": "stream",
     "text": [
      "[CV 3/3; 145/180] END bootstrap=True, criterion=entropy, max_depth=10, max_features=auto, min_samples_leaf=5, min_samples_split=4, n_estimators=50;, score=0.436 total time=   1.1s\n",
      "[CV 1/3; 146/180] START bootstrap=True, criterion=entropy, max_depth=10, max_features=auto, min_samples_leaf=5, min_samples_split=4, n_estimators=100\n"
     ]
    },
    {
     "name": "stderr",
     "output_type": "stream",
     "text": [
      "d:\\googledrive\\wirelessmotionintelligence\\2022-knu-wmi\\venv\\lib\\site-packages\\sklearn\\model_selection\\_validation.py:680: DataConversionWarning: A column-vector y was passed when a 1d array was expected. Please change the shape of y to (n_samples,), for example using ravel().\n",
      "  estimator.fit(X_train, y_train, **fit_params)\n"
     ]
    },
    {
     "name": "stdout",
     "output_type": "stream",
     "text": [
      "[CV 1/3; 146/180] END bootstrap=True, criterion=entropy, max_depth=10, max_features=auto, min_samples_leaf=5, min_samples_split=4, n_estimators=100;, score=0.525 total time=   1.6s\n",
      "[CV 2/3; 146/180] START bootstrap=True, criterion=entropy, max_depth=10, max_features=auto, min_samples_leaf=5, min_samples_split=4, n_estimators=100\n"
     ]
    },
    {
     "name": "stderr",
     "output_type": "stream",
     "text": [
      "d:\\googledrive\\wirelessmotionintelligence\\2022-knu-wmi\\venv\\lib\\site-packages\\sklearn\\model_selection\\_validation.py:680: DataConversionWarning: A column-vector y was passed when a 1d array was expected. Please change the shape of y to (n_samples,), for example using ravel().\n",
      "  estimator.fit(X_train, y_train, **fit_params)\n"
     ]
    },
    {
     "name": "stdout",
     "output_type": "stream",
     "text": [
      "[CV 2/3; 146/180] END bootstrap=True, criterion=entropy, max_depth=10, max_features=auto, min_samples_leaf=5, min_samples_split=4, n_estimators=100;, score=0.615 total time=   1.6s\n",
      "[CV 3/3; 146/180] START bootstrap=True, criterion=entropy, max_depth=10, max_features=auto, min_samples_leaf=5, min_samples_split=4, n_estimators=100\n"
     ]
    },
    {
     "name": "stderr",
     "output_type": "stream",
     "text": [
      "d:\\googledrive\\wirelessmotionintelligence\\2022-knu-wmi\\venv\\lib\\site-packages\\sklearn\\model_selection\\_validation.py:680: DataConversionWarning: A column-vector y was passed when a 1d array was expected. Please change the shape of y to (n_samples,), for example using ravel().\n",
      "  estimator.fit(X_train, y_train, **fit_params)\n"
     ]
    },
    {
     "name": "stdout",
     "output_type": "stream",
     "text": [
      "[CV 3/3; 146/180] END bootstrap=True, criterion=entropy, max_depth=10, max_features=auto, min_samples_leaf=5, min_samples_split=4, n_estimators=100;, score=0.487 total time=   1.6s\n",
      "[CV 1/3; 147/180] START bootstrap=True, criterion=entropy, max_depth=10, max_features=auto, min_samples_leaf=5, min_samples_split=4, n_estimators=200\n"
     ]
    },
    {
     "name": "stderr",
     "output_type": "stream",
     "text": [
      "d:\\googledrive\\wirelessmotionintelligence\\2022-knu-wmi\\venv\\lib\\site-packages\\sklearn\\model_selection\\_validation.py:680: DataConversionWarning: A column-vector y was passed when a 1d array was expected. Please change the shape of y to (n_samples,), for example using ravel().\n",
      "  estimator.fit(X_train, y_train, **fit_params)\n"
     ]
    },
    {
     "name": "stdout",
     "output_type": "stream",
     "text": [
      "[CV 1/3; 147/180] END bootstrap=True, criterion=entropy, max_depth=10, max_features=auto, min_samples_leaf=5, min_samples_split=4, n_estimators=200;, score=0.500 total time=   2.5s\n",
      "[CV 2/3; 147/180] START bootstrap=True, criterion=entropy, max_depth=10, max_features=auto, min_samples_leaf=5, min_samples_split=4, n_estimators=200\n"
     ]
    },
    {
     "name": "stderr",
     "output_type": "stream",
     "text": [
      "d:\\googledrive\\wirelessmotionintelligence\\2022-knu-wmi\\venv\\lib\\site-packages\\sklearn\\model_selection\\_validation.py:680: DataConversionWarning: A column-vector y was passed when a 1d array was expected. Please change the shape of y to (n_samples,), for example using ravel().\n",
      "  estimator.fit(X_train, y_train, **fit_params)\n"
     ]
    },
    {
     "name": "stdout",
     "output_type": "stream",
     "text": [
      "[CV 2/3; 147/180] END bootstrap=True, criterion=entropy, max_depth=10, max_features=auto, min_samples_leaf=5, min_samples_split=4, n_estimators=200;, score=0.615 total time=   2.5s\n",
      "[CV 3/3; 147/180] START bootstrap=True, criterion=entropy, max_depth=10, max_features=auto, min_samples_leaf=5, min_samples_split=4, n_estimators=200\n"
     ]
    },
    {
     "name": "stderr",
     "output_type": "stream",
     "text": [
      "d:\\googledrive\\wirelessmotionintelligence\\2022-knu-wmi\\venv\\lib\\site-packages\\sklearn\\model_selection\\_validation.py:680: DataConversionWarning: A column-vector y was passed when a 1d array was expected. Please change the shape of y to (n_samples,), for example using ravel().\n",
      "  estimator.fit(X_train, y_train, **fit_params)\n"
     ]
    },
    {
     "name": "stdout",
     "output_type": "stream",
     "text": [
      "[CV 3/3; 147/180] END bootstrap=True, criterion=entropy, max_depth=10, max_features=auto, min_samples_leaf=5, min_samples_split=4, n_estimators=200;, score=0.513 total time=   2.6s\n",
      "[CV 1/3; 148/180] START bootstrap=True, criterion=entropy, max_depth=10, max_features=auto, min_samples_leaf=5, min_samples_split=4, n_estimators=300\n"
     ]
    },
    {
     "name": "stderr",
     "output_type": "stream",
     "text": [
      "d:\\googledrive\\wirelessmotionintelligence\\2022-knu-wmi\\venv\\lib\\site-packages\\sklearn\\model_selection\\_validation.py:680: DataConversionWarning: A column-vector y was passed when a 1d array was expected. Please change the shape of y to (n_samples,), for example using ravel().\n",
      "  estimator.fit(X_train, y_train, **fit_params)\n"
     ]
    },
    {
     "name": "stdout",
     "output_type": "stream",
     "text": [
      "[CV 1/3; 148/180] END bootstrap=True, criterion=entropy, max_depth=10, max_features=auto, min_samples_leaf=5, min_samples_split=4, n_estimators=300;, score=0.550 total time=   3.5s\n",
      "[CV 2/3; 148/180] START bootstrap=True, criterion=entropy, max_depth=10, max_features=auto, min_samples_leaf=5, min_samples_split=4, n_estimators=300\n"
     ]
    },
    {
     "name": "stderr",
     "output_type": "stream",
     "text": [
      "d:\\googledrive\\wirelessmotionintelligence\\2022-knu-wmi\\venv\\lib\\site-packages\\sklearn\\model_selection\\_validation.py:680: DataConversionWarning: A column-vector y was passed when a 1d array was expected. Please change the shape of y to (n_samples,), for example using ravel().\n",
      "  estimator.fit(X_train, y_train, **fit_params)\n"
     ]
    },
    {
     "name": "stdout",
     "output_type": "stream",
     "text": [
      "[CV 2/3; 148/180] END bootstrap=True, criterion=entropy, max_depth=10, max_features=auto, min_samples_leaf=5, min_samples_split=4, n_estimators=300;, score=0.641 total time=   3.6s\n",
      "[CV 3/3; 148/180] START bootstrap=True, criterion=entropy, max_depth=10, max_features=auto, min_samples_leaf=5, min_samples_split=4, n_estimators=300\n"
     ]
    },
    {
     "name": "stderr",
     "output_type": "stream",
     "text": [
      "d:\\googledrive\\wirelessmotionintelligence\\2022-knu-wmi\\venv\\lib\\site-packages\\sklearn\\model_selection\\_validation.py:680: DataConversionWarning: A column-vector y was passed when a 1d array was expected. Please change the shape of y to (n_samples,), for example using ravel().\n",
      "  estimator.fit(X_train, y_train, **fit_params)\n"
     ]
    },
    {
     "name": "stdout",
     "output_type": "stream",
     "text": [
      "[CV 3/3; 148/180] END bootstrap=True, criterion=entropy, max_depth=10, max_features=auto, min_samples_leaf=5, min_samples_split=4, n_estimators=300;, score=0.462 total time=   3.6s\n",
      "[CV 1/3; 149/180] START bootstrap=True, criterion=entropy, max_depth=10, max_features=auto, min_samples_leaf=5, min_samples_split=10, n_estimators=50\n"
     ]
    },
    {
     "name": "stderr",
     "output_type": "stream",
     "text": [
      "d:\\googledrive\\wirelessmotionintelligence\\2022-knu-wmi\\venv\\lib\\site-packages\\sklearn\\model_selection\\_validation.py:680: DataConversionWarning: A column-vector y was passed when a 1d array was expected. Please change the shape of y to (n_samples,), for example using ravel().\n",
      "  estimator.fit(X_train, y_train, **fit_params)\n"
     ]
    },
    {
     "name": "stdout",
     "output_type": "stream",
     "text": [
      "[CV 1/3; 149/180] END bootstrap=True, criterion=entropy, max_depth=10, max_features=auto, min_samples_leaf=5, min_samples_split=10, n_estimators=50;, score=0.600 total time=   1.1s\n",
      "[CV 2/3; 149/180] START bootstrap=True, criterion=entropy, max_depth=10, max_features=auto, min_samples_leaf=5, min_samples_split=10, n_estimators=50\n"
     ]
    },
    {
     "name": "stderr",
     "output_type": "stream",
     "text": [
      "d:\\googledrive\\wirelessmotionintelligence\\2022-knu-wmi\\venv\\lib\\site-packages\\sklearn\\model_selection\\_validation.py:680: DataConversionWarning: A column-vector y was passed when a 1d array was expected. Please change the shape of y to (n_samples,), for example using ravel().\n",
      "  estimator.fit(X_train, y_train, **fit_params)\n"
     ]
    },
    {
     "name": "stdout",
     "output_type": "stream",
     "text": [
      "[CV 2/3; 149/180] END bootstrap=True, criterion=entropy, max_depth=10, max_features=auto, min_samples_leaf=5, min_samples_split=10, n_estimators=50;, score=0.513 total time=   1.1s\n",
      "[CV 3/3; 149/180] START bootstrap=True, criterion=entropy, max_depth=10, max_features=auto, min_samples_leaf=5, min_samples_split=10, n_estimators=50\n"
     ]
    },
    {
     "name": "stderr",
     "output_type": "stream",
     "text": [
      "d:\\googledrive\\wirelessmotionintelligence\\2022-knu-wmi\\venv\\lib\\site-packages\\sklearn\\model_selection\\_validation.py:680: DataConversionWarning: A column-vector y was passed when a 1d array was expected. Please change the shape of y to (n_samples,), for example using ravel().\n",
      "  estimator.fit(X_train, y_train, **fit_params)\n"
     ]
    },
    {
     "name": "stdout",
     "output_type": "stream",
     "text": [
      "[CV 3/3; 149/180] END bootstrap=True, criterion=entropy, max_depth=10, max_features=auto, min_samples_leaf=5, min_samples_split=10, n_estimators=50;, score=0.436 total time=   1.1s\n",
      "[CV 1/3; 150/180] START bootstrap=True, criterion=entropy, max_depth=10, max_features=auto, min_samples_leaf=5, min_samples_split=10, n_estimators=100\n"
     ]
    },
    {
     "name": "stderr",
     "output_type": "stream",
     "text": [
      "d:\\googledrive\\wirelessmotionintelligence\\2022-knu-wmi\\venv\\lib\\site-packages\\sklearn\\model_selection\\_validation.py:680: DataConversionWarning: A column-vector y was passed when a 1d array was expected. Please change the shape of y to (n_samples,), for example using ravel().\n",
      "  estimator.fit(X_train, y_train, **fit_params)\n"
     ]
    },
    {
     "name": "stdout",
     "output_type": "stream",
     "text": [
      "[CV 1/3; 150/180] END bootstrap=True, criterion=entropy, max_depth=10, max_features=auto, min_samples_leaf=5, min_samples_split=10, n_estimators=100;, score=0.525 total time=   1.6s\n",
      "[CV 2/3; 150/180] START bootstrap=True, criterion=entropy, max_depth=10, max_features=auto, min_samples_leaf=5, min_samples_split=10, n_estimators=100\n"
     ]
    },
    {
     "name": "stderr",
     "output_type": "stream",
     "text": [
      "d:\\googledrive\\wirelessmotionintelligence\\2022-knu-wmi\\venv\\lib\\site-packages\\sklearn\\model_selection\\_validation.py:680: DataConversionWarning: A column-vector y was passed when a 1d array was expected. Please change the shape of y to (n_samples,), for example using ravel().\n",
      "  estimator.fit(X_train, y_train, **fit_params)\n"
     ]
    },
    {
     "name": "stdout",
     "output_type": "stream",
     "text": [
      "[CV 2/3; 150/180] END bootstrap=True, criterion=entropy, max_depth=10, max_features=auto, min_samples_leaf=5, min_samples_split=10, n_estimators=100;, score=0.615 total time=   1.6s\n",
      "[CV 3/3; 150/180] START bootstrap=True, criterion=entropy, max_depth=10, max_features=auto, min_samples_leaf=5, min_samples_split=10, n_estimators=100\n"
     ]
    },
    {
     "name": "stderr",
     "output_type": "stream",
     "text": [
      "d:\\googledrive\\wirelessmotionintelligence\\2022-knu-wmi\\venv\\lib\\site-packages\\sklearn\\model_selection\\_validation.py:680: DataConversionWarning: A column-vector y was passed when a 1d array was expected. Please change the shape of y to (n_samples,), for example using ravel().\n",
      "  estimator.fit(X_train, y_train, **fit_params)\n"
     ]
    },
    {
     "name": "stdout",
     "output_type": "stream",
     "text": [
      "[CV 3/3; 150/180] END bootstrap=True, criterion=entropy, max_depth=10, max_features=auto, min_samples_leaf=5, min_samples_split=10, n_estimators=100;, score=0.487 total time=   1.6s\n",
      "[CV 1/3; 151/180] START bootstrap=True, criterion=entropy, max_depth=10, max_features=auto, min_samples_leaf=5, min_samples_split=10, n_estimators=200\n"
     ]
    },
    {
     "name": "stderr",
     "output_type": "stream",
     "text": [
      "d:\\googledrive\\wirelessmotionintelligence\\2022-knu-wmi\\venv\\lib\\site-packages\\sklearn\\model_selection\\_validation.py:680: DataConversionWarning: A column-vector y was passed when a 1d array was expected. Please change the shape of y to (n_samples,), for example using ravel().\n",
      "  estimator.fit(X_train, y_train, **fit_params)\n"
     ]
    },
    {
     "name": "stdout",
     "output_type": "stream",
     "text": [
      "[CV 1/3; 151/180] END bootstrap=True, criterion=entropy, max_depth=10, max_features=auto, min_samples_leaf=5, min_samples_split=10, n_estimators=200;, score=0.500 total time=   2.6s\n",
      "[CV 2/3; 151/180] START bootstrap=True, criterion=entropy, max_depth=10, max_features=auto, min_samples_leaf=5, min_samples_split=10, n_estimators=200\n"
     ]
    },
    {
     "name": "stderr",
     "output_type": "stream",
     "text": [
      "d:\\googledrive\\wirelessmotionintelligence\\2022-knu-wmi\\venv\\lib\\site-packages\\sklearn\\model_selection\\_validation.py:680: DataConversionWarning: A column-vector y was passed when a 1d array was expected. Please change the shape of y to (n_samples,), for example using ravel().\n",
      "  estimator.fit(X_train, y_train, **fit_params)\n"
     ]
    },
    {
     "name": "stdout",
     "output_type": "stream",
     "text": [
      "[CV 2/3; 151/180] END bootstrap=True, criterion=entropy, max_depth=10, max_features=auto, min_samples_leaf=5, min_samples_split=10, n_estimators=200;, score=0.615 total time=   2.5s\n",
      "[CV 3/3; 151/180] START bootstrap=True, criterion=entropy, max_depth=10, max_features=auto, min_samples_leaf=5, min_samples_split=10, n_estimators=200\n"
     ]
    },
    {
     "name": "stderr",
     "output_type": "stream",
     "text": [
      "d:\\googledrive\\wirelessmotionintelligence\\2022-knu-wmi\\venv\\lib\\site-packages\\sklearn\\model_selection\\_validation.py:680: DataConversionWarning: A column-vector y was passed when a 1d array was expected. Please change the shape of y to (n_samples,), for example using ravel().\n",
      "  estimator.fit(X_train, y_train, **fit_params)\n"
     ]
    },
    {
     "name": "stdout",
     "output_type": "stream",
     "text": [
      "[CV 3/3; 151/180] END bootstrap=True, criterion=entropy, max_depth=10, max_features=auto, min_samples_leaf=5, min_samples_split=10, n_estimators=200;, score=0.513 total time=   2.5s\n",
      "[CV 1/3; 152/180] START bootstrap=True, criterion=entropy, max_depth=10, max_features=auto, min_samples_leaf=5, min_samples_split=10, n_estimators=300\n"
     ]
    },
    {
     "name": "stderr",
     "output_type": "stream",
     "text": [
      "d:\\googledrive\\wirelessmotionintelligence\\2022-knu-wmi\\venv\\lib\\site-packages\\sklearn\\model_selection\\_validation.py:680: DataConversionWarning: A column-vector y was passed when a 1d array was expected. Please change the shape of y to (n_samples,), for example using ravel().\n",
      "  estimator.fit(X_train, y_train, **fit_params)\n"
     ]
    },
    {
     "name": "stdout",
     "output_type": "stream",
     "text": [
      "[CV 1/3; 152/180] END bootstrap=True, criterion=entropy, max_depth=10, max_features=auto, min_samples_leaf=5, min_samples_split=10, n_estimators=300;, score=0.550 total time=   3.6s\n",
      "[CV 2/3; 152/180] START bootstrap=True, criterion=entropy, max_depth=10, max_features=auto, min_samples_leaf=5, min_samples_split=10, n_estimators=300\n"
     ]
    },
    {
     "name": "stderr",
     "output_type": "stream",
     "text": [
      "d:\\googledrive\\wirelessmotionintelligence\\2022-knu-wmi\\venv\\lib\\site-packages\\sklearn\\model_selection\\_validation.py:680: DataConversionWarning: A column-vector y was passed when a 1d array was expected. Please change the shape of y to (n_samples,), for example using ravel().\n",
      "  estimator.fit(X_train, y_train, **fit_params)\n"
     ]
    },
    {
     "name": "stdout",
     "output_type": "stream",
     "text": [
      "[CV 2/3; 152/180] END bootstrap=True, criterion=entropy, max_depth=10, max_features=auto, min_samples_leaf=5, min_samples_split=10, n_estimators=300;, score=0.641 total time=   3.6s\n",
      "[CV 3/3; 152/180] START bootstrap=True, criterion=entropy, max_depth=10, max_features=auto, min_samples_leaf=5, min_samples_split=10, n_estimators=300\n"
     ]
    },
    {
     "name": "stderr",
     "output_type": "stream",
     "text": [
      "d:\\googledrive\\wirelessmotionintelligence\\2022-knu-wmi\\venv\\lib\\site-packages\\sklearn\\model_selection\\_validation.py:680: DataConversionWarning: A column-vector y was passed when a 1d array was expected. Please change the shape of y to (n_samples,), for example using ravel().\n",
      "  estimator.fit(X_train, y_train, **fit_params)\n"
     ]
    },
    {
     "name": "stdout",
     "output_type": "stream",
     "text": [
      "[CV 3/3; 152/180] END bootstrap=True, criterion=entropy, max_depth=10, max_features=auto, min_samples_leaf=5, min_samples_split=10, n_estimators=300;, score=0.462 total time=   3.6s\n",
      "[CV 1/3; 153/180] START bootstrap=True, criterion=entropy, max_depth=10, max_features=auto, min_samples_leaf=5, min_samples_split=12, n_estimators=50\n"
     ]
    },
    {
     "name": "stderr",
     "output_type": "stream",
     "text": [
      "d:\\googledrive\\wirelessmotionintelligence\\2022-knu-wmi\\venv\\lib\\site-packages\\sklearn\\model_selection\\_validation.py:680: DataConversionWarning: A column-vector y was passed when a 1d array was expected. Please change the shape of y to (n_samples,), for example using ravel().\n",
      "  estimator.fit(X_train, y_train, **fit_params)\n"
     ]
    },
    {
     "name": "stdout",
     "output_type": "stream",
     "text": [
      "[CV 1/3; 153/180] END bootstrap=True, criterion=entropy, max_depth=10, max_features=auto, min_samples_leaf=5, min_samples_split=12, n_estimators=50;, score=0.600 total time=   1.1s\n",
      "[CV 2/3; 153/180] START bootstrap=True, criterion=entropy, max_depth=10, max_features=auto, min_samples_leaf=5, min_samples_split=12, n_estimators=50\n"
     ]
    },
    {
     "name": "stderr",
     "output_type": "stream",
     "text": [
      "d:\\googledrive\\wirelessmotionintelligence\\2022-knu-wmi\\venv\\lib\\site-packages\\sklearn\\model_selection\\_validation.py:680: DataConversionWarning: A column-vector y was passed when a 1d array was expected. Please change the shape of y to (n_samples,), for example using ravel().\n",
      "  estimator.fit(X_train, y_train, **fit_params)\n"
     ]
    },
    {
     "name": "stdout",
     "output_type": "stream",
     "text": [
      "[CV 2/3; 153/180] END bootstrap=True, criterion=entropy, max_depth=10, max_features=auto, min_samples_leaf=5, min_samples_split=12, n_estimators=50;, score=0.564 total time=   1.1s\n",
      "[CV 3/3; 153/180] START bootstrap=True, criterion=entropy, max_depth=10, max_features=auto, min_samples_leaf=5, min_samples_split=12, n_estimators=50\n"
     ]
    },
    {
     "name": "stderr",
     "output_type": "stream",
     "text": [
      "d:\\googledrive\\wirelessmotionintelligence\\2022-knu-wmi\\venv\\lib\\site-packages\\sklearn\\model_selection\\_validation.py:680: DataConversionWarning: A column-vector y was passed when a 1d array was expected. Please change the shape of y to (n_samples,), for example using ravel().\n",
      "  estimator.fit(X_train, y_train, **fit_params)\n"
     ]
    },
    {
     "name": "stdout",
     "output_type": "stream",
     "text": [
      "[CV 3/3; 153/180] END bootstrap=True, criterion=entropy, max_depth=10, max_features=auto, min_samples_leaf=5, min_samples_split=12, n_estimators=50;, score=0.410 total time=   1.1s\n",
      "[CV 1/3; 154/180] START bootstrap=True, criterion=entropy, max_depth=10, max_features=auto, min_samples_leaf=5, min_samples_split=12, n_estimators=100\n"
     ]
    },
    {
     "name": "stderr",
     "output_type": "stream",
     "text": [
      "d:\\googledrive\\wirelessmotionintelligence\\2022-knu-wmi\\venv\\lib\\site-packages\\sklearn\\model_selection\\_validation.py:680: DataConversionWarning: A column-vector y was passed when a 1d array was expected. Please change the shape of y to (n_samples,), for example using ravel().\n",
      "  estimator.fit(X_train, y_train, **fit_params)\n"
     ]
    },
    {
     "name": "stdout",
     "output_type": "stream",
     "text": [
      "[CV 1/3; 154/180] END bootstrap=True, criterion=entropy, max_depth=10, max_features=auto, min_samples_leaf=5, min_samples_split=12, n_estimators=100;, score=0.550 total time=   1.7s\n",
      "[CV 2/3; 154/180] START bootstrap=True, criterion=entropy, max_depth=10, max_features=auto, min_samples_leaf=5, min_samples_split=12, n_estimators=100\n"
     ]
    },
    {
     "name": "stderr",
     "output_type": "stream",
     "text": [
      "d:\\googledrive\\wirelessmotionintelligence\\2022-knu-wmi\\venv\\lib\\site-packages\\sklearn\\model_selection\\_validation.py:680: DataConversionWarning: A column-vector y was passed when a 1d array was expected. Please change the shape of y to (n_samples,), for example using ravel().\n",
      "  estimator.fit(X_train, y_train, **fit_params)\n"
     ]
    },
    {
     "name": "stdout",
     "output_type": "stream",
     "text": [
      "[CV 2/3; 154/180] END bootstrap=True, criterion=entropy, max_depth=10, max_features=auto, min_samples_leaf=5, min_samples_split=12, n_estimators=100;, score=0.641 total time=   1.6s\n",
      "[CV 3/3; 154/180] START bootstrap=True, criterion=entropy, max_depth=10, max_features=auto, min_samples_leaf=5, min_samples_split=12, n_estimators=100\n"
     ]
    },
    {
     "name": "stderr",
     "output_type": "stream",
     "text": [
      "d:\\googledrive\\wirelessmotionintelligence\\2022-knu-wmi\\venv\\lib\\site-packages\\sklearn\\model_selection\\_validation.py:680: DataConversionWarning: A column-vector y was passed when a 1d array was expected. Please change the shape of y to (n_samples,), for example using ravel().\n",
      "  estimator.fit(X_train, y_train, **fit_params)\n"
     ]
    },
    {
     "name": "stdout",
     "output_type": "stream",
     "text": [
      "[CV 3/3; 154/180] END bootstrap=True, criterion=entropy, max_depth=10, max_features=auto, min_samples_leaf=5, min_samples_split=12, n_estimators=100;, score=0.487 total time=   1.6s\n",
      "[CV 1/3; 155/180] START bootstrap=True, criterion=entropy, max_depth=10, max_features=auto, min_samples_leaf=5, min_samples_split=12, n_estimators=200\n"
     ]
    },
    {
     "name": "stderr",
     "output_type": "stream",
     "text": [
      "d:\\googledrive\\wirelessmotionintelligence\\2022-knu-wmi\\venv\\lib\\site-packages\\sklearn\\model_selection\\_validation.py:680: DataConversionWarning: A column-vector y was passed when a 1d array was expected. Please change the shape of y to (n_samples,), for example using ravel().\n",
      "  estimator.fit(X_train, y_train, **fit_params)\n"
     ]
    },
    {
     "name": "stdout",
     "output_type": "stream",
     "text": [
      "[CV 1/3; 155/180] END bootstrap=True, criterion=entropy, max_depth=10, max_features=auto, min_samples_leaf=5, min_samples_split=12, n_estimators=200;, score=0.500 total time=   2.5s\n",
      "[CV 2/3; 155/180] START bootstrap=True, criterion=entropy, max_depth=10, max_features=auto, min_samples_leaf=5, min_samples_split=12, n_estimators=200\n"
     ]
    },
    {
     "name": "stderr",
     "output_type": "stream",
     "text": [
      "d:\\googledrive\\wirelessmotionintelligence\\2022-knu-wmi\\venv\\lib\\site-packages\\sklearn\\model_selection\\_validation.py:680: DataConversionWarning: A column-vector y was passed when a 1d array was expected. Please change the shape of y to (n_samples,), for example using ravel().\n",
      "  estimator.fit(X_train, y_train, **fit_params)\n"
     ]
    },
    {
     "name": "stdout",
     "output_type": "stream",
     "text": [
      "[CV 2/3; 155/180] END bootstrap=True, criterion=entropy, max_depth=10, max_features=auto, min_samples_leaf=5, min_samples_split=12, n_estimators=200;, score=0.615 total time=   2.6s\n",
      "[CV 3/3; 155/180] START bootstrap=True, criterion=entropy, max_depth=10, max_features=auto, min_samples_leaf=5, min_samples_split=12, n_estimators=200\n"
     ]
    },
    {
     "name": "stderr",
     "output_type": "stream",
     "text": [
      "d:\\googledrive\\wirelessmotionintelligence\\2022-knu-wmi\\venv\\lib\\site-packages\\sklearn\\model_selection\\_validation.py:680: DataConversionWarning: A column-vector y was passed when a 1d array was expected. Please change the shape of y to (n_samples,), for example using ravel().\n",
      "  estimator.fit(X_train, y_train, **fit_params)\n"
     ]
    },
    {
     "name": "stdout",
     "output_type": "stream",
     "text": [
      "[CV 3/3; 155/180] END bootstrap=True, criterion=entropy, max_depth=10, max_features=auto, min_samples_leaf=5, min_samples_split=12, n_estimators=200;, score=0.513 total time=   2.9s\n",
      "[CV 1/3; 156/180] START bootstrap=True, criterion=entropy, max_depth=10, max_features=auto, min_samples_leaf=5, min_samples_split=12, n_estimators=300\n"
     ]
    },
    {
     "name": "stderr",
     "output_type": "stream",
     "text": [
      "d:\\googledrive\\wirelessmotionintelligence\\2022-knu-wmi\\venv\\lib\\site-packages\\sklearn\\model_selection\\_validation.py:680: DataConversionWarning: A column-vector y was passed when a 1d array was expected. Please change the shape of y to (n_samples,), for example using ravel().\n",
      "  estimator.fit(X_train, y_train, **fit_params)\n"
     ]
    },
    {
     "name": "stdout",
     "output_type": "stream",
     "text": [
      "[CV 1/3; 156/180] END bootstrap=True, criterion=entropy, max_depth=10, max_features=auto, min_samples_leaf=5, min_samples_split=12, n_estimators=300;, score=0.575 total time=   3.6s\n",
      "[CV 2/3; 156/180] START bootstrap=True, criterion=entropy, max_depth=10, max_features=auto, min_samples_leaf=5, min_samples_split=12, n_estimators=300\n"
     ]
    },
    {
     "name": "stderr",
     "output_type": "stream",
     "text": [
      "d:\\googledrive\\wirelessmotionintelligence\\2022-knu-wmi\\venv\\lib\\site-packages\\sklearn\\model_selection\\_validation.py:680: DataConversionWarning: A column-vector y was passed when a 1d array was expected. Please change the shape of y to (n_samples,), for example using ravel().\n",
      "  estimator.fit(X_train, y_train, **fit_params)\n"
     ]
    },
    {
     "name": "stdout",
     "output_type": "stream",
     "text": [
      "[CV 2/3; 156/180] END bootstrap=True, criterion=entropy, max_depth=10, max_features=auto, min_samples_leaf=5, min_samples_split=12, n_estimators=300;, score=0.615 total time=   3.6s\n",
      "[CV 3/3; 156/180] START bootstrap=True, criterion=entropy, max_depth=10, max_features=auto, min_samples_leaf=5, min_samples_split=12, n_estimators=300\n"
     ]
    },
    {
     "name": "stderr",
     "output_type": "stream",
     "text": [
      "d:\\googledrive\\wirelessmotionintelligence\\2022-knu-wmi\\venv\\lib\\site-packages\\sklearn\\model_selection\\_validation.py:680: DataConversionWarning: A column-vector y was passed when a 1d array was expected. Please change the shape of y to (n_samples,), for example using ravel().\n",
      "  estimator.fit(X_train, y_train, **fit_params)\n"
     ]
    },
    {
     "name": "stdout",
     "output_type": "stream",
     "text": [
      "[CV 3/3; 156/180] END bootstrap=True, criterion=entropy, max_depth=10, max_features=auto, min_samples_leaf=5, min_samples_split=12, n_estimators=300;, score=0.462 total time=   3.8s\n",
      "[CV 1/3; 157/180] START bootstrap=True, criterion=entropy, max_depth=10, max_features=auto, min_samples_leaf=5, min_samples_split=16, n_estimators=50\n"
     ]
    },
    {
     "name": "stderr",
     "output_type": "stream",
     "text": [
      "d:\\googledrive\\wirelessmotionintelligence\\2022-knu-wmi\\venv\\lib\\site-packages\\sklearn\\model_selection\\_validation.py:680: DataConversionWarning: A column-vector y was passed when a 1d array was expected. Please change the shape of y to (n_samples,), for example using ravel().\n",
      "  estimator.fit(X_train, y_train, **fit_params)\n"
     ]
    },
    {
     "name": "stdout",
     "output_type": "stream",
     "text": [
      "[CV 1/3; 157/180] END bootstrap=True, criterion=entropy, max_depth=10, max_features=auto, min_samples_leaf=5, min_samples_split=16, n_estimators=50;, score=0.525 total time=   1.1s\n",
      "[CV 2/3; 157/180] START bootstrap=True, criterion=entropy, max_depth=10, max_features=auto, min_samples_leaf=5, min_samples_split=16, n_estimators=50\n"
     ]
    },
    {
     "name": "stderr",
     "output_type": "stream",
     "text": [
      "d:\\googledrive\\wirelessmotionintelligence\\2022-knu-wmi\\venv\\lib\\site-packages\\sklearn\\model_selection\\_validation.py:680: DataConversionWarning: A column-vector y was passed when a 1d array was expected. Please change the shape of y to (n_samples,), for example using ravel().\n",
      "  estimator.fit(X_train, y_train, **fit_params)\n"
     ]
    },
    {
     "name": "stdout",
     "output_type": "stream",
     "text": [
      "[CV 2/3; 157/180] END bootstrap=True, criterion=entropy, max_depth=10, max_features=auto, min_samples_leaf=5, min_samples_split=16, n_estimators=50;, score=0.513 total time=   1.1s\n",
      "[CV 3/3; 157/180] START bootstrap=True, criterion=entropy, max_depth=10, max_features=auto, min_samples_leaf=5, min_samples_split=16, n_estimators=50\n"
     ]
    },
    {
     "name": "stderr",
     "output_type": "stream",
     "text": [
      "d:\\googledrive\\wirelessmotionintelligence\\2022-knu-wmi\\venv\\lib\\site-packages\\sklearn\\model_selection\\_validation.py:680: DataConversionWarning: A column-vector y was passed when a 1d array was expected. Please change the shape of y to (n_samples,), for example using ravel().\n",
      "  estimator.fit(X_train, y_train, **fit_params)\n"
     ]
    },
    {
     "name": "stdout",
     "output_type": "stream",
     "text": [
      "[CV 3/3; 157/180] END bootstrap=True, criterion=entropy, max_depth=10, max_features=auto, min_samples_leaf=5, min_samples_split=16, n_estimators=50;, score=0.462 total time=   1.1s\n",
      "[CV 1/3; 158/180] START bootstrap=True, criterion=entropy, max_depth=10, max_features=auto, min_samples_leaf=5, min_samples_split=16, n_estimators=100\n"
     ]
    },
    {
     "name": "stderr",
     "output_type": "stream",
     "text": [
      "d:\\googledrive\\wirelessmotionintelligence\\2022-knu-wmi\\venv\\lib\\site-packages\\sklearn\\model_selection\\_validation.py:680: DataConversionWarning: A column-vector y was passed when a 1d array was expected. Please change the shape of y to (n_samples,), for example using ravel().\n",
      "  estimator.fit(X_train, y_train, **fit_params)\n"
     ]
    },
    {
     "name": "stdout",
     "output_type": "stream",
     "text": [
      "[CV 1/3; 158/180] END bootstrap=True, criterion=entropy, max_depth=10, max_features=auto, min_samples_leaf=5, min_samples_split=16, n_estimators=100;, score=0.525 total time=   2.0s\n",
      "[CV 2/3; 158/180] START bootstrap=True, criterion=entropy, max_depth=10, max_features=auto, min_samples_leaf=5, min_samples_split=16, n_estimators=100\n"
     ]
    },
    {
     "name": "stderr",
     "output_type": "stream",
     "text": [
      "d:\\googledrive\\wirelessmotionintelligence\\2022-knu-wmi\\venv\\lib\\site-packages\\sklearn\\model_selection\\_validation.py:680: DataConversionWarning: A column-vector y was passed when a 1d array was expected. Please change the shape of y to (n_samples,), for example using ravel().\n",
      "  estimator.fit(X_train, y_train, **fit_params)\n"
     ]
    },
    {
     "name": "stdout",
     "output_type": "stream",
     "text": [
      "[CV 2/3; 158/180] END bootstrap=True, criterion=entropy, max_depth=10, max_features=auto, min_samples_leaf=5, min_samples_split=16, n_estimators=100;, score=0.641 total time=   1.7s\n",
      "[CV 3/3; 158/180] START bootstrap=True, criterion=entropy, max_depth=10, max_features=auto, min_samples_leaf=5, min_samples_split=16, n_estimators=100\n"
     ]
    },
    {
     "name": "stderr",
     "output_type": "stream",
     "text": [
      "d:\\googledrive\\wirelessmotionintelligence\\2022-knu-wmi\\venv\\lib\\site-packages\\sklearn\\model_selection\\_validation.py:680: DataConversionWarning: A column-vector y was passed when a 1d array was expected. Please change the shape of y to (n_samples,), for example using ravel().\n",
      "  estimator.fit(X_train, y_train, **fit_params)\n"
     ]
    },
    {
     "name": "stdout",
     "output_type": "stream",
     "text": [
      "[CV 3/3; 158/180] END bootstrap=True, criterion=entropy, max_depth=10, max_features=auto, min_samples_leaf=5, min_samples_split=16, n_estimators=100;, score=0.462 total time=   1.7s\n",
      "[CV 1/3; 159/180] START bootstrap=True, criterion=entropy, max_depth=10, max_features=auto, min_samples_leaf=5, min_samples_split=16, n_estimators=200\n"
     ]
    },
    {
     "name": "stderr",
     "output_type": "stream",
     "text": [
      "d:\\googledrive\\wirelessmotionintelligence\\2022-knu-wmi\\venv\\lib\\site-packages\\sklearn\\model_selection\\_validation.py:680: DataConversionWarning: A column-vector y was passed when a 1d array was expected. Please change the shape of y to (n_samples,), for example using ravel().\n",
      "  estimator.fit(X_train, y_train, **fit_params)\n"
     ]
    },
    {
     "name": "stdout",
     "output_type": "stream",
     "text": [
      "[CV 1/3; 159/180] END bootstrap=True, criterion=entropy, max_depth=10, max_features=auto, min_samples_leaf=5, min_samples_split=16, n_estimators=200;, score=0.500 total time=   2.2s\n",
      "[CV 2/3; 159/180] START bootstrap=True, criterion=entropy, max_depth=10, max_features=auto, min_samples_leaf=5, min_samples_split=16, n_estimators=200\n"
     ]
    },
    {
     "name": "stderr",
     "output_type": "stream",
     "text": [
      "d:\\googledrive\\wirelessmotionintelligence\\2022-knu-wmi\\venv\\lib\\site-packages\\sklearn\\model_selection\\_validation.py:680: DataConversionWarning: A column-vector y was passed when a 1d array was expected. Please change the shape of y to (n_samples,), for example using ravel().\n",
      "  estimator.fit(X_train, y_train, **fit_params)\n"
     ]
    },
    {
     "name": "stdout",
     "output_type": "stream",
     "text": [
      "[CV 2/3; 159/180] END bootstrap=True, criterion=entropy, max_depth=10, max_features=auto, min_samples_leaf=5, min_samples_split=16, n_estimators=200;, score=0.590 total time=   2.7s\n",
      "[CV 3/3; 159/180] START bootstrap=True, criterion=entropy, max_depth=10, max_features=auto, min_samples_leaf=5, min_samples_split=16, n_estimators=200\n"
     ]
    },
    {
     "name": "stderr",
     "output_type": "stream",
     "text": [
      "d:\\googledrive\\wirelessmotionintelligence\\2022-knu-wmi\\venv\\lib\\site-packages\\sklearn\\model_selection\\_validation.py:680: DataConversionWarning: A column-vector y was passed when a 1d array was expected. Please change the shape of y to (n_samples,), for example using ravel().\n",
      "  estimator.fit(X_train, y_train, **fit_params)\n"
     ]
    },
    {
     "name": "stdout",
     "output_type": "stream",
     "text": [
      "[CV 3/3; 159/180] END bootstrap=True, criterion=entropy, max_depth=10, max_features=auto, min_samples_leaf=5, min_samples_split=16, n_estimators=200;, score=0.538 total time=   2.8s\n",
      "[CV 1/3; 160/180] START bootstrap=True, criterion=entropy, max_depth=10, max_features=auto, min_samples_leaf=5, min_samples_split=16, n_estimators=300\n"
     ]
    },
    {
     "name": "stderr",
     "output_type": "stream",
     "text": [
      "d:\\googledrive\\wirelessmotionintelligence\\2022-knu-wmi\\venv\\lib\\site-packages\\sklearn\\model_selection\\_validation.py:680: DataConversionWarning: A column-vector y was passed when a 1d array was expected. Please change the shape of y to (n_samples,), for example using ravel().\n",
      "  estimator.fit(X_train, y_train, **fit_params)\n"
     ]
    },
    {
     "name": "stdout",
     "output_type": "stream",
     "text": [
      "[CV 1/3; 160/180] END bootstrap=True, criterion=entropy, max_depth=10, max_features=auto, min_samples_leaf=5, min_samples_split=16, n_estimators=300;, score=0.525 total time=   3.7s\n",
      "[CV 2/3; 160/180] START bootstrap=True, criterion=entropy, max_depth=10, max_features=auto, min_samples_leaf=5, min_samples_split=16, n_estimators=300\n"
     ]
    },
    {
     "name": "stderr",
     "output_type": "stream",
     "text": [
      "d:\\googledrive\\wirelessmotionintelligence\\2022-knu-wmi\\venv\\lib\\site-packages\\sklearn\\model_selection\\_validation.py:680: DataConversionWarning: A column-vector y was passed when a 1d array was expected. Please change the shape of y to (n_samples,), for example using ravel().\n",
      "  estimator.fit(X_train, y_train, **fit_params)\n"
     ]
    },
    {
     "name": "stdout",
     "output_type": "stream",
     "text": [
      "[CV 2/3; 160/180] END bootstrap=True, criterion=entropy, max_depth=10, max_features=auto, min_samples_leaf=5, min_samples_split=16, n_estimators=300;, score=0.615 total time=   3.6s\n",
      "[CV 3/3; 160/180] START bootstrap=True, criterion=entropy, max_depth=10, max_features=auto, min_samples_leaf=5, min_samples_split=16, n_estimators=300\n"
     ]
    },
    {
     "name": "stderr",
     "output_type": "stream",
     "text": [
      "d:\\googledrive\\wirelessmotionintelligence\\2022-knu-wmi\\venv\\lib\\site-packages\\sklearn\\model_selection\\_validation.py:680: DataConversionWarning: A column-vector y was passed when a 1d array was expected. Please change the shape of y to (n_samples,), for example using ravel().\n",
      "  estimator.fit(X_train, y_train, **fit_params)\n"
     ]
    },
    {
     "name": "stdout",
     "output_type": "stream",
     "text": [
      "[CV 3/3; 160/180] END bootstrap=True, criterion=entropy, max_depth=10, max_features=auto, min_samples_leaf=5, min_samples_split=16, n_estimators=300;, score=0.462 total time=   3.3s\n",
      "[CV 1/3; 161/180] START bootstrap=True, criterion=entropy, max_depth=10, max_features=auto, min_samples_leaf=10, min_samples_split=2, n_estimators=50\n"
     ]
    },
    {
     "name": "stderr",
     "output_type": "stream",
     "text": [
      "d:\\googledrive\\wirelessmotionintelligence\\2022-knu-wmi\\venv\\lib\\site-packages\\sklearn\\model_selection\\_validation.py:680: DataConversionWarning: A column-vector y was passed when a 1d array was expected. Please change the shape of y to (n_samples,), for example using ravel().\n",
      "  estimator.fit(X_train, y_train, **fit_params)\n"
     ]
    },
    {
     "name": "stdout",
     "output_type": "stream",
     "text": [
      "[CV 1/3; 161/180] END bootstrap=True, criterion=entropy, max_depth=10, max_features=auto, min_samples_leaf=10, min_samples_split=2, n_estimators=50;, score=0.600 total time=   1.3s\n",
      "[CV 2/3; 161/180] START bootstrap=True, criterion=entropy, max_depth=10, max_features=auto, min_samples_leaf=10, min_samples_split=2, n_estimators=50\n"
     ]
    },
    {
     "name": "stderr",
     "output_type": "stream",
     "text": [
      "d:\\googledrive\\wirelessmotionintelligence\\2022-knu-wmi\\venv\\lib\\site-packages\\sklearn\\model_selection\\_validation.py:680: DataConversionWarning: A column-vector y was passed when a 1d array was expected. Please change the shape of y to (n_samples,), for example using ravel().\n",
      "  estimator.fit(X_train, y_train, **fit_params)\n"
     ]
    },
    {
     "name": "stdout",
     "output_type": "stream",
     "text": [
      "[CV 2/3; 161/180] END bootstrap=True, criterion=entropy, max_depth=10, max_features=auto, min_samples_leaf=10, min_samples_split=2, n_estimators=50;, score=0.564 total time=   1.2s\n",
      "[CV 3/3; 161/180] START bootstrap=True, criterion=entropy, max_depth=10, max_features=auto, min_samples_leaf=10, min_samples_split=2, n_estimators=50\n"
     ]
    },
    {
     "name": "stderr",
     "output_type": "stream",
     "text": [
      "d:\\googledrive\\wirelessmotionintelligence\\2022-knu-wmi\\venv\\lib\\site-packages\\sklearn\\model_selection\\_validation.py:680: DataConversionWarning: A column-vector y was passed when a 1d array was expected. Please change the shape of y to (n_samples,), for example using ravel().\n",
      "  estimator.fit(X_train, y_train, **fit_params)\n"
     ]
    },
    {
     "name": "stdout",
     "output_type": "stream",
     "text": [
      "[CV 3/3; 161/180] END bootstrap=True, criterion=entropy, max_depth=10, max_features=auto, min_samples_leaf=10, min_samples_split=2, n_estimators=50;, score=0.590 total time=   1.3s\n",
      "[CV 1/3; 162/180] START bootstrap=True, criterion=entropy, max_depth=10, max_features=auto, min_samples_leaf=10, min_samples_split=2, n_estimators=100\n"
     ]
    },
    {
     "name": "stderr",
     "output_type": "stream",
     "text": [
      "d:\\googledrive\\wirelessmotionintelligence\\2022-knu-wmi\\venv\\lib\\site-packages\\sklearn\\model_selection\\_validation.py:680: DataConversionWarning: A column-vector y was passed when a 1d array was expected. Please change the shape of y to (n_samples,), for example using ravel().\n",
      "  estimator.fit(X_train, y_train, **fit_params)\n"
     ]
    },
    {
     "name": "stdout",
     "output_type": "stream",
     "text": [
      "[CV 1/3; 162/180] END bootstrap=True, criterion=entropy, max_depth=10, max_features=auto, min_samples_leaf=10, min_samples_split=2, n_estimators=100;, score=0.550 total time=   1.6s\n",
      "[CV 2/3; 162/180] START bootstrap=True, criterion=entropy, max_depth=10, max_features=auto, min_samples_leaf=10, min_samples_split=2, n_estimators=100\n"
     ]
    },
    {
     "name": "stderr",
     "output_type": "stream",
     "text": [
      "d:\\googledrive\\wirelessmotionintelligence\\2022-knu-wmi\\venv\\lib\\site-packages\\sklearn\\model_selection\\_validation.py:680: DataConversionWarning: A column-vector y was passed when a 1d array was expected. Please change the shape of y to (n_samples,), for example using ravel().\n",
      "  estimator.fit(X_train, y_train, **fit_params)\n"
     ]
    },
    {
     "name": "stdout",
     "output_type": "stream",
     "text": [
      "[CV 2/3; 162/180] END bootstrap=True, criterion=entropy, max_depth=10, max_features=auto, min_samples_leaf=10, min_samples_split=2, n_estimators=100;, score=0.667 total time=   1.7s\n",
      "[CV 3/3; 162/180] START bootstrap=True, criterion=entropy, max_depth=10, max_features=auto, min_samples_leaf=10, min_samples_split=2, n_estimators=100\n"
     ]
    },
    {
     "name": "stderr",
     "output_type": "stream",
     "text": [
      "d:\\googledrive\\wirelessmotionintelligence\\2022-knu-wmi\\venv\\lib\\site-packages\\sklearn\\model_selection\\_validation.py:680: DataConversionWarning: A column-vector y was passed when a 1d array was expected. Please change the shape of y to (n_samples,), for example using ravel().\n",
      "  estimator.fit(X_train, y_train, **fit_params)\n"
     ]
    },
    {
     "name": "stdout",
     "output_type": "stream",
     "text": [
      "[CV 3/3; 162/180] END bootstrap=True, criterion=entropy, max_depth=10, max_features=auto, min_samples_leaf=10, min_samples_split=2, n_estimators=100;, score=0.590 total time=   1.8s\n",
      "[CV 1/3; 163/180] START bootstrap=True, criterion=entropy, max_depth=10, max_features=auto, min_samples_leaf=10, min_samples_split=2, n_estimators=200\n"
     ]
    },
    {
     "name": "stderr",
     "output_type": "stream",
     "text": [
      "d:\\googledrive\\wirelessmotionintelligence\\2022-knu-wmi\\venv\\lib\\site-packages\\sklearn\\model_selection\\_validation.py:680: DataConversionWarning: A column-vector y was passed when a 1d array was expected. Please change the shape of y to (n_samples,), for example using ravel().\n",
      "  estimator.fit(X_train, y_train, **fit_params)\n"
     ]
    },
    {
     "name": "stdout",
     "output_type": "stream",
     "text": [
      "[CV 1/3; 163/180] END bootstrap=True, criterion=entropy, max_depth=10, max_features=auto, min_samples_leaf=10, min_samples_split=2, n_estimators=200;, score=0.500 total time=   2.6s\n",
      "[CV 2/3; 163/180] START bootstrap=True, criterion=entropy, max_depth=10, max_features=auto, min_samples_leaf=10, min_samples_split=2, n_estimators=200\n"
     ]
    },
    {
     "name": "stderr",
     "output_type": "stream",
     "text": [
      "d:\\googledrive\\wirelessmotionintelligence\\2022-knu-wmi\\venv\\lib\\site-packages\\sklearn\\model_selection\\_validation.py:680: DataConversionWarning: A column-vector y was passed when a 1d array was expected. Please change the shape of y to (n_samples,), for example using ravel().\n",
      "  estimator.fit(X_train, y_train, **fit_params)\n"
     ]
    },
    {
     "name": "stdout",
     "output_type": "stream",
     "text": [
      "[CV 2/3; 163/180] END bootstrap=True, criterion=entropy, max_depth=10, max_features=auto, min_samples_leaf=10, min_samples_split=2, n_estimators=200;, score=0.513 total time=   2.4s\n",
      "[CV 3/3; 163/180] START bootstrap=True, criterion=entropy, max_depth=10, max_features=auto, min_samples_leaf=10, min_samples_split=2, n_estimators=200\n"
     ]
    },
    {
     "name": "stderr",
     "output_type": "stream",
     "text": [
      "d:\\googledrive\\wirelessmotionintelligence\\2022-knu-wmi\\venv\\lib\\site-packages\\sklearn\\model_selection\\_validation.py:680: DataConversionWarning: A column-vector y was passed when a 1d array was expected. Please change the shape of y to (n_samples,), for example using ravel().\n",
      "  estimator.fit(X_train, y_train, **fit_params)\n"
     ]
    },
    {
     "name": "stdout",
     "output_type": "stream",
     "text": [
      "[CV 3/3; 163/180] END bootstrap=True, criterion=entropy, max_depth=10, max_features=auto, min_samples_leaf=10, min_samples_split=2, n_estimators=200;, score=0.564 total time=   2.4s\n",
      "[CV 1/3; 164/180] START bootstrap=True, criterion=entropy, max_depth=10, max_features=auto, min_samples_leaf=10, min_samples_split=2, n_estimators=300\n"
     ]
    },
    {
     "name": "stderr",
     "output_type": "stream",
     "text": [
      "d:\\googledrive\\wirelessmotionintelligence\\2022-knu-wmi\\venv\\lib\\site-packages\\sklearn\\model_selection\\_validation.py:680: DataConversionWarning: A column-vector y was passed when a 1d array was expected. Please change the shape of y to (n_samples,), for example using ravel().\n",
      "  estimator.fit(X_train, y_train, **fit_params)\n"
     ]
    },
    {
     "name": "stdout",
     "output_type": "stream",
     "text": [
      "[CV 1/3; 164/180] END bootstrap=True, criterion=entropy, max_depth=10, max_features=auto, min_samples_leaf=10, min_samples_split=2, n_estimators=300;, score=0.500 total time=   3.3s\n",
      "[CV 2/3; 164/180] START bootstrap=True, criterion=entropy, max_depth=10, max_features=auto, min_samples_leaf=10, min_samples_split=2, n_estimators=300\n"
     ]
    },
    {
     "name": "stderr",
     "output_type": "stream",
     "text": [
      "d:\\googledrive\\wirelessmotionintelligence\\2022-knu-wmi\\venv\\lib\\site-packages\\sklearn\\model_selection\\_validation.py:680: DataConversionWarning: A column-vector y was passed when a 1d array was expected. Please change the shape of y to (n_samples,), for example using ravel().\n",
      "  estimator.fit(X_train, y_train, **fit_params)\n"
     ]
    },
    {
     "name": "stdout",
     "output_type": "stream",
     "text": [
      "[CV 2/3; 164/180] END bootstrap=True, criterion=entropy, max_depth=10, max_features=auto, min_samples_leaf=10, min_samples_split=2, n_estimators=300;, score=0.513 total time=   3.4s\n",
      "[CV 3/3; 164/180] START bootstrap=True, criterion=entropy, max_depth=10, max_features=auto, min_samples_leaf=10, min_samples_split=2, n_estimators=300\n"
     ]
    },
    {
     "name": "stderr",
     "output_type": "stream",
     "text": [
      "d:\\googledrive\\wirelessmotionintelligence\\2022-knu-wmi\\venv\\lib\\site-packages\\sklearn\\model_selection\\_validation.py:680: DataConversionWarning: A column-vector y was passed when a 1d array was expected. Please change the shape of y to (n_samples,), for example using ravel().\n",
      "  estimator.fit(X_train, y_train, **fit_params)\n"
     ]
    },
    {
     "name": "stdout",
     "output_type": "stream",
     "text": [
      "[CV 3/3; 164/180] END bootstrap=True, criterion=entropy, max_depth=10, max_features=auto, min_samples_leaf=10, min_samples_split=2, n_estimators=300;, score=0.462 total time=   3.8s\n",
      "[CV 1/3; 165/180] START bootstrap=True, criterion=entropy, max_depth=10, max_features=auto, min_samples_leaf=10, min_samples_split=4, n_estimators=50\n"
     ]
    },
    {
     "name": "stderr",
     "output_type": "stream",
     "text": [
      "d:\\googledrive\\wirelessmotionintelligence\\2022-knu-wmi\\venv\\lib\\site-packages\\sklearn\\model_selection\\_validation.py:680: DataConversionWarning: A column-vector y was passed when a 1d array was expected. Please change the shape of y to (n_samples,), for example using ravel().\n",
      "  estimator.fit(X_train, y_train, **fit_params)\n"
     ]
    },
    {
     "name": "stdout",
     "output_type": "stream",
     "text": [
      "[CV 1/3; 165/180] END bootstrap=True, criterion=entropy, max_depth=10, max_features=auto, min_samples_leaf=10, min_samples_split=4, n_estimators=50;, score=0.600 total time=   1.1s\n",
      "[CV 2/3; 165/180] START bootstrap=True, criterion=entropy, max_depth=10, max_features=auto, min_samples_leaf=10, min_samples_split=4, n_estimators=50\n"
     ]
    },
    {
     "name": "stderr",
     "output_type": "stream",
     "text": [
      "d:\\googledrive\\wirelessmotionintelligence\\2022-knu-wmi\\venv\\lib\\site-packages\\sklearn\\model_selection\\_validation.py:680: DataConversionWarning: A column-vector y was passed when a 1d array was expected. Please change the shape of y to (n_samples,), for example using ravel().\n",
      "  estimator.fit(X_train, y_train, **fit_params)\n"
     ]
    },
    {
     "name": "stdout",
     "output_type": "stream",
     "text": [
      "[CV 2/3; 165/180] END bootstrap=True, criterion=entropy, max_depth=10, max_features=auto, min_samples_leaf=10, min_samples_split=4, n_estimators=50;, score=0.564 total time=   1.1s\n",
      "[CV 3/3; 165/180] START bootstrap=True, criterion=entropy, max_depth=10, max_features=auto, min_samples_leaf=10, min_samples_split=4, n_estimators=50\n"
     ]
    },
    {
     "name": "stderr",
     "output_type": "stream",
     "text": [
      "d:\\googledrive\\wirelessmotionintelligence\\2022-knu-wmi\\venv\\lib\\site-packages\\sklearn\\model_selection\\_validation.py:680: DataConversionWarning: A column-vector y was passed when a 1d array was expected. Please change the shape of y to (n_samples,), for example using ravel().\n",
      "  estimator.fit(X_train, y_train, **fit_params)\n"
     ]
    },
    {
     "name": "stdout",
     "output_type": "stream",
     "text": [
      "[CV 3/3; 165/180] END bootstrap=True, criterion=entropy, max_depth=10, max_features=auto, min_samples_leaf=10, min_samples_split=4, n_estimators=50;, score=0.590 total time=   1.1s\n",
      "[CV 1/3; 166/180] START bootstrap=True, criterion=entropy, max_depth=10, max_features=auto, min_samples_leaf=10, min_samples_split=4, n_estimators=100\n"
     ]
    },
    {
     "name": "stderr",
     "output_type": "stream",
     "text": [
      "d:\\googledrive\\wirelessmotionintelligence\\2022-knu-wmi\\venv\\lib\\site-packages\\sklearn\\model_selection\\_validation.py:680: DataConversionWarning: A column-vector y was passed when a 1d array was expected. Please change the shape of y to (n_samples,), for example using ravel().\n",
      "  estimator.fit(X_train, y_train, **fit_params)\n"
     ]
    },
    {
     "name": "stdout",
     "output_type": "stream",
     "text": [
      "[CV 1/3; 166/180] END bootstrap=True, criterion=entropy, max_depth=10, max_features=auto, min_samples_leaf=10, min_samples_split=4, n_estimators=100;, score=0.550 total time=   1.6s\n",
      "[CV 2/3; 166/180] START bootstrap=True, criterion=entropy, max_depth=10, max_features=auto, min_samples_leaf=10, min_samples_split=4, n_estimators=100\n"
     ]
    },
    {
     "name": "stderr",
     "output_type": "stream",
     "text": [
      "d:\\googledrive\\wirelessmotionintelligence\\2022-knu-wmi\\venv\\lib\\site-packages\\sklearn\\model_selection\\_validation.py:680: DataConversionWarning: A column-vector y was passed when a 1d array was expected. Please change the shape of y to (n_samples,), for example using ravel().\n",
      "  estimator.fit(X_train, y_train, **fit_params)\n"
     ]
    },
    {
     "name": "stdout",
     "output_type": "stream",
     "text": [
      "[CV 2/3; 166/180] END bootstrap=True, criterion=entropy, max_depth=10, max_features=auto, min_samples_leaf=10, min_samples_split=4, n_estimators=100;, score=0.667 total time=   1.6s\n",
      "[CV 3/3; 166/180] START bootstrap=True, criterion=entropy, max_depth=10, max_features=auto, min_samples_leaf=10, min_samples_split=4, n_estimators=100\n"
     ]
    },
    {
     "name": "stderr",
     "output_type": "stream",
     "text": [
      "d:\\googledrive\\wirelessmotionintelligence\\2022-knu-wmi\\venv\\lib\\site-packages\\sklearn\\model_selection\\_validation.py:680: DataConversionWarning: A column-vector y was passed when a 1d array was expected. Please change the shape of y to (n_samples,), for example using ravel().\n",
      "  estimator.fit(X_train, y_train, **fit_params)\n"
     ]
    },
    {
     "name": "stdout",
     "output_type": "stream",
     "text": [
      "[CV 3/3; 166/180] END bootstrap=True, criterion=entropy, max_depth=10, max_features=auto, min_samples_leaf=10, min_samples_split=4, n_estimators=100;, score=0.590 total time=   1.6s\n",
      "[CV 1/3; 167/180] START bootstrap=True, criterion=entropy, max_depth=10, max_features=auto, min_samples_leaf=10, min_samples_split=4, n_estimators=200\n"
     ]
    },
    {
     "name": "stderr",
     "output_type": "stream",
     "text": [
      "d:\\googledrive\\wirelessmotionintelligence\\2022-knu-wmi\\venv\\lib\\site-packages\\sklearn\\model_selection\\_validation.py:680: DataConversionWarning: A column-vector y was passed when a 1d array was expected. Please change the shape of y to (n_samples,), for example using ravel().\n",
      "  estimator.fit(X_train, y_train, **fit_params)\n"
     ]
    },
    {
     "name": "stdout",
     "output_type": "stream",
     "text": [
      "[CV 1/3; 167/180] END bootstrap=True, criterion=entropy, max_depth=10, max_features=auto, min_samples_leaf=10, min_samples_split=4, n_estimators=200;, score=0.500 total time=   2.5s\n",
      "[CV 2/3; 167/180] START bootstrap=True, criterion=entropy, max_depth=10, max_features=auto, min_samples_leaf=10, min_samples_split=4, n_estimators=200\n"
     ]
    },
    {
     "name": "stderr",
     "output_type": "stream",
     "text": [
      "d:\\googledrive\\wirelessmotionintelligence\\2022-knu-wmi\\venv\\lib\\site-packages\\sklearn\\model_selection\\_validation.py:680: DataConversionWarning: A column-vector y was passed when a 1d array was expected. Please change the shape of y to (n_samples,), for example using ravel().\n",
      "  estimator.fit(X_train, y_train, **fit_params)\n"
     ]
    },
    {
     "name": "stdout",
     "output_type": "stream",
     "text": [
      "[CV 2/3; 167/180] END bootstrap=True, criterion=entropy, max_depth=10, max_features=auto, min_samples_leaf=10, min_samples_split=4, n_estimators=200;, score=0.513 total time=   2.5s\n",
      "[CV 3/3; 167/180] START bootstrap=True, criterion=entropy, max_depth=10, max_features=auto, min_samples_leaf=10, min_samples_split=4, n_estimators=200\n"
     ]
    },
    {
     "name": "stderr",
     "output_type": "stream",
     "text": [
      "d:\\googledrive\\wirelessmotionintelligence\\2022-knu-wmi\\venv\\lib\\site-packages\\sklearn\\model_selection\\_validation.py:680: DataConversionWarning: A column-vector y was passed when a 1d array was expected. Please change the shape of y to (n_samples,), for example using ravel().\n",
      "  estimator.fit(X_train, y_train, **fit_params)\n"
     ]
    },
    {
     "name": "stdout",
     "output_type": "stream",
     "text": [
      "[CV 3/3; 167/180] END bootstrap=True, criterion=entropy, max_depth=10, max_features=auto, min_samples_leaf=10, min_samples_split=4, n_estimators=200;, score=0.564 total time=   2.5s\n",
      "[CV 1/3; 168/180] START bootstrap=True, criterion=entropy, max_depth=10, max_features=auto, min_samples_leaf=10, min_samples_split=4, n_estimators=300\n"
     ]
    },
    {
     "name": "stderr",
     "output_type": "stream",
     "text": [
      "d:\\googledrive\\wirelessmotionintelligence\\2022-knu-wmi\\venv\\lib\\site-packages\\sklearn\\model_selection\\_validation.py:680: DataConversionWarning: A column-vector y was passed when a 1d array was expected. Please change the shape of y to (n_samples,), for example using ravel().\n",
      "  estimator.fit(X_train, y_train, **fit_params)\n"
     ]
    },
    {
     "name": "stdout",
     "output_type": "stream",
     "text": [
      "[CV 1/3; 168/180] END bootstrap=True, criterion=entropy, max_depth=10, max_features=auto, min_samples_leaf=10, min_samples_split=4, n_estimators=300;, score=0.500 total time=   3.7s\n",
      "[CV 2/3; 168/180] START bootstrap=True, criterion=entropy, max_depth=10, max_features=auto, min_samples_leaf=10, min_samples_split=4, n_estimators=300\n"
     ]
    },
    {
     "name": "stderr",
     "output_type": "stream",
     "text": [
      "d:\\googledrive\\wirelessmotionintelligence\\2022-knu-wmi\\venv\\lib\\site-packages\\sklearn\\model_selection\\_validation.py:680: DataConversionWarning: A column-vector y was passed when a 1d array was expected. Please change the shape of y to (n_samples,), for example using ravel().\n",
      "  estimator.fit(X_train, y_train, **fit_params)\n"
     ]
    },
    {
     "name": "stdout",
     "output_type": "stream",
     "text": [
      "[CV 2/3; 168/180] END bootstrap=True, criterion=entropy, max_depth=10, max_features=auto, min_samples_leaf=10, min_samples_split=4, n_estimators=300;, score=0.513 total time=   3.7s\n",
      "[CV 3/3; 168/180] START bootstrap=True, criterion=entropy, max_depth=10, max_features=auto, min_samples_leaf=10, min_samples_split=4, n_estimators=300\n"
     ]
    },
    {
     "name": "stderr",
     "output_type": "stream",
     "text": [
      "d:\\googledrive\\wirelessmotionintelligence\\2022-knu-wmi\\venv\\lib\\site-packages\\sklearn\\model_selection\\_validation.py:680: DataConversionWarning: A column-vector y was passed when a 1d array was expected. Please change the shape of y to (n_samples,), for example using ravel().\n",
      "  estimator.fit(X_train, y_train, **fit_params)\n"
     ]
    },
    {
     "name": "stdout",
     "output_type": "stream",
     "text": [
      "[CV 3/3; 168/180] END bootstrap=True, criterion=entropy, max_depth=10, max_features=auto, min_samples_leaf=10, min_samples_split=4, n_estimators=300;, score=0.462 total time=   3.7s\n",
      "[CV 1/3; 169/180] START bootstrap=True, criterion=entropy, max_depth=10, max_features=auto, min_samples_leaf=10, min_samples_split=10, n_estimators=50\n"
     ]
    },
    {
     "name": "stderr",
     "output_type": "stream",
     "text": [
      "d:\\googledrive\\wirelessmotionintelligence\\2022-knu-wmi\\venv\\lib\\site-packages\\sklearn\\model_selection\\_validation.py:680: DataConversionWarning: A column-vector y was passed when a 1d array was expected. Please change the shape of y to (n_samples,), for example using ravel().\n",
      "  estimator.fit(X_train, y_train, **fit_params)\n"
     ]
    },
    {
     "name": "stdout",
     "output_type": "stream",
     "text": [
      "[CV 1/3; 169/180] END bootstrap=True, criterion=entropy, max_depth=10, max_features=auto, min_samples_leaf=10, min_samples_split=10, n_estimators=50;, score=0.600 total time=   1.3s\n",
      "[CV 2/3; 169/180] START bootstrap=True, criterion=entropy, max_depth=10, max_features=auto, min_samples_leaf=10, min_samples_split=10, n_estimators=50\n"
     ]
    },
    {
     "name": "stderr",
     "output_type": "stream",
     "text": [
      "d:\\googledrive\\wirelessmotionintelligence\\2022-knu-wmi\\venv\\lib\\site-packages\\sklearn\\model_selection\\_validation.py:680: DataConversionWarning: A column-vector y was passed when a 1d array was expected. Please change the shape of y to (n_samples,), for example using ravel().\n",
      "  estimator.fit(X_train, y_train, **fit_params)\n"
     ]
    },
    {
     "name": "stdout",
     "output_type": "stream",
     "text": [
      "[CV 2/3; 169/180] END bootstrap=True, criterion=entropy, max_depth=10, max_features=auto, min_samples_leaf=10, min_samples_split=10, n_estimators=50;, score=0.564 total time=   1.1s\n",
      "[CV 3/3; 169/180] START bootstrap=True, criterion=entropy, max_depth=10, max_features=auto, min_samples_leaf=10, min_samples_split=10, n_estimators=50\n"
     ]
    },
    {
     "name": "stderr",
     "output_type": "stream",
     "text": [
      "d:\\googledrive\\wirelessmotionintelligence\\2022-knu-wmi\\venv\\lib\\site-packages\\sklearn\\model_selection\\_validation.py:680: DataConversionWarning: A column-vector y was passed when a 1d array was expected. Please change the shape of y to (n_samples,), for example using ravel().\n",
      "  estimator.fit(X_train, y_train, **fit_params)\n"
     ]
    },
    {
     "name": "stdout",
     "output_type": "stream",
     "text": [
      "[CV 3/3; 169/180] END bootstrap=True, criterion=entropy, max_depth=10, max_features=auto, min_samples_leaf=10, min_samples_split=10, n_estimators=50;, score=0.590 total time=   1.1s\n",
      "[CV 1/3; 170/180] START bootstrap=True, criterion=entropy, max_depth=10, max_features=auto, min_samples_leaf=10, min_samples_split=10, n_estimators=100\n"
     ]
    },
    {
     "name": "stderr",
     "output_type": "stream",
     "text": [
      "d:\\googledrive\\wirelessmotionintelligence\\2022-knu-wmi\\venv\\lib\\site-packages\\sklearn\\model_selection\\_validation.py:680: DataConversionWarning: A column-vector y was passed when a 1d array was expected. Please change the shape of y to (n_samples,), for example using ravel().\n",
      "  estimator.fit(X_train, y_train, **fit_params)\n"
     ]
    },
    {
     "name": "stdout",
     "output_type": "stream",
     "text": [
      "[CV 1/3; 170/180] END bootstrap=True, criterion=entropy, max_depth=10, max_features=auto, min_samples_leaf=10, min_samples_split=10, n_estimators=100;, score=0.550 total time=   1.6s\n",
      "[CV 2/3; 170/180] START bootstrap=True, criterion=entropy, max_depth=10, max_features=auto, min_samples_leaf=10, min_samples_split=10, n_estimators=100\n"
     ]
    },
    {
     "name": "stderr",
     "output_type": "stream",
     "text": [
      "d:\\googledrive\\wirelessmotionintelligence\\2022-knu-wmi\\venv\\lib\\site-packages\\sklearn\\model_selection\\_validation.py:680: DataConversionWarning: A column-vector y was passed when a 1d array was expected. Please change the shape of y to (n_samples,), for example using ravel().\n",
      "  estimator.fit(X_train, y_train, **fit_params)\n"
     ]
    },
    {
     "name": "stdout",
     "output_type": "stream",
     "text": [
      "[CV 2/3; 170/180] END bootstrap=True, criterion=entropy, max_depth=10, max_features=auto, min_samples_leaf=10, min_samples_split=10, n_estimators=100;, score=0.667 total time=   1.6s\n",
      "[CV 3/3; 170/180] START bootstrap=True, criterion=entropy, max_depth=10, max_features=auto, min_samples_leaf=10, min_samples_split=10, n_estimators=100\n"
     ]
    },
    {
     "name": "stderr",
     "output_type": "stream",
     "text": [
      "d:\\googledrive\\wirelessmotionintelligence\\2022-knu-wmi\\venv\\lib\\site-packages\\sklearn\\model_selection\\_validation.py:680: DataConversionWarning: A column-vector y was passed when a 1d array was expected. Please change the shape of y to (n_samples,), for example using ravel().\n",
      "  estimator.fit(X_train, y_train, **fit_params)\n"
     ]
    },
    {
     "name": "stdout",
     "output_type": "stream",
     "text": [
      "[CV 3/3; 170/180] END bootstrap=True, criterion=entropy, max_depth=10, max_features=auto, min_samples_leaf=10, min_samples_split=10, n_estimators=100;, score=0.590 total time=   1.6s\n",
      "[CV 1/3; 171/180] START bootstrap=True, criterion=entropy, max_depth=10, max_features=auto, min_samples_leaf=10, min_samples_split=10, n_estimators=200\n"
     ]
    },
    {
     "name": "stderr",
     "output_type": "stream",
     "text": [
      "d:\\googledrive\\wirelessmotionintelligence\\2022-knu-wmi\\venv\\lib\\site-packages\\sklearn\\model_selection\\_validation.py:680: DataConversionWarning: A column-vector y was passed when a 1d array was expected. Please change the shape of y to (n_samples,), for example using ravel().\n",
      "  estimator.fit(X_train, y_train, **fit_params)\n"
     ]
    },
    {
     "name": "stdout",
     "output_type": "stream",
     "text": [
      "[CV 1/3; 171/180] END bootstrap=True, criterion=entropy, max_depth=10, max_features=auto, min_samples_leaf=10, min_samples_split=10, n_estimators=200;, score=0.500 total time=   2.5s\n",
      "[CV 2/3; 171/180] START bootstrap=True, criterion=entropy, max_depth=10, max_features=auto, min_samples_leaf=10, min_samples_split=10, n_estimators=200\n"
     ]
    },
    {
     "name": "stderr",
     "output_type": "stream",
     "text": [
      "d:\\googledrive\\wirelessmotionintelligence\\2022-knu-wmi\\venv\\lib\\site-packages\\sklearn\\model_selection\\_validation.py:680: DataConversionWarning: A column-vector y was passed when a 1d array was expected. Please change the shape of y to (n_samples,), for example using ravel().\n",
      "  estimator.fit(X_train, y_train, **fit_params)\n"
     ]
    },
    {
     "name": "stdout",
     "output_type": "stream",
     "text": [
      "[CV 2/3; 171/180] END bootstrap=True, criterion=entropy, max_depth=10, max_features=auto, min_samples_leaf=10, min_samples_split=10, n_estimators=200;, score=0.513 total time=   2.5s\n",
      "[CV 3/3; 171/180] START bootstrap=True, criterion=entropy, max_depth=10, max_features=auto, min_samples_leaf=10, min_samples_split=10, n_estimators=200\n"
     ]
    },
    {
     "name": "stderr",
     "output_type": "stream",
     "text": [
      "d:\\googledrive\\wirelessmotionintelligence\\2022-knu-wmi\\venv\\lib\\site-packages\\sklearn\\model_selection\\_validation.py:680: DataConversionWarning: A column-vector y was passed when a 1d array was expected. Please change the shape of y to (n_samples,), for example using ravel().\n",
      "  estimator.fit(X_train, y_train, **fit_params)\n"
     ]
    },
    {
     "name": "stdout",
     "output_type": "stream",
     "text": [
      "[CV 3/3; 171/180] END bootstrap=True, criterion=entropy, max_depth=10, max_features=auto, min_samples_leaf=10, min_samples_split=10, n_estimators=200;, score=0.564 total time=   2.5s\n",
      "[CV 1/3; 172/180] START bootstrap=True, criterion=entropy, max_depth=10, max_features=auto, min_samples_leaf=10, min_samples_split=10, n_estimators=300\n"
     ]
    },
    {
     "name": "stderr",
     "output_type": "stream",
     "text": [
      "d:\\googledrive\\wirelessmotionintelligence\\2022-knu-wmi\\venv\\lib\\site-packages\\sklearn\\model_selection\\_validation.py:680: DataConversionWarning: A column-vector y was passed when a 1d array was expected. Please change the shape of y to (n_samples,), for example using ravel().\n",
      "  estimator.fit(X_train, y_train, **fit_params)\n"
     ]
    },
    {
     "name": "stdout",
     "output_type": "stream",
     "text": [
      "[CV 1/3; 172/180] END bootstrap=True, criterion=entropy, max_depth=10, max_features=auto, min_samples_leaf=10, min_samples_split=10, n_estimators=300;, score=0.500 total time=   3.6s\n",
      "[CV 2/3; 172/180] START bootstrap=True, criterion=entropy, max_depth=10, max_features=auto, min_samples_leaf=10, min_samples_split=10, n_estimators=300\n"
     ]
    },
    {
     "name": "stderr",
     "output_type": "stream",
     "text": [
      "d:\\googledrive\\wirelessmotionintelligence\\2022-knu-wmi\\venv\\lib\\site-packages\\sklearn\\model_selection\\_validation.py:680: DataConversionWarning: A column-vector y was passed when a 1d array was expected. Please change the shape of y to (n_samples,), for example using ravel().\n",
      "  estimator.fit(X_train, y_train, **fit_params)\n"
     ]
    },
    {
     "name": "stdout",
     "output_type": "stream",
     "text": [
      "[CV 2/3; 172/180] END bootstrap=True, criterion=entropy, max_depth=10, max_features=auto, min_samples_leaf=10, min_samples_split=10, n_estimators=300;, score=0.513 total time=   3.5s\n",
      "[CV 3/3; 172/180] START bootstrap=True, criterion=entropy, max_depth=10, max_features=auto, min_samples_leaf=10, min_samples_split=10, n_estimators=300\n"
     ]
    },
    {
     "name": "stderr",
     "output_type": "stream",
     "text": [
      "d:\\googledrive\\wirelessmotionintelligence\\2022-knu-wmi\\venv\\lib\\site-packages\\sklearn\\model_selection\\_validation.py:680: DataConversionWarning: A column-vector y was passed when a 1d array was expected. Please change the shape of y to (n_samples,), for example using ravel().\n",
      "  estimator.fit(X_train, y_train, **fit_params)\n"
     ]
    },
    {
     "name": "stdout",
     "output_type": "stream",
     "text": [
      "[CV 3/3; 172/180] END bootstrap=True, criterion=entropy, max_depth=10, max_features=auto, min_samples_leaf=10, min_samples_split=10, n_estimators=300;, score=0.462 total time=   3.5s\n",
      "[CV 1/3; 173/180] START bootstrap=True, criterion=entropy, max_depth=10, max_features=auto, min_samples_leaf=10, min_samples_split=12, n_estimators=50\n"
     ]
    },
    {
     "name": "stderr",
     "output_type": "stream",
     "text": [
      "d:\\googledrive\\wirelessmotionintelligence\\2022-knu-wmi\\venv\\lib\\site-packages\\sklearn\\model_selection\\_validation.py:680: DataConversionWarning: A column-vector y was passed when a 1d array was expected. Please change the shape of y to (n_samples,), for example using ravel().\n",
      "  estimator.fit(X_train, y_train, **fit_params)\n"
     ]
    },
    {
     "name": "stdout",
     "output_type": "stream",
     "text": [
      "[CV 1/3; 173/180] END bootstrap=True, criterion=entropy, max_depth=10, max_features=auto, min_samples_leaf=10, min_samples_split=12, n_estimators=50;, score=0.600 total time=   1.1s\n",
      "[CV 2/3; 173/180] START bootstrap=True, criterion=entropy, max_depth=10, max_features=auto, min_samples_leaf=10, min_samples_split=12, n_estimators=50\n"
     ]
    },
    {
     "name": "stderr",
     "output_type": "stream",
     "text": [
      "d:\\googledrive\\wirelessmotionintelligence\\2022-knu-wmi\\venv\\lib\\site-packages\\sklearn\\model_selection\\_validation.py:680: DataConversionWarning: A column-vector y was passed when a 1d array was expected. Please change the shape of y to (n_samples,), for example using ravel().\n",
      "  estimator.fit(X_train, y_train, **fit_params)\n"
     ]
    },
    {
     "name": "stdout",
     "output_type": "stream",
     "text": [
      "[CV 2/3; 173/180] END bootstrap=True, criterion=entropy, max_depth=10, max_features=auto, min_samples_leaf=10, min_samples_split=12, n_estimators=50;, score=0.564 total time=   1.1s\n",
      "[CV 3/3; 173/180] START bootstrap=True, criterion=entropy, max_depth=10, max_features=auto, min_samples_leaf=10, min_samples_split=12, n_estimators=50\n"
     ]
    },
    {
     "name": "stderr",
     "output_type": "stream",
     "text": [
      "d:\\googledrive\\wirelessmotionintelligence\\2022-knu-wmi\\venv\\lib\\site-packages\\sklearn\\model_selection\\_validation.py:680: DataConversionWarning: A column-vector y was passed when a 1d array was expected. Please change the shape of y to (n_samples,), for example using ravel().\n",
      "  estimator.fit(X_train, y_train, **fit_params)\n"
     ]
    },
    {
     "name": "stdout",
     "output_type": "stream",
     "text": [
      "[CV 3/3; 173/180] END bootstrap=True, criterion=entropy, max_depth=10, max_features=auto, min_samples_leaf=10, min_samples_split=12, n_estimators=50;, score=0.590 total time=   1.1s\n",
      "[CV 1/3; 174/180] START bootstrap=True, criterion=entropy, max_depth=10, max_features=auto, min_samples_leaf=10, min_samples_split=12, n_estimators=100\n"
     ]
    },
    {
     "name": "stderr",
     "output_type": "stream",
     "text": [
      "d:\\googledrive\\wirelessmotionintelligence\\2022-knu-wmi\\venv\\lib\\site-packages\\sklearn\\model_selection\\_validation.py:680: DataConversionWarning: A column-vector y was passed when a 1d array was expected. Please change the shape of y to (n_samples,), for example using ravel().\n",
      "  estimator.fit(X_train, y_train, **fit_params)\n"
     ]
    },
    {
     "name": "stdout",
     "output_type": "stream",
     "text": [
      "[CV 1/3; 174/180] END bootstrap=True, criterion=entropy, max_depth=10, max_features=auto, min_samples_leaf=10, min_samples_split=12, n_estimators=100;, score=0.550 total time=   1.6s\n",
      "[CV 2/3; 174/180] START bootstrap=True, criterion=entropy, max_depth=10, max_features=auto, min_samples_leaf=10, min_samples_split=12, n_estimators=100\n"
     ]
    },
    {
     "name": "stderr",
     "output_type": "stream",
     "text": [
      "d:\\googledrive\\wirelessmotionintelligence\\2022-knu-wmi\\venv\\lib\\site-packages\\sklearn\\model_selection\\_validation.py:680: DataConversionWarning: A column-vector y was passed when a 1d array was expected. Please change the shape of y to (n_samples,), for example using ravel().\n",
      "  estimator.fit(X_train, y_train, **fit_params)\n"
     ]
    },
    {
     "name": "stdout",
     "output_type": "stream",
     "text": [
      "[CV 2/3; 174/180] END bootstrap=True, criterion=entropy, max_depth=10, max_features=auto, min_samples_leaf=10, min_samples_split=12, n_estimators=100;, score=0.667 total time=   1.6s\n",
      "[CV 3/3; 174/180] START bootstrap=True, criterion=entropy, max_depth=10, max_features=auto, min_samples_leaf=10, min_samples_split=12, n_estimators=100\n"
     ]
    },
    {
     "name": "stderr",
     "output_type": "stream",
     "text": [
      "d:\\googledrive\\wirelessmotionintelligence\\2022-knu-wmi\\venv\\lib\\site-packages\\sklearn\\model_selection\\_validation.py:680: DataConversionWarning: A column-vector y was passed when a 1d array was expected. Please change the shape of y to (n_samples,), for example using ravel().\n",
      "  estimator.fit(X_train, y_train, **fit_params)\n"
     ]
    },
    {
     "name": "stdout",
     "output_type": "stream",
     "text": [
      "[CV 3/3; 174/180] END bootstrap=True, criterion=entropy, max_depth=10, max_features=auto, min_samples_leaf=10, min_samples_split=12, n_estimators=100;, score=0.590 total time=   1.6s\n",
      "[CV 1/3; 175/180] START bootstrap=True, criterion=entropy, max_depth=10, max_features=auto, min_samples_leaf=10, min_samples_split=12, n_estimators=200\n"
     ]
    },
    {
     "name": "stderr",
     "output_type": "stream",
     "text": [
      "d:\\googledrive\\wirelessmotionintelligence\\2022-knu-wmi\\venv\\lib\\site-packages\\sklearn\\model_selection\\_validation.py:680: DataConversionWarning: A column-vector y was passed when a 1d array was expected. Please change the shape of y to (n_samples,), for example using ravel().\n",
      "  estimator.fit(X_train, y_train, **fit_params)\n"
     ]
    },
    {
     "name": "stdout",
     "output_type": "stream",
     "text": [
      "[CV 1/3; 175/180] END bootstrap=True, criterion=entropy, max_depth=10, max_features=auto, min_samples_leaf=10, min_samples_split=12, n_estimators=200;, score=0.500 total time=   2.4s\n",
      "[CV 2/3; 175/180] START bootstrap=True, criterion=entropy, max_depth=10, max_features=auto, min_samples_leaf=10, min_samples_split=12, n_estimators=200\n"
     ]
    },
    {
     "name": "stderr",
     "output_type": "stream",
     "text": [
      "d:\\googledrive\\wirelessmotionintelligence\\2022-knu-wmi\\venv\\lib\\site-packages\\sklearn\\model_selection\\_validation.py:680: DataConversionWarning: A column-vector y was passed when a 1d array was expected. Please change the shape of y to (n_samples,), for example using ravel().\n",
      "  estimator.fit(X_train, y_train, **fit_params)\n"
     ]
    },
    {
     "name": "stdout",
     "output_type": "stream",
     "text": [
      "[CV 2/3; 175/180] END bootstrap=True, criterion=entropy, max_depth=10, max_features=auto, min_samples_leaf=10, min_samples_split=12, n_estimators=200;, score=0.513 total time=   2.5s\n",
      "[CV 3/3; 175/180] START bootstrap=True, criterion=entropy, max_depth=10, max_features=auto, min_samples_leaf=10, min_samples_split=12, n_estimators=200\n"
     ]
    },
    {
     "name": "stderr",
     "output_type": "stream",
     "text": [
      "d:\\googledrive\\wirelessmotionintelligence\\2022-knu-wmi\\venv\\lib\\site-packages\\sklearn\\model_selection\\_validation.py:680: DataConversionWarning: A column-vector y was passed when a 1d array was expected. Please change the shape of y to (n_samples,), for example using ravel().\n",
      "  estimator.fit(X_train, y_train, **fit_params)\n"
     ]
    },
    {
     "name": "stdout",
     "output_type": "stream",
     "text": [
      "[CV 3/3; 175/180] END bootstrap=True, criterion=entropy, max_depth=10, max_features=auto, min_samples_leaf=10, min_samples_split=12, n_estimators=200;, score=0.564 total time=   2.5s\n",
      "[CV 1/3; 176/180] START bootstrap=True, criterion=entropy, max_depth=10, max_features=auto, min_samples_leaf=10, min_samples_split=12, n_estimators=300\n"
     ]
    },
    {
     "name": "stderr",
     "output_type": "stream",
     "text": [
      "d:\\googledrive\\wirelessmotionintelligence\\2022-knu-wmi\\venv\\lib\\site-packages\\sklearn\\model_selection\\_validation.py:680: DataConversionWarning: A column-vector y was passed when a 1d array was expected. Please change the shape of y to (n_samples,), for example using ravel().\n",
      "  estimator.fit(X_train, y_train, **fit_params)\n"
     ]
    },
    {
     "name": "stdout",
     "output_type": "stream",
     "text": [
      "[CV 1/3; 176/180] END bootstrap=True, criterion=entropy, max_depth=10, max_features=auto, min_samples_leaf=10, min_samples_split=12, n_estimators=300;, score=0.500 total time=   4.1s\n",
      "[CV 2/3; 176/180] START bootstrap=True, criterion=entropy, max_depth=10, max_features=auto, min_samples_leaf=10, min_samples_split=12, n_estimators=300\n"
     ]
    },
    {
     "name": "stderr",
     "output_type": "stream",
     "text": [
      "d:\\googledrive\\wirelessmotionintelligence\\2022-knu-wmi\\venv\\lib\\site-packages\\sklearn\\model_selection\\_validation.py:680: DataConversionWarning: A column-vector y was passed when a 1d array was expected. Please change the shape of y to (n_samples,), for example using ravel().\n",
      "  estimator.fit(X_train, y_train, **fit_params)\n"
     ]
    },
    {
     "name": "stdout",
     "output_type": "stream",
     "text": [
      "[CV 2/3; 176/180] END bootstrap=True, criterion=entropy, max_depth=10, max_features=auto, min_samples_leaf=10, min_samples_split=12, n_estimators=300;, score=0.513 total time=   4.0s\n",
      "[CV 3/3; 176/180] START bootstrap=True, criterion=entropy, max_depth=10, max_features=auto, min_samples_leaf=10, min_samples_split=12, n_estimators=300\n"
     ]
    },
    {
     "name": "stderr",
     "output_type": "stream",
     "text": [
      "d:\\googledrive\\wirelessmotionintelligence\\2022-knu-wmi\\venv\\lib\\site-packages\\sklearn\\model_selection\\_validation.py:680: DataConversionWarning: A column-vector y was passed when a 1d array was expected. Please change the shape of y to (n_samples,), for example using ravel().\n",
      "  estimator.fit(X_train, y_train, **fit_params)\n"
     ]
    },
    {
     "name": "stdout",
     "output_type": "stream",
     "text": [
      "[CV 3/3; 176/180] END bootstrap=True, criterion=entropy, max_depth=10, max_features=auto, min_samples_leaf=10, min_samples_split=12, n_estimators=300;, score=0.462 total time=   3.6s\n",
      "[CV 1/3; 177/180] START bootstrap=True, criterion=entropy, max_depth=10, max_features=auto, min_samples_leaf=10, min_samples_split=16, n_estimators=50\n"
     ]
    },
    {
     "name": "stderr",
     "output_type": "stream",
     "text": [
      "d:\\googledrive\\wirelessmotionintelligence\\2022-knu-wmi\\venv\\lib\\site-packages\\sklearn\\model_selection\\_validation.py:680: DataConversionWarning: A column-vector y was passed when a 1d array was expected. Please change the shape of y to (n_samples,), for example using ravel().\n",
      "  estimator.fit(X_train, y_train, **fit_params)\n"
     ]
    },
    {
     "name": "stdout",
     "output_type": "stream",
     "text": [
      "[CV 1/3; 177/180] END bootstrap=True, criterion=entropy, max_depth=10, max_features=auto, min_samples_leaf=10, min_samples_split=16, n_estimators=50;, score=0.600 total time=   1.1s\n",
      "[CV 2/3; 177/180] START bootstrap=True, criterion=entropy, max_depth=10, max_features=auto, min_samples_leaf=10, min_samples_split=16, n_estimators=50\n"
     ]
    },
    {
     "name": "stderr",
     "output_type": "stream",
     "text": [
      "d:\\googledrive\\wirelessmotionintelligence\\2022-knu-wmi\\venv\\lib\\site-packages\\sklearn\\model_selection\\_validation.py:680: DataConversionWarning: A column-vector y was passed when a 1d array was expected. Please change the shape of y to (n_samples,), for example using ravel().\n",
      "  estimator.fit(X_train, y_train, **fit_params)\n"
     ]
    },
    {
     "name": "stdout",
     "output_type": "stream",
     "text": [
      "[CV 2/3; 177/180] END bootstrap=True, criterion=entropy, max_depth=10, max_features=auto, min_samples_leaf=10, min_samples_split=16, n_estimators=50;, score=0.564 total time=   1.1s\n",
      "[CV 3/3; 177/180] START bootstrap=True, criterion=entropy, max_depth=10, max_features=auto, min_samples_leaf=10, min_samples_split=16, n_estimators=50\n"
     ]
    },
    {
     "name": "stderr",
     "output_type": "stream",
     "text": [
      "d:\\googledrive\\wirelessmotionintelligence\\2022-knu-wmi\\venv\\lib\\site-packages\\sklearn\\model_selection\\_validation.py:680: DataConversionWarning: A column-vector y was passed when a 1d array was expected. Please change the shape of y to (n_samples,), for example using ravel().\n",
      "  estimator.fit(X_train, y_train, **fit_params)\n"
     ]
    },
    {
     "name": "stdout",
     "output_type": "stream",
     "text": [
      "[CV 3/3; 177/180] END bootstrap=True, criterion=entropy, max_depth=10, max_features=auto, min_samples_leaf=10, min_samples_split=16, n_estimators=50;, score=0.590 total time=   1.1s\n",
      "[CV 1/3; 178/180] START bootstrap=True, criterion=entropy, max_depth=10, max_features=auto, min_samples_leaf=10, min_samples_split=16, n_estimators=100\n"
     ]
    },
    {
     "name": "stderr",
     "output_type": "stream",
     "text": [
      "d:\\googledrive\\wirelessmotionintelligence\\2022-knu-wmi\\venv\\lib\\site-packages\\sklearn\\model_selection\\_validation.py:680: DataConversionWarning: A column-vector y was passed when a 1d array was expected. Please change the shape of y to (n_samples,), for example using ravel().\n",
      "  estimator.fit(X_train, y_train, **fit_params)\n"
     ]
    },
    {
     "name": "stdout",
     "output_type": "stream",
     "text": [
      "[CV 1/3; 178/180] END bootstrap=True, criterion=entropy, max_depth=10, max_features=auto, min_samples_leaf=10, min_samples_split=16, n_estimators=100;, score=0.550 total time=   1.6s\n",
      "[CV 2/3; 178/180] START bootstrap=True, criterion=entropy, max_depth=10, max_features=auto, min_samples_leaf=10, min_samples_split=16, n_estimators=100\n"
     ]
    },
    {
     "name": "stderr",
     "output_type": "stream",
     "text": [
      "d:\\googledrive\\wirelessmotionintelligence\\2022-knu-wmi\\venv\\lib\\site-packages\\sklearn\\model_selection\\_validation.py:680: DataConversionWarning: A column-vector y was passed when a 1d array was expected. Please change the shape of y to (n_samples,), for example using ravel().\n",
      "  estimator.fit(X_train, y_train, **fit_params)\n"
     ]
    },
    {
     "name": "stdout",
     "output_type": "stream",
     "text": [
      "[CV 2/3; 178/180] END bootstrap=True, criterion=entropy, max_depth=10, max_features=auto, min_samples_leaf=10, min_samples_split=16, n_estimators=100;, score=0.667 total time=   1.7s\n",
      "[CV 3/3; 178/180] START bootstrap=True, criterion=entropy, max_depth=10, max_features=auto, min_samples_leaf=10, min_samples_split=16, n_estimators=100\n"
     ]
    },
    {
     "name": "stderr",
     "output_type": "stream",
     "text": [
      "d:\\googledrive\\wirelessmotionintelligence\\2022-knu-wmi\\venv\\lib\\site-packages\\sklearn\\model_selection\\_validation.py:680: DataConversionWarning: A column-vector y was passed when a 1d array was expected. Please change the shape of y to (n_samples,), for example using ravel().\n",
      "  estimator.fit(X_train, y_train, **fit_params)\n"
     ]
    },
    {
     "name": "stdout",
     "output_type": "stream",
     "text": [
      "[CV 3/3; 178/180] END bootstrap=True, criterion=entropy, max_depth=10, max_features=auto, min_samples_leaf=10, min_samples_split=16, n_estimators=100;, score=0.590 total time=   1.6s\n",
      "[CV 1/3; 179/180] START bootstrap=True, criterion=entropy, max_depth=10, max_features=auto, min_samples_leaf=10, min_samples_split=16, n_estimators=200\n"
     ]
    },
    {
     "name": "stderr",
     "output_type": "stream",
     "text": [
      "d:\\googledrive\\wirelessmotionintelligence\\2022-knu-wmi\\venv\\lib\\site-packages\\sklearn\\model_selection\\_validation.py:680: DataConversionWarning: A column-vector y was passed when a 1d array was expected. Please change the shape of y to (n_samples,), for example using ravel().\n",
      "  estimator.fit(X_train, y_train, **fit_params)\n"
     ]
    },
    {
     "name": "stdout",
     "output_type": "stream",
     "text": [
      "[CV 1/3; 179/180] END bootstrap=True, criterion=entropy, max_depth=10, max_features=auto, min_samples_leaf=10, min_samples_split=16, n_estimators=200;, score=0.500 total time=   2.5s\n",
      "[CV 2/3; 179/180] START bootstrap=True, criterion=entropy, max_depth=10, max_features=auto, min_samples_leaf=10, min_samples_split=16, n_estimators=200\n"
     ]
    },
    {
     "name": "stderr",
     "output_type": "stream",
     "text": [
      "d:\\googledrive\\wirelessmotionintelligence\\2022-knu-wmi\\venv\\lib\\site-packages\\sklearn\\model_selection\\_validation.py:680: DataConversionWarning: A column-vector y was passed when a 1d array was expected. Please change the shape of y to (n_samples,), for example using ravel().\n",
      "  estimator.fit(X_train, y_train, **fit_params)\n"
     ]
    },
    {
     "name": "stdout",
     "output_type": "stream",
     "text": [
      "[CV 2/3; 179/180] END bootstrap=True, criterion=entropy, max_depth=10, max_features=auto, min_samples_leaf=10, min_samples_split=16, n_estimators=200;, score=0.513 total time=   2.5s\n",
      "[CV 3/3; 179/180] START bootstrap=True, criterion=entropy, max_depth=10, max_features=auto, min_samples_leaf=10, min_samples_split=16, n_estimators=200\n"
     ]
    },
    {
     "name": "stderr",
     "output_type": "stream",
     "text": [
      "d:\\googledrive\\wirelessmotionintelligence\\2022-knu-wmi\\venv\\lib\\site-packages\\sklearn\\model_selection\\_validation.py:680: DataConversionWarning: A column-vector y was passed when a 1d array was expected. Please change the shape of y to (n_samples,), for example using ravel().\n",
      "  estimator.fit(X_train, y_train, **fit_params)\n"
     ]
    },
    {
     "name": "stdout",
     "output_type": "stream",
     "text": [
      "[CV 3/3; 179/180] END bootstrap=True, criterion=entropy, max_depth=10, max_features=auto, min_samples_leaf=10, min_samples_split=16, n_estimators=200;, score=0.564 total time=   2.5s\n",
      "[CV 1/3; 180/180] START bootstrap=True, criterion=entropy, max_depth=10, max_features=auto, min_samples_leaf=10, min_samples_split=16, n_estimators=300\n"
     ]
    },
    {
     "name": "stderr",
     "output_type": "stream",
     "text": [
      "d:\\googledrive\\wirelessmotionintelligence\\2022-knu-wmi\\venv\\lib\\site-packages\\sklearn\\model_selection\\_validation.py:680: DataConversionWarning: A column-vector y was passed when a 1d array was expected. Please change the shape of y to (n_samples,), for example using ravel().\n",
      "  estimator.fit(X_train, y_train, **fit_params)\n"
     ]
    },
    {
     "name": "stdout",
     "output_type": "stream",
     "text": [
      "[CV 1/3; 180/180] END bootstrap=True, criterion=entropy, max_depth=10, max_features=auto, min_samples_leaf=10, min_samples_split=16, n_estimators=300;, score=0.500 total time=   3.5s\n",
      "[CV 2/3; 180/180] START bootstrap=True, criterion=entropy, max_depth=10, max_features=auto, min_samples_leaf=10, min_samples_split=16, n_estimators=300\n"
     ]
    },
    {
     "name": "stderr",
     "output_type": "stream",
     "text": [
      "d:\\googledrive\\wirelessmotionintelligence\\2022-knu-wmi\\venv\\lib\\site-packages\\sklearn\\model_selection\\_validation.py:680: DataConversionWarning: A column-vector y was passed when a 1d array was expected. Please change the shape of y to (n_samples,), for example using ravel().\n",
      "  estimator.fit(X_train, y_train, **fit_params)\n"
     ]
    },
    {
     "name": "stdout",
     "output_type": "stream",
     "text": [
      "[CV 2/3; 180/180] END bootstrap=True, criterion=entropy, max_depth=10, max_features=auto, min_samples_leaf=10, min_samples_split=16, n_estimators=300;, score=0.513 total time=   3.6s\n",
      "[CV 3/3; 180/180] START bootstrap=True, criterion=entropy, max_depth=10, max_features=auto, min_samples_leaf=10, min_samples_split=16, n_estimators=300\n"
     ]
    },
    {
     "name": "stderr",
     "output_type": "stream",
     "text": [
      "d:\\googledrive\\wirelessmotionintelligence\\2022-knu-wmi\\venv\\lib\\site-packages\\sklearn\\model_selection\\_validation.py:680: DataConversionWarning: A column-vector y was passed when a 1d array was expected. Please change the shape of y to (n_samples,), for example using ravel().\n",
      "  estimator.fit(X_train, y_train, **fit_params)\n"
     ]
    },
    {
     "name": "stdout",
     "output_type": "stream",
     "text": [
      "[CV 3/3; 180/180] END bootstrap=True, criterion=entropy, max_depth=10, max_features=auto, min_samples_leaf=10, min_samples_split=16, n_estimators=300;, score=0.462 total time=   3.5s\n"
     ]
    },
    {
     "name": "stderr",
     "output_type": "stream",
     "text": [
      "d:\\googledrive\\wirelessmotionintelligence\\2022-knu-wmi\\venv\\lib\\site-packages\\sklearn\\model_selection\\_search.py:926: DataConversionWarning: A column-vector y was passed when a 1d array was expected. Please change the shape of y to (n_samples,), for example using ravel().\n",
      "  self.best_estimator_.fit(X, y, **fit_params)\n"
     ]
    }
   ],
   "source": [
    "param_grid = { \"criterion\" : [\"entropy\"],\n",
    "               \"min_samples_leaf\" : [1, 5, 10],\n",
    "               \"min_samples_split\" : [2, 4, 10 ,12, 16],\n",
    "               \"max_depth\": [6, 8, 10],\n",
    "               \"max_features\": [\"auto\"],\n",
    "               \"bootstrap\": [True],\n",
    "               \"n_estimators\": [50, 100, 200, 300]}\n",
    "gs = GridSearchCV(estimator=model, param_grid=param_grid, scoring='accuracy',\n",
    "                  cv=3, verbose=10)\n",
    "gs = gs.fit(train_features, train_target)"
   ],
   "metadata": {
    "collapsed": false,
    "pycharm": {
     "name": "#%%\n"
    }
   }
  },
  {
   "cell_type": "code",
   "execution_count": 65,
   "outputs": [
    {
     "name": "stdout",
     "output_type": "stream",
     "text": [
      "0.6021367521367522\n",
      "{'bootstrap': True, 'criterion': 'entropy', 'max_depth': 6, 'max_features': 'auto', 'min_samples_leaf': 10, 'min_samples_split': 2, 'n_estimators': 100}\n"
     ]
    }
   ],
   "source": [
    "print(gs.best_score_)\n",
    "print(gs.best_params_)\n",
    "# print(gs.cv_results_)\n",
    "best_model_1 = gs.best_estimator_"
   ],
   "metadata": {
    "collapsed": false,
    "pycharm": {
     "name": "#%%\n"
    }
   }
  },
  {
   "cell_type": "code",
   "execution_count": 66,
   "outputs": [
    {
     "name": "stdout",
     "output_type": "stream",
     "text": [
      "score= 0.4791666666666667\n"
     ]
    },
    {
     "name": "stderr",
     "output_type": "stream",
     "text": [
      "d:\\googledrive\\wirelessmotionintelligence\\2022-knu-wmi\\venv\\lib\\site-packages\\sklearn\\model_selection\\_validation.py:680: DataConversionWarning: A column-vector y was passed when a 1d array was expected. Please change the shape of y to (n_samples,), for example using ravel().\n",
      "  estimator.fit(X_train, y_train, **fit_params)\n",
      "d:\\googledrive\\wirelessmotionintelligence\\2022-knu-wmi\\venv\\lib\\site-packages\\sklearn\\model_selection\\_validation.py:680: DataConversionWarning: A column-vector y was passed when a 1d array was expected. Please change the shape of y to (n_samples,), for example using ravel().\n",
      "  estimator.fit(X_train, y_train, **fit_params)\n",
      "d:\\googledrive\\wirelessmotionintelligence\\2022-knu-wmi\\venv\\lib\\site-packages\\sklearn\\model_selection\\_validation.py:680: DataConversionWarning: A column-vector y was passed when a 1d array was expected. Please change the shape of y to (n_samples,), for example using ravel().\n",
      "  estimator.fit(X_train, y_train, **fit_params)\n",
      "d:\\googledrive\\wirelessmotionintelligence\\2022-knu-wmi\\venv\\lib\\site-packages\\sklearn\\model_selection\\_validation.py:680: DataConversionWarning: A column-vector y was passed when a 1d array was expected. Please change the shape of y to (n_samples,), for example using ravel().\n",
      "  estimator.fit(X_train, y_train, **fit_params)\n",
      "d:\\googledrive\\wirelessmotionintelligence\\2022-knu-wmi\\venv\\lib\\site-packages\\sklearn\\model_selection\\_validation.py:680: DataConversionWarning: A column-vector y was passed when a 1d array was expected. Please change the shape of y to (n_samples,), for example using ravel().\n",
      "  estimator.fit(X_train, y_train, **fit_params)\n"
     ]
    },
    {
     "name": "stdout",
     "output_type": "stream",
     "text": [
      "cross_val_score= [0.47058824 0.51515152 0.54545455 0.51515152 0.60606061]\n",
      "mean= 0.5304812834224599\n"
     ]
    }
   ],
   "source": [
    "# print(best_model_1.score(test_features, test_target))\n",
    "print(\"score=\", best_model_1.score(test_features, test_target))\n",
    "scs = cross_val_score(best_model_1, dataset, target, cv=5, scoring=\"accuracy\")\n",
    "print(\"cross_val_score=\", scs)\n",
    "print(\"mean=\", scs.mean())"
   ],
   "metadata": {
    "collapsed": false,
    "pycharm": {
     "name": "#%%\n"
    }
   }
  },
  {
   "cell_type": "code",
   "execution_count": 49,
   "outputs": [],
   "source": [],
   "metadata": {
    "collapsed": false,
    "pycharm": {
     "name": "#%%\n"
    }
   }
  },
  {
   "cell_type": "markdown",
   "source": [
    "### 2) Naive Bayes"
   ],
   "metadata": {
    "collapsed": false,
    "pycharm": {
     "name": "#%% md\n"
    }
   }
  },
  {
   "cell_type": "code",
   "execution_count": 67,
   "outputs": [],
   "source": [
    "gnb_model = GaussianNB()\n",
    "# print(model.get_params())"
   ],
   "metadata": {
    "collapsed": false,
    "pycharm": {
     "name": "#%%\n"
    }
   }
  },
  {
   "cell_type": "code",
   "execution_count": 68,
   "outputs": [
    {
     "name": "stdout",
     "output_type": "stream",
     "text": [
      "Fitting 3 folds for each of 100 candidates, totalling 300 fits\n"
     ]
    },
    {
     "name": "stderr",
     "output_type": "stream",
     "text": [
      "d:\\googledrive\\wirelessmotionintelligence\\2022-knu-wmi\\venv\\lib\\site-packages\\sklearn\\model_selection\\_validation.py:372: FitFailedWarning: \n",
      "2 fits failed out of a total of 300.\n",
      "The score on these train-test partitions for these parameters will be set to nan.\n",
      "If these failures are not expected, you can try to debug them by setting error_score='raise'.\n",
      "\n",
      "Below are more details about the failures:\n",
      "--------------------------------------------------------------------------------\n",
      "1 fits failed with the following error:\n",
      "Traceback (most recent call last):\n",
      "  File \"d:\\googledrive\\wirelessmotionintelligence\\2022-knu-wmi\\venv\\lib\\site-packages\\sklearn\\model_selection\\_validation.py\", line 680, in _fit_and_score\n",
      "    estimator.fit(X_train, y_train, **fit_params)\n",
      "  File \"d:\\googledrive\\wirelessmotionintelligence\\2022-knu-wmi\\venv\\lib\\site-packages\\sklearn\\naive_bayes.py\", line 245, in fit\n",
      "    return self._partial_fit(\n",
      "  File \"d:\\googledrive\\wirelessmotionintelligence\\2022-knu-wmi\\venv\\lib\\site-packages\\sklearn\\naive_bayes.py\", line 468, in _partial_fit\n",
      "    new_theta, new_sigma = self._update_mean_variance(\n",
      "  File \"d:\\googledrive\\wirelessmotionintelligence\\2022-knu-wmi\\venv\\lib\\site-packages\\sklearn\\naive_bayes.py\", line 303, in _update_mean_variance\n",
      "    new_var = np.var(X, axis=0)\n",
      "  File \"<__array_function__ internals>\", line 5, in var\n",
      "  File \"d:\\googledrive\\wirelessmotionintelligence\\2022-knu-wmi\\venv\\lib\\site-packages\\numpy\\core\\fromnumeric.py\", line 3702, in var\n",
      "    return _methods._var(a, axis=axis, dtype=dtype, out=out, ddof=ddof,\n",
      "  File \"d:\\googledrive\\wirelessmotionintelligence\\2022-knu-wmi\\venv\\lib\\site-packages\\numpy\\core\\_methods.py\", line 229, in _var\n",
      "    x = asanyarray(arr - arrmean)\n",
      "numpy.core._exceptions._ArrayMemoryError: Unable to allocate 10.8 MiB for an array with shape (38, 37170) and data type float64\n",
      "\n",
      "--------------------------------------------------------------------------------\n",
      "1 fits failed with the following error:\n",
      "Traceback (most recent call last):\n",
      "  File \"d:\\googledrive\\wirelessmotionintelligence\\2022-knu-wmi\\venv\\lib\\site-packages\\sklearn\\model_selection\\_validation.py\", line 680, in _fit_and_score\n",
      "    estimator.fit(X_train, y_train, **fit_params)\n",
      "  File \"d:\\googledrive\\wirelessmotionintelligence\\2022-knu-wmi\\venv\\lib\\site-packages\\sklearn\\naive_bayes.py\", line 245, in fit\n",
      "    return self._partial_fit(\n",
      "  File \"d:\\googledrive\\wirelessmotionintelligence\\2022-knu-wmi\\venv\\lib\\site-packages\\sklearn\\naive_bayes.py\", line 410, in _partial_fit\n",
      "    self.epsilon_ = self.var_smoothing * np.var(X, axis=0).max()\n",
      "  File \"<__array_function__ internals>\", line 5, in var\n",
      "  File \"d:\\googledrive\\wirelessmotionintelligence\\2022-knu-wmi\\venv\\lib\\site-packages\\numpy\\core\\fromnumeric.py\", line 3702, in var\n",
      "    return _methods._var(a, axis=axis, dtype=dtype, out=out, ddof=ddof,\n",
      "  File \"d:\\googledrive\\wirelessmotionintelligence\\2022-knu-wmi\\venv\\lib\\site-packages\\numpy\\core\\_methods.py\", line 229, in _var\n",
      "    x = asanyarray(arr - arrmean)\n",
      "numpy.core._exceptions._ArrayMemoryError: Unable to allocate 22.1 MiB for an array with shape (78, 37170) and data type float64\n",
      "\n",
      "  warnings.warn(some_fits_failed_message, FitFailedWarning)\n",
      "d:\\googledrive\\wirelessmotionintelligence\\2022-knu-wmi\\venv\\lib\\site-packages\\sklearn\\model_selection\\_search.py:969: UserWarning: One or more of the test scores are non-finite: [       nan 0.49978632        nan 0.52542735 0.52542735 0.54252137\n",
      " 0.55961538 0.60213675 0.61068376 0.6275641  0.63589744 0.64444444\n",
      " 0.65277778 0.65277778 0.66132479 0.66965812 0.69487179 0.68653846\n",
      " 0.67799145 0.66944444 0.68611111 0.68611111 0.68611111 0.68611111\n",
      " 0.68611111 0.68611111 0.69465812 0.69465812 0.69465812 0.69465812\n",
      " 0.70320513 0.70320513 0.70320513 0.70320513 0.70320513 0.70320513\n",
      " 0.70320513 0.69465812 0.69465812 0.69465812 0.69465812 0.69465812\n",
      " 0.69465812 0.69465812 0.69465812 0.69465812 0.69465812 0.69465812\n",
      " 0.69465812 0.69465812 0.69465812 0.69465812 0.69465812 0.69465812\n",
      " 0.69465812 0.69465812 0.69465812 0.69465812 0.69465812 0.69465812\n",
      " 0.69465812 0.69465812 0.69465812 0.69465812 0.69465812 0.69465812\n",
      " 0.69465812 0.69465812 0.69465812 0.69465812 0.69465812 0.69465812\n",
      " 0.69465812 0.69465812 0.69465812 0.69465812 0.69465812 0.69465812\n",
      " 0.69465812 0.69465812 0.69465812 0.69465812 0.69465812 0.69465812\n",
      " 0.69465812 0.69465812 0.69465812 0.69465812 0.69465812 0.69465812\n",
      " 0.69465812 0.69465812 0.69465812 0.69465812 0.69465812 0.69465812\n",
      " 0.69465812 0.69465812 0.69465812 0.69465812]\n",
      "  warnings.warn(\n",
      "d:\\googledrive\\wirelessmotionintelligence\\2022-knu-wmi\\venv\\lib\\site-packages\\sklearn\\utils\\validation.py:993: DataConversionWarning: A column-vector y was passed when a 1d array was expected. Please change the shape of y to (n_samples, ), for example using ravel().\n",
      "  y = column_or_1d(y, warn=True)\n"
     ]
    }
   ],
   "source": [
    "param_grid = {\n",
    "    'var_smoothing': np.logspace(0,-9, num=100)\n",
    "}\n",
    "gs = GridSearchCV(estimator=gnb_model, param_grid=param_grid, scoring='accuracy', cv=3, verbose=10, n_jobs=-1)\n",
    "gs = gs.fit(train_features, train_target)"
   ],
   "metadata": {
    "collapsed": false,
    "pycharm": {
     "name": "#%%\n"
    }
   }
  },
  {
   "cell_type": "code",
   "execution_count": 69,
   "outputs": [
    {
     "name": "stdout",
     "output_type": "stream",
     "text": [
      "0.7032051282051283\n",
      "{'var_smoothing': 0.001873817422860383}\n"
     ]
    }
   ],
   "source": [
    "print(gs.best_score_)\n",
    "print(gs.best_params_)\n",
    "# print(gs.cv_results_)\n",
    "best_model_2 = gs.best_estimator_"
   ],
   "metadata": {
    "collapsed": false,
    "pycharm": {
     "name": "#%%\n"
    }
   }
  },
  {
   "cell_type": "code",
   "execution_count": 70,
   "outputs": [
    {
     "name": "stdout",
     "output_type": "stream",
     "text": [
      "score= 0.5833333333333334\n"
     ]
    },
    {
     "name": "stderr",
     "output_type": "stream",
     "text": [
      "d:\\googledrive\\wirelessmotionintelligence\\2022-knu-wmi\\venv\\lib\\site-packages\\sklearn\\utils\\validation.py:993: DataConversionWarning: A column-vector y was passed when a 1d array was expected. Please change the shape of y to (n_samples, ), for example using ravel().\n",
      "  y = column_or_1d(y, warn=True)\n",
      "d:\\googledrive\\wirelessmotionintelligence\\2022-knu-wmi\\venv\\lib\\site-packages\\sklearn\\utils\\validation.py:993: DataConversionWarning: A column-vector y was passed when a 1d array was expected. Please change the shape of y to (n_samples, ), for example using ravel().\n",
      "  y = column_or_1d(y, warn=True)\n",
      "d:\\googledrive\\wirelessmotionintelligence\\2022-knu-wmi\\venv\\lib\\site-packages\\sklearn\\utils\\validation.py:993: DataConversionWarning: A column-vector y was passed when a 1d array was expected. Please change the shape of y to (n_samples, ), for example using ravel().\n",
      "  y = column_or_1d(y, warn=True)\n",
      "d:\\googledrive\\wirelessmotionintelligence\\2022-knu-wmi\\venv\\lib\\site-packages\\sklearn\\utils\\validation.py:993: DataConversionWarning: A column-vector y was passed when a 1d array was expected. Please change the shape of y to (n_samples, ), for example using ravel().\n",
      "  y = column_or_1d(y, warn=True)\n",
      "d:\\googledrive\\wirelessmotionintelligence\\2022-knu-wmi\\venv\\lib\\site-packages\\sklearn\\utils\\validation.py:993: DataConversionWarning: A column-vector y was passed when a 1d array was expected. Please change the shape of y to (n_samples, ), for example using ravel().\n",
      "  y = column_or_1d(y, warn=True)\n",
      "d:\\googledrive\\wirelessmotionintelligence\\2022-knu-wmi\\venv\\lib\\site-packages\\sklearn\\utils\\validation.py:993: DataConversionWarning: A column-vector y was passed when a 1d array was expected. Please change the shape of y to (n_samples, ), for example using ravel().\n",
      "  y = column_or_1d(y, warn=True)\n",
      "d:\\googledrive\\wirelessmotionintelligence\\2022-knu-wmi\\venv\\lib\\site-packages\\sklearn\\utils\\validation.py:993: DataConversionWarning: A column-vector y was passed when a 1d array was expected. Please change the shape of y to (n_samples, ), for example using ravel().\n",
      "  y = column_or_1d(y, warn=True)\n"
     ]
    },
    {
     "name": "stdout",
     "output_type": "stream",
     "text": [
      "cross_val_score= [0.70833333 0.70833333 0.66666667 0.83333333 0.58333333 0.52173913\n",
      " 0.60869565]\n",
      "mean= 0.6614906832298137\n"
     ]
    }
   ],
   "source": [
    "print(\"score=\", best_model_2.score(test_features, test_target))\n",
    "scs = cross_val_score(best_model_2, dataset, target, cv=7, scoring=\"accuracy\")\n",
    "print(\"cross_val_score=\", scs)\n",
    "print(\"mean=\", scs.mean())"
   ],
   "metadata": {
    "collapsed": false,
    "pycharm": {
     "name": "#%%\n"
    }
   }
  },
  {
   "cell_type": "markdown",
   "source": [
    "### 3) K-nearest neighbor"
   ],
   "metadata": {
    "collapsed": false,
    "pycharm": {
     "name": "#%% md\n"
    }
   }
  },
  {
   "cell_type": "code",
   "execution_count": 6,
   "outputs": [],
   "source": [
    "neigh_model = KNeighborsClassifier()\n",
    "# print(model.get_params())"
   ],
   "metadata": {
    "collapsed": false,
    "pycharm": {
     "name": "#%%\n"
    }
   }
  },
  {
   "cell_type": "code",
   "execution_count": 7,
   "outputs": [
    {
     "name": "stdout",
     "output_type": "stream",
     "text": [
      "Fitting 3 folds for each of 144 candidates, totalling 432 fits\n"
     ]
    },
    {
     "name": "stderr",
     "output_type": "stream",
     "text": [
      "d:\\googledrive\\wirelessmotionintelligence\\2022-knu-wmi\\venv\\lib\\site-packages\\sklearn\\neighbors\\_classification.py:198: DataConversionWarning: A column-vector y was passed when a 1d array was expected. Please change the shape of y to (n_samples,), for example using ravel().\n",
      "  return self._fit(X, y)\n"
     ]
    },
    {
     "data": {
      "text/plain": "GridSearchCV(cv=3, estimator=KNeighborsClassifier(), n_jobs=-1,\n             param_grid={'leaf_size': (20, 40, 1),\n                         'metric': ('minkowski', 'chebyshev'),\n                         'n_neighbors': (1, 5, 6, 9, 10, 20), 'p': (1, 2),\n                         'weights': ('uniform', 'distance')},\n             scoring='accuracy', verbose=10)"
     },
     "execution_count": 7,
     "metadata": {},
     "output_type": "execute_result"
    }
   ],
   "source": [
    "param_grid = {\n",
    "    'n_neighbors': (1, 5, 6, 9, 10, 20),\n",
    "    'leaf_size': (20,40,1),\n",
    "    'p': (1,2),\n",
    "    'weights': ('uniform', 'distance'),\n",
    "    'metric': ('minkowski', 'chebyshev')\n",
    "               }\n",
    "gs = GridSearchCV(estimator=neigh_model, param_grid=param_grid,\n",
    "                    cv=3, scoring=\"accuracy\", verbose=10, n_jobs=-1)\n",
    "gs.fit(X=train_features, y=train_target)"
   ],
   "metadata": {
    "collapsed": false,
    "pycharm": {
     "name": "#%%\n"
    }
   }
  },
  {
   "cell_type": "code",
   "execution_count": 8,
   "outputs": [
    {
     "name": "stdout",
     "output_type": "stream",
     "text": [
      "{'leaf_size': 20, 'metric': 'minkowski', 'n_neighbors': 1, 'p': 2, 'weights': 'uniform'}\n",
      "0.5589743589743589\n"
     ]
    }
   ],
   "source": [
    "print(gs.best_params_)\n",
    "print(gs.best_score_)\n",
    "best_model_3 = gs.best_estimator_"
   ],
   "metadata": {
    "collapsed": false,
    "pycharm": {
     "name": "#%%\n"
    }
   }
  },
  {
   "cell_type": "code",
   "execution_count": 9,
   "outputs": [
    {
     "name": "stdout",
     "output_type": "stream",
     "text": [
      "score= 0.4166666666666667\n"
     ]
    },
    {
     "name": "stderr",
     "output_type": "stream",
     "text": [
      "d:\\googledrive\\wirelessmotionintelligence\\2022-knu-wmi\\venv\\lib\\site-packages\\sklearn\\neighbors\\_classification.py:198: DataConversionWarning: A column-vector y was passed when a 1d array was expected. Please change the shape of y to (n_samples,), for example using ravel().\n",
      "  return self._fit(X, y)\n",
      "d:\\googledrive\\wirelessmotionintelligence\\2022-knu-wmi\\venv\\lib\\site-packages\\sklearn\\neighbors\\_classification.py:198: DataConversionWarning: A column-vector y was passed when a 1d array was expected. Please change the shape of y to (n_samples,), for example using ravel().\n",
      "  return self._fit(X, y)\n",
      "d:\\googledrive\\wirelessmotionintelligence\\2022-knu-wmi\\venv\\lib\\site-packages\\sklearn\\neighbors\\_classification.py:198: DataConversionWarning: A column-vector y was passed when a 1d array was expected. Please change the shape of y to (n_samples,), for example using ravel().\n",
      "  return self._fit(X, y)\n",
      "d:\\googledrive\\wirelessmotionintelligence\\2022-knu-wmi\\venv\\lib\\site-packages\\sklearn\\neighbors\\_classification.py:198: DataConversionWarning: A column-vector y was passed when a 1d array was expected. Please change the shape of y to (n_samples,), for example using ravel().\n",
      "  return self._fit(X, y)\n",
      "d:\\googledrive\\wirelessmotionintelligence\\2022-knu-wmi\\venv\\lib\\site-packages\\sklearn\\neighbors\\_classification.py:198: DataConversionWarning: A column-vector y was passed when a 1d array was expected. Please change the shape of y to (n_samples,), for example using ravel().\n",
      "  return self._fit(X, y)\n",
      "d:\\googledrive\\wirelessmotionintelligence\\2022-knu-wmi\\venv\\lib\\site-packages\\sklearn\\neighbors\\_classification.py:198: DataConversionWarning: A column-vector y was passed when a 1d array was expected. Please change the shape of y to (n_samples,), for example using ravel().\n",
      "  return self._fit(X, y)\n",
      "d:\\googledrive\\wirelessmotionintelligence\\2022-knu-wmi\\venv\\lib\\site-packages\\sklearn\\neighbors\\_classification.py:198: DataConversionWarning: A column-vector y was passed when a 1d array was expected. Please change the shape of y to (n_samples,), for example using ravel().\n",
      "  return self._fit(X, y)\n"
     ]
    },
    {
     "name": "stdout",
     "output_type": "stream",
     "text": [
      "cross_val_score= [0.54166667 0.41666667 0.54166667 0.45833333 0.54166667 0.34782609\n",
      " 0.39130435]\n",
      "mean= 0.46273291925465837\n"
     ]
    }
   ],
   "source": [
    "print(\"score=\", best_model_3.score(test_features, test_target))\n",
    "scs = cross_val_score(best_model_3, dataset, target, cv=7, scoring=\"accuracy\")\n",
    "print(\"cross_val_score=\", scs)\n",
    "print(\"mean=\", scs.mean())"
   ],
   "metadata": {
    "collapsed": false,
    "pycharm": {
     "name": "#%%\n"
    }
   }
  },
  {
   "cell_type": "code",
   "execution_count": null,
   "outputs": [],
   "source": [
    "train_target"
   ],
   "metadata": {
    "collapsed": false,
    "pycharm": {
     "name": "#%%\n"
    }
   }
  },
  {
   "cell_type": "code",
   "execution_count": 58,
   "outputs": [],
   "source": [],
   "metadata": {
    "collapsed": false,
    "pycharm": {
     "name": "#%%\n"
    }
   }
  }
 ],
 "metadata": {
  "kernelspec": {
   "display_name": "Python 3",
   "language": "python",
   "name": "python3"
  },
  "language_info": {
   "codemirror_mode": {
    "name": "ipython",
    "version": 2
   },
   "file_extension": ".py",
   "mimetype": "text/x-python",
   "name": "python",
   "nbconvert_exporter": "python",
   "pygments_lexer": "ipython2",
   "version": "2.7.6"
  }
 },
 "nbformat": 4,
 "nbformat_minor": 0
}
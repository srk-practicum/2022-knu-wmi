{
 "cells": [
  {
   "cell_type": "code",
   "execution_count": 53,
   "outputs": [],
   "source": [
    "import math\n",
    "import os\n",
    "import shutil\n",
    "from os import listdir, mkdir\n",
    "from os.path import isfile, join\n",
    "import re\n",
    "\n",
    "import numpy as np\n",
    "import pandas as pd\n",
    "import matplotlib.pyplot as plt\n",
    "import pywt\n",
    "import seaborn as sns\n",
    "from sklearn import preprocessing\n",
    "from sklearn.decomposition import PCA\n",
    "from sklearn.ensemble import RandomForestClassifier\n",
    "from sklearn.model_selection import GridSearchCV, cross_val_score\n",
    "from sklearn.naive_bayes import GaussianNB\n",
    "from sklearn.neighbors import KNeighborsClassifier\n",
    "from sklearn.preprocessing import StandardScaler"
   ],
   "metadata": {
    "collapsed": false,
    "pycharm": {
     "name": "#%%\n"
    }
   }
  },
  {
   "cell_type": "code",
   "execution_count": 54,
   "outputs": [],
   "source": [
    "def getCsiMatrFromCsv(fileName: str, CsiFilesFolder: str) -> pd.DataFrame:\n",
    "    csvFilePath = join(CsiFilesFolder, fileName)\n",
    "    return pd.read_csv(csvFilePath)"
   ],
   "metadata": {
    "collapsed": false,
    "pycharm": {
     "name": "#%%\n"
    }
   }
  },
  {
   "cell_type": "markdown",
   "metadata": {
    "collapsed": true,
    "pycharm": {
     "name": "#%% md\n"
    }
   },
   "source": [
    "### read train, test datasets"
   ]
  },
  {
   "cell_type": "code",
   "execution_count": 55,
   "outputs": [],
   "source": [
    "dataset_path = \"dataset1/dataset\"\n",
    "train_dataset = getCsiMatrFromCsv(\"train.csv\", dataset_path)\n",
    "train_dataset = train_dataset.rename(columns={train_dataset.columns[-1]: \"target\"})\n",
    "test_dataset = getCsiMatrFromCsv(\"test.csv\", dataset_path)\n",
    "test_dataset = test_dataset.rename(columns={test_dataset.columns[-1]: \"target\"})\n"
   ],
   "metadata": {
    "collapsed": false,
    "pycharm": {
     "name": "#%%\n"
    }
   }
  },
  {
   "cell_type": "code",
   "execution_count": 56,
   "outputs": [],
   "source": [
    "train_target = train_dataset.target\n",
    "test_target = test_dataset.target\n",
    "\n",
    "le = preprocessing.LabelEncoder()\n",
    "le.fit(train_target)\n",
    "train_target = pd.DataFrame(le.transform(train_target))\n",
    "\n",
    "le = preprocessing.LabelEncoder()\n",
    "le.fit(test_target)\n",
    "test_target = pd.DataFrame(le.transform(test_target))\n",
    "\n",
    "train_features = train_dataset.drop(columns=[\"target\", ])\n",
    "test_features = test_dataset.drop(columns=[\"target\", ])"
   ],
   "metadata": {
    "collapsed": false,
    "pycharm": {
     "name": "#%%\n"
    }
   }
  },
  {
   "cell_type": "markdown",
   "source": [
    "### 1) Random Forest\n"
   ],
   "metadata": {
    "collapsed": false,
    "pycharm": {
     "name": "#%% md\n"
    }
   }
  },
  {
   "cell_type": "code",
   "execution_count": 58,
   "outputs": [],
   "source": [
    "model = RandomForestClassifier(oob_score=True, random_state=1, n_jobs=-1)\n",
    "# print(model.get_params())"
   ],
   "metadata": {
    "collapsed": false,
    "pycharm": {
     "name": "#%%\n"
    }
   }
  },
  {
   "cell_type": "code",
   "execution_count": 60,
   "outputs": [
    {
     "name": "stdout",
     "output_type": "stream",
     "text": [
      "Fitting 3 folds for each of 90 candidates, totalling 270 fits\n",
      "[CV 1/3; 1/90] START bootstrap=True, criterion=entropy, max_depth=6, max_features=auto, min_samples_leaf=1, min_samples_split=2, n_estimators=100\n"
     ]
    },
    {
     "name": "stderr",
     "output_type": "stream",
     "text": [
      "d:\\googledrive\\wirelessmotionintelligence\\2022-knu-wmi\\venv\\lib\\site-packages\\sklearn\\model_selection\\_validation.py:680: DataConversionWarning: A column-vector y was passed when a 1d array was expected. Please change the shape of y to (n_samples,), for example using ravel().\n",
      "  estimator.fit(X_train, y_train, **fit_params)\n"
     ]
    },
    {
     "name": "stdout",
     "output_type": "stream",
     "text": [
      "[CV 1/3; 1/90] END bootstrap=True, criterion=entropy, max_depth=6, max_features=auto, min_samples_leaf=1, min_samples_split=2, n_estimators=100;, score=0.600 total time=   1.6s\n",
      "[CV 2/3; 1/90] START bootstrap=True, criterion=entropy, max_depth=6, max_features=auto, min_samples_leaf=1, min_samples_split=2, n_estimators=100\n"
     ]
    },
    {
     "name": "stderr",
     "output_type": "stream",
     "text": [
      "d:\\googledrive\\wirelessmotionintelligence\\2022-knu-wmi\\venv\\lib\\site-packages\\sklearn\\model_selection\\_validation.py:680: DataConversionWarning: A column-vector y was passed when a 1d array was expected. Please change the shape of y to (n_samples,), for example using ravel().\n",
      "  estimator.fit(X_train, y_train, **fit_params)\n"
     ]
    },
    {
     "name": "stdout",
     "output_type": "stream",
     "text": [
      "[CV 2/3; 1/90] END bootstrap=True, criterion=entropy, max_depth=6, max_features=auto, min_samples_leaf=1, min_samples_split=2, n_estimators=100;, score=0.641 total time=   1.5s\n",
      "[CV 3/3; 1/90] START bootstrap=True, criterion=entropy, max_depth=6, max_features=auto, min_samples_leaf=1, min_samples_split=2, n_estimators=100\n"
     ]
    },
    {
     "name": "stderr",
     "output_type": "stream",
     "text": [
      "d:\\googledrive\\wirelessmotionintelligence\\2022-knu-wmi\\venv\\lib\\site-packages\\sklearn\\model_selection\\_validation.py:680: DataConversionWarning: A column-vector y was passed when a 1d array was expected. Please change the shape of y to (n_samples,), for example using ravel().\n",
      "  estimator.fit(X_train, y_train, **fit_params)\n"
     ]
    },
    {
     "name": "stdout",
     "output_type": "stream",
     "text": [
      "[CV 3/3; 1/90] END bootstrap=True, criterion=entropy, max_depth=6, max_features=auto, min_samples_leaf=1, min_samples_split=2, n_estimators=100;, score=0.487 total time=   1.4s\n",
      "[CV 1/3; 2/90] START bootstrap=True, criterion=entropy, max_depth=6, max_features=auto, min_samples_leaf=1, min_samples_split=2, n_estimators=200\n"
     ]
    },
    {
     "name": "stderr",
     "output_type": "stream",
     "text": [
      "d:\\googledrive\\wirelessmotionintelligence\\2022-knu-wmi\\venv\\lib\\site-packages\\sklearn\\model_selection\\_validation.py:680: DataConversionWarning: A column-vector y was passed when a 1d array was expected. Please change the shape of y to (n_samples,), for example using ravel().\n",
      "  estimator.fit(X_train, y_train, **fit_params)\n"
     ]
    },
    {
     "name": "stdout",
     "output_type": "stream",
     "text": [
      "[CV 1/3; 2/90] END bootstrap=True, criterion=entropy, max_depth=6, max_features=auto, min_samples_leaf=1, min_samples_split=2, n_estimators=200;, score=0.500 total time=   2.1s\n",
      "[CV 2/3; 2/90] START bootstrap=True, criterion=entropy, max_depth=6, max_features=auto, min_samples_leaf=1, min_samples_split=2, n_estimators=200\n"
     ]
    },
    {
     "name": "stderr",
     "output_type": "stream",
     "text": [
      "d:\\googledrive\\wirelessmotionintelligence\\2022-knu-wmi\\venv\\lib\\site-packages\\sklearn\\model_selection\\_validation.py:680: DataConversionWarning: A column-vector y was passed when a 1d array was expected. Please change the shape of y to (n_samples,), for example using ravel().\n",
      "  estimator.fit(X_train, y_train, **fit_params)\n"
     ]
    },
    {
     "name": "stdout",
     "output_type": "stream",
     "text": [
      "[CV 2/3; 2/90] END bootstrap=True, criterion=entropy, max_depth=6, max_features=auto, min_samples_leaf=1, min_samples_split=2, n_estimators=200;, score=0.538 total time=   2.1s\n",
      "[CV 3/3; 2/90] START bootstrap=True, criterion=entropy, max_depth=6, max_features=auto, min_samples_leaf=1, min_samples_split=2, n_estimators=200\n"
     ]
    },
    {
     "name": "stderr",
     "output_type": "stream",
     "text": [
      "d:\\googledrive\\wirelessmotionintelligence\\2022-knu-wmi\\venv\\lib\\site-packages\\sklearn\\model_selection\\_validation.py:680: DataConversionWarning: A column-vector y was passed when a 1d array was expected. Please change the shape of y to (n_samples,), for example using ravel().\n",
      "  estimator.fit(X_train, y_train, **fit_params)\n"
     ]
    },
    {
     "name": "stdout",
     "output_type": "stream",
     "text": [
      "[CV 3/3; 2/90] END bootstrap=True, criterion=entropy, max_depth=6, max_features=auto, min_samples_leaf=1, min_samples_split=2, n_estimators=200;, score=0.513 total time=   2.1s\n",
      "[CV 1/3; 3/90] START bootstrap=True, criterion=entropy, max_depth=6, max_features=auto, min_samples_leaf=1, min_samples_split=4, n_estimators=100\n"
     ]
    },
    {
     "name": "stderr",
     "output_type": "stream",
     "text": [
      "d:\\googledrive\\wirelessmotionintelligence\\2022-knu-wmi\\venv\\lib\\site-packages\\sklearn\\model_selection\\_validation.py:680: DataConversionWarning: A column-vector y was passed when a 1d array was expected. Please change the shape of y to (n_samples,), for example using ravel().\n",
      "  estimator.fit(X_train, y_train, **fit_params)\n"
     ]
    },
    {
     "name": "stdout",
     "output_type": "stream",
     "text": [
      "[CV 1/3; 3/90] END bootstrap=True, criterion=entropy, max_depth=6, max_features=auto, min_samples_leaf=1, min_samples_split=4, n_estimators=100;, score=0.550 total time=   1.4s\n",
      "[CV 2/3; 3/90] START bootstrap=True, criterion=entropy, max_depth=6, max_features=auto, min_samples_leaf=1, min_samples_split=4, n_estimators=100\n"
     ]
    },
    {
     "name": "stderr",
     "output_type": "stream",
     "text": [
      "d:\\googledrive\\wirelessmotionintelligence\\2022-knu-wmi\\venv\\lib\\site-packages\\sklearn\\model_selection\\_validation.py:680: DataConversionWarning: A column-vector y was passed when a 1d array was expected. Please change the shape of y to (n_samples,), for example using ravel().\n",
      "  estimator.fit(X_train, y_train, **fit_params)\n"
     ]
    },
    {
     "name": "stdout",
     "output_type": "stream",
     "text": [
      "[CV 2/3; 3/90] END bootstrap=True, criterion=entropy, max_depth=6, max_features=auto, min_samples_leaf=1, min_samples_split=4, n_estimators=100;, score=0.641 total time=   1.4s\n",
      "[CV 3/3; 3/90] START bootstrap=True, criterion=entropy, max_depth=6, max_features=auto, min_samples_leaf=1, min_samples_split=4, n_estimators=100\n"
     ]
    },
    {
     "name": "stderr",
     "output_type": "stream",
     "text": [
      "d:\\googledrive\\wirelessmotionintelligence\\2022-knu-wmi\\venv\\lib\\site-packages\\sklearn\\model_selection\\_validation.py:680: DataConversionWarning: A column-vector y was passed when a 1d array was expected. Please change the shape of y to (n_samples,), for example using ravel().\n",
      "  estimator.fit(X_train, y_train, **fit_params)\n"
     ]
    },
    {
     "name": "stdout",
     "output_type": "stream",
     "text": [
      "[CV 3/3; 3/90] END bootstrap=True, criterion=entropy, max_depth=6, max_features=auto, min_samples_leaf=1, min_samples_split=4, n_estimators=100;, score=0.487 total time=   1.4s\n",
      "[CV 1/3; 4/90] START bootstrap=True, criterion=entropy, max_depth=6, max_features=auto, min_samples_leaf=1, min_samples_split=4, n_estimators=200\n"
     ]
    },
    {
     "name": "stderr",
     "output_type": "stream",
     "text": [
      "d:\\googledrive\\wirelessmotionintelligence\\2022-knu-wmi\\venv\\lib\\site-packages\\sklearn\\model_selection\\_validation.py:680: DataConversionWarning: A column-vector y was passed when a 1d array was expected. Please change the shape of y to (n_samples,), for example using ravel().\n",
      "  estimator.fit(X_train, y_train, **fit_params)\n"
     ]
    },
    {
     "name": "stdout",
     "output_type": "stream",
     "text": [
      "[CV 1/3; 4/90] END bootstrap=True, criterion=entropy, max_depth=6, max_features=auto, min_samples_leaf=1, min_samples_split=4, n_estimators=200;, score=0.500 total time=   2.4s\n",
      "[CV 2/3; 4/90] START bootstrap=True, criterion=entropy, max_depth=6, max_features=auto, min_samples_leaf=1, min_samples_split=4, n_estimators=200\n"
     ]
    },
    {
     "name": "stderr",
     "output_type": "stream",
     "text": [
      "d:\\googledrive\\wirelessmotionintelligence\\2022-knu-wmi\\venv\\lib\\site-packages\\sklearn\\model_selection\\_validation.py:680: DataConversionWarning: A column-vector y was passed when a 1d array was expected. Please change the shape of y to (n_samples,), for example using ravel().\n",
      "  estimator.fit(X_train, y_train, **fit_params)\n"
     ]
    },
    {
     "name": "stdout",
     "output_type": "stream",
     "text": [
      "[CV 2/3; 4/90] END bootstrap=True, criterion=entropy, max_depth=6, max_features=auto, min_samples_leaf=1, min_samples_split=4, n_estimators=200;, score=0.564 total time=   2.3s\n",
      "[CV 3/3; 4/90] START bootstrap=True, criterion=entropy, max_depth=6, max_features=auto, min_samples_leaf=1, min_samples_split=4, n_estimators=200\n"
     ]
    },
    {
     "name": "stderr",
     "output_type": "stream",
     "text": [
      "d:\\googledrive\\wirelessmotionintelligence\\2022-knu-wmi\\venv\\lib\\site-packages\\sklearn\\model_selection\\_validation.py:680: DataConversionWarning: A column-vector y was passed when a 1d array was expected. Please change the shape of y to (n_samples,), for example using ravel().\n",
      "  estimator.fit(X_train, y_train, **fit_params)\n"
     ]
    },
    {
     "name": "stdout",
     "output_type": "stream",
     "text": [
      "[CV 3/3; 4/90] END bootstrap=True, criterion=entropy, max_depth=6, max_features=auto, min_samples_leaf=1, min_samples_split=4, n_estimators=200;, score=0.538 total time=   2.1s\n",
      "[CV 1/3; 5/90] START bootstrap=True, criterion=entropy, max_depth=6, max_features=auto, min_samples_leaf=1, min_samples_split=10, n_estimators=100\n"
     ]
    },
    {
     "name": "stderr",
     "output_type": "stream",
     "text": [
      "d:\\googledrive\\wirelessmotionintelligence\\2022-knu-wmi\\venv\\lib\\site-packages\\sklearn\\model_selection\\_validation.py:680: DataConversionWarning: A column-vector y was passed when a 1d array was expected. Please change the shape of y to (n_samples,), for example using ravel().\n",
      "  estimator.fit(X_train, y_train, **fit_params)\n"
     ]
    },
    {
     "name": "stdout",
     "output_type": "stream",
     "text": [
      "[CV 1/3; 5/90] END bootstrap=True, criterion=entropy, max_depth=6, max_features=auto, min_samples_leaf=1, min_samples_split=10, n_estimators=100;, score=0.550 total time=   1.4s\n",
      "[CV 2/3; 5/90] START bootstrap=True, criterion=entropy, max_depth=6, max_features=auto, min_samples_leaf=1, min_samples_split=10, n_estimators=100\n"
     ]
    },
    {
     "name": "stderr",
     "output_type": "stream",
     "text": [
      "d:\\googledrive\\wirelessmotionintelligence\\2022-knu-wmi\\venv\\lib\\site-packages\\sklearn\\model_selection\\_validation.py:680: DataConversionWarning: A column-vector y was passed when a 1d array was expected. Please change the shape of y to (n_samples,), for example using ravel().\n",
      "  estimator.fit(X_train, y_train, **fit_params)\n"
     ]
    },
    {
     "name": "stdout",
     "output_type": "stream",
     "text": [
      "[CV 2/3; 5/90] END bootstrap=True, criterion=entropy, max_depth=6, max_features=auto, min_samples_leaf=1, min_samples_split=10, n_estimators=100;, score=0.641 total time=   1.4s\n",
      "[CV 3/3; 5/90] START bootstrap=True, criterion=entropy, max_depth=6, max_features=auto, min_samples_leaf=1, min_samples_split=10, n_estimators=100\n"
     ]
    },
    {
     "name": "stderr",
     "output_type": "stream",
     "text": [
      "d:\\googledrive\\wirelessmotionintelligence\\2022-knu-wmi\\venv\\lib\\site-packages\\sklearn\\model_selection\\_validation.py:680: DataConversionWarning: A column-vector y was passed when a 1d array was expected. Please change the shape of y to (n_samples,), for example using ravel().\n",
      "  estimator.fit(X_train, y_train, **fit_params)\n"
     ]
    },
    {
     "name": "stdout",
     "output_type": "stream",
     "text": [
      "[CV 3/3; 5/90] END bootstrap=True, criterion=entropy, max_depth=6, max_features=auto, min_samples_leaf=1, min_samples_split=10, n_estimators=100;, score=0.462 total time=   1.5s\n",
      "[CV 1/3; 6/90] START bootstrap=True, criterion=entropy, max_depth=6, max_features=auto, min_samples_leaf=1, min_samples_split=10, n_estimators=200\n"
     ]
    },
    {
     "name": "stderr",
     "output_type": "stream",
     "text": [
      "d:\\googledrive\\wirelessmotionintelligence\\2022-knu-wmi\\venv\\lib\\site-packages\\sklearn\\model_selection\\_validation.py:680: DataConversionWarning: A column-vector y was passed when a 1d array was expected. Please change the shape of y to (n_samples,), for example using ravel().\n",
      "  estimator.fit(X_train, y_train, **fit_params)\n"
     ]
    },
    {
     "name": "stdout",
     "output_type": "stream",
     "text": [
      "[CV 1/3; 6/90] END bootstrap=True, criterion=entropy, max_depth=6, max_features=auto, min_samples_leaf=1, min_samples_split=10, n_estimators=200;, score=0.475 total time=   2.2s\n",
      "[CV 2/3; 6/90] START bootstrap=True, criterion=entropy, max_depth=6, max_features=auto, min_samples_leaf=1, min_samples_split=10, n_estimators=200\n"
     ]
    },
    {
     "name": "stderr",
     "output_type": "stream",
     "text": [
      "d:\\googledrive\\wirelessmotionintelligence\\2022-knu-wmi\\venv\\lib\\site-packages\\sklearn\\model_selection\\_validation.py:680: DataConversionWarning: A column-vector y was passed when a 1d array was expected. Please change the shape of y to (n_samples,), for example using ravel().\n",
      "  estimator.fit(X_train, y_train, **fit_params)\n"
     ]
    },
    {
     "name": "stdout",
     "output_type": "stream",
     "text": [
      "[CV 2/3; 6/90] END bootstrap=True, criterion=entropy, max_depth=6, max_features=auto, min_samples_leaf=1, min_samples_split=10, n_estimators=200;, score=0.615 total time=   2.2s\n",
      "[CV 3/3; 6/90] START bootstrap=True, criterion=entropy, max_depth=6, max_features=auto, min_samples_leaf=1, min_samples_split=10, n_estimators=200\n"
     ]
    },
    {
     "name": "stderr",
     "output_type": "stream",
     "text": [
      "d:\\googledrive\\wirelessmotionintelligence\\2022-knu-wmi\\venv\\lib\\site-packages\\sklearn\\model_selection\\_validation.py:680: DataConversionWarning: A column-vector y was passed when a 1d array was expected. Please change the shape of y to (n_samples,), for example using ravel().\n",
      "  estimator.fit(X_train, y_train, **fit_params)\n"
     ]
    },
    {
     "name": "stdout",
     "output_type": "stream",
     "text": [
      "[CV 3/3; 6/90] END bootstrap=True, criterion=entropy, max_depth=6, max_features=auto, min_samples_leaf=1, min_samples_split=10, n_estimators=200;, score=0.538 total time=   2.1s\n",
      "[CV 1/3; 7/90] START bootstrap=True, criterion=entropy, max_depth=6, max_features=auto, min_samples_leaf=1, min_samples_split=12, n_estimators=100\n"
     ]
    },
    {
     "name": "stderr",
     "output_type": "stream",
     "text": [
      "d:\\googledrive\\wirelessmotionintelligence\\2022-knu-wmi\\venv\\lib\\site-packages\\sklearn\\model_selection\\_validation.py:680: DataConversionWarning: A column-vector y was passed when a 1d array was expected. Please change the shape of y to (n_samples,), for example using ravel().\n",
      "  estimator.fit(X_train, y_train, **fit_params)\n"
     ]
    },
    {
     "name": "stdout",
     "output_type": "stream",
     "text": [
      "[CV 1/3; 7/90] END bootstrap=True, criterion=entropy, max_depth=6, max_features=auto, min_samples_leaf=1, min_samples_split=12, n_estimators=100;, score=0.550 total time=   1.5s\n",
      "[CV 2/3; 7/90] START bootstrap=True, criterion=entropy, max_depth=6, max_features=auto, min_samples_leaf=1, min_samples_split=12, n_estimators=100\n"
     ]
    },
    {
     "name": "stderr",
     "output_type": "stream",
     "text": [
      "d:\\googledrive\\wirelessmotionintelligence\\2022-knu-wmi\\venv\\lib\\site-packages\\sklearn\\model_selection\\_validation.py:680: DataConversionWarning: A column-vector y was passed when a 1d array was expected. Please change the shape of y to (n_samples,), for example using ravel().\n",
      "  estimator.fit(X_train, y_train, **fit_params)\n"
     ]
    },
    {
     "name": "stdout",
     "output_type": "stream",
     "text": [
      "[CV 2/3; 7/90] END bootstrap=True, criterion=entropy, max_depth=6, max_features=auto, min_samples_leaf=1, min_samples_split=12, n_estimators=100;, score=0.615 total time=   1.4s\n",
      "[CV 3/3; 7/90] START bootstrap=True, criterion=entropy, max_depth=6, max_features=auto, min_samples_leaf=1, min_samples_split=12, n_estimators=100\n"
     ]
    },
    {
     "name": "stderr",
     "output_type": "stream",
     "text": [
      "d:\\googledrive\\wirelessmotionintelligence\\2022-knu-wmi\\venv\\lib\\site-packages\\sklearn\\model_selection\\_validation.py:680: DataConversionWarning: A column-vector y was passed when a 1d array was expected. Please change the shape of y to (n_samples,), for example using ravel().\n",
      "  estimator.fit(X_train, y_train, **fit_params)\n"
     ]
    },
    {
     "name": "stdout",
     "output_type": "stream",
     "text": [
      "[CV 3/3; 7/90] END bootstrap=True, criterion=entropy, max_depth=6, max_features=auto, min_samples_leaf=1, min_samples_split=12, n_estimators=100;, score=0.487 total time=   1.4s\n",
      "[CV 1/3; 8/90] START bootstrap=True, criterion=entropy, max_depth=6, max_features=auto, min_samples_leaf=1, min_samples_split=12, n_estimators=200\n"
     ]
    },
    {
     "name": "stderr",
     "output_type": "stream",
     "text": [
      "d:\\googledrive\\wirelessmotionintelligence\\2022-knu-wmi\\venv\\lib\\site-packages\\sklearn\\model_selection\\_validation.py:680: DataConversionWarning: A column-vector y was passed when a 1d array was expected. Please change the shape of y to (n_samples,), for example using ravel().\n",
      "  estimator.fit(X_train, y_train, **fit_params)\n"
     ]
    },
    {
     "name": "stdout",
     "output_type": "stream",
     "text": [
      "[CV 1/3; 8/90] END bootstrap=True, criterion=entropy, max_depth=6, max_features=auto, min_samples_leaf=1, min_samples_split=12, n_estimators=200;, score=0.475 total time=   2.2s\n",
      "[CV 2/3; 8/90] START bootstrap=True, criterion=entropy, max_depth=6, max_features=auto, min_samples_leaf=1, min_samples_split=12, n_estimators=200\n"
     ]
    },
    {
     "name": "stderr",
     "output_type": "stream",
     "text": [
      "d:\\googledrive\\wirelessmotionintelligence\\2022-knu-wmi\\venv\\lib\\site-packages\\sklearn\\model_selection\\_validation.py:680: DataConversionWarning: A column-vector y was passed when a 1d array was expected. Please change the shape of y to (n_samples,), for example using ravel().\n",
      "  estimator.fit(X_train, y_train, **fit_params)\n"
     ]
    },
    {
     "name": "stdout",
     "output_type": "stream",
     "text": [
      "[CV 2/3; 8/90] END bootstrap=True, criterion=entropy, max_depth=6, max_features=auto, min_samples_leaf=1, min_samples_split=12, n_estimators=200;, score=0.641 total time=   2.1s\n",
      "[CV 3/3; 8/90] START bootstrap=True, criterion=entropy, max_depth=6, max_features=auto, min_samples_leaf=1, min_samples_split=12, n_estimators=200\n"
     ]
    },
    {
     "name": "stderr",
     "output_type": "stream",
     "text": [
      "d:\\googledrive\\wirelessmotionintelligence\\2022-knu-wmi\\venv\\lib\\site-packages\\sklearn\\model_selection\\_validation.py:680: DataConversionWarning: A column-vector y was passed when a 1d array was expected. Please change the shape of y to (n_samples,), for example using ravel().\n",
      "  estimator.fit(X_train, y_train, **fit_params)\n"
     ]
    },
    {
     "name": "stdout",
     "output_type": "stream",
     "text": [
      "[CV 3/3; 8/90] END bootstrap=True, criterion=entropy, max_depth=6, max_features=auto, min_samples_leaf=1, min_samples_split=12, n_estimators=200;, score=0.538 total time=   2.1s\n",
      "[CV 1/3; 9/90] START bootstrap=True, criterion=entropy, max_depth=6, max_features=auto, min_samples_leaf=1, min_samples_split=16, n_estimators=100\n"
     ]
    },
    {
     "name": "stderr",
     "output_type": "stream",
     "text": [
      "d:\\googledrive\\wirelessmotionintelligence\\2022-knu-wmi\\venv\\lib\\site-packages\\sklearn\\model_selection\\_validation.py:680: DataConversionWarning: A column-vector y was passed when a 1d array was expected. Please change the shape of y to (n_samples,), for example using ravel().\n",
      "  estimator.fit(X_train, y_train, **fit_params)\n"
     ]
    },
    {
     "name": "stdout",
     "output_type": "stream",
     "text": [
      "[CV 1/3; 9/90] END bootstrap=True, criterion=entropy, max_depth=6, max_features=auto, min_samples_leaf=1, min_samples_split=16, n_estimators=100;, score=0.550 total time=   1.3s\n",
      "[CV 2/3; 9/90] START bootstrap=True, criterion=entropy, max_depth=6, max_features=auto, min_samples_leaf=1, min_samples_split=16, n_estimators=100\n"
     ]
    },
    {
     "name": "stderr",
     "output_type": "stream",
     "text": [
      "d:\\googledrive\\wirelessmotionintelligence\\2022-knu-wmi\\venv\\lib\\site-packages\\sklearn\\model_selection\\_validation.py:680: DataConversionWarning: A column-vector y was passed when a 1d array was expected. Please change the shape of y to (n_samples,), for example using ravel().\n",
      "  estimator.fit(X_train, y_train, **fit_params)\n"
     ]
    },
    {
     "name": "stdout",
     "output_type": "stream",
     "text": [
      "[CV 2/3; 9/90] END bootstrap=True, criterion=entropy, max_depth=6, max_features=auto, min_samples_leaf=1, min_samples_split=16, n_estimators=100;, score=0.590 total time=   1.4s\n",
      "[CV 3/3; 9/90] START bootstrap=True, criterion=entropy, max_depth=6, max_features=auto, min_samples_leaf=1, min_samples_split=16, n_estimators=100\n"
     ]
    },
    {
     "name": "stderr",
     "output_type": "stream",
     "text": [
      "d:\\googledrive\\wirelessmotionintelligence\\2022-knu-wmi\\venv\\lib\\site-packages\\sklearn\\model_selection\\_validation.py:680: DataConversionWarning: A column-vector y was passed when a 1d array was expected. Please change the shape of y to (n_samples,), for example using ravel().\n",
      "  estimator.fit(X_train, y_train, **fit_params)\n"
     ]
    },
    {
     "name": "stdout",
     "output_type": "stream",
     "text": [
      "[CV 3/3; 9/90] END bootstrap=True, criterion=entropy, max_depth=6, max_features=auto, min_samples_leaf=1, min_samples_split=16, n_estimators=100;, score=0.513 total time=   1.4s\n",
      "[CV 1/3; 10/90] START bootstrap=True, criterion=entropy, max_depth=6, max_features=auto, min_samples_leaf=1, min_samples_split=16, n_estimators=200\n"
     ]
    },
    {
     "name": "stderr",
     "output_type": "stream",
     "text": [
      "d:\\googledrive\\wirelessmotionintelligence\\2022-knu-wmi\\venv\\lib\\site-packages\\sklearn\\model_selection\\_validation.py:680: DataConversionWarning: A column-vector y was passed when a 1d array was expected. Please change the shape of y to (n_samples,), for example using ravel().\n",
      "  estimator.fit(X_train, y_train, **fit_params)\n"
     ]
    },
    {
     "name": "stdout",
     "output_type": "stream",
     "text": [
      "[CV 1/3; 10/90] END bootstrap=True, criterion=entropy, max_depth=6, max_features=auto, min_samples_leaf=1, min_samples_split=16, n_estimators=200;, score=0.525 total time=   2.1s\n",
      "[CV 2/3; 10/90] START bootstrap=True, criterion=entropy, max_depth=6, max_features=auto, min_samples_leaf=1, min_samples_split=16, n_estimators=200\n"
     ]
    },
    {
     "name": "stderr",
     "output_type": "stream",
     "text": [
      "d:\\googledrive\\wirelessmotionintelligence\\2022-knu-wmi\\venv\\lib\\site-packages\\sklearn\\model_selection\\_validation.py:680: DataConversionWarning: A column-vector y was passed when a 1d array was expected. Please change the shape of y to (n_samples,), for example using ravel().\n",
      "  estimator.fit(X_train, y_train, **fit_params)\n"
     ]
    },
    {
     "name": "stdout",
     "output_type": "stream",
     "text": [
      "[CV 2/3; 10/90] END bootstrap=True, criterion=entropy, max_depth=6, max_features=auto, min_samples_leaf=1, min_samples_split=16, n_estimators=200;, score=0.590 total time=   2.1s\n",
      "[CV 3/3; 10/90] START bootstrap=True, criterion=entropy, max_depth=6, max_features=auto, min_samples_leaf=1, min_samples_split=16, n_estimators=200\n"
     ]
    },
    {
     "name": "stderr",
     "output_type": "stream",
     "text": [
      "d:\\googledrive\\wirelessmotionintelligence\\2022-knu-wmi\\venv\\lib\\site-packages\\sklearn\\model_selection\\_validation.py:680: DataConversionWarning: A column-vector y was passed when a 1d array was expected. Please change the shape of y to (n_samples,), for example using ravel().\n",
      "  estimator.fit(X_train, y_train, **fit_params)\n"
     ]
    },
    {
     "name": "stdout",
     "output_type": "stream",
     "text": [
      "[CV 3/3; 10/90] END bootstrap=True, criterion=entropy, max_depth=6, max_features=auto, min_samples_leaf=1, min_samples_split=16, n_estimators=200;, score=0.564 total time=   2.1s\n",
      "[CV 1/3; 11/90] START bootstrap=True, criterion=entropy, max_depth=6, max_features=auto, min_samples_leaf=5, min_samples_split=2, n_estimators=100\n"
     ]
    },
    {
     "name": "stderr",
     "output_type": "stream",
     "text": [
      "d:\\googledrive\\wirelessmotionintelligence\\2022-knu-wmi\\venv\\lib\\site-packages\\sklearn\\model_selection\\_validation.py:680: DataConversionWarning: A column-vector y was passed when a 1d array was expected. Please change the shape of y to (n_samples,), for example using ravel().\n",
      "  estimator.fit(X_train, y_train, **fit_params)\n"
     ]
    },
    {
     "name": "stdout",
     "output_type": "stream",
     "text": [
      "[CV 1/3; 11/90] END bootstrap=True, criterion=entropy, max_depth=6, max_features=auto, min_samples_leaf=5, min_samples_split=2, n_estimators=100;, score=0.525 total time=   1.4s\n",
      "[CV 2/3; 11/90] START bootstrap=True, criterion=entropy, max_depth=6, max_features=auto, min_samples_leaf=5, min_samples_split=2, n_estimators=100\n"
     ]
    },
    {
     "name": "stderr",
     "output_type": "stream",
     "text": [
      "d:\\googledrive\\wirelessmotionintelligence\\2022-knu-wmi\\venv\\lib\\site-packages\\sklearn\\model_selection\\_validation.py:680: DataConversionWarning: A column-vector y was passed when a 1d array was expected. Please change the shape of y to (n_samples,), for example using ravel().\n",
      "  estimator.fit(X_train, y_train, **fit_params)\n"
     ]
    },
    {
     "name": "stdout",
     "output_type": "stream",
     "text": [
      "[CV 2/3; 11/90] END bootstrap=True, criterion=entropy, max_depth=6, max_features=auto, min_samples_leaf=5, min_samples_split=2, n_estimators=100;, score=0.615 total time=   1.4s\n",
      "[CV 3/3; 11/90] START bootstrap=True, criterion=entropy, max_depth=6, max_features=auto, min_samples_leaf=5, min_samples_split=2, n_estimators=100\n"
     ]
    },
    {
     "name": "stderr",
     "output_type": "stream",
     "text": [
      "d:\\googledrive\\wirelessmotionintelligence\\2022-knu-wmi\\venv\\lib\\site-packages\\sklearn\\model_selection\\_validation.py:680: DataConversionWarning: A column-vector y was passed when a 1d array was expected. Please change the shape of y to (n_samples,), for example using ravel().\n",
      "  estimator.fit(X_train, y_train, **fit_params)\n"
     ]
    },
    {
     "name": "stdout",
     "output_type": "stream",
     "text": [
      "[CV 3/3; 11/90] END bootstrap=True, criterion=entropy, max_depth=6, max_features=auto, min_samples_leaf=5, min_samples_split=2, n_estimators=100;, score=0.487 total time=   1.3s\n",
      "[CV 1/3; 12/90] START bootstrap=True, criterion=entropy, max_depth=6, max_features=auto, min_samples_leaf=5, min_samples_split=2, n_estimators=200\n"
     ]
    },
    {
     "name": "stderr",
     "output_type": "stream",
     "text": [
      "d:\\googledrive\\wirelessmotionintelligence\\2022-knu-wmi\\venv\\lib\\site-packages\\sklearn\\model_selection\\_validation.py:680: DataConversionWarning: A column-vector y was passed when a 1d array was expected. Please change the shape of y to (n_samples,), for example using ravel().\n",
      "  estimator.fit(X_train, y_train, **fit_params)\n"
     ]
    },
    {
     "name": "stdout",
     "output_type": "stream",
     "text": [
      "[CV 1/3; 12/90] END bootstrap=True, criterion=entropy, max_depth=6, max_features=auto, min_samples_leaf=5, min_samples_split=2, n_estimators=200;, score=0.500 total time=   2.1s\n",
      "[CV 2/3; 12/90] START bootstrap=True, criterion=entropy, max_depth=6, max_features=auto, min_samples_leaf=5, min_samples_split=2, n_estimators=200\n"
     ]
    },
    {
     "name": "stderr",
     "output_type": "stream",
     "text": [
      "d:\\googledrive\\wirelessmotionintelligence\\2022-knu-wmi\\venv\\lib\\site-packages\\sklearn\\model_selection\\_validation.py:680: DataConversionWarning: A column-vector y was passed when a 1d array was expected. Please change the shape of y to (n_samples,), for example using ravel().\n",
      "  estimator.fit(X_train, y_train, **fit_params)\n"
     ]
    },
    {
     "name": "stdout",
     "output_type": "stream",
     "text": [
      "[CV 2/3; 12/90] END bootstrap=True, criterion=entropy, max_depth=6, max_features=auto, min_samples_leaf=5, min_samples_split=2, n_estimators=200;, score=0.615 total time=   2.1s\n",
      "[CV 3/3; 12/90] START bootstrap=True, criterion=entropy, max_depth=6, max_features=auto, min_samples_leaf=5, min_samples_split=2, n_estimators=200\n"
     ]
    },
    {
     "name": "stderr",
     "output_type": "stream",
     "text": [
      "d:\\googledrive\\wirelessmotionintelligence\\2022-knu-wmi\\venv\\lib\\site-packages\\sklearn\\model_selection\\_validation.py:680: DataConversionWarning: A column-vector y was passed when a 1d array was expected. Please change the shape of y to (n_samples,), for example using ravel().\n",
      "  estimator.fit(X_train, y_train, **fit_params)\n"
     ]
    },
    {
     "name": "stdout",
     "output_type": "stream",
     "text": [
      "[CV 3/3; 12/90] END bootstrap=True, criterion=entropy, max_depth=6, max_features=auto, min_samples_leaf=5, min_samples_split=2, n_estimators=200;, score=0.513 total time=   2.2s\n",
      "[CV 1/3; 13/90] START bootstrap=True, criterion=entropy, max_depth=6, max_features=auto, min_samples_leaf=5, min_samples_split=4, n_estimators=100\n"
     ]
    },
    {
     "name": "stderr",
     "output_type": "stream",
     "text": [
      "d:\\googledrive\\wirelessmotionintelligence\\2022-knu-wmi\\venv\\lib\\site-packages\\sklearn\\model_selection\\_validation.py:680: DataConversionWarning: A column-vector y was passed when a 1d array was expected. Please change the shape of y to (n_samples,), for example using ravel().\n",
      "  estimator.fit(X_train, y_train, **fit_params)\n"
     ]
    },
    {
     "name": "stdout",
     "output_type": "stream",
     "text": [
      "[CV 1/3; 13/90] END bootstrap=True, criterion=entropy, max_depth=6, max_features=auto, min_samples_leaf=5, min_samples_split=4, n_estimators=100;, score=0.525 total time=   1.4s\n",
      "[CV 2/3; 13/90] START bootstrap=True, criterion=entropy, max_depth=6, max_features=auto, min_samples_leaf=5, min_samples_split=4, n_estimators=100\n"
     ]
    },
    {
     "name": "stderr",
     "output_type": "stream",
     "text": [
      "d:\\googledrive\\wirelessmotionintelligence\\2022-knu-wmi\\venv\\lib\\site-packages\\sklearn\\model_selection\\_validation.py:680: DataConversionWarning: A column-vector y was passed when a 1d array was expected. Please change the shape of y to (n_samples,), for example using ravel().\n",
      "  estimator.fit(X_train, y_train, **fit_params)\n"
     ]
    },
    {
     "name": "stdout",
     "output_type": "stream",
     "text": [
      "[CV 2/3; 13/90] END bootstrap=True, criterion=entropy, max_depth=6, max_features=auto, min_samples_leaf=5, min_samples_split=4, n_estimators=100;, score=0.615 total time=   1.4s\n",
      "[CV 3/3; 13/90] START bootstrap=True, criterion=entropy, max_depth=6, max_features=auto, min_samples_leaf=5, min_samples_split=4, n_estimators=100\n"
     ]
    },
    {
     "name": "stderr",
     "output_type": "stream",
     "text": [
      "d:\\googledrive\\wirelessmotionintelligence\\2022-knu-wmi\\venv\\lib\\site-packages\\sklearn\\model_selection\\_validation.py:680: DataConversionWarning: A column-vector y was passed when a 1d array was expected. Please change the shape of y to (n_samples,), for example using ravel().\n",
      "  estimator.fit(X_train, y_train, **fit_params)\n"
     ]
    },
    {
     "name": "stdout",
     "output_type": "stream",
     "text": [
      "[CV 3/3; 13/90] END bootstrap=True, criterion=entropy, max_depth=6, max_features=auto, min_samples_leaf=5, min_samples_split=4, n_estimators=100;, score=0.487 total time=   1.3s\n",
      "[CV 1/3; 14/90] START bootstrap=True, criterion=entropy, max_depth=6, max_features=auto, min_samples_leaf=5, min_samples_split=4, n_estimators=200\n"
     ]
    },
    {
     "name": "stderr",
     "output_type": "stream",
     "text": [
      "d:\\googledrive\\wirelessmotionintelligence\\2022-knu-wmi\\venv\\lib\\site-packages\\sklearn\\model_selection\\_validation.py:680: DataConversionWarning: A column-vector y was passed when a 1d array was expected. Please change the shape of y to (n_samples,), for example using ravel().\n",
      "  estimator.fit(X_train, y_train, **fit_params)\n"
     ]
    },
    {
     "name": "stdout",
     "output_type": "stream",
     "text": [
      "[CV 1/3; 14/90] END bootstrap=True, criterion=entropy, max_depth=6, max_features=auto, min_samples_leaf=5, min_samples_split=4, n_estimators=200;, score=0.500 total time=   2.3s\n",
      "[CV 2/3; 14/90] START bootstrap=True, criterion=entropy, max_depth=6, max_features=auto, min_samples_leaf=5, min_samples_split=4, n_estimators=200\n"
     ]
    },
    {
     "name": "stderr",
     "output_type": "stream",
     "text": [
      "d:\\googledrive\\wirelessmotionintelligence\\2022-knu-wmi\\venv\\lib\\site-packages\\sklearn\\model_selection\\_validation.py:680: DataConversionWarning: A column-vector y was passed when a 1d array was expected. Please change the shape of y to (n_samples,), for example using ravel().\n",
      "  estimator.fit(X_train, y_train, **fit_params)\n"
     ]
    },
    {
     "name": "stdout",
     "output_type": "stream",
     "text": [
      "[CV 2/3; 14/90] END bootstrap=True, criterion=entropy, max_depth=6, max_features=auto, min_samples_leaf=5, min_samples_split=4, n_estimators=200;, score=0.615 total time=   2.3s\n",
      "[CV 3/3; 14/90] START bootstrap=True, criterion=entropy, max_depth=6, max_features=auto, min_samples_leaf=5, min_samples_split=4, n_estimators=200\n"
     ]
    },
    {
     "name": "stderr",
     "output_type": "stream",
     "text": [
      "d:\\googledrive\\wirelessmotionintelligence\\2022-knu-wmi\\venv\\lib\\site-packages\\sklearn\\model_selection\\_validation.py:680: DataConversionWarning: A column-vector y was passed when a 1d array was expected. Please change the shape of y to (n_samples,), for example using ravel().\n",
      "  estimator.fit(X_train, y_train, **fit_params)\n"
     ]
    },
    {
     "name": "stdout",
     "output_type": "stream",
     "text": [
      "[CV 3/3; 14/90] END bootstrap=True, criterion=entropy, max_depth=6, max_features=auto, min_samples_leaf=5, min_samples_split=4, n_estimators=200;, score=0.513 total time=   2.1s\n",
      "[CV 1/3; 15/90] START bootstrap=True, criterion=entropy, max_depth=6, max_features=auto, min_samples_leaf=5, min_samples_split=10, n_estimators=100\n"
     ]
    },
    {
     "name": "stderr",
     "output_type": "stream",
     "text": [
      "d:\\googledrive\\wirelessmotionintelligence\\2022-knu-wmi\\venv\\lib\\site-packages\\sklearn\\model_selection\\_validation.py:680: DataConversionWarning: A column-vector y was passed when a 1d array was expected. Please change the shape of y to (n_samples,), for example using ravel().\n",
      "  estimator.fit(X_train, y_train, **fit_params)\n"
     ]
    },
    {
     "name": "stdout",
     "output_type": "stream",
     "text": [
      "[CV 1/3; 15/90] END bootstrap=True, criterion=entropy, max_depth=6, max_features=auto, min_samples_leaf=5, min_samples_split=10, n_estimators=100;, score=0.525 total time=   1.4s\n",
      "[CV 2/3; 15/90] START bootstrap=True, criterion=entropy, max_depth=6, max_features=auto, min_samples_leaf=5, min_samples_split=10, n_estimators=100\n"
     ]
    },
    {
     "name": "stderr",
     "output_type": "stream",
     "text": [
      "d:\\googledrive\\wirelessmotionintelligence\\2022-knu-wmi\\venv\\lib\\site-packages\\sklearn\\model_selection\\_validation.py:680: DataConversionWarning: A column-vector y was passed when a 1d array was expected. Please change the shape of y to (n_samples,), for example using ravel().\n",
      "  estimator.fit(X_train, y_train, **fit_params)\n"
     ]
    },
    {
     "name": "stdout",
     "output_type": "stream",
     "text": [
      "[CV 2/3; 15/90] END bootstrap=True, criterion=entropy, max_depth=6, max_features=auto, min_samples_leaf=5, min_samples_split=10, n_estimators=100;, score=0.615 total time=   1.5s\n",
      "[CV 3/3; 15/90] START bootstrap=True, criterion=entropy, max_depth=6, max_features=auto, min_samples_leaf=5, min_samples_split=10, n_estimators=100\n"
     ]
    },
    {
     "name": "stderr",
     "output_type": "stream",
     "text": [
      "d:\\googledrive\\wirelessmotionintelligence\\2022-knu-wmi\\venv\\lib\\site-packages\\sklearn\\model_selection\\_validation.py:680: DataConversionWarning: A column-vector y was passed when a 1d array was expected. Please change the shape of y to (n_samples,), for example using ravel().\n",
      "  estimator.fit(X_train, y_train, **fit_params)\n"
     ]
    },
    {
     "name": "stdout",
     "output_type": "stream",
     "text": [
      "[CV 3/3; 15/90] END bootstrap=True, criterion=entropy, max_depth=6, max_features=auto, min_samples_leaf=5, min_samples_split=10, n_estimators=100;, score=0.487 total time=   1.4s\n",
      "[CV 1/3; 16/90] START bootstrap=True, criterion=entropy, max_depth=6, max_features=auto, min_samples_leaf=5, min_samples_split=10, n_estimators=200\n"
     ]
    },
    {
     "name": "stderr",
     "output_type": "stream",
     "text": [
      "d:\\googledrive\\wirelessmotionintelligence\\2022-knu-wmi\\venv\\lib\\site-packages\\sklearn\\model_selection\\_validation.py:680: DataConversionWarning: A column-vector y was passed when a 1d array was expected. Please change the shape of y to (n_samples,), for example using ravel().\n",
      "  estimator.fit(X_train, y_train, **fit_params)\n"
     ]
    },
    {
     "name": "stdout",
     "output_type": "stream",
     "text": [
      "[CV 1/3; 16/90] END bootstrap=True, criterion=entropy, max_depth=6, max_features=auto, min_samples_leaf=5, min_samples_split=10, n_estimators=200;, score=0.500 total time=   2.1s\n",
      "[CV 2/3; 16/90] START bootstrap=True, criterion=entropy, max_depth=6, max_features=auto, min_samples_leaf=5, min_samples_split=10, n_estimators=200\n"
     ]
    },
    {
     "name": "stderr",
     "output_type": "stream",
     "text": [
      "d:\\googledrive\\wirelessmotionintelligence\\2022-knu-wmi\\venv\\lib\\site-packages\\sklearn\\model_selection\\_validation.py:680: DataConversionWarning: A column-vector y was passed when a 1d array was expected. Please change the shape of y to (n_samples,), for example using ravel().\n",
      "  estimator.fit(X_train, y_train, **fit_params)\n"
     ]
    },
    {
     "name": "stdout",
     "output_type": "stream",
     "text": [
      "[CV 2/3; 16/90] END bootstrap=True, criterion=entropy, max_depth=6, max_features=auto, min_samples_leaf=5, min_samples_split=10, n_estimators=200;, score=0.615 total time=   2.1s\n",
      "[CV 3/3; 16/90] START bootstrap=True, criterion=entropy, max_depth=6, max_features=auto, min_samples_leaf=5, min_samples_split=10, n_estimators=200\n"
     ]
    },
    {
     "name": "stderr",
     "output_type": "stream",
     "text": [
      "d:\\googledrive\\wirelessmotionintelligence\\2022-knu-wmi\\venv\\lib\\site-packages\\sklearn\\model_selection\\_validation.py:680: DataConversionWarning: A column-vector y was passed when a 1d array was expected. Please change the shape of y to (n_samples,), for example using ravel().\n",
      "  estimator.fit(X_train, y_train, **fit_params)\n"
     ]
    },
    {
     "name": "stdout",
     "output_type": "stream",
     "text": [
      "[CV 3/3; 16/90] END bootstrap=True, criterion=entropy, max_depth=6, max_features=auto, min_samples_leaf=5, min_samples_split=10, n_estimators=200;, score=0.513 total time=   2.0s\n",
      "[CV 1/3; 17/90] START bootstrap=True, criterion=entropy, max_depth=6, max_features=auto, min_samples_leaf=5, min_samples_split=12, n_estimators=100\n"
     ]
    },
    {
     "name": "stderr",
     "output_type": "stream",
     "text": [
      "d:\\googledrive\\wirelessmotionintelligence\\2022-knu-wmi\\venv\\lib\\site-packages\\sklearn\\model_selection\\_validation.py:680: DataConversionWarning: A column-vector y was passed when a 1d array was expected. Please change the shape of y to (n_samples,), for example using ravel().\n",
      "  estimator.fit(X_train, y_train, **fit_params)\n"
     ]
    },
    {
     "name": "stdout",
     "output_type": "stream",
     "text": [
      "[CV 1/3; 17/90] END bootstrap=True, criterion=entropy, max_depth=6, max_features=auto, min_samples_leaf=5, min_samples_split=12, n_estimators=100;, score=0.550 total time=   1.3s\n",
      "[CV 2/3; 17/90] START bootstrap=True, criterion=entropy, max_depth=6, max_features=auto, min_samples_leaf=5, min_samples_split=12, n_estimators=100\n"
     ]
    },
    {
     "name": "stderr",
     "output_type": "stream",
     "text": [
      "d:\\googledrive\\wirelessmotionintelligence\\2022-knu-wmi\\venv\\lib\\site-packages\\sklearn\\model_selection\\_validation.py:680: DataConversionWarning: A column-vector y was passed when a 1d array was expected. Please change the shape of y to (n_samples,), for example using ravel().\n",
      "  estimator.fit(X_train, y_train, **fit_params)\n"
     ]
    },
    {
     "name": "stdout",
     "output_type": "stream",
     "text": [
      "[CV 2/3; 17/90] END bootstrap=True, criterion=entropy, max_depth=6, max_features=auto, min_samples_leaf=5, min_samples_split=12, n_estimators=100;, score=0.641 total time=   1.3s\n",
      "[CV 3/3; 17/90] START bootstrap=True, criterion=entropy, max_depth=6, max_features=auto, min_samples_leaf=5, min_samples_split=12, n_estimators=100\n"
     ]
    },
    {
     "name": "stderr",
     "output_type": "stream",
     "text": [
      "d:\\googledrive\\wirelessmotionintelligence\\2022-knu-wmi\\venv\\lib\\site-packages\\sklearn\\model_selection\\_validation.py:680: DataConversionWarning: A column-vector y was passed when a 1d array was expected. Please change the shape of y to (n_samples,), for example using ravel().\n",
      "  estimator.fit(X_train, y_train, **fit_params)\n"
     ]
    },
    {
     "name": "stdout",
     "output_type": "stream",
     "text": [
      "[CV 3/3; 17/90] END bootstrap=True, criterion=entropy, max_depth=6, max_features=auto, min_samples_leaf=5, min_samples_split=12, n_estimators=100;, score=0.487 total time=   1.3s\n",
      "[CV 1/3; 18/90] START bootstrap=True, criterion=entropy, max_depth=6, max_features=auto, min_samples_leaf=5, min_samples_split=12, n_estimators=200\n"
     ]
    },
    {
     "name": "stderr",
     "output_type": "stream",
     "text": [
      "d:\\googledrive\\wirelessmotionintelligence\\2022-knu-wmi\\venv\\lib\\site-packages\\sklearn\\model_selection\\_validation.py:680: DataConversionWarning: A column-vector y was passed when a 1d array was expected. Please change the shape of y to (n_samples,), for example using ravel().\n",
      "  estimator.fit(X_train, y_train, **fit_params)\n"
     ]
    },
    {
     "name": "stdout",
     "output_type": "stream",
     "text": [
      "[CV 1/3; 18/90] END bootstrap=True, criterion=entropy, max_depth=6, max_features=auto, min_samples_leaf=5, min_samples_split=12, n_estimators=200;, score=0.500 total time=   2.0s\n",
      "[CV 2/3; 18/90] START bootstrap=True, criterion=entropy, max_depth=6, max_features=auto, min_samples_leaf=5, min_samples_split=12, n_estimators=200\n"
     ]
    },
    {
     "name": "stderr",
     "output_type": "stream",
     "text": [
      "d:\\googledrive\\wirelessmotionintelligence\\2022-knu-wmi\\venv\\lib\\site-packages\\sklearn\\model_selection\\_validation.py:680: DataConversionWarning: A column-vector y was passed when a 1d array was expected. Please change the shape of y to (n_samples,), for example using ravel().\n",
      "  estimator.fit(X_train, y_train, **fit_params)\n"
     ]
    },
    {
     "name": "stdout",
     "output_type": "stream",
     "text": [
      "[CV 2/3; 18/90] END bootstrap=True, criterion=entropy, max_depth=6, max_features=auto, min_samples_leaf=5, min_samples_split=12, n_estimators=200;, score=0.615 total time=   2.0s\n",
      "[CV 3/3; 18/90] START bootstrap=True, criterion=entropy, max_depth=6, max_features=auto, min_samples_leaf=5, min_samples_split=12, n_estimators=200\n"
     ]
    },
    {
     "name": "stderr",
     "output_type": "stream",
     "text": [
      "d:\\googledrive\\wirelessmotionintelligence\\2022-knu-wmi\\venv\\lib\\site-packages\\sklearn\\model_selection\\_validation.py:680: DataConversionWarning: A column-vector y was passed when a 1d array was expected. Please change the shape of y to (n_samples,), for example using ravel().\n",
      "  estimator.fit(X_train, y_train, **fit_params)\n"
     ]
    },
    {
     "name": "stdout",
     "output_type": "stream",
     "text": [
      "[CV 3/3; 18/90] END bootstrap=True, criterion=entropy, max_depth=6, max_features=auto, min_samples_leaf=5, min_samples_split=12, n_estimators=200;, score=0.513 total time=   2.0s\n",
      "[CV 1/3; 19/90] START bootstrap=True, criterion=entropy, max_depth=6, max_features=auto, min_samples_leaf=5, min_samples_split=16, n_estimators=100\n"
     ]
    },
    {
     "name": "stderr",
     "output_type": "stream",
     "text": [
      "d:\\googledrive\\wirelessmotionintelligence\\2022-knu-wmi\\venv\\lib\\site-packages\\sklearn\\model_selection\\_validation.py:680: DataConversionWarning: A column-vector y was passed when a 1d array was expected. Please change the shape of y to (n_samples,), for example using ravel().\n",
      "  estimator.fit(X_train, y_train, **fit_params)\n"
     ]
    },
    {
     "name": "stdout",
     "output_type": "stream",
     "text": [
      "[CV 1/3; 19/90] END bootstrap=True, criterion=entropy, max_depth=6, max_features=auto, min_samples_leaf=5, min_samples_split=16, n_estimators=100;, score=0.525 total time=   1.3s\n",
      "[CV 2/3; 19/90] START bootstrap=True, criterion=entropy, max_depth=6, max_features=auto, min_samples_leaf=5, min_samples_split=16, n_estimators=100\n"
     ]
    },
    {
     "name": "stderr",
     "output_type": "stream",
     "text": [
      "d:\\googledrive\\wirelessmotionintelligence\\2022-knu-wmi\\venv\\lib\\site-packages\\sklearn\\model_selection\\_validation.py:680: DataConversionWarning: A column-vector y was passed when a 1d array was expected. Please change the shape of y to (n_samples,), for example using ravel().\n",
      "  estimator.fit(X_train, y_train, **fit_params)\n"
     ]
    },
    {
     "name": "stdout",
     "output_type": "stream",
     "text": [
      "[CV 2/3; 19/90] END bootstrap=True, criterion=entropy, max_depth=6, max_features=auto, min_samples_leaf=5, min_samples_split=16, n_estimators=100;, score=0.641 total time=   1.3s\n",
      "[CV 3/3; 19/90] START bootstrap=True, criterion=entropy, max_depth=6, max_features=auto, min_samples_leaf=5, min_samples_split=16, n_estimators=100\n"
     ]
    },
    {
     "name": "stderr",
     "output_type": "stream",
     "text": [
      "d:\\googledrive\\wirelessmotionintelligence\\2022-knu-wmi\\venv\\lib\\site-packages\\sklearn\\model_selection\\_validation.py:680: DataConversionWarning: A column-vector y was passed when a 1d array was expected. Please change the shape of y to (n_samples,), for example using ravel().\n",
      "  estimator.fit(X_train, y_train, **fit_params)\n"
     ]
    },
    {
     "name": "stdout",
     "output_type": "stream",
     "text": [
      "[CV 3/3; 19/90] END bootstrap=True, criterion=entropy, max_depth=6, max_features=auto, min_samples_leaf=5, min_samples_split=16, n_estimators=100;, score=0.462 total time=   1.4s\n",
      "[CV 1/3; 20/90] START bootstrap=True, criterion=entropy, max_depth=6, max_features=auto, min_samples_leaf=5, min_samples_split=16, n_estimators=200\n"
     ]
    },
    {
     "name": "stderr",
     "output_type": "stream",
     "text": [
      "d:\\googledrive\\wirelessmotionintelligence\\2022-knu-wmi\\venv\\lib\\site-packages\\sklearn\\model_selection\\_validation.py:680: DataConversionWarning: A column-vector y was passed when a 1d array was expected. Please change the shape of y to (n_samples,), for example using ravel().\n",
      "  estimator.fit(X_train, y_train, **fit_params)\n"
     ]
    },
    {
     "name": "stdout",
     "output_type": "stream",
     "text": [
      "[CV 1/3; 20/90] END bootstrap=True, criterion=entropy, max_depth=6, max_features=auto, min_samples_leaf=5, min_samples_split=16, n_estimators=200;, score=0.500 total time=   2.0s\n",
      "[CV 2/3; 20/90] START bootstrap=True, criterion=entropy, max_depth=6, max_features=auto, min_samples_leaf=5, min_samples_split=16, n_estimators=200\n"
     ]
    },
    {
     "name": "stderr",
     "output_type": "stream",
     "text": [
      "d:\\googledrive\\wirelessmotionintelligence\\2022-knu-wmi\\venv\\lib\\site-packages\\sklearn\\model_selection\\_validation.py:680: DataConversionWarning: A column-vector y was passed when a 1d array was expected. Please change the shape of y to (n_samples,), for example using ravel().\n",
      "  estimator.fit(X_train, y_train, **fit_params)\n"
     ]
    },
    {
     "name": "stdout",
     "output_type": "stream",
     "text": [
      "[CV 2/3; 20/90] END bootstrap=True, criterion=entropy, max_depth=6, max_features=auto, min_samples_leaf=5, min_samples_split=16, n_estimators=200;, score=0.590 total time=   2.0s\n",
      "[CV 3/3; 20/90] START bootstrap=True, criterion=entropy, max_depth=6, max_features=auto, min_samples_leaf=5, min_samples_split=16, n_estimators=200\n"
     ]
    },
    {
     "name": "stderr",
     "output_type": "stream",
     "text": [
      "d:\\googledrive\\wirelessmotionintelligence\\2022-knu-wmi\\venv\\lib\\site-packages\\sklearn\\model_selection\\_validation.py:680: DataConversionWarning: A column-vector y was passed when a 1d array was expected. Please change the shape of y to (n_samples,), for example using ravel().\n",
      "  estimator.fit(X_train, y_train, **fit_params)\n"
     ]
    },
    {
     "name": "stdout",
     "output_type": "stream",
     "text": [
      "[CV 3/3; 20/90] END bootstrap=True, criterion=entropy, max_depth=6, max_features=auto, min_samples_leaf=5, min_samples_split=16, n_estimators=200;, score=0.538 total time=   2.0s\n",
      "[CV 1/3; 21/90] START bootstrap=True, criterion=entropy, max_depth=6, max_features=auto, min_samples_leaf=10, min_samples_split=2, n_estimators=100\n"
     ]
    },
    {
     "name": "stderr",
     "output_type": "stream",
     "text": [
      "d:\\googledrive\\wirelessmotionintelligence\\2022-knu-wmi\\venv\\lib\\site-packages\\sklearn\\model_selection\\_validation.py:680: DataConversionWarning: A column-vector y was passed when a 1d array was expected. Please change the shape of y to (n_samples,), for example using ravel().\n",
      "  estimator.fit(X_train, y_train, **fit_params)\n"
     ]
    },
    {
     "name": "stdout",
     "output_type": "stream",
     "text": [
      "[CV 1/3; 21/90] END bootstrap=True, criterion=entropy, max_depth=6, max_features=auto, min_samples_leaf=10, min_samples_split=2, n_estimators=100;, score=0.550 total time=   1.3s\n",
      "[CV 2/3; 21/90] START bootstrap=True, criterion=entropy, max_depth=6, max_features=auto, min_samples_leaf=10, min_samples_split=2, n_estimators=100\n"
     ]
    },
    {
     "name": "stderr",
     "output_type": "stream",
     "text": [
      "d:\\googledrive\\wirelessmotionintelligence\\2022-knu-wmi\\venv\\lib\\site-packages\\sklearn\\model_selection\\_validation.py:680: DataConversionWarning: A column-vector y was passed when a 1d array was expected. Please change the shape of y to (n_samples,), for example using ravel().\n",
      "  estimator.fit(X_train, y_train, **fit_params)\n"
     ]
    },
    {
     "name": "stdout",
     "output_type": "stream",
     "text": [
      "[CV 2/3; 21/90] END bootstrap=True, criterion=entropy, max_depth=6, max_features=auto, min_samples_leaf=10, min_samples_split=2, n_estimators=100;, score=0.667 total time=   1.3s\n",
      "[CV 3/3; 21/90] START bootstrap=True, criterion=entropy, max_depth=6, max_features=auto, min_samples_leaf=10, min_samples_split=2, n_estimators=100\n"
     ]
    },
    {
     "name": "stderr",
     "output_type": "stream",
     "text": [
      "d:\\googledrive\\wirelessmotionintelligence\\2022-knu-wmi\\venv\\lib\\site-packages\\sklearn\\model_selection\\_validation.py:680: DataConversionWarning: A column-vector y was passed when a 1d array was expected. Please change the shape of y to (n_samples,), for example using ravel().\n",
      "  estimator.fit(X_train, y_train, **fit_params)\n"
     ]
    },
    {
     "name": "stdout",
     "output_type": "stream",
     "text": [
      "[CV 3/3; 21/90] END bootstrap=True, criterion=entropy, max_depth=6, max_features=auto, min_samples_leaf=10, min_samples_split=2, n_estimators=100;, score=0.590 total time=   1.3s\n",
      "[CV 1/3; 22/90] START bootstrap=True, criterion=entropy, max_depth=6, max_features=auto, min_samples_leaf=10, min_samples_split=2, n_estimators=200\n"
     ]
    },
    {
     "name": "stderr",
     "output_type": "stream",
     "text": [
      "d:\\googledrive\\wirelessmotionintelligence\\2022-knu-wmi\\venv\\lib\\site-packages\\sklearn\\model_selection\\_validation.py:680: DataConversionWarning: A column-vector y was passed when a 1d array was expected. Please change the shape of y to (n_samples,), for example using ravel().\n",
      "  estimator.fit(X_train, y_train, **fit_params)\n"
     ]
    },
    {
     "name": "stdout",
     "output_type": "stream",
     "text": [
      "[CV 1/3; 22/90] END bootstrap=True, criterion=entropy, max_depth=6, max_features=auto, min_samples_leaf=10, min_samples_split=2, n_estimators=200;, score=0.500 total time=   2.0s\n",
      "[CV 2/3; 22/90] START bootstrap=True, criterion=entropy, max_depth=6, max_features=auto, min_samples_leaf=10, min_samples_split=2, n_estimators=200\n"
     ]
    },
    {
     "name": "stderr",
     "output_type": "stream",
     "text": [
      "d:\\googledrive\\wirelessmotionintelligence\\2022-knu-wmi\\venv\\lib\\site-packages\\sklearn\\model_selection\\_validation.py:680: DataConversionWarning: A column-vector y was passed when a 1d array was expected. Please change the shape of y to (n_samples,), for example using ravel().\n",
      "  estimator.fit(X_train, y_train, **fit_params)\n"
     ]
    },
    {
     "name": "stdout",
     "output_type": "stream",
     "text": [
      "[CV 2/3; 22/90] END bootstrap=True, criterion=entropy, max_depth=6, max_features=auto, min_samples_leaf=10, min_samples_split=2, n_estimators=200;, score=0.513 total time=   2.0s\n",
      "[CV 3/3; 22/90] START bootstrap=True, criterion=entropy, max_depth=6, max_features=auto, min_samples_leaf=10, min_samples_split=2, n_estimators=200\n"
     ]
    },
    {
     "name": "stderr",
     "output_type": "stream",
     "text": [
      "d:\\googledrive\\wirelessmotionintelligence\\2022-knu-wmi\\venv\\lib\\site-packages\\sklearn\\model_selection\\_validation.py:680: DataConversionWarning: A column-vector y was passed when a 1d array was expected. Please change the shape of y to (n_samples,), for example using ravel().\n",
      "  estimator.fit(X_train, y_train, **fit_params)\n"
     ]
    },
    {
     "name": "stdout",
     "output_type": "stream",
     "text": [
      "[CV 3/3; 22/90] END bootstrap=True, criterion=entropy, max_depth=6, max_features=auto, min_samples_leaf=10, min_samples_split=2, n_estimators=200;, score=0.564 total time=   2.0s\n",
      "[CV 1/3; 23/90] START bootstrap=True, criterion=entropy, max_depth=6, max_features=auto, min_samples_leaf=10, min_samples_split=4, n_estimators=100\n"
     ]
    },
    {
     "name": "stderr",
     "output_type": "stream",
     "text": [
      "d:\\googledrive\\wirelessmotionintelligence\\2022-knu-wmi\\venv\\lib\\site-packages\\sklearn\\model_selection\\_validation.py:680: DataConversionWarning: A column-vector y was passed when a 1d array was expected. Please change the shape of y to (n_samples,), for example using ravel().\n",
      "  estimator.fit(X_train, y_train, **fit_params)\n"
     ]
    },
    {
     "name": "stdout",
     "output_type": "stream",
     "text": [
      "[CV 1/3; 23/90] END bootstrap=True, criterion=entropy, max_depth=6, max_features=auto, min_samples_leaf=10, min_samples_split=4, n_estimators=100;, score=0.550 total time=   1.3s\n",
      "[CV 2/3; 23/90] START bootstrap=True, criterion=entropy, max_depth=6, max_features=auto, min_samples_leaf=10, min_samples_split=4, n_estimators=100\n"
     ]
    },
    {
     "name": "stderr",
     "output_type": "stream",
     "text": [
      "d:\\googledrive\\wirelessmotionintelligence\\2022-knu-wmi\\venv\\lib\\site-packages\\sklearn\\model_selection\\_validation.py:680: DataConversionWarning: A column-vector y was passed when a 1d array was expected. Please change the shape of y to (n_samples,), for example using ravel().\n",
      "  estimator.fit(X_train, y_train, **fit_params)\n"
     ]
    },
    {
     "name": "stdout",
     "output_type": "stream",
     "text": [
      "[CV 2/3; 23/90] END bootstrap=True, criterion=entropy, max_depth=6, max_features=auto, min_samples_leaf=10, min_samples_split=4, n_estimators=100;, score=0.667 total time=   1.3s\n",
      "[CV 3/3; 23/90] START bootstrap=True, criterion=entropy, max_depth=6, max_features=auto, min_samples_leaf=10, min_samples_split=4, n_estimators=100\n"
     ]
    },
    {
     "name": "stderr",
     "output_type": "stream",
     "text": [
      "d:\\googledrive\\wirelessmotionintelligence\\2022-knu-wmi\\venv\\lib\\site-packages\\sklearn\\model_selection\\_validation.py:680: DataConversionWarning: A column-vector y was passed when a 1d array was expected. Please change the shape of y to (n_samples,), for example using ravel().\n",
      "  estimator.fit(X_train, y_train, **fit_params)\n"
     ]
    },
    {
     "name": "stdout",
     "output_type": "stream",
     "text": [
      "[CV 3/3; 23/90] END bootstrap=True, criterion=entropy, max_depth=6, max_features=auto, min_samples_leaf=10, min_samples_split=4, n_estimators=100;, score=0.590 total time=   1.3s\n",
      "[CV 1/3; 24/90] START bootstrap=True, criterion=entropy, max_depth=6, max_features=auto, min_samples_leaf=10, min_samples_split=4, n_estimators=200\n"
     ]
    },
    {
     "name": "stderr",
     "output_type": "stream",
     "text": [
      "d:\\googledrive\\wirelessmotionintelligence\\2022-knu-wmi\\venv\\lib\\site-packages\\sklearn\\model_selection\\_validation.py:680: DataConversionWarning: A column-vector y was passed when a 1d array was expected. Please change the shape of y to (n_samples,), for example using ravel().\n",
      "  estimator.fit(X_train, y_train, **fit_params)\n"
     ]
    },
    {
     "name": "stdout",
     "output_type": "stream",
     "text": [
      "[CV 1/3; 24/90] END bootstrap=True, criterion=entropy, max_depth=6, max_features=auto, min_samples_leaf=10, min_samples_split=4, n_estimators=200;, score=0.500 total time=   2.0s\n",
      "[CV 2/3; 24/90] START bootstrap=True, criterion=entropy, max_depth=6, max_features=auto, min_samples_leaf=10, min_samples_split=4, n_estimators=200\n"
     ]
    },
    {
     "name": "stderr",
     "output_type": "stream",
     "text": [
      "d:\\googledrive\\wirelessmotionintelligence\\2022-knu-wmi\\venv\\lib\\site-packages\\sklearn\\model_selection\\_validation.py:680: DataConversionWarning: A column-vector y was passed when a 1d array was expected. Please change the shape of y to (n_samples,), for example using ravel().\n",
      "  estimator.fit(X_train, y_train, **fit_params)\n"
     ]
    },
    {
     "name": "stdout",
     "output_type": "stream",
     "text": [
      "[CV 2/3; 24/90] END bootstrap=True, criterion=entropy, max_depth=6, max_features=auto, min_samples_leaf=10, min_samples_split=4, n_estimators=200;, score=0.513 total time=   2.0s\n",
      "[CV 3/3; 24/90] START bootstrap=True, criterion=entropy, max_depth=6, max_features=auto, min_samples_leaf=10, min_samples_split=4, n_estimators=200\n"
     ]
    },
    {
     "name": "stderr",
     "output_type": "stream",
     "text": [
      "d:\\googledrive\\wirelessmotionintelligence\\2022-knu-wmi\\venv\\lib\\site-packages\\sklearn\\model_selection\\_validation.py:680: DataConversionWarning: A column-vector y was passed when a 1d array was expected. Please change the shape of y to (n_samples,), for example using ravel().\n",
      "  estimator.fit(X_train, y_train, **fit_params)\n"
     ]
    },
    {
     "name": "stdout",
     "output_type": "stream",
     "text": [
      "[CV 3/3; 24/90] END bootstrap=True, criterion=entropy, max_depth=6, max_features=auto, min_samples_leaf=10, min_samples_split=4, n_estimators=200;, score=0.564 total time=   2.0s\n",
      "[CV 1/3; 25/90] START bootstrap=True, criterion=entropy, max_depth=6, max_features=auto, min_samples_leaf=10, min_samples_split=10, n_estimators=100\n"
     ]
    },
    {
     "name": "stderr",
     "output_type": "stream",
     "text": [
      "d:\\googledrive\\wirelessmotionintelligence\\2022-knu-wmi\\venv\\lib\\site-packages\\sklearn\\model_selection\\_validation.py:680: DataConversionWarning: A column-vector y was passed when a 1d array was expected. Please change the shape of y to (n_samples,), for example using ravel().\n",
      "  estimator.fit(X_train, y_train, **fit_params)\n"
     ]
    },
    {
     "name": "stdout",
     "output_type": "stream",
     "text": [
      "[CV 1/3; 25/90] END bootstrap=True, criterion=entropy, max_depth=6, max_features=auto, min_samples_leaf=10, min_samples_split=10, n_estimators=100;, score=0.550 total time=   1.3s\n",
      "[CV 2/3; 25/90] START bootstrap=True, criterion=entropy, max_depth=6, max_features=auto, min_samples_leaf=10, min_samples_split=10, n_estimators=100\n"
     ]
    },
    {
     "name": "stderr",
     "output_type": "stream",
     "text": [
      "d:\\googledrive\\wirelessmotionintelligence\\2022-knu-wmi\\venv\\lib\\site-packages\\sklearn\\model_selection\\_validation.py:680: DataConversionWarning: A column-vector y was passed when a 1d array was expected. Please change the shape of y to (n_samples,), for example using ravel().\n",
      "  estimator.fit(X_train, y_train, **fit_params)\n"
     ]
    },
    {
     "name": "stdout",
     "output_type": "stream",
     "text": [
      "[CV 2/3; 25/90] END bootstrap=True, criterion=entropy, max_depth=6, max_features=auto, min_samples_leaf=10, min_samples_split=10, n_estimators=100;, score=0.667 total time=   1.3s\n",
      "[CV 3/3; 25/90] START bootstrap=True, criterion=entropy, max_depth=6, max_features=auto, min_samples_leaf=10, min_samples_split=10, n_estimators=100\n"
     ]
    },
    {
     "name": "stderr",
     "output_type": "stream",
     "text": [
      "d:\\googledrive\\wirelessmotionintelligence\\2022-knu-wmi\\venv\\lib\\site-packages\\sklearn\\model_selection\\_validation.py:680: DataConversionWarning: A column-vector y was passed when a 1d array was expected. Please change the shape of y to (n_samples,), for example using ravel().\n",
      "  estimator.fit(X_train, y_train, **fit_params)\n"
     ]
    },
    {
     "name": "stdout",
     "output_type": "stream",
     "text": [
      "[CV 3/3; 25/90] END bootstrap=True, criterion=entropy, max_depth=6, max_features=auto, min_samples_leaf=10, min_samples_split=10, n_estimators=100;, score=0.590 total time=   1.3s\n",
      "[CV 1/3; 26/90] START bootstrap=True, criterion=entropy, max_depth=6, max_features=auto, min_samples_leaf=10, min_samples_split=10, n_estimators=200\n"
     ]
    },
    {
     "name": "stderr",
     "output_type": "stream",
     "text": [
      "d:\\googledrive\\wirelessmotionintelligence\\2022-knu-wmi\\venv\\lib\\site-packages\\sklearn\\model_selection\\_validation.py:680: DataConversionWarning: A column-vector y was passed when a 1d array was expected. Please change the shape of y to (n_samples,), for example using ravel().\n",
      "  estimator.fit(X_train, y_train, **fit_params)\n"
     ]
    },
    {
     "name": "stdout",
     "output_type": "stream",
     "text": [
      "[CV 1/3; 26/90] END bootstrap=True, criterion=entropy, max_depth=6, max_features=auto, min_samples_leaf=10, min_samples_split=10, n_estimators=200;, score=0.500 total time=   2.0s\n",
      "[CV 2/3; 26/90] START bootstrap=True, criterion=entropy, max_depth=6, max_features=auto, min_samples_leaf=10, min_samples_split=10, n_estimators=200\n"
     ]
    },
    {
     "name": "stderr",
     "output_type": "stream",
     "text": [
      "d:\\googledrive\\wirelessmotionintelligence\\2022-knu-wmi\\venv\\lib\\site-packages\\sklearn\\model_selection\\_validation.py:680: DataConversionWarning: A column-vector y was passed when a 1d array was expected. Please change the shape of y to (n_samples,), for example using ravel().\n",
      "  estimator.fit(X_train, y_train, **fit_params)\n"
     ]
    },
    {
     "name": "stdout",
     "output_type": "stream",
     "text": [
      "[CV 2/3; 26/90] END bootstrap=True, criterion=entropy, max_depth=6, max_features=auto, min_samples_leaf=10, min_samples_split=10, n_estimators=200;, score=0.513 total time=   2.1s\n",
      "[CV 3/3; 26/90] START bootstrap=True, criterion=entropy, max_depth=6, max_features=auto, min_samples_leaf=10, min_samples_split=10, n_estimators=200\n"
     ]
    },
    {
     "name": "stderr",
     "output_type": "stream",
     "text": [
      "d:\\googledrive\\wirelessmotionintelligence\\2022-knu-wmi\\venv\\lib\\site-packages\\sklearn\\model_selection\\_validation.py:680: DataConversionWarning: A column-vector y was passed when a 1d array was expected. Please change the shape of y to (n_samples,), for example using ravel().\n",
      "  estimator.fit(X_train, y_train, **fit_params)\n"
     ]
    },
    {
     "name": "stdout",
     "output_type": "stream",
     "text": [
      "[CV 3/3; 26/90] END bootstrap=True, criterion=entropy, max_depth=6, max_features=auto, min_samples_leaf=10, min_samples_split=10, n_estimators=200;, score=0.564 total time=   2.0s\n",
      "[CV 1/3; 27/90] START bootstrap=True, criterion=entropy, max_depth=6, max_features=auto, min_samples_leaf=10, min_samples_split=12, n_estimators=100\n"
     ]
    },
    {
     "name": "stderr",
     "output_type": "stream",
     "text": [
      "d:\\googledrive\\wirelessmotionintelligence\\2022-knu-wmi\\venv\\lib\\site-packages\\sklearn\\model_selection\\_validation.py:680: DataConversionWarning: A column-vector y was passed when a 1d array was expected. Please change the shape of y to (n_samples,), for example using ravel().\n",
      "  estimator.fit(X_train, y_train, **fit_params)\n"
     ]
    },
    {
     "name": "stdout",
     "output_type": "stream",
     "text": [
      "[CV 1/3; 27/90] END bootstrap=True, criterion=entropy, max_depth=6, max_features=auto, min_samples_leaf=10, min_samples_split=12, n_estimators=100;, score=0.550 total time=   1.3s\n",
      "[CV 2/3; 27/90] START bootstrap=True, criterion=entropy, max_depth=6, max_features=auto, min_samples_leaf=10, min_samples_split=12, n_estimators=100\n"
     ]
    },
    {
     "name": "stderr",
     "output_type": "stream",
     "text": [
      "d:\\googledrive\\wirelessmotionintelligence\\2022-knu-wmi\\venv\\lib\\site-packages\\sklearn\\model_selection\\_validation.py:680: DataConversionWarning: A column-vector y was passed when a 1d array was expected. Please change the shape of y to (n_samples,), for example using ravel().\n",
      "  estimator.fit(X_train, y_train, **fit_params)\n"
     ]
    },
    {
     "name": "stdout",
     "output_type": "stream",
     "text": [
      "[CV 2/3; 27/90] END bootstrap=True, criterion=entropy, max_depth=6, max_features=auto, min_samples_leaf=10, min_samples_split=12, n_estimators=100;, score=0.667 total time=   1.3s\n",
      "[CV 3/3; 27/90] START bootstrap=True, criterion=entropy, max_depth=6, max_features=auto, min_samples_leaf=10, min_samples_split=12, n_estimators=100\n"
     ]
    },
    {
     "name": "stderr",
     "output_type": "stream",
     "text": [
      "d:\\googledrive\\wirelessmotionintelligence\\2022-knu-wmi\\venv\\lib\\site-packages\\sklearn\\model_selection\\_validation.py:680: DataConversionWarning: A column-vector y was passed when a 1d array was expected. Please change the shape of y to (n_samples,), for example using ravel().\n",
      "  estimator.fit(X_train, y_train, **fit_params)\n"
     ]
    },
    {
     "name": "stdout",
     "output_type": "stream",
     "text": [
      "[CV 3/3; 27/90] END bootstrap=True, criterion=entropy, max_depth=6, max_features=auto, min_samples_leaf=10, min_samples_split=12, n_estimators=100;, score=0.590 total time=   1.3s\n",
      "[CV 1/3; 28/90] START bootstrap=True, criterion=entropy, max_depth=6, max_features=auto, min_samples_leaf=10, min_samples_split=12, n_estimators=200\n"
     ]
    },
    {
     "name": "stderr",
     "output_type": "stream",
     "text": [
      "d:\\googledrive\\wirelessmotionintelligence\\2022-knu-wmi\\venv\\lib\\site-packages\\sklearn\\model_selection\\_validation.py:680: DataConversionWarning: A column-vector y was passed when a 1d array was expected. Please change the shape of y to (n_samples,), for example using ravel().\n",
      "  estimator.fit(X_train, y_train, **fit_params)\n"
     ]
    },
    {
     "name": "stdout",
     "output_type": "stream",
     "text": [
      "[CV 1/3; 28/90] END bootstrap=True, criterion=entropy, max_depth=6, max_features=auto, min_samples_leaf=10, min_samples_split=12, n_estimators=200;, score=0.500 total time=   2.0s\n",
      "[CV 2/3; 28/90] START bootstrap=True, criterion=entropy, max_depth=6, max_features=auto, min_samples_leaf=10, min_samples_split=12, n_estimators=200\n"
     ]
    },
    {
     "name": "stderr",
     "output_type": "stream",
     "text": [
      "d:\\googledrive\\wirelessmotionintelligence\\2022-knu-wmi\\venv\\lib\\site-packages\\sklearn\\model_selection\\_validation.py:680: DataConversionWarning: A column-vector y was passed when a 1d array was expected. Please change the shape of y to (n_samples,), for example using ravel().\n",
      "  estimator.fit(X_train, y_train, **fit_params)\n"
     ]
    },
    {
     "name": "stdout",
     "output_type": "stream",
     "text": [
      "[CV 2/3; 28/90] END bootstrap=True, criterion=entropy, max_depth=6, max_features=auto, min_samples_leaf=10, min_samples_split=12, n_estimators=200;, score=0.513 total time=   2.0s\n",
      "[CV 3/3; 28/90] START bootstrap=True, criterion=entropy, max_depth=6, max_features=auto, min_samples_leaf=10, min_samples_split=12, n_estimators=200\n"
     ]
    },
    {
     "name": "stderr",
     "output_type": "stream",
     "text": [
      "d:\\googledrive\\wirelessmotionintelligence\\2022-knu-wmi\\venv\\lib\\site-packages\\sklearn\\model_selection\\_validation.py:680: DataConversionWarning: A column-vector y was passed when a 1d array was expected. Please change the shape of y to (n_samples,), for example using ravel().\n",
      "  estimator.fit(X_train, y_train, **fit_params)\n"
     ]
    },
    {
     "name": "stdout",
     "output_type": "stream",
     "text": [
      "[CV 3/3; 28/90] END bootstrap=True, criterion=entropy, max_depth=6, max_features=auto, min_samples_leaf=10, min_samples_split=12, n_estimators=200;, score=0.564 total time=   2.0s\n",
      "[CV 1/3; 29/90] START bootstrap=True, criterion=entropy, max_depth=6, max_features=auto, min_samples_leaf=10, min_samples_split=16, n_estimators=100\n"
     ]
    },
    {
     "name": "stderr",
     "output_type": "stream",
     "text": [
      "d:\\googledrive\\wirelessmotionintelligence\\2022-knu-wmi\\venv\\lib\\site-packages\\sklearn\\model_selection\\_validation.py:680: DataConversionWarning: A column-vector y was passed when a 1d array was expected. Please change the shape of y to (n_samples,), for example using ravel().\n",
      "  estimator.fit(X_train, y_train, **fit_params)\n"
     ]
    },
    {
     "name": "stdout",
     "output_type": "stream",
     "text": [
      "[CV 1/3; 29/90] END bootstrap=True, criterion=entropy, max_depth=6, max_features=auto, min_samples_leaf=10, min_samples_split=16, n_estimators=100;, score=0.550 total time=   1.3s\n",
      "[CV 2/3; 29/90] START bootstrap=True, criterion=entropy, max_depth=6, max_features=auto, min_samples_leaf=10, min_samples_split=16, n_estimators=100\n"
     ]
    },
    {
     "name": "stderr",
     "output_type": "stream",
     "text": [
      "d:\\googledrive\\wirelessmotionintelligence\\2022-knu-wmi\\venv\\lib\\site-packages\\sklearn\\model_selection\\_validation.py:680: DataConversionWarning: A column-vector y was passed when a 1d array was expected. Please change the shape of y to (n_samples,), for example using ravel().\n",
      "  estimator.fit(X_train, y_train, **fit_params)\n"
     ]
    },
    {
     "name": "stdout",
     "output_type": "stream",
     "text": [
      "[CV 2/3; 29/90] END bootstrap=True, criterion=entropy, max_depth=6, max_features=auto, min_samples_leaf=10, min_samples_split=16, n_estimators=100;, score=0.667 total time=   1.4s\n",
      "[CV 3/3; 29/90] START bootstrap=True, criterion=entropy, max_depth=6, max_features=auto, min_samples_leaf=10, min_samples_split=16, n_estimators=100\n"
     ]
    },
    {
     "name": "stderr",
     "output_type": "stream",
     "text": [
      "d:\\googledrive\\wirelessmotionintelligence\\2022-knu-wmi\\venv\\lib\\site-packages\\sklearn\\model_selection\\_validation.py:680: DataConversionWarning: A column-vector y was passed when a 1d array was expected. Please change the shape of y to (n_samples,), for example using ravel().\n",
      "  estimator.fit(X_train, y_train, **fit_params)\n"
     ]
    },
    {
     "name": "stdout",
     "output_type": "stream",
     "text": [
      "[CV 3/3; 29/90] END bootstrap=True, criterion=entropy, max_depth=6, max_features=auto, min_samples_leaf=10, min_samples_split=16, n_estimators=100;, score=0.590 total time=   1.5s\n",
      "[CV 1/3; 30/90] START bootstrap=True, criterion=entropy, max_depth=6, max_features=auto, min_samples_leaf=10, min_samples_split=16, n_estimators=200\n"
     ]
    },
    {
     "name": "stderr",
     "output_type": "stream",
     "text": [
      "d:\\googledrive\\wirelessmotionintelligence\\2022-knu-wmi\\venv\\lib\\site-packages\\sklearn\\model_selection\\_validation.py:680: DataConversionWarning: A column-vector y was passed when a 1d array was expected. Please change the shape of y to (n_samples,), for example using ravel().\n",
      "  estimator.fit(X_train, y_train, **fit_params)\n"
     ]
    },
    {
     "name": "stdout",
     "output_type": "stream",
     "text": [
      "[CV 1/3; 30/90] END bootstrap=True, criterion=entropy, max_depth=6, max_features=auto, min_samples_leaf=10, min_samples_split=16, n_estimators=200;, score=0.500 total time=   2.3s\n",
      "[CV 2/3; 30/90] START bootstrap=True, criterion=entropy, max_depth=6, max_features=auto, min_samples_leaf=10, min_samples_split=16, n_estimators=200\n"
     ]
    },
    {
     "name": "stderr",
     "output_type": "stream",
     "text": [
      "d:\\googledrive\\wirelessmotionintelligence\\2022-knu-wmi\\venv\\lib\\site-packages\\sklearn\\model_selection\\_validation.py:680: DataConversionWarning: A column-vector y was passed when a 1d array was expected. Please change the shape of y to (n_samples,), for example using ravel().\n",
      "  estimator.fit(X_train, y_train, **fit_params)\n"
     ]
    },
    {
     "name": "stdout",
     "output_type": "stream",
     "text": [
      "[CV 2/3; 30/90] END bootstrap=True, criterion=entropy, max_depth=6, max_features=auto, min_samples_leaf=10, min_samples_split=16, n_estimators=200;, score=0.513 total time=   2.3s\n",
      "[CV 3/3; 30/90] START bootstrap=True, criterion=entropy, max_depth=6, max_features=auto, min_samples_leaf=10, min_samples_split=16, n_estimators=200\n"
     ]
    },
    {
     "name": "stderr",
     "output_type": "stream",
     "text": [
      "d:\\googledrive\\wirelessmotionintelligence\\2022-knu-wmi\\venv\\lib\\site-packages\\sklearn\\model_selection\\_validation.py:680: DataConversionWarning: A column-vector y was passed when a 1d array was expected. Please change the shape of y to (n_samples,), for example using ravel().\n",
      "  estimator.fit(X_train, y_train, **fit_params)\n"
     ]
    },
    {
     "name": "stdout",
     "output_type": "stream",
     "text": [
      "[CV 3/3; 30/90] END bootstrap=True, criterion=entropy, max_depth=6, max_features=auto, min_samples_leaf=10, min_samples_split=16, n_estimators=200;, score=0.564 total time=   2.0s\n",
      "[CV 1/3; 31/90] START bootstrap=True, criterion=entropy, max_depth=8, max_features=auto, min_samples_leaf=1, min_samples_split=2, n_estimators=100\n"
     ]
    },
    {
     "name": "stderr",
     "output_type": "stream",
     "text": [
      "d:\\googledrive\\wirelessmotionintelligence\\2022-knu-wmi\\venv\\lib\\site-packages\\sklearn\\model_selection\\_validation.py:680: DataConversionWarning: A column-vector y was passed when a 1d array was expected. Please change the shape of y to (n_samples,), for example using ravel().\n",
      "  estimator.fit(X_train, y_train, **fit_params)\n"
     ]
    },
    {
     "name": "stdout",
     "output_type": "stream",
     "text": [
      "[CV 1/3; 31/90] END bootstrap=True, criterion=entropy, max_depth=8, max_features=auto, min_samples_leaf=1, min_samples_split=2, n_estimators=100;, score=0.600 total time=   1.3s\n",
      "[CV 2/3; 31/90] START bootstrap=True, criterion=entropy, max_depth=8, max_features=auto, min_samples_leaf=1, min_samples_split=2, n_estimators=100\n"
     ]
    },
    {
     "name": "stderr",
     "output_type": "stream",
     "text": [
      "d:\\googledrive\\wirelessmotionintelligence\\2022-knu-wmi\\venv\\lib\\site-packages\\sklearn\\model_selection\\_validation.py:680: DataConversionWarning: A column-vector y was passed when a 1d array was expected. Please change the shape of y to (n_samples,), for example using ravel().\n",
      "  estimator.fit(X_train, y_train, **fit_params)\n"
     ]
    },
    {
     "name": "stdout",
     "output_type": "stream",
     "text": [
      "[CV 2/3; 31/90] END bootstrap=True, criterion=entropy, max_depth=8, max_features=auto, min_samples_leaf=1, min_samples_split=2, n_estimators=100;, score=0.641 total time=   1.4s\n",
      "[CV 3/3; 31/90] START bootstrap=True, criterion=entropy, max_depth=8, max_features=auto, min_samples_leaf=1, min_samples_split=2, n_estimators=100\n"
     ]
    },
    {
     "name": "stderr",
     "output_type": "stream",
     "text": [
      "d:\\googledrive\\wirelessmotionintelligence\\2022-knu-wmi\\venv\\lib\\site-packages\\sklearn\\model_selection\\_validation.py:680: DataConversionWarning: A column-vector y was passed when a 1d array was expected. Please change the shape of y to (n_samples,), for example using ravel().\n",
      "  estimator.fit(X_train, y_train, **fit_params)\n"
     ]
    },
    {
     "name": "stdout",
     "output_type": "stream",
     "text": [
      "[CV 3/3; 31/90] END bootstrap=True, criterion=entropy, max_depth=8, max_features=auto, min_samples_leaf=1, min_samples_split=2, n_estimators=100;, score=0.487 total time=   1.3s\n",
      "[CV 1/3; 32/90] START bootstrap=True, criterion=entropy, max_depth=8, max_features=auto, min_samples_leaf=1, min_samples_split=2, n_estimators=200\n"
     ]
    },
    {
     "name": "stderr",
     "output_type": "stream",
     "text": [
      "d:\\googledrive\\wirelessmotionintelligence\\2022-knu-wmi\\venv\\lib\\site-packages\\sklearn\\model_selection\\_validation.py:680: DataConversionWarning: A column-vector y was passed when a 1d array was expected. Please change the shape of y to (n_samples,), for example using ravel().\n",
      "  estimator.fit(X_train, y_train, **fit_params)\n"
     ]
    },
    {
     "name": "stdout",
     "output_type": "stream",
     "text": [
      "[CV 1/3; 32/90] END bootstrap=True, criterion=entropy, max_depth=8, max_features=auto, min_samples_leaf=1, min_samples_split=2, n_estimators=200;, score=0.500 total time=   2.0s\n",
      "[CV 2/3; 32/90] START bootstrap=True, criterion=entropy, max_depth=8, max_features=auto, min_samples_leaf=1, min_samples_split=2, n_estimators=200\n"
     ]
    },
    {
     "name": "stderr",
     "output_type": "stream",
     "text": [
      "d:\\googledrive\\wirelessmotionintelligence\\2022-knu-wmi\\venv\\lib\\site-packages\\sklearn\\model_selection\\_validation.py:680: DataConversionWarning: A column-vector y was passed when a 1d array was expected. Please change the shape of y to (n_samples,), for example using ravel().\n",
      "  estimator.fit(X_train, y_train, **fit_params)\n"
     ]
    },
    {
     "name": "stdout",
     "output_type": "stream",
     "text": [
      "[CV 2/3; 32/90] END bootstrap=True, criterion=entropy, max_depth=8, max_features=auto, min_samples_leaf=1, min_samples_split=2, n_estimators=200;, score=0.538 total time=   2.1s\n",
      "[CV 3/3; 32/90] START bootstrap=True, criterion=entropy, max_depth=8, max_features=auto, min_samples_leaf=1, min_samples_split=2, n_estimators=200\n"
     ]
    },
    {
     "name": "stderr",
     "output_type": "stream",
     "text": [
      "d:\\googledrive\\wirelessmotionintelligence\\2022-knu-wmi\\venv\\lib\\site-packages\\sklearn\\model_selection\\_validation.py:680: DataConversionWarning: A column-vector y was passed when a 1d array was expected. Please change the shape of y to (n_samples,), for example using ravel().\n",
      "  estimator.fit(X_train, y_train, **fit_params)\n"
     ]
    },
    {
     "name": "stdout",
     "output_type": "stream",
     "text": [
      "[CV 3/3; 32/90] END bootstrap=True, criterion=entropy, max_depth=8, max_features=auto, min_samples_leaf=1, min_samples_split=2, n_estimators=200;, score=0.513 total time=   2.1s\n",
      "[CV 1/3; 33/90] START bootstrap=True, criterion=entropy, max_depth=8, max_features=auto, min_samples_leaf=1, min_samples_split=4, n_estimators=100\n"
     ]
    },
    {
     "name": "stderr",
     "output_type": "stream",
     "text": [
      "d:\\googledrive\\wirelessmotionintelligence\\2022-knu-wmi\\venv\\lib\\site-packages\\sklearn\\model_selection\\_validation.py:680: DataConversionWarning: A column-vector y was passed when a 1d array was expected. Please change the shape of y to (n_samples,), for example using ravel().\n",
      "  estimator.fit(X_train, y_train, **fit_params)\n"
     ]
    },
    {
     "name": "stdout",
     "output_type": "stream",
     "text": [
      "[CV 1/3; 33/90] END bootstrap=True, criterion=entropy, max_depth=8, max_features=auto, min_samples_leaf=1, min_samples_split=4, n_estimators=100;, score=0.550 total time=   1.4s\n",
      "[CV 2/3; 33/90] START bootstrap=True, criterion=entropy, max_depth=8, max_features=auto, min_samples_leaf=1, min_samples_split=4, n_estimators=100\n"
     ]
    },
    {
     "name": "stderr",
     "output_type": "stream",
     "text": [
      "d:\\googledrive\\wirelessmotionintelligence\\2022-knu-wmi\\venv\\lib\\site-packages\\sklearn\\model_selection\\_validation.py:680: DataConversionWarning: A column-vector y was passed when a 1d array was expected. Please change the shape of y to (n_samples,), for example using ravel().\n",
      "  estimator.fit(X_train, y_train, **fit_params)\n"
     ]
    },
    {
     "name": "stdout",
     "output_type": "stream",
     "text": [
      "[CV 2/3; 33/90] END bootstrap=True, criterion=entropy, max_depth=8, max_features=auto, min_samples_leaf=1, min_samples_split=4, n_estimators=100;, score=0.641 total time=   1.4s\n",
      "[CV 3/3; 33/90] START bootstrap=True, criterion=entropy, max_depth=8, max_features=auto, min_samples_leaf=1, min_samples_split=4, n_estimators=100\n"
     ]
    },
    {
     "name": "stderr",
     "output_type": "stream",
     "text": [
      "d:\\googledrive\\wirelessmotionintelligence\\2022-knu-wmi\\venv\\lib\\site-packages\\sklearn\\model_selection\\_validation.py:680: DataConversionWarning: A column-vector y was passed when a 1d array was expected. Please change the shape of y to (n_samples,), for example using ravel().\n",
      "  estimator.fit(X_train, y_train, **fit_params)\n"
     ]
    },
    {
     "name": "stdout",
     "output_type": "stream",
     "text": [
      "[CV 3/3; 33/90] END bootstrap=True, criterion=entropy, max_depth=8, max_features=auto, min_samples_leaf=1, min_samples_split=4, n_estimators=100;, score=0.487 total time=   1.4s\n",
      "[CV 1/3; 34/90] START bootstrap=True, criterion=entropy, max_depth=8, max_features=auto, min_samples_leaf=1, min_samples_split=4, n_estimators=200\n"
     ]
    },
    {
     "name": "stderr",
     "output_type": "stream",
     "text": [
      "d:\\googledrive\\wirelessmotionintelligence\\2022-knu-wmi\\venv\\lib\\site-packages\\sklearn\\model_selection\\_validation.py:680: DataConversionWarning: A column-vector y was passed when a 1d array was expected. Please change the shape of y to (n_samples,), for example using ravel().\n",
      "  estimator.fit(X_train, y_train, **fit_params)\n"
     ]
    },
    {
     "name": "stdout",
     "output_type": "stream",
     "text": [
      "[CV 1/3; 34/90] END bootstrap=True, criterion=entropy, max_depth=8, max_features=auto, min_samples_leaf=1, min_samples_split=4, n_estimators=200;, score=0.500 total time=   2.0s\n",
      "[CV 2/3; 34/90] START bootstrap=True, criterion=entropy, max_depth=8, max_features=auto, min_samples_leaf=1, min_samples_split=4, n_estimators=200\n"
     ]
    },
    {
     "name": "stderr",
     "output_type": "stream",
     "text": [
      "d:\\googledrive\\wirelessmotionintelligence\\2022-knu-wmi\\venv\\lib\\site-packages\\sklearn\\model_selection\\_validation.py:680: DataConversionWarning: A column-vector y was passed when a 1d array was expected. Please change the shape of y to (n_samples,), for example using ravel().\n",
      "  estimator.fit(X_train, y_train, **fit_params)\n"
     ]
    },
    {
     "name": "stdout",
     "output_type": "stream",
     "text": [
      "[CV 2/3; 34/90] END bootstrap=True, criterion=entropy, max_depth=8, max_features=auto, min_samples_leaf=1, min_samples_split=4, n_estimators=200;, score=0.564 total time=   2.0s\n",
      "[CV 3/3; 34/90] START bootstrap=True, criterion=entropy, max_depth=8, max_features=auto, min_samples_leaf=1, min_samples_split=4, n_estimators=200\n"
     ]
    },
    {
     "name": "stderr",
     "output_type": "stream",
     "text": [
      "d:\\googledrive\\wirelessmotionintelligence\\2022-knu-wmi\\venv\\lib\\site-packages\\sklearn\\model_selection\\_validation.py:680: DataConversionWarning: A column-vector y was passed when a 1d array was expected. Please change the shape of y to (n_samples,), for example using ravel().\n",
      "  estimator.fit(X_train, y_train, **fit_params)\n"
     ]
    },
    {
     "name": "stdout",
     "output_type": "stream",
     "text": [
      "[CV 3/3; 34/90] END bootstrap=True, criterion=entropy, max_depth=8, max_features=auto, min_samples_leaf=1, min_samples_split=4, n_estimators=200;, score=0.538 total time=   2.0s\n",
      "[CV 1/3; 35/90] START bootstrap=True, criterion=entropy, max_depth=8, max_features=auto, min_samples_leaf=1, min_samples_split=10, n_estimators=100\n"
     ]
    },
    {
     "name": "stderr",
     "output_type": "stream",
     "text": [
      "d:\\googledrive\\wirelessmotionintelligence\\2022-knu-wmi\\venv\\lib\\site-packages\\sklearn\\model_selection\\_validation.py:680: DataConversionWarning: A column-vector y was passed when a 1d array was expected. Please change the shape of y to (n_samples,), for example using ravel().\n",
      "  estimator.fit(X_train, y_train, **fit_params)\n"
     ]
    },
    {
     "name": "stdout",
     "output_type": "stream",
     "text": [
      "[CV 1/3; 35/90] END bootstrap=True, criterion=entropy, max_depth=8, max_features=auto, min_samples_leaf=1, min_samples_split=10, n_estimators=100;, score=0.550 total time=   1.3s\n",
      "[CV 2/3; 35/90] START bootstrap=True, criterion=entropy, max_depth=8, max_features=auto, min_samples_leaf=1, min_samples_split=10, n_estimators=100\n"
     ]
    },
    {
     "name": "stderr",
     "output_type": "stream",
     "text": [
      "d:\\googledrive\\wirelessmotionintelligence\\2022-knu-wmi\\venv\\lib\\site-packages\\sklearn\\model_selection\\_validation.py:680: DataConversionWarning: A column-vector y was passed when a 1d array was expected. Please change the shape of y to (n_samples,), for example using ravel().\n",
      "  estimator.fit(X_train, y_train, **fit_params)\n"
     ]
    },
    {
     "name": "stdout",
     "output_type": "stream",
     "text": [
      "[CV 2/3; 35/90] END bootstrap=True, criterion=entropy, max_depth=8, max_features=auto, min_samples_leaf=1, min_samples_split=10, n_estimators=100;, score=0.641 total time=   1.5s\n",
      "[CV 3/3; 35/90] START bootstrap=True, criterion=entropy, max_depth=8, max_features=auto, min_samples_leaf=1, min_samples_split=10, n_estimators=100\n"
     ]
    },
    {
     "name": "stderr",
     "output_type": "stream",
     "text": [
      "d:\\googledrive\\wirelessmotionintelligence\\2022-knu-wmi\\venv\\lib\\site-packages\\sklearn\\model_selection\\_validation.py:680: DataConversionWarning: A column-vector y was passed when a 1d array was expected. Please change the shape of y to (n_samples,), for example using ravel().\n",
      "  estimator.fit(X_train, y_train, **fit_params)\n"
     ]
    },
    {
     "name": "stdout",
     "output_type": "stream",
     "text": [
      "[CV 3/3; 35/90] END bootstrap=True, criterion=entropy, max_depth=8, max_features=auto, min_samples_leaf=1, min_samples_split=10, n_estimators=100;, score=0.462 total time=   1.3s\n",
      "[CV 1/3; 36/90] START bootstrap=True, criterion=entropy, max_depth=8, max_features=auto, min_samples_leaf=1, min_samples_split=10, n_estimators=200\n"
     ]
    },
    {
     "name": "stderr",
     "output_type": "stream",
     "text": [
      "d:\\googledrive\\wirelessmotionintelligence\\2022-knu-wmi\\venv\\lib\\site-packages\\sklearn\\model_selection\\_validation.py:680: DataConversionWarning: A column-vector y was passed when a 1d array was expected. Please change the shape of y to (n_samples,), for example using ravel().\n",
      "  estimator.fit(X_train, y_train, **fit_params)\n"
     ]
    },
    {
     "name": "stdout",
     "output_type": "stream",
     "text": [
      "[CV 1/3; 36/90] END bootstrap=True, criterion=entropy, max_depth=8, max_features=auto, min_samples_leaf=1, min_samples_split=10, n_estimators=200;, score=0.475 total time=   2.0s\n",
      "[CV 2/3; 36/90] START bootstrap=True, criterion=entropy, max_depth=8, max_features=auto, min_samples_leaf=1, min_samples_split=10, n_estimators=200\n"
     ]
    },
    {
     "name": "stderr",
     "output_type": "stream",
     "text": [
      "d:\\googledrive\\wirelessmotionintelligence\\2022-knu-wmi\\venv\\lib\\site-packages\\sklearn\\model_selection\\_validation.py:680: DataConversionWarning: A column-vector y was passed when a 1d array was expected. Please change the shape of y to (n_samples,), for example using ravel().\n",
      "  estimator.fit(X_train, y_train, **fit_params)\n"
     ]
    },
    {
     "name": "stdout",
     "output_type": "stream",
     "text": [
      "[CV 2/3; 36/90] END bootstrap=True, criterion=entropy, max_depth=8, max_features=auto, min_samples_leaf=1, min_samples_split=10, n_estimators=200;, score=0.615 total time=   2.1s\n",
      "[CV 3/3; 36/90] START bootstrap=True, criterion=entropy, max_depth=8, max_features=auto, min_samples_leaf=1, min_samples_split=10, n_estimators=200\n"
     ]
    },
    {
     "name": "stderr",
     "output_type": "stream",
     "text": [
      "d:\\googledrive\\wirelessmotionintelligence\\2022-knu-wmi\\venv\\lib\\site-packages\\sklearn\\model_selection\\_validation.py:680: DataConversionWarning: A column-vector y was passed when a 1d array was expected. Please change the shape of y to (n_samples,), for example using ravel().\n",
      "  estimator.fit(X_train, y_train, **fit_params)\n"
     ]
    },
    {
     "name": "stdout",
     "output_type": "stream",
     "text": [
      "[CV 3/3; 36/90] END bootstrap=True, criterion=entropy, max_depth=8, max_features=auto, min_samples_leaf=1, min_samples_split=10, n_estimators=200;, score=0.538 total time=   2.1s\n",
      "[CV 1/3; 37/90] START bootstrap=True, criterion=entropy, max_depth=8, max_features=auto, min_samples_leaf=1, min_samples_split=12, n_estimators=100\n"
     ]
    },
    {
     "name": "stderr",
     "output_type": "stream",
     "text": [
      "d:\\googledrive\\wirelessmotionintelligence\\2022-knu-wmi\\venv\\lib\\site-packages\\sklearn\\model_selection\\_validation.py:680: DataConversionWarning: A column-vector y was passed when a 1d array was expected. Please change the shape of y to (n_samples,), for example using ravel().\n",
      "  estimator.fit(X_train, y_train, **fit_params)\n"
     ]
    },
    {
     "name": "stdout",
     "output_type": "stream",
     "text": [
      "[CV 1/3; 37/90] END bootstrap=True, criterion=entropy, max_depth=8, max_features=auto, min_samples_leaf=1, min_samples_split=12, n_estimators=100;, score=0.550 total time=   1.3s\n",
      "[CV 2/3; 37/90] START bootstrap=True, criterion=entropy, max_depth=8, max_features=auto, min_samples_leaf=1, min_samples_split=12, n_estimators=100\n"
     ]
    },
    {
     "name": "stderr",
     "output_type": "stream",
     "text": [
      "d:\\googledrive\\wirelessmotionintelligence\\2022-knu-wmi\\venv\\lib\\site-packages\\sklearn\\model_selection\\_validation.py:680: DataConversionWarning: A column-vector y was passed when a 1d array was expected. Please change the shape of y to (n_samples,), for example using ravel().\n",
      "  estimator.fit(X_train, y_train, **fit_params)\n"
     ]
    },
    {
     "name": "stdout",
     "output_type": "stream",
     "text": [
      "[CV 2/3; 37/90] END bootstrap=True, criterion=entropy, max_depth=8, max_features=auto, min_samples_leaf=1, min_samples_split=12, n_estimators=100;, score=0.615 total time=   1.4s\n",
      "[CV 3/3; 37/90] START bootstrap=True, criterion=entropy, max_depth=8, max_features=auto, min_samples_leaf=1, min_samples_split=12, n_estimators=100\n"
     ]
    },
    {
     "name": "stderr",
     "output_type": "stream",
     "text": [
      "d:\\googledrive\\wirelessmotionintelligence\\2022-knu-wmi\\venv\\lib\\site-packages\\sklearn\\model_selection\\_validation.py:680: DataConversionWarning: A column-vector y was passed when a 1d array was expected. Please change the shape of y to (n_samples,), for example using ravel().\n",
      "  estimator.fit(X_train, y_train, **fit_params)\n"
     ]
    },
    {
     "name": "stdout",
     "output_type": "stream",
     "text": [
      "[CV 3/3; 37/90] END bootstrap=True, criterion=entropy, max_depth=8, max_features=auto, min_samples_leaf=1, min_samples_split=12, n_estimators=100;, score=0.487 total time=   1.3s\n",
      "[CV 1/3; 38/90] START bootstrap=True, criterion=entropy, max_depth=8, max_features=auto, min_samples_leaf=1, min_samples_split=12, n_estimators=200\n"
     ]
    },
    {
     "name": "stderr",
     "output_type": "stream",
     "text": [
      "d:\\googledrive\\wirelessmotionintelligence\\2022-knu-wmi\\venv\\lib\\site-packages\\sklearn\\model_selection\\_validation.py:680: DataConversionWarning: A column-vector y was passed when a 1d array was expected. Please change the shape of y to (n_samples,), for example using ravel().\n",
      "  estimator.fit(X_train, y_train, **fit_params)\n"
     ]
    },
    {
     "name": "stdout",
     "output_type": "stream",
     "text": [
      "[CV 1/3; 38/90] END bootstrap=True, criterion=entropy, max_depth=8, max_features=auto, min_samples_leaf=1, min_samples_split=12, n_estimators=200;, score=0.475 total time=   2.0s\n",
      "[CV 2/3; 38/90] START bootstrap=True, criterion=entropy, max_depth=8, max_features=auto, min_samples_leaf=1, min_samples_split=12, n_estimators=200\n"
     ]
    },
    {
     "name": "stderr",
     "output_type": "stream",
     "text": [
      "d:\\googledrive\\wirelessmotionintelligence\\2022-knu-wmi\\venv\\lib\\site-packages\\sklearn\\model_selection\\_validation.py:680: DataConversionWarning: A column-vector y was passed when a 1d array was expected. Please change the shape of y to (n_samples,), for example using ravel().\n",
      "  estimator.fit(X_train, y_train, **fit_params)\n"
     ]
    },
    {
     "name": "stdout",
     "output_type": "stream",
     "text": [
      "[CV 2/3; 38/90] END bootstrap=True, criterion=entropy, max_depth=8, max_features=auto, min_samples_leaf=1, min_samples_split=12, n_estimators=200;, score=0.641 total time=   2.0s\n",
      "[CV 3/3; 38/90] START bootstrap=True, criterion=entropy, max_depth=8, max_features=auto, min_samples_leaf=1, min_samples_split=12, n_estimators=200\n"
     ]
    },
    {
     "name": "stderr",
     "output_type": "stream",
     "text": [
      "d:\\googledrive\\wirelessmotionintelligence\\2022-knu-wmi\\venv\\lib\\site-packages\\sklearn\\model_selection\\_validation.py:680: DataConversionWarning: A column-vector y was passed when a 1d array was expected. Please change the shape of y to (n_samples,), for example using ravel().\n",
      "  estimator.fit(X_train, y_train, **fit_params)\n"
     ]
    },
    {
     "name": "stdout",
     "output_type": "stream",
     "text": [
      "[CV 3/3; 38/90] END bootstrap=True, criterion=entropy, max_depth=8, max_features=auto, min_samples_leaf=1, min_samples_split=12, n_estimators=200;, score=0.538 total time=   2.1s\n",
      "[CV 1/3; 39/90] START bootstrap=True, criterion=entropy, max_depth=8, max_features=auto, min_samples_leaf=1, min_samples_split=16, n_estimators=100\n"
     ]
    },
    {
     "name": "stderr",
     "output_type": "stream",
     "text": [
      "d:\\googledrive\\wirelessmotionintelligence\\2022-knu-wmi\\venv\\lib\\site-packages\\sklearn\\model_selection\\_validation.py:680: DataConversionWarning: A column-vector y was passed when a 1d array was expected. Please change the shape of y to (n_samples,), for example using ravel().\n",
      "  estimator.fit(X_train, y_train, **fit_params)\n"
     ]
    },
    {
     "name": "stdout",
     "output_type": "stream",
     "text": [
      "[CV 1/3; 39/90] END bootstrap=True, criterion=entropy, max_depth=8, max_features=auto, min_samples_leaf=1, min_samples_split=16, n_estimators=100;, score=0.550 total time=   1.3s\n",
      "[CV 2/3; 39/90] START bootstrap=True, criterion=entropy, max_depth=8, max_features=auto, min_samples_leaf=1, min_samples_split=16, n_estimators=100\n"
     ]
    },
    {
     "name": "stderr",
     "output_type": "stream",
     "text": [
      "d:\\googledrive\\wirelessmotionintelligence\\2022-knu-wmi\\venv\\lib\\site-packages\\sklearn\\model_selection\\_validation.py:680: DataConversionWarning: A column-vector y was passed when a 1d array was expected. Please change the shape of y to (n_samples,), for example using ravel().\n",
      "  estimator.fit(X_train, y_train, **fit_params)\n"
     ]
    },
    {
     "name": "stdout",
     "output_type": "stream",
     "text": [
      "[CV 2/3; 39/90] END bootstrap=True, criterion=entropy, max_depth=8, max_features=auto, min_samples_leaf=1, min_samples_split=16, n_estimators=100;, score=0.590 total time=   1.3s\n",
      "[CV 3/3; 39/90] START bootstrap=True, criterion=entropy, max_depth=8, max_features=auto, min_samples_leaf=1, min_samples_split=16, n_estimators=100\n"
     ]
    },
    {
     "name": "stderr",
     "output_type": "stream",
     "text": [
      "d:\\googledrive\\wirelessmotionintelligence\\2022-knu-wmi\\venv\\lib\\site-packages\\sklearn\\model_selection\\_validation.py:680: DataConversionWarning: A column-vector y was passed when a 1d array was expected. Please change the shape of y to (n_samples,), for example using ravel().\n",
      "  estimator.fit(X_train, y_train, **fit_params)\n"
     ]
    },
    {
     "name": "stdout",
     "output_type": "stream",
     "text": [
      "[CV 3/3; 39/90] END bootstrap=True, criterion=entropy, max_depth=8, max_features=auto, min_samples_leaf=1, min_samples_split=16, n_estimators=100;, score=0.513 total time=   1.3s\n",
      "[CV 1/3; 40/90] START bootstrap=True, criterion=entropy, max_depth=8, max_features=auto, min_samples_leaf=1, min_samples_split=16, n_estimators=200\n"
     ]
    },
    {
     "name": "stderr",
     "output_type": "stream",
     "text": [
      "d:\\googledrive\\wirelessmotionintelligence\\2022-knu-wmi\\venv\\lib\\site-packages\\sklearn\\model_selection\\_validation.py:680: DataConversionWarning: A column-vector y was passed when a 1d array was expected. Please change the shape of y to (n_samples,), for example using ravel().\n",
      "  estimator.fit(X_train, y_train, **fit_params)\n"
     ]
    },
    {
     "name": "stdout",
     "output_type": "stream",
     "text": [
      "[CV 1/3; 40/90] END bootstrap=True, criterion=entropy, max_depth=8, max_features=auto, min_samples_leaf=1, min_samples_split=16, n_estimators=200;, score=0.525 total time=   2.0s\n",
      "[CV 2/3; 40/90] START bootstrap=True, criterion=entropy, max_depth=8, max_features=auto, min_samples_leaf=1, min_samples_split=16, n_estimators=200\n"
     ]
    },
    {
     "name": "stderr",
     "output_type": "stream",
     "text": [
      "d:\\googledrive\\wirelessmotionintelligence\\2022-knu-wmi\\venv\\lib\\site-packages\\sklearn\\model_selection\\_validation.py:680: DataConversionWarning: A column-vector y was passed when a 1d array was expected. Please change the shape of y to (n_samples,), for example using ravel().\n",
      "  estimator.fit(X_train, y_train, **fit_params)\n"
     ]
    },
    {
     "name": "stdout",
     "output_type": "stream",
     "text": [
      "[CV 2/3; 40/90] END bootstrap=True, criterion=entropy, max_depth=8, max_features=auto, min_samples_leaf=1, min_samples_split=16, n_estimators=200;, score=0.590 total time=   2.1s\n",
      "[CV 3/3; 40/90] START bootstrap=True, criterion=entropy, max_depth=8, max_features=auto, min_samples_leaf=1, min_samples_split=16, n_estimators=200\n"
     ]
    },
    {
     "name": "stderr",
     "output_type": "stream",
     "text": [
      "d:\\googledrive\\wirelessmotionintelligence\\2022-knu-wmi\\venv\\lib\\site-packages\\sklearn\\model_selection\\_validation.py:680: DataConversionWarning: A column-vector y was passed when a 1d array was expected. Please change the shape of y to (n_samples,), for example using ravel().\n",
      "  estimator.fit(X_train, y_train, **fit_params)\n"
     ]
    },
    {
     "name": "stdout",
     "output_type": "stream",
     "text": [
      "[CV 3/3; 40/90] END bootstrap=True, criterion=entropy, max_depth=8, max_features=auto, min_samples_leaf=1, min_samples_split=16, n_estimators=200;, score=0.564 total time=   2.0s\n",
      "[CV 1/3; 41/90] START bootstrap=True, criterion=entropy, max_depth=8, max_features=auto, min_samples_leaf=5, min_samples_split=2, n_estimators=100\n"
     ]
    },
    {
     "name": "stderr",
     "output_type": "stream",
     "text": [
      "d:\\googledrive\\wirelessmotionintelligence\\2022-knu-wmi\\venv\\lib\\site-packages\\sklearn\\model_selection\\_validation.py:680: DataConversionWarning: A column-vector y was passed when a 1d array was expected. Please change the shape of y to (n_samples,), for example using ravel().\n",
      "  estimator.fit(X_train, y_train, **fit_params)\n"
     ]
    },
    {
     "name": "stdout",
     "output_type": "stream",
     "text": [
      "[CV 1/3; 41/90] END bootstrap=True, criterion=entropy, max_depth=8, max_features=auto, min_samples_leaf=5, min_samples_split=2, n_estimators=100;, score=0.525 total time=   1.3s\n",
      "[CV 2/3; 41/90] START bootstrap=True, criterion=entropy, max_depth=8, max_features=auto, min_samples_leaf=5, min_samples_split=2, n_estimators=100\n"
     ]
    },
    {
     "name": "stderr",
     "output_type": "stream",
     "text": [
      "d:\\googledrive\\wirelessmotionintelligence\\2022-knu-wmi\\venv\\lib\\site-packages\\sklearn\\model_selection\\_validation.py:680: DataConversionWarning: A column-vector y was passed when a 1d array was expected. Please change the shape of y to (n_samples,), for example using ravel().\n",
      "  estimator.fit(X_train, y_train, **fit_params)\n"
     ]
    },
    {
     "name": "stdout",
     "output_type": "stream",
     "text": [
      "[CV 2/3; 41/90] END bootstrap=True, criterion=entropy, max_depth=8, max_features=auto, min_samples_leaf=5, min_samples_split=2, n_estimators=100;, score=0.615 total time=   1.3s\n",
      "[CV 3/3; 41/90] START bootstrap=True, criterion=entropy, max_depth=8, max_features=auto, min_samples_leaf=5, min_samples_split=2, n_estimators=100\n"
     ]
    },
    {
     "name": "stderr",
     "output_type": "stream",
     "text": [
      "d:\\googledrive\\wirelessmotionintelligence\\2022-knu-wmi\\venv\\lib\\site-packages\\sklearn\\model_selection\\_validation.py:680: DataConversionWarning: A column-vector y was passed when a 1d array was expected. Please change the shape of y to (n_samples,), for example using ravel().\n",
      "  estimator.fit(X_train, y_train, **fit_params)\n"
     ]
    },
    {
     "name": "stdout",
     "output_type": "stream",
     "text": [
      "[CV 3/3; 41/90] END bootstrap=True, criterion=entropy, max_depth=8, max_features=auto, min_samples_leaf=5, min_samples_split=2, n_estimators=100;, score=0.487 total time=   1.4s\n",
      "[CV 1/3; 42/90] START bootstrap=True, criterion=entropy, max_depth=8, max_features=auto, min_samples_leaf=5, min_samples_split=2, n_estimators=200\n"
     ]
    },
    {
     "name": "stderr",
     "output_type": "stream",
     "text": [
      "d:\\googledrive\\wirelessmotionintelligence\\2022-knu-wmi\\venv\\lib\\site-packages\\sklearn\\model_selection\\_validation.py:680: DataConversionWarning: A column-vector y was passed when a 1d array was expected. Please change the shape of y to (n_samples,), for example using ravel().\n",
      "  estimator.fit(X_train, y_train, **fit_params)\n"
     ]
    },
    {
     "name": "stdout",
     "output_type": "stream",
     "text": [
      "[CV 1/3; 42/90] END bootstrap=True, criterion=entropy, max_depth=8, max_features=auto, min_samples_leaf=5, min_samples_split=2, n_estimators=200;, score=0.500 total time=   2.0s\n",
      "[CV 2/3; 42/90] START bootstrap=True, criterion=entropy, max_depth=8, max_features=auto, min_samples_leaf=5, min_samples_split=2, n_estimators=200\n"
     ]
    },
    {
     "name": "stderr",
     "output_type": "stream",
     "text": [
      "d:\\googledrive\\wirelessmotionintelligence\\2022-knu-wmi\\venv\\lib\\site-packages\\sklearn\\model_selection\\_validation.py:680: DataConversionWarning: A column-vector y was passed when a 1d array was expected. Please change the shape of y to (n_samples,), for example using ravel().\n",
      "  estimator.fit(X_train, y_train, **fit_params)\n"
     ]
    },
    {
     "name": "stdout",
     "output_type": "stream",
     "text": [
      "[CV 2/3; 42/90] END bootstrap=True, criterion=entropy, max_depth=8, max_features=auto, min_samples_leaf=5, min_samples_split=2, n_estimators=200;, score=0.615 total time=   2.0s\n",
      "[CV 3/3; 42/90] START bootstrap=True, criterion=entropy, max_depth=8, max_features=auto, min_samples_leaf=5, min_samples_split=2, n_estimators=200\n"
     ]
    },
    {
     "name": "stderr",
     "output_type": "stream",
     "text": [
      "d:\\googledrive\\wirelessmotionintelligence\\2022-knu-wmi\\venv\\lib\\site-packages\\sklearn\\model_selection\\_validation.py:680: DataConversionWarning: A column-vector y was passed when a 1d array was expected. Please change the shape of y to (n_samples,), for example using ravel().\n",
      "  estimator.fit(X_train, y_train, **fit_params)\n"
     ]
    },
    {
     "name": "stdout",
     "output_type": "stream",
     "text": [
      "[CV 3/3; 42/90] END bootstrap=True, criterion=entropy, max_depth=8, max_features=auto, min_samples_leaf=5, min_samples_split=2, n_estimators=200;, score=0.513 total time=   2.1s\n",
      "[CV 1/3; 43/90] START bootstrap=True, criterion=entropy, max_depth=8, max_features=auto, min_samples_leaf=5, min_samples_split=4, n_estimators=100\n"
     ]
    },
    {
     "name": "stderr",
     "output_type": "stream",
     "text": [
      "d:\\googledrive\\wirelessmotionintelligence\\2022-knu-wmi\\venv\\lib\\site-packages\\sklearn\\model_selection\\_validation.py:680: DataConversionWarning: A column-vector y was passed when a 1d array was expected. Please change the shape of y to (n_samples,), for example using ravel().\n",
      "  estimator.fit(X_train, y_train, **fit_params)\n"
     ]
    },
    {
     "name": "stdout",
     "output_type": "stream",
     "text": [
      "[CV 1/3; 43/90] END bootstrap=True, criterion=entropy, max_depth=8, max_features=auto, min_samples_leaf=5, min_samples_split=4, n_estimators=100;, score=0.525 total time=   1.4s\n",
      "[CV 2/3; 43/90] START bootstrap=True, criterion=entropy, max_depth=8, max_features=auto, min_samples_leaf=5, min_samples_split=4, n_estimators=100\n"
     ]
    },
    {
     "name": "stderr",
     "output_type": "stream",
     "text": [
      "d:\\googledrive\\wirelessmotionintelligence\\2022-knu-wmi\\venv\\lib\\site-packages\\sklearn\\model_selection\\_validation.py:680: DataConversionWarning: A column-vector y was passed when a 1d array was expected. Please change the shape of y to (n_samples,), for example using ravel().\n",
      "  estimator.fit(X_train, y_train, **fit_params)\n"
     ]
    },
    {
     "name": "stdout",
     "output_type": "stream",
     "text": [
      "[CV 2/3; 43/90] END bootstrap=True, criterion=entropy, max_depth=8, max_features=auto, min_samples_leaf=5, min_samples_split=4, n_estimators=100;, score=0.615 total time=   1.4s\n",
      "[CV 3/3; 43/90] START bootstrap=True, criterion=entropy, max_depth=8, max_features=auto, min_samples_leaf=5, min_samples_split=4, n_estimators=100\n"
     ]
    },
    {
     "name": "stderr",
     "output_type": "stream",
     "text": [
      "d:\\googledrive\\wirelessmotionintelligence\\2022-knu-wmi\\venv\\lib\\site-packages\\sklearn\\model_selection\\_validation.py:680: DataConversionWarning: A column-vector y was passed when a 1d array was expected. Please change the shape of y to (n_samples,), for example using ravel().\n",
      "  estimator.fit(X_train, y_train, **fit_params)\n"
     ]
    },
    {
     "name": "stdout",
     "output_type": "stream",
     "text": [
      "[CV 3/3; 43/90] END bootstrap=True, criterion=entropy, max_depth=8, max_features=auto, min_samples_leaf=5, min_samples_split=4, n_estimators=100;, score=0.487 total time=   1.4s\n",
      "[CV 1/3; 44/90] START bootstrap=True, criterion=entropy, max_depth=8, max_features=auto, min_samples_leaf=5, min_samples_split=4, n_estimators=200\n"
     ]
    },
    {
     "name": "stderr",
     "output_type": "stream",
     "text": [
      "d:\\googledrive\\wirelessmotionintelligence\\2022-knu-wmi\\venv\\lib\\site-packages\\sklearn\\model_selection\\_validation.py:680: DataConversionWarning: A column-vector y was passed when a 1d array was expected. Please change the shape of y to (n_samples,), for example using ravel().\n",
      "  estimator.fit(X_train, y_train, **fit_params)\n"
     ]
    },
    {
     "name": "stdout",
     "output_type": "stream",
     "text": [
      "[CV 1/3; 44/90] END bootstrap=True, criterion=entropy, max_depth=8, max_features=auto, min_samples_leaf=5, min_samples_split=4, n_estimators=200;, score=0.500 total time=   2.1s\n",
      "[CV 2/3; 44/90] START bootstrap=True, criterion=entropy, max_depth=8, max_features=auto, min_samples_leaf=5, min_samples_split=4, n_estimators=200\n"
     ]
    },
    {
     "name": "stderr",
     "output_type": "stream",
     "text": [
      "d:\\googledrive\\wirelessmotionintelligence\\2022-knu-wmi\\venv\\lib\\site-packages\\sklearn\\model_selection\\_validation.py:680: DataConversionWarning: A column-vector y was passed when a 1d array was expected. Please change the shape of y to (n_samples,), for example using ravel().\n",
      "  estimator.fit(X_train, y_train, **fit_params)\n"
     ]
    },
    {
     "name": "stdout",
     "output_type": "stream",
     "text": [
      "[CV 2/3; 44/90] END bootstrap=True, criterion=entropy, max_depth=8, max_features=auto, min_samples_leaf=5, min_samples_split=4, n_estimators=200;, score=0.615 total time=   2.1s\n",
      "[CV 3/3; 44/90] START bootstrap=True, criterion=entropy, max_depth=8, max_features=auto, min_samples_leaf=5, min_samples_split=4, n_estimators=200\n"
     ]
    },
    {
     "name": "stderr",
     "output_type": "stream",
     "text": [
      "d:\\googledrive\\wirelessmotionintelligence\\2022-knu-wmi\\venv\\lib\\site-packages\\sklearn\\model_selection\\_validation.py:680: DataConversionWarning: A column-vector y was passed when a 1d array was expected. Please change the shape of y to (n_samples,), for example using ravel().\n",
      "  estimator.fit(X_train, y_train, **fit_params)\n"
     ]
    },
    {
     "name": "stdout",
     "output_type": "stream",
     "text": [
      "[CV 3/3; 44/90] END bootstrap=True, criterion=entropy, max_depth=8, max_features=auto, min_samples_leaf=5, min_samples_split=4, n_estimators=200;, score=0.513 total time=   2.1s\n",
      "[CV 1/3; 45/90] START bootstrap=True, criterion=entropy, max_depth=8, max_features=auto, min_samples_leaf=5, min_samples_split=10, n_estimators=100\n"
     ]
    },
    {
     "name": "stderr",
     "output_type": "stream",
     "text": [
      "d:\\googledrive\\wirelessmotionintelligence\\2022-knu-wmi\\venv\\lib\\site-packages\\sklearn\\model_selection\\_validation.py:680: DataConversionWarning: A column-vector y was passed when a 1d array was expected. Please change the shape of y to (n_samples,), for example using ravel().\n",
      "  estimator.fit(X_train, y_train, **fit_params)\n"
     ]
    },
    {
     "name": "stdout",
     "output_type": "stream",
     "text": [
      "[CV 1/3; 45/90] END bootstrap=True, criterion=entropy, max_depth=8, max_features=auto, min_samples_leaf=5, min_samples_split=10, n_estimators=100;, score=0.525 total time=   1.4s\n",
      "[CV 2/3; 45/90] START bootstrap=True, criterion=entropy, max_depth=8, max_features=auto, min_samples_leaf=5, min_samples_split=10, n_estimators=100\n"
     ]
    },
    {
     "name": "stderr",
     "output_type": "stream",
     "text": [
      "d:\\googledrive\\wirelessmotionintelligence\\2022-knu-wmi\\venv\\lib\\site-packages\\sklearn\\model_selection\\_validation.py:680: DataConversionWarning: A column-vector y was passed when a 1d array was expected. Please change the shape of y to (n_samples,), for example using ravel().\n",
      "  estimator.fit(X_train, y_train, **fit_params)\n"
     ]
    },
    {
     "name": "stdout",
     "output_type": "stream",
     "text": [
      "[CV 2/3; 45/90] END bootstrap=True, criterion=entropy, max_depth=8, max_features=auto, min_samples_leaf=5, min_samples_split=10, n_estimators=100;, score=0.615 total time=   1.4s\n",
      "[CV 3/3; 45/90] START bootstrap=True, criterion=entropy, max_depth=8, max_features=auto, min_samples_leaf=5, min_samples_split=10, n_estimators=100\n"
     ]
    },
    {
     "name": "stderr",
     "output_type": "stream",
     "text": [
      "d:\\googledrive\\wirelessmotionintelligence\\2022-knu-wmi\\venv\\lib\\site-packages\\sklearn\\model_selection\\_validation.py:680: DataConversionWarning: A column-vector y was passed when a 1d array was expected. Please change the shape of y to (n_samples,), for example using ravel().\n",
      "  estimator.fit(X_train, y_train, **fit_params)\n"
     ]
    },
    {
     "name": "stdout",
     "output_type": "stream",
     "text": [
      "[CV 3/3; 45/90] END bootstrap=True, criterion=entropy, max_depth=8, max_features=auto, min_samples_leaf=5, min_samples_split=10, n_estimators=100;, score=0.487 total time=   1.4s\n",
      "[CV 1/3; 46/90] START bootstrap=True, criterion=entropy, max_depth=8, max_features=auto, min_samples_leaf=5, min_samples_split=10, n_estimators=200\n"
     ]
    },
    {
     "name": "stderr",
     "output_type": "stream",
     "text": [
      "d:\\googledrive\\wirelessmotionintelligence\\2022-knu-wmi\\venv\\lib\\site-packages\\sklearn\\model_selection\\_validation.py:680: DataConversionWarning: A column-vector y was passed when a 1d array was expected. Please change the shape of y to (n_samples,), for example using ravel().\n",
      "  estimator.fit(X_train, y_train, **fit_params)\n"
     ]
    },
    {
     "name": "stdout",
     "output_type": "stream",
     "text": [
      "[CV 1/3; 46/90] END bootstrap=True, criterion=entropy, max_depth=8, max_features=auto, min_samples_leaf=5, min_samples_split=10, n_estimators=200;, score=0.500 total time=   2.1s\n",
      "[CV 2/3; 46/90] START bootstrap=True, criterion=entropy, max_depth=8, max_features=auto, min_samples_leaf=5, min_samples_split=10, n_estimators=200\n"
     ]
    },
    {
     "name": "stderr",
     "output_type": "stream",
     "text": [
      "d:\\googledrive\\wirelessmotionintelligence\\2022-knu-wmi\\venv\\lib\\site-packages\\sklearn\\model_selection\\_validation.py:680: DataConversionWarning: A column-vector y was passed when a 1d array was expected. Please change the shape of y to (n_samples,), for example using ravel().\n",
      "  estimator.fit(X_train, y_train, **fit_params)\n"
     ]
    },
    {
     "name": "stdout",
     "output_type": "stream",
     "text": [
      "[CV 2/3; 46/90] END bootstrap=True, criterion=entropy, max_depth=8, max_features=auto, min_samples_leaf=5, min_samples_split=10, n_estimators=200;, score=0.615 total time=   2.1s\n",
      "[CV 3/3; 46/90] START bootstrap=True, criterion=entropy, max_depth=8, max_features=auto, min_samples_leaf=5, min_samples_split=10, n_estimators=200\n"
     ]
    },
    {
     "name": "stderr",
     "output_type": "stream",
     "text": [
      "d:\\googledrive\\wirelessmotionintelligence\\2022-knu-wmi\\venv\\lib\\site-packages\\sklearn\\model_selection\\_validation.py:680: DataConversionWarning: A column-vector y was passed when a 1d array was expected. Please change the shape of y to (n_samples,), for example using ravel().\n",
      "  estimator.fit(X_train, y_train, **fit_params)\n"
     ]
    },
    {
     "name": "stdout",
     "output_type": "stream",
     "text": [
      "[CV 3/3; 46/90] END bootstrap=True, criterion=entropy, max_depth=8, max_features=auto, min_samples_leaf=5, min_samples_split=10, n_estimators=200;, score=0.513 total time=   2.0s\n",
      "[CV 1/3; 47/90] START bootstrap=True, criterion=entropy, max_depth=8, max_features=auto, min_samples_leaf=5, min_samples_split=12, n_estimators=100\n"
     ]
    },
    {
     "name": "stderr",
     "output_type": "stream",
     "text": [
      "d:\\googledrive\\wirelessmotionintelligence\\2022-knu-wmi\\venv\\lib\\site-packages\\sklearn\\model_selection\\_validation.py:680: DataConversionWarning: A column-vector y was passed when a 1d array was expected. Please change the shape of y to (n_samples,), for example using ravel().\n",
      "  estimator.fit(X_train, y_train, **fit_params)\n"
     ]
    },
    {
     "name": "stdout",
     "output_type": "stream",
     "text": [
      "[CV 1/3; 47/90] END bootstrap=True, criterion=entropy, max_depth=8, max_features=auto, min_samples_leaf=5, min_samples_split=12, n_estimators=100;, score=0.550 total time=   1.3s\n",
      "[CV 2/3; 47/90] START bootstrap=True, criterion=entropy, max_depth=8, max_features=auto, min_samples_leaf=5, min_samples_split=12, n_estimators=100\n"
     ]
    },
    {
     "name": "stderr",
     "output_type": "stream",
     "text": [
      "d:\\googledrive\\wirelessmotionintelligence\\2022-knu-wmi\\venv\\lib\\site-packages\\sklearn\\model_selection\\_validation.py:680: DataConversionWarning: A column-vector y was passed when a 1d array was expected. Please change the shape of y to (n_samples,), for example using ravel().\n",
      "  estimator.fit(X_train, y_train, **fit_params)\n"
     ]
    },
    {
     "name": "stdout",
     "output_type": "stream",
     "text": [
      "[CV 2/3; 47/90] END bootstrap=True, criterion=entropy, max_depth=8, max_features=auto, min_samples_leaf=5, min_samples_split=12, n_estimators=100;, score=0.641 total time=   1.3s\n",
      "[CV 3/3; 47/90] START bootstrap=True, criterion=entropy, max_depth=8, max_features=auto, min_samples_leaf=5, min_samples_split=12, n_estimators=100\n"
     ]
    },
    {
     "name": "stderr",
     "output_type": "stream",
     "text": [
      "d:\\googledrive\\wirelessmotionintelligence\\2022-knu-wmi\\venv\\lib\\site-packages\\sklearn\\model_selection\\_validation.py:680: DataConversionWarning: A column-vector y was passed when a 1d array was expected. Please change the shape of y to (n_samples,), for example using ravel().\n",
      "  estimator.fit(X_train, y_train, **fit_params)\n"
     ]
    },
    {
     "name": "stdout",
     "output_type": "stream",
     "text": [
      "[CV 3/3; 47/90] END bootstrap=True, criterion=entropy, max_depth=8, max_features=auto, min_samples_leaf=5, min_samples_split=12, n_estimators=100;, score=0.487 total time=   1.3s\n",
      "[CV 1/3; 48/90] START bootstrap=True, criterion=entropy, max_depth=8, max_features=auto, min_samples_leaf=5, min_samples_split=12, n_estimators=200\n"
     ]
    },
    {
     "name": "stderr",
     "output_type": "stream",
     "text": [
      "d:\\googledrive\\wirelessmotionintelligence\\2022-knu-wmi\\venv\\lib\\site-packages\\sklearn\\model_selection\\_validation.py:680: DataConversionWarning: A column-vector y was passed when a 1d array was expected. Please change the shape of y to (n_samples,), for example using ravel().\n",
      "  estimator.fit(X_train, y_train, **fit_params)\n"
     ]
    },
    {
     "name": "stdout",
     "output_type": "stream",
     "text": [
      "[CV 1/3; 48/90] END bootstrap=True, criterion=entropy, max_depth=8, max_features=auto, min_samples_leaf=5, min_samples_split=12, n_estimators=200;, score=0.500 total time=   2.0s\n",
      "[CV 2/3; 48/90] START bootstrap=True, criterion=entropy, max_depth=8, max_features=auto, min_samples_leaf=5, min_samples_split=12, n_estimators=200\n"
     ]
    },
    {
     "name": "stderr",
     "output_type": "stream",
     "text": [
      "d:\\googledrive\\wirelessmotionintelligence\\2022-knu-wmi\\venv\\lib\\site-packages\\sklearn\\model_selection\\_validation.py:680: DataConversionWarning: A column-vector y was passed when a 1d array was expected. Please change the shape of y to (n_samples,), for example using ravel().\n",
      "  estimator.fit(X_train, y_train, **fit_params)\n"
     ]
    },
    {
     "name": "stdout",
     "output_type": "stream",
     "text": [
      "[CV 2/3; 48/90] END bootstrap=True, criterion=entropy, max_depth=8, max_features=auto, min_samples_leaf=5, min_samples_split=12, n_estimators=200;, score=0.615 total time=   2.1s\n",
      "[CV 3/3; 48/90] START bootstrap=True, criterion=entropy, max_depth=8, max_features=auto, min_samples_leaf=5, min_samples_split=12, n_estimators=200\n"
     ]
    },
    {
     "name": "stderr",
     "output_type": "stream",
     "text": [
      "d:\\googledrive\\wirelessmotionintelligence\\2022-knu-wmi\\venv\\lib\\site-packages\\sklearn\\model_selection\\_validation.py:680: DataConversionWarning: A column-vector y was passed when a 1d array was expected. Please change the shape of y to (n_samples,), for example using ravel().\n",
      "  estimator.fit(X_train, y_train, **fit_params)\n"
     ]
    },
    {
     "name": "stdout",
     "output_type": "stream",
     "text": [
      "[CV 3/3; 48/90] END bootstrap=True, criterion=entropy, max_depth=8, max_features=auto, min_samples_leaf=5, min_samples_split=12, n_estimators=200;, score=0.513 total time=   2.0s\n",
      "[CV 1/3; 49/90] START bootstrap=True, criterion=entropy, max_depth=8, max_features=auto, min_samples_leaf=5, min_samples_split=16, n_estimators=100\n"
     ]
    },
    {
     "name": "stderr",
     "output_type": "stream",
     "text": [
      "d:\\googledrive\\wirelessmotionintelligence\\2022-knu-wmi\\venv\\lib\\site-packages\\sklearn\\model_selection\\_validation.py:680: DataConversionWarning: A column-vector y was passed when a 1d array was expected. Please change the shape of y to (n_samples,), for example using ravel().\n",
      "  estimator.fit(X_train, y_train, **fit_params)\n"
     ]
    },
    {
     "name": "stdout",
     "output_type": "stream",
     "text": [
      "[CV 1/3; 49/90] END bootstrap=True, criterion=entropy, max_depth=8, max_features=auto, min_samples_leaf=5, min_samples_split=16, n_estimators=100;, score=0.525 total time=   1.3s\n",
      "[CV 2/3; 49/90] START bootstrap=True, criterion=entropy, max_depth=8, max_features=auto, min_samples_leaf=5, min_samples_split=16, n_estimators=100\n"
     ]
    },
    {
     "name": "stderr",
     "output_type": "stream",
     "text": [
      "d:\\googledrive\\wirelessmotionintelligence\\2022-knu-wmi\\venv\\lib\\site-packages\\sklearn\\model_selection\\_validation.py:680: DataConversionWarning: A column-vector y was passed when a 1d array was expected. Please change the shape of y to (n_samples,), for example using ravel().\n",
      "  estimator.fit(X_train, y_train, **fit_params)\n"
     ]
    },
    {
     "name": "stdout",
     "output_type": "stream",
     "text": [
      "[CV 2/3; 49/90] END bootstrap=True, criterion=entropy, max_depth=8, max_features=auto, min_samples_leaf=5, min_samples_split=16, n_estimators=100;, score=0.641 total time=   1.4s\n",
      "[CV 3/3; 49/90] START bootstrap=True, criterion=entropy, max_depth=8, max_features=auto, min_samples_leaf=5, min_samples_split=16, n_estimators=100\n"
     ]
    },
    {
     "name": "stderr",
     "output_type": "stream",
     "text": [
      "d:\\googledrive\\wirelessmotionintelligence\\2022-knu-wmi\\venv\\lib\\site-packages\\sklearn\\model_selection\\_validation.py:680: DataConversionWarning: A column-vector y was passed when a 1d array was expected. Please change the shape of y to (n_samples,), for example using ravel().\n",
      "  estimator.fit(X_train, y_train, **fit_params)\n"
     ]
    },
    {
     "name": "stdout",
     "output_type": "stream",
     "text": [
      "[CV 3/3; 49/90] END bootstrap=True, criterion=entropy, max_depth=8, max_features=auto, min_samples_leaf=5, min_samples_split=16, n_estimators=100;, score=0.462 total time=   1.3s\n",
      "[CV 1/3; 50/90] START bootstrap=True, criterion=entropy, max_depth=8, max_features=auto, min_samples_leaf=5, min_samples_split=16, n_estimators=200\n"
     ]
    },
    {
     "name": "stderr",
     "output_type": "stream",
     "text": [
      "d:\\googledrive\\wirelessmotionintelligence\\2022-knu-wmi\\venv\\lib\\site-packages\\sklearn\\model_selection\\_validation.py:680: DataConversionWarning: A column-vector y was passed when a 1d array was expected. Please change the shape of y to (n_samples,), for example using ravel().\n",
      "  estimator.fit(X_train, y_train, **fit_params)\n"
     ]
    },
    {
     "name": "stdout",
     "output_type": "stream",
     "text": [
      "[CV 1/3; 50/90] END bootstrap=True, criterion=entropy, max_depth=8, max_features=auto, min_samples_leaf=5, min_samples_split=16, n_estimators=200;, score=0.500 total time=   2.1s\n",
      "[CV 2/3; 50/90] START bootstrap=True, criterion=entropy, max_depth=8, max_features=auto, min_samples_leaf=5, min_samples_split=16, n_estimators=200\n"
     ]
    },
    {
     "name": "stderr",
     "output_type": "stream",
     "text": [
      "d:\\googledrive\\wirelessmotionintelligence\\2022-knu-wmi\\venv\\lib\\site-packages\\sklearn\\model_selection\\_validation.py:680: DataConversionWarning: A column-vector y was passed when a 1d array was expected. Please change the shape of y to (n_samples,), for example using ravel().\n",
      "  estimator.fit(X_train, y_train, **fit_params)\n"
     ]
    },
    {
     "name": "stdout",
     "output_type": "stream",
     "text": [
      "[CV 2/3; 50/90] END bootstrap=True, criterion=entropy, max_depth=8, max_features=auto, min_samples_leaf=5, min_samples_split=16, n_estimators=200;, score=0.590 total time=   2.0s\n",
      "[CV 3/3; 50/90] START bootstrap=True, criterion=entropy, max_depth=8, max_features=auto, min_samples_leaf=5, min_samples_split=16, n_estimators=200\n"
     ]
    },
    {
     "name": "stderr",
     "output_type": "stream",
     "text": [
      "d:\\googledrive\\wirelessmotionintelligence\\2022-knu-wmi\\venv\\lib\\site-packages\\sklearn\\model_selection\\_validation.py:680: DataConversionWarning: A column-vector y was passed when a 1d array was expected. Please change the shape of y to (n_samples,), for example using ravel().\n",
      "  estimator.fit(X_train, y_train, **fit_params)\n"
     ]
    },
    {
     "name": "stdout",
     "output_type": "stream",
     "text": [
      "[CV 3/3; 50/90] END bootstrap=True, criterion=entropy, max_depth=8, max_features=auto, min_samples_leaf=5, min_samples_split=16, n_estimators=200;, score=0.538 total time=   2.0s\n",
      "[CV 1/3; 51/90] START bootstrap=True, criterion=entropy, max_depth=8, max_features=auto, min_samples_leaf=10, min_samples_split=2, n_estimators=100\n"
     ]
    },
    {
     "name": "stderr",
     "output_type": "stream",
     "text": [
      "d:\\googledrive\\wirelessmotionintelligence\\2022-knu-wmi\\venv\\lib\\site-packages\\sklearn\\model_selection\\_validation.py:680: DataConversionWarning: A column-vector y was passed when a 1d array was expected. Please change the shape of y to (n_samples,), for example using ravel().\n",
      "  estimator.fit(X_train, y_train, **fit_params)\n"
     ]
    },
    {
     "name": "stdout",
     "output_type": "stream",
     "text": [
      "[CV 1/3; 51/90] END bootstrap=True, criterion=entropy, max_depth=8, max_features=auto, min_samples_leaf=10, min_samples_split=2, n_estimators=100;, score=0.550 total time=   1.3s\n",
      "[CV 2/3; 51/90] START bootstrap=True, criterion=entropy, max_depth=8, max_features=auto, min_samples_leaf=10, min_samples_split=2, n_estimators=100\n"
     ]
    },
    {
     "name": "stderr",
     "output_type": "stream",
     "text": [
      "d:\\googledrive\\wirelessmotionintelligence\\2022-knu-wmi\\venv\\lib\\site-packages\\sklearn\\model_selection\\_validation.py:680: DataConversionWarning: A column-vector y was passed when a 1d array was expected. Please change the shape of y to (n_samples,), for example using ravel().\n",
      "  estimator.fit(X_train, y_train, **fit_params)\n"
     ]
    },
    {
     "name": "stdout",
     "output_type": "stream",
     "text": [
      "[CV 2/3; 51/90] END bootstrap=True, criterion=entropy, max_depth=8, max_features=auto, min_samples_leaf=10, min_samples_split=2, n_estimators=100;, score=0.667 total time=   1.3s\n",
      "[CV 3/3; 51/90] START bootstrap=True, criterion=entropy, max_depth=8, max_features=auto, min_samples_leaf=10, min_samples_split=2, n_estimators=100\n"
     ]
    },
    {
     "name": "stderr",
     "output_type": "stream",
     "text": [
      "d:\\googledrive\\wirelessmotionintelligence\\2022-knu-wmi\\venv\\lib\\site-packages\\sklearn\\model_selection\\_validation.py:680: DataConversionWarning: A column-vector y was passed when a 1d array was expected. Please change the shape of y to (n_samples,), for example using ravel().\n",
      "  estimator.fit(X_train, y_train, **fit_params)\n"
     ]
    },
    {
     "name": "stdout",
     "output_type": "stream",
     "text": [
      "[CV 3/3; 51/90] END bootstrap=True, criterion=entropy, max_depth=8, max_features=auto, min_samples_leaf=10, min_samples_split=2, n_estimators=100;, score=0.590 total time=   1.3s\n",
      "[CV 1/3; 52/90] START bootstrap=True, criterion=entropy, max_depth=8, max_features=auto, min_samples_leaf=10, min_samples_split=2, n_estimators=200\n"
     ]
    },
    {
     "name": "stderr",
     "output_type": "stream",
     "text": [
      "d:\\googledrive\\wirelessmotionintelligence\\2022-knu-wmi\\venv\\lib\\site-packages\\sklearn\\model_selection\\_validation.py:680: DataConversionWarning: A column-vector y was passed when a 1d array was expected. Please change the shape of y to (n_samples,), for example using ravel().\n",
      "  estimator.fit(X_train, y_train, **fit_params)\n"
     ]
    },
    {
     "name": "stdout",
     "output_type": "stream",
     "text": [
      "[CV 1/3; 52/90] END bootstrap=True, criterion=entropy, max_depth=8, max_features=auto, min_samples_leaf=10, min_samples_split=2, n_estimators=200;, score=0.500 total time=   2.0s\n",
      "[CV 2/3; 52/90] START bootstrap=True, criterion=entropy, max_depth=8, max_features=auto, min_samples_leaf=10, min_samples_split=2, n_estimators=200\n"
     ]
    },
    {
     "name": "stderr",
     "output_type": "stream",
     "text": [
      "d:\\googledrive\\wirelessmotionintelligence\\2022-knu-wmi\\venv\\lib\\site-packages\\sklearn\\model_selection\\_validation.py:680: DataConversionWarning: A column-vector y was passed when a 1d array was expected. Please change the shape of y to (n_samples,), for example using ravel().\n",
      "  estimator.fit(X_train, y_train, **fit_params)\n"
     ]
    },
    {
     "name": "stdout",
     "output_type": "stream",
     "text": [
      "[CV 2/3; 52/90] END bootstrap=True, criterion=entropy, max_depth=8, max_features=auto, min_samples_leaf=10, min_samples_split=2, n_estimators=200;, score=0.513 total time=   2.0s\n",
      "[CV 3/3; 52/90] START bootstrap=True, criterion=entropy, max_depth=8, max_features=auto, min_samples_leaf=10, min_samples_split=2, n_estimators=200\n"
     ]
    },
    {
     "name": "stderr",
     "output_type": "stream",
     "text": [
      "d:\\googledrive\\wirelessmotionintelligence\\2022-knu-wmi\\venv\\lib\\site-packages\\sklearn\\model_selection\\_validation.py:680: DataConversionWarning: A column-vector y was passed when a 1d array was expected. Please change the shape of y to (n_samples,), for example using ravel().\n",
      "  estimator.fit(X_train, y_train, **fit_params)\n"
     ]
    },
    {
     "name": "stdout",
     "output_type": "stream",
     "text": [
      "[CV 3/3; 52/90] END bootstrap=True, criterion=entropy, max_depth=8, max_features=auto, min_samples_leaf=10, min_samples_split=2, n_estimators=200;, score=0.564 total time=   2.0s\n",
      "[CV 1/3; 53/90] START bootstrap=True, criterion=entropy, max_depth=8, max_features=auto, min_samples_leaf=10, min_samples_split=4, n_estimators=100\n"
     ]
    },
    {
     "name": "stderr",
     "output_type": "stream",
     "text": [
      "d:\\googledrive\\wirelessmotionintelligence\\2022-knu-wmi\\venv\\lib\\site-packages\\sklearn\\model_selection\\_validation.py:680: DataConversionWarning: A column-vector y was passed when a 1d array was expected. Please change the shape of y to (n_samples,), for example using ravel().\n",
      "  estimator.fit(X_train, y_train, **fit_params)\n"
     ]
    },
    {
     "name": "stdout",
     "output_type": "stream",
     "text": [
      "[CV 1/3; 53/90] END bootstrap=True, criterion=entropy, max_depth=8, max_features=auto, min_samples_leaf=10, min_samples_split=4, n_estimators=100;, score=0.550 total time=   1.3s\n",
      "[CV 2/3; 53/90] START bootstrap=True, criterion=entropy, max_depth=8, max_features=auto, min_samples_leaf=10, min_samples_split=4, n_estimators=100\n"
     ]
    },
    {
     "name": "stderr",
     "output_type": "stream",
     "text": [
      "d:\\googledrive\\wirelessmotionintelligence\\2022-knu-wmi\\venv\\lib\\site-packages\\sklearn\\model_selection\\_validation.py:680: DataConversionWarning: A column-vector y was passed when a 1d array was expected. Please change the shape of y to (n_samples,), for example using ravel().\n",
      "  estimator.fit(X_train, y_train, **fit_params)\n"
     ]
    },
    {
     "name": "stdout",
     "output_type": "stream",
     "text": [
      "[CV 2/3; 53/90] END bootstrap=True, criterion=entropy, max_depth=8, max_features=auto, min_samples_leaf=10, min_samples_split=4, n_estimators=100;, score=0.667 total time=   1.3s\n",
      "[CV 3/3; 53/90] START bootstrap=True, criterion=entropy, max_depth=8, max_features=auto, min_samples_leaf=10, min_samples_split=4, n_estimators=100\n"
     ]
    },
    {
     "name": "stderr",
     "output_type": "stream",
     "text": [
      "d:\\googledrive\\wirelessmotionintelligence\\2022-knu-wmi\\venv\\lib\\site-packages\\sklearn\\model_selection\\_validation.py:680: DataConversionWarning: A column-vector y was passed when a 1d array was expected. Please change the shape of y to (n_samples,), for example using ravel().\n",
      "  estimator.fit(X_train, y_train, **fit_params)\n"
     ]
    },
    {
     "name": "stdout",
     "output_type": "stream",
     "text": [
      "[CV 3/3; 53/90] END bootstrap=True, criterion=entropy, max_depth=8, max_features=auto, min_samples_leaf=10, min_samples_split=4, n_estimators=100;, score=0.590 total time=   1.6s\n",
      "[CV 1/3; 54/90] START bootstrap=True, criterion=entropy, max_depth=8, max_features=auto, min_samples_leaf=10, min_samples_split=4, n_estimators=200\n"
     ]
    },
    {
     "name": "stderr",
     "output_type": "stream",
     "text": [
      "d:\\googledrive\\wirelessmotionintelligence\\2022-knu-wmi\\venv\\lib\\site-packages\\sklearn\\model_selection\\_validation.py:680: DataConversionWarning: A column-vector y was passed when a 1d array was expected. Please change the shape of y to (n_samples,), for example using ravel().\n",
      "  estimator.fit(X_train, y_train, **fit_params)\n"
     ]
    },
    {
     "name": "stdout",
     "output_type": "stream",
     "text": [
      "[CV 1/3; 54/90] END bootstrap=True, criterion=entropy, max_depth=8, max_features=auto, min_samples_leaf=10, min_samples_split=4, n_estimators=200;, score=0.500 total time=   2.4s\n",
      "[CV 2/3; 54/90] START bootstrap=True, criterion=entropy, max_depth=8, max_features=auto, min_samples_leaf=10, min_samples_split=4, n_estimators=200\n"
     ]
    },
    {
     "name": "stderr",
     "output_type": "stream",
     "text": [
      "d:\\googledrive\\wirelessmotionintelligence\\2022-knu-wmi\\venv\\lib\\site-packages\\sklearn\\model_selection\\_validation.py:680: DataConversionWarning: A column-vector y was passed when a 1d array was expected. Please change the shape of y to (n_samples,), for example using ravel().\n",
      "  estimator.fit(X_train, y_train, **fit_params)\n"
     ]
    },
    {
     "name": "stdout",
     "output_type": "stream",
     "text": [
      "[CV 2/3; 54/90] END bootstrap=True, criterion=entropy, max_depth=8, max_features=auto, min_samples_leaf=10, min_samples_split=4, n_estimators=200;, score=0.513 total time=   2.1s\n",
      "[CV 3/3; 54/90] START bootstrap=True, criterion=entropy, max_depth=8, max_features=auto, min_samples_leaf=10, min_samples_split=4, n_estimators=200\n"
     ]
    },
    {
     "name": "stderr",
     "output_type": "stream",
     "text": [
      "d:\\googledrive\\wirelessmotionintelligence\\2022-knu-wmi\\venv\\lib\\site-packages\\sklearn\\model_selection\\_validation.py:680: DataConversionWarning: A column-vector y was passed when a 1d array was expected. Please change the shape of y to (n_samples,), for example using ravel().\n",
      "  estimator.fit(X_train, y_train, **fit_params)\n"
     ]
    },
    {
     "name": "stdout",
     "output_type": "stream",
     "text": [
      "[CV 3/3; 54/90] END bootstrap=True, criterion=entropy, max_depth=8, max_features=auto, min_samples_leaf=10, min_samples_split=4, n_estimators=200;, score=0.564 total time=   2.1s\n",
      "[CV 1/3; 55/90] START bootstrap=True, criterion=entropy, max_depth=8, max_features=auto, min_samples_leaf=10, min_samples_split=10, n_estimators=100\n"
     ]
    },
    {
     "name": "stderr",
     "output_type": "stream",
     "text": [
      "d:\\googledrive\\wirelessmotionintelligence\\2022-knu-wmi\\venv\\lib\\site-packages\\sklearn\\model_selection\\_validation.py:680: DataConversionWarning: A column-vector y was passed when a 1d array was expected. Please change the shape of y to (n_samples,), for example using ravel().\n",
      "  estimator.fit(X_train, y_train, **fit_params)\n"
     ]
    },
    {
     "name": "stdout",
     "output_type": "stream",
     "text": [
      "[CV 1/3; 55/90] END bootstrap=True, criterion=entropy, max_depth=8, max_features=auto, min_samples_leaf=10, min_samples_split=10, n_estimators=100;, score=0.550 total time=   1.3s\n",
      "[CV 2/3; 55/90] START bootstrap=True, criterion=entropy, max_depth=8, max_features=auto, min_samples_leaf=10, min_samples_split=10, n_estimators=100\n"
     ]
    },
    {
     "name": "stderr",
     "output_type": "stream",
     "text": [
      "d:\\googledrive\\wirelessmotionintelligence\\2022-knu-wmi\\venv\\lib\\site-packages\\sklearn\\model_selection\\_validation.py:680: DataConversionWarning: A column-vector y was passed when a 1d array was expected. Please change the shape of y to (n_samples,), for example using ravel().\n",
      "  estimator.fit(X_train, y_train, **fit_params)\n"
     ]
    },
    {
     "name": "stdout",
     "output_type": "stream",
     "text": [
      "[CV 2/3; 55/90] END bootstrap=True, criterion=entropy, max_depth=8, max_features=auto, min_samples_leaf=10, min_samples_split=10, n_estimators=100;, score=0.667 total time=   1.3s\n",
      "[CV 3/3; 55/90] START bootstrap=True, criterion=entropy, max_depth=8, max_features=auto, min_samples_leaf=10, min_samples_split=10, n_estimators=100\n"
     ]
    },
    {
     "name": "stderr",
     "output_type": "stream",
     "text": [
      "d:\\googledrive\\wirelessmotionintelligence\\2022-knu-wmi\\venv\\lib\\site-packages\\sklearn\\model_selection\\_validation.py:680: DataConversionWarning: A column-vector y was passed when a 1d array was expected. Please change the shape of y to (n_samples,), for example using ravel().\n",
      "  estimator.fit(X_train, y_train, **fit_params)\n"
     ]
    },
    {
     "name": "stdout",
     "output_type": "stream",
     "text": [
      "[CV 3/3; 55/90] END bootstrap=True, criterion=entropy, max_depth=8, max_features=auto, min_samples_leaf=10, min_samples_split=10, n_estimators=100;, score=0.590 total time=   1.4s\n",
      "[CV 1/3; 56/90] START bootstrap=True, criterion=entropy, max_depth=8, max_features=auto, min_samples_leaf=10, min_samples_split=10, n_estimators=200\n"
     ]
    },
    {
     "name": "stderr",
     "output_type": "stream",
     "text": [
      "d:\\googledrive\\wirelessmotionintelligence\\2022-knu-wmi\\venv\\lib\\site-packages\\sklearn\\model_selection\\_validation.py:680: DataConversionWarning: A column-vector y was passed when a 1d array was expected. Please change the shape of y to (n_samples,), for example using ravel().\n",
      "  estimator.fit(X_train, y_train, **fit_params)\n"
     ]
    },
    {
     "name": "stdout",
     "output_type": "stream",
     "text": [
      "[CV 1/3; 56/90] END bootstrap=True, criterion=entropy, max_depth=8, max_features=auto, min_samples_leaf=10, min_samples_split=10, n_estimators=200;, score=0.500 total time=   2.0s\n",
      "[CV 2/3; 56/90] START bootstrap=True, criterion=entropy, max_depth=8, max_features=auto, min_samples_leaf=10, min_samples_split=10, n_estimators=200\n"
     ]
    },
    {
     "name": "stderr",
     "output_type": "stream",
     "text": [
      "d:\\googledrive\\wirelessmotionintelligence\\2022-knu-wmi\\venv\\lib\\site-packages\\sklearn\\model_selection\\_validation.py:680: DataConversionWarning: A column-vector y was passed when a 1d array was expected. Please change the shape of y to (n_samples,), for example using ravel().\n",
      "  estimator.fit(X_train, y_train, **fit_params)\n"
     ]
    },
    {
     "name": "stdout",
     "output_type": "stream",
     "text": [
      "[CV 2/3; 56/90] END bootstrap=True, criterion=entropy, max_depth=8, max_features=auto, min_samples_leaf=10, min_samples_split=10, n_estimators=200;, score=0.513 total time=   2.1s\n",
      "[CV 3/3; 56/90] START bootstrap=True, criterion=entropy, max_depth=8, max_features=auto, min_samples_leaf=10, min_samples_split=10, n_estimators=200\n"
     ]
    },
    {
     "name": "stderr",
     "output_type": "stream",
     "text": [
      "d:\\googledrive\\wirelessmotionintelligence\\2022-knu-wmi\\venv\\lib\\site-packages\\sklearn\\model_selection\\_validation.py:680: DataConversionWarning: A column-vector y was passed when a 1d array was expected. Please change the shape of y to (n_samples,), for example using ravel().\n",
      "  estimator.fit(X_train, y_train, **fit_params)\n"
     ]
    },
    {
     "name": "stdout",
     "output_type": "stream",
     "text": [
      "[CV 3/3; 56/90] END bootstrap=True, criterion=entropy, max_depth=8, max_features=auto, min_samples_leaf=10, min_samples_split=10, n_estimators=200;, score=0.564 total time=   2.1s\n",
      "[CV 1/3; 57/90] START bootstrap=True, criterion=entropy, max_depth=8, max_features=auto, min_samples_leaf=10, min_samples_split=12, n_estimators=100\n"
     ]
    },
    {
     "name": "stderr",
     "output_type": "stream",
     "text": [
      "d:\\googledrive\\wirelessmotionintelligence\\2022-knu-wmi\\venv\\lib\\site-packages\\sklearn\\model_selection\\_validation.py:680: DataConversionWarning: A column-vector y was passed when a 1d array was expected. Please change the shape of y to (n_samples,), for example using ravel().\n",
      "  estimator.fit(X_train, y_train, **fit_params)\n"
     ]
    },
    {
     "name": "stdout",
     "output_type": "stream",
     "text": [
      "[CV 1/3; 57/90] END bootstrap=True, criterion=entropy, max_depth=8, max_features=auto, min_samples_leaf=10, min_samples_split=12, n_estimators=100;, score=0.550 total time=   1.4s\n",
      "[CV 2/3; 57/90] START bootstrap=True, criterion=entropy, max_depth=8, max_features=auto, min_samples_leaf=10, min_samples_split=12, n_estimators=100\n"
     ]
    },
    {
     "name": "stderr",
     "output_type": "stream",
     "text": [
      "d:\\googledrive\\wirelessmotionintelligence\\2022-knu-wmi\\venv\\lib\\site-packages\\sklearn\\model_selection\\_validation.py:680: DataConversionWarning: A column-vector y was passed when a 1d array was expected. Please change the shape of y to (n_samples,), for example using ravel().\n",
      "  estimator.fit(X_train, y_train, **fit_params)\n"
     ]
    },
    {
     "name": "stdout",
     "output_type": "stream",
     "text": [
      "[CV 2/3; 57/90] END bootstrap=True, criterion=entropy, max_depth=8, max_features=auto, min_samples_leaf=10, min_samples_split=12, n_estimators=100;, score=0.667 total time=   1.4s\n",
      "[CV 3/3; 57/90] START bootstrap=True, criterion=entropy, max_depth=8, max_features=auto, min_samples_leaf=10, min_samples_split=12, n_estimators=100\n"
     ]
    },
    {
     "name": "stderr",
     "output_type": "stream",
     "text": [
      "d:\\googledrive\\wirelessmotionintelligence\\2022-knu-wmi\\venv\\lib\\site-packages\\sklearn\\model_selection\\_validation.py:680: DataConversionWarning: A column-vector y was passed when a 1d array was expected. Please change the shape of y to (n_samples,), for example using ravel().\n",
      "  estimator.fit(X_train, y_train, **fit_params)\n"
     ]
    },
    {
     "name": "stdout",
     "output_type": "stream",
     "text": [
      "[CV 3/3; 57/90] END bootstrap=True, criterion=entropy, max_depth=8, max_features=auto, min_samples_leaf=10, min_samples_split=12, n_estimators=100;, score=0.590 total time=   1.4s\n",
      "[CV 1/3; 58/90] START bootstrap=True, criterion=entropy, max_depth=8, max_features=auto, min_samples_leaf=10, min_samples_split=12, n_estimators=200\n"
     ]
    },
    {
     "name": "stderr",
     "output_type": "stream",
     "text": [
      "d:\\googledrive\\wirelessmotionintelligence\\2022-knu-wmi\\venv\\lib\\site-packages\\sklearn\\model_selection\\_validation.py:680: DataConversionWarning: A column-vector y was passed when a 1d array was expected. Please change the shape of y to (n_samples,), for example using ravel().\n",
      "  estimator.fit(X_train, y_train, **fit_params)\n"
     ]
    },
    {
     "name": "stdout",
     "output_type": "stream",
     "text": [
      "[CV 1/3; 58/90] END bootstrap=True, criterion=entropy, max_depth=8, max_features=auto, min_samples_leaf=10, min_samples_split=12, n_estimators=200;, score=0.500 total time=   2.1s\n",
      "[CV 2/3; 58/90] START bootstrap=True, criterion=entropy, max_depth=8, max_features=auto, min_samples_leaf=10, min_samples_split=12, n_estimators=200\n"
     ]
    },
    {
     "name": "stderr",
     "output_type": "stream",
     "text": [
      "d:\\googledrive\\wirelessmotionintelligence\\2022-knu-wmi\\venv\\lib\\site-packages\\sklearn\\model_selection\\_validation.py:680: DataConversionWarning: A column-vector y was passed when a 1d array was expected. Please change the shape of y to (n_samples,), for example using ravel().\n",
      "  estimator.fit(X_train, y_train, **fit_params)\n"
     ]
    },
    {
     "name": "stdout",
     "output_type": "stream",
     "text": [
      "[CV 2/3; 58/90] END bootstrap=True, criterion=entropy, max_depth=8, max_features=auto, min_samples_leaf=10, min_samples_split=12, n_estimators=200;, score=0.513 total time=   2.2s\n",
      "[CV 3/3; 58/90] START bootstrap=True, criterion=entropy, max_depth=8, max_features=auto, min_samples_leaf=10, min_samples_split=12, n_estimators=200\n"
     ]
    },
    {
     "name": "stderr",
     "output_type": "stream",
     "text": [
      "d:\\googledrive\\wirelessmotionintelligence\\2022-knu-wmi\\venv\\lib\\site-packages\\sklearn\\model_selection\\_validation.py:680: DataConversionWarning: A column-vector y was passed when a 1d array was expected. Please change the shape of y to (n_samples,), for example using ravel().\n",
      "  estimator.fit(X_train, y_train, **fit_params)\n"
     ]
    },
    {
     "name": "stdout",
     "output_type": "stream",
     "text": [
      "[CV 3/3; 58/90] END bootstrap=True, criterion=entropy, max_depth=8, max_features=auto, min_samples_leaf=10, min_samples_split=12, n_estimators=200;, score=0.564 total time=   2.0s\n",
      "[CV 1/3; 59/90] START bootstrap=True, criterion=entropy, max_depth=8, max_features=auto, min_samples_leaf=10, min_samples_split=16, n_estimators=100\n"
     ]
    },
    {
     "name": "stderr",
     "output_type": "stream",
     "text": [
      "d:\\googledrive\\wirelessmotionintelligence\\2022-knu-wmi\\venv\\lib\\site-packages\\sklearn\\model_selection\\_validation.py:680: DataConversionWarning: A column-vector y was passed when a 1d array was expected. Please change the shape of y to (n_samples,), for example using ravel().\n",
      "  estimator.fit(X_train, y_train, **fit_params)\n"
     ]
    },
    {
     "name": "stdout",
     "output_type": "stream",
     "text": [
      "[CV 1/3; 59/90] END bootstrap=True, criterion=entropy, max_depth=8, max_features=auto, min_samples_leaf=10, min_samples_split=16, n_estimators=100;, score=0.550 total time=   1.4s\n",
      "[CV 2/3; 59/90] START bootstrap=True, criterion=entropy, max_depth=8, max_features=auto, min_samples_leaf=10, min_samples_split=16, n_estimators=100\n"
     ]
    },
    {
     "name": "stderr",
     "output_type": "stream",
     "text": [
      "d:\\googledrive\\wirelessmotionintelligence\\2022-knu-wmi\\venv\\lib\\site-packages\\sklearn\\model_selection\\_validation.py:680: DataConversionWarning: A column-vector y was passed when a 1d array was expected. Please change the shape of y to (n_samples,), for example using ravel().\n",
      "  estimator.fit(X_train, y_train, **fit_params)\n"
     ]
    },
    {
     "name": "stdout",
     "output_type": "stream",
     "text": [
      "[CV 2/3; 59/90] END bootstrap=True, criterion=entropy, max_depth=8, max_features=auto, min_samples_leaf=10, min_samples_split=16, n_estimators=100;, score=0.667 total time=   1.6s\n",
      "[CV 3/3; 59/90] START bootstrap=True, criterion=entropy, max_depth=8, max_features=auto, min_samples_leaf=10, min_samples_split=16, n_estimators=100\n"
     ]
    },
    {
     "name": "stderr",
     "output_type": "stream",
     "text": [
      "d:\\googledrive\\wirelessmotionintelligence\\2022-knu-wmi\\venv\\lib\\site-packages\\sklearn\\model_selection\\_validation.py:680: DataConversionWarning: A column-vector y was passed when a 1d array was expected. Please change the shape of y to (n_samples,), for example using ravel().\n",
      "  estimator.fit(X_train, y_train, **fit_params)\n"
     ]
    },
    {
     "name": "stdout",
     "output_type": "stream",
     "text": [
      "[CV 3/3; 59/90] END bootstrap=True, criterion=entropy, max_depth=8, max_features=auto, min_samples_leaf=10, min_samples_split=16, n_estimators=100;, score=0.590 total time=   1.4s\n",
      "[CV 1/3; 60/90] START bootstrap=True, criterion=entropy, max_depth=8, max_features=auto, min_samples_leaf=10, min_samples_split=16, n_estimators=200\n"
     ]
    },
    {
     "name": "stderr",
     "output_type": "stream",
     "text": [
      "d:\\googledrive\\wirelessmotionintelligence\\2022-knu-wmi\\venv\\lib\\site-packages\\sklearn\\model_selection\\_validation.py:680: DataConversionWarning: A column-vector y was passed when a 1d array was expected. Please change the shape of y to (n_samples,), for example using ravel().\n",
      "  estimator.fit(X_train, y_train, **fit_params)\n"
     ]
    },
    {
     "name": "stdout",
     "output_type": "stream",
     "text": [
      "[CV 1/3; 60/90] END bootstrap=True, criterion=entropy, max_depth=8, max_features=auto, min_samples_leaf=10, min_samples_split=16, n_estimators=200;, score=0.500 total time=   2.1s\n",
      "[CV 2/3; 60/90] START bootstrap=True, criterion=entropy, max_depth=8, max_features=auto, min_samples_leaf=10, min_samples_split=16, n_estimators=200\n"
     ]
    },
    {
     "name": "stderr",
     "output_type": "stream",
     "text": [
      "d:\\googledrive\\wirelessmotionintelligence\\2022-knu-wmi\\venv\\lib\\site-packages\\sklearn\\model_selection\\_validation.py:680: DataConversionWarning: A column-vector y was passed when a 1d array was expected. Please change the shape of y to (n_samples,), for example using ravel().\n",
      "  estimator.fit(X_train, y_train, **fit_params)\n"
     ]
    },
    {
     "name": "stdout",
     "output_type": "stream",
     "text": [
      "[CV 2/3; 60/90] END bootstrap=True, criterion=entropy, max_depth=8, max_features=auto, min_samples_leaf=10, min_samples_split=16, n_estimators=200;, score=0.513 total time=   2.1s\n",
      "[CV 3/3; 60/90] START bootstrap=True, criterion=entropy, max_depth=8, max_features=auto, min_samples_leaf=10, min_samples_split=16, n_estimators=200\n"
     ]
    },
    {
     "name": "stderr",
     "output_type": "stream",
     "text": [
      "d:\\googledrive\\wirelessmotionintelligence\\2022-knu-wmi\\venv\\lib\\site-packages\\sklearn\\model_selection\\_validation.py:680: DataConversionWarning: A column-vector y was passed when a 1d array was expected. Please change the shape of y to (n_samples,), for example using ravel().\n",
      "  estimator.fit(X_train, y_train, **fit_params)\n"
     ]
    },
    {
     "name": "stdout",
     "output_type": "stream",
     "text": [
      "[CV 3/3; 60/90] END bootstrap=True, criterion=entropy, max_depth=8, max_features=auto, min_samples_leaf=10, min_samples_split=16, n_estimators=200;, score=0.564 total time=   2.3s\n",
      "[CV 1/3; 61/90] START bootstrap=True, criterion=entropy, max_depth=10, max_features=auto, min_samples_leaf=1, min_samples_split=2, n_estimators=100\n"
     ]
    },
    {
     "name": "stderr",
     "output_type": "stream",
     "text": [
      "d:\\googledrive\\wirelessmotionintelligence\\2022-knu-wmi\\venv\\lib\\site-packages\\sklearn\\model_selection\\_validation.py:680: DataConversionWarning: A column-vector y was passed when a 1d array was expected. Please change the shape of y to (n_samples,), for example using ravel().\n",
      "  estimator.fit(X_train, y_train, **fit_params)\n"
     ]
    },
    {
     "name": "stdout",
     "output_type": "stream",
     "text": [
      "[CV 1/3; 61/90] END bootstrap=True, criterion=entropy, max_depth=10, max_features=auto, min_samples_leaf=1, min_samples_split=2, n_estimators=100;, score=0.600 total time=   1.9s\n",
      "[CV 2/3; 61/90] START bootstrap=True, criterion=entropy, max_depth=10, max_features=auto, min_samples_leaf=1, min_samples_split=2, n_estimators=100\n"
     ]
    },
    {
     "name": "stderr",
     "output_type": "stream",
     "text": [
      "d:\\googledrive\\wirelessmotionintelligence\\2022-knu-wmi\\venv\\lib\\site-packages\\sklearn\\model_selection\\_validation.py:680: DataConversionWarning: A column-vector y was passed when a 1d array was expected. Please change the shape of y to (n_samples,), for example using ravel().\n",
      "  estimator.fit(X_train, y_train, **fit_params)\n"
     ]
    },
    {
     "name": "stdout",
     "output_type": "stream",
     "text": [
      "[CV 2/3; 61/90] END bootstrap=True, criterion=entropy, max_depth=10, max_features=auto, min_samples_leaf=1, min_samples_split=2, n_estimators=100;, score=0.641 total time=   1.9s\n",
      "[CV 3/3; 61/90] START bootstrap=True, criterion=entropy, max_depth=10, max_features=auto, min_samples_leaf=1, min_samples_split=2, n_estimators=100\n"
     ]
    },
    {
     "name": "stderr",
     "output_type": "stream",
     "text": [
      "d:\\googledrive\\wirelessmotionintelligence\\2022-knu-wmi\\venv\\lib\\site-packages\\sklearn\\model_selection\\_validation.py:680: DataConversionWarning: A column-vector y was passed when a 1d array was expected. Please change the shape of y to (n_samples,), for example using ravel().\n",
      "  estimator.fit(X_train, y_train, **fit_params)\n"
     ]
    },
    {
     "name": "stdout",
     "output_type": "stream",
     "text": [
      "[CV 3/3; 61/90] END bootstrap=True, criterion=entropy, max_depth=10, max_features=auto, min_samples_leaf=1, min_samples_split=2, n_estimators=100;, score=0.487 total time=   1.7s\n",
      "[CV 1/3; 62/90] START bootstrap=True, criterion=entropy, max_depth=10, max_features=auto, min_samples_leaf=1, min_samples_split=2, n_estimators=200\n"
     ]
    },
    {
     "name": "stderr",
     "output_type": "stream",
     "text": [
      "d:\\googledrive\\wirelessmotionintelligence\\2022-knu-wmi\\venv\\lib\\site-packages\\sklearn\\model_selection\\_validation.py:680: DataConversionWarning: A column-vector y was passed when a 1d array was expected. Please change the shape of y to (n_samples,), for example using ravel().\n",
      "  estimator.fit(X_train, y_train, **fit_params)\n"
     ]
    },
    {
     "name": "stdout",
     "output_type": "stream",
     "text": [
      "[CV 1/3; 62/90] END bootstrap=True, criterion=entropy, max_depth=10, max_features=auto, min_samples_leaf=1, min_samples_split=2, n_estimators=200;, score=0.500 total time=   2.7s\n",
      "[CV 2/3; 62/90] START bootstrap=True, criterion=entropy, max_depth=10, max_features=auto, min_samples_leaf=1, min_samples_split=2, n_estimators=200\n"
     ]
    },
    {
     "name": "stderr",
     "output_type": "stream",
     "text": [
      "d:\\googledrive\\wirelessmotionintelligence\\2022-knu-wmi\\venv\\lib\\site-packages\\sklearn\\model_selection\\_validation.py:680: DataConversionWarning: A column-vector y was passed when a 1d array was expected. Please change the shape of y to (n_samples,), for example using ravel().\n",
      "  estimator.fit(X_train, y_train, **fit_params)\n"
     ]
    },
    {
     "name": "stdout",
     "output_type": "stream",
     "text": [
      "[CV 2/3; 62/90] END bootstrap=True, criterion=entropy, max_depth=10, max_features=auto, min_samples_leaf=1, min_samples_split=2, n_estimators=200;, score=0.538 total time=   2.7s\n",
      "[CV 3/3; 62/90] START bootstrap=True, criterion=entropy, max_depth=10, max_features=auto, min_samples_leaf=1, min_samples_split=2, n_estimators=200\n"
     ]
    },
    {
     "name": "stderr",
     "output_type": "stream",
     "text": [
      "d:\\googledrive\\wirelessmotionintelligence\\2022-knu-wmi\\venv\\lib\\site-packages\\sklearn\\model_selection\\_validation.py:680: DataConversionWarning: A column-vector y was passed when a 1d array was expected. Please change the shape of y to (n_samples,), for example using ravel().\n",
      "  estimator.fit(X_train, y_train, **fit_params)\n"
     ]
    },
    {
     "name": "stdout",
     "output_type": "stream",
     "text": [
      "[CV 3/3; 62/90] END bootstrap=True, criterion=entropy, max_depth=10, max_features=auto, min_samples_leaf=1, min_samples_split=2, n_estimators=200;, score=0.513 total time=   2.2s\n",
      "[CV 1/3; 63/90] START bootstrap=True, criterion=entropy, max_depth=10, max_features=auto, min_samples_leaf=1, min_samples_split=4, n_estimators=100\n"
     ]
    },
    {
     "name": "stderr",
     "output_type": "stream",
     "text": [
      "d:\\googledrive\\wirelessmotionintelligence\\2022-knu-wmi\\venv\\lib\\site-packages\\sklearn\\model_selection\\_validation.py:680: DataConversionWarning: A column-vector y was passed when a 1d array was expected. Please change the shape of y to (n_samples,), for example using ravel().\n",
      "  estimator.fit(X_train, y_train, **fit_params)\n"
     ]
    },
    {
     "name": "stdout",
     "output_type": "stream",
     "text": [
      "[CV 1/3; 63/90] END bootstrap=True, criterion=entropy, max_depth=10, max_features=auto, min_samples_leaf=1, min_samples_split=4, n_estimators=100;, score=0.550 total time=   1.4s\n",
      "[CV 2/3; 63/90] START bootstrap=True, criterion=entropy, max_depth=10, max_features=auto, min_samples_leaf=1, min_samples_split=4, n_estimators=100\n"
     ]
    },
    {
     "name": "stderr",
     "output_type": "stream",
     "text": [
      "d:\\googledrive\\wirelessmotionintelligence\\2022-knu-wmi\\venv\\lib\\site-packages\\sklearn\\model_selection\\_validation.py:680: DataConversionWarning: A column-vector y was passed when a 1d array was expected. Please change the shape of y to (n_samples,), for example using ravel().\n",
      "  estimator.fit(X_train, y_train, **fit_params)\n"
     ]
    },
    {
     "name": "stdout",
     "output_type": "stream",
     "text": [
      "[CV 2/3; 63/90] END bootstrap=True, criterion=entropy, max_depth=10, max_features=auto, min_samples_leaf=1, min_samples_split=4, n_estimators=100;, score=0.641 total time=   1.4s\n",
      "[CV 3/3; 63/90] START bootstrap=True, criterion=entropy, max_depth=10, max_features=auto, min_samples_leaf=1, min_samples_split=4, n_estimators=100\n"
     ]
    },
    {
     "name": "stderr",
     "output_type": "stream",
     "text": [
      "d:\\googledrive\\wirelessmotionintelligence\\2022-knu-wmi\\venv\\lib\\site-packages\\sklearn\\model_selection\\_validation.py:680: DataConversionWarning: A column-vector y was passed when a 1d array was expected. Please change the shape of y to (n_samples,), for example using ravel().\n",
      "  estimator.fit(X_train, y_train, **fit_params)\n"
     ]
    },
    {
     "name": "stdout",
     "output_type": "stream",
     "text": [
      "[CV 3/3; 63/90] END bootstrap=True, criterion=entropy, max_depth=10, max_features=auto, min_samples_leaf=1, min_samples_split=4, n_estimators=100;, score=0.487 total time=   1.4s\n",
      "[CV 1/3; 64/90] START bootstrap=True, criterion=entropy, max_depth=10, max_features=auto, min_samples_leaf=1, min_samples_split=4, n_estimators=200\n"
     ]
    },
    {
     "name": "stderr",
     "output_type": "stream",
     "text": [
      "d:\\googledrive\\wirelessmotionintelligence\\2022-knu-wmi\\venv\\lib\\site-packages\\sklearn\\model_selection\\_validation.py:680: DataConversionWarning: A column-vector y was passed when a 1d array was expected. Please change the shape of y to (n_samples,), for example using ravel().\n",
      "  estimator.fit(X_train, y_train, **fit_params)\n"
     ]
    },
    {
     "name": "stdout",
     "output_type": "stream",
     "text": [
      "[CV 1/3; 64/90] END bootstrap=True, criterion=entropy, max_depth=10, max_features=auto, min_samples_leaf=1, min_samples_split=4, n_estimators=200;, score=0.500 total time=   2.1s\n",
      "[CV 2/3; 64/90] START bootstrap=True, criterion=entropy, max_depth=10, max_features=auto, min_samples_leaf=1, min_samples_split=4, n_estimators=200\n"
     ]
    },
    {
     "name": "stderr",
     "output_type": "stream",
     "text": [
      "d:\\googledrive\\wirelessmotionintelligence\\2022-knu-wmi\\venv\\lib\\site-packages\\sklearn\\model_selection\\_validation.py:680: DataConversionWarning: A column-vector y was passed when a 1d array was expected. Please change the shape of y to (n_samples,), for example using ravel().\n",
      "  estimator.fit(X_train, y_train, **fit_params)\n"
     ]
    },
    {
     "name": "stdout",
     "output_type": "stream",
     "text": [
      "[CV 2/3; 64/90] END bootstrap=True, criterion=entropy, max_depth=10, max_features=auto, min_samples_leaf=1, min_samples_split=4, n_estimators=200;, score=0.564 total time=   2.1s\n",
      "[CV 3/3; 64/90] START bootstrap=True, criterion=entropy, max_depth=10, max_features=auto, min_samples_leaf=1, min_samples_split=4, n_estimators=200\n"
     ]
    },
    {
     "name": "stderr",
     "output_type": "stream",
     "text": [
      "d:\\googledrive\\wirelessmotionintelligence\\2022-knu-wmi\\venv\\lib\\site-packages\\sklearn\\model_selection\\_validation.py:680: DataConversionWarning: A column-vector y was passed when a 1d array was expected. Please change the shape of y to (n_samples,), for example using ravel().\n",
      "  estimator.fit(X_train, y_train, **fit_params)\n"
     ]
    },
    {
     "name": "stdout",
     "output_type": "stream",
     "text": [
      "[CV 3/3; 64/90] END bootstrap=True, criterion=entropy, max_depth=10, max_features=auto, min_samples_leaf=1, min_samples_split=4, n_estimators=200;, score=0.538 total time=   2.2s\n",
      "[CV 1/3; 65/90] START bootstrap=True, criterion=entropy, max_depth=10, max_features=auto, min_samples_leaf=1, min_samples_split=10, n_estimators=100\n"
     ]
    },
    {
     "name": "stderr",
     "output_type": "stream",
     "text": [
      "d:\\googledrive\\wirelessmotionintelligence\\2022-knu-wmi\\venv\\lib\\site-packages\\sklearn\\model_selection\\_validation.py:680: DataConversionWarning: A column-vector y was passed when a 1d array was expected. Please change the shape of y to (n_samples,), for example using ravel().\n",
      "  estimator.fit(X_train, y_train, **fit_params)\n"
     ]
    },
    {
     "name": "stdout",
     "output_type": "stream",
     "text": [
      "[CV 1/3; 65/90] END bootstrap=True, criterion=entropy, max_depth=10, max_features=auto, min_samples_leaf=1, min_samples_split=10, n_estimators=100;, score=0.550 total time=   1.4s\n",
      "[CV 2/3; 65/90] START bootstrap=True, criterion=entropy, max_depth=10, max_features=auto, min_samples_leaf=1, min_samples_split=10, n_estimators=100\n"
     ]
    },
    {
     "name": "stderr",
     "output_type": "stream",
     "text": [
      "d:\\googledrive\\wirelessmotionintelligence\\2022-knu-wmi\\venv\\lib\\site-packages\\sklearn\\model_selection\\_validation.py:680: DataConversionWarning: A column-vector y was passed when a 1d array was expected. Please change the shape of y to (n_samples,), for example using ravel().\n",
      "  estimator.fit(X_train, y_train, **fit_params)\n"
     ]
    },
    {
     "name": "stdout",
     "output_type": "stream",
     "text": [
      "[CV 2/3; 65/90] END bootstrap=True, criterion=entropy, max_depth=10, max_features=auto, min_samples_leaf=1, min_samples_split=10, n_estimators=100;, score=0.641 total time=   1.6s\n",
      "[CV 3/3; 65/90] START bootstrap=True, criterion=entropy, max_depth=10, max_features=auto, min_samples_leaf=1, min_samples_split=10, n_estimators=100\n"
     ]
    },
    {
     "name": "stderr",
     "output_type": "stream",
     "text": [
      "d:\\googledrive\\wirelessmotionintelligence\\2022-knu-wmi\\venv\\lib\\site-packages\\sklearn\\model_selection\\_validation.py:680: DataConversionWarning: A column-vector y was passed when a 1d array was expected. Please change the shape of y to (n_samples,), for example using ravel().\n",
      "  estimator.fit(X_train, y_train, **fit_params)\n"
     ]
    },
    {
     "name": "stdout",
     "output_type": "stream",
     "text": [
      "[CV 3/3; 65/90] END bootstrap=True, criterion=entropy, max_depth=10, max_features=auto, min_samples_leaf=1, min_samples_split=10, n_estimators=100;, score=0.462 total time=   2.0s\n",
      "[CV 1/3; 66/90] START bootstrap=True, criterion=entropy, max_depth=10, max_features=auto, min_samples_leaf=1, min_samples_split=10, n_estimators=200\n"
     ]
    },
    {
     "name": "stderr",
     "output_type": "stream",
     "text": [
      "d:\\googledrive\\wirelessmotionintelligence\\2022-knu-wmi\\venv\\lib\\site-packages\\sklearn\\model_selection\\_validation.py:680: DataConversionWarning: A column-vector y was passed when a 1d array was expected. Please change the shape of y to (n_samples,), for example using ravel().\n",
      "  estimator.fit(X_train, y_train, **fit_params)\n"
     ]
    },
    {
     "name": "stdout",
     "output_type": "stream",
     "text": [
      "[CV 1/3; 66/90] END bootstrap=True, criterion=entropy, max_depth=10, max_features=auto, min_samples_leaf=1, min_samples_split=10, n_estimators=200;, score=0.475 total time=   2.5s\n",
      "[CV 2/3; 66/90] START bootstrap=True, criterion=entropy, max_depth=10, max_features=auto, min_samples_leaf=1, min_samples_split=10, n_estimators=200\n"
     ]
    },
    {
     "name": "stderr",
     "output_type": "stream",
     "text": [
      "d:\\googledrive\\wirelessmotionintelligence\\2022-knu-wmi\\venv\\lib\\site-packages\\sklearn\\model_selection\\_validation.py:680: DataConversionWarning: A column-vector y was passed when a 1d array was expected. Please change the shape of y to (n_samples,), for example using ravel().\n",
      "  estimator.fit(X_train, y_train, **fit_params)\n"
     ]
    },
    {
     "name": "stdout",
     "output_type": "stream",
     "text": [
      "[CV 2/3; 66/90] END bootstrap=True, criterion=entropy, max_depth=10, max_features=auto, min_samples_leaf=1, min_samples_split=10, n_estimators=200;, score=0.615 total time=   2.3s\n",
      "[CV 3/3; 66/90] START bootstrap=True, criterion=entropy, max_depth=10, max_features=auto, min_samples_leaf=1, min_samples_split=10, n_estimators=200\n"
     ]
    },
    {
     "name": "stderr",
     "output_type": "stream",
     "text": [
      "d:\\googledrive\\wirelessmotionintelligence\\2022-knu-wmi\\venv\\lib\\site-packages\\sklearn\\model_selection\\_validation.py:680: DataConversionWarning: A column-vector y was passed when a 1d array was expected. Please change the shape of y to (n_samples,), for example using ravel().\n",
      "  estimator.fit(X_train, y_train, **fit_params)\n"
     ]
    },
    {
     "name": "stdout",
     "output_type": "stream",
     "text": [
      "[CV 3/3; 66/90] END bootstrap=True, criterion=entropy, max_depth=10, max_features=auto, min_samples_leaf=1, min_samples_split=10, n_estimators=200;, score=0.538 total time=   2.8s\n",
      "[CV 1/3; 67/90] START bootstrap=True, criterion=entropy, max_depth=10, max_features=auto, min_samples_leaf=1, min_samples_split=12, n_estimators=100\n"
     ]
    },
    {
     "name": "stderr",
     "output_type": "stream",
     "text": [
      "d:\\googledrive\\wirelessmotionintelligence\\2022-knu-wmi\\venv\\lib\\site-packages\\sklearn\\model_selection\\_validation.py:680: DataConversionWarning: A column-vector y was passed when a 1d array was expected. Please change the shape of y to (n_samples,), for example using ravel().\n",
      "  estimator.fit(X_train, y_train, **fit_params)\n"
     ]
    },
    {
     "name": "stdout",
     "output_type": "stream",
     "text": [
      "[CV 1/3; 67/90] END bootstrap=True, criterion=entropy, max_depth=10, max_features=auto, min_samples_leaf=1, min_samples_split=12, n_estimators=100;, score=0.550 total time=   1.7s\n",
      "[CV 2/3; 67/90] START bootstrap=True, criterion=entropy, max_depth=10, max_features=auto, min_samples_leaf=1, min_samples_split=12, n_estimators=100\n"
     ]
    },
    {
     "name": "stderr",
     "output_type": "stream",
     "text": [
      "d:\\googledrive\\wirelessmotionintelligence\\2022-knu-wmi\\venv\\lib\\site-packages\\sklearn\\model_selection\\_validation.py:680: DataConversionWarning: A column-vector y was passed when a 1d array was expected. Please change the shape of y to (n_samples,), for example using ravel().\n",
      "  estimator.fit(X_train, y_train, **fit_params)\n"
     ]
    },
    {
     "name": "stdout",
     "output_type": "stream",
     "text": [
      "[CV 2/3; 67/90] END bootstrap=True, criterion=entropy, max_depth=10, max_features=auto, min_samples_leaf=1, min_samples_split=12, n_estimators=100;, score=0.615 total time=   1.7s\n",
      "[CV 3/3; 67/90] START bootstrap=True, criterion=entropy, max_depth=10, max_features=auto, min_samples_leaf=1, min_samples_split=12, n_estimators=100\n"
     ]
    },
    {
     "name": "stderr",
     "output_type": "stream",
     "text": [
      "d:\\googledrive\\wirelessmotionintelligence\\2022-knu-wmi\\venv\\lib\\site-packages\\sklearn\\model_selection\\_validation.py:680: DataConversionWarning: A column-vector y was passed when a 1d array was expected. Please change the shape of y to (n_samples,), for example using ravel().\n",
      "  estimator.fit(X_train, y_train, **fit_params)\n"
     ]
    },
    {
     "name": "stdout",
     "output_type": "stream",
     "text": [
      "[CV 3/3; 67/90] END bootstrap=True, criterion=entropy, max_depth=10, max_features=auto, min_samples_leaf=1, min_samples_split=12, n_estimators=100;, score=0.487 total time=   1.8s\n",
      "[CV 1/3; 68/90] START bootstrap=True, criterion=entropy, max_depth=10, max_features=auto, min_samples_leaf=1, min_samples_split=12, n_estimators=200\n"
     ]
    },
    {
     "name": "stderr",
     "output_type": "stream",
     "text": [
      "d:\\googledrive\\wirelessmotionintelligence\\2022-knu-wmi\\venv\\lib\\site-packages\\sklearn\\model_selection\\_validation.py:680: DataConversionWarning: A column-vector y was passed when a 1d array was expected. Please change the shape of y to (n_samples,), for example using ravel().\n",
      "  estimator.fit(X_train, y_train, **fit_params)\n"
     ]
    },
    {
     "name": "stdout",
     "output_type": "stream",
     "text": [
      "[CV 1/3; 68/90] END bootstrap=True, criterion=entropy, max_depth=10, max_features=auto, min_samples_leaf=1, min_samples_split=12, n_estimators=200;, score=0.475 total time=   2.7s\n",
      "[CV 2/3; 68/90] START bootstrap=True, criterion=entropy, max_depth=10, max_features=auto, min_samples_leaf=1, min_samples_split=12, n_estimators=200\n"
     ]
    },
    {
     "name": "stderr",
     "output_type": "stream",
     "text": [
      "d:\\googledrive\\wirelessmotionintelligence\\2022-knu-wmi\\venv\\lib\\site-packages\\sklearn\\model_selection\\_validation.py:680: DataConversionWarning: A column-vector y was passed when a 1d array was expected. Please change the shape of y to (n_samples,), for example using ravel().\n",
      "  estimator.fit(X_train, y_train, **fit_params)\n"
     ]
    },
    {
     "name": "stdout",
     "output_type": "stream",
     "text": [
      "[CV 2/3; 68/90] END bootstrap=True, criterion=entropy, max_depth=10, max_features=auto, min_samples_leaf=1, min_samples_split=12, n_estimators=200;, score=0.641 total time=   2.3s\n",
      "[CV 3/3; 68/90] START bootstrap=True, criterion=entropy, max_depth=10, max_features=auto, min_samples_leaf=1, min_samples_split=12, n_estimators=200\n"
     ]
    },
    {
     "name": "stderr",
     "output_type": "stream",
     "text": [
      "d:\\googledrive\\wirelessmotionintelligence\\2022-knu-wmi\\venv\\lib\\site-packages\\sklearn\\model_selection\\_validation.py:680: DataConversionWarning: A column-vector y was passed when a 1d array was expected. Please change the shape of y to (n_samples,), for example using ravel().\n",
      "  estimator.fit(X_train, y_train, **fit_params)\n"
     ]
    },
    {
     "name": "stdout",
     "output_type": "stream",
     "text": [
      "[CV 3/3; 68/90] END bootstrap=True, criterion=entropy, max_depth=10, max_features=auto, min_samples_leaf=1, min_samples_split=12, n_estimators=200;, score=0.538 total time=   2.3s\n",
      "[CV 1/3; 69/90] START bootstrap=True, criterion=entropy, max_depth=10, max_features=auto, min_samples_leaf=1, min_samples_split=16, n_estimators=100\n"
     ]
    },
    {
     "name": "stderr",
     "output_type": "stream",
     "text": [
      "d:\\googledrive\\wirelessmotionintelligence\\2022-knu-wmi\\venv\\lib\\site-packages\\sklearn\\model_selection\\_validation.py:680: DataConversionWarning: A column-vector y was passed when a 1d array was expected. Please change the shape of y to (n_samples,), for example using ravel().\n",
      "  estimator.fit(X_train, y_train, **fit_params)\n"
     ]
    },
    {
     "name": "stdout",
     "output_type": "stream",
     "text": [
      "[CV 1/3; 69/90] END bootstrap=True, criterion=entropy, max_depth=10, max_features=auto, min_samples_leaf=1, min_samples_split=16, n_estimators=100;, score=0.550 total time=   1.4s\n",
      "[CV 2/3; 69/90] START bootstrap=True, criterion=entropy, max_depth=10, max_features=auto, min_samples_leaf=1, min_samples_split=16, n_estimators=100\n"
     ]
    },
    {
     "name": "stderr",
     "output_type": "stream",
     "text": [
      "d:\\googledrive\\wirelessmotionintelligence\\2022-knu-wmi\\venv\\lib\\site-packages\\sklearn\\model_selection\\_validation.py:680: DataConversionWarning: A column-vector y was passed when a 1d array was expected. Please change the shape of y to (n_samples,), for example using ravel().\n",
      "  estimator.fit(X_train, y_train, **fit_params)\n"
     ]
    },
    {
     "name": "stdout",
     "output_type": "stream",
     "text": [
      "[CV 2/3; 69/90] END bootstrap=True, criterion=entropy, max_depth=10, max_features=auto, min_samples_leaf=1, min_samples_split=16, n_estimators=100;, score=0.590 total time=   1.4s\n",
      "[CV 3/3; 69/90] START bootstrap=True, criterion=entropy, max_depth=10, max_features=auto, min_samples_leaf=1, min_samples_split=16, n_estimators=100\n"
     ]
    },
    {
     "name": "stderr",
     "output_type": "stream",
     "text": [
      "d:\\googledrive\\wirelessmotionintelligence\\2022-knu-wmi\\venv\\lib\\site-packages\\sklearn\\model_selection\\_validation.py:680: DataConversionWarning: A column-vector y was passed when a 1d array was expected. Please change the shape of y to (n_samples,), for example using ravel().\n",
      "  estimator.fit(X_train, y_train, **fit_params)\n"
     ]
    },
    {
     "name": "stdout",
     "output_type": "stream",
     "text": [
      "[CV 3/3; 69/90] END bootstrap=True, criterion=entropy, max_depth=10, max_features=auto, min_samples_leaf=1, min_samples_split=16, n_estimators=100;, score=0.513 total time=   1.5s\n",
      "[CV 1/3; 70/90] START bootstrap=True, criterion=entropy, max_depth=10, max_features=auto, min_samples_leaf=1, min_samples_split=16, n_estimators=200\n"
     ]
    },
    {
     "name": "stderr",
     "output_type": "stream",
     "text": [
      "d:\\googledrive\\wirelessmotionintelligence\\2022-knu-wmi\\venv\\lib\\site-packages\\sklearn\\model_selection\\_validation.py:680: DataConversionWarning: A column-vector y was passed when a 1d array was expected. Please change the shape of y to (n_samples,), for example using ravel().\n",
      "  estimator.fit(X_train, y_train, **fit_params)\n"
     ]
    },
    {
     "name": "stdout",
     "output_type": "stream",
     "text": [
      "[CV 1/3; 70/90] END bootstrap=True, criterion=entropy, max_depth=10, max_features=auto, min_samples_leaf=1, min_samples_split=16, n_estimators=200;, score=0.525 total time=   2.4s\n",
      "[CV 2/3; 70/90] START bootstrap=True, criterion=entropy, max_depth=10, max_features=auto, min_samples_leaf=1, min_samples_split=16, n_estimators=200\n"
     ]
    },
    {
     "name": "stderr",
     "output_type": "stream",
     "text": [
      "d:\\googledrive\\wirelessmotionintelligence\\2022-knu-wmi\\venv\\lib\\site-packages\\sklearn\\model_selection\\_validation.py:680: DataConversionWarning: A column-vector y was passed when a 1d array was expected. Please change the shape of y to (n_samples,), for example using ravel().\n",
      "  estimator.fit(X_train, y_train, **fit_params)\n"
     ]
    },
    {
     "name": "stdout",
     "output_type": "stream",
     "text": [
      "[CV 2/3; 70/90] END bootstrap=True, criterion=entropy, max_depth=10, max_features=auto, min_samples_leaf=1, min_samples_split=16, n_estimators=200;, score=0.590 total time=   2.7s\n",
      "[CV 3/3; 70/90] START bootstrap=True, criterion=entropy, max_depth=10, max_features=auto, min_samples_leaf=1, min_samples_split=16, n_estimators=200\n"
     ]
    },
    {
     "name": "stderr",
     "output_type": "stream",
     "text": [
      "d:\\googledrive\\wirelessmotionintelligence\\2022-knu-wmi\\venv\\lib\\site-packages\\sklearn\\model_selection\\_validation.py:680: DataConversionWarning: A column-vector y was passed when a 1d array was expected. Please change the shape of y to (n_samples,), for example using ravel().\n",
      "  estimator.fit(X_train, y_train, **fit_params)\n"
     ]
    },
    {
     "name": "stdout",
     "output_type": "stream",
     "text": [
      "[CV 3/3; 70/90] END bootstrap=True, criterion=entropy, max_depth=10, max_features=auto, min_samples_leaf=1, min_samples_split=16, n_estimators=200;, score=0.564 total time=   2.6s\n",
      "[CV 1/3; 71/90] START bootstrap=True, criterion=entropy, max_depth=10, max_features=auto, min_samples_leaf=5, min_samples_split=2, n_estimators=100\n"
     ]
    },
    {
     "name": "stderr",
     "output_type": "stream",
     "text": [
      "d:\\googledrive\\wirelessmotionintelligence\\2022-knu-wmi\\venv\\lib\\site-packages\\sklearn\\model_selection\\_validation.py:680: DataConversionWarning: A column-vector y was passed when a 1d array was expected. Please change the shape of y to (n_samples,), for example using ravel().\n",
      "  estimator.fit(X_train, y_train, **fit_params)\n"
     ]
    },
    {
     "name": "stdout",
     "output_type": "stream",
     "text": [
      "[CV 1/3; 71/90] END bootstrap=True, criterion=entropy, max_depth=10, max_features=auto, min_samples_leaf=5, min_samples_split=2, n_estimators=100;, score=0.525 total time=   1.6s\n",
      "[CV 2/3; 71/90] START bootstrap=True, criterion=entropy, max_depth=10, max_features=auto, min_samples_leaf=5, min_samples_split=2, n_estimators=100\n"
     ]
    },
    {
     "name": "stderr",
     "output_type": "stream",
     "text": [
      "d:\\googledrive\\wirelessmotionintelligence\\2022-knu-wmi\\venv\\lib\\site-packages\\sklearn\\model_selection\\_validation.py:680: DataConversionWarning: A column-vector y was passed when a 1d array was expected. Please change the shape of y to (n_samples,), for example using ravel().\n",
      "  estimator.fit(X_train, y_train, **fit_params)\n"
     ]
    },
    {
     "name": "stdout",
     "output_type": "stream",
     "text": [
      "[CV 2/3; 71/90] END bootstrap=True, criterion=entropy, max_depth=10, max_features=auto, min_samples_leaf=5, min_samples_split=2, n_estimators=100;, score=0.615 total time=   1.5s\n",
      "[CV 3/3; 71/90] START bootstrap=True, criterion=entropy, max_depth=10, max_features=auto, min_samples_leaf=5, min_samples_split=2, n_estimators=100\n"
     ]
    },
    {
     "name": "stderr",
     "output_type": "stream",
     "text": [
      "d:\\googledrive\\wirelessmotionintelligence\\2022-knu-wmi\\venv\\lib\\site-packages\\sklearn\\model_selection\\_validation.py:680: DataConversionWarning: A column-vector y was passed when a 1d array was expected. Please change the shape of y to (n_samples,), for example using ravel().\n",
      "  estimator.fit(X_train, y_train, **fit_params)\n"
     ]
    },
    {
     "name": "stdout",
     "output_type": "stream",
     "text": [
      "[CV 3/3; 71/90] END bootstrap=True, criterion=entropy, max_depth=10, max_features=auto, min_samples_leaf=5, min_samples_split=2, n_estimators=100;, score=0.487 total time=   1.5s\n",
      "[CV 1/3; 72/90] START bootstrap=True, criterion=entropy, max_depth=10, max_features=auto, min_samples_leaf=5, min_samples_split=2, n_estimators=200\n"
     ]
    },
    {
     "name": "stderr",
     "output_type": "stream",
     "text": [
      "d:\\googledrive\\wirelessmotionintelligence\\2022-knu-wmi\\venv\\lib\\site-packages\\sklearn\\model_selection\\_validation.py:680: DataConversionWarning: A column-vector y was passed when a 1d array was expected. Please change the shape of y to (n_samples,), for example using ravel().\n",
      "  estimator.fit(X_train, y_train, **fit_params)\n"
     ]
    },
    {
     "name": "stdout",
     "output_type": "stream",
     "text": [
      "[CV 1/3; 72/90] END bootstrap=True, criterion=entropy, max_depth=10, max_features=auto, min_samples_leaf=5, min_samples_split=2, n_estimators=200;, score=0.500 total time=   2.3s\n",
      "[CV 2/3; 72/90] START bootstrap=True, criterion=entropy, max_depth=10, max_features=auto, min_samples_leaf=5, min_samples_split=2, n_estimators=200\n"
     ]
    },
    {
     "name": "stderr",
     "output_type": "stream",
     "text": [
      "d:\\googledrive\\wirelessmotionintelligence\\2022-knu-wmi\\venv\\lib\\site-packages\\sklearn\\model_selection\\_validation.py:680: DataConversionWarning: A column-vector y was passed when a 1d array was expected. Please change the shape of y to (n_samples,), for example using ravel().\n",
      "  estimator.fit(X_train, y_train, **fit_params)\n"
     ]
    },
    {
     "name": "stdout",
     "output_type": "stream",
     "text": [
      "[CV 2/3; 72/90] END bootstrap=True, criterion=entropy, max_depth=10, max_features=auto, min_samples_leaf=5, min_samples_split=2, n_estimators=200;, score=0.615 total time=   2.2s\n",
      "[CV 3/3; 72/90] START bootstrap=True, criterion=entropy, max_depth=10, max_features=auto, min_samples_leaf=5, min_samples_split=2, n_estimators=200\n"
     ]
    },
    {
     "name": "stderr",
     "output_type": "stream",
     "text": [
      "d:\\googledrive\\wirelessmotionintelligence\\2022-knu-wmi\\venv\\lib\\site-packages\\sklearn\\model_selection\\_validation.py:680: DataConversionWarning: A column-vector y was passed when a 1d array was expected. Please change the shape of y to (n_samples,), for example using ravel().\n",
      "  estimator.fit(X_train, y_train, **fit_params)\n"
     ]
    },
    {
     "name": "stdout",
     "output_type": "stream",
     "text": [
      "[CV 3/3; 72/90] END bootstrap=True, criterion=entropy, max_depth=10, max_features=auto, min_samples_leaf=5, min_samples_split=2, n_estimators=200;, score=0.513 total time=   2.2s\n",
      "[CV 1/3; 73/90] START bootstrap=True, criterion=entropy, max_depth=10, max_features=auto, min_samples_leaf=5, min_samples_split=4, n_estimators=100\n"
     ]
    },
    {
     "name": "stderr",
     "output_type": "stream",
     "text": [
      "d:\\googledrive\\wirelessmotionintelligence\\2022-knu-wmi\\venv\\lib\\site-packages\\sklearn\\model_selection\\_validation.py:680: DataConversionWarning: A column-vector y was passed when a 1d array was expected. Please change the shape of y to (n_samples,), for example using ravel().\n",
      "  estimator.fit(X_train, y_train, **fit_params)\n"
     ]
    },
    {
     "name": "stdout",
     "output_type": "stream",
     "text": [
      "[CV 1/3; 73/90] END bootstrap=True, criterion=entropy, max_depth=10, max_features=auto, min_samples_leaf=5, min_samples_split=4, n_estimators=100;, score=0.525 total time=   1.4s\n",
      "[CV 2/3; 73/90] START bootstrap=True, criterion=entropy, max_depth=10, max_features=auto, min_samples_leaf=5, min_samples_split=4, n_estimators=100\n"
     ]
    },
    {
     "name": "stderr",
     "output_type": "stream",
     "text": [
      "d:\\googledrive\\wirelessmotionintelligence\\2022-knu-wmi\\venv\\lib\\site-packages\\sklearn\\model_selection\\_validation.py:680: DataConversionWarning: A column-vector y was passed when a 1d array was expected. Please change the shape of y to (n_samples,), for example using ravel().\n",
      "  estimator.fit(X_train, y_train, **fit_params)\n"
     ]
    },
    {
     "name": "stdout",
     "output_type": "stream",
     "text": [
      "[CV 2/3; 73/90] END bootstrap=True, criterion=entropy, max_depth=10, max_features=auto, min_samples_leaf=5, min_samples_split=4, n_estimators=100;, score=0.615 total time=   1.4s\n",
      "[CV 3/3; 73/90] START bootstrap=True, criterion=entropy, max_depth=10, max_features=auto, min_samples_leaf=5, min_samples_split=4, n_estimators=100\n"
     ]
    },
    {
     "name": "stderr",
     "output_type": "stream",
     "text": [
      "d:\\googledrive\\wirelessmotionintelligence\\2022-knu-wmi\\venv\\lib\\site-packages\\sklearn\\model_selection\\_validation.py:680: DataConversionWarning: A column-vector y was passed when a 1d array was expected. Please change the shape of y to (n_samples,), for example using ravel().\n",
      "  estimator.fit(X_train, y_train, **fit_params)\n"
     ]
    },
    {
     "name": "stdout",
     "output_type": "stream",
     "text": [
      "[CV 3/3; 73/90] END bootstrap=True, criterion=entropy, max_depth=10, max_features=auto, min_samples_leaf=5, min_samples_split=4, n_estimators=100;, score=0.487 total time=   1.4s\n",
      "[CV 1/3; 74/90] START bootstrap=True, criterion=entropy, max_depth=10, max_features=auto, min_samples_leaf=5, min_samples_split=4, n_estimators=200\n"
     ]
    },
    {
     "name": "stderr",
     "output_type": "stream",
     "text": [
      "d:\\googledrive\\wirelessmotionintelligence\\2022-knu-wmi\\venv\\lib\\site-packages\\sklearn\\model_selection\\_validation.py:680: DataConversionWarning: A column-vector y was passed when a 1d array was expected. Please change the shape of y to (n_samples,), for example using ravel().\n",
      "  estimator.fit(X_train, y_train, **fit_params)\n"
     ]
    },
    {
     "name": "stdout",
     "output_type": "stream",
     "text": [
      "[CV 1/3; 74/90] END bootstrap=True, criterion=entropy, max_depth=10, max_features=auto, min_samples_leaf=5, min_samples_split=4, n_estimators=200;, score=0.500 total time=   2.1s\n",
      "[CV 2/3; 74/90] START bootstrap=True, criterion=entropy, max_depth=10, max_features=auto, min_samples_leaf=5, min_samples_split=4, n_estimators=200\n"
     ]
    },
    {
     "name": "stderr",
     "output_type": "stream",
     "text": [
      "d:\\googledrive\\wirelessmotionintelligence\\2022-knu-wmi\\venv\\lib\\site-packages\\sklearn\\model_selection\\_validation.py:680: DataConversionWarning: A column-vector y was passed when a 1d array was expected. Please change the shape of y to (n_samples,), for example using ravel().\n",
      "  estimator.fit(X_train, y_train, **fit_params)\n"
     ]
    },
    {
     "name": "stdout",
     "output_type": "stream",
     "text": [
      "[CV 2/3; 74/90] END bootstrap=True, criterion=entropy, max_depth=10, max_features=auto, min_samples_leaf=5, min_samples_split=4, n_estimators=200;, score=0.615 total time=   2.2s\n",
      "[CV 3/3; 74/90] START bootstrap=True, criterion=entropy, max_depth=10, max_features=auto, min_samples_leaf=5, min_samples_split=4, n_estimators=200\n"
     ]
    },
    {
     "name": "stderr",
     "output_type": "stream",
     "text": [
      "d:\\googledrive\\wirelessmotionintelligence\\2022-knu-wmi\\venv\\lib\\site-packages\\sklearn\\model_selection\\_validation.py:680: DataConversionWarning: A column-vector y was passed when a 1d array was expected. Please change the shape of y to (n_samples,), for example using ravel().\n",
      "  estimator.fit(X_train, y_train, **fit_params)\n"
     ]
    },
    {
     "name": "stdout",
     "output_type": "stream",
     "text": [
      "[CV 3/3; 74/90] END bootstrap=True, criterion=entropy, max_depth=10, max_features=auto, min_samples_leaf=5, min_samples_split=4, n_estimators=200;, score=0.513 total time=   2.2s\n",
      "[CV 1/3; 75/90] START bootstrap=True, criterion=entropy, max_depth=10, max_features=auto, min_samples_leaf=5, min_samples_split=10, n_estimators=100\n"
     ]
    },
    {
     "name": "stderr",
     "output_type": "stream",
     "text": [
      "d:\\googledrive\\wirelessmotionintelligence\\2022-knu-wmi\\venv\\lib\\site-packages\\sklearn\\model_selection\\_validation.py:680: DataConversionWarning: A column-vector y was passed when a 1d array was expected. Please change the shape of y to (n_samples,), for example using ravel().\n",
      "  estimator.fit(X_train, y_train, **fit_params)\n"
     ]
    },
    {
     "name": "stdout",
     "output_type": "stream",
     "text": [
      "[CV 1/3; 75/90] END bootstrap=True, criterion=entropy, max_depth=10, max_features=auto, min_samples_leaf=5, min_samples_split=10, n_estimators=100;, score=0.525 total time=   1.4s\n",
      "[CV 2/3; 75/90] START bootstrap=True, criterion=entropy, max_depth=10, max_features=auto, min_samples_leaf=5, min_samples_split=10, n_estimators=100\n"
     ]
    },
    {
     "name": "stderr",
     "output_type": "stream",
     "text": [
      "d:\\googledrive\\wirelessmotionintelligence\\2022-knu-wmi\\venv\\lib\\site-packages\\sklearn\\model_selection\\_validation.py:680: DataConversionWarning: A column-vector y was passed when a 1d array was expected. Please change the shape of y to (n_samples,), for example using ravel().\n",
      "  estimator.fit(X_train, y_train, **fit_params)\n"
     ]
    },
    {
     "name": "stdout",
     "output_type": "stream",
     "text": [
      "[CV 2/3; 75/90] END bootstrap=True, criterion=entropy, max_depth=10, max_features=auto, min_samples_leaf=5, min_samples_split=10, n_estimators=100;, score=0.615 total time=   1.4s\n",
      "[CV 3/3; 75/90] START bootstrap=True, criterion=entropy, max_depth=10, max_features=auto, min_samples_leaf=5, min_samples_split=10, n_estimators=100\n"
     ]
    },
    {
     "name": "stderr",
     "output_type": "stream",
     "text": [
      "d:\\googledrive\\wirelessmotionintelligence\\2022-knu-wmi\\venv\\lib\\site-packages\\sklearn\\model_selection\\_validation.py:680: DataConversionWarning: A column-vector y was passed when a 1d array was expected. Please change the shape of y to (n_samples,), for example using ravel().\n",
      "  estimator.fit(X_train, y_train, **fit_params)\n"
     ]
    },
    {
     "name": "stdout",
     "output_type": "stream",
     "text": [
      "[CV 3/3; 75/90] END bootstrap=True, criterion=entropy, max_depth=10, max_features=auto, min_samples_leaf=5, min_samples_split=10, n_estimators=100;, score=0.487 total time=   1.8s\n",
      "[CV 1/3; 76/90] START bootstrap=True, criterion=entropy, max_depth=10, max_features=auto, min_samples_leaf=5, min_samples_split=10, n_estimators=200\n"
     ]
    },
    {
     "name": "stderr",
     "output_type": "stream",
     "text": [
      "d:\\googledrive\\wirelessmotionintelligence\\2022-knu-wmi\\venv\\lib\\site-packages\\sklearn\\model_selection\\_validation.py:680: DataConversionWarning: A column-vector y was passed when a 1d array was expected. Please change the shape of y to (n_samples,), for example using ravel().\n",
      "  estimator.fit(X_train, y_train, **fit_params)\n"
     ]
    },
    {
     "name": "stdout",
     "output_type": "stream",
     "text": [
      "[CV 1/3; 76/90] END bootstrap=True, criterion=entropy, max_depth=10, max_features=auto, min_samples_leaf=5, min_samples_split=10, n_estimators=200;, score=0.500 total time=   2.6s\n",
      "[CV 2/3; 76/90] START bootstrap=True, criterion=entropy, max_depth=10, max_features=auto, min_samples_leaf=5, min_samples_split=10, n_estimators=200\n"
     ]
    },
    {
     "name": "stderr",
     "output_type": "stream",
     "text": [
      "d:\\googledrive\\wirelessmotionintelligence\\2022-knu-wmi\\venv\\lib\\site-packages\\sklearn\\model_selection\\_validation.py:680: DataConversionWarning: A column-vector y was passed when a 1d array was expected. Please change the shape of y to (n_samples,), for example using ravel().\n",
      "  estimator.fit(X_train, y_train, **fit_params)\n"
     ]
    },
    {
     "name": "stdout",
     "output_type": "stream",
     "text": [
      "[CV 2/3; 76/90] END bootstrap=True, criterion=entropy, max_depth=10, max_features=auto, min_samples_leaf=5, min_samples_split=10, n_estimators=200;, score=0.615 total time=   2.6s\n",
      "[CV 3/3; 76/90] START bootstrap=True, criterion=entropy, max_depth=10, max_features=auto, min_samples_leaf=5, min_samples_split=10, n_estimators=200\n"
     ]
    },
    {
     "name": "stderr",
     "output_type": "stream",
     "text": [
      "d:\\googledrive\\wirelessmotionintelligence\\2022-knu-wmi\\venv\\lib\\site-packages\\sklearn\\model_selection\\_validation.py:680: DataConversionWarning: A column-vector y was passed when a 1d array was expected. Please change the shape of y to (n_samples,), for example using ravel().\n",
      "  estimator.fit(X_train, y_train, **fit_params)\n"
     ]
    },
    {
     "name": "stdout",
     "output_type": "stream",
     "text": [
      "[CV 3/3; 76/90] END bootstrap=True, criterion=entropy, max_depth=10, max_features=auto, min_samples_leaf=5, min_samples_split=10, n_estimators=200;, score=0.513 total time=   2.5s\n",
      "[CV 1/3; 77/90] START bootstrap=True, criterion=entropy, max_depth=10, max_features=auto, min_samples_leaf=5, min_samples_split=12, n_estimators=100\n"
     ]
    },
    {
     "name": "stderr",
     "output_type": "stream",
     "text": [
      "d:\\googledrive\\wirelessmotionintelligence\\2022-knu-wmi\\venv\\lib\\site-packages\\sklearn\\model_selection\\_validation.py:680: DataConversionWarning: A column-vector y was passed when a 1d array was expected. Please change the shape of y to (n_samples,), for example using ravel().\n",
      "  estimator.fit(X_train, y_train, **fit_params)\n"
     ]
    },
    {
     "name": "stdout",
     "output_type": "stream",
     "text": [
      "[CV 1/3; 77/90] END bootstrap=True, criterion=entropy, max_depth=10, max_features=auto, min_samples_leaf=5, min_samples_split=12, n_estimators=100;, score=0.550 total time=   1.8s\n",
      "[CV 2/3; 77/90] START bootstrap=True, criterion=entropy, max_depth=10, max_features=auto, min_samples_leaf=5, min_samples_split=12, n_estimators=100\n"
     ]
    },
    {
     "name": "stderr",
     "output_type": "stream",
     "text": [
      "d:\\googledrive\\wirelessmotionintelligence\\2022-knu-wmi\\venv\\lib\\site-packages\\sklearn\\model_selection\\_validation.py:680: DataConversionWarning: A column-vector y was passed when a 1d array was expected. Please change the shape of y to (n_samples,), for example using ravel().\n",
      "  estimator.fit(X_train, y_train, **fit_params)\n"
     ]
    },
    {
     "name": "stdout",
     "output_type": "stream",
     "text": [
      "[CV 2/3; 77/90] END bootstrap=True, criterion=entropy, max_depth=10, max_features=auto, min_samples_leaf=5, min_samples_split=12, n_estimators=100;, score=0.641 total time=   1.8s\n",
      "[CV 3/3; 77/90] START bootstrap=True, criterion=entropy, max_depth=10, max_features=auto, min_samples_leaf=5, min_samples_split=12, n_estimators=100\n"
     ]
    },
    {
     "name": "stderr",
     "output_type": "stream",
     "text": [
      "d:\\googledrive\\wirelessmotionintelligence\\2022-knu-wmi\\venv\\lib\\site-packages\\sklearn\\model_selection\\_validation.py:680: DataConversionWarning: A column-vector y was passed when a 1d array was expected. Please change the shape of y to (n_samples,), for example using ravel().\n",
      "  estimator.fit(X_train, y_train, **fit_params)\n"
     ]
    },
    {
     "name": "stdout",
     "output_type": "stream",
     "text": [
      "[CV 3/3; 77/90] END bootstrap=True, criterion=entropy, max_depth=10, max_features=auto, min_samples_leaf=5, min_samples_split=12, n_estimators=100;, score=0.487 total time=   1.6s\n",
      "[CV 1/3; 78/90] START bootstrap=True, criterion=entropy, max_depth=10, max_features=auto, min_samples_leaf=5, min_samples_split=12, n_estimators=200\n"
     ]
    },
    {
     "name": "stderr",
     "output_type": "stream",
     "text": [
      "d:\\googledrive\\wirelessmotionintelligence\\2022-knu-wmi\\venv\\lib\\site-packages\\sklearn\\model_selection\\_validation.py:680: DataConversionWarning: A column-vector y was passed when a 1d array was expected. Please change the shape of y to (n_samples,), for example using ravel().\n",
      "  estimator.fit(X_train, y_train, **fit_params)\n"
     ]
    },
    {
     "name": "stdout",
     "output_type": "stream",
     "text": [
      "[CV 1/3; 78/90] END bootstrap=True, criterion=entropy, max_depth=10, max_features=auto, min_samples_leaf=5, min_samples_split=12, n_estimators=200;, score=0.500 total time=   2.6s\n",
      "[CV 2/3; 78/90] START bootstrap=True, criterion=entropy, max_depth=10, max_features=auto, min_samples_leaf=5, min_samples_split=12, n_estimators=200\n"
     ]
    },
    {
     "name": "stderr",
     "output_type": "stream",
     "text": [
      "d:\\googledrive\\wirelessmotionintelligence\\2022-knu-wmi\\venv\\lib\\site-packages\\sklearn\\model_selection\\_validation.py:680: DataConversionWarning: A column-vector y was passed when a 1d array was expected. Please change the shape of y to (n_samples,), for example using ravel().\n",
      "  estimator.fit(X_train, y_train, **fit_params)\n"
     ]
    },
    {
     "name": "stdout",
     "output_type": "stream",
     "text": [
      "[CV 2/3; 78/90] END bootstrap=True, criterion=entropy, max_depth=10, max_features=auto, min_samples_leaf=5, min_samples_split=12, n_estimators=200;, score=0.615 total time=   2.5s\n",
      "[CV 3/3; 78/90] START bootstrap=True, criterion=entropy, max_depth=10, max_features=auto, min_samples_leaf=5, min_samples_split=12, n_estimators=200\n"
     ]
    },
    {
     "name": "stderr",
     "output_type": "stream",
     "text": [
      "d:\\googledrive\\wirelessmotionintelligence\\2022-knu-wmi\\venv\\lib\\site-packages\\sklearn\\model_selection\\_validation.py:680: DataConversionWarning: A column-vector y was passed when a 1d array was expected. Please change the shape of y to (n_samples,), for example using ravel().\n",
      "  estimator.fit(X_train, y_train, **fit_params)\n"
     ]
    },
    {
     "name": "stdout",
     "output_type": "stream",
     "text": [
      "[CV 3/3; 78/90] END bootstrap=True, criterion=entropy, max_depth=10, max_features=auto, min_samples_leaf=5, min_samples_split=12, n_estimators=200;, score=0.513 total time=   2.3s\n",
      "[CV 1/3; 79/90] START bootstrap=True, criterion=entropy, max_depth=10, max_features=auto, min_samples_leaf=5, min_samples_split=16, n_estimators=100\n"
     ]
    },
    {
     "name": "stderr",
     "output_type": "stream",
     "text": [
      "d:\\googledrive\\wirelessmotionintelligence\\2022-knu-wmi\\venv\\lib\\site-packages\\sklearn\\model_selection\\_validation.py:680: DataConversionWarning: A column-vector y was passed when a 1d array was expected. Please change the shape of y to (n_samples,), for example using ravel().\n",
      "  estimator.fit(X_train, y_train, **fit_params)\n"
     ]
    },
    {
     "name": "stdout",
     "output_type": "stream",
     "text": [
      "[CV 1/3; 79/90] END bootstrap=True, criterion=entropy, max_depth=10, max_features=auto, min_samples_leaf=5, min_samples_split=16, n_estimators=100;, score=0.525 total time=   1.5s\n",
      "[CV 2/3; 79/90] START bootstrap=True, criterion=entropy, max_depth=10, max_features=auto, min_samples_leaf=5, min_samples_split=16, n_estimators=100\n"
     ]
    },
    {
     "name": "stderr",
     "output_type": "stream",
     "text": [
      "d:\\googledrive\\wirelessmotionintelligence\\2022-knu-wmi\\venv\\lib\\site-packages\\sklearn\\model_selection\\_validation.py:680: DataConversionWarning: A column-vector y was passed when a 1d array was expected. Please change the shape of y to (n_samples,), for example using ravel().\n",
      "  estimator.fit(X_train, y_train, **fit_params)\n"
     ]
    },
    {
     "name": "stdout",
     "output_type": "stream",
     "text": [
      "[CV 2/3; 79/90] END bootstrap=True, criterion=entropy, max_depth=10, max_features=auto, min_samples_leaf=5, min_samples_split=16, n_estimators=100;, score=0.641 total time=   1.7s\n",
      "[CV 3/3; 79/90] START bootstrap=True, criterion=entropy, max_depth=10, max_features=auto, min_samples_leaf=5, min_samples_split=16, n_estimators=100\n"
     ]
    },
    {
     "name": "stderr",
     "output_type": "stream",
     "text": [
      "d:\\googledrive\\wirelessmotionintelligence\\2022-knu-wmi\\venv\\lib\\site-packages\\sklearn\\model_selection\\_validation.py:680: DataConversionWarning: A column-vector y was passed when a 1d array was expected. Please change the shape of y to (n_samples,), for example using ravel().\n",
      "  estimator.fit(X_train, y_train, **fit_params)\n"
     ]
    },
    {
     "name": "stdout",
     "output_type": "stream",
     "text": [
      "[CV 3/3; 79/90] END bootstrap=True, criterion=entropy, max_depth=10, max_features=auto, min_samples_leaf=5, min_samples_split=16, n_estimators=100;, score=0.462 total time=   1.6s\n",
      "[CV 1/3; 80/90] START bootstrap=True, criterion=entropy, max_depth=10, max_features=auto, min_samples_leaf=5, min_samples_split=16, n_estimators=200\n"
     ]
    },
    {
     "name": "stderr",
     "output_type": "stream",
     "text": [
      "d:\\googledrive\\wirelessmotionintelligence\\2022-knu-wmi\\venv\\lib\\site-packages\\sklearn\\model_selection\\_validation.py:680: DataConversionWarning: A column-vector y was passed when a 1d array was expected. Please change the shape of y to (n_samples,), for example using ravel().\n",
      "  estimator.fit(X_train, y_train, **fit_params)\n"
     ]
    },
    {
     "name": "stdout",
     "output_type": "stream",
     "text": [
      "[CV 1/3; 80/90] END bootstrap=True, criterion=entropy, max_depth=10, max_features=auto, min_samples_leaf=5, min_samples_split=16, n_estimators=200;, score=0.500 total time=   2.3s\n",
      "[CV 2/3; 80/90] START bootstrap=True, criterion=entropy, max_depth=10, max_features=auto, min_samples_leaf=5, min_samples_split=16, n_estimators=200\n"
     ]
    },
    {
     "name": "stderr",
     "output_type": "stream",
     "text": [
      "d:\\googledrive\\wirelessmotionintelligence\\2022-knu-wmi\\venv\\lib\\site-packages\\sklearn\\model_selection\\_validation.py:680: DataConversionWarning: A column-vector y was passed when a 1d array was expected. Please change the shape of y to (n_samples,), for example using ravel().\n",
      "  estimator.fit(X_train, y_train, **fit_params)\n"
     ]
    },
    {
     "name": "stdout",
     "output_type": "stream",
     "text": [
      "[CV 2/3; 80/90] END bootstrap=True, criterion=entropy, max_depth=10, max_features=auto, min_samples_leaf=5, min_samples_split=16, n_estimators=200;, score=0.590 total time=   2.2s\n",
      "[CV 3/3; 80/90] START bootstrap=True, criterion=entropy, max_depth=10, max_features=auto, min_samples_leaf=5, min_samples_split=16, n_estimators=200\n"
     ]
    },
    {
     "name": "stderr",
     "output_type": "stream",
     "text": [
      "d:\\googledrive\\wirelessmotionintelligence\\2022-knu-wmi\\venv\\lib\\site-packages\\sklearn\\model_selection\\_validation.py:680: DataConversionWarning: A column-vector y was passed when a 1d array was expected. Please change the shape of y to (n_samples,), for example using ravel().\n",
      "  estimator.fit(X_train, y_train, **fit_params)\n"
     ]
    },
    {
     "name": "stdout",
     "output_type": "stream",
     "text": [
      "[CV 3/3; 80/90] END bootstrap=True, criterion=entropy, max_depth=10, max_features=auto, min_samples_leaf=5, min_samples_split=16, n_estimators=200;, score=0.538 total time=   2.3s\n",
      "[CV 1/3; 81/90] START bootstrap=True, criterion=entropy, max_depth=10, max_features=auto, min_samples_leaf=10, min_samples_split=2, n_estimators=100\n"
     ]
    },
    {
     "name": "stderr",
     "output_type": "stream",
     "text": [
      "d:\\googledrive\\wirelessmotionintelligence\\2022-knu-wmi\\venv\\lib\\site-packages\\sklearn\\model_selection\\_validation.py:680: DataConversionWarning: A column-vector y was passed when a 1d array was expected. Please change the shape of y to (n_samples,), for example using ravel().\n",
      "  estimator.fit(X_train, y_train, **fit_params)\n"
     ]
    },
    {
     "name": "stdout",
     "output_type": "stream",
     "text": [
      "[CV 1/3; 81/90] END bootstrap=True, criterion=entropy, max_depth=10, max_features=auto, min_samples_leaf=10, min_samples_split=2, n_estimators=100;, score=0.550 total time=   1.5s\n",
      "[CV 2/3; 81/90] START bootstrap=True, criterion=entropy, max_depth=10, max_features=auto, min_samples_leaf=10, min_samples_split=2, n_estimators=100\n"
     ]
    },
    {
     "name": "stderr",
     "output_type": "stream",
     "text": [
      "d:\\googledrive\\wirelessmotionintelligence\\2022-knu-wmi\\venv\\lib\\site-packages\\sklearn\\model_selection\\_validation.py:680: DataConversionWarning: A column-vector y was passed when a 1d array was expected. Please change the shape of y to (n_samples,), for example using ravel().\n",
      "  estimator.fit(X_train, y_train, **fit_params)\n"
     ]
    },
    {
     "name": "stdout",
     "output_type": "stream",
     "text": [
      "[CV 2/3; 81/90] END bootstrap=True, criterion=entropy, max_depth=10, max_features=auto, min_samples_leaf=10, min_samples_split=2, n_estimators=100;, score=0.667 total time=   1.7s\n",
      "[CV 3/3; 81/90] START bootstrap=True, criterion=entropy, max_depth=10, max_features=auto, min_samples_leaf=10, min_samples_split=2, n_estimators=100\n"
     ]
    },
    {
     "name": "stderr",
     "output_type": "stream",
     "text": [
      "d:\\googledrive\\wirelessmotionintelligence\\2022-knu-wmi\\venv\\lib\\site-packages\\sklearn\\model_selection\\_validation.py:680: DataConversionWarning: A column-vector y was passed when a 1d array was expected. Please change the shape of y to (n_samples,), for example using ravel().\n",
      "  estimator.fit(X_train, y_train, **fit_params)\n"
     ]
    },
    {
     "name": "stdout",
     "output_type": "stream",
     "text": [
      "[CV 3/3; 81/90] END bootstrap=True, criterion=entropy, max_depth=10, max_features=auto, min_samples_leaf=10, min_samples_split=2, n_estimators=100;, score=0.590 total time=   1.5s\n",
      "[CV 1/3; 82/90] START bootstrap=True, criterion=entropy, max_depth=10, max_features=auto, min_samples_leaf=10, min_samples_split=2, n_estimators=200\n"
     ]
    },
    {
     "name": "stderr",
     "output_type": "stream",
     "text": [
      "d:\\googledrive\\wirelessmotionintelligence\\2022-knu-wmi\\venv\\lib\\site-packages\\sklearn\\model_selection\\_validation.py:680: DataConversionWarning: A column-vector y was passed when a 1d array was expected. Please change the shape of y to (n_samples,), for example using ravel().\n",
      "  estimator.fit(X_train, y_train, **fit_params)\n"
     ]
    },
    {
     "name": "stdout",
     "output_type": "stream",
     "text": [
      "[CV 1/3; 82/90] END bootstrap=True, criterion=entropy, max_depth=10, max_features=auto, min_samples_leaf=10, min_samples_split=2, n_estimators=200;, score=0.500 total time=   2.6s\n",
      "[CV 2/3; 82/90] START bootstrap=True, criterion=entropy, max_depth=10, max_features=auto, min_samples_leaf=10, min_samples_split=2, n_estimators=200\n"
     ]
    },
    {
     "name": "stderr",
     "output_type": "stream",
     "text": [
      "d:\\googledrive\\wirelessmotionintelligence\\2022-knu-wmi\\venv\\lib\\site-packages\\sklearn\\model_selection\\_validation.py:680: DataConversionWarning: A column-vector y was passed when a 1d array was expected. Please change the shape of y to (n_samples,), for example using ravel().\n",
      "  estimator.fit(X_train, y_train, **fit_params)\n"
     ]
    },
    {
     "name": "stdout",
     "output_type": "stream",
     "text": [
      "[CV 2/3; 82/90] END bootstrap=True, criterion=entropy, max_depth=10, max_features=auto, min_samples_leaf=10, min_samples_split=2, n_estimators=200;, score=0.513 total time=   2.7s\n",
      "[CV 3/3; 82/90] START bootstrap=True, criterion=entropy, max_depth=10, max_features=auto, min_samples_leaf=10, min_samples_split=2, n_estimators=200\n"
     ]
    },
    {
     "name": "stderr",
     "output_type": "stream",
     "text": [
      "d:\\googledrive\\wirelessmotionintelligence\\2022-knu-wmi\\venv\\lib\\site-packages\\sklearn\\model_selection\\_validation.py:680: DataConversionWarning: A column-vector y was passed when a 1d array was expected. Please change the shape of y to (n_samples,), for example using ravel().\n",
      "  estimator.fit(X_train, y_train, **fit_params)\n"
     ]
    },
    {
     "name": "stdout",
     "output_type": "stream",
     "text": [
      "[CV 3/3; 82/90] END bootstrap=True, criterion=entropy, max_depth=10, max_features=auto, min_samples_leaf=10, min_samples_split=2, n_estimators=200;, score=0.564 total time=   2.6s\n",
      "[CV 1/3; 83/90] START bootstrap=True, criterion=entropy, max_depth=10, max_features=auto, min_samples_leaf=10, min_samples_split=4, n_estimators=100\n"
     ]
    },
    {
     "name": "stderr",
     "output_type": "stream",
     "text": [
      "d:\\googledrive\\wirelessmotionintelligence\\2022-knu-wmi\\venv\\lib\\site-packages\\sklearn\\model_selection\\_validation.py:680: DataConversionWarning: A column-vector y was passed when a 1d array was expected. Please change the shape of y to (n_samples,), for example using ravel().\n",
      "  estimator.fit(X_train, y_train, **fit_params)\n"
     ]
    },
    {
     "name": "stdout",
     "output_type": "stream",
     "text": [
      "[CV 1/3; 83/90] END bootstrap=True, criterion=entropy, max_depth=10, max_features=auto, min_samples_leaf=10, min_samples_split=4, n_estimators=100;, score=0.550 total time=   1.6s\n",
      "[CV 2/3; 83/90] START bootstrap=True, criterion=entropy, max_depth=10, max_features=auto, min_samples_leaf=10, min_samples_split=4, n_estimators=100\n"
     ]
    },
    {
     "name": "stderr",
     "output_type": "stream",
     "text": [
      "d:\\googledrive\\wirelessmotionintelligence\\2022-knu-wmi\\venv\\lib\\site-packages\\sklearn\\model_selection\\_validation.py:680: DataConversionWarning: A column-vector y was passed when a 1d array was expected. Please change the shape of y to (n_samples,), for example using ravel().\n",
      "  estimator.fit(X_train, y_train, **fit_params)\n"
     ]
    },
    {
     "name": "stdout",
     "output_type": "stream",
     "text": [
      "[CV 2/3; 83/90] END bootstrap=True, criterion=entropy, max_depth=10, max_features=auto, min_samples_leaf=10, min_samples_split=4, n_estimators=100;, score=0.667 total time=   1.6s\n",
      "[CV 3/3; 83/90] START bootstrap=True, criterion=entropy, max_depth=10, max_features=auto, min_samples_leaf=10, min_samples_split=4, n_estimators=100\n"
     ]
    },
    {
     "name": "stderr",
     "output_type": "stream",
     "text": [
      "d:\\googledrive\\wirelessmotionintelligence\\2022-knu-wmi\\venv\\lib\\site-packages\\sklearn\\model_selection\\_validation.py:680: DataConversionWarning: A column-vector y was passed when a 1d array was expected. Please change the shape of y to (n_samples,), for example using ravel().\n",
      "  estimator.fit(X_train, y_train, **fit_params)\n"
     ]
    },
    {
     "name": "stdout",
     "output_type": "stream",
     "text": [
      "[CV 3/3; 83/90] END bootstrap=True, criterion=entropy, max_depth=10, max_features=auto, min_samples_leaf=10, min_samples_split=4, n_estimators=100;, score=0.590 total time=   1.9s\n",
      "[CV 1/3; 84/90] START bootstrap=True, criterion=entropy, max_depth=10, max_features=auto, min_samples_leaf=10, min_samples_split=4, n_estimators=200\n"
     ]
    },
    {
     "name": "stderr",
     "output_type": "stream",
     "text": [
      "d:\\googledrive\\wirelessmotionintelligence\\2022-knu-wmi\\venv\\lib\\site-packages\\sklearn\\model_selection\\_validation.py:680: DataConversionWarning: A column-vector y was passed when a 1d array was expected. Please change the shape of y to (n_samples,), for example using ravel().\n",
      "  estimator.fit(X_train, y_train, **fit_params)\n"
     ]
    },
    {
     "name": "stdout",
     "output_type": "stream",
     "text": [
      "[CV 1/3; 84/90] END bootstrap=True, criterion=entropy, max_depth=10, max_features=auto, min_samples_leaf=10, min_samples_split=4, n_estimators=200;, score=0.500 total time=   2.5s\n",
      "[CV 2/3; 84/90] START bootstrap=True, criterion=entropy, max_depth=10, max_features=auto, min_samples_leaf=10, min_samples_split=4, n_estimators=200\n"
     ]
    },
    {
     "name": "stderr",
     "output_type": "stream",
     "text": [
      "d:\\googledrive\\wirelessmotionintelligence\\2022-knu-wmi\\venv\\lib\\site-packages\\sklearn\\model_selection\\_validation.py:680: DataConversionWarning: A column-vector y was passed when a 1d array was expected. Please change the shape of y to (n_samples,), for example using ravel().\n",
      "  estimator.fit(X_train, y_train, **fit_params)\n"
     ]
    },
    {
     "name": "stdout",
     "output_type": "stream",
     "text": [
      "[CV 2/3; 84/90] END bootstrap=True, criterion=entropy, max_depth=10, max_features=auto, min_samples_leaf=10, min_samples_split=4, n_estimators=200;, score=0.513 total time=   2.8s\n",
      "[CV 3/3; 84/90] START bootstrap=True, criterion=entropy, max_depth=10, max_features=auto, min_samples_leaf=10, min_samples_split=4, n_estimators=200\n"
     ]
    },
    {
     "name": "stderr",
     "output_type": "stream",
     "text": [
      "d:\\googledrive\\wirelessmotionintelligence\\2022-knu-wmi\\venv\\lib\\site-packages\\sklearn\\model_selection\\_validation.py:680: DataConversionWarning: A column-vector y was passed when a 1d array was expected. Please change the shape of y to (n_samples,), for example using ravel().\n",
      "  estimator.fit(X_train, y_train, **fit_params)\n"
     ]
    },
    {
     "name": "stdout",
     "output_type": "stream",
     "text": [
      "[CV 3/3; 84/90] END bootstrap=True, criterion=entropy, max_depth=10, max_features=auto, min_samples_leaf=10, min_samples_split=4, n_estimators=200;, score=0.564 total time=   2.2s\n",
      "[CV 1/3; 85/90] START bootstrap=True, criterion=entropy, max_depth=10, max_features=auto, min_samples_leaf=10, min_samples_split=10, n_estimators=100\n"
     ]
    },
    {
     "name": "stderr",
     "output_type": "stream",
     "text": [
      "d:\\googledrive\\wirelessmotionintelligence\\2022-knu-wmi\\venv\\lib\\site-packages\\sklearn\\model_selection\\_validation.py:680: DataConversionWarning: A column-vector y was passed when a 1d array was expected. Please change the shape of y to (n_samples,), for example using ravel().\n",
      "  estimator.fit(X_train, y_train, **fit_params)\n"
     ]
    },
    {
     "name": "stdout",
     "output_type": "stream",
     "text": [
      "[CV 1/3; 85/90] END bootstrap=True, criterion=entropy, max_depth=10, max_features=auto, min_samples_leaf=10, min_samples_split=10, n_estimators=100;, score=0.550 total time=   1.4s\n",
      "[CV 2/3; 85/90] START bootstrap=True, criterion=entropy, max_depth=10, max_features=auto, min_samples_leaf=10, min_samples_split=10, n_estimators=100\n"
     ]
    },
    {
     "name": "stderr",
     "output_type": "stream",
     "text": [
      "d:\\googledrive\\wirelessmotionintelligence\\2022-knu-wmi\\venv\\lib\\site-packages\\sklearn\\model_selection\\_validation.py:680: DataConversionWarning: A column-vector y was passed when a 1d array was expected. Please change the shape of y to (n_samples,), for example using ravel().\n",
      "  estimator.fit(X_train, y_train, **fit_params)\n"
     ]
    },
    {
     "name": "stdout",
     "output_type": "stream",
     "text": [
      "[CV 2/3; 85/90] END bootstrap=True, criterion=entropy, max_depth=10, max_features=auto, min_samples_leaf=10, min_samples_split=10, n_estimators=100;, score=0.667 total time=   1.4s\n",
      "[CV 3/3; 85/90] START bootstrap=True, criterion=entropy, max_depth=10, max_features=auto, min_samples_leaf=10, min_samples_split=10, n_estimators=100\n"
     ]
    },
    {
     "name": "stderr",
     "output_type": "stream",
     "text": [
      "d:\\googledrive\\wirelessmotionintelligence\\2022-knu-wmi\\venv\\lib\\site-packages\\sklearn\\model_selection\\_validation.py:680: DataConversionWarning: A column-vector y was passed when a 1d array was expected. Please change the shape of y to (n_samples,), for example using ravel().\n",
      "  estimator.fit(X_train, y_train, **fit_params)\n"
     ]
    },
    {
     "name": "stdout",
     "output_type": "stream",
     "text": [
      "[CV 3/3; 85/90] END bootstrap=True, criterion=entropy, max_depth=10, max_features=auto, min_samples_leaf=10, min_samples_split=10, n_estimators=100;, score=0.590 total time=   1.4s\n",
      "[CV 1/3; 86/90] START bootstrap=True, criterion=entropy, max_depth=10, max_features=auto, min_samples_leaf=10, min_samples_split=10, n_estimators=200\n"
     ]
    },
    {
     "name": "stderr",
     "output_type": "stream",
     "text": [
      "d:\\googledrive\\wirelessmotionintelligence\\2022-knu-wmi\\venv\\lib\\site-packages\\sklearn\\model_selection\\_validation.py:680: DataConversionWarning: A column-vector y was passed when a 1d array was expected. Please change the shape of y to (n_samples,), for example using ravel().\n",
      "  estimator.fit(X_train, y_train, **fit_params)\n"
     ]
    },
    {
     "name": "stdout",
     "output_type": "stream",
     "text": [
      "[CV 1/3; 86/90] END bootstrap=True, criterion=entropy, max_depth=10, max_features=auto, min_samples_leaf=10, min_samples_split=10, n_estimators=200;, score=0.500 total time=   2.1s\n",
      "[CV 2/3; 86/90] START bootstrap=True, criterion=entropy, max_depth=10, max_features=auto, min_samples_leaf=10, min_samples_split=10, n_estimators=200\n"
     ]
    },
    {
     "name": "stderr",
     "output_type": "stream",
     "text": [
      "d:\\googledrive\\wirelessmotionintelligence\\2022-knu-wmi\\venv\\lib\\site-packages\\sklearn\\model_selection\\_validation.py:680: DataConversionWarning: A column-vector y was passed when a 1d array was expected. Please change the shape of y to (n_samples,), for example using ravel().\n",
      "  estimator.fit(X_train, y_train, **fit_params)\n"
     ]
    },
    {
     "name": "stdout",
     "output_type": "stream",
     "text": [
      "[CV 2/3; 86/90] END bootstrap=True, criterion=entropy, max_depth=10, max_features=auto, min_samples_leaf=10, min_samples_split=10, n_estimators=200;, score=0.513 total time=   2.1s\n",
      "[CV 3/3; 86/90] START bootstrap=True, criterion=entropy, max_depth=10, max_features=auto, min_samples_leaf=10, min_samples_split=10, n_estimators=200\n"
     ]
    },
    {
     "name": "stderr",
     "output_type": "stream",
     "text": [
      "d:\\googledrive\\wirelessmotionintelligence\\2022-knu-wmi\\venv\\lib\\site-packages\\sklearn\\model_selection\\_validation.py:680: DataConversionWarning: A column-vector y was passed when a 1d array was expected. Please change the shape of y to (n_samples,), for example using ravel().\n",
      "  estimator.fit(X_train, y_train, **fit_params)\n"
     ]
    },
    {
     "name": "stdout",
     "output_type": "stream",
     "text": [
      "[CV 3/3; 86/90] END bootstrap=True, criterion=entropy, max_depth=10, max_features=auto, min_samples_leaf=10, min_samples_split=10, n_estimators=200;, score=0.564 total time=   2.1s\n",
      "[CV 1/3; 87/90] START bootstrap=True, criterion=entropy, max_depth=10, max_features=auto, min_samples_leaf=10, min_samples_split=12, n_estimators=100\n"
     ]
    },
    {
     "name": "stderr",
     "output_type": "stream",
     "text": [
      "d:\\googledrive\\wirelessmotionintelligence\\2022-knu-wmi\\venv\\lib\\site-packages\\sklearn\\model_selection\\_validation.py:680: DataConversionWarning: A column-vector y was passed when a 1d array was expected. Please change the shape of y to (n_samples,), for example using ravel().\n",
      "  estimator.fit(X_train, y_train, **fit_params)\n"
     ]
    },
    {
     "name": "stdout",
     "output_type": "stream",
     "text": [
      "[CV 1/3; 87/90] END bootstrap=True, criterion=entropy, max_depth=10, max_features=auto, min_samples_leaf=10, min_samples_split=12, n_estimators=100;, score=0.550 total time=   1.4s\n",
      "[CV 2/3; 87/90] START bootstrap=True, criterion=entropy, max_depth=10, max_features=auto, min_samples_leaf=10, min_samples_split=12, n_estimators=100\n"
     ]
    },
    {
     "name": "stderr",
     "output_type": "stream",
     "text": [
      "d:\\googledrive\\wirelessmotionintelligence\\2022-knu-wmi\\venv\\lib\\site-packages\\sklearn\\model_selection\\_validation.py:680: DataConversionWarning: A column-vector y was passed when a 1d array was expected. Please change the shape of y to (n_samples,), for example using ravel().\n",
      "  estimator.fit(X_train, y_train, **fit_params)\n"
     ]
    },
    {
     "name": "stdout",
     "output_type": "stream",
     "text": [
      "[CV 2/3; 87/90] END bootstrap=True, criterion=entropy, max_depth=10, max_features=auto, min_samples_leaf=10, min_samples_split=12, n_estimators=100;, score=0.667 total time=   1.4s\n",
      "[CV 3/3; 87/90] START bootstrap=True, criterion=entropy, max_depth=10, max_features=auto, min_samples_leaf=10, min_samples_split=12, n_estimators=100\n"
     ]
    },
    {
     "name": "stderr",
     "output_type": "stream",
     "text": [
      "d:\\googledrive\\wirelessmotionintelligence\\2022-knu-wmi\\venv\\lib\\site-packages\\sklearn\\model_selection\\_validation.py:680: DataConversionWarning: A column-vector y was passed when a 1d array was expected. Please change the shape of y to (n_samples,), for example using ravel().\n",
      "  estimator.fit(X_train, y_train, **fit_params)\n"
     ]
    },
    {
     "name": "stdout",
     "output_type": "stream",
     "text": [
      "[CV 3/3; 87/90] END bootstrap=True, criterion=entropy, max_depth=10, max_features=auto, min_samples_leaf=10, min_samples_split=12, n_estimators=100;, score=0.590 total time=   1.4s\n",
      "[CV 1/3; 88/90] START bootstrap=True, criterion=entropy, max_depth=10, max_features=auto, min_samples_leaf=10, min_samples_split=12, n_estimators=200\n"
     ]
    },
    {
     "name": "stderr",
     "output_type": "stream",
     "text": [
      "d:\\googledrive\\wirelessmotionintelligence\\2022-knu-wmi\\venv\\lib\\site-packages\\sklearn\\model_selection\\_validation.py:680: DataConversionWarning: A column-vector y was passed when a 1d array was expected. Please change the shape of y to (n_samples,), for example using ravel().\n",
      "  estimator.fit(X_train, y_train, **fit_params)\n"
     ]
    },
    {
     "name": "stdout",
     "output_type": "stream",
     "text": [
      "[CV 1/3; 88/90] END bootstrap=True, criterion=entropy, max_depth=10, max_features=auto, min_samples_leaf=10, min_samples_split=12, n_estimators=200;, score=0.500 total time=   2.2s\n",
      "[CV 2/3; 88/90] START bootstrap=True, criterion=entropy, max_depth=10, max_features=auto, min_samples_leaf=10, min_samples_split=12, n_estimators=200\n"
     ]
    },
    {
     "name": "stderr",
     "output_type": "stream",
     "text": [
      "d:\\googledrive\\wirelessmotionintelligence\\2022-knu-wmi\\venv\\lib\\site-packages\\sklearn\\model_selection\\_validation.py:680: DataConversionWarning: A column-vector y was passed when a 1d array was expected. Please change the shape of y to (n_samples,), for example using ravel().\n",
      "  estimator.fit(X_train, y_train, **fit_params)\n"
     ]
    },
    {
     "name": "stdout",
     "output_type": "stream",
     "text": [
      "[CV 2/3; 88/90] END bootstrap=True, criterion=entropy, max_depth=10, max_features=auto, min_samples_leaf=10, min_samples_split=12, n_estimators=200;, score=0.513 total time=   2.2s\n",
      "[CV 3/3; 88/90] START bootstrap=True, criterion=entropy, max_depth=10, max_features=auto, min_samples_leaf=10, min_samples_split=12, n_estimators=200\n"
     ]
    },
    {
     "name": "stderr",
     "output_type": "stream",
     "text": [
      "d:\\googledrive\\wirelessmotionintelligence\\2022-knu-wmi\\venv\\lib\\site-packages\\sklearn\\model_selection\\_validation.py:680: DataConversionWarning: A column-vector y was passed when a 1d array was expected. Please change the shape of y to (n_samples,), for example using ravel().\n",
      "  estimator.fit(X_train, y_train, **fit_params)\n"
     ]
    },
    {
     "name": "stdout",
     "output_type": "stream",
     "text": [
      "[CV 3/3; 88/90] END bootstrap=True, criterion=entropy, max_depth=10, max_features=auto, min_samples_leaf=10, min_samples_split=12, n_estimators=200;, score=0.564 total time=   2.1s\n",
      "[CV 1/3; 89/90] START bootstrap=True, criterion=entropy, max_depth=10, max_features=auto, min_samples_leaf=10, min_samples_split=16, n_estimators=100\n"
     ]
    },
    {
     "name": "stderr",
     "output_type": "stream",
     "text": [
      "d:\\googledrive\\wirelessmotionintelligence\\2022-knu-wmi\\venv\\lib\\site-packages\\sklearn\\model_selection\\_validation.py:680: DataConversionWarning: A column-vector y was passed when a 1d array was expected. Please change the shape of y to (n_samples,), for example using ravel().\n",
      "  estimator.fit(X_train, y_train, **fit_params)\n"
     ]
    },
    {
     "name": "stdout",
     "output_type": "stream",
     "text": [
      "[CV 1/3; 89/90] END bootstrap=True, criterion=entropy, max_depth=10, max_features=auto, min_samples_leaf=10, min_samples_split=16, n_estimators=100;, score=0.550 total time=   1.4s\n",
      "[CV 2/3; 89/90] START bootstrap=True, criterion=entropy, max_depth=10, max_features=auto, min_samples_leaf=10, min_samples_split=16, n_estimators=100\n"
     ]
    },
    {
     "name": "stderr",
     "output_type": "stream",
     "text": [
      "d:\\googledrive\\wirelessmotionintelligence\\2022-knu-wmi\\venv\\lib\\site-packages\\sklearn\\model_selection\\_validation.py:680: DataConversionWarning: A column-vector y was passed when a 1d array was expected. Please change the shape of y to (n_samples,), for example using ravel().\n",
      "  estimator.fit(X_train, y_train, **fit_params)\n"
     ]
    },
    {
     "name": "stdout",
     "output_type": "stream",
     "text": [
      "[CV 2/3; 89/90] END bootstrap=True, criterion=entropy, max_depth=10, max_features=auto, min_samples_leaf=10, min_samples_split=16, n_estimators=100;, score=0.667 total time=   1.4s\n",
      "[CV 3/3; 89/90] START bootstrap=True, criterion=entropy, max_depth=10, max_features=auto, min_samples_leaf=10, min_samples_split=16, n_estimators=100\n"
     ]
    },
    {
     "name": "stderr",
     "output_type": "stream",
     "text": [
      "d:\\googledrive\\wirelessmotionintelligence\\2022-knu-wmi\\venv\\lib\\site-packages\\sklearn\\model_selection\\_validation.py:680: DataConversionWarning: A column-vector y was passed when a 1d array was expected. Please change the shape of y to (n_samples,), for example using ravel().\n",
      "  estimator.fit(X_train, y_train, **fit_params)\n"
     ]
    },
    {
     "name": "stdout",
     "output_type": "stream",
     "text": [
      "[CV 3/3; 89/90] END bootstrap=True, criterion=entropy, max_depth=10, max_features=auto, min_samples_leaf=10, min_samples_split=16, n_estimators=100;, score=0.590 total time=   1.4s\n",
      "[CV 1/3; 90/90] START bootstrap=True, criterion=entropy, max_depth=10, max_features=auto, min_samples_leaf=10, min_samples_split=16, n_estimators=200\n"
     ]
    },
    {
     "name": "stderr",
     "output_type": "stream",
     "text": [
      "d:\\googledrive\\wirelessmotionintelligence\\2022-knu-wmi\\venv\\lib\\site-packages\\sklearn\\model_selection\\_validation.py:680: DataConversionWarning: A column-vector y was passed when a 1d array was expected. Please change the shape of y to (n_samples,), for example using ravel().\n",
      "  estimator.fit(X_train, y_train, **fit_params)\n"
     ]
    },
    {
     "name": "stdout",
     "output_type": "stream",
     "text": [
      "[CV 1/3; 90/90] END bootstrap=True, criterion=entropy, max_depth=10, max_features=auto, min_samples_leaf=10, min_samples_split=16, n_estimators=200;, score=0.500 total time=   2.2s\n",
      "[CV 2/3; 90/90] START bootstrap=True, criterion=entropy, max_depth=10, max_features=auto, min_samples_leaf=10, min_samples_split=16, n_estimators=200\n"
     ]
    },
    {
     "name": "stderr",
     "output_type": "stream",
     "text": [
      "d:\\googledrive\\wirelessmotionintelligence\\2022-knu-wmi\\venv\\lib\\site-packages\\sklearn\\model_selection\\_validation.py:680: DataConversionWarning: A column-vector y was passed when a 1d array was expected. Please change the shape of y to (n_samples,), for example using ravel().\n",
      "  estimator.fit(X_train, y_train, **fit_params)\n"
     ]
    },
    {
     "name": "stdout",
     "output_type": "stream",
     "text": [
      "[CV 2/3; 90/90] END bootstrap=True, criterion=entropy, max_depth=10, max_features=auto, min_samples_leaf=10, min_samples_split=16, n_estimators=200;, score=0.513 total time=   2.1s\n",
      "[CV 3/3; 90/90] START bootstrap=True, criterion=entropy, max_depth=10, max_features=auto, min_samples_leaf=10, min_samples_split=16, n_estimators=200\n"
     ]
    },
    {
     "name": "stderr",
     "output_type": "stream",
     "text": [
      "d:\\googledrive\\wirelessmotionintelligence\\2022-knu-wmi\\venv\\lib\\site-packages\\sklearn\\model_selection\\_validation.py:680: DataConversionWarning: A column-vector y was passed when a 1d array was expected. Please change the shape of y to (n_samples,), for example using ravel().\n",
      "  estimator.fit(X_train, y_train, **fit_params)\n"
     ]
    },
    {
     "name": "stdout",
     "output_type": "stream",
     "text": [
      "[CV 3/3; 90/90] END bootstrap=True, criterion=entropy, max_depth=10, max_features=auto, min_samples_leaf=10, min_samples_split=16, n_estimators=200;, score=0.564 total time=   2.1s\n"
     ]
    },
    {
     "name": "stderr",
     "output_type": "stream",
     "text": [
      "d:\\googledrive\\wirelessmotionintelligence\\2022-knu-wmi\\venv\\lib\\site-packages\\sklearn\\model_selection\\_search.py:926: DataConversionWarning: A column-vector y was passed when a 1d array was expected. Please change the shape of y to (n_samples,), for example using ravel().\n",
      "  self.best_estimator_.fit(X, y, **fit_params)\n"
     ]
    }
   ],
   "source": [
    "param_grid = { \"criterion\" : [\"entropy\"],\n",
    "               \"min_samples_leaf\" : [1, 5, 10],\n",
    "               \"min_samples_split\" : [2, 4, 10, 12, 16],\n",
    "               \"max_depth\": [6, 8, 10],\n",
    "               \"max_features\": [\"auto\"],\n",
    "               \"bootstrap\": [True],\n",
    "               \"n_estimators\": [100, 200]}\n",
    "gs = GridSearchCV(estimator=model, param_grid=param_grid, scoring='accuracy',\n",
    "                  cv=3, verbose=10)\n",
    "gs = gs.fit(train_features, train_target)"
   ],
   "metadata": {
    "collapsed": false,
    "pycharm": {
     "name": "#%%\n"
    }
   }
  },
  {
   "cell_type": "code",
   "execution_count": 61,
   "outputs": [
    {
     "name": "stdout",
     "output_type": "stream",
     "text": [
      "0.6021367521367522\n",
      "{'bootstrap': True, 'criterion': 'entropy', 'max_depth': 6, 'max_features': 'auto', 'min_samples_leaf': 10, 'min_samples_split': 2, 'n_estimators': 100}\n"
     ]
    }
   ],
   "source": [
    "print(gs.best_score_)\n",
    "print(gs.best_params_)\n",
    "# print(gs.cv_results_)\n",
    "best_model_1 = gs.best_estimator_"
   ],
   "metadata": {
    "collapsed": false,
    "pycharm": {
     "name": "#%%\n"
    }
   }
  },
  {
   "cell_type": "code",
   "execution_count": 62,
   "outputs": [
    {
     "name": "stdout",
     "output_type": "stream",
     "text": [
      "score= 0.4791666666666667\n"
     ]
    },
    {
     "name": "stderr",
     "output_type": "stream",
     "text": [
      "d:\\googledrive\\wirelessmotionintelligence\\2022-knu-wmi\\venv\\lib\\site-packages\\sklearn\\model_selection\\_validation.py:680: DataConversionWarning: A column-vector y was passed when a 1d array was expected. Please change the shape of y to (n_samples,), for example using ravel().\n",
      "  estimator.fit(X_train, y_train, **fit_params)\n",
      "d:\\googledrive\\wirelessmotionintelligence\\2022-knu-wmi\\venv\\lib\\site-packages\\sklearn\\model_selection\\_validation.py:680: DataConversionWarning: A column-vector y was passed when a 1d array was expected. Please change the shape of y to (n_samples,), for example using ravel().\n",
      "  estimator.fit(X_train, y_train, **fit_params)\n",
      "d:\\googledrive\\wirelessmotionintelligence\\2022-knu-wmi\\venv\\lib\\site-packages\\sklearn\\model_selection\\_validation.py:680: DataConversionWarning: A column-vector y was passed when a 1d array was expected. Please change the shape of y to (n_samples,), for example using ravel().\n",
      "  estimator.fit(X_train, y_train, **fit_params)\n",
      "d:\\googledrive\\wirelessmotionintelligence\\2022-knu-wmi\\venv\\lib\\site-packages\\sklearn\\model_selection\\_validation.py:680: DataConversionWarning: A column-vector y was passed when a 1d array was expected. Please change the shape of y to (n_samples,), for example using ravel().\n",
      "  estimator.fit(X_train, y_train, **fit_params)\n",
      "d:\\googledrive\\wirelessmotionintelligence\\2022-knu-wmi\\venv\\lib\\site-packages\\sklearn\\model_selection\\_validation.py:680: DataConversionWarning: A column-vector y was passed when a 1d array was expected. Please change the shape of y to (n_samples,), for example using ravel().\n",
      "  estimator.fit(X_train, y_train, **fit_params)\n",
      "d:\\googledrive\\wirelessmotionintelligence\\2022-knu-wmi\\venv\\lib\\site-packages\\sklearn\\model_selection\\_validation.py:680: DataConversionWarning: A column-vector y was passed when a 1d array was expected. Please change the shape of y to (n_samples,), for example using ravel().\n",
      "  estimator.fit(X_train, y_train, **fit_params)\n",
      "d:\\googledrive\\wirelessmotionintelligence\\2022-knu-wmi\\venv\\lib\\site-packages\\sklearn\\model_selection\\_validation.py:680: DataConversionWarning: A column-vector y was passed when a 1d array was expected. Please change the shape of y to (n_samples,), for example using ravel().\n",
      "  estimator.fit(X_train, y_train, **fit_params)\n"
     ]
    },
    {
     "name": "stdout",
     "output_type": "stream",
     "text": [
      "cross_val_score= [0.42857143 0.57142857 0.85714286 0.57142857 0.57142857 0.42857143\n",
      " 0.33333333]\n",
      "mean= 0.5374149659863946\n"
     ]
    }
   ],
   "source": [
    "print(\"score=\", best_model_1.score(test_features, test_target))\n",
    "scs = cross_val_score(best_model_1, test_features, test_target, cv=7, scoring=\"accuracy\")\n",
    "print(\"cross_val_score=\", scs)\n",
    "print(\"mean=\", scs.mean())"
   ],
   "metadata": {
    "collapsed": false,
    "pycharm": {
     "name": "#%%\n"
    }
   }
  },
  {
   "cell_type": "markdown",
   "source": [
    "### 2) Naive Bayes"
   ],
   "metadata": {
    "collapsed": false,
    "pycharm": {
     "name": "#%% md\n"
    }
   }
  },
  {
   "cell_type": "code",
   "execution_count": 63,
   "outputs": [],
   "source": [
    "gnb_model = GaussianNB()\n",
    "# print(model.get_params())"
   ],
   "metadata": {
    "collapsed": false,
    "pycharm": {
     "name": "#%%\n"
    }
   }
  },
  {
   "cell_type": "code",
   "execution_count": null,
   "outputs": [
    {
     "name": "stdout",
     "output_type": "stream",
     "text": [
      "Fitting 3 folds for each of 100 candidates, totalling 300 fits\n"
     ]
    }
   ],
   "source": [
    "param_grid = {\n",
    "    'var_smoothing': np.logspace(0,-9, num=100)\n",
    "}\n",
    "gs = GridSearchCV(estimator=gnb_model, param_grid=param_grid, scoring='accuracy', cv=3, verbose=10, n_jobs=-1)\n",
    "gs = gs.fit(train_features, train_target)"
   ],
   "metadata": {
    "collapsed": false,
    "pycharm": {
     "name": "#%%\n",
     "is_executing": true
    }
   }
  },
  {
   "cell_type": "code",
   "execution_count": null,
   "outputs": [],
   "source": [
    "print(gs.best_score_)\n",
    "print(gs.best_params_)\n",
    "# print(gs.cv_results_)\n",
    "best_model_2 = gs.best_estimator_"
   ],
   "metadata": {
    "collapsed": false,
    "pycharm": {
     "name": "#%%\n",
     "is_executing": true
    }
   }
  },
  {
   "cell_type": "code",
   "execution_count": 37,
   "outputs": [
    {
     "name": "stdout",
     "output_type": "stream",
     "text": [
      "score= 0.36363636363636365\n"
     ]
    },
    {
     "name": "stderr",
     "output_type": "stream",
     "text": [
      "d:\\googledrive\\wirelessmotionintelligence\\2022-knu-wmi\\venv\\lib\\site-packages\\sklearn\\utils\\validation.py:993: DataConversionWarning: A column-vector y was passed when a 1d array was expected. Please change the shape of y to (n_samples, ), for example using ravel().\n",
      "  y = column_or_1d(y, warn=True)\n",
      "d:\\googledrive\\wirelessmotionintelligence\\2022-knu-wmi\\venv\\lib\\site-packages\\sklearn\\utils\\validation.py:993: DataConversionWarning: A column-vector y was passed when a 1d array was expected. Please change the shape of y to (n_samples, ), for example using ravel().\n",
      "  y = column_or_1d(y, warn=True)\n",
      "d:\\googledrive\\wirelessmotionintelligence\\2022-knu-wmi\\venv\\lib\\site-packages\\sklearn\\utils\\validation.py:993: DataConversionWarning: A column-vector y was passed when a 1d array was expected. Please change the shape of y to (n_samples, ), for example using ravel().\n",
      "  y = column_or_1d(y, warn=True)\n",
      "d:\\googledrive\\wirelessmotionintelligence\\2022-knu-wmi\\venv\\lib\\site-packages\\sklearn\\utils\\validation.py:993: DataConversionWarning: A column-vector y was passed when a 1d array was expected. Please change the shape of y to (n_samples, ), for example using ravel().\n",
      "  y = column_or_1d(y, warn=True)\n",
      "d:\\googledrive\\wirelessmotionintelligence\\2022-knu-wmi\\venv\\lib\\site-packages\\sklearn\\utils\\validation.py:993: DataConversionWarning: A column-vector y was passed when a 1d array was expected. Please change the shape of y to (n_samples, ), for example using ravel().\n",
      "  y = column_or_1d(y, warn=True)\n",
      "d:\\googledrive\\wirelessmotionintelligence\\2022-knu-wmi\\venv\\lib\\site-packages\\sklearn\\utils\\validation.py:993: DataConversionWarning: A column-vector y was passed when a 1d array was expected. Please change the shape of y to (n_samples, ), for example using ravel().\n",
      "  y = column_or_1d(y, warn=True)\n",
      "d:\\googledrive\\wirelessmotionintelligence\\2022-knu-wmi\\venv\\lib\\site-packages\\sklearn\\utils\\validation.py:993: DataConversionWarning: A column-vector y was passed when a 1d array was expected. Please change the shape of y to (n_samples, ), for example using ravel().\n",
      "  y = column_or_1d(y, warn=True)\n"
     ]
    },
    {
     "name": "stdout",
     "output_type": "stream",
     "text": [
      "cross_val_score= [0.36363636 0.27272727 0.45454545 0.63636364 0.18181818 0.36363636\n",
      " 0.54545455]\n",
      "mean= 0.40259740259740256\n"
     ]
    }
   ],
   "source": [
    "print(\"score=\", best_model_2.score(test_features, test_target))\n",
    "scs = cross_val_score(best_model_2, test_features, test_target, cv=7, scoring=\"accuracy\")\n",
    "print(\"cross_val_score=\", scs)\n",
    "print(\"mean=\", scs.mean())"
   ],
   "metadata": {
    "collapsed": false,
    "pycharm": {
     "name": "#%%\n"
    }
   }
  },
  {
   "cell_type": "markdown",
   "source": [
    "### 3) K-nearest neighbor"
   ],
   "metadata": {
    "collapsed": false,
    "pycharm": {
     "name": "#%% md\n"
    }
   }
  },
  {
   "cell_type": "code",
   "execution_count": 38,
   "outputs": [],
   "source": [
    "neigh_model = KNeighborsClassifier()\n",
    "# print(model.get_params())"
   ],
   "metadata": {
    "collapsed": false,
    "pycharm": {
     "name": "#%%\n"
    }
   }
  },
  {
   "cell_type": "code",
   "execution_count": 42,
   "outputs": [
    {
     "name": "stdout",
     "output_type": "stream",
     "text": [
      "Fitting 3 folds for each of 96 candidates, totalling 288 fits\n"
     ]
    },
    {
     "name": "stderr",
     "output_type": "stream",
     "text": [
      "d:\\googledrive\\wirelessmotionintelligence\\2022-knu-wmi\\venv\\lib\\site-packages\\sklearn\\neighbors\\_classification.py:198: DataConversionWarning: A column-vector y was passed when a 1d array was expected. Please change the shape of y to (n_samples,), for example using ravel().\n",
      "  return self._fit(X, y)\n"
     ]
    },
    {
     "data": {
      "text/plain": "GridSearchCV(cv=3, estimator=KNeighborsClassifier(), n_jobs=-1,\n             param_grid={'leaf_size': (20, 40, 1), 'metric': ('minkowski',),\n                         'n_neighbors': (1, 5, 6, 7, 8, 9, 10, 20), 'p': (1, 2),\n                         'weights': ('uniform', 'distance')},\n             scoring='accuracy', verbose=10)"
     },
     "execution_count": 42,
     "metadata": {},
     "output_type": "execute_result"
    }
   ],
   "source": [
    "param_grid = {\n",
    "    'n_neighbors': (1, 5, 6 , 7, 8, 9, 10, 20),\n",
    "    'leaf_size': (20,40,1),\n",
    "    'p': (1,2),\n",
    "    'weights': ('uniform', 'distance'),\n",
    "    'metric': ('minkowski',)\n",
    "               }\n",
    "gs = GridSearchCV(estimator=neigh_model, param_grid=param_grid,\n",
    "                    cv=3, scoring=\"accuracy\", verbose=10, n_jobs=-1)\n",
    "gs.fit(X=train_features, y=train_target)"
   ],
   "metadata": {
    "collapsed": false,
    "pycharm": {
     "name": "#%%\n"
    }
   }
  },
  {
   "cell_type": "code",
   "execution_count": 43,
   "outputs": [
    {
     "name": "stdout",
     "output_type": "stream",
     "text": [
      "{'leaf_size': 20, 'metric': 'minkowski', 'n_neighbors': 10, 'p': 1, 'weights': 'uniform'}\n",
      "0.43415156828365475\n"
     ]
    }
   ],
   "source": [
    "print(gs.best_params_)\n",
    "print(gs.best_score_)\n",
    "best_model_3 = gs.best_estimator_"
   ],
   "metadata": {
    "collapsed": false,
    "pycharm": {
     "name": "#%%\n"
    }
   }
  },
  {
   "cell_type": "code",
   "execution_count": 44,
   "outputs": [
    {
     "name": "stdout",
     "output_type": "stream",
     "text": [
      "score= 0.4155844155844156\n"
     ]
    },
    {
     "name": "stderr",
     "output_type": "stream",
     "text": [
      "d:\\googledrive\\wirelessmotionintelligence\\2022-knu-wmi\\venv\\lib\\site-packages\\sklearn\\neighbors\\_classification.py:198: DataConversionWarning: A column-vector y was passed when a 1d array was expected. Please change the shape of y to (n_samples,), for example using ravel().\n",
      "  return self._fit(X, y)\n",
      "d:\\googledrive\\wirelessmotionintelligence\\2022-knu-wmi\\venv\\lib\\site-packages\\sklearn\\neighbors\\_classification.py:198: DataConversionWarning: A column-vector y was passed when a 1d array was expected. Please change the shape of y to (n_samples,), for example using ravel().\n",
      "  return self._fit(X, y)\n",
      "d:\\googledrive\\wirelessmotionintelligence\\2022-knu-wmi\\venv\\lib\\site-packages\\sklearn\\neighbors\\_classification.py:198: DataConversionWarning: A column-vector y was passed when a 1d array was expected. Please change the shape of y to (n_samples,), for example using ravel().\n",
      "  return self._fit(X, y)\n",
      "d:\\googledrive\\wirelessmotionintelligence\\2022-knu-wmi\\venv\\lib\\site-packages\\sklearn\\neighbors\\_classification.py:198: DataConversionWarning: A column-vector y was passed when a 1d array was expected. Please change the shape of y to (n_samples,), for example using ravel().\n",
      "  return self._fit(X, y)\n",
      "d:\\googledrive\\wirelessmotionintelligence\\2022-knu-wmi\\venv\\lib\\site-packages\\sklearn\\neighbors\\_classification.py:198: DataConversionWarning: A column-vector y was passed when a 1d array was expected. Please change the shape of y to (n_samples,), for example using ravel().\n",
      "  return self._fit(X, y)\n",
      "d:\\googledrive\\wirelessmotionintelligence\\2022-knu-wmi\\venv\\lib\\site-packages\\sklearn\\neighbors\\_classification.py:198: DataConversionWarning: A column-vector y was passed when a 1d array was expected. Please change the shape of y to (n_samples,), for example using ravel().\n",
      "  return self._fit(X, y)\n",
      "d:\\googledrive\\wirelessmotionintelligence\\2022-knu-wmi\\venv\\lib\\site-packages\\sklearn\\neighbors\\_classification.py:198: DataConversionWarning: A column-vector y was passed when a 1d array was expected. Please change the shape of y to (n_samples,), for example using ravel().\n",
      "  return self._fit(X, y)\n"
     ]
    },
    {
     "name": "stdout",
     "output_type": "stream",
     "text": [
      "cross_val_score= [0.27272727 0.45454545 0.27272727 0.63636364 0.45454545 0.45454545\n",
      " 0.36363636]\n",
      "mean= 0.4155844155844156\n"
     ]
    }
   ],
   "source": [
    "print(\"score=\", best_model_3.score(test_features, test_target))\n",
    "scs = cross_val_score(best_model_3, test_features, test_target, cv=7, scoring=\"accuracy\")\n",
    "print(\"cross_val_score=\", scs)\n",
    "print(\"mean=\", scs.mean())"
   ],
   "metadata": {
    "collapsed": false,
    "pycharm": {
     "name": "#%%\n"
    }
   }
  },
  {
   "cell_type": "code",
   "execution_count": 24,
   "outputs": [
    {
     "data": {
      "text/plain": "     0\n0    0\n1    0\n2    0\n3    0\n4    0\n..  ..\n170  2\n171  2\n172  2\n173  2\n174  2\n\n[175 rows x 1 columns]",
      "text/html": "<div>\n<style scoped>\n    .dataframe tbody tr th:only-of-type {\n        vertical-align: middle;\n    }\n\n    .dataframe tbody tr th {\n        vertical-align: top;\n    }\n\n    .dataframe thead th {\n        text-align: right;\n    }\n</style>\n<table border=\"1\" class=\"dataframe\">\n  <thead>\n    <tr style=\"text-align: right;\">\n      <th></th>\n      <th>0</th>\n    </tr>\n  </thead>\n  <tbody>\n    <tr>\n      <th>0</th>\n      <td>0</td>\n    </tr>\n    <tr>\n      <th>1</th>\n      <td>0</td>\n    </tr>\n    <tr>\n      <th>2</th>\n      <td>0</td>\n    </tr>\n    <tr>\n      <th>3</th>\n      <td>0</td>\n    </tr>\n    <tr>\n      <th>4</th>\n      <td>0</td>\n    </tr>\n    <tr>\n      <th>...</th>\n      <td>...</td>\n    </tr>\n    <tr>\n      <th>170</th>\n      <td>2</td>\n    </tr>\n    <tr>\n      <th>171</th>\n      <td>2</td>\n    </tr>\n    <tr>\n      <th>172</th>\n      <td>2</td>\n    </tr>\n    <tr>\n      <th>173</th>\n      <td>2</td>\n    </tr>\n    <tr>\n      <th>174</th>\n      <td>2</td>\n    </tr>\n  </tbody>\n</table>\n<p>175 rows × 1 columns</p>\n</div>"
     },
     "execution_count": 24,
     "metadata": {},
     "output_type": "execute_result"
    }
   ],
   "source": [
    "train_target"
   ],
   "metadata": {
    "collapsed": false,
    "pycharm": {
     "name": "#%%\n"
    }
   }
  },
  {
   "cell_type": "code",
   "execution_count": null,
   "outputs": [],
   "source": [],
   "metadata": {
    "collapsed": false,
    "pycharm": {
     "name": "#%%\n"
    }
   }
  }
 ],
 "metadata": {
  "kernelspec": {
   "display_name": "Python 3",
   "language": "python",
   "name": "python3"
  },
  "language_info": {
   "codemirror_mode": {
    "name": "ipython",
    "version": 2
   },
   "file_extension": ".py",
   "mimetype": "text/x-python",
   "name": "python",
   "nbconvert_exporter": "python",
   "pygments_lexer": "ipython2",
   "version": "2.7.6"
  }
 },
 "nbformat": 4,
 "nbformat_minor": 0
}
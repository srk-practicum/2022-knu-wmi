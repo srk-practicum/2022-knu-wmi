{
 "cells": [
  {
   "cell_type": "code",
   "execution_count": 2,
   "metadata": {
    "collapsed": true
   },
   "outputs": [],
   "source": [
    "import os"
   ]
  },
  {
   "cell_type": "code",
   "execution_count": 4,
   "outputs": [],
   "source": [
    "coded = []\n",
    "for dir in os.listdir(\"csv_training\") :\n",
    "    for file in os.listdir(f\"csv_training/{dir}\"):\n",
    "        if file.split(\"__\")[0] == \"brushteeth\":\n",
    "            coded.append(0)\n",
    "        elif file.split(\"__\")[0] == \"cook\":\n",
    "            coded.append(1)\n",
    "        elif file.split(\"__\")[0] == \"drink\":\n",
    "            coded.append(2)\n",
    "        elif file.split(\"__\")[0] == \"getintobed\":\n",
    "            coded.append(3)\n",
    "        elif file.split(\"__\")[0] == \"nothing\":\n",
    "            coded.append(4)\n",
    "        elif file.split(\"__\")[0] == \"sit_down\":\n",
    "            coded.append(5)\n",
    "        elif file.split(\"__\")[0] == \"sit_down_sofa\":\n",
    "            coded.append(6)\n",
    "        elif file.split(\"__\")[0] == \"sleeping\":\n",
    "            coded.append(7)\n",
    "        elif file.split(\"__\")[0] == \"standup_chair\":\n",
    "            coded.append(8)\n",
    "        elif file.split(\"__\")[0] == \"walk\":\n",
    "            coded.append(9)\n",
    "        elif file.split(\"__\")[0] == \"washing_dishes\":\n",
    "            coded.append(10)"
   ],
   "metadata": {
    "collapsed": false,
    "pycharm": {
     "name": "#%%\n"
    }
   }
  },
  {
   "cell_type": "code",
   "execution_count": null,
   "outputs": [],
   "source": [
    "file_length = 360\n",
    "for dir in os.listdir(\"training_PCA\"):\n",
    "    for file in os.listdir(f\"training_PCA/{dir}\"):\n",
    "\n"
   ],
   "metadata": {
    "collapsed": false,
    "pycharm": {
     "name": "#%%\n"
    }
   }
  }
 ],
 "metadata": {
  "kernelspec": {
   "display_name": "Python 3",
   "language": "python",
   "name": "python3"
  },
  "language_info": {
   "codemirror_mode": {
    "name": "ipython",
    "version": 2
   },
   "file_extension": ".py",
   "mimetype": "text/x-python",
   "name": "python",
   "nbconvert_exporter": "python",
   "pygments_lexer": "ipython2",
   "version": "2.7.6"
  }
 },
 "nbformat": 4,
 "nbformat_minor": 0
}
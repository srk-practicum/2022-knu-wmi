{
 "cells": [
  {
   "cell_type": "markdown",
   "id": "b481958a",
   "metadata": {},
   "source": [
    "# Imports : "
   ]
  },
  {
   "cell_type": "code",
   "execution_count": 1,
   "id": "09db1939",
   "metadata": {},
   "outputs": [],
   "source": [
    "import numpy as np\n",
    "import pandas as pd\n",
    "from os import listdir\n",
    "from os.path import isfile, join\n",
    "from sklearn.preprocessing import StandardScaler\n",
    "from sklearn.decomposition import PCA \n",
    "import seaborn as sns\n",
    "import matplotlib.pyplot as plt"
   ]
  },
  {
   "cell_type": "markdown",
   "id": "0f36b625",
   "metadata": {},
   "source": [
    "# All files Names : "
   ]
  },
  {
   "cell_type": "code",
   "execution_count": 2,
   "id": "0cb3f70a",
   "metadata": {
    "scrolled": true
   },
   "outputs": [],
   "source": [
    "#internet dataset\n",
    "#mypath = r\"data/\"\n",
    "mypath = r\"pcap_files/\"\n",
    "filenames = [f.split(\".\")[0] for f in listdir(mypath) if isfile(join(mypath, f))]\n",
    "#test_files = np.random.choice(filenames,len(filenames)//10)\n",
    "test_files = filenames[:len(filenames)//4]\n",
    "#print(np.random.choice(filenames,len(filenames)//4),len(filenames)//2.5,len(filenames),(len(filenames)//2.5)/len(filenames))"
   ]
  },
  {
   "cell_type": "markdown",
   "id": "34e9c25a",
   "metadata": {},
   "source": [
    "# Normalization data :"
   ]
  },
  {
   "cell_type": "code",
   "execution_count": 3,
   "id": "9d25b6d9",
   "metadata": {},
   "outputs": [],
   "source": [
    "def norm_data_frame(path,filenames):\n",
    "    df = pd.DataFrame() # empty dataframe\n",
    "    \n",
    "    for name in filenames:\n",
    "        file = pd.read_csv(path + name + \".csv\")\n",
    "        file = pd.DataFrame(StandardScaler().ﬁt_transform(file))\n",
    "        df = pd.concat([df,file],axis=0)\n",
    "        \n",
    "    return df"
   ]
  },
  {
   "cell_type": "code",
   "execution_count": 4,
   "id": "f74bbbd5",
   "metadata": {
    "scrolled": true
   },
   "outputs": [
    {
     "name": "stdout",
     "output_type": "stream",
     "text": [
      "          0         1         2         3         4         5         6    \\\n",
      "0    1.445618  0.990467  0.701348 -0.004310  0.236278  1.102975 -0.232459   \n",
      "1    0.959347  0.715512  0.565654 -0.943152  0.016501  0.667550 -0.184023   \n",
      "2    1.154111  0.704904 -0.489376 -1.712181 -0.202659 -0.033686 -0.145346   \n",
      "3   -3.413274  0.971430 -0.147868  0.580990  0.288136  0.372193 -0.261652   \n",
      "4   -0.791145 -2.434042  0.943899  1.019545  0.953569  0.012857  0.310088   \n",
      "..        ...       ...       ...       ...       ...       ...       ...   \n",
      "191  0.343101  0.859799 -1.941234  0.087504  0.746246  0.113462  1.357305   \n",
      "192  1.114237  0.236113 -0.479741  0.301721  1.023412  0.296969  1.649567   \n",
      "193  1.189122  0.589699  0.497831 -0.579472 -0.070269  0.342238  1.590384   \n",
      "194  0.595623  0.946161  5.468150 -0.750827 -1.842792 -0.169256  1.475946   \n",
      "195  0.826488 -0.235635  0.039296  0.543356 -1.129641 -0.963007  1.708010   \n",
      "\n",
      "          7         8         9    ...       246       247       248  \\\n",
      "0   -0.629699 -2.032348 -6.344594  ...  0.321461  0.098932 -0.299738   \n",
      "1   -0.264379 -0.465467 -0.939103  ...  0.129378  0.045207 -0.085579   \n",
      "2   -0.213809 -0.428730 -0.787130  ...  0.119060  0.054907 -0.051531   \n",
      "3   -0.275972 -0.597082 -0.910531  ...  0.083684  0.000496 -0.106497   \n",
      "4    0.204890  0.221644  0.392373  ...  0.478095  0.409508  0.366318   \n",
      "..        ...       ...       ...  ...       ...       ...       ...   \n",
      "191  0.106044 -3.358189 -5.080389  ...  1.272935  0.724596 -1.053265   \n",
      "192  0.979081 -1.383425 -4.188361  ...  1.443836  1.012191 -0.392633   \n",
      "193  0.781711 -1.704744 -4.349405  ...  1.488020  1.122026 -0.255386   \n",
      "194  0.540613 -2.138041 -4.407639  ...  1.495671  1.195701 -0.155529   \n",
      "195  0.886817 -1.690709 -3.458083  ...  1.622392  1.182130 -0.633008   \n",
      "\n",
      "          249       250       251       252       253       254       255  \n",
      "0   -0.895865 -1.483464  0.177707  0.950210 -1.259161  1.178089  0.425987  \n",
      "1   -0.149457 -0.105994  0.707601 -1.514513 -0.054239 -0.489667  0.872778  \n",
      "2   -0.095583 -0.098926 -0.488758 -0.102666 -0.911550 -0.645993 -0.337500  \n",
      "3   -0.168728 -0.141080  0.469664  1.282405 -0.180856 -0.141734  0.285159  \n",
      "4    0.261993  0.239052  0.829819 -1.193522  1.327372 -1.690997  0.845790  \n",
      "..        ...       ...       ...       ...       ...       ...       ...  \n",
      "191 -3.603931 -3.637946  0.226664  1.147872  0.035672 -0.720993  1.004224  \n",
      "192 -1.826322 -2.647110  0.973127  0.997018 -0.213685 -1.940851  0.387574  \n",
      "193 -1.782333 -2.836788  0.081490 -0.540350 -0.012018 -0.416222  1.326820  \n",
      "194 -1.581561 -3.001314 -1.479313 -1.269087 -0.733637 -0.976223 -0.990873  \n",
      "195 -2.816392 -2.328349 -2.152303 -2.049022 -2.107593  0.157868  0.106792  \n",
      "\n",
      "[7125 rows x 256 columns]\n"
     ]
    }
   ],
   "source": [
    "#Amplitude\n",
    "amplitudes = norm_data_frame(r\"csv_files/csv_amplitude/\",test_files)\n",
    "print(amplitudes)"
   ]
  },
  {
   "cell_type": "code",
   "execution_count": 5,
   "id": "71cf67cd",
   "metadata": {
    "scrolled": true
   },
   "outputs": [
    {
     "name": "stdout",
     "output_type": "stream",
     "text": [
      "[0.36229169 0.09165355 0.07867406 0.07150078 0.05554885 0.03126425\n",
      " 0.02508621]\n"
     ]
    }
   ],
   "source": [
    "pca_amplitude = PCA(0.70)\n",
    "\n",
    "training_amplitudes = amplitudes[:600]\n",
    "pca_amplitude.fit(training_amplitudes.values)\n",
    "\n",
    "print(pca_amplitude.explained_variance_ratio_)\n",
    "\n"
   ]
  },
  {
   "cell_type": "markdown",
   "id": "a5211ad2",
   "metadata": {},
   "source": [
    "# Transform Train Files After PCA"
   ]
  },
  {
   "cell_type": "code",
   "execution_count": 6,
   "id": "9ac3e229",
   "metadata": {},
   "outputs": [],
   "source": [
    "for name in test_files:\n",
    "    df = pd.read_csv(fr'csv_files/csv_amplitude/{name}.csv')\n",
    "    df = pd.DataFrame(StandardScaler().ﬁt_transform(df))\n",
    "    df = pd.DataFrame(pca_amplitude.transform(df.values))\n",
    "    df.to_csv(path_or_buf=fr\"pca/pca_csv _train/{name}.csv\",index=False)"
   ]
  },
  {
   "cell_type": "markdown",
   "id": "8bcfffaa",
   "metadata": {},
   "source": [
    "# Transform Every Amplitude File After PCA"
   ]
  },
  {
   "cell_type": "code",
   "execution_count": 7,
   "id": "870262ae",
   "metadata": {
    "scrolled": true
   },
   "outputs": [],
   "source": [
    "for name in filenames:\n",
    "    df = pd.read_csv(fr'csv_files/csv_amplitude/{name}.csv')\n",
    "    df = pd.DataFrame(StandardScaler().ﬁt_transform(df))\n",
    "    df = pd.DataFrame(pca_amplitude.transform(df.values))\n",
    "    df.to_csv(path_or_buf=fr\"pca/pca_csv_test/{name}.csv\",index=False)"
   ]
  }
 ],
 "metadata": {
  "kernelspec": {
   "display_name": "Python 3 (ipykernel)",
   "language": "python",
   "name": "python3"
  },
  "language_info": {
   "codemirror_mode": {
    "name": "ipython",
    "version": 3
   },
   "file_extension": ".py",
   "mimetype": "text/x-python",
   "name": "python",
   "nbconvert_exporter": "python",
   "pygments_lexer": "ipython3",
   "version": "3.9.10"
  }
 },
 "nbformat": 4,
 "nbformat_minor": 5
}

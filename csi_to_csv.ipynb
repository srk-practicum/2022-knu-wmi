{
 "cells": [
  {
   "cell_type": "code",
   "execution_count": 1,
   "metadata": {
    "collapsed": true
   },
   "outputs": [],
   "source": [
    "import os\n",
    "import pandas\n",
    "from CSIKit.reader import get_reader\n",
    "from CSIKit.util import csitools"
   ]
  },
  {
   "cell_type": "code",
   "execution_count": 9,
   "outputs": [],
   "source": [
    "\n",
    "# getting all dirs with pcap files\n",
    "dir_pcap = os.listdir(\"pcap_files_one_move\")\n",
    "# simple iteration of all dirs\n",
    "for i in dir_pcap:\n",
    "    # getting all files in every dir\n",
    "    files_list = os.listdir(f\"pcap_files_one_move/{i}\")\n",
    "    # making new dir with same name in dir \"csv_files_one_move\"\n",
    "    os.mkdir(f\"csv_files_one_move/{i}\")\n",
    "    # simple iteration of all files in this dir\n",
    "    for j in files_list:\n",
    "        # reading our file\n",
    "\n",
    "        my_reader = get_reader(f\"pcap_files_one_move/{i}/{j}\")\n",
    "        csi_data = my_reader.read_file(f\"pcap_files_one_move/{i}/{j}\")\n",
    "        # getting amplitude, no_frames and no_subcarriers\n",
    "        csi_amplitude, no_frames, no_subcarriers = csitools.get_CSI(csi_data, metric=\"amplitude\")\n",
    "        # making DataFrame\n",
    "        df = pandas.DataFrame(csi_amplitude.reshape(no_frames, no_subcarriers))\n",
    "        # making the same filename but with another file extension like \"blabla.csv\"\n",
    "        new_filename = j.split('.')[0] + \".csv\"\n",
    "        # making new file in changed directory\n",
    "        df.to_csv(f\"csv_files_one_move/{i}/{new_filename}\")\n"
   ],
   "metadata": {
    "collapsed": false,
    "pycharm": {
     "name": "#%%\n"
    }
   }
  },
  {
   "cell_type": "code",
   "execution_count": null,
   "outputs": [],
   "source": [],
   "metadata": {
    "collapsed": false,
    "pycharm": {
     "name": "#%%\n"
    }
   }
  }
 ],
 "metadata": {
  "kernelspec": {
   "display_name": "Python 3",
   "language": "python",
   "name": "python3"
  },
  "language_info": {
   "codemirror_mode": {
    "name": "ipython",
    "version": 2
   },
   "file_extension": ".py",
   "mimetype": "text/x-python",
   "name": "python",
   "nbconvert_exporter": "python",
   "pygments_lexer": "ipython2",
   "version": "2.7.6"
  }
 },
 "nbformat": 4,
 "nbformat_minor": 0
}
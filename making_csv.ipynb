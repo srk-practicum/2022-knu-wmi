{
 "cells": [
  {
   "cell_type": "code",
   "execution_count": 1,
   "metadata": {
    "collapsed": true
   },
   "outputs": [],
   "source": [
    "import os\n",
    "import pandas\n",
    "from CSIKit.reader import get_reader\n",
    "from CSIKit.util import csitools\n",
    "from math import *\n",
    "import csv"
   ]
  },
  {
   "cell_type": "code",
   "execution_count": 5,
   "outputs": [
    {
     "ename": "IndexError",
     "evalue": "only integers, slices (`:`), ellipsis (`...`), numpy.newaxis (`None`) and integer or boolean arrays are valid indices",
     "output_type": "error",
     "traceback": [
      "\u001B[1;31m---------------------------------------------------------------------------\u001B[0m",
      "\u001B[1;31mIndexError\u001B[0m                                Traceback (most recent call last)",
      "Input \u001B[1;32mIn [5]\u001B[0m, in \u001B[0;36m<module>\u001B[1;34m\u001B[0m\n\u001B[0;32m     30\u001B[0m     \u001B[38;5;28;01mfor\u001B[39;00m s \u001B[38;5;129;01min\u001B[39;00m \u001B[38;5;28mrange\u001B[39m(\u001B[38;5;28mlen\u001B[39m(lines[k])):\n\u001B[0;32m     31\u001B[0m         \u001B[38;5;28;01mif\u001B[39;00m lines[k][s]\u001B[38;5;241m!=\u001B[39m \u001B[38;5;241m-\u001B[39minf:\n\u001B[1;32m---> 32\u001B[0m             summa\u001B[38;5;241m+\u001B[39m\u001B[38;5;241m=\u001B[39m \u001B[38;5;28mint\u001B[39m(\u001B[43mlines\u001B[49m\u001B[43m[\u001B[49m\u001B[43mk\u001B[49m\u001B[43m]\u001B[49m\u001B[43m[\u001B[49m\u001B[43mj\u001B[49m\u001B[43m]\u001B[49m)\n\u001B[0;32m     33\u001B[0m             counter \u001B[38;5;241m+\u001B[39m\u001B[38;5;241m=\u001B[39m\u001B[38;5;241m1\u001B[39m\n\u001B[0;32m     34\u001B[0m median  \u001B[38;5;241m=\u001B[39m summa\u001B[38;5;241m/\u001B[39mcounter\n",
      "\u001B[1;31mIndexError\u001B[0m: only integers, slices (`:`), ellipsis (`...`), numpy.newaxis (`None`) and integer or boolean arrays are valid indices"
     ]
    }
   ],
   "source": [
    "\n",
    "# getting all dirs with pcap files\n",
    "dir_pcap = os.listdir(\"pcap_files\")\n",
    "# simple iteration of all dirs\n",
    "for i in dir_pcap:\n",
    "    # getting all files in every dir\n",
    "    files_list = os.listdir(f\"pcap_files/{i}\")\n",
    "    # making new dir with same name in dir \"csv_files_one_move\"\n",
    "    os.mkdir(f\"csv_files/{i}\")\n",
    "    # simple iteration of all files in this dir\n",
    "    for j in files_list:\n",
    "        # reading our file\n",
    "\n",
    "        my_reader = get_reader(f\"pcap_files/{i}/{j}\")\n",
    "        csi_data = my_reader.read_file(f\"pcap_files/{i}/{j}\")\n",
    "        # getting amplitude, no_frames and no_subcarriers\n",
    "        csi_amplitude, no_frames, no_subcarriers = csitools.get_CSI(csi_data, metric=\"amplitude\")\n",
    "        # making DataFrame\n",
    "        df = pandas.DataFrame(csi_amplitude.reshape(no_frames, no_subcarriers))\n",
    "        # making the same filename but with another file extension like \"blabla.csv\"\n",
    "        new_filename = j.split('.')[0] + \".csv\"\n",
    "        # making new file in changed directory\n",
    "        df.to_csv(f\"csv_files/{i}/{new_filename}\")\n",
    "\n",
    "\n"
   ],
   "metadata": {
    "collapsed": false,
    "pycharm": {
     "name": "#%%\n"
    }
   }
  },
  {
   "cell_type": "code",
   "execution_count": null,
   "outputs": [],
   "source": [],
   "metadata": {
    "collapsed": false,
    "pycharm": {
     "name": "#%%\n"
    }
   }
  }
 ],
 "metadata": {
  "kernelspec": {
   "display_name": "Python 3",
   "language": "python",
   "name": "python3"
  },
  "language_info": {
   "codemirror_mode": {
    "name": "ipython",
    "version": 2
   },
   "file_extension": ".py",
   "mimetype": "text/x-python",
   "name": "python",
   "nbconvert_exporter": "python",
   "pygments_lexer": "ipython2",
   "version": "2.7.6"
  }
 },
 "nbformat": 4,
 "nbformat_minor": 0
}
{
 "cells": [
  {
   "cell_type": "markdown",
   "id": "77358816",
   "metadata": {},
   "source": [
    "# Imports:"
   ]
  },
  {
   "cell_type": "code",
   "execution_count": 2,
   "id": "278dc621",
   "metadata": {},
   "outputs": [],
   "source": [
    "from CSIKit.reader import get_reader\n",
    "from CSIKit.util import csitools\n",
    "import numpy as np\n",
    "import pandas as pd\n",
    "from os import listdir\n",
    "from os.path import isfile, join"
   ]
  },
  {
   "cell_type": "markdown",
   "id": "8c120997",
   "metadata": {},
   "source": [
    "# All File names from directory : "
   ]
  },
  {
   "cell_type": "code",
   "execution_count": 6,
   "id": "fc283f1c",
   "metadata": {
    "scrolled": true
   },
   "outputs": [],
   "source": [
    "#internet dataset\n",
    "#mypath = r\"data/\"\n",
    "mypath = r\"pcap_files/\"\n",
    "file_names = [f.split(\".\")[0] for f in listdir(mypath) if isfile(join(mypath, f))]"
   ]
  },
  {
   "cell_type": "markdown",
   "id": "1ca569ad",
   "metadata": {},
   "source": [
    "# Replace inf rows, inf numbers and convert pcap to csv amplitudes files :"
   ]
  },
  {
   "cell_type": "code",
   "execution_count": 7,
   "id": "8257d238",
   "metadata": {
    "scrolled": false
   },
   "outputs": [],
   "source": [
    "for name in file_names:\n",
    "    my_reader = get_reader(mypath + f\"{name}.pcap\")\n",
    "    csi_data = my_reader.read_file(mypath + f\"{name}.pcap\", scaled=True)\n",
    "    csi_matrix, no_frames, no_subcarriers = csitools.get_CSI(csi_data, metric=\"amplitude\")\n",
    "    arr = csi_matrix[:,:,0,0]\n",
    "    \n",
    "    indx = []\n",
    "    for count,i in enumerate(arr):\n",
    "        if len(set(i.flat)) == 1:\n",
    "            indx.append(count)\n",
    "        else:\n",
    "            arr[count] = np.where(i == -np.inf, np.ma.masked_invalid(i).mean(),i)\n",
    "            \n",
    "    arr = np.delete(arr,indx,axis=0)\n",
    "    df = pd.DataFrame(arr)\n",
    "    df.to_csv(path_or_buf = fr\"csv_files/csv_amplitude/{name}.csv\" , index = False)"
   ]
  }
 ],
 "metadata": {
  "kernelspec": {
   "display_name": "Python 3 (ipykernel)",
   "language": "python",
   "name": "python3"
  },
  "language_info": {
   "codemirror_mode": {
    "name": "ipython",
    "version": 3
   },
   "file_extension": ".py",
   "mimetype": "text/x-python",
   "name": "python",
   "nbconvert_exporter": "python",
   "pygments_lexer": "ipython3",
   "version": "3.9.10"
  }
 },
 "nbformat": 4,
 "nbformat_minor": 5
}

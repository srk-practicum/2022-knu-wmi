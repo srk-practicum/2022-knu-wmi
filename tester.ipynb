{
 "cells": [
  {
   "cell_type": "code",
   "execution_count": 2,
   "outputs": [],
   "source": [
    "import sys\n",
    "import pandas\n",
    "import pylab as pl\n",
    "from sklearn import preprocessing\n",
    "from sklearn.decomposition import PCA"
   ],
   "metadata": {
    "collapsed": false,
    "pycharm": {
     "name": "#%%\n"
    }
   }
  },
  {
   "cell_type": "code",
   "execution_count": 11,
   "outputs": [
    {
     "name": "stdout",
     "output_type": "stream",
     "text": [
      "[[ -5.73907952  -2.70616049   0.64489984   6.50863272   1.13972646]\n",
      " [  1.49049854  -2.53820063  -9.95825273  -5.2743355  -14.68292667]\n",
      " [ -0.84739986   1.42729856   5.1309092    3.08514514   0.5048727 ]\n",
      " ...\n",
      " [  3.4924695  -12.17252253  -9.53918631   0.5153871    0.81599874]\n",
      " [ 19.03564388   4.29771098   3.19983635   4.2587259    2.58481665]\n",
      " [  7.84441595  -8.62420489   9.55261079 -13.05393593  -5.36662455]]\n",
      "explained variance ratio (first two components): [0.13953848 0.10301375 0.05963559 0.05444141 0.05122586]\n"
     ]
    },
    {
     "ename": "AttributeError",
     "evalue": "'tuple' object has no attribute 'plot'",
     "output_type": "error",
     "traceback": [
      "\u001B[1;31m---------------------------------------------------------------------------\u001B[0m",
      "\u001B[1;31mAttributeError\u001B[0m                            Traceback (most recent call last)",
      "Input \u001B[1;32mIn [11]\u001B[0m, in \u001B[0;36m<module>\u001B[1;34m\u001B[0m\n\u001B[0;32m     54\u001B[0m \tpl\u001B[38;5;241m.\u001B[39mshow()\n\u001B[0;32m     57\u001B[0m \u001B[38;5;28;01mif\u001B[39;00m \u001B[38;5;18m__name__\u001B[39m \u001B[38;5;241m==\u001B[39m \u001B[38;5;124m'\u001B[39m\u001B[38;5;124m__main__\u001B[39m\u001B[38;5;124m'\u001B[39m:\n\u001B[1;32m---> 58\u001B[0m \t\u001B[43mmain\u001B[49m\u001B[43m(\u001B[49m\u001B[43m)\u001B[49m\n",
      "Input \u001B[1;32mIn [11]\u001B[0m, in \u001B[0;36mmain\u001B[1;34m()\u001B[0m\n\u001B[0;32m     16\u001B[0m ydata \u001B[38;5;241m=\u001B[39m encoder\u001B[38;5;241m.\u001B[39mtransform(ylabels)\n\u001B[0;32m     17\u001B[0m target_names \u001B[38;5;241m=\u001B[39m encoder\u001B[38;5;241m.\u001B[39mclasses_\n\u001B[1;32m---> 18\u001B[0m \u001B[43mplotpca\u001B[49m\u001B[43m(\u001B[49m\u001B[43mxdata\u001B[49m\u001B[43m,\u001B[49m\u001B[43m \u001B[49m\u001B[43mydata\u001B[49m\u001B[43m,\u001B[49m\u001B[43m \u001B[49m\u001B[43mtarget_names\u001B[49m\u001B[43m,\u001B[49m\u001B[43m \u001B[49m\u001B[43mlabels\u001B[49m\u001B[43m,\u001B[49m\u001B[43m \u001B[49m\u001B[43mcsvfile\u001B[49m\u001B[43m)\u001B[49m\n",
      "Input \u001B[1;32mIn [11]\u001B[0m, in \u001B[0;36mplotpca\u001B[1;34m(xdata, ydata, target_names, items, filename)\u001B[0m\n\u001B[0;32m     34\u001B[0m \u001B[38;5;66;03m# NB: a maximum of 7 targets will be plotted\u001B[39;00m\n\u001B[0;32m     35\u001B[0m \u001B[38;5;28;01mfor\u001B[39;00m i, (c, m, target_name) \u001B[38;5;129;01min\u001B[39;00m \u001B[38;5;28menumerate\u001B[39m(\u001B[38;5;28mzip\u001B[39m(\n\u001B[0;32m     36\u001B[0m \t\t\u001B[38;5;124m'\u001B[39m\u001B[38;5;124mrbmkycg\u001B[39m\u001B[38;5;124m'\u001B[39m, \u001B[38;5;124m'\u001B[39m\u001B[38;5;124mo^s*v+x\u001B[39m\u001B[38;5;124m'\u001B[39m, target_names)):\n\u001B[1;32m---> 37\u001B[0m \t\u001B[43m(\u001B[49m\u001B[43mcomponents\u001B[49m\u001B[43m[\u001B[49m\u001B[43mydata\u001B[49m\u001B[43m \u001B[49m\u001B[38;5;241;43m==\u001B[39;49m\u001B[43m \u001B[49m\u001B[43mi\u001B[49m\u001B[43m,\u001B[49m\u001B[43m \u001B[49m\u001B[38;5;241;43m0\u001B[39;49m\u001B[43m]\u001B[49m\u001B[43m,\u001B[49m\u001B[43m \u001B[49m\u001B[43mcomponents\u001B[49m\u001B[43m[\u001B[49m\u001B[43mydata\u001B[49m\u001B[43m \u001B[49m\u001B[38;5;241;43m==\u001B[39;49m\u001B[43m \u001B[49m\u001B[43mi\u001B[49m\u001B[43m,\u001B[49m\u001B[43m \u001B[49m\u001B[38;5;241;43m1\u001B[39;49m\u001B[43m]\u001B[49m\n\u001B[0;32m     38\u001B[0m \u001B[43m\t\t\t\u001B[49m\u001B[43m)\u001B[49m\u001B[38;5;241;43m.\u001B[39;49m\u001B[43mplot\u001B[49m\u001B[38;5;241m.\u001B[39mline(color\u001B[38;5;241m=\u001B[39mc, label\u001B[38;5;241m=\u001B[39mtarget_name)\n\u001B[0;32m     39\u001B[0m \t\u001B[38;5;28;01mfor\u001B[39;00m n, x, y \u001B[38;5;129;01min\u001B[39;00m \u001B[38;5;28mzip\u001B[39m(\n\u001B[0;32m     40\u001B[0m \t\t\t(ydata \u001B[38;5;241m==\u001B[39m i)\u001B[38;5;241m.\u001B[39mnonzero()[\u001B[38;5;241m0\u001B[39m],\n\u001B[0;32m     41\u001B[0m \t\t\tcomponents[ydata \u001B[38;5;241m==\u001B[39m i, \u001B[38;5;241m0\u001B[39m],\n\u001B[0;32m     42\u001B[0m \t\t\tcomponents[ydata \u001B[38;5;241m==\u001B[39m i, \u001B[38;5;241m1\u001B[39m]):\n\u001B[0;32m     43\u001B[0m \t\tpl\u001B[38;5;241m.\u001B[39mannotate(\n\u001B[0;32m     44\u001B[0m \t\t\t\titems[n],\n\u001B[0;32m     45\u001B[0m \t\t\t\txy\u001B[38;5;241m=\u001B[39m(x, y),\n\u001B[1;32m   (...)\u001B[0m\n\u001B[0;32m     50\u001B[0m \t\t\t\tha\u001B[38;5;241m=\u001B[39m\u001B[38;5;124m'\u001B[39m\u001B[38;5;124mleft\u001B[39m\u001B[38;5;124m'\u001B[39m,\n\u001B[0;32m     51\u001B[0m \t\t\t\tva\u001B[38;5;241m=\u001B[39m\u001B[38;5;124m'\u001B[39m\u001B[38;5;124mtop\u001B[39m\u001B[38;5;124m'\u001B[39m)\n",
      "\u001B[1;31mAttributeError\u001B[0m: 'tuple' object has no attribute 'plot'"
     ]
    },
    {
     "data": {
      "text/plain": "<Figure size 432x288 with 0 Axes>"
     },
     "metadata": {},
     "output_type": "display_data"
    }
   ],
   "source": [
    "\n",
    "def main():\n",
    "\t\"\"\"Load data.\"\"\"\n",
    "\ttry:\n",
    "\t\tcsvfile = \"csv_test/walking_along/walking_along_1.csv\"\n",
    "\texcept IndexError:\n",
    "\t\tprint ('%s\\n\\nUsage: %s [--3d] <csv_files_one_move/hand_move_up_one_move/hand_move_up_1.csv>' % (__doc__, sys.argv[0]))\n",
    "\t\treturn\n",
    "\tdata = pandas.read_csv(csvfile, index_col=(0, 1))\n",
    "\n",
    "\t# first column provides labels\n",
    "\tylabels = [a for a, _ in data.index]\n",
    "\tlabels = [text for _, text in data.index]\n",
    "\tencoder = preprocessing.LabelEncoder().fit(ylabels)\n",
    "\n",
    "\txdata = data.values\n",
    "\tydata = encoder.transform(ylabels)\n",
    "\ttarget_names = encoder.classes_\n",
    "\tplotpca(xdata, ydata, target_names, labels, csvfile)\n",
    "\n",
    "\n",
    "def plotpca(xdata, ydata, target_names, items, filename):\n",
    "\t\"\"\"Make plot.\"\"\"\n",
    "\tpca = PCA(n_components=5)\n",
    "\tcomponents = pca.fit(xdata).transform(xdata)\n",
    "\tprint(components)\n",
    "\n",
    "\t# Percentage of variance explained for each components\n",
    "\tprint('explained variance ratio (first two components):',\n",
    "\t\t\tpca.explained_variance_ratio_)\n",
    "\n",
    "\tpl.figure()  # Make a plotting figure\n",
    "\tpl.subplots_adjust(bottom=0.1)\n",
    "\n",
    "\t# NB: a maximum of 7 targets will be plotted\n",
    "\tfor i, (c, m, target_name) in enumerate(zip(\n",
    "\t\t\t'rbmkycg', 'o^s*v+x', target_names)):\n",
    "\t\tpl.scatter(components[ydata == i, 0], components[ydata == i, 1],\n",
    "\t\t\t\tcolor=c, label=target_name)\n",
    "\t\tfor n, x, y in zip(\n",
    "\t\t\t\t(ydata == i).nonzero()[0],\n",
    "\t\t\t\tcomponents[ydata == i, 0],\n",
    "\t\t\t\tcomponents[ydata == i, 1]):\n",
    "\t\t\tpl.annotate(\n",
    "\t\t\t\t\titems[n],\n",
    "\t\t\t\t\txy=(x, y),\n",
    "\t\t\t\t\txytext=(5, 5),\n",
    "\t\t\t\t\t# textcoords='offset points',\n",
    "\t\t\t\t\tcolor=c,\n",
    "\t\t\t\t\tfontsize='small',\n",
    "\t\t\t\t\tha='left',\n",
    "\t\t\t\t\tva='top')\n",
    "\tpl.legend()\n",
    "\tpl.title('PCA of %s' % filename)\n",
    "\tpl.show()\n",
    "\n",
    "\n",
    "if __name__ == '__main__':\n",
    "\tmain()"
   ],
   "metadata": {
    "collapsed": false,
    "pycharm": {
     "name": "#%%\n"
    }
   }
  },
  {
   "cell_type": "code",
   "execution_count": null,
   "outputs": [],
   "source": [],
   "metadata": {
    "collapsed": false,
    "pycharm": {
     "name": "#%%\n"
    }
   }
  }
 ],
 "metadata": {
  "kernelspec": {
   "display_name": "Python 3",
   "language": "python",
   "name": "python3"
  },
  "language_info": {
   "codemirror_mode": {
    "name": "ipython",
    "version": 2
   },
   "file_extension": ".py",
   "mimetype": "text/x-python",
   "name": "python",
   "nbconvert_exporter": "python",
   "pygments_lexer": "ipython2",
   "version": "2.7.6"
  }
 },
 "nbformat": 4,
 "nbformat_minor": 0
}
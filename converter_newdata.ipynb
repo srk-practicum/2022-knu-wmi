{
 "cells": [
  {
   "cell_type": "markdown",
   "id": "universal-episode",
   "metadata": {},
   "source": [
    "### For this experiment were used files from https://zenodo.org/record/5616432#.YdWfOiyxV24"
   ]
  },
  {
   "cell_type": "code",
   "execution_count": 1,
   "id": "robust-profession",
   "metadata": {},
   "outputs": [],
   "source": [
    "from CSIKit.reader import get_reader\n",
    "from CSIKit.util import csitools\n",
    "import matplotlib.pyplot as plt\n",
    "import pandas as pd\n",
    "import numpy as np\n",
    "import os"
   ]
  },
  {
   "cell_type": "code",
   "execution_count": 2,
   "id": "particular-sound",
   "metadata": {},
   "outputs": [],
   "source": [
    "filenames = ['brushteeth_', 'cook_', 'drink_', 'getintobed_', 'nothing_', 'sitdown_chair_', 'sitdown_sofa_', 'sleeping_', \n",
    "             'standup_chair_', 'standup_sofa_', 'walk_', 'washingdishes_']"
   ]
  },
  {
   "cell_type": "code",
   "execution_count": 10,
   "id": "unauthorized-legislature",
   "metadata": {},
   "outputs": [
    {
     "name": "stdout",
     "output_type": "stream",
     "text": [
      "data_csi/brushteeth_ done\n",
      "data_csi/cook_ done\n",
      "data_csi/drink_ done\n",
      "data_csi/getintobed_ done\n",
      "data_csi/nothing_ done\n",
      "data_csi/sitdown_chair_ done\n",
      "data_csi/sitdown_sofa_ done\n",
      "data_csi/sleeping_ done\n",
      "data_csi/standup_chair_ done\n",
      "data_csi/standup_sofa_ done\n",
      "data_csi/walk_ done\n",
      "data_csi/washingdishes_ done\n"
     ]
    }
   ],
   "source": [
    "for filename in filenames:\n",
    "    for num in range(1, 31):\n",
    "        with open(f'data_csv/{filename} ({num}).csv', 'w') as file:\n",
    "            my_reader = get_reader(fr'data_csi/{filename} ({num}).pcap')\n",
    "            csi_data = my_reader.read_file(fr'data_csi/{filename} ({num}).pcap')\n",
    "            csi_amplitude, no_frames, no_subcarriers = csitools.get_CSI(csi_data, metric=\"amplitude\")\n",
    "            df = pd.DataFrame(csi_amplitude.reshape(no_frames, no_subcarriers))\n",
    "            df.to_csv(file, index=False)\n",
    "    print(f'data_csi/{filename} done')"
   ]
  },
  {
   "cell_type": "code",
   "execution_count": null,
   "id": "recent-bidder",
   "metadata": {},
   "outputs": [],
   "source": []
  }
 ],
 "metadata": {
  "kernelspec": {
   "display_name": "Python 3",
   "language": "python",
   "name": "python3"
  },
  "language_info": {
   "codemirror_mode": {
    "name": "ipython",
    "version": 3
   },
   "file_extension": ".py",
   "mimetype": "text/x-python",
   "name": "python",
   "nbconvert_exporter": "python",
   "pygments_lexer": "ipython3",
   "version": "3.9.2"
  }
 },
 "nbformat": 4,
 "nbformat_minor": 5
}

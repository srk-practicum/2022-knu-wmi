{
 "cells": [
  {
   "cell_type": "code",
   "execution_count": 6,
   "metadata": {
    "collapsed": true
   },
   "outputs": [],
   "source": [
    "import sys\n",
    "import pandas\n",
    "import pylab as pl\n",
    "from sklearn import preprocessing\n",
    "from sklearn.decomposition import PCA\n",
    "import csv"
   ]
  },
  {
   "cell_type": "code",
   "execution_count": 8,
   "outputs": [
    {
     "name": "stdout",
     "output_type": "stream",
     "text": [
      "[[-3.55438282e+01  8.67396043e+00 -8.84093559e+00 -3.46916563e+00\n",
      "   1.86507810e+00]\n",
      " [-3.75841151e+01 -1.03831577e+01 -2.74774246e+00 -1.32602834e+00\n",
      "  -1.08348611e+00]\n",
      " [-3.73383582e+01 -2.09764742e+01  8.60068071e+00 -2.98917430e-01\n",
      "  -4.72907596e+00]\n",
      " ...\n",
      " [ 3.93837665e+02 -4.37261275e+00  1.17723888e+01  3.93626463e+00\n",
      "   3.98752880e+00]\n",
      " [-3.43786479e+01 -4.78327405e+00  4.58864943e+00 -6.88463126e-01\n",
      "   8.41009539e-01]\n",
      " [ 6.55755872e+01  1.38224252e+02  1.37365131e+02  7.72462919e+01\n",
      "   2.48845053e+01]]\n",
      "explained variance ratio (first two components): [0.86381459 0.01409872 0.01258857 0.00996098 0.00379846]\n"
     ]
    }
   ],
   "source": [
    "def main():\n",
    "\t\"\"\"Load data.\"\"\"\n",
    "\tcsvfile = \"csv_files/brushteeth/brushteeth_1591629178.csv\"\n",
    "\tdata = pandas.read_csv(csvfile, index_col=(0, 1))\n",
    "\t# first column provides labels\n",
    "\txdata = data.values\n",
    "\tpca = PCA(n_components=5)\n",
    "\tcomponents = pca.fit(xdata).transform(xdata)\n",
    "\tprint(components)\n",
    "\t# Percentage of variance explained for each components\n",
    "\tprint('explained variance ratio (first two components):',\n",
    "\t\t\tpca.explained_variance_ratio_)\n",
    "\twriter = csv.writer(open(\"csvfile_pca.csv\", 'w'))\n",
    "\twriter.writerows(components)\n",
    "if __name__ == '__main__':\n",
    "    main()\n",
    "\n"
   ],
   "metadata": {
    "collapsed": false,
    "pycharm": {
     "name": "#%%\n"
    }
   }
  },
  {
   "cell_type": "code",
   "execution_count": null,
   "outputs": [],
   "source": [],
   "metadata": {
    "collapsed": false,
    "pycharm": {
     "name": "#%%\n"
    }
   }
  }
 ],
 "metadata": {
  "kernelspec": {
   "display_name": "Python 3",
   "language": "python",
   "name": "python3"
  },
  "language_info": {
   "codemirror_mode": {
    "name": "ipython",
    "version": 2
   },
   "file_extension": ".py",
   "mimetype": "text/x-python",
   "name": "python",
   "nbconvert_exporter": "python",
   "pygments_lexer": "ipython2",
   "version": "2.7.6"
  }
 },
 "nbformat": 4,
 "nbformat_minor": 0
}
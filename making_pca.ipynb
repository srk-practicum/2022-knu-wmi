{
 "cells": [
  {
   "cell_type": "code",
   "execution_count": 2,
   "metadata": {
    "collapsed": true,
    "pycharm": {
     "name": "#%%\n"
    }
   },
   "outputs": [],
   "source": [
    "import numpy as np\n",
    "import pandas as pd\n",
    "import os\n",
    "from sklearn.preprocessing import StandardScaler\n",
    "from sklearn.decomposition import PCA\n",
    "import seaborn as sns\n",
    "import matplotlib.pyplot as plt"
   ]
  },
  {
   "cell_type": "code",
   "execution_count": 3,
   "outputs": [],
   "source": [
    "training_files = os.listdir(\"csv_training\")\n",
    "testing_files = os.listdir(\"csv_testing\")\n",
    "train_list = []\n",
    "test_list = []\n",
    "for dir in training_files:\n",
    "    for file in os.listdir(f\"csv_training/{dir}\"):\n",
    "        df = pd.read_csv(f'csv_training/{dir}/{file}')\n",
    "        df.replace([np.inf, -np.inf], np.nan, inplace=True)\n",
    "        df.replace(np.nan, df.mean().mean(), inplace=True)\n",
    "        train_list.append(df)\n",
    "        # df.to_csv(f'training_csv/{file}', index=False)\n",
    "        # print(f'csv_training_not_converted/{file}')\n",
    "\n",
    "for dir in testing_files:\n",
    "        for file in os.listdir(f\"csv_testing/{dir}\"):\n",
    "            df = pd.read_csv(f'csv_testing/{dir}/{file}')\n",
    "            df.replace([np.inf, -np.inf], np.nan, inplace=True)\n",
    "            df.replace(np.nan, df.mean().mean(), inplace=True)\n",
    "            test_list.append(df)\n",
    "            # df.to_csv(f'test_csv/{file}', index=False)\n",
    "            # print(f'csv_testing_not_converted/{file}')\n"
   ],
   "metadata": {
    "collapsed": false,
    "pycharm": {
     "name": "#%%\n"
    }
   }
  },
  {
   "cell_type": "code",
   "execution_count": 5,
   "outputs": [],
   "source": [
    "train_list_norm = []\n",
    "scaler = StandardScaler()\n",
    "for file in train_list:\n",
    "    df_norm = pd.DataFrame(scaler.fit_transform(file), columns = file.columns)\n",
    "    train_list_norm.append(df_norm)\n",
    "test_list_norm = []\n",
    "for file in test_list:\n",
    "    df_norm = pd.DataFrame(scaler.fit_transform(file), columns = file.columns)\n",
    "    test_list_norm.append(df_norm)\n"
   ],
   "metadata": {
    "collapsed": false,
    "pycharm": {
     "name": "#%%\n"
    }
   }
  },
  {
   "cell_type": "code",
   "execution_count": 6,
   "outputs": [],
   "source": [
    "concat_train_list_norm = pd.concat(train_list_norm)\n",
    "concat_test_list_norm = pd.concat(test_list_norm)\n"
   ],
   "metadata": {
    "collapsed": false,
    "pycharm": {
     "name": "#%%\n"
    }
   }
  },
  {
   "cell_type": "code",
   "execution_count": 16,
   "outputs": [
    {
     "name": "stdout",
     "output_type": "stream",
     "text": [
      "[0.68605177 0.07356717 0.01999913 0.01485909 0.00878563]\n",
      "5\n"
     ]
    }
   ],
   "source": [
    "pca = PCA(n_components=5)\n",
    "pca.fit(concat_train_list_norm)\n",
    "print(pca.explained_variance_ratio_)\n",
    "print(len(pca.explained_variance_ratio_))"
   ],
   "metadata": {
    "collapsed": false,
    "pycharm": {
     "name": "#%%\n"
    }
   }
  },
  {
   "cell_type": "code",
   "execution_count": 18,
   "outputs": [
    {
     "name": "stdout",
     "output_type": "stream",
     "text": [
      "folder with pca data is created\n"
     ]
    }
   ],
   "source": [
    "for  dir in os.listdir('csv_training'):\n",
    "    os.mkdir(f\"training_PCA/{dir}\")\n",
    "    for ind,file in enumerate(os.listdir(f\"csv_training/{dir}\")):\n",
    "\n",
    "        df_pca = pd.DataFrame(pca.transform(train_list_norm[ind]))\n",
    "        df_pca.to_csv(f\"training_PCA/{dir}/{file}\", index=False)\n",
    "\n",
    "print('folder with pca data is created')"
   ],
   "metadata": {
    "collapsed": false,
    "pycharm": {
     "name": "#%%\n"
    }
   }
  },
  {
   "cell_type": "code",
   "execution_count": 7,
   "outputs": [
    {
     "name": "stdout",
     "output_type": "stream",
     "text": [
      "[0.68914307 0.07460838 0.0182705  0.01279185 0.00844192]\n",
      "5\n",
      "folder with pca data is created\n"
     ]
    }
   ],
   "source": [
    "pca = PCA(n_components=5)\n",
    "pca.fit(concat_test_list_norm)\n",
    "print(pca.explained_variance_ratio_)\n",
    "print(len(pca.explained_variance_ratio_))\n",
    "for  dir in os.listdir('csv_testing'):\n",
    "    os.mkdir(f\"testing_PCA/{dir}\")\n",
    "    for ind,file in enumerate(os.listdir(f\"csv_testing/{dir}\")):\n",
    "        df_pca = pd.DataFrame(pca.transform(test_list_norm[ind]))\n",
    "        df_pca.to_csv(f\"testing_PCA/{dir}/{file}\", index=False)\n",
    "\n",
    "print('folder with pca data is created')"
   ],
   "metadata": {
    "collapsed": false,
    "pycharm": {
     "name": "#%%\n"
    }
   }
  }
 ],
 "metadata": {
  "kernelspec": {
   "display_name": "Python 3",
   "language": "python",
   "name": "python3"
  },
  "language_info": {
   "codemirror_mode": {
    "name": "ipython",
    "version": 2
   },
   "file_extension": ".py",
   "mimetype": "text/x-python",
   "name": "python",
   "nbconvert_exporter": "python",
   "pygments_lexer": "ipython2",
   "version": "2.7.6"
  }
 },
 "nbformat": 4,
 "nbformat_minor": 0
}
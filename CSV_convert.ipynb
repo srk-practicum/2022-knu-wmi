{
 "cells": [
  {
   "cell_type": "code",
   "execution_count": null,
   "metadata": {
    "collapsed": true,
    "pycharm": {
     "name": "#%%\n"
    }
   },
   "outputs": [],
   "source": [
    "from CSIKit.tools.convert_csv import generate_csv"
   ]
  },
  {
   "cell_type": "code",
   "execution_count": null,
   "outputs": [],
   "source": [
    "def convert_pcap_to_csv(inp):\n",
    "    infile = \"csi_tests_pcap/\" + inp\n",
    "    inp = inp.replace(\"pcap\",\"csv\")\n",
    "    outfile = \"csi_tests_csv/\" + inp\n",
    "    generate_csv(infile, outfile, \"amplitude\")"
   ],
   "metadata": {
    "collapsed": false,
    "pycharm": {
     "name": "#%%\n"
    }
   }
  },
  {
   "cell_type": "code",
   "execution_count": null,
   "outputs": [],
   "source": [
    "file_names = [\"Falldown_\", \"Hand_circle_\", \"Hand_move_up_\",\"Nothing_\",\n",
    "              \"Smoking_\", \"Walking_along_\", \"Walking_Perpendicular_\"]\n",
    "\n",
    "for i in file_names:\n",
    "    for j in range(1,16):\n",
    "        file_name = i + str(j) + \".pcap\"\n",
    "        convert_pcap_to_csv(file_name)"
   ],
   "metadata": {
    "collapsed": false,
    "pycharm": {
     "name": "#%%\n"
    }
   }
  }
 ],
 "metadata": {
  "kernelspec": {
   "display_name": "Python 3",
   "language": "python",
   "name": "python3"
  },
  "language_info": {
   "codemirror_mode": {
    "name": "ipython",
    "version": 2
   },
   "file_extension": ".py",
   "mimetype": "text/x-python",
   "name": "python",
   "nbconvert_exporter": "python",
   "pygments_lexer": "ipython2",
   "version": "2.7.6"
  },
  "pycharm": {
   "stem_cell": {
    "cell_type": "raw",
    "source": [
     "### Converting to csv\n"
    ],
    "metadata": {
     "collapsed": false
    }
   }
  }
 },
 "nbformat": 4,
 "nbformat_minor": 0
}